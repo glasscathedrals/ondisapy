{
 "cells": [
  {
   "cell_type": "markdown",
   "metadata": {},
   "source": [
    "<center><img src=\"img/logo1.png\" height=\"400\" width=\"400\"></center>"
   ]
  },
  {
   "cell_type": "markdown",
   "metadata": {},
   "source": [
    "<div style=\"text-align:center\"><b>Por Geraldo Maciel e Mateus Barbosa</b></div>"
   ]
  },
  {
   "cell_type": "markdown",
   "metadata": {},
   "source": [
    "---"
   ]
  },
  {
   "cell_type": "markdown",
   "metadata": {},
   "source": [
    "#### 1. Importação inicial"
   ]
  },
  {
   "cell_type": "markdown",
   "metadata": {},
   "source": [
    "<div style=\"text-align:left\">Esta célula sempre deverá ser executada inicialmente.<br>É ela a responsável por importar o código-fonte do módulo a ser utilizado.</div>"
   ]
  },
  {
   "cell_type": "code",
   "execution_count": null,
   "metadata": {},
   "outputs": [],
   "source": [
    "import sys\n",
    "import os\n",
    "\n",
    "sys.path.insert(0, os.path.join(os.path.dirname(os.getcwd()), 'scripts'))\n",
    "\n",
    "from winddata import *"
   ]
  },
  {
   "cell_type": "markdown",
   "metadata": {},
   "source": [
    "---"
   ]
  },
  {
   "cell_type": "markdown",
   "metadata": {},
   "source": [
    "#### 2. Criação e importação de projetos"
   ]
  },
  {
   "cell_type": "code",
   "execution_count": null,
   "metadata": {},
   "outputs": [],
   "source": [
    "widgets_main = WidgetsMain()\n",
    "widgets_main.display()"
   ]
  },
  {
   "cell_type": "markdown",
   "metadata": {},
   "source": [
    "---"
   ]
  },
  {
   "cell_type": "markdown",
   "metadata": {},
   "source": [
    "#### 3. Importação e seleção de ajustes de cálculo para geração de imagens de dados tratados de vento"
   ]
  },
  {
   "cell_type": "code",
   "execution_count": null,
   "metadata": {
    "scrolled": false
   },
   "outputs": [],
   "source": [
    "widgets_wind_data = WidgetsWindData()\n",
    "widgets_wind_data.display()"
   ]
  },
  {
   "cell_type": "markdown",
   "metadata": {},
   "source": [
    "---"
   ]
  },
  {
   "cell_type": "markdown",
   "metadata": {},
   "source": [
    "#### 3.1. Geração de dados tratados e imagens de rosa de ventos, frequências e distribuição de classes de dados tratados de vento (CSAT3)"
   ]
  },
  {
   "cell_type": "code",
   "execution_count": null,
   "metadata": {
    "scrolled": false
   },
   "outputs": [],
   "source": [
    "csat3_dataframe = widgets_wind_data.csat3_wind_data_dataframe(widgets_wind_data.csat3_wind_data, widgets_main.project_dirs)\n",
    "csat3_windrose = widgets_wind_data.csat3_wind_data_windrose(csat3_dataframe, widgets_main.project_dirs)\n",
    "widgets_wind_data.csat3_wind_frequencies(csat3_windrose, widgets_main.project_dirs)\n",
    "widgets_wind_data.csat3_wind_stats(csat3_dataframe, csat3_windrose, widgets_main.project_dirs)\n",
    "widgets_wind_data.csat3_wind_bins(csat3_dataframe, csat3_windrose, widgets_main.project_dirs)"
   ]
  },
  {
   "cell_type": "markdown",
   "metadata": {},
   "source": [
    "---"
   ]
  },
  {
   "cell_type": "markdown",
   "metadata": {},
   "source": [
    "#### 3.2. Geração de dados tratados e imagens de rosa de ventos, frequências e distribuição de classes de dados tratados de vento (Windsonic)"
   ]
  },
  {
   "cell_type": "code",
   "execution_count": null,
   "metadata": {
    "scrolled": false
   },
   "outputs": [],
   "source": [
    "windsonic_dataframe = widgets_wind_data.windsonic_wind_data_dataframe(widgets_wind_data.windsonic_wind_data, widgets_main.project_dirs)\n",
    "windsonic_windrose = widgets_wind_data.windsonic_wind_data_windrose(windsonic_dataframe, widgets_main.project_dirs)\n",
    "widgets_wind_data.windsonic_wind_frequencies(windsonic_windrose, widgets_main.project_dirs)\n",
    "widgets_wind_data.windsonic_wind_stats(windsonic_dataframe, windsonic_windrose, widgets_main.project_dirs)\n",
    "widgets_wind_data.windsonic_wind_bins(windsonic_dataframe, windsonic_windrose, widgets_main.project_dirs)"
   ]
  },
  {
   "cell_type": "markdown",
   "metadata": {},
   "source": [
    "---"
   ]
  }
 ],
 "metadata": {
  "kernelspec": {
   "display_name": "Python 3",
   "language": "python",
   "name": "python3"
  },
  "language_info": {
   "codemirror_mode": {
    "name": "ipython",
    "version": 3
   },
   "file_extension": ".py",
   "mimetype": "text/x-python",
   "name": "python",
   "nbconvert_exporter": "python",
   "pygments_lexer": "ipython3",
   "version": "3.7.4"
  },
  "widgets": {
   "application/vnd.jupyter.widget-state+json": {
    "state": {
     "007488f3c70442cbbad533f8af282c04": {
      "model_module": "@jupyter-widgets/controls",
      "model_module_version": "1.4.0",
      "model_name": "ButtonStyleModel",
      "state": {}
     },
     "00c154536f6a4f66ac54324819e3db03": {
      "model_module": "@jupyter-widgets/controls",
      "model_module_version": "1.4.0",
      "model_name": "TabModel",
      "state": {
       "_titles": {
        "0": "Projetos"
       },
       "children": [
        "IPY_MODEL_deb389f8cff3467ca039330f5ddf8de3"
       ],
       "layout": "IPY_MODEL_18cf7327d9954f6691ca41bd47701260"
      }
     },
     "00ef0e97ca514a2393cca70a06c7ce19": {
      "model_module": "@jupyter-widgets/controls",
      "model_module_version": "1.4.0",
      "model_name": "ButtonStyleModel",
      "state": {}
     },
     "01aef1a9b6fd489ca059ee381b58bdd5": {
      "model_module": "@jupyter-widgets/base",
      "model_module_version": "1.1.0",
      "model_name": "LayoutModel",
      "state": {}
     },
     "02130f95e56c4f5f8f93b5723712a58c": {
      "model_module": "@jupyter-widgets/base",
      "model_module_version": "1.1.0",
      "model_name": "LayoutModel",
      "state": {}
     },
     "024c97e9154641e78351f9cf99df2fa0": {
      "model_module": "@jupyter-widgets/base",
      "model_module_version": "1.1.0",
      "model_name": "LayoutModel",
      "state": {
       "width": "30%"
      }
     },
     "029bfb2554b7432399b47923d74b1d2a": {
      "model_module": "@jupyter-widgets/base",
      "model_module_version": "1.1.0",
      "model_name": "LayoutModel",
      "state": {}
     },
     "03753ad2dec841ba97fca907aee62c46": {
      "model_module": "@jupyter-widgets/base",
      "model_module_version": "1.1.0",
      "model_name": "LayoutModel",
      "state": {
       "width": "30%"
      }
     },
     "0459e77c732c4cfe843a8c2da129dc10": {
      "model_module": "@jupyter-widgets/controls",
      "model_module_version": "1.4.0",
      "model_name": "ButtonModel",
      "state": {
       "description": "Importar projeto",
       "layout": "IPY_MODEL_59addd7007754086b2e3026ffc73e736",
       "style": "IPY_MODEL_7b86d291d2914066b3a6dc95831f4111",
       "tooltip": "Importa o .csv de um projeto criado"
      }
     },
     "0463cdc88b2943c098f6c9568aad01b1": {
      "model_module": "@jupyter-widgets/controls",
      "model_module_version": "1.4.0",
      "model_name": "ButtonStyleModel",
      "state": {}
     },
     "048ced4124ba466fb7ccb43d21894771": {
      "model_module": "@jupyter-widgets/base",
      "model_module_version": "1.1.0",
      "model_name": "LayoutModel",
      "state": {}
     },
     "0496b00f1fcf4f6981fd01a2234dfc37": {
      "model_module": "@jupyter-widgets/controls",
      "model_module_version": "1.4.0",
      "model_name": "DescriptionStyleModel",
      "state": {
       "description_width": ""
      }
     },
     "051a1834cc0045559cbb71ecd24ab682": {
      "model_module": "@jupyter-widgets/controls",
      "model_module_version": "1.4.0",
      "model_name": "CheckboxModel",
      "state": {
       "description": "Utilizar RL",
       "disabled": false,
       "layout": "IPY_MODEL_15465533083744699a06f9e948708d74",
       "style": "IPY_MODEL_4557f77198b34997a10b8c9b73bd0d9d",
       "value": true
      }
     },
     "062f1eea06a14cc794c682616f220986": {
      "model_module": "@jupyter-widgets/controls",
      "model_module_version": "1.4.0",
      "model_name": "TabModel",
      "state": {
       "_titles": {
        "0": "Projetos"
       },
       "children": [
        "IPY_MODEL_87e78fc146ab407babdda2a59574da3b"
       ],
       "layout": "IPY_MODEL_643a7b183840420c8b8e90df5e661726"
      }
     },
     "064268ff0eee4070b8f9a4481353f27b": {
      "model_module": "@jupyter-widgets/controls",
      "model_module_version": "1.4.0",
      "model_name": "ButtonModel",
      "state": {
       "description": "Criar projeto",
       "layout": "IPY_MODEL_985483f11cd44e2ea70bc447745e32d1",
       "style": "IPY_MODEL_6328186942664ccea05d5034be31f028",
       "tooltip": "Cria um novo projeto"
      }
     },
     "0665c3504ed8460681702edba1b9ad39": {
      "model_module": "@jupyter-widgets/base",
      "model_module_version": "1.1.0",
      "model_name": "LayoutModel",
      "state": {}
     },
     "0683cd2c493c46a9a982ae3b538039e0": {
      "model_module": "@jupyter-widgets/base",
      "model_module_version": "1.1.0",
      "model_name": "LayoutModel",
      "state": {}
     },
     "06fab296a7184898a5d3f2558f3f8215": {
      "model_module": "@jupyter-widgets/controls",
      "model_module_version": "1.4.0",
      "model_name": "ButtonStyleModel",
      "state": {}
     },
     "0906a576a6554c889a3f60b4d29499be": {
      "model_module": "@jupyter-widgets/controls",
      "model_module_version": "1.4.0",
      "model_name": "CheckboxModel",
      "state": {
       "description": "Ajustar alturas",
       "disabled": false,
       "layout": "IPY_MODEL_e97928472d664b4a8f230fc3bc937874",
       "style": "IPY_MODEL_0496b00f1fcf4f6981fd01a2234dfc37",
       "value": false
      }
     },
     "0920ce97ec0f47f69b02bca675c739ff": {
      "model_module": "@jupyter-widgets/controls",
      "model_module_version": "1.4.0",
      "model_name": "ButtonStyleModel",
      "state": {}
     },
     "0961f8c733cb4feba0cb0cac7bfbdcf8": {
      "model_module": "@jupyter-widgets/controls",
      "model_module_version": "1.4.0",
      "model_name": "DescriptionStyleModel",
      "state": {
       "description_width": ""
      }
     },
     "09c461f83fe94c06ac1804125dced340": {
      "model_module": "@jupyter-widgets/controls",
      "model_module_version": "1.4.0",
      "model_name": "ButtonStyleModel",
      "state": {}
     },
     "0a42060b1f6b43429079780fc1366493": {
      "model_module": "@jupyter-widgets/base",
      "model_module_version": "1.1.0",
      "model_name": "LayoutModel",
      "state": {}
     },
     "0a61a2f9fa96437781baa4d3db8cfa09": {
      "model_module": "@jupyter-widgets/base",
      "model_module_version": "1.1.0",
      "model_name": "LayoutModel",
      "state": {}
     },
     "0b091401efe044ac8901eb88a642be06": {
      "model_module": "@jupyter-widgets/controls",
      "model_module_version": "1.4.0",
      "model_name": "AccordionModel",
      "state": {
       "_titles": {
        "0": "Criar projeto",
        "1": "Importar projeto"
       },
       "children": [
        "IPY_MODEL_5861131ea1f54633a9dfbed0394ac38f",
        "IPY_MODEL_5e2e1dfc716a45fe95907a19bd056de5"
       ],
       "layout": "IPY_MODEL_73a64b187aa646c58cb4a9bd0a9ff78d",
       "selected_index": 1
      }
     },
     "0c30ef7c1f544b97a9305be3cd95cf34": {
      "model_module": "@jupyter-widgets/controls",
      "model_module_version": "1.4.0",
      "model_name": "ButtonStyleModel",
      "state": {}
     },
     "0c828ccff37544cd9b561c5279d856ab": {
      "model_module": "@jupyter-widgets/controls",
      "model_module_version": "1.4.0",
      "model_name": "ButtonStyleModel",
      "state": {}
     },
     "0def6b7a1d374bdaa0ed9ddeb11478f1": {
      "model_module": "@jupyter-widgets/base",
      "model_module_version": "1.1.0",
      "model_name": "LayoutModel",
      "state": {}
     },
     "0ea5f115a83748e19ab43acfc9cc42d0": {
      "model_module": "@jupyter-widgets/controls",
      "model_module_version": "1.4.0",
      "model_name": "AccordionModel",
      "state": {
       "_titles": {
        "0": "Ajustes a serem incluídos nos cálculos de velocidades resultantes"
       },
       "children": [
        "IPY_MODEL_73cc9030374e4047a37e8e589acfb97f"
       ],
       "layout": "IPY_MODEL_c5a16ec164904357bbc6146a95833576"
      }
     },
     "0ec0d3b0c3a24e31bf867a0c862e4d22": {
      "model_module": "@jupyter-widgets/base",
      "model_module_version": "1.1.0",
      "model_name": "LayoutModel",
      "state": {
       "width": "30%"
      }
     },
     "101dd95cac514ba8b13586e65328e292": {
      "model_module": "@jupyter-widgets/controls",
      "model_module_version": "1.4.0",
      "model_name": "IntTextModel",
      "state": {
       "description": "Classes de vento:",
       "layout": "IPY_MODEL_0def6b7a1d374bdaa0ed9ddeb11478f1",
       "step": 1,
       "style": "IPY_MODEL_b1db5b7a98c147c19361cb93356ece4e",
       "value": 10
      }
     },
     "1094a83e5f6447219dae1c18e4f0a6bf": {
      "model_module": "@jupyter-widgets/controls",
      "model_module_version": "1.4.0",
      "model_name": "ButtonStyleModel",
      "state": {}
     },
     "10f7efc395b14b919cb032e87f308327": {
      "model_module": "@jupyter-widgets/controls",
      "model_module_version": "1.4.0",
      "model_name": "DescriptionStyleModel",
      "state": {
       "description_width": ""
      }
     },
     "111331573e484f07984446eeb3ed633e": {
      "model_module": "@jupyter-widgets/base",
      "model_module_version": "1.1.0",
      "model_name": "LayoutModel",
      "state": {}
     },
     "11e3146ce6d74af1a94f9fe951188240": {
      "model_module": "@jupyter-widgets/controls",
      "model_module_version": "1.4.0",
      "model_name": "ButtonStyleModel",
      "state": {}
     },
     "1250503ce0b2444e92b10accda9eada8": {
      "model_module": "@jupyter-widgets/controls",
      "model_module_version": "1.4.0",
      "model_name": "ButtonStyleModel",
      "state": {}
     },
     "128e4866265d40d6a99f9bb32616648a": {
      "model_module": "@jupyter-widgets/base",
      "model_module_version": "1.1.0",
      "model_name": "LayoutModel",
      "state": {}
     },
     "13e0d7e46c3143db81c5d9d5342aa6c7": {
      "model_module": "@jupyter-widgets/base",
      "model_module_version": "1.1.0",
      "model_name": "LayoutModel",
      "state": {
       "width": "400px"
      }
     },
     "140d2a314ee344f7bc5ed601407397ed": {
      "model_module": "@jupyter-widgets/controls",
      "model_module_version": "1.4.0",
      "model_name": "AccordionModel",
      "state": {
       "_titles": {
        "0": "Criar projeto",
        "1": "Importar projeto"
       },
       "children": [
        "IPY_MODEL_9a874c7badc14da7b4f1c38a862dbb7f",
        "IPY_MODEL_ec6d1444df8f4ff798031396521faada"
       ],
       "layout": "IPY_MODEL_24a11ee5030b4804b57e1e37e5e84404",
       "selected_index": 1
      }
     },
     "141714de73a6421197929981600a62dc": {
      "model_module": "@jupyter-widgets/controls",
      "model_module_version": "1.4.0",
      "model_name": "IntTextModel",
      "state": {
       "description": "Classes de vento:",
       "layout": "IPY_MODEL_70b1cc99832e4f67aa6fcee0205bdd41",
       "step": 1,
       "style": "IPY_MODEL_75aa2ffa8d0f46078282460b84389d65",
       "value": 10
      }
     },
     "141f7b2dcd554e428b531b58d055fc18": {
      "model_module": "@jupyter-widgets/base",
      "model_module_version": "1.1.0",
      "model_name": "LayoutModel",
      "state": {}
     },
     "1447b38ae1864cbca1a1608c053dfbaa": {
      "model_module": "@jupyter-widgets/base",
      "model_module_version": "1.1.0",
      "model_name": "LayoutModel",
      "state": {}
     },
     "147708ab8c154cf088f69401f40f3b8b": {
      "model_module": "@jupyter-widgets/controls",
      "model_module_version": "1.4.0",
      "model_name": "AccordionModel",
      "state": {
       "_titles": {
        "0": "Ângulo para a rosa dos ventos",
        "1": "Classes de vento",
        "2": "Step",
        "3": "Unidade de velocidade"
       },
       "children": [
        "IPY_MODEL_de534f39d96c4cd19b25e49dd270c881",
        "IPY_MODEL_2fac0f1cf5af4274838f742e0efaad12",
        "IPY_MODEL_7188a140f82046219f0c180d36dc5362",
        "IPY_MODEL_a1459a67950e41469dec1dcd6dd3ac10"
       ],
       "layout": "IPY_MODEL_2bbd2f1690af47db99d3c940f6ab0450"
      }
     },
     "14f8b0b25f494a02b9e3924d61ebc363": {
      "model_module": "@jupyter-widgets/controls",
      "model_module_version": "1.4.0",
      "model_name": "TabModel",
      "state": {
       "_titles": {
        "0": "Projetos"
       },
       "children": [
        "IPY_MODEL_59aa34debb8a42598a9ef71904622a91"
       ],
       "layout": "IPY_MODEL_70993b71894d4e9cbd0141845c15aaca"
      }
     },
     "15465533083744699a06f9e948708d74": {
      "model_module": "@jupyter-widgets/base",
      "model_module_version": "1.1.0",
      "model_name": "LayoutModel",
      "state": {}
     },
     "165e109b2be24e618e31ed93fe964ca2": {
      "model_module": "@jupyter-widgets/base",
      "model_module_version": "1.1.0",
      "model_name": "LayoutModel",
      "state": {
       "width": "30%"
      }
     },
     "1688c24736d8491ab0da622826d8ccb6": {
      "model_module": "@jupyter-widgets/controls",
      "model_module_version": "1.4.0",
      "model_name": "ButtonStyleModel",
      "state": {}
     },
     "1709b5859c994d25a0770f27b971eb75": {
      "model_module": "@jupyter-widgets/controls",
      "model_module_version": "1.4.0",
      "model_name": "ButtonStyleModel",
      "state": {}
     },
     "17994569d51d4a62b657e345ca924bd0": {
      "model_module": "@jupyter-widgets/base",
      "model_module_version": "1.1.0",
      "model_name": "LayoutModel",
      "state": {}
     },
     "18a44cb8b60a4a71bc1364171850877e": {
      "model_module": "@jupyter-widgets/controls",
      "model_module_version": "1.4.0",
      "model_name": "TabModel",
      "state": {
       "_titles": {
        "0": "Projetos"
       },
       "children": [
        "IPY_MODEL_dbd900c395a644ccaa6857a24638a517"
       ],
       "layout": "IPY_MODEL_8003cb282143494a8bbc1de1a4640395"
      }
     },
     "18cf7327d9954f6691ca41bd47701260": {
      "model_module": "@jupyter-widgets/base",
      "model_module_version": "1.1.0",
      "model_name": "LayoutModel",
      "state": {}
     },
     "193b1a0f93134114984f6e4c347d8586": {
      "model_module": "@jupyter-widgets/controls",
      "model_module_version": "1.4.0",
      "model_name": "AccordionModel",
      "state": {
       "_titles": {
        "0": "Criar projeto",
        "1": "Importar projeto"
       },
       "children": [
        "IPY_MODEL_78fdfd56b0c145a78a170de170fc6ff8",
        "IPY_MODEL_3bff1e5d69fd43c2919054c3f2d2004e"
       ],
       "layout": "IPY_MODEL_17994569d51d4a62b657e345ca924bd0",
       "selected_index": 1
      }
     },
     "1a6ce5eef3dd4427be13426d9ff16c47": {
      "model_module": "@jupyter-widgets/controls",
      "model_module_version": "1.4.0",
      "model_name": "DescriptionStyleModel",
      "state": {
       "description_width": ""
      }
     },
     "1b4de7cdd1784cff9b1a1d895500edc8": {
      "model_module": "@jupyter-widgets/controls",
      "model_module_version": "1.4.0",
      "model_name": "DescriptionStyleModel",
      "state": {
       "description_width": ""
      }
     },
     "1bca4fb415d9403ebfb7166a4abcaa43": {
      "model_module": "@jupyter-widgets/controls",
      "model_module_version": "1.4.0",
      "model_name": "DescriptionStyleModel",
      "state": {
       "description_width": ""
      }
     },
     "1bcb595e59104c7a8a89d3b4e6419679": {
      "model_module": "@jupyter-widgets/controls",
      "model_module_version": "1.4.0",
      "model_name": "ButtonModel",
      "state": {
       "description": "Criar projeto",
       "layout": "IPY_MODEL_fc1b918764b74c55b0b3856cfcdc2aec",
       "style": "IPY_MODEL_c72e0e3020fd4228b38265bc2c958a41",
       "tooltip": "Cria um novo projeto"
      }
     },
     "1c4a3d8f11544c9bb8b3ea2a2c76f871": {
      "model_module": "@jupyter-widgets/base",
      "model_module_version": "1.1.0",
      "model_name": "LayoutModel",
      "state": {
       "width": "400px"
      }
     },
     "1ca865e1d5bd4a479fd8d7546783a8dd": {
      "model_module": "@jupyter-widgets/controls",
      "model_module_version": "1.4.0",
      "model_name": "ButtonModel",
      "state": {
       "description": "Importar modelo de dados CSAT3",
       "layout": "IPY_MODEL_b89bbcfefeda4eac9390ebd04a930285",
       "style": "IPY_MODEL_d72c48a39a844f0db940f0547ef5e33a",
       "tooltip": "Importar modelo de dados CSAT3 para leitura"
      }
     },
     "1cb8d1da59f446ffa114031a0594261d": {
      "model_module": "@jupyter-widgets/controls",
      "model_module_version": "1.4.0",
      "model_name": "TextModel",
      "state": {
       "description": "Unidade de velocidade:",
       "layout": "IPY_MODEL_64e10b8b7c0142669477a470e8482f72",
       "style": "IPY_MODEL_89c0e5a7d20d45469896033b6fcb635c",
       "value": "m/s"
      }
     },
     "1ce1a02ec1124c64be00bda3b1a50264": {
      "model_module": "@jupyter-widgets/controls",
      "model_module_version": "1.4.0",
      "model_name": "CheckboxModel",
      "state": {
       "description": "Ajustar alturas",
       "disabled": false,
       "layout": "IPY_MODEL_bae27ffb939b43c086b052bc65c91979",
       "style": "IPY_MODEL_7a11f26c5b5c4156b6fdbaad42194d9b",
       "value": true
      }
     },
     "1e73e8c35cd6475ca6ef68dbbb688b78": {
      "model_module": "@jupyter-widgets/base",
      "model_module_version": "1.1.0",
      "model_name": "LayoutModel",
      "state": {}
     },
     "1e8e0718471f453e97d16a02ae7c6a16": {
      "model_module": "@jupyter-widgets/controls",
      "model_module_version": "1.4.0",
      "model_name": "DescriptionStyleModel",
      "state": {
       "description_width": ""
      }
     },
     "1e9ce488a93d4e26ab02acb21bb330d9": {
      "model_module": "@jupyter-widgets/controls",
      "model_module_version": "1.4.0",
      "model_name": "ButtonModel",
      "state": {
       "description": "Criar projeto",
       "layout": "IPY_MODEL_0a61a2f9fa96437781baa4d3db8cfa09",
       "style": "IPY_MODEL_00ef0e97ca514a2393cca70a06c7ce19",
       "tooltip": "Cria um novo projeto"
      }
     },
     "1eb49cf150d44505a379765e3bd2ade8": {
      "model_module": "@jupyter-widgets/controls",
      "model_module_version": "1.4.0",
      "model_name": "IntTextModel",
      "state": {
       "description": "Classes de vento:",
       "layout": "IPY_MODEL_deae87ff740348068fe358cc02ac5385",
       "step": 1,
       "style": "IPY_MODEL_c4a55fb43ff2467bb2cb1069ae38e5ea",
       "value": 15
      }
     },
     "1eb777188a8c49f6a046b917a29da477": {
      "model_module": "@jupyter-widgets/base",
      "model_module_version": "1.1.0",
      "model_name": "LayoutModel",
      "state": {}
     },
     "1f37a7581cb845debd54a2e39da309f2": {
      "model_module": "@jupyter-widgets/base",
      "model_module_version": "1.1.0",
      "model_name": "LayoutModel",
      "state": {
       "width": "400px"
      }
     },
     "200c71d6ac8548e6ace0821b9cb0fe36": {
      "model_module": "@jupyter-widgets/controls",
      "model_module_version": "1.4.0",
      "model_name": "DescriptionStyleModel",
      "state": {
       "description_width": ""
      }
     },
     "20ebfd65a8a44bb6a9a97f34a98e04f0": {
      "model_module": "@jupyter-widgets/controls",
      "model_module_version": "1.4.0",
      "model_name": "TabModel",
      "state": {
       "_titles": {
        "0": "Projetos"
       },
       "children": [
        "IPY_MODEL_de163c1d909b4e4ebbde2aef479c9695"
       ],
       "layout": "IPY_MODEL_34a50ceb7c6b47438f9cf1954959ee25"
      }
     },
     "214304df9eca4506ac1ac4c137193704": {
      "model_module": "@jupyter-widgets/controls",
      "model_module_version": "1.4.0",
      "model_name": "DescriptionStyleModel",
      "state": {
       "description_width": ""
      }
     },
     "21b2c653431a49d5915f405deeed5682": {
      "model_module": "@jupyter-widgets/base",
      "model_module_version": "1.1.0",
      "model_name": "LayoutModel",
      "state": {}
     },
     "21dbfbcfeb2f4ef894437201bb4a6bcf": {
      "model_module": "@jupyter-widgets/controls",
      "model_module_version": "1.4.0",
      "model_name": "CheckboxModel",
      "state": {
       "description": "Utilizar RT",
       "disabled": false,
       "layout": "IPY_MODEL_7f1c873c35ac4bf4a95e813561b79eb1",
       "style": "IPY_MODEL_2d89b774d9794ecdaef3c6e378957b6c",
       "value": true
      }
     },
     "21e97502c560482fb841933442d84197": {
      "model_module": "@jupyter-widgets/controls",
      "model_module_version": "1.4.0",
      "model_name": "FloatTextModel",
      "state": {
       "description": "Ângulo percentual da rosa dos ventos:",
       "layout": "IPY_MODEL_b2c49e7a32d14fdf9a1552570ad4dd71",
       "step": null,
       "style": "IPY_MODEL_4bd5906acf0b4a61bafd5e421fe7cf38",
       "value": 33.75
      }
     },
     "222ecbcdcade46ddaf519d1f0b5338a6": {
      "model_module": "@jupyter-widgets/controls",
      "model_module_version": "1.4.0",
      "model_name": "ButtonStyleModel",
      "state": {}
     },
     "223e446734504fa68412fc2c660d5b3e": {
      "model_module": "@jupyter-widgets/base",
      "model_module_version": "1.1.0",
      "model_name": "LayoutModel",
      "state": {}
     },
     "227ca92795994f2db6b47c6a2e85588f": {
      "model_module": "@jupyter-widgets/controls",
      "model_module_version": "1.4.0",
      "model_name": "ButtonModel",
      "state": {
       "description": "Importar modelo de dados Windsonic",
       "layout": "IPY_MODEL_165e109b2be24e618e31ed93fe964ca2",
       "style": "IPY_MODEL_397936ee8f0f45aeb4119099deedc48e",
       "tooltip": "Importar modelo de dados Windsonic para leitura"
      }
     },
     "23864d6a09f44d5c8787b0c1b7fa56b4": {
      "model_module": "@jupyter-widgets/controls",
      "model_module_version": "1.4.0",
      "model_name": "DescriptionStyleModel",
      "state": {
       "description_width": ""
      }
     },
     "23d4d12d9472405786a241e2e776319d": {
      "model_module": "@jupyter-widgets/controls",
      "model_module_version": "1.4.0",
      "model_name": "DescriptionStyleModel",
      "state": {
       "description_width": ""
      }
     },
     "23ef69f0e56b4b668c7cceb97a8332fa": {
      "model_module": "@jupyter-widgets/controls",
      "model_module_version": "1.4.0",
      "model_name": "ButtonModel",
      "state": {
       "description": "Importar projeto",
       "layout": "IPY_MODEL_5fadada48c7e4084ac55e3d81f58ecac",
       "style": "IPY_MODEL_007488f3c70442cbbad533f8af282c04",
       "tooltip": "Importa o .csv de um projeto criado"
      }
     },
     "24a11ee5030b4804b57e1e37e5e84404": {
      "model_module": "@jupyter-widgets/base",
      "model_module_version": "1.1.0",
      "model_name": "LayoutModel",
      "state": {}
     },
     "24bb1c91f0f34eb99f1cb1c8aad5690c": {
      "model_module": "@jupyter-widgets/controls",
      "model_module_version": "1.4.0",
      "model_name": "CheckboxModel",
      "state": {
       "description": "Utilizar todas as componentes de velocidades Ux, Uy e Uz (CSAT3)",
       "disabled": false,
       "layout": "IPY_MODEL_8f736a1b6974495e947a38b4d3cbf3ff",
       "style": "IPY_MODEL_614b7a47008e47f2a3e5f7b35200bf23",
       "value": false
      }
     },
     "2544dc1349b7466fa724bfa839ff1f19": {
      "model_module": "@jupyter-widgets/controls",
      "model_module_version": "1.4.0",
      "model_name": "AccordionModel",
      "state": {
       "_titles": {
        "0": "Ângulo para a rosa dos ventos",
        "1": "Classes de vento",
        "2": "Step",
        "3": "Unidade de velocidade"
       },
       "children": [
        "IPY_MODEL_21e97502c560482fb841933442d84197",
        "IPY_MODEL_101dd95cac514ba8b13586e65328e292",
        "IPY_MODEL_3cdf8e8c89454687b9ac25842924ed18",
        "IPY_MODEL_5d15909962034e359b7faa211fe24b42"
       ],
       "layout": "IPY_MODEL_7c39ecb4fa834ed8ae8491bb252d99ca"
      }
     },
     "2737b877a71642a2a83c8e62f784039c": {
      "model_module": "@jupyter-widgets/controls",
      "model_module_version": "1.4.0",
      "model_name": "ButtonModel",
      "state": {
       "description": "Importar projeto",
       "layout": "IPY_MODEL_21b2c653431a49d5915f405deeed5682",
       "style": "IPY_MODEL_2c0b197d89b14c2e8aae86dcba42d0fc",
       "tooltip": "Importa o .csv de um projeto criado"
      }
     },
     "274a4b13cfe54b4d83150532abcaeeed": {
      "model_module": "@jupyter-widgets/base",
      "model_module_version": "1.1.0",
      "model_name": "LayoutModel",
      "state": {}
     },
     "280a92ff07f042a6ac33b452f6d869fe": {
      "model_module": "@jupyter-widgets/controls",
      "model_module_version": "1.4.0",
      "model_name": "DescriptionStyleModel",
      "state": {
       "description_width": ""
      }
     },
     "287a0815056143c5b23db5916d8b7ab9": {
      "model_module": "@jupyter-widgets/controls",
      "model_module_version": "1.4.0",
      "model_name": "CheckboxModel",
      "state": {
       "description": "Utilizar RL",
       "disabled": false,
       "layout": "IPY_MODEL_5d26cfad08fd4b62bbd840d32fc57aa9",
       "style": "IPY_MODEL_10f7efc395b14b919cb032e87f308327",
       "value": true
      }
     },
     "292fc5d54f3b47c585285e3fc9bb94e9": {
      "model_module": "@jupyter-widgets/base",
      "model_module_version": "1.1.0",
      "model_name": "LayoutModel",
      "state": {}
     },
     "29ab99e395f844228a6ea3e520381ec3": {
      "model_module": "@jupyter-widgets/base",
      "model_module_version": "1.1.0",
      "model_name": "LayoutModel",
      "state": {}
     },
     "2b158502d6064cba92e8ca3fa8057fcc": {
      "model_module": "@jupyter-widgets/base",
      "model_module_version": "1.1.0",
      "model_name": "LayoutModel",
      "state": {}
     },
     "2bbd2f1690af47db99d3c940f6ab0450": {
      "model_module": "@jupyter-widgets/base",
      "model_module_version": "1.1.0",
      "model_name": "LayoutModel",
      "state": {}
     },
     "2c0b197d89b14c2e8aae86dcba42d0fc": {
      "model_module": "@jupyter-widgets/controls",
      "model_module_version": "1.4.0",
      "model_name": "ButtonStyleModel",
      "state": {}
     },
     "2d89b774d9794ecdaef3c6e378957b6c": {
      "model_module": "@jupyter-widgets/controls",
      "model_module_version": "1.4.0",
      "model_name": "DescriptionStyleModel",
      "state": {
       "description_width": ""
      }
     },
     "2db18bb0c20043099e6d7f6e7a3057cf": {
      "model_module": "@jupyter-widgets/controls",
      "model_module_version": "1.4.0",
      "model_name": "ButtonModel",
      "state": {
       "description": "Importar modelo de dados CSAT3",
       "layout": "IPY_MODEL_4b108fa6d25e49d4a3b053d099e96b00",
       "style": "IPY_MODEL_5b9fcb028e3d412cbac7a9e4721d04f4",
       "tooltip": "Importar modelo de dados CSAT3 para leitura"
      }
     },
     "2e7053cb86e9437e8be66fa14ea3ee7e": {
      "model_module": "@jupyter-widgets/controls",
      "model_module_version": "1.4.0",
      "model_name": "DescriptionStyleModel",
      "state": {
       "description_width": ""
      }
     },
     "2e8c7a00f47749979da6c9ab857c0122": {
      "model_module": "@jupyter-widgets/controls",
      "model_module_version": "1.4.0",
      "model_name": "CheckboxModel",
      "state": {
       "description": "Utilizar todas as componentes de velocidades Ux, Uy e Uz (CSAT3)",
       "disabled": false,
       "layout": "IPY_MODEL_593151033d5d4a36b73d1bc8f81c5267",
       "style": "IPY_MODEL_6a5d4343bf374f00aecd881a7c0eeff6",
       "value": true
      }
     },
     "2fa09e53ad874d6ca851382f99aece13": {
      "model_module": "@jupyter-widgets/base",
      "model_module_version": "1.1.0",
      "model_name": "LayoutModel",
      "state": {}
     },
     "2fac0f1cf5af4274838f742e0efaad12": {
      "model_module": "@jupyter-widgets/controls",
      "model_module_version": "1.4.0",
      "model_name": "IntTextModel",
      "state": {
       "description": "Classes de vento:",
       "layout": "IPY_MODEL_5b5f9e3fb5f746e88a28bef676b05004",
       "step": 1,
       "style": "IPY_MODEL_c443f60eef574e6b911be2cd0a410b37",
       "value": 10
      }
     },
     "3030f6d5e681450fab1f49c6b392669d": {
      "model_module": "@jupyter-widgets/base",
      "model_module_version": "1.1.0",
      "model_name": "LayoutModel",
      "state": {}
     },
     "304bf3adb414468c981d0cc3185815fa": {
      "model_module": "@jupyter-widgets/controls",
      "model_module_version": "1.4.0",
      "model_name": "TextModel",
      "state": {
       "description": "Unidade de velocidade:",
       "layout": "IPY_MODEL_be1c180a658440e8a33dc106576fcc01",
       "style": "IPY_MODEL_99df286c73634a68867f8ed951373d5a",
       "value": "m/s"
      }
     },
     "30c5a948f8f94430acf62613ecffeaa6": {
      "model_module": "@jupyter-widgets/controls",
      "model_module_version": "1.4.0",
      "model_name": "ButtonModel",
      "state": {
       "description": "Importar projeto",
       "layout": "IPY_MODEL_5aa091c8c9114ccc84a90549f5519457",
       "style": "IPY_MODEL_ffbb3f16e42c4d54a1ae384106b3b654",
       "tooltip": "Importa o .csv de um projeto criado"
      }
     },
     "30d099c2c5804575a04643dfb2895671": {
      "model_module": "@jupyter-widgets/controls",
      "model_module_version": "1.4.0",
      "model_name": "ButtonStyleModel",
      "state": {}
     },
     "3215ecc75cbd49408998c848f3fc0bfb": {
      "model_module": "@jupyter-widgets/controls",
      "model_module_version": "1.4.0",
      "model_name": "CheckboxModel",
      "state": {
       "description": "Utilizar RT",
       "disabled": false,
       "layout": "IPY_MODEL_3217b7d15dd54b118951c47e8400d686",
       "style": "IPY_MODEL_73b400b2f2a2436ea7112c0c266e4be9",
       "value": true
      }
     },
     "3217b7d15dd54b118951c47e8400d686": {
      "model_module": "@jupyter-widgets/base",
      "model_module_version": "1.1.0",
      "model_name": "LayoutModel",
      "state": {}
     },
     "3223400182d94222b51b656f61fe0090": {
      "model_module": "@jupyter-widgets/base",
      "model_module_version": "1.1.0",
      "model_name": "LayoutModel",
      "state": {
       "width": "30%"
      }
     },
     "32763821a7624b9c903c324b904839cc": {
      "model_module": "@jupyter-widgets/base",
      "model_module_version": "1.1.0",
      "model_name": "LayoutModel",
      "state": {}
     },
     "32cb3f2fbc574d64b2f9bfb06e804565": {
      "model_module": "@jupyter-widgets/base",
      "model_module_version": "1.1.0",
      "model_name": "LayoutModel",
      "state": {}
     },
     "341e539545614af695c7c316179279e0": {
      "model_module": "@jupyter-widgets/controls",
      "model_module_version": "1.4.0",
      "model_name": "ButtonModel",
      "state": {
       "description": "Importar modelo de dados Windsonic",
       "layout": "IPY_MODEL_3223400182d94222b51b656f61fe0090",
       "style": "IPY_MODEL_30d099c2c5804575a04643dfb2895671",
       "tooltip": "Importar modelo de dados Windsonic para leitura"
      }
     },
     "34a50ceb7c6b47438f9cf1954959ee25": {
      "model_module": "@jupyter-widgets/base",
      "model_module_version": "1.1.0",
      "model_name": "LayoutModel",
      "state": {}
     },
     "34b930ade9c94000ae6f2edf723c8413": {
      "model_module": "@jupyter-widgets/controls",
      "model_module_version": "1.4.0",
      "model_name": "IntTextModel",
      "state": {
       "description": "Classes de vento:",
       "layout": "IPY_MODEL_779ab1cc7b9547d4a8e9c6af71c60de1",
       "step": 1,
       "style": "IPY_MODEL_84a65da6355b435d91394408525a210d",
       "value": 10
      }
     },
     "3576aa9bc76749fe83329cc681fe9c5f": {
      "model_module": "@jupyter-widgets/controls",
      "model_module_version": "1.4.0",
      "model_name": "DescriptionStyleModel",
      "state": {
       "description_width": ""
      }
     },
     "367b7f0684fb4e31913215a93a2cf5da": {
      "model_module": "@jupyter-widgets/controls",
      "model_module_version": "1.4.0",
      "model_name": "AccordionModel",
      "state": {
       "_titles": {
        "0": "Criar projeto",
        "1": "Importar projeto"
       },
       "children": [
        "IPY_MODEL_1bcb595e59104c7a8a89d3b4e6419679",
        "IPY_MODEL_adbcdbccee374b70a9ccc7ca4cd8e736"
       ],
       "layout": "IPY_MODEL_7fb621bc0cb34cbba505e586070574dc",
       "selected_index": 1
      }
     },
     "374d4ce78c64465f9029eba8ced5f665": {
      "model_module": "@jupyter-widgets/base",
      "model_module_version": "1.1.0",
      "model_name": "LayoutModel",
      "state": {}
     },
     "3769b966fb934c35a8d00c434a2e9f5e": {
      "model_module": "@jupyter-widgets/base",
      "model_module_version": "1.1.0",
      "model_name": "LayoutModel",
      "state": {}
     },
     "3899c5551c564015982031bb9829afa7": {
      "model_module": "@jupyter-widgets/base",
      "model_module_version": "1.1.0",
      "model_name": "LayoutModel",
      "state": {}
     },
     "3902dd59aca9447684252b97fbda4b5e": {
      "model_module": "@jupyter-widgets/controls",
      "model_module_version": "1.4.0",
      "model_name": "TabModel",
      "state": {
       "_titles": {
        "0": "Projetos"
       },
       "children": [
        "IPY_MODEL_83d9b35e418e46e3a11322f6bb46242d"
       ],
       "layout": "IPY_MODEL_bab9c1716f6942f384caa5d02f605612"
      }
     },
     "393d62e1418240e8abb8d2dc2c44b5f5": {
      "model_module": "@jupyter-widgets/controls",
      "model_module_version": "1.4.0",
      "model_name": "CheckboxModel",
      "state": {
       "description": "Utilizar RT",
       "disabled": false,
       "layout": "IPY_MODEL_668d05aab8734fc586b9026df4230c0f",
       "style": "IPY_MODEL_47695a6ed3d848f09c99627f0d875c99",
       "value": true
      }
     },
     "3961baf8afb346dfb4755e1cd01fce1b": {
      "model_module": "@jupyter-widgets/controls",
      "model_module_version": "1.4.0",
      "model_name": "ButtonModel",
      "state": {
       "description": "Criar projeto",
       "layout": "IPY_MODEL_97bbd773638b427bbe4d89f07aef6a4c",
       "style": "IPY_MODEL_0c828ccff37544cd9b561c5279d856ab",
       "tooltip": "Cria um novo projeto"
      }
     },
     "397936ee8f0f45aeb4119099deedc48e": {
      "model_module": "@jupyter-widgets/controls",
      "model_module_version": "1.4.0",
      "model_name": "ButtonStyleModel",
      "state": {}
     },
     "397ff0380c374153a5a4c6571fb22982": {
      "model_module": "@jupyter-widgets/controls",
      "model_module_version": "1.4.0",
      "model_name": "ButtonStyleModel",
      "state": {}
     },
     "3b8a86526af44e3a8e1475dc326ab01d": {
      "model_module": "@jupyter-widgets/controls",
      "model_module_version": "1.4.0",
      "model_name": "VBoxModel",
      "state": {
       "children": [
        "IPY_MODEL_921e88bacb9245f59f60a4ca209449fe",
        "IPY_MODEL_9b379f786aec4fb58b562e2f50218372",
        "IPY_MODEL_6a4bb8b4c6fe4ecfb6e258e1bff9c96f",
        "IPY_MODEL_ea781e478eff445bb42e3cd119c5b76e"
       ],
       "layout": "IPY_MODEL_8469fdbba9ce4cad8d560f73d9397366"
      }
     },
     "3b94c1efdd4149a5852f3511831455dc": {
      "model_module": "@jupyter-widgets/controls",
      "model_module_version": "1.4.0",
      "model_name": "ButtonStyleModel",
      "state": {}
     },
     "3bff1e5d69fd43c2919054c3f2d2004e": {
      "model_module": "@jupyter-widgets/controls",
      "model_module_version": "1.4.0",
      "model_name": "ButtonModel",
      "state": {
       "description": "Importar projeto",
       "layout": "IPY_MODEL_048ced4124ba466fb7ccb43d21894771",
       "style": "IPY_MODEL_11e3146ce6d74af1a94f9fe951188240",
       "tooltip": "Importa o .csv de um projeto criado"
      }
     },
     "3c5f9c0dddae4d99ba1b460843946a2f": {
      "model_module": "@jupyter-widgets/controls",
      "model_module_version": "1.4.0",
      "model_name": "AccordionModel",
      "state": {
       "_titles": {
        "0": "Ângulo para a rosa dos ventos",
        "1": "Classes de vento",
        "2": "Step",
        "3": "Unidade de velocidade"
       },
       "children": [
        "IPY_MODEL_5781212f35024496baf99e31944059aa",
        "IPY_MODEL_9f56c02188ca40e1b60ee0aaa9460605",
        "IPY_MODEL_a12f0c505c944a95bc9b32429d007457",
        "IPY_MODEL_7540e2e0cb0944f58b6bfb3f4af42165"
       ],
       "layout": "IPY_MODEL_438099c908fe4ebc93689bc0944a76c7"
      }
     },
     "3cdf8e8c89454687b9ac25842924ed18": {
      "model_module": "@jupyter-widgets/controls",
      "model_module_version": "1.4.0",
      "model_name": "IntTextModel",
      "state": {
       "description": "Step:",
       "layout": "IPY_MODEL_8afde3300aa24524b6e9e121463b3bbd",
       "step": 1,
       "style": "IPY_MODEL_23d4d12d9472405786a241e2e776319d",
       "value": 1
      }
     },
     "3e2ab97a0aef4289af08f30f00ccefce": {
      "model_module": "@jupyter-widgets/controls",
      "model_module_version": "1.4.0",
      "model_name": "ButtonStyleModel",
      "state": {}
     },
     "3e2cac9ca6a74d9aa5a359c47f2064e6": {
      "model_module": "@jupyter-widgets/base",
      "model_module_version": "1.1.0",
      "model_name": "LayoutModel",
      "state": {}
     },
     "3ef0c2a138e448bd8dfeaa55e5d3bc2d": {
      "model_module": "@jupyter-widgets/controls",
      "model_module_version": "1.4.0",
      "model_name": "DescriptionStyleModel",
      "state": {
       "description_width": ""
      }
     },
     "3f06b4c2d72045bcb76b033054746158": {
      "model_module": "@jupyter-widgets/controls",
      "model_module_version": "1.4.0",
      "model_name": "CheckboxModel",
      "state": {
       "description": "Utilizar RL",
       "disabled": false,
       "layout": "IPY_MODEL_58b687912b8449e498c88ff8f8444ac0",
       "style": "IPY_MODEL_471f7b2a8de041b5a29d012ea7e041d0",
       "value": false
      }
     },
     "3f321be62e0b4149adf2bbe1dad13d04": {
      "model_module": "@jupyter-widgets/controls",
      "model_module_version": "1.4.0",
      "model_name": "AccordionModel",
      "state": {
       "_titles": {
        "0": "Ajustes a serem incluídos nos cálculos de velocidades resultantes"
       },
       "children": [
        "IPY_MODEL_e799b6f622804fd9abe8c133eeea0d3f"
       ],
       "layout": "IPY_MODEL_9cdb3c58a0554adbb0a19033c80eda59"
      }
     },
     "3f7712386b024c8db7a28aea2b52d769": {
      "model_module": "@jupyter-widgets/base",
      "model_module_version": "1.1.0",
      "model_name": "LayoutModel",
      "state": {}
     },
     "41b2949fafab4862b2e52f0b483f8291": {
      "model_module": "@jupyter-widgets/controls",
      "model_module_version": "1.4.0",
      "model_name": "ButtonStyleModel",
      "state": {}
     },
     "42cc5351f731470b8602441d6b114dd4": {
      "model_module": "@jupyter-widgets/controls",
      "model_module_version": "1.4.0",
      "model_name": "AccordionModel",
      "state": {
       "_titles": {
        "0": "Criar projeto",
        "1": "Importar projeto"
       },
       "children": [
        "IPY_MODEL_1e9ce488a93d4e26ab02acb21bb330d9",
        "IPY_MODEL_bff1b8f71a50488eb797d0325bf02326"
       ],
       "layout": "IPY_MODEL_01aef1a9b6fd489ca059ee381b58bdd5",
       "selected_index": 1
      }
     },
     "42d2ccf264ef4b9b85bde13c1124e153": {
      "model_module": "@jupyter-widgets/base",
      "model_module_version": "1.1.0",
      "model_name": "LayoutModel",
      "state": {}
     },
     "438099c908fe4ebc93689bc0944a76c7": {
      "model_module": "@jupyter-widgets/base",
      "model_module_version": "1.1.0",
      "model_name": "LayoutModel",
      "state": {}
     },
     "44e0b32fd3a44a33b471a84cd72dd80d": {
      "model_module": "@jupyter-widgets/controls",
      "model_module_version": "1.4.0",
      "model_name": "DescriptionStyleModel",
      "state": {
       "description_width": ""
      }
     },
     "4557f77198b34997a10b8c9b73bd0d9d": {
      "model_module": "@jupyter-widgets/controls",
      "model_module_version": "1.4.0",
      "model_name": "DescriptionStyleModel",
      "state": {
       "description_width": ""
      }
     },
     "46d7ffff25e542fd94d566552bbff14d": {
      "model_module": "@jupyter-widgets/controls",
      "model_module_version": "1.4.0",
      "model_name": "ButtonStyleModel",
      "state": {}
     },
     "46edc734474748a5bcade0e75d73d310": {
      "model_module": "@jupyter-widgets/base",
      "model_module_version": "1.1.0",
      "model_name": "LayoutModel",
      "state": {}
     },
     "471f7b2a8de041b5a29d012ea7e041d0": {
      "model_module": "@jupyter-widgets/controls",
      "model_module_version": "1.4.0",
      "model_name": "DescriptionStyleModel",
      "state": {
       "description_width": ""
      }
     },
     "47695a6ed3d848f09c99627f0d875c99": {
      "model_module": "@jupyter-widgets/controls",
      "model_module_version": "1.4.0",
      "model_name": "DescriptionStyleModel",
      "state": {
       "description_width": ""
      }
     },
     "48608c3e888e4268869f2323bb26f9f5": {
      "model_module": "@jupyter-widgets/base",
      "model_module_version": "1.1.0",
      "model_name": "LayoutModel",
      "state": {}
     },
     "49f85f961a004df2af15867df8fe0bbc": {
      "model_module": "@jupyter-widgets/controls",
      "model_module_version": "1.4.0",
      "model_name": "ButtonStyleModel",
      "state": {}
     },
     "4a31efbec5f74efcbf9befc30b433244": {
      "model_module": "@jupyter-widgets/base",
      "model_module_version": "1.1.0",
      "model_name": "LayoutModel",
      "state": {}
     },
     "4b108fa6d25e49d4a3b053d099e96b00": {
      "model_module": "@jupyter-widgets/base",
      "model_module_version": "1.1.0",
      "model_name": "LayoutModel",
      "state": {
       "width": "30%"
      }
     },
     "4b1f826ec177494f8ef76bc6a9dd6159": {
      "model_module": "@jupyter-widgets/controls",
      "model_module_version": "1.4.0",
      "model_name": "ButtonModel",
      "state": {
       "description": "Criar projeto",
       "layout": "IPY_MODEL_d7e22423209241b1be79349283b6dd2d",
       "style": "IPY_MODEL_665e631e67bb49b4a3528bc86e0d8e55",
       "tooltip": "Cria um novo projeto"
      }
     },
     "4b5d3f7a01454de89c4d41ea26a1f4fa": {
      "model_module": "@jupyter-widgets/controls",
      "model_module_version": "1.4.0",
      "model_name": "ButtonModel",
      "state": {
       "description": "Importar modelo de dados Windsonic",
       "layout": "IPY_MODEL_dd1e8a548581406da598d18d828dd8e3",
       "style": "IPY_MODEL_e7b9f3cc673c4990a0a88a1ae9463712",
       "tooltip": "Importar modelo de dados Windsonic para leitura"
      }
     },
     "4bd5906acf0b4a61bafd5e421fe7cf38": {
      "model_module": "@jupyter-widgets/controls",
      "model_module_version": "1.4.0",
      "model_name": "DescriptionStyleModel",
      "state": {
       "description_width": ""
      }
     },
     "4c0f7b483d8348ed8978c97d87cf4cdd": {
      "model_module": "@jupyter-widgets/controls",
      "model_module_version": "1.4.0",
      "model_name": "CheckboxModel",
      "state": {
       "description": "Utilizar todas as componentes de velocidades Ux, Uy e Uz (CSAT3)",
       "disabled": false,
       "layout": "IPY_MODEL_bbb4d60b39bf4b049914d629e87b168c",
       "style": "IPY_MODEL_c0f468f62e7d4fbb8e8525f7cdc046f1",
       "value": true
      }
     },
     "4c4b73dd51004fc2a74f04db4a2868df": {
      "model_module": "@jupyter-widgets/controls",
      "model_module_version": "1.4.0",
      "model_name": "ButtonStyleModel",
      "state": {}
     },
     "4d3dacfcd6b64833ae561016eefbfb66": {
      "model_module": "@jupyter-widgets/base",
      "model_module_version": "1.1.0",
      "model_name": "LayoutModel",
      "state": {
       "width": "30%"
      }
     },
     "4e29c18f2a144116b919e6ff7880faab": {
      "model_module": "@jupyter-widgets/base",
      "model_module_version": "1.1.0",
      "model_name": "LayoutModel",
      "state": {}
     },
     "4e9be1a3372f41ebab35f503125d0000": {
      "model_module": "@jupyter-widgets/controls",
      "model_module_version": "1.4.0",
      "model_name": "AccordionModel",
      "state": {
       "_titles": {
        "0": "Importar dados de vento CSAT3",
        "1": "Importar dados de vento Windsonic"
       },
       "children": [
        "IPY_MODEL_707b434a182049e19302150560cd7348",
        "IPY_MODEL_f93942d2f4714c1aab6300126a6f4b95"
       ],
       "layout": "IPY_MODEL_72f108a6d9bb4cc6b1c44dc266bbb74e"
      }
     },
     "4f01010c6f344fb89e3f87075dc575df": {
      "model_module": "@jupyter-widgets/base",
      "model_module_version": "1.1.0",
      "model_name": "LayoutModel",
      "state": {}
     },
     "505d3ab689ff4ded9c8938fcd167772f": {
      "model_module": "@jupyter-widgets/controls",
      "model_module_version": "1.4.0",
      "model_name": "ButtonModel",
      "state": {
       "description": "Importar modelo de dados CSAT3",
       "layout": "IPY_MODEL_df2e77d8fb9c465484a46f5422610043",
       "style": "IPY_MODEL_b568dcde7f7148799701e30f57012530",
       "tooltip": "Importar modelo de dados CSAT3 para leitura"
      }
     },
     "5166a478d6a841abb0d5e4ec4f64a904": {
      "model_module": "@jupyter-widgets/base",
      "model_module_version": "1.1.0",
      "model_name": "LayoutModel",
      "state": {
       "width": "30%"
      }
     },
     "51c9d59a7b7a481eade4a845cc420c91": {
      "model_module": "@jupyter-widgets/base",
      "model_module_version": "1.1.0",
      "model_name": "LayoutModel",
      "state": {}
     },
     "51d046ce537c47419c420dc4e2bef8b1": {
      "model_module": "@jupyter-widgets/controls",
      "model_module_version": "1.4.0",
      "model_name": "ButtonStyleModel",
      "state": {}
     },
     "52dda929933a491097038ac6742773d1": {
      "model_module": "@jupyter-widgets/controls",
      "model_module_version": "1.4.0",
      "model_name": "ButtonStyleModel",
      "state": {}
     },
     "53513432fae04e22a5218c4b49706f74": {
      "model_module": "@jupyter-widgets/controls",
      "model_module_version": "1.4.0",
      "model_name": "ButtonModel",
      "state": {
       "description": "Importar modelo de dados CSAT3",
       "layout": "IPY_MODEL_a5b50e3243f4480b9e08cedba92c5e33",
       "style": "IPY_MODEL_0463cdc88b2943c098f6c9568aad01b1",
       "tooltip": "Importar modelo de dados CSAT3 para leitura"
      }
     },
     "53db27d68acf4434a4c03bf79a278910": {
      "model_module": "@jupyter-widgets/controls",
      "model_module_version": "1.4.0",
      "model_name": "ButtonStyleModel",
      "state": {}
     },
     "5443d5b22a3142cd8bd2d02a99d4c254": {
      "model_module": "@jupyter-widgets/controls",
      "model_module_version": "1.4.0",
      "model_name": "ButtonStyleModel",
      "state": {}
     },
     "54be206e69554623880f069909b5e8a8": {
      "model_module": "@jupyter-widgets/base",
      "model_module_version": "1.1.0",
      "model_name": "LayoutModel",
      "state": {}
     },
     "560eb580292c410baf3958e49d7f818e": {
      "model_module": "@jupyter-widgets/controls",
      "model_module_version": "1.4.0",
      "model_name": "AccordionModel",
      "state": {
       "_titles": {
        "0": "Criar projeto",
        "1": "Importar projeto"
       },
       "children": [
        "IPY_MODEL_8697e6e126664b5fbf25e2f8bc9f6e64",
        "IPY_MODEL_bb90000dba424bb78436b6af0fcda522"
       ],
       "layout": "IPY_MODEL_9c63e620d6214ad29ea62d1e34a8f7f6",
       "selected_index": 1
      }
     },
     "56da3d37f11b42c397296384fa4a00af": {
      "model_module": "@jupyter-widgets/base",
      "model_module_version": "1.1.0",
      "model_name": "LayoutModel",
      "state": {}
     },
     "5781212f35024496baf99e31944059aa": {
      "model_module": "@jupyter-widgets/controls",
      "model_module_version": "1.4.0",
      "model_name": "FloatTextModel",
      "state": {
       "description": "Ângulo percentual da rosa dos ventos:",
       "layout": "IPY_MODEL_81e86eced42a4a59a5c5dcad4b02a134",
       "step": null,
       "style": "IPY_MODEL_aefcc7430c7646548e5f752ba1e812d3",
       "value": 33.75
      }
     },
     "5822634f7fba4f45906b7a2467083337": {
      "model_module": "@jupyter-widgets/controls",
      "model_module_version": "1.4.0",
      "model_name": "ButtonStyleModel",
      "state": {}
     },
     "5861131ea1f54633a9dfbed0394ac38f": {
      "model_module": "@jupyter-widgets/controls",
      "model_module_version": "1.4.0",
      "model_name": "ButtonModel",
      "state": {
       "description": "Criar projeto",
       "layout": "IPY_MODEL_efcd177cfdc94cdca7f3ae3382ff4b1f",
       "style": "IPY_MODEL_3e2ab97a0aef4289af08f30f00ccefce",
       "tooltip": "Cria um novo projeto"
      }
     },
     "58a609e8ccb24ca188e40b54dd1d98b2": {
      "model_module": "@jupyter-widgets/controls",
      "model_module_version": "1.4.0",
      "model_name": "IntTextModel",
      "state": {
       "description": "Step:",
       "layout": "IPY_MODEL_5a4e504271b041b488971c5a6d6ecd4b",
       "step": 1,
       "style": "IPY_MODEL_92658cd1e3a64d10b2f2610975c9ab0e",
       "value": 2
      }
     },
     "58b687912b8449e498c88ff8f8444ac0": {
      "model_module": "@jupyter-widgets/base",
      "model_module_version": "1.1.0",
      "model_name": "LayoutModel",
      "state": {}
     },
     "58c6d355166d473a8ccbf0d2d8838fc0": {
      "model_module": "@jupyter-widgets/controls",
      "model_module_version": "1.4.0",
      "model_name": "IntTextModel",
      "state": {
       "description": "Classes de vento:",
       "layout": "IPY_MODEL_fb6743c0b8f84346a746a6737b621d00",
       "step": 1,
       "style": "IPY_MODEL_1a6ce5eef3dd4427be13426d9ff16c47",
       "value": 12
      }
     },
     "593151033d5d4a36b73d1bc8f81c5267": {
      "model_module": "@jupyter-widgets/base",
      "model_module_version": "1.1.0",
      "model_name": "LayoutModel",
      "state": {}
     },
     "593490eadbc14f3d8184d8676ab07641": {
      "model_module": "@jupyter-widgets/controls",
      "model_module_version": "1.4.0",
      "model_name": "ButtonStyleModel",
      "state": {}
     },
     "59aa34debb8a42598a9ef71904622a91": {
      "model_module": "@jupyter-widgets/controls",
      "model_module_version": "1.4.0",
      "model_name": "AccordionModel",
      "state": {
       "_titles": {
        "0": "Criar projeto",
        "1": "Importar projeto"
       },
       "children": [
        "IPY_MODEL_a9295f2a952c4554a5b3abc0a1e8ecd9",
        "IPY_MODEL_a70f7a8b875a4c0cb693cc4f0e081728"
       ],
       "layout": "IPY_MODEL_ed06f1027d304a368223f3900769044a",
       "selected_index": 1
      }
     },
     "59addd7007754086b2e3026ffc73e736": {
      "model_module": "@jupyter-widgets/base",
      "model_module_version": "1.1.0",
      "model_name": "LayoutModel",
      "state": {}
     },
     "5a4e504271b041b488971c5a6d6ecd4b": {
      "model_module": "@jupyter-widgets/base",
      "model_module_version": "1.1.0",
      "model_name": "LayoutModel",
      "state": {
       "width": "400px"
      }
     },
     "5a98dcd8557d476e971b7f4d9982b6ad": {
      "model_module": "@jupyter-widgets/controls",
      "model_module_version": "1.4.0",
      "model_name": "ButtonModel",
      "state": {
       "description": "Criar projeto",
       "layout": "IPY_MODEL_029bfb2554b7432399b47923d74b1d2a",
       "style": "IPY_MODEL_1688c24736d8491ab0da622826d8ccb6",
       "tooltip": "Cria um novo projeto"
      }
     },
     "5aa091c8c9114ccc84a90549f5519457": {
      "model_module": "@jupyter-widgets/base",
      "model_module_version": "1.1.0",
      "model_name": "LayoutModel",
      "state": {}
     },
     "5b5f9e3fb5f746e88a28bef676b05004": {
      "model_module": "@jupyter-widgets/base",
      "model_module_version": "1.1.0",
      "model_name": "LayoutModel",
      "state": {}
     },
     "5b60ac22db1343eabe125506de58c1fd": {
      "model_module": "@jupyter-widgets/controls",
      "model_module_version": "1.4.0",
      "model_name": "AccordionModel",
      "state": {
       "_titles": {
        "0": "Importar dados de vento CSAT3",
        "1": "Importar dados de vento Windsonic"
       },
       "children": [
        "IPY_MODEL_a6910938d8d54d4ca0191dc50542e392",
        "IPY_MODEL_d51df04150ff4a91a0299e9335ec78e8"
       ],
       "layout": "IPY_MODEL_292fc5d54f3b47c585285e3fc9bb94e9",
       "selected_index": 1
      }
     },
     "5b9fcb028e3d412cbac7a9e4721d04f4": {
      "model_module": "@jupyter-widgets/controls",
      "model_module_version": "1.4.0",
      "model_name": "ButtonStyleModel",
      "state": {}
     },
     "5c386da49d1a450a8196688cff6f8fab": {
      "model_module": "@jupyter-widgets/controls",
      "model_module_version": "1.4.0",
      "model_name": "AccordionModel",
      "state": {
       "_titles": {
        "0": "Criar projeto",
        "1": "Importar projeto"
       },
       "children": [
        "IPY_MODEL_e51fed124f7449e1b76c726b6b02daac",
        "IPY_MODEL_0459e77c732c4cfe843a8c2da129dc10"
       ],
       "layout": "IPY_MODEL_3e2cac9ca6a74d9aa5a359c47f2064e6"
      }
     },
     "5d15909962034e359b7faa211fe24b42": {
      "model_module": "@jupyter-widgets/controls",
      "model_module_version": "1.4.0",
      "model_name": "TextModel",
      "state": {
       "description": "Unidade de velocidade:",
       "layout": "IPY_MODEL_7f21941dbac84741b7eb33ad7dede906",
       "style": "IPY_MODEL_ea12fbdceb904046bc9d76e0d72bc886",
       "value": "m/s"
      }
     },
     "5d26cfad08fd4b62bbd840d32fc57aa9": {
      "model_module": "@jupyter-widgets/base",
      "model_module_version": "1.1.0",
      "model_name": "LayoutModel",
      "state": {}
     },
     "5e2e1dfc716a45fe95907a19bd056de5": {
      "model_module": "@jupyter-widgets/controls",
      "model_module_version": "1.4.0",
      "model_name": "ButtonModel",
      "state": {
       "description": "Importar projeto",
       "layout": "IPY_MODEL_a04f01d3c465483da12b751fe8ed0814",
       "style": "IPY_MODEL_397ff0380c374153a5a4c6571fb22982",
       "tooltip": "Importa o .csv de um projeto já criado"
      }
     },
     "5e911690a7b5405da0bab3bce5097791": {
      "model_module": "@jupyter-widgets/controls",
      "model_module_version": "1.4.0",
      "model_name": "DescriptionStyleModel",
      "state": {
       "description_width": ""
      }
     },
     "5edfc012281147329bdf7236c1ac7fa0": {
      "model_module": "@jupyter-widgets/controls",
      "model_module_version": "1.4.0",
      "model_name": "DescriptionStyleModel",
      "state": {
       "description_width": ""
      }
     },
     "5fadada48c7e4084ac55e3d81f58ecac": {
      "model_module": "@jupyter-widgets/base",
      "model_module_version": "1.1.0",
      "model_name": "LayoutModel",
      "state": {}
     },
     "600d7a85df6a4a0396f51c8d234db46a": {
      "model_module": "@jupyter-widgets/controls",
      "model_module_version": "1.4.0",
      "model_name": "CheckboxModel",
      "state": {
       "description": "Utilizar RL",
       "disabled": false,
       "layout": "IPY_MODEL_92204b04aa23423ca617b302bea4d328",
       "style": "IPY_MODEL_83481d37cefd4107aa377fda0e573b3e",
       "value": true
      }
     },
     "60abf634f3d34ffcb0479049a0c60a8d": {
      "model_module": "@jupyter-widgets/controls",
      "model_module_version": "1.4.0",
      "model_name": "AccordionModel",
      "state": {
       "_titles": {
        "0": "Ajustes a serem incluídos nos cálculos de velocidades resultantes"
       },
       "children": [
        "IPY_MODEL_f2bc9d1370da480e82aae1ed00e8d28f"
       ],
       "layout": "IPY_MODEL_51c9d59a7b7a481eade4a845cc420c91"
      }
     },
     "613e24a259534f7fad2d24755bcdf11b": {
      "model_module": "@jupyter-widgets/controls",
      "model_module_version": "1.4.0",
      "model_name": "ButtonStyleModel",
      "state": {}
     },
     "614b7a47008e47f2a3e5f7b35200bf23": {
      "model_module": "@jupyter-widgets/controls",
      "model_module_version": "1.4.0",
      "model_name": "DescriptionStyleModel",
      "state": {
       "description_width": ""
      }
     },
     "618d47cb9ac84efb888eef576028af5d": {
      "model_module": "@jupyter-widgets/controls",
      "model_module_version": "1.4.0",
      "model_name": "ButtonModel",
      "state": {
       "description": "Criar projeto",
       "layout": "IPY_MODEL_b46a448041384506a8efa2805e5056d4",
       "style": "IPY_MODEL_222ecbcdcade46ddaf519d1f0b5338a6",
       "tooltip": "Cria um novo projeto"
      }
     },
     "61e7bb7aaccc405087fe575f016714b8": {
      "model_module": "@jupyter-widgets/base",
      "model_module_version": "1.1.0",
      "model_name": "LayoutModel",
      "state": {}
     },
     "62d27abb41f949ec9e932ecd8acb7703": {
      "model_module": "@jupyter-widgets/base",
      "model_module_version": "1.1.0",
      "model_name": "LayoutModel",
      "state": {}
     },
     "6328186942664ccea05d5034be31f028": {
      "model_module": "@jupyter-widgets/controls",
      "model_module_version": "1.4.0",
      "model_name": "ButtonStyleModel",
      "state": {}
     },
     "636418a3e80a40df9f1133725e8ace04": {
      "model_module": "@jupyter-widgets/controls",
      "model_module_version": "1.4.0",
      "model_name": "IntTextModel",
      "state": {
       "description": "Step:",
       "layout": "IPY_MODEL_13e0d7e46c3143db81c5d9d5342aa6c7",
       "step": 1,
       "style": "IPY_MODEL_90ecb599791f42beb7ab906a2ebd0931",
       "value": 1
      }
     },
     "63f32f9895fc40aa973bf81116c71163": {
      "model_module": "@jupyter-widgets/controls",
      "model_module_version": "1.4.0",
      "model_name": "CheckboxModel",
      "state": {
       "description": "Utilizar todas as componentes de velocidades Ux, Uy e Uz (CSAT3)",
       "disabled": false,
       "layout": "IPY_MODEL_a8b111b0a5714bfea8e3cbe09b66b713",
       "style": "IPY_MODEL_73e6f421d8d843168881b577a3e48333",
       "value": false
      }
     },
     "643a7b183840420c8b8e90df5e661726": {
      "model_module": "@jupyter-widgets/base",
      "model_module_version": "1.1.0",
      "model_name": "LayoutModel",
      "state": {}
     },
     "64e10b8b7c0142669477a470e8482f72": {
      "model_module": "@jupyter-widgets/base",
      "model_module_version": "1.1.0",
      "model_name": "LayoutModel",
      "state": {
       "width": "400px"
      }
     },
     "6514fa88433040e5811b2f0968fd0897": {
      "model_module": "@jupyter-widgets/controls",
      "model_module_version": "1.4.0",
      "model_name": "DescriptionStyleModel",
      "state": {
       "description_width": ""
      }
     },
     "65514442356e4042837e57bc0108bd56": {
      "model_module": "@jupyter-widgets/controls",
      "model_module_version": "1.4.0",
      "model_name": "FloatTextModel",
      "state": {
       "description": "Ângulo percentual da rosa dos ventos:",
       "layout": "IPY_MODEL_c91a47d2101543ab82b222fb6f9788b1",
       "step": null,
       "style": "IPY_MODEL_23864d6a09f44d5c8787b0c1b7fa56b4",
       "value": 33.75
      }
     },
     "660e9c5849ce4710b6b2ec317333d81a": {
      "model_module": "@jupyter-widgets/base",
      "model_module_version": "1.1.0",
      "model_name": "LayoutModel",
      "state": {
       "width": "400px"
      }
     },
     "6612874c2d4c4b0fa7bdeb2712b34d3e": {
      "model_module": "@jupyter-widgets/base",
      "model_module_version": "1.1.0",
      "model_name": "LayoutModel",
      "state": {}
     },
     "661b99ba13c34ad3b2d422d2bb88bbbf": {
      "model_module": "@jupyter-widgets/controls",
      "model_module_version": "1.4.0",
      "model_name": "AccordionModel",
      "state": {
       "_titles": {
        "0": "Ângulo para a rosa dos ventos",
        "1": "Classes de vento",
        "2": "Step",
        "3": "Unidade de velocidade"
       },
       "children": [
        "IPY_MODEL_743e2225b62545c19864faf11c1f7e5f",
        "IPY_MODEL_58c6d355166d473a8ccbf0d2d8838fc0",
        "IPY_MODEL_c75504a9a5fc4ba7b0f459a202347315",
        "IPY_MODEL_304bf3adb414468c981d0cc3185815fa"
       ],
       "layout": "IPY_MODEL_8b669de47dc447dea11040010609e62b",
       "selected_index": 3
      }
     },
     "665e631e67bb49b4a3528bc86e0d8e55": {
      "model_module": "@jupyter-widgets/controls",
      "model_module_version": "1.4.0",
      "model_name": "ButtonStyleModel",
      "state": {}
     },
     "668d05aab8734fc586b9026df4230c0f": {
      "model_module": "@jupyter-widgets/base",
      "model_module_version": "1.1.0",
      "model_name": "LayoutModel",
      "state": {}
     },
     "6791b0c7fc9b4b6fbb3dc2a0ad594c06": {
      "model_module": "@jupyter-widgets/base",
      "model_module_version": "1.1.0",
      "model_name": "LayoutModel",
      "state": {}
     },
     "6a1fb18ff7b240df89723b15efbd327e": {
      "model_module": "@jupyter-widgets/base",
      "model_module_version": "1.1.0",
      "model_name": "LayoutModel",
      "state": {}
     },
     "6a29506098f84b178adf6d19f7157f81": {
      "model_module": "@jupyter-widgets/controls",
      "model_module_version": "1.4.0",
      "model_name": "DescriptionStyleModel",
      "state": {
       "description_width": ""
      }
     },
     "6a4bb8b4c6fe4ecfb6e258e1bff9c96f": {
      "model_module": "@jupyter-widgets/controls",
      "model_module_version": "1.4.0",
      "model_name": "CheckboxModel",
      "state": {
       "description": "Utilizar RT",
       "disabled": false,
       "layout": "IPY_MODEL_d49b6fd011934138967bd870b4e652f6",
       "style": "IPY_MODEL_44e0b32fd3a44a33b471a84cd72dd80d",
       "value": false
      }
     },
     "6a5d4343bf374f00aecd881a7c0eeff6": {
      "model_module": "@jupyter-widgets/controls",
      "model_module_version": "1.4.0",
      "model_name": "DescriptionStyleModel",
      "state": {
       "description_width": ""
      }
     },
     "6b29943457aa4d9b903bdd5c45465864": {
      "model_module": "@jupyter-widgets/controls",
      "model_module_version": "1.4.0",
      "model_name": "CheckboxModel",
      "state": {
       "description": "Ajustar alturas",
       "disabled": false,
       "layout": "IPY_MODEL_8bb8c5c4c9cb49caad3a13701e95dcd0",
       "style": "IPY_MODEL_1e8e0718471f453e97d16a02ae7c6a16",
       "value": false
      }
     },
     "6bc045debaa34892a2ba8c928e0b7a2f": {
      "model_module": "@jupyter-widgets/controls",
      "model_module_version": "1.4.0",
      "model_name": "ButtonModel",
      "state": {
       "description": "Criar projeto",
       "layout": "IPY_MODEL_e35798b9f9724176afc2db3392f7d0a8",
       "style": "IPY_MODEL_5822634f7fba4f45906b7a2467083337",
       "tooltip": "Cria um novo projeto"
      }
     },
     "6d257dcbf0d24b77bf05ee6c3b02a8db": {
      "model_module": "@jupyter-widgets/base",
      "model_module_version": "1.1.0",
      "model_name": "LayoutModel",
      "state": {}
     },
     "6d87bec8dbf546e1b446c451f66eaa9a": {
      "model_module": "@jupyter-widgets/controls",
      "model_module_version": "1.4.0",
      "model_name": "AccordionModel",
      "state": {
       "_titles": {
        "0": "Importar dados de vento CSAT3",
        "1": "Importar dados de vento Windsonic"
       },
       "children": [
        "IPY_MODEL_53513432fae04e22a5218c4b49706f74",
        "IPY_MODEL_341e539545614af695c7c316179279e0"
       ],
       "layout": "IPY_MODEL_32cb3f2fbc574d64b2f9bfb06e804565"
      }
     },
     "6f1032d495a546cbb773e28ede465998": {
      "model_module": "@jupyter-widgets/base",
      "model_module_version": "1.1.0",
      "model_name": "LayoutModel",
      "state": {}
     },
     "6f7127197a86428eab149ca376777602": {
      "model_module": "@jupyter-widgets/controls",
      "model_module_version": "1.4.0",
      "model_name": "DescriptionStyleModel",
      "state": {
       "description_width": ""
      }
     },
     "6fa2833d40204ab193f91a6b87931576": {
      "model_module": "@jupyter-widgets/base",
      "model_module_version": "1.1.0",
      "model_name": "LayoutModel",
      "state": {}
     },
     "6ffbd06d8946496890bae3d2b2a146f6": {
      "model_module": "@jupyter-widgets/controls",
      "model_module_version": "1.4.0",
      "model_name": "ButtonStyleModel",
      "state": {}
     },
     "707b434a182049e19302150560cd7348": {
      "model_module": "@jupyter-widgets/controls",
      "model_module_version": "1.4.0",
      "model_name": "ButtonModel",
      "state": {
       "description": "Importar modelo de dados CSAT3",
       "layout": "IPY_MODEL_024c97e9154641e78351f9cf99df2fa0",
       "style": "IPY_MODEL_8f4e0c2319a648c3b62ac0170953d9a9",
       "tooltip": "Importar modelo de dados CSAT3 para leitura"
      }
     },
     "70993b71894d4e9cbd0141845c15aaca": {
      "model_module": "@jupyter-widgets/base",
      "model_module_version": "1.1.0",
      "model_name": "LayoutModel",
      "state": {}
     },
     "70b1cc99832e4f67aa6fcee0205bdd41": {
      "model_module": "@jupyter-widgets/base",
      "model_module_version": "1.1.0",
      "model_name": "LayoutModel",
      "state": {}
     },
     "70b3898d5967430c94af9de31059ab12": {
      "model_module": "@jupyter-widgets/controls",
      "model_module_version": "1.4.0",
      "model_name": "TextModel",
      "state": {
       "description": "Unidade de velocidade:",
       "layout": "IPY_MODEL_b68f94c297074ae69c219988a7869896",
       "style": "IPY_MODEL_b45a1f2333b14631926ba02e7fb5d7ec",
       "value": "m/s"
      }
     },
     "71207c0d195b481c8d630bfa74585d1d": {
      "model_module": "@jupyter-widgets/base",
      "model_module_version": "1.1.0",
      "model_name": "LayoutModel",
      "state": {}
     },
     "71296dda99414ef089b95b0b62dc6821": {
      "model_module": "@jupyter-widgets/controls",
      "model_module_version": "1.4.0",
      "model_name": "DescriptionStyleModel",
      "state": {
       "description_width": ""
      }
     },
     "7132eca5c32c4187a4f25886b7c091cb": {
      "model_module": "@jupyter-widgets/controls",
      "model_module_version": "1.4.0",
      "model_name": "TabModel",
      "state": {
       "_titles": {
        "0": "Projetos"
       },
       "children": [
        "IPY_MODEL_fa6a60e4b2184122bcb6814dbdc1044d"
       ],
       "layout": "IPY_MODEL_7d9ad88dcc9d437ba152b15cd593fe33"
      }
     },
     "718829aa939849c59294b2088f8e6f27": {
      "model_module": "@jupyter-widgets/base",
      "model_module_version": "1.1.0",
      "model_name": "LayoutModel",
      "state": {
       "width": "400px"
      }
     },
     "7188a140f82046219f0c180d36dc5362": {
      "model_module": "@jupyter-widgets/controls",
      "model_module_version": "1.4.0",
      "model_name": "IntTextModel",
      "state": {
       "description": "Step:",
       "layout": "IPY_MODEL_1f37a7581cb845debd54a2e39da309f2",
       "step": 1,
       "style": "IPY_MODEL_7214b9556d154c408d815cb18b8871b3",
       "value": 1
      }
     },
     "71b8afed13b744ed85a6564f9aad2726": {
      "model_module": "@jupyter-widgets/controls",
      "model_module_version": "1.4.0",
      "model_name": "FloatTextModel",
      "state": {
       "description": "Ângulo percentual da rosa dos ventos:",
       "layout": "IPY_MODEL_c51ed4ac7f7b4dc19f27eb80de67c0fb",
       "step": null,
       "style": "IPY_MODEL_6f7127197a86428eab149ca376777602",
       "value": 33.75
      }
     },
     "7214b9556d154c408d815cb18b8871b3": {
      "model_module": "@jupyter-widgets/controls",
      "model_module_version": "1.4.0",
      "model_name": "DescriptionStyleModel",
      "state": {
       "description_width": ""
      }
     },
     "72227108d905484e9a68e07c3f980572": {
      "model_module": "@jupyter-widgets/controls",
      "model_module_version": "1.4.0",
      "model_name": "CheckboxModel",
      "state": {
       "description": "Ajustar alturas",
       "disabled": false,
       "layout": "IPY_MODEL_8262108e25f74c878d3cdda10b561459",
       "style": "IPY_MODEL_8b9bec8ac6254eaba2094f720f9f9cfc",
       "value": true
      }
     },
     "7282f393d11c484d95d9c59cf5fea572": {
      "model_module": "@jupyter-widgets/controls",
      "model_module_version": "1.4.0",
      "model_name": "ButtonStyleModel",
      "state": {}
     },
     "72bb00675be3498aa333e650f97891c5": {
      "model_module": "@jupyter-widgets/controls",
      "model_module_version": "1.4.0",
      "model_name": "ButtonStyleModel",
      "state": {}
     },
     "72f108a6d9bb4cc6b1c44dc266bbb74e": {
      "model_module": "@jupyter-widgets/base",
      "model_module_version": "1.1.0",
      "model_name": "LayoutModel",
      "state": {}
     },
     "73a64b187aa646c58cb4a9bd0a9ff78d": {
      "model_module": "@jupyter-widgets/base",
      "model_module_version": "1.1.0",
      "model_name": "LayoutModel",
      "state": {}
     },
     "73ab8d8cd8e24998a58e827833ca3347": {
      "model_module": "@jupyter-widgets/controls",
      "model_module_version": "1.4.0",
      "model_name": "AccordionModel",
      "state": {
       "_titles": {
        "0": "Ajustes a serem incluídos nos cálculos de velocidades resultantes"
       },
       "children": [
        "IPY_MODEL_b061eca513e04f1f91711989e17facd1"
       ],
       "layout": "IPY_MODEL_dbf9f3e9cdeb43b0aa3d90d820064b0f"
      }
     },
     "73b400b2f2a2436ea7112c0c266e4be9": {
      "model_module": "@jupyter-widgets/controls",
      "model_module_version": "1.4.0",
      "model_name": "DescriptionStyleModel",
      "state": {
       "description_width": ""
      }
     },
     "73cc9030374e4047a37e8e589acfb97f": {
      "model_module": "@jupyter-widgets/controls",
      "model_module_version": "1.4.0",
      "model_name": "VBoxModel",
      "state": {
       "children": [
        "IPY_MODEL_cc639c857e5c40a8af48cad2f49f4a74",
        "IPY_MODEL_eae04e4966fa43c3ae8233ae024692ee",
        "IPY_MODEL_21dbfbcfeb2f4ef894437201bb4a6bcf",
        "IPY_MODEL_f1e66fd8289b421eafad012a1bd1eca9"
       ],
       "layout": "IPY_MODEL_0665c3504ed8460681702edba1b9ad39"
      }
     },
     "73e6f421d8d843168881b577a3e48333": {
      "model_module": "@jupyter-widgets/controls",
      "model_module_version": "1.4.0",
      "model_name": "DescriptionStyleModel",
      "state": {
       "description_width": ""
      }
     },
     "743e2225b62545c19864faf11c1f7e5f": {
      "model_module": "@jupyter-widgets/controls",
      "model_module_version": "1.4.0",
      "model_name": "FloatTextModel",
      "state": {
       "description": "Ângulo percentual da rosa dos ventos:",
       "layout": "IPY_MODEL_718829aa939849c59294b2088f8e6f27",
       "step": null,
       "style": "IPY_MODEL_e21c08ff99f24069804ed18b9fa8cc3c",
       "value": 33.75
      }
     },
     "74d065af1daf4b2885f9f4b6064e8476": {
      "model_module": "@jupyter-widgets/base",
      "model_module_version": "1.1.0",
      "model_name": "LayoutModel",
      "state": {
       "width": "30%"
      }
     },
     "7502e1e4ca15490c8485525556797e2a": {
      "model_module": "@jupyter-widgets/controls",
      "model_module_version": "1.4.0",
      "model_name": "ButtonStyleModel",
      "state": {}
     },
     "7540e2e0cb0944f58b6bfb3f4af42165": {
      "model_module": "@jupyter-widgets/controls",
      "model_module_version": "1.4.0",
      "model_name": "TextModel",
      "state": {
       "description": "Unidade de velocidade:",
       "layout": "IPY_MODEL_8de80291840045dfa2781f8e8b6f2937",
       "style": "IPY_MODEL_fb9813a125b7422994dd8c052b8665f6",
       "value": "m/s"
      }
     },
     "75551ec16c714f66a37c70111f441deb": {
      "model_module": "@jupyter-widgets/base",
      "model_module_version": "1.1.0",
      "model_name": "LayoutModel",
      "state": {
       "width": "30%"
      }
     },
     "757bebefc4cb48e3a17558f33ee1bcb9": {
      "model_module": "@jupyter-widgets/controls",
      "model_module_version": "1.4.0",
      "model_name": "TabModel",
      "state": {
       "_titles": {
        "0": "Dados de Ventos",
        "1": "Ajustes de Cálculo",
        "2": "Outros Ajustes"
       },
       "children": [
        "IPY_MODEL_6d87bec8dbf546e1b446c451f66eaa9a",
        "IPY_MODEL_73ab8d8cd8e24998a58e827833ca3347",
        "IPY_MODEL_88f5bd4d578b47069aeb1a8327a4fc19"
       ],
       "layout": "IPY_MODEL_bea31aef8c5b47f0bd661e93789b95f8"
      }
     },
     "75aa2ffa8d0f46078282460b84389d65": {
      "model_module": "@jupyter-widgets/controls",
      "model_module_version": "1.4.0",
      "model_name": "DescriptionStyleModel",
      "state": {
       "description_width": ""
      }
     },
     "75fdbfb1f8e04f8a9e8d192cad356ebc": {
      "model_module": "@jupyter-widgets/base",
      "model_module_version": "1.1.0",
      "model_name": "LayoutModel",
      "state": {}
     },
     "76734527e8954e66b6164ca6b0bc7a53": {
      "model_module": "@jupyter-widgets/base",
      "model_module_version": "1.1.0",
      "model_name": "LayoutModel",
      "state": {}
     },
     "76bc9339e5cc424b930ade69ed1c1187": {
      "model_module": "@jupyter-widgets/controls",
      "model_module_version": "1.4.0",
      "model_name": "ButtonStyleModel",
      "state": {}
     },
     "777afa6037ba429abd1a24cb30efe72d": {
      "model_module": "@jupyter-widgets/controls",
      "model_module_version": "1.4.0",
      "model_name": "CheckboxModel",
      "state": {
       "description": "Utilizar RT",
       "disabled": false,
       "layout": "IPY_MODEL_e3b3a14bb95e4bb18b30b2a1d26aa19b",
       "style": "IPY_MODEL_2e7053cb86e9437e8be66fa14ea3ee7e",
       "value": true
      }
     },
     "779ab1cc7b9547d4a8e9c6af71c60de1": {
      "model_module": "@jupyter-widgets/base",
      "model_module_version": "1.1.0",
      "model_name": "LayoutModel",
      "state": {}
     },
     "780cfc275c6848af91f42245c3dbac6a": {
      "model_module": "@jupyter-widgets/base",
      "model_module_version": "1.1.0",
      "model_name": "LayoutModel",
      "state": {}
     },
     "78cc31404c3d4dbaab754aea57dc23b2": {
      "model_module": "@jupyter-widgets/base",
      "model_module_version": "1.1.0",
      "model_name": "LayoutModel",
      "state": {}
     },
     "78fdfd56b0c145a78a170de170fc6ff8": {
      "model_module": "@jupyter-widgets/controls",
      "model_module_version": "1.4.0",
      "model_name": "ButtonModel",
      "state": {
       "description": "Criar projeto",
       "layout": "IPY_MODEL_42d2ccf264ef4b9b85bde13c1124e153",
       "style": "IPY_MODEL_0c30ef7c1f544b97a9305be3cd95cf34",
       "tooltip": "Cria um novo projeto"
      }
     },
     "7a11f26c5b5c4156b6fdbaad42194d9b": {
      "model_module": "@jupyter-widgets/controls",
      "model_module_version": "1.4.0",
      "model_name": "DescriptionStyleModel",
      "state": {
       "description_width": ""
      }
     },
     "7ab1d5a0ae784e679732934c6dddedf7": {
      "model_module": "@jupyter-widgets/controls",
      "model_module_version": "1.4.0",
      "model_name": "ButtonModel",
      "state": {
       "description": "Importar projeto",
       "layout": "IPY_MODEL_cf2b29845163418ab5ef177d6f453c18",
       "style": "IPY_MODEL_8b13619bb1a74c84b93f3cd6afae9b86",
       "tooltip": "Importa o .csv de um projeto criado"
      }
     },
     "7b86d291d2914066b3a6dc95831f4111": {
      "model_module": "@jupyter-widgets/controls",
      "model_module_version": "1.4.0",
      "model_name": "ButtonStyleModel",
      "state": {}
     },
     "7bc38191ff7d40a7b0c82b11f9b68cf3": {
      "model_module": "@jupyter-widgets/controls",
      "model_module_version": "1.4.0",
      "model_name": "DescriptionStyleModel",
      "state": {
       "description_width": ""
      }
     },
     "7c39ecb4fa834ed8ae8491bb252d99ca": {
      "model_module": "@jupyter-widgets/base",
      "model_module_version": "1.1.0",
      "model_name": "LayoutModel",
      "state": {}
     },
     "7c5b316a46df44cfb6149d6aeb8c85cd": {
      "model_module": "@jupyter-widgets/controls",
      "model_module_version": "1.4.0",
      "model_name": "TabModel",
      "state": {
       "_titles": {
        "0": "Projetos"
       },
       "children": [
        "IPY_MODEL_193b1a0f93134114984f6e4c347d8586"
       ],
       "layout": "IPY_MODEL_3f7712386b024c8db7a28aea2b52d769"
      }
     },
     "7cf8c51ee6714488a74a1af288c14ded": {
      "model_module": "@jupyter-widgets/controls",
      "model_module_version": "1.4.0",
      "model_name": "ButtonModel",
      "state": {
       "description": "Importar projeto",
       "layout": "IPY_MODEL_61e7bb7aaccc405087fe575f016714b8",
       "style": "IPY_MODEL_06fab296a7184898a5d3f2558f3f8215",
       "tooltip": "Importa o .csv de um projeto criado"
      }
     },
     "7d2c6bef0d7c45edb03d00c52a442010": {
      "model_module": "@jupyter-widgets/base",
      "model_module_version": "1.1.0",
      "model_name": "LayoutModel",
      "state": {
       "width": "400px"
      }
     },
     "7d9ad88dcc9d437ba152b15cd593fe33": {
      "model_module": "@jupyter-widgets/base",
      "model_module_version": "1.1.0",
      "model_name": "LayoutModel",
      "state": {}
     },
     "7dfc9a0f8e614109987c81a684d4a8b8": {
      "model_module": "@jupyter-widgets/base",
      "model_module_version": "1.1.0",
      "model_name": "LayoutModel",
      "state": {}
     },
     "7e6fa58674d34ca9a687de3f09eb28cd": {
      "model_module": "@jupyter-widgets/base",
      "model_module_version": "1.1.0",
      "model_name": "LayoutModel",
      "state": {}
     },
     "7f113618687543538b5dac1a522f3851": {
      "model_module": "@jupyter-widgets/base",
      "model_module_version": "1.1.0",
      "model_name": "LayoutModel",
      "state": {}
     },
     "7f1c873c35ac4bf4a95e813561b79eb1": {
      "model_module": "@jupyter-widgets/base",
      "model_module_version": "1.1.0",
      "model_name": "LayoutModel",
      "state": {}
     },
     "7f1f87ebe62a4ad2b16dda460608c4c7": {
      "model_module": "@jupyter-widgets/controls",
      "model_module_version": "1.4.0",
      "model_name": "ButtonModel",
      "state": {
       "description": "Importar projeto",
       "layout": "IPY_MODEL_3769b966fb934c35a8d00c434a2e9f5e",
       "style": "IPY_MODEL_6ffbd06d8946496890bae3d2b2a146f6",
       "tooltip": "Importa o .csv de um projeto criado"
      }
     },
     "7f21941dbac84741b7eb33ad7dede906": {
      "model_module": "@jupyter-widgets/base",
      "model_module_version": "1.1.0",
      "model_name": "LayoutModel",
      "state": {
       "width": "400px"
      }
     },
     "7fb621bc0cb34cbba505e586070574dc": {
      "model_module": "@jupyter-widgets/base",
      "model_module_version": "1.1.0",
      "model_name": "LayoutModel",
      "state": {}
     },
     "8003cb282143494a8bbc1de1a4640395": {
      "model_module": "@jupyter-widgets/base",
      "model_module_version": "1.1.0",
      "model_name": "LayoutModel",
      "state": {}
     },
     "8089b70cd9664f41906cd402b31e426a": {
      "model_module": "@jupyter-widgets/base",
      "model_module_version": "1.1.0",
      "model_name": "LayoutModel",
      "state": {}
     },
     "812550460cdb42eca9800647b0cec54e": {
      "model_module": "@jupyter-widgets/controls",
      "model_module_version": "1.4.0",
      "model_name": "VBoxModel",
      "state": {
       "children": [
        "IPY_MODEL_1ce1a02ec1124c64be00bda3b1a50264",
        "IPY_MODEL_051a1834cc0045559cbb71ecd24ab682",
        "IPY_MODEL_d412e961e65141e4b8054c3af509905f",
        "IPY_MODEL_63f32f9895fc40aa973bf81116c71163"
       ],
       "layout": "IPY_MODEL_2b158502d6064cba92e8ca3fa8057fcc"
      }
     },
     "81e86eced42a4a59a5c5dcad4b02a134": {
      "model_module": "@jupyter-widgets/base",
      "model_module_version": "1.1.0",
      "model_name": "LayoutModel",
      "state": {
       "width": "400px"
      }
     },
     "822f54fd84d0464bb55709c4b17b13dd": {
      "model_module": "@jupyter-widgets/controls",
      "model_module_version": "1.4.0",
      "model_name": "ButtonStyleModel",
      "state": {}
     },
     "823a5c6ef79240e1a02cfd451d794658": {
      "model_module": "@jupyter-widgets/controls",
      "model_module_version": "1.4.0",
      "model_name": "DescriptionStyleModel",
      "state": {
       "description_width": ""
      }
     },
     "825079c83286488fa9538a4c34aceeef": {
      "model_module": "@jupyter-widgets/controls",
      "model_module_version": "1.4.0",
      "model_name": "ButtonModel",
      "state": {
       "description": "Criar projeto",
       "layout": "IPY_MODEL_bfc4c6309ee04ac0b2c45a4f290752ce",
       "style": "IPY_MODEL_09c461f83fe94c06ac1804125dced340",
       "tooltip": "Cria um novo projeto"
      }
     },
     "8262108e25f74c878d3cdda10b561459": {
      "model_module": "@jupyter-widgets/base",
      "model_module_version": "1.1.0",
      "model_name": "LayoutModel",
      "state": {}
     },
     "83481d37cefd4107aa377fda0e573b3e": {
      "model_module": "@jupyter-widgets/controls",
      "model_module_version": "1.4.0",
      "model_name": "DescriptionStyleModel",
      "state": {
       "description_width": ""
      }
     },
     "83d9b35e418e46e3a11322f6bb46242d": {
      "model_module": "@jupyter-widgets/controls",
      "model_module_version": "1.4.0",
      "model_name": "AccordionModel",
      "state": {
       "_titles": {
        "0": "Criar projeto",
        "1": "Importar projeto"
       },
       "children": [
        "IPY_MODEL_618d47cb9ac84efb888eef576028af5d",
        "IPY_MODEL_b738def47c184c89942db245aa96b2c2"
       ],
       "layout": "IPY_MODEL_90127c6a2ab84b65a4da46dc05a63fdc",
       "selected_index": 1
      }
     },
     "8469fdbba9ce4cad8d560f73d9397366": {
      "model_module": "@jupyter-widgets/base",
      "model_module_version": "1.1.0",
      "model_name": "LayoutModel",
      "state": {}
     },
     "846c77c93bf84a77a16872812ad05672": {
      "model_module": "@jupyter-widgets/controls",
      "model_module_version": "1.4.0",
      "model_name": "ButtonStyleModel",
      "state": {}
     },
     "849345fd330f4866a883aa9c6cc09345": {
      "model_module": "@jupyter-widgets/controls",
      "model_module_version": "1.4.0",
      "model_name": "AccordionModel",
      "state": {
       "_titles": {
        "0": "Ajustes a serem incluídos nos cálculos de velocidades resultantes"
       },
       "children": [
        "IPY_MODEL_c1cb2c39108246aba697b00bea5f5d40"
       ],
       "layout": "IPY_MODEL_32763821a7624b9c903c324b904839cc"
      }
     },
     "84a65da6355b435d91394408525a210d": {
      "model_module": "@jupyter-widgets/controls",
      "model_module_version": "1.4.0",
      "model_name": "DescriptionStyleModel",
      "state": {
       "description_width": ""
      }
     },
     "8530436fe2994727b73d74af16dfbed9": {
      "model_module": "@jupyter-widgets/controls",
      "model_module_version": "1.4.0",
      "model_name": "TabModel",
      "state": {
       "_titles": {
        "0": "Projetos"
       },
       "children": [
        "IPY_MODEL_367b7f0684fb4e31913215a93a2cf5da"
       ],
       "layout": "IPY_MODEL_e0b0f68edc144ccb88c3012734174c42"
      }
     },
     "8697e6e126664b5fbf25e2f8bc9f6e64": {
      "model_module": "@jupyter-widgets/controls",
      "model_module_version": "1.4.0",
      "model_name": "ButtonModel",
      "state": {
       "description": "Criar projeto",
       "layout": "IPY_MODEL_9f5a3a0a65cf4f29b4836d1ecf005e39",
       "style": "IPY_MODEL_3b94c1efdd4149a5852f3511831455dc",
       "tooltip": "Cria um novo projeto"
      }
     },
     "86e32bb46d4643228828d70a3102fccd": {
      "model_module": "@jupyter-widgets/controls",
      "model_module_version": "1.4.0",
      "model_name": "ButtonStyleModel",
      "state": {}
     },
     "87083ea72f0f4b0bb6f970a660ddeb49": {
      "model_module": "@jupyter-widgets/controls",
      "model_module_version": "1.4.0",
      "model_name": "ButtonModel",
      "state": {
       "description": "Importar projeto",
       "layout": "IPY_MODEL_8c6cd7dc281d453aa3a7c1f668543d79",
       "style": "IPY_MODEL_e55eaafea37945e18fa284e65efc550d",
       "tooltip": "Importa o .csv de um projeto criado"
      }
     },
     "87d3fb6c30114cc0b0506b8b597733ab": {
      "model_module": "@jupyter-widgets/base",
      "model_module_version": "1.1.0",
      "model_name": "LayoutModel",
      "state": {}
     },
     "87e78fc146ab407babdda2a59574da3b": {
      "model_module": "@jupyter-widgets/controls",
      "model_module_version": "1.4.0",
      "model_name": "AccordionModel",
      "state": {
       "_titles": {
        "0": "Criar projeto",
        "1": "Importar projeto"
       },
       "children": [
        "IPY_MODEL_ea1af7d549c34753b0237c1d157f3645",
        "IPY_MODEL_2737b877a71642a2a83c8e62f784039c"
       ],
       "layout": "IPY_MODEL_e19423c7f5664ea9a9980c84a9d26873",
       "selected_index": 1
      }
     },
     "88f5bd4d578b47069aeb1a8327a4fc19": {
      "model_module": "@jupyter-widgets/controls",
      "model_module_version": "1.4.0",
      "model_name": "AccordionModel",
      "state": {
       "_titles": {
        "0": "Ângulo para a rosa dos ventos",
        "1": "Classes de vento",
        "2": "Step",
        "3": "Unidade de velocidade"
       },
       "children": [
        "IPY_MODEL_ee229e5268f24cda823ebe992cbfb661",
        "IPY_MODEL_e3a4d1f0d6444c2b9faa177800772182",
        "IPY_MODEL_8b4338b12f3f4fceaf424c5800d34bb1",
        "IPY_MODEL_1cb8d1da59f446ffa114031a0594261d"
       ],
       "layout": "IPY_MODEL_4a31efbec5f74efcbf9befc30b433244"
      }
     },
     "89c0e5a7d20d45469896033b6fcb635c": {
      "model_module": "@jupyter-widgets/controls",
      "model_module_version": "1.4.0",
      "model_name": "DescriptionStyleModel",
      "state": {
       "description_width": ""
      }
     },
     "8afde3300aa24524b6e9e121463b3bbd": {
      "model_module": "@jupyter-widgets/base",
      "model_module_version": "1.1.0",
      "model_name": "LayoutModel",
      "state": {
       "width": "400px"
      }
     },
     "8b13619bb1a74c84b93f3cd6afae9b86": {
      "model_module": "@jupyter-widgets/controls",
      "model_module_version": "1.4.0",
      "model_name": "ButtonStyleModel",
      "state": {}
     },
     "8b4338b12f3f4fceaf424c5800d34bb1": {
      "model_module": "@jupyter-widgets/controls",
      "model_module_version": "1.4.0",
      "model_name": "IntTextModel",
      "state": {
       "description": "Step:",
       "layout": "IPY_MODEL_8b9f93c023ad4a79aef3e7340f0f442b",
       "step": 1,
       "style": "IPY_MODEL_280a92ff07f042a6ac33b452f6d869fe",
       "value": 1
      }
     },
     "8b669de47dc447dea11040010609e62b": {
      "model_module": "@jupyter-widgets/base",
      "model_module_version": "1.1.0",
      "model_name": "LayoutModel",
      "state": {}
     },
     "8b9bec8ac6254eaba2094f720f9f9cfc": {
      "model_module": "@jupyter-widgets/controls",
      "model_module_version": "1.4.0",
      "model_name": "DescriptionStyleModel",
      "state": {
       "description_width": ""
      }
     },
     "8b9f93c023ad4a79aef3e7340f0f442b": {
      "model_module": "@jupyter-widgets/base",
      "model_module_version": "1.1.0",
      "model_name": "LayoutModel",
      "state": {
       "width": "400px"
      }
     },
     "8bb8c5c4c9cb49caad3a13701e95dcd0": {
      "model_module": "@jupyter-widgets/base",
      "model_module_version": "1.1.0",
      "model_name": "LayoutModel",
      "state": {}
     },
     "8bfcebe9cbe042d1a4091d0992607e8f": {
      "model_module": "@jupyter-widgets/base",
      "model_module_version": "1.1.0",
      "model_name": "LayoutModel",
      "state": {}
     },
     "8c1c608778524d519868a78f87fdd11c": {
      "model_module": "@jupyter-widgets/base",
      "model_module_version": "1.1.0",
      "model_name": "LayoutModel",
      "state": {}
     },
     "8c364814e5f342f5bd619c7d61627f20": {
      "model_module": "@jupyter-widgets/base",
      "model_module_version": "1.1.0",
      "model_name": "LayoutModel",
      "state": {}
     },
     "8c65ab2a124e4980abf25bff3338e186": {
      "model_module": "@jupyter-widgets/controls",
      "model_module_version": "1.4.0",
      "model_name": "DescriptionStyleModel",
      "state": {
       "description_width": ""
      }
     },
     "8c6cd7dc281d453aa3a7c1f668543d79": {
      "model_module": "@jupyter-widgets/base",
      "model_module_version": "1.1.0",
      "model_name": "LayoutModel",
      "state": {}
     },
     "8d1bba5f3e5442f6b4b984b1e58e0ec9": {
      "model_module": "@jupyter-widgets/base",
      "model_module_version": "1.1.0",
      "model_name": "LayoutModel",
      "state": {
       "width": "400px"
      }
     },
     "8dc972525687400e8ed1a5772daf09fb": {
      "model_module": "@jupyter-widgets/controls",
      "model_module_version": "1.4.0",
      "model_name": "TabModel",
      "state": {
       "_titles": {
        "0": "Dados de Ventos",
        "1": "Ajustes de Cálculo",
        "2": "Outros Ajustes"
       },
       "children": [
        "IPY_MODEL_5b60ac22db1343eabe125506de58c1fd",
        "IPY_MODEL_d39720aacd84436d92c0e4360add335f",
        "IPY_MODEL_3c5f9c0dddae4d99ba1b460843946a2f"
       ],
       "layout": "IPY_MODEL_274a4b13cfe54b4d83150532abcaeeed"
      }
     },
     "8de80291840045dfa2781f8e8b6f2937": {
      "model_module": "@jupyter-widgets/base",
      "model_module_version": "1.1.0",
      "model_name": "LayoutModel",
      "state": {
       "width": "400px"
      }
     },
     "8e956e761d2a464e8a6fb8473e656d6e": {
      "model_module": "@jupyter-widgets/controls",
      "model_module_version": "1.4.0",
      "model_name": "DescriptionStyleModel",
      "state": {
       "description_width": ""
      }
     },
     "8ea02d420aae4740b85175934036a1a0": {
      "model_module": "@jupyter-widgets/controls",
      "model_module_version": "1.4.0",
      "model_name": "DescriptionStyleModel",
      "state": {
       "description_width": ""
      }
     },
     "8f4e0c2319a648c3b62ac0170953d9a9": {
      "model_module": "@jupyter-widgets/controls",
      "model_module_version": "1.4.0",
      "model_name": "ButtonStyleModel",
      "state": {}
     },
     "8f736a1b6974495e947a38b4d3cbf3ff": {
      "model_module": "@jupyter-widgets/base",
      "model_module_version": "1.1.0",
      "model_name": "LayoutModel",
      "state": {}
     },
     "8fb43eb832a644f8a94abaae20531169": {
      "model_module": "@jupyter-widgets/controls",
      "model_module_version": "1.4.0",
      "model_name": "DescriptionStyleModel",
      "state": {
       "description_width": ""
      }
     },
     "90127c6a2ab84b65a4da46dc05a63fdc": {
      "model_module": "@jupyter-widgets/base",
      "model_module_version": "1.1.0",
      "model_name": "LayoutModel",
      "state": {}
     },
     "90ecb599791f42beb7ab906a2ebd0931": {
      "model_module": "@jupyter-widgets/controls",
      "model_module_version": "1.4.0",
      "model_name": "DescriptionStyleModel",
      "state": {
       "description_width": ""
      }
     },
     "9183168b3bb24538ba027225ca78ca1a": {
      "model_module": "@jupyter-widgets/controls",
      "model_module_version": "1.4.0",
      "model_name": "CheckboxModel",
      "state": {
       "description": "Ajustar alturas",
       "disabled": false,
       "layout": "IPY_MODEL_923986c05eca4bc0991bd009ab24545c",
       "style": "IPY_MODEL_3576aa9bc76749fe83329cc681fe9c5f",
       "value": false
      }
     },
     "921e88bacb9245f59f60a4ca209449fe": {
      "model_module": "@jupyter-widgets/controls",
      "model_module_version": "1.4.0",
      "model_name": "CheckboxModel",
      "state": {
       "description": "Ajustar alturas",
       "disabled": false,
       "layout": "IPY_MODEL_9daca8bc6f9d49919bce39a835d45ae6",
       "style": "IPY_MODEL_1b4de7cdd1784cff9b1a1d895500edc8",
       "value": false
      }
     },
     "921f163c83574f23bb63e34ca453a6b1": {
      "model_module": "@jupyter-widgets/controls",
      "model_module_version": "1.4.0",
      "model_name": "DescriptionStyleModel",
      "state": {
       "description_width": ""
      }
     },
     "92204b04aa23423ca617b302bea4d328": {
      "model_module": "@jupyter-widgets/base",
      "model_module_version": "1.1.0",
      "model_name": "LayoutModel",
      "state": {}
     },
     "923986c05eca4bc0991bd009ab24545c": {
      "model_module": "@jupyter-widgets/base",
      "model_module_version": "1.1.0",
      "model_name": "LayoutModel",
      "state": {}
     },
     "92658cd1e3a64d10b2f2610975c9ab0e": {
      "model_module": "@jupyter-widgets/controls",
      "model_module_version": "1.4.0",
      "model_name": "DescriptionStyleModel",
      "state": {
       "description_width": ""
      }
     },
     "9332a6b25f244ff6af66d419ae71a553": {
      "model_module": "@jupyter-widgets/base",
      "model_module_version": "1.1.0",
      "model_name": "LayoutModel",
      "state": {}
     },
     "94420f494d524b889ec7c00602aebbc2": {
      "model_module": "@jupyter-widgets/base",
      "model_module_version": "1.1.0",
      "model_name": "LayoutModel",
      "state": {
       "width": "400px"
      }
     },
     "94ac3392e50b4893ac59dd117e7a817e": {
      "model_module": "@jupyter-widgets/base",
      "model_module_version": "1.1.0",
      "model_name": "LayoutModel",
      "state": {}
     },
     "94e1d521dc5742a7913d9f065c1f62a9": {
      "model_module": "@jupyter-widgets/controls",
      "model_module_version": "1.4.0",
      "model_name": "ButtonModel",
      "state": {
       "description": "Importar projeto",
       "layout": "IPY_MODEL_6fa2833d40204ab193f91a6b87931576",
       "style": "IPY_MODEL_1250503ce0b2444e92b10accda9eada8",
       "tooltip": "Importa o .csv de um projeto criado"
      }
     },
     "95a9e718298b44f3bd09924f7bcc98fb": {
      "model_module": "@jupyter-widgets/base",
      "model_module_version": "1.1.0",
      "model_name": "LayoutModel",
      "state": {}
     },
     "96ccced277fe4cd7ad8a3046bbabb2da": {
      "model_module": "@jupyter-widgets/controls",
      "model_module_version": "1.4.0",
      "model_name": "TabModel",
      "state": {
       "_titles": {
        "0": "Projetos"
       },
       "children": [
        "IPY_MODEL_c0ab847b669c4fcabfdaab78ec080e12"
       ],
       "layout": "IPY_MODEL_75fdbfb1f8e04f8a9e8d192cad356ebc"
      }
     },
     "9704b28c9a424c968ef4bf70c339db99": {
      "model_module": "@jupyter-widgets/base",
      "model_module_version": "1.1.0",
      "model_name": "LayoutModel",
      "state": {}
     },
     "970af11431634f549d88bd9fb347d09a": {
      "model_module": "@jupyter-widgets/base",
      "model_module_version": "1.1.0",
      "model_name": "LayoutModel",
      "state": {}
     },
     "9725283204274b3587ed00764275fa83": {
      "model_module": "@jupyter-widgets/controls",
      "model_module_version": "1.4.0",
      "model_name": "AccordionModel",
      "state": {
       "_titles": {
        "0": "Ângulo para a rosa dos ventos",
        "1": "Classes de vento",
        "2": "Step",
        "3": "Unidade de velocidade"
       },
       "children": [
        "IPY_MODEL_c3ec721a8c594ef9a92e5346182e3358",
        "IPY_MODEL_1eb49cf150d44505a379765e3bd2ade8",
        "IPY_MODEL_58a609e8ccb24ca188e40b54dd1d98b2",
        "IPY_MODEL_cb2681edc44c45d4839d1484874c8f9c"
       ],
       "layout": "IPY_MODEL_6d257dcbf0d24b77bf05ee6c3b02a8db"
      }
     },
     "97bbd773638b427bbe4d89f07aef6a4c": {
      "model_module": "@jupyter-widgets/base",
      "model_module_version": "1.1.0",
      "model_name": "LayoutModel",
      "state": {}
     },
     "98042db50f474de987b4c6ff2a769099": {
      "model_module": "@jupyter-widgets/base",
      "model_module_version": "1.1.0",
      "model_name": "LayoutModel",
      "state": {}
     },
     "985483f11cd44e2ea70bc447745e32d1": {
      "model_module": "@jupyter-widgets/base",
      "model_module_version": "1.1.0",
      "model_name": "LayoutModel",
      "state": {}
     },
     "9864853af08642cdb7a6780af9655321": {
      "model_module": "@jupyter-widgets/controls",
      "model_module_version": "1.4.0",
      "model_name": "AccordionModel",
      "state": {
       "_titles": {
        "0": "Criar projeto",
        "1": "Importar projeto"
       },
       "children": [
        "IPY_MODEL_9d1b2a4f7d23489fbd3a001dd6ac3dcb",
        "IPY_MODEL_30c5a948f8f94430acf62613ecffeaa6"
       ],
       "layout": "IPY_MODEL_54be206e69554623880f069909b5e8a8"
      }
     },
     "9961b2d53ddb4af1bab0643393156a38": {
      "model_module": "@jupyter-widgets/controls",
      "model_module_version": "1.4.0",
      "model_name": "ButtonStyleModel",
      "state": {}
     },
     "99df286c73634a68867f8ed951373d5a": {
      "model_module": "@jupyter-widgets/controls",
      "model_module_version": "1.4.0",
      "model_name": "DescriptionStyleModel",
      "state": {
       "description_width": ""
      }
     },
     "9a09034e93554cd3938738337278db45": {
      "model_module": "@jupyter-widgets/controls",
      "model_module_version": "1.4.0",
      "model_name": "ButtonStyleModel",
      "state": {}
     },
     "9a874c7badc14da7b4f1c38a862dbb7f": {
      "model_module": "@jupyter-widgets/controls",
      "model_module_version": "1.4.0",
      "model_name": "ButtonModel",
      "state": {
       "description": "Criar projeto",
       "layout": "IPY_MODEL_ecfa13f58b6349c4b8bb03a0ecd26e59",
       "style": "IPY_MODEL_53db27d68acf4434a4c03bf79a278910",
       "tooltip": "Cria um novo projeto"
      }
     },
     "9b379f786aec4fb58b562e2f50218372": {
      "model_module": "@jupyter-widgets/controls",
      "model_module_version": "1.4.0",
      "model_name": "CheckboxModel",
      "state": {
       "description": "Utilizar RL",
       "disabled": false,
       "layout": "IPY_MODEL_cf3d49c526ab48d0b7a251c6d57f3456",
       "style": "IPY_MODEL_7bc38191ff7d40a7b0c82b11f9b68cf3",
       "value": false
      }
     },
     "9ba03726894c494ebc8ea4f7ce135f18": {
      "model_module": "@jupyter-widgets/controls",
      "model_module_version": "1.4.0",
      "model_name": "ButtonModel",
      "state": {
       "description": "Criar projeto",
       "layout": "IPY_MODEL_f42dce997def4c70bcd67516403b6d51",
       "style": "IPY_MODEL_9961b2d53ddb4af1bab0643393156a38",
       "tooltip": "Cria um novo projeto"
      }
     },
     "9c63e620d6214ad29ea62d1e34a8f7f6": {
      "model_module": "@jupyter-widgets/base",
      "model_module_version": "1.1.0",
      "model_name": "LayoutModel",
      "state": {}
     },
     "9c7246eb902f436e93048ffb76f0b948": {
      "model_module": "@jupyter-widgets/base",
      "model_module_version": "1.1.0",
      "model_name": "LayoutModel",
      "state": {
       "width": "400px"
      }
     },
     "9cdb3c58a0554adbb0a19033c80eda59": {
      "model_module": "@jupyter-widgets/base",
      "model_module_version": "1.1.0",
      "model_name": "LayoutModel",
      "state": {}
     },
     "9d1b2a4f7d23489fbd3a001dd6ac3dcb": {
      "model_module": "@jupyter-widgets/controls",
      "model_module_version": "1.4.0",
      "model_name": "ButtonModel",
      "state": {
       "description": "Criar projeto",
       "layout": "IPY_MODEL_cea1c923cdca405c87bb4e1f47d5c315",
       "style": "IPY_MODEL_9a09034e93554cd3938738337278db45",
       "tooltip": "Cria um novo projeto"
      }
     },
     "9d44d09cfa0f47a7be052e7e371f1255": {
      "model_module": "@jupyter-widgets/controls",
      "model_module_version": "1.4.0",
      "model_name": "TabModel",
      "state": {
       "_titles": {
        "0": "Dados de Ventos",
        "1": "Ajustes de Cálculo",
        "2": "Outros Ajustes"
       },
       "children": [
        "IPY_MODEL_becd557604354f59b4d76932408644d9",
        "IPY_MODEL_3f321be62e0b4149adf2bbe1dad13d04",
        "IPY_MODEL_9725283204274b3587ed00764275fa83"
       ],
       "layout": "IPY_MODEL_0a42060b1f6b43429079780fc1366493"
      }
     },
     "9daca8bc6f9d49919bce39a835d45ae6": {
      "model_module": "@jupyter-widgets/base",
      "model_module_version": "1.1.0",
      "model_name": "LayoutModel",
      "state": {}
     },
     "9ecf3422de5040399d0f26bf8b3086e2": {
      "model_module": "@jupyter-widgets/controls",
      "model_module_version": "1.4.0",
      "model_name": "TabModel",
      "state": {
       "_titles": {
        "0": "Dados de Ventos",
        "1": "Ajustes de Cálculo",
        "2": "Outros Ajustes"
       },
       "children": [
        "IPY_MODEL_9ed16dadcad7426fb1368d5fcb983801",
        "IPY_MODEL_849345fd330f4866a883aa9c6cc09345",
        "IPY_MODEL_147708ab8c154cf088f69401f40f3b8b"
       ],
       "layout": "IPY_MODEL_ad17b60154a54acf901e4cd0873de8c1",
       "selected_index": 1
      }
     },
     "9ed16dadcad7426fb1368d5fcb983801": {
      "model_module": "@jupyter-widgets/controls",
      "model_module_version": "1.4.0",
      "model_name": "AccordionModel",
      "state": {
       "_titles": {
        "0": "Importar dados de vento CSAT3",
        "1": "Importar dados de vento Windsonic"
       },
       "children": [
        "IPY_MODEL_505d3ab689ff4ded9c8938fcd167772f",
        "IPY_MODEL_dd6db8012f0f4f678e9216778ff68132"
       ],
       "layout": "IPY_MODEL_4f01010c6f344fb89e3f87075dc575df",
       "selected_index": 1
      }
     },
     "9f56c02188ca40e1b60ee0aaa9460605": {
      "model_module": "@jupyter-widgets/controls",
      "model_module_version": "1.4.0",
      "model_name": "IntTextModel",
      "state": {
       "description": "Classes de vento:",
       "layout": "IPY_MODEL_a64c2de106a4432482f46b830d907513",
       "step": 1,
       "style": "IPY_MODEL_8ea02d420aae4740b85175934036a1a0",
       "value": 10
      }
     },
     "9f5a3a0a65cf4f29b4836d1ecf005e39": {
      "model_module": "@jupyter-widgets/base",
      "model_module_version": "1.1.0",
      "model_name": "LayoutModel",
      "state": {}
     },
     "9f9fd9e7cc7d4e429ca5fd3cbe353d2e": {
      "model_module": "@jupyter-widgets/controls",
      "model_module_version": "1.4.0",
      "model_name": "TabModel",
      "state": {
       "_titles": {
        "0": "Dados de Ventos",
        "1": "Ajustes de Cálculo",
        "2": "Outros Ajustes"
       },
       "children": [
        "IPY_MODEL_b8d28f2ba4214a1a94aec47768de574f",
        "IPY_MODEL_f309a1a412b04efa968ce5ce9cf88eec",
        "IPY_MODEL_beea079fbfa642c1834776b6405fab1b"
       ],
       "layout": "IPY_MODEL_780cfc275c6848af91f42245c3dbac6a"
      }
     },
     "9fdccf52e9334a768c88f526e059b01f": {
      "model_module": "@jupyter-widgets/controls",
      "model_module_version": "1.4.0",
      "model_name": "DescriptionStyleModel",
      "state": {
       "description_width": ""
      }
     },
     "a04f01d3c465483da12b751fe8ed0814": {
      "model_module": "@jupyter-widgets/base",
      "model_module_version": "1.1.0",
      "model_name": "LayoutModel",
      "state": {}
     },
     "a12f0c505c944a95bc9b32429d007457": {
      "model_module": "@jupyter-widgets/controls",
      "model_module_version": "1.4.0",
      "model_name": "IntTextModel",
      "state": {
       "description": "Step:",
       "layout": "IPY_MODEL_f681e6b711f74206ba52d2e255b8a9aa",
       "step": 1,
       "style": "IPY_MODEL_71296dda99414ef089b95b0b62dc6821",
       "value": 1
      }
     },
     "a1459a67950e41469dec1dcd6dd3ac10": {
      "model_module": "@jupyter-widgets/controls",
      "model_module_version": "1.4.0",
      "model_name": "TextModel",
      "state": {
       "description": "Unidade de velocidade:",
       "layout": "IPY_MODEL_9c7246eb902f436e93048ffb76f0b948",
       "style": "IPY_MODEL_921f163c83574f23bb63e34ca453a6b1",
       "value": "m/s"
      }
     },
     "a1a4c53036b64a6db8af92e2a696c32e": {
      "model_module": "@jupyter-widgets/controls",
      "model_module_version": "1.4.0",
      "model_name": "ButtonModel",
      "state": {
       "description": "Importar modelo de dados CSAT3",
       "layout": "IPY_MODEL_fba1c59e620143df8702b27efcc66276",
       "style": "IPY_MODEL_52dda929933a491097038ac6742773d1",
       "tooltip": "Importar modelo de dados CSAT3 para leitura"
      }
     },
     "a21f5419597c428599242a1a321d3d22": {
      "model_module": "@jupyter-widgets/controls",
      "model_module_version": "1.4.0",
      "model_name": "DescriptionStyleModel",
      "state": {
       "description_width": ""
      }
     },
     "a2f9124d01a04e9db49354d80fbca791": {
      "model_module": "@jupyter-widgets/controls",
      "model_module_version": "1.4.0",
      "model_name": "TabModel",
      "state": {
       "_titles": {
        "0": "Projetos"
       },
       "children": [
        "IPY_MODEL_0b091401efe044ac8901eb88a642be06"
       ],
       "layout": "IPY_MODEL_8c364814e5f342f5bd619c7d61627f20"
      }
     },
     "a431e1b287354839b84a4218bd4a44c8": {
      "model_module": "@jupyter-widgets/controls",
      "model_module_version": "1.4.0",
      "model_name": "ButtonModel",
      "state": {
       "description": "Importar projeto",
       "layout": "IPY_MODEL_c44f90e63cd642f1840c27de356da059",
       "style": "IPY_MODEL_49f85f961a004df2af15867df8fe0bbc",
       "tooltip": "Importa o .csv de um projeto criado"
      }
     },
     "a4d638f1b9c740bf8f3693ad0d8ac557": {
      "model_module": "@jupyter-widgets/controls",
      "model_module_version": "1.4.0",
      "model_name": "TabModel",
      "state": {
       "_titles": {
        "0": "Projetos"
       },
       "children": [
        "IPY_MODEL_fa24d1357997416ead35d31c40ba5a29"
       ],
       "layout": "IPY_MODEL_48608c3e888e4268869f2323bb26f9f5"
      }
     },
     "a5b50e3243f4480b9e08cedba92c5e33": {
      "model_module": "@jupyter-widgets/base",
      "model_module_version": "1.1.0",
      "model_name": "LayoutModel",
      "state": {
       "width": "30%"
      }
     },
     "a6162b4b445e4f868d8fa27b0db9492f": {
      "model_module": "@jupyter-widgets/base",
      "model_module_version": "1.1.0",
      "model_name": "LayoutModel",
      "state": {}
     },
     "a64c2de106a4432482f46b830d907513": {
      "model_module": "@jupyter-widgets/base",
      "model_module_version": "1.1.0",
      "model_name": "LayoutModel",
      "state": {}
     },
     "a64ea4d002a4448d82c0425e7db2b804": {
      "model_module": "@jupyter-widgets/controls",
      "model_module_version": "1.4.0",
      "model_name": "CheckboxModel",
      "state": {
       "description": "Utilizar todas as componentes de velocidades Ux, Uy e Uz (CSAT3)",
       "disabled": false,
       "layout": "IPY_MODEL_95a9e718298b44f3bd09924f7bcc98fb",
       "style": "IPY_MODEL_1bca4fb415d9403ebfb7166a4abcaa43",
       "value": false
      }
     },
     "a6503f3eb22c4c469cc89a5726536573": {
      "model_module": "@jupyter-widgets/controls",
      "model_module_version": "1.4.0",
      "model_name": "AccordionModel",
      "state": {
       "_titles": {
        "0": "Criar projeto",
        "1": "Importar projeto"
       },
       "children": [
        "IPY_MODEL_6bc045debaa34892a2ba8c928e0b7a2f",
        "IPY_MODEL_23ef69f0e56b4b668c7cceb97a8332fa"
       ],
       "layout": "IPY_MODEL_0683cd2c493c46a9a982ae3b538039e0",
       "selected_index": 1
      }
     },
     "a6910938d8d54d4ca0191dc50542e392": {
      "model_module": "@jupyter-widgets/controls",
      "model_module_version": "1.4.0",
      "model_name": "ButtonModel",
      "state": {
       "description": "Importar modelo de dados CSAT3",
       "layout": "IPY_MODEL_75551ec16c714f66a37c70111f441deb",
       "style": "IPY_MODEL_5443d5b22a3142cd8bd2d02a99d4c254",
       "tooltip": "Importar modelo de dados CSAT3 para leitura"
      }
     },
     "a6b6ee1a7d04404a869392ac318c9bd4": {
      "model_module": "@jupyter-widgets/controls",
      "model_module_version": "1.4.0",
      "model_name": "ButtonStyleModel",
      "state": {}
     },
     "a70f7a8b875a4c0cb693cc4f0e081728": {
      "model_module": "@jupyter-widgets/controls",
      "model_module_version": "1.4.0",
      "model_name": "ButtonModel",
      "state": {
       "description": "Importar projeto",
       "layout": "IPY_MODEL_d41621f5ecd1427fa105efcd520ae171",
       "style": "IPY_MODEL_76bc9339e5cc424b930ade69ed1c1187",
       "tooltip": "Importa o .csv de um projeto criado"
      }
     },
     "a8b111b0a5714bfea8e3cbe09b66b713": {
      "model_module": "@jupyter-widgets/base",
      "model_module_version": "1.1.0",
      "model_name": "LayoutModel",
      "state": {}
     },
     "a9295f2a952c4554a5b3abc0a1e8ecd9": {
      "model_module": "@jupyter-widgets/controls",
      "model_module_version": "1.4.0",
      "model_name": "ButtonModel",
      "state": {
       "description": "Criar projeto",
       "layout": "IPY_MODEL_87d3fb6c30114cc0b0506b8b597733ab",
       "style": "IPY_MODEL_be49390cc9c44fe091d0c13b2d87a88b",
       "tooltip": "Cria um novo projeto"
      }
     },
     "a9bad1f5f6dd42b48e4a4139c0a8fdd6": {
      "model_module": "@jupyter-widgets/base",
      "model_module_version": "1.1.0",
      "model_name": "LayoutModel",
      "state": {}
     },
     "ab37b1414ac34963b80260c887c18dd1": {
      "model_module": "@jupyter-widgets/base",
      "model_module_version": "1.1.0",
      "model_name": "LayoutModel",
      "state": {}
     },
     "ad17b60154a54acf901e4cd0873de8c1": {
      "model_module": "@jupyter-widgets/base",
      "model_module_version": "1.1.0",
      "model_name": "LayoutModel",
      "state": {}
     },
     "adbcdbccee374b70a9ccc7ca4cd8e736": {
      "model_module": "@jupyter-widgets/controls",
      "model_module_version": "1.4.0",
      "model_name": "ButtonModel",
      "state": {
       "description": "Importar projeto",
       "layout": "IPY_MODEL_71207c0d195b481c8d630bfa74585d1d",
       "style": "IPY_MODEL_0920ce97ec0f47f69b02bca675c739ff",
       "tooltip": "Importa o .csv de um projeto criado"
      }
     },
     "aefcc7430c7646548e5f752ba1e812d3": {
      "model_module": "@jupyter-widgets/controls",
      "model_module_version": "1.4.0",
      "model_name": "DescriptionStyleModel",
      "state": {
       "description_width": ""
      }
     },
     "afc9b8e37f5640fa97428dddcd484e6f": {
      "model_module": "@jupyter-widgets/controls",
      "model_module_version": "1.4.0",
      "model_name": "CheckboxModel",
      "state": {
       "description": "Utilizar RT",
       "disabled": false,
       "layout": "IPY_MODEL_29ab99e395f844228a6ea3e520381ec3",
       "style": "IPY_MODEL_214304df9eca4506ac1ac4c137193704",
       "value": false
      }
     },
     "b061eca513e04f1f91711989e17facd1": {
      "model_module": "@jupyter-widgets/controls",
      "model_module_version": "1.4.0",
      "model_name": "VBoxModel",
      "state": {
       "children": [
        "IPY_MODEL_0906a576a6554c889a3f60b4d29499be",
        "IPY_MODEL_3f06b4c2d72045bcb76b033054746158",
        "IPY_MODEL_bb20017d5a0e4a34b05f16bdbf4af7c1",
        "IPY_MODEL_a64ea4d002a4448d82c0425e7db2b804"
       ],
       "layout": "IPY_MODEL_62d27abb41f949ec9e932ecd8acb7703"
      }
     },
     "b1d88d1fc3da47d5ae916c071e77ac4b": {
      "model_module": "@jupyter-widgets/controls",
      "model_module_version": "1.4.0",
      "model_name": "TabModel",
      "state": {
       "_titles": {
        "0": "Projetos"
       },
       "children": [
        "IPY_MODEL_a6503f3eb22c4c469cc89a5726536573"
       ],
       "layout": "IPY_MODEL_ec65fd21db85499389f691d9e70a22c1"
      }
     },
     "b1db5b7a98c147c19361cb93356ece4e": {
      "model_module": "@jupyter-widgets/controls",
      "model_module_version": "1.4.0",
      "model_name": "DescriptionStyleModel",
      "state": {
       "description_width": ""
      }
     },
     "b2c49e7a32d14fdf9a1552570ad4dd71": {
      "model_module": "@jupyter-widgets/base",
      "model_module_version": "1.1.0",
      "model_name": "LayoutModel",
      "state": {
       "width": "400px"
      }
     },
     "b3d80dc8111243db8d25b9d35147a0a5": {
      "model_module": "@jupyter-widgets/controls",
      "model_module_version": "1.4.0",
      "model_name": "DescriptionStyleModel",
      "state": {
       "description_width": ""
      }
     },
     "b45a1f2333b14631926ba02e7fb5d7ec": {
      "model_module": "@jupyter-widgets/controls",
      "model_module_version": "1.4.0",
      "model_name": "DescriptionStyleModel",
      "state": {
       "description_width": ""
      }
     },
     "b46a448041384506a8efa2805e5056d4": {
      "model_module": "@jupyter-widgets/base",
      "model_module_version": "1.1.0",
      "model_name": "LayoutModel",
      "state": {}
     },
     "b568dcde7f7148799701e30f57012530": {
      "model_module": "@jupyter-widgets/controls",
      "model_module_version": "1.4.0",
      "model_name": "ButtonStyleModel",
      "state": {}
     },
     "b67e560c541d41b8bbb18c42b4bbfb12": {
      "model_module": "@jupyter-widgets/controls",
      "model_module_version": "1.4.0",
      "model_name": "VBoxModel",
      "state": {
       "children": [
        "IPY_MODEL_6b29943457aa4d9b903bdd5c45465864",
        "IPY_MODEL_fa1ff90a516040cd9cc9ab3f2539e7ff",
        "IPY_MODEL_afc9b8e37f5640fa97428dddcd484e6f",
        "IPY_MODEL_cd3f1c48d88c43ef83a73f4565536cba"
       ],
       "layout": "IPY_MODEL_76734527e8954e66b6164ca6b0bc7a53"
      }
     },
     "b68f94c297074ae69c219988a7869896": {
      "model_module": "@jupyter-widgets/base",
      "model_module_version": "1.1.0",
      "model_name": "LayoutModel",
      "state": {
       "width": "400px"
      }
     },
     "b692d8f826b74810b428ccb982865136": {
      "model_module": "@jupyter-widgets/controls",
      "model_module_version": "1.4.0",
      "model_name": "AccordionModel",
      "state": {
       "_titles": {
        "0": "Importar dados de vento CSAT3",
        "1": "Importar dados de vento Windsonic"
       },
       "children": [
        "IPY_MODEL_a1a4c53036b64a6db8af92e2a696c32e",
        "IPY_MODEL_de98af891f7747edb43a895bbb8b269e"
       ],
       "layout": "IPY_MODEL_3899c5551c564015982031bb9829afa7"
      }
     },
     "b6f854f50dfe4b5082e7aa50a852fd38": {
      "model_module": "@jupyter-widgets/base",
      "model_module_version": "1.1.0",
      "model_name": "LayoutModel",
      "state": {}
     },
     "b738def47c184c89942db245aa96b2c2": {
      "model_module": "@jupyter-widgets/controls",
      "model_module_version": "1.4.0",
      "model_name": "ButtonModel",
      "state": {
       "description": "Importar projeto",
       "layout": "IPY_MODEL_e2b353c245554f62b8ef78ec76e08ad3",
       "style": "IPY_MODEL_86e32bb46d4643228828d70a3102fccd",
       "tooltip": "Importa o .csv de um projeto criado"
      }
     },
     "b83b2ef56c4c41239843887cce98d419": {
      "model_module": "@jupyter-widgets/controls",
      "model_module_version": "1.4.0",
      "model_name": "AccordionModel",
      "state": {
       "_titles": {
        "0": "Criar projeto",
        "1": "Importar projeto"
       },
       "children": [
        "IPY_MODEL_5a98dcd8557d476e971b7f4d9982b6ad",
        "IPY_MODEL_c5fb2faa4cf34777ab73bf90eaee51d7"
       ],
       "layout": "IPY_MODEL_223e446734504fa68412fc2c660d5b3e"
      }
     },
     "b853873ac42f4bfa951ac4745ca8c46d": {
      "model_module": "@jupyter-widgets/base",
      "model_module_version": "1.1.0",
      "model_name": "LayoutModel",
      "state": {}
     },
     "b89bbcfefeda4eac9390ebd04a930285": {
      "model_module": "@jupyter-widgets/base",
      "model_module_version": "1.1.0",
      "model_name": "LayoutModel",
      "state": {
       "width": "30%"
      }
     },
     "b8b5f574c3584c05b5d8635261fc7298": {
      "model_module": "@jupyter-widgets/controls",
      "model_module_version": "1.4.0",
      "model_name": "TabModel",
      "state": {
       "_titles": {
        "0": "Projetos"
       },
       "children": [
        "IPY_MODEL_fad676d357ec41c8b02f32f577238d64"
       ],
       "layout": "IPY_MODEL_d1db24e08d824a99ae654b31ff5a4df8"
      }
     },
     "b8d28f2ba4214a1a94aec47768de574f": {
      "model_module": "@jupyter-widgets/controls",
      "model_module_version": "1.4.0",
      "model_name": "AccordionModel",
      "state": {
       "_titles": {
        "0": "Importar dados de vento CSAT3",
        "1": "Importar dados de vento Windsonic"
       },
       "children": [
        "IPY_MODEL_e32cca934ee64ce2a2bee37028d9886d",
        "IPY_MODEL_4b5d3f7a01454de89c4d41ea26a1f4fa"
       ],
       "layout": "IPY_MODEL_6a1fb18ff7b240df89723b15efbd327e"
      }
     },
     "bab9c1716f6942f384caa5d02f605612": {
      "model_module": "@jupyter-widgets/base",
      "model_module_version": "1.1.0",
      "model_name": "LayoutModel",
      "state": {}
     },
     "bae27ffb939b43c086b052bc65c91979": {
      "model_module": "@jupyter-widgets/base",
      "model_module_version": "1.1.0",
      "model_name": "LayoutModel",
      "state": {}
     },
     "bb20017d5a0e4a34b05f16bdbf4af7c1": {
      "model_module": "@jupyter-widgets/controls",
      "model_module_version": "1.4.0",
      "model_name": "CheckboxModel",
      "state": {
       "description": "Utilizar RT",
       "disabled": false,
       "layout": "IPY_MODEL_f4336c838f06410dade2c55b6fc7c1f1",
       "style": "IPY_MODEL_3ef0c2a138e448bd8dfeaa55e5d3bc2d",
       "value": false
      }
     },
     "bb90000dba424bb78436b6af0fcda522": {
      "model_module": "@jupyter-widgets/controls",
      "model_module_version": "1.4.0",
      "model_name": "ButtonModel",
      "state": {
       "description": "Importar projeto",
       "layout": "IPY_MODEL_d39c8fe7511345d88b3338a9737656a0",
       "style": "IPY_MODEL_fa08822c773d4e6b8ec08619fd7f18a7",
       "tooltip": "Importa o .csv de um projeto criado"
      }
     },
     "bbb4d60b39bf4b049914d629e87b168c": {
      "model_module": "@jupyter-widgets/base",
      "model_module_version": "1.1.0",
      "model_name": "LayoutModel",
      "state": {}
     },
     "bc40b38653214a40a3a632793faec044": {
      "model_module": "@jupyter-widgets/controls",
      "model_module_version": "1.4.0",
      "model_name": "TabModel",
      "state": {
       "_titles": {
        "0": "Projetos"
       },
       "children": [
        "IPY_MODEL_b83b2ef56c4c41239843887cce98d419"
       ],
       "layout": "IPY_MODEL_c456ea54c11c4e2088e10b45d7cf65d1"
      }
     },
     "be1c180a658440e8a33dc106576fcc01": {
      "model_module": "@jupyter-widgets/base",
      "model_module_version": "1.1.0",
      "model_name": "LayoutModel",
      "state": {
       "width": "400px"
      }
     },
     "be49390cc9c44fe091d0c13b2d87a88b": {
      "model_module": "@jupyter-widgets/controls",
      "model_module_version": "1.4.0",
      "model_name": "ButtonStyleModel",
      "state": {}
     },
     "be4cab312aea4692a69eeec22bc7199b": {
      "model_module": "@jupyter-widgets/base",
      "model_module_version": "1.1.0",
      "model_name": "LayoutModel",
      "state": {}
     },
     "bea31aef8c5b47f0bd661e93789b95f8": {
      "model_module": "@jupyter-widgets/base",
      "model_module_version": "1.1.0",
      "model_name": "LayoutModel",
      "state": {}
     },
     "becd557604354f59b4d76932408644d9": {
      "model_module": "@jupyter-widgets/controls",
      "model_module_version": "1.4.0",
      "model_name": "AccordionModel",
      "state": {
       "_titles": {
        "0": "Importar dados de vento CSAT3",
        "1": "Importar dados de vento Windsonic"
       },
       "children": [
        "IPY_MODEL_2db18bb0c20043099e6d7f6e7a3057cf",
        "IPY_MODEL_227ca92795994f2db6b47c6a2e85588f"
       ],
       "layout": "IPY_MODEL_2fa09e53ad874d6ca851382f99aece13"
      }
     },
     "beea079fbfa642c1834776b6405fab1b": {
      "model_module": "@jupyter-widgets/controls",
      "model_module_version": "1.4.0",
      "model_name": "AccordionModel",
      "state": {
       "_titles": {
        "0": "Ângulo para a rosa dos ventos",
        "1": "Classes de vento",
        "2": "Step",
        "3": "Unidade de velocidade"
       },
       "children": [
        "IPY_MODEL_65514442356e4042837e57bc0108bd56",
        "IPY_MODEL_141714de73a6421197929981600a62dc",
        "IPY_MODEL_636418a3e80a40df9f1133725e8ace04",
        "IPY_MODEL_ecc20a60a40f4789a6904e1cfac14983"
       ],
       "layout": "IPY_MODEL_9704b28c9a424c968ef4bf70c339db99",
       "selected_index": 3
      }
     },
     "bfc4c6309ee04ac0b2c45a4f290752ce": {
      "model_module": "@jupyter-widgets/base",
      "model_module_version": "1.1.0",
      "model_name": "LayoutModel",
      "state": {}
     },
     "bff1b8f71a50488eb797d0325bf02326": {
      "model_module": "@jupyter-widgets/controls",
      "model_module_version": "1.4.0",
      "model_name": "ButtonModel",
      "state": {
       "description": "Importar projeto",
       "layout": "IPY_MODEL_b853873ac42f4bfa951ac4745ca8c46d",
       "style": "IPY_MODEL_593490eadbc14f3d8184d8676ab07641",
       "tooltip": "Importa o .csv de um projeto criado"
      }
     },
     "c0ab847b669c4fcabfdaab78ec080e12": {
      "model_module": "@jupyter-widgets/controls",
      "model_module_version": "1.4.0",
      "model_name": "AccordionModel",
      "state": {
       "_titles": {
        "0": "Criar projeto",
        "1": "Importar projeto"
       },
       "children": [
        "IPY_MODEL_064268ff0eee4070b8f9a4481353f27b",
        "IPY_MODEL_f534b437f24c4b5489336ccbb06cc1a1"
       ],
       "layout": "IPY_MODEL_be4cab312aea4692a69eeec22bc7199b",
       "selected_index": 1
      }
     },
     "c0ba0b443ccb418a944fe02fb23a6491": {
      "model_module": "@jupyter-widgets/base",
      "model_module_version": "1.1.0",
      "model_name": "LayoutModel",
      "state": {}
     },
     "c0f468f62e7d4fbb8e8525f7cdc046f1": {
      "model_module": "@jupyter-widgets/controls",
      "model_module_version": "1.4.0",
      "model_name": "DescriptionStyleModel",
      "state": {
       "description_width": ""
      }
     },
     "c16978bb3f8043bca5aa0e9fdfc6bd5b": {
      "model_module": "@jupyter-widgets/controls",
      "model_module_version": "1.4.0",
      "model_name": "AccordionModel",
      "state": {
       "_titles": {
        "0": "Criar projeto",
        "1": "Importar projeto"
       },
       "children": [
        "IPY_MODEL_3961baf8afb346dfb4755e1cd01fce1b",
        "IPY_MODEL_7f1f87ebe62a4ad2b16dda460608c4c7"
       ],
       "layout": "IPY_MODEL_c854bf3e5d8b49f3a64bcaa3a89969ea",
       "selected_index": 1
      }
     },
     "c1cb2c39108246aba697b00bea5f5d40": {
      "model_module": "@jupyter-widgets/controls",
      "model_module_version": "1.4.0",
      "model_name": "VBoxModel",
      "state": {
       "children": [
        "IPY_MODEL_72227108d905484e9a68e07c3f980572",
        "IPY_MODEL_d512a78235a8473e98c6f3513c63e1b1",
        "IPY_MODEL_777afa6037ba429abd1a24cb30efe72d",
        "IPY_MODEL_24bb1c91f0f34eb99f1cb1c8aad5690c"
       ],
       "layout": "IPY_MODEL_3030f6d5e681450fab1f49c6b392669d"
      }
     },
     "c2c4d89de15747228e9bc3db07ddcc55": {
      "model_module": "@jupyter-widgets/base",
      "model_module_version": "1.1.0",
      "model_name": "LayoutModel",
      "state": {
       "width": "400px"
      }
     },
     "c2fb329270704bf98113407da2e80a6b": {
      "model_module": "@jupyter-widgets/base",
      "model_module_version": "1.1.0",
      "model_name": "LayoutModel",
      "state": {}
     },
     "c3ec721a8c594ef9a92e5346182e3358": {
      "model_module": "@jupyter-widgets/controls",
      "model_module_version": "1.4.0",
      "model_name": "FloatTextModel",
      "state": {
       "description": "Ângulo percentual da rosa dos ventos:",
       "layout": "IPY_MODEL_1c4a3d8f11544c9bb8b3ea2a2c76f871",
       "step": null,
       "style": "IPY_MODEL_0961f8c733cb4feba0cb0cac7bfbdcf8",
       "value": 33.75
      }
     },
     "c443f60eef574e6b911be2cd0a410b37": {
      "model_module": "@jupyter-widgets/controls",
      "model_module_version": "1.4.0",
      "model_name": "DescriptionStyleModel",
      "state": {
       "description_width": ""
      }
     },
     "c44f90e63cd642f1840c27de356da059": {
      "model_module": "@jupyter-widgets/base",
      "model_module_version": "1.1.0",
      "model_name": "LayoutModel",
      "state": {}
     },
     "c456ea54c11c4e2088e10b45d7cf65d1": {
      "model_module": "@jupyter-widgets/base",
      "model_module_version": "1.1.0",
      "model_name": "LayoutModel",
      "state": {}
     },
     "c4a55fb43ff2467bb2cb1069ae38e5ea": {
      "model_module": "@jupyter-widgets/controls",
      "model_module_version": "1.4.0",
      "model_name": "DescriptionStyleModel",
      "state": {
       "description_width": ""
      }
     },
     "c51ed4ac7f7b4dc19f27eb80de67c0fb": {
      "model_module": "@jupyter-widgets/base",
      "model_module_version": "1.1.0",
      "model_name": "LayoutModel",
      "state": {
       "width": "400px"
      }
     },
     "c5a16ec164904357bbc6146a95833576": {
      "model_module": "@jupyter-widgets/base",
      "model_module_version": "1.1.0",
      "model_name": "LayoutModel",
      "state": {}
     },
     "c5fb2faa4cf34777ab73bf90eaee51d7": {
      "model_module": "@jupyter-widgets/controls",
      "model_module_version": "1.4.0",
      "model_name": "ButtonModel",
      "state": {
       "description": "Importar projeto",
       "layout": "IPY_MODEL_78cc31404c3d4dbaab754aea57dc23b2",
       "style": "IPY_MODEL_a6b6ee1a7d04404a869392ac318c9bd4",
       "tooltip": "Importa o .csv de um projeto criado"
      }
     },
     "c6b5ed192c034326b3ff80930bbb5e7c": {
      "model_module": "@jupyter-widgets/controls",
      "model_module_version": "1.4.0",
      "model_name": "TabModel",
      "state": {
       "_titles": {
        "0": "Dados de Ventos",
        "1": "Ajustes de Cálculo",
        "2": "Outros Ajustes"
       },
       "children": [
        "IPY_MODEL_d056726c6e1d4678bc0c488a749b83fb",
        "IPY_MODEL_0ea5f115a83748e19ab43acfc9cc42d0",
        "IPY_MODEL_2544dc1349b7466fa724bfa839ff1f19"
       ],
       "layout": "IPY_MODEL_94ac3392e50b4893ac59dd117e7a817e"
      }
     },
     "c72e0e3020fd4228b38265bc2c958a41": {
      "model_module": "@jupyter-widgets/controls",
      "model_module_version": "1.4.0",
      "model_name": "ButtonStyleModel",
      "state": {}
     },
     "c75504a9a5fc4ba7b0f459a202347315": {
      "model_module": "@jupyter-widgets/controls",
      "model_module_version": "1.4.0",
      "model_name": "IntTextModel",
      "state": {
       "description": "Step:",
       "layout": "IPY_MODEL_c2c4d89de15747228e9bc3db07ddcc55",
       "step": 1,
       "style": "IPY_MODEL_e46df06edc4a41d4b91c50b1996466cb",
       "value": 2
      }
     },
     "c7c7167b7f934089b5df08cbc0e280e9": {
      "model_module": "@jupyter-widgets/base",
      "model_module_version": "1.1.0",
      "model_name": "LayoutModel",
      "state": {}
     },
     "c854bf3e5d8b49f3a64bcaa3a89969ea": {
      "model_module": "@jupyter-widgets/base",
      "model_module_version": "1.1.0",
      "model_name": "LayoutModel",
      "state": {}
     },
     "c88baed7780a4e179f15297dd42c229e": {
      "model_module": "@jupyter-widgets/controls",
      "model_module_version": "1.4.0",
      "model_name": "ButtonModel",
      "state": {
       "description": "Importar modelo de dados Windsonic",
       "layout": "IPY_MODEL_0ec0d3b0c3a24e31bf867a0c862e4d22",
       "style": "IPY_MODEL_72bb00675be3498aa333e650f97891c5",
       "tooltip": "Importar modelo de dados Windsonic para leitura"
      }
     },
     "c91a47d2101543ab82b222fb6f9788b1": {
      "model_module": "@jupyter-widgets/base",
      "model_module_version": "1.1.0",
      "model_name": "LayoutModel",
      "state": {
       "width": "400px"
      }
     },
     "ca3a2e43f74c4d3197d4f0c973c759d2": {
      "model_module": "@jupyter-widgets/base",
      "model_module_version": "1.1.0",
      "model_name": "LayoutModel",
      "state": {}
     },
     "cb2681edc44c45d4839d1484874c8f9c": {
      "model_module": "@jupyter-widgets/controls",
      "model_module_version": "1.4.0",
      "model_name": "TextModel",
      "state": {
       "description": "Unidade de velocidade:",
       "layout": "IPY_MODEL_660e9c5849ce4710b6b2ec317333d81a",
       "style": "IPY_MODEL_9fdccf52e9334a768c88f526e059b01f",
       "value": "m/s"
      }
     },
     "cc586c6db0074cfbbdb6bab56b9d1142": {
      "model_module": "@jupyter-widgets/controls",
      "model_module_version": "1.4.0",
      "model_name": "DescriptionStyleModel",
      "state": {
       "description_width": ""
      }
     },
     "cc639c857e5c40a8af48cad2f49f4a74": {
      "model_module": "@jupyter-widgets/controls",
      "model_module_version": "1.4.0",
      "model_name": "CheckboxModel",
      "state": {
       "description": "Ajustar alturas",
       "disabled": false,
       "layout": "IPY_MODEL_e62f43effceb4ae19f60b4c9c8d5b170",
       "style": "IPY_MODEL_6514fa88433040e5811b2f0968fd0897",
       "value": true
      }
     },
     "cd3f1c48d88c43ef83a73f4565536cba": {
      "model_module": "@jupyter-widgets/controls",
      "model_module_version": "1.4.0",
      "model_name": "CheckboxModel",
      "state": {
       "description": "Utilizar todas as componentes de velocidades Ux, Uy e Uz (CSAT3)",
       "disabled": false,
       "layout": "IPY_MODEL_7e6fa58674d34ca9a687de3f09eb28cd",
       "style": "IPY_MODEL_cc586c6db0074cfbbdb6bab56b9d1142",
       "value": false
      }
     },
     "cea1c923cdca405c87bb4e1f47d5c315": {
      "model_module": "@jupyter-widgets/base",
      "model_module_version": "1.1.0",
      "model_name": "LayoutModel",
      "state": {}
     },
     "cf2b29845163418ab5ef177d6f453c18": {
      "model_module": "@jupyter-widgets/base",
      "model_module_version": "1.1.0",
      "model_name": "LayoutModel",
      "state": {}
     },
     "cf3d49c526ab48d0b7a251c6d57f3456": {
      "model_module": "@jupyter-widgets/base",
      "model_module_version": "1.1.0",
      "model_name": "LayoutModel",
      "state": {}
     },
     "cfa7d6e1d0674cab95af582f25e016f2": {
      "model_module": "@jupyter-widgets/base",
      "model_module_version": "1.1.0",
      "model_name": "LayoutModel",
      "state": {}
     },
     "d056726c6e1d4678bc0c488a749b83fb": {
      "model_module": "@jupyter-widgets/controls",
      "model_module_version": "1.4.0",
      "model_name": "AccordionModel",
      "state": {
       "_titles": {
        "0": "Importar dados de vento CSAT3",
        "1": "Importar dados de vento Windsonic"
       },
       "children": [
        "IPY_MODEL_1ca865e1d5bd4a479fd8d7546783a8dd",
        "IPY_MODEL_c88baed7780a4e179f15297dd42c229e"
       ],
       "layout": "IPY_MODEL_d867a1ec582d4208a700cb547e447e13",
       "selected_index": 1
      }
     },
     "d0f6223f295f417191650e235c132b66": {
      "model_module": "@jupyter-widgets/base",
      "model_module_version": "1.1.0",
      "model_name": "LayoutModel",
      "state": {
       "width": "400px"
      }
     },
     "d1db24e08d824a99ae654b31ff5a4df8": {
      "model_module": "@jupyter-widgets/base",
      "model_module_version": "1.1.0",
      "model_name": "LayoutModel",
      "state": {}
     },
     "d201a51557494fb0b452184d1d53cf03": {
      "model_module": "@jupyter-widgets/base",
      "model_module_version": "1.1.0",
      "model_name": "LayoutModel",
      "state": {}
     },
     "d39720aacd84436d92c0e4360add335f": {
      "model_module": "@jupyter-widgets/controls",
      "model_module_version": "1.4.0",
      "model_name": "AccordionModel",
      "state": {
       "_titles": {
        "0": "Ajustes a serem incluídos nos cálculos de velocidades resultantes"
       },
       "children": [
        "IPY_MODEL_3b8a86526af44e3a8e1475dc326ab01d"
       ],
       "layout": "IPY_MODEL_b6f854f50dfe4b5082e7aa50a852fd38"
      }
     },
     "d39c8fe7511345d88b3338a9737656a0": {
      "model_module": "@jupyter-widgets/base",
      "model_module_version": "1.1.0",
      "model_name": "LayoutModel",
      "state": {}
     },
     "d412e961e65141e4b8054c3af509905f": {
      "model_module": "@jupyter-widgets/controls",
      "model_module_version": "1.4.0",
      "model_name": "CheckboxModel",
      "state": {
       "description": "Utilizar RT",
       "disabled": false,
       "layout": "IPY_MODEL_1e73e8c35cd6475ca6ef68dbbb688b78",
       "style": "IPY_MODEL_823a5c6ef79240e1a02cfd451d794658",
       "value": true
      }
     },
     "d41621f5ecd1427fa105efcd520ae171": {
      "model_module": "@jupyter-widgets/base",
      "model_module_version": "1.1.0",
      "model_name": "LayoutModel",
      "state": {}
     },
     "d49b6fd011934138967bd870b4e652f6": {
      "model_module": "@jupyter-widgets/base",
      "model_module_version": "1.1.0",
      "model_name": "LayoutModel",
      "state": {}
     },
     "d512a78235a8473e98c6f3513c63e1b1": {
      "model_module": "@jupyter-widgets/controls",
      "model_module_version": "1.4.0",
      "model_name": "CheckboxModel",
      "state": {
       "description": "Utilizar RL",
       "disabled": false,
       "layout": "IPY_MODEL_6612874c2d4c4b0fa7bdeb2712b34d3e",
       "style": "IPY_MODEL_8c65ab2a124e4980abf25bff3338e186",
       "value": true
      }
     },
     "d51df04150ff4a91a0299e9335ec78e8": {
      "model_module": "@jupyter-widgets/controls",
      "model_module_version": "1.4.0",
      "model_name": "ButtonModel",
      "state": {
       "description": "Importar modelo de dados Windsonic",
       "layout": "IPY_MODEL_5166a478d6a841abb0d5e4ec4f64a904",
       "style": "IPY_MODEL_7282f393d11c484d95d9c59cf5fea572",
       "tooltip": "Importar modelo de dados Windsonic para leitura"
      }
     },
     "d5de8fac412b4c86aa0f24d705c83622": {
      "model_module": "@jupyter-widgets/controls",
      "model_module_version": "1.4.0",
      "model_name": "TabModel",
      "state": {
       "_titles": {
        "0": "Dados de Ventos",
        "1": "Ajustes de Cálculo",
        "2": "Outros Ajustes"
       },
       "children": [
        "IPY_MODEL_4e9be1a3372f41ebab35f503125d0000",
        "IPY_MODEL_60abf634f3d34ffcb0479049a0c60a8d",
        "IPY_MODEL_661b99ba13c34ad3b2d422d2bb88bbbf"
       ],
       "layout": "IPY_MODEL_c0ba0b443ccb418a944fe02fb23a6491"
      }
     },
     "d5ea9905bc274596802eca30c952a6ca": {
      "model_module": "@jupyter-widgets/controls",
      "model_module_version": "1.4.0",
      "model_name": "TabModel",
      "state": {
       "_titles": {
        "0": "Projetos"
       },
       "children": [
        "IPY_MODEL_42cc5351f731470b8602441d6b114dd4"
       ],
       "layout": "IPY_MODEL_141f7b2dcd554e428b531b58d055fc18"
      }
     },
     "d65278a58b0441cca76a71a68e26735a": {
      "model_module": "@jupyter-widgets/controls",
      "model_module_version": "1.4.0",
      "model_name": "AccordionModel",
      "state": {
       "_titles": {
        "0": "Ajustes a serem incluídos nos cálculos de velocidades resultantes"
       },
       "children": [
        "IPY_MODEL_b67e560c541d41b8bbb18c42b4bbfb12"
       ],
       "layout": "IPY_MODEL_8bfcebe9cbe042d1a4091d0992607e8f"
      }
     },
     "d72c48a39a844f0db940f0547ef5e33a": {
      "model_module": "@jupyter-widgets/controls",
      "model_module_version": "1.4.0",
      "model_name": "ButtonStyleModel",
      "state": {}
     },
     "d7e22423209241b1be79349283b6dd2d": {
      "model_module": "@jupyter-widgets/base",
      "model_module_version": "1.1.0",
      "model_name": "LayoutModel",
      "state": {}
     },
     "d867a1ec582d4208a700cb547e447e13": {
      "model_module": "@jupyter-widgets/base",
      "model_module_version": "1.1.0",
      "model_name": "LayoutModel",
      "state": {}
     },
     "d89aad0c14ea4bd49b77f3d4ef94c23a": {
      "model_module": "@jupyter-widgets/base",
      "model_module_version": "1.1.0",
      "model_name": "LayoutModel",
      "state": {
       "width": "30%"
      }
     },
     "da2ed92c8bcb4b3786aa156258682cb9": {
      "model_module": "@jupyter-widgets/controls",
      "model_module_version": "1.4.0",
      "model_name": "DescriptionStyleModel",
      "state": {
       "description_width": ""
      }
     },
     "dbd900c395a644ccaa6857a24638a517": {
      "model_module": "@jupyter-widgets/controls",
      "model_module_version": "1.4.0",
      "model_name": "AccordionModel",
      "state": {
       "_titles": {
        "0": "Criar projeto",
        "1": "Importar projeto"
       },
       "children": [
        "IPY_MODEL_9ba03726894c494ebc8ea4f7ce135f18",
        "IPY_MODEL_7ab1d5a0ae784e679732934c6dddedf7"
       ],
       "layout": "IPY_MODEL_ca3a2e43f74c4d3197d4f0c973c759d2",
       "selected_index": 1
      }
     },
     "dbf9f3e9cdeb43b0aa3d90d820064b0f": {
      "model_module": "@jupyter-widgets/base",
      "model_module_version": "1.1.0",
      "model_name": "LayoutModel",
      "state": {}
     },
     "dd1e8a548581406da598d18d828dd8e3": {
      "model_module": "@jupyter-widgets/base",
      "model_module_version": "1.1.0",
      "model_name": "LayoutModel",
      "state": {
       "width": "30%"
      }
     },
     "dd6db8012f0f4f678e9216778ff68132": {
      "model_module": "@jupyter-widgets/controls",
      "model_module_version": "1.4.0",
      "model_name": "ButtonModel",
      "state": {
       "description": "Importar modelo de dados Windsonic",
       "layout": "IPY_MODEL_4d3dacfcd6b64833ae561016eefbfb66",
       "style": "IPY_MODEL_1709b5859c994d25a0770f27b971eb75",
       "tooltip": "Importar modelo de dados Windsonic para leitura"
      }
     },
     "ddfecf4ea7db45a484a0a433bac545d2": {
      "model_module": "@jupyter-widgets/base",
      "model_module_version": "1.1.0",
      "model_name": "LayoutModel",
      "state": {}
     },
     "de163c1d909b4e4ebbde2aef479c9695": {
      "model_module": "@jupyter-widgets/controls",
      "model_module_version": "1.4.0",
      "model_name": "AccordionModel",
      "state": {
       "_titles": {
        "0": "Criar projeto",
        "1": "Importar projeto"
       },
       "children": [
        "IPY_MODEL_825079c83286488fa9538a4c34aceeef",
        "IPY_MODEL_fa3f9882afa844e88632840a1734d4fe"
       ],
       "layout": "IPY_MODEL_111331573e484f07984446eeb3ed633e",
       "selected_index": 1
      }
     },
     "de534f39d96c4cd19b25e49dd270c881": {
      "model_module": "@jupyter-widgets/controls",
      "model_module_version": "1.4.0",
      "model_name": "FloatTextModel",
      "state": {
       "description": "Ângulo percentual da rosa dos ventos:",
       "layout": "IPY_MODEL_8d1bba5f3e5442f6b4b984b1e58e0ec9",
       "step": null,
       "style": "IPY_MODEL_a21f5419597c428599242a1a321d3d22",
       "value": 33.75
      }
     },
     "de98af891f7747edb43a895bbb8b269e": {
      "model_module": "@jupyter-widgets/controls",
      "model_module_version": "1.4.0",
      "model_name": "ButtonModel",
      "state": {
       "description": "Importar modelo de dados Windsonic",
       "layout": "IPY_MODEL_03753ad2dec841ba97fca907aee62c46",
       "style": "IPY_MODEL_7502e1e4ca15490c8485525556797e2a",
       "tooltip": "Importar modelo de dados Windsonic para leitura"
      }
     },
     "deae87ff740348068fe358cc02ac5385": {
      "model_module": "@jupyter-widgets/base",
      "model_module_version": "1.1.0",
      "model_name": "LayoutModel",
      "state": {}
     },
     "deb389f8cff3467ca039330f5ddf8de3": {
      "model_module": "@jupyter-widgets/controls",
      "model_module_version": "1.4.0",
      "model_name": "AccordionModel",
      "state": {
       "_titles": {
        "0": "Criar projeto",
        "1": "Importar projeto"
       },
       "children": [
        "IPY_MODEL_4b1f826ec177494f8ef76bc6a9dd6159",
        "IPY_MODEL_87083ea72f0f4b0bb6f970a660ddeb49"
       ],
       "layout": "IPY_MODEL_46edc734474748a5bcade0e75d73d310",
       "selected_index": 1
      }
     },
     "df2e77d8fb9c465484a46f5422610043": {
      "model_module": "@jupyter-widgets/base",
      "model_module_version": "1.1.0",
      "model_name": "LayoutModel",
      "state": {
       "width": "30%"
      }
     },
     "df99daa4efa24b61927f3da9f70dcea2": {
      "model_module": "@jupyter-widgets/controls",
      "model_module_version": "1.4.0",
      "model_name": "CheckboxModel",
      "state": {
       "description": "Ajustar alturas",
       "disabled": false,
       "layout": "IPY_MODEL_56da3d37f11b42c397296384fa4a00af",
       "style": "IPY_MODEL_da2ed92c8bcb4b3786aa156258682cb9",
       "value": true
      }
     },
     "e0a01d39e1304fc8ad7c022524a6302b": {
      "model_module": "@jupyter-widgets/controls",
      "model_module_version": "1.4.0",
      "model_name": "ButtonModel",
      "state": {
       "description": "Criar projeto",
       "layout": "IPY_MODEL_9332a6b25f244ff6af66d419ae71a553",
       "style": "IPY_MODEL_822f54fd84d0464bb55709c4b17b13dd",
       "tooltip": "Cria um novo projeto"
      }
     },
     "e0b0f68edc144ccb88c3012734174c42": {
      "model_module": "@jupyter-widgets/base",
      "model_module_version": "1.1.0",
      "model_name": "LayoutModel",
      "state": {}
     },
     "e19423c7f5664ea9a9980c84a9d26873": {
      "model_module": "@jupyter-widgets/base",
      "model_module_version": "1.1.0",
      "model_name": "LayoutModel",
      "state": {}
     },
     "e21c08ff99f24069804ed18b9fa8cc3c": {
      "model_module": "@jupyter-widgets/controls",
      "model_module_version": "1.4.0",
      "model_name": "DescriptionStyleModel",
      "state": {
       "description_width": ""
      }
     },
     "e2b353c245554f62b8ef78ec76e08ad3": {
      "model_module": "@jupyter-widgets/base",
      "model_module_version": "1.1.0",
      "model_name": "LayoutModel",
      "state": {}
     },
     "e32cca934ee64ce2a2bee37028d9886d": {
      "model_module": "@jupyter-widgets/controls",
      "model_module_version": "1.4.0",
      "model_name": "ButtonModel",
      "state": {
       "description": "Importar modelo de dados CSAT3",
       "layout": "IPY_MODEL_74d065af1daf4b2885f9f4b6064e8476",
       "style": "IPY_MODEL_ee53287c1f2d4157aba90d714cd366d9",
       "tooltip": "Importar modelo de dados CSAT3 para leitura"
      }
     },
     "e35798b9f9724176afc2db3392f7d0a8": {
      "model_module": "@jupyter-widgets/base",
      "model_module_version": "1.1.0",
      "model_name": "LayoutModel",
      "state": {}
     },
     "e37054ec98994caca46307954924f925": {
      "model_module": "@jupyter-widgets/controls",
      "model_module_version": "1.4.0",
      "model_name": "ButtonStyleModel",
      "state": {}
     },
     "e3a4d1f0d6444c2b9faa177800772182": {
      "model_module": "@jupyter-widgets/controls",
      "model_module_version": "1.4.0",
      "model_name": "IntTextModel",
      "state": {
       "description": "Classes de vento:",
       "layout": "IPY_MODEL_fbcd2d3ff767478da85bebfc2f5616ad",
       "step": 1,
       "style": "IPY_MODEL_6a29506098f84b178adf6d19f7157f81",
       "value": 10
      }
     },
     "e3b3a14bb95e4bb18b30b2a1d26aa19b": {
      "model_module": "@jupyter-widgets/base",
      "model_module_version": "1.1.0",
      "model_name": "LayoutModel",
      "state": {}
     },
     "e42a666a01c447b5b838f2e0aa98e3df": {
      "model_module": "@jupyter-widgets/controls",
      "model_module_version": "1.4.0",
      "model_name": "ButtonModel",
      "state": {
       "description": "Criar projeto",
       "layout": "IPY_MODEL_e4662656704e4fd4a408880af8dafad6",
       "style": "IPY_MODEL_1094a83e5f6447219dae1c18e4f0a6bf",
       "tooltip": "Cria um novo projeto"
      }
     },
     "e4662656704e4fd4a408880af8dafad6": {
      "model_module": "@jupyter-widgets/base",
      "model_module_version": "1.1.0",
      "model_name": "LayoutModel",
      "state": {}
     },
     "e46df06edc4a41d4b91c50b1996466cb": {
      "model_module": "@jupyter-widgets/controls",
      "model_module_version": "1.4.0",
      "model_name": "DescriptionStyleModel",
      "state": {
       "description_width": ""
      }
     },
     "e51fed124f7449e1b76c726b6b02daac": {
      "model_module": "@jupyter-widgets/controls",
      "model_module_version": "1.4.0",
      "model_name": "ButtonModel",
      "state": {
       "description": "Criar projeto",
       "layout": "IPY_MODEL_6f1032d495a546cbb773e28ede465998",
       "style": "IPY_MODEL_613e24a259534f7fad2d24755bcdf11b",
       "tooltip": "Cria um novo projeto"
      }
     },
     "e55eaafea37945e18fa284e65efc550d": {
      "model_module": "@jupyter-widgets/controls",
      "model_module_version": "1.4.0",
      "model_name": "ButtonStyleModel",
      "state": {}
     },
     "e600238effdd4819b4ae8eb47def5634": {
      "model_module": "@jupyter-widgets/controls",
      "model_module_version": "1.4.0",
      "model_name": "TabModel",
      "state": {
       "_titles": {
        "0": "Projetos"
       },
       "children": [
        "IPY_MODEL_560eb580292c410baf3958e49d7f818e"
       ],
       "layout": "IPY_MODEL_ab37b1414ac34963b80260c887c18dd1"
      }
     },
     "e62f43effceb4ae19f60b4c9c8d5b170": {
      "model_module": "@jupyter-widgets/base",
      "model_module_version": "1.1.0",
      "model_name": "LayoutModel",
      "state": {}
     },
     "e658d2c16e154a6aa0742de2d4f3ec1a": {
      "model_module": "@jupyter-widgets/controls",
      "model_module_version": "1.4.0",
      "model_name": "ButtonModel",
      "state": {
       "description": "Criar projeto",
       "layout": "IPY_MODEL_cfa7d6e1d0674cab95af582f25e016f2",
       "style": "IPY_MODEL_e37054ec98994caca46307954924f925",
       "tooltip": "Cria um novo projeto"
      }
     },
     "e799b6f622804fd9abe8c133eeea0d3f": {
      "model_module": "@jupyter-widgets/controls",
      "model_module_version": "1.4.0",
      "model_name": "VBoxModel",
      "state": {
       "children": [
        "IPY_MODEL_df99daa4efa24b61927f3da9f70dcea2",
        "IPY_MODEL_287a0815056143c5b23db5916d8b7ab9",
        "IPY_MODEL_3215ecc75cbd49408998c848f3fc0bfb",
        "IPY_MODEL_4c0f7b483d8348ed8978c97d87cf4cdd"
       ],
       "layout": "IPY_MODEL_98042db50f474de987b4c6ff2a769099"
      }
     },
     "e7b9f3cc673c4990a0a88a1ae9463712": {
      "model_module": "@jupyter-widgets/controls",
      "model_module_version": "1.4.0",
      "model_name": "ButtonStyleModel",
      "state": {}
     },
     "e91c1e8ece9645889deca7328719c95b": {
      "model_module": "@jupyter-widgets/controls",
      "model_module_version": "1.4.0",
      "model_name": "TabModel",
      "state": {
       "_titles": {
        "0": "Dados de Ventos",
        "1": "Ajustes de Cálculo",
        "2": "Outros Ajustes"
       },
       "children": [
        "IPY_MODEL_b692d8f826b74810b428ccb982865136",
        "IPY_MODEL_d65278a58b0441cca76a71a68e26735a",
        "IPY_MODEL_ed7d8e57f73a4727896d15f7301f8104"
       ],
       "layout": "IPY_MODEL_c2fb329270704bf98113407da2e80a6b"
      }
     },
     "e97928472d664b4a8f230fc3bc937874": {
      "model_module": "@jupyter-widgets/base",
      "model_module_version": "1.1.0",
      "model_name": "LayoutModel",
      "state": {}
     },
     "ea12fbdceb904046bc9d76e0d72bc886": {
      "model_module": "@jupyter-widgets/controls",
      "model_module_version": "1.4.0",
      "model_name": "DescriptionStyleModel",
      "state": {
       "description_width": ""
      }
     },
     "ea1af7d549c34753b0237c1d157f3645": {
      "model_module": "@jupyter-widgets/controls",
      "model_module_version": "1.4.0",
      "model_name": "ButtonModel",
      "state": {
       "description": "Criar projeto",
       "layout": "IPY_MODEL_ddfecf4ea7db45a484a0a433bac545d2",
       "style": "IPY_MODEL_41b2949fafab4862b2e52f0b483f8291",
       "tooltip": "Cria um novo projeto"
      }
     },
     "ea781e478eff445bb42e3cd119c5b76e": {
      "model_module": "@jupyter-widgets/controls",
      "model_module_version": "1.4.0",
      "model_name": "CheckboxModel",
      "state": {
       "description": "Utilizar todas as componentes de velocidades Ux, Uy e Uz (CSAT3)",
       "disabled": false,
       "layout": "IPY_MODEL_a9bad1f5f6dd42b48e4a4139c0a8fdd6",
       "style": "IPY_MODEL_200c71d6ac8548e6ace0821b9cb0fe36",
       "value": false
      }
     },
     "eae04e4966fa43c3ae8233ae024692ee": {
      "model_module": "@jupyter-widgets/controls",
      "model_module_version": "1.4.0",
      "model_name": "CheckboxModel",
      "state": {
       "description": "Utilizar RL",
       "disabled": false,
       "layout": "IPY_MODEL_7dfc9a0f8e614109987c81a684d4a8b8",
       "style": "IPY_MODEL_5edfc012281147329bdf7236c1ac7fa0",
       "value": true
      }
     },
     "ebfb548b8c9e4c53bbef4873d92a2820": {
      "model_module": "@jupyter-widgets/controls",
      "model_module_version": "1.4.0",
      "model_name": "TabModel",
      "state": {
       "_titles": {
        "0": "Projetos"
       },
       "children": [
        "IPY_MODEL_c16978bb3f8043bca5aa0e9fdfc6bd5b"
       ],
       "layout": "IPY_MODEL_128e4866265d40d6a99f9bb32616648a"
      }
     },
     "ec65fd21db85499389f691d9e70a22c1": {
      "model_module": "@jupyter-widgets/base",
      "model_module_version": "1.1.0",
      "model_name": "LayoutModel",
      "state": {}
     },
     "ec6d1444df8f4ff798031396521faada": {
      "model_module": "@jupyter-widgets/controls",
      "model_module_version": "1.4.0",
      "model_name": "ButtonModel",
      "state": {
       "description": "Importar projeto",
       "layout": "IPY_MODEL_970af11431634f549d88bd9fb347d09a",
       "style": "IPY_MODEL_4c4b73dd51004fc2a74f04db4a2868df",
       "tooltip": "Importa o .csv de um projeto já criado"
      }
     },
     "ecc20a60a40f4789a6904e1cfac14983": {
      "model_module": "@jupyter-widgets/controls",
      "model_module_version": "1.4.0",
      "model_name": "TextModel",
      "state": {
       "description": "Unidade de velocidade:",
       "layout": "IPY_MODEL_94420f494d524b889ec7c00602aebbc2",
       "style": "IPY_MODEL_b3d80dc8111243db8d25b9d35147a0a5",
       "value": "m/s"
      }
     },
     "ecfa13f58b6349c4b8bb03a0ecd26e59": {
      "model_module": "@jupyter-widgets/base",
      "model_module_version": "1.1.0",
      "model_name": "LayoutModel",
      "state": {}
     },
     "ed06f1027d304a368223f3900769044a": {
      "model_module": "@jupyter-widgets/base",
      "model_module_version": "1.1.0",
      "model_name": "LayoutModel",
      "state": {}
     },
     "ed7d8e57f73a4727896d15f7301f8104": {
      "model_module": "@jupyter-widgets/controls",
      "model_module_version": "1.4.0",
      "model_name": "AccordionModel",
      "state": {
       "_titles": {
        "0": "Ângulo para a rosa dos ventos",
        "1": "Classes de vento",
        "2": "Step",
        "3": "Unidade de velocidade"
       },
       "children": [
        "IPY_MODEL_71b8afed13b744ed85a6564f9aad2726",
        "IPY_MODEL_34b930ade9c94000ae6f2edf723c8413",
        "IPY_MODEL_f7a6eb0cbdd046cc9d8b73ea7e623390",
        "IPY_MODEL_70b3898d5967430c94af9de31059ab12"
       ],
       "layout": "IPY_MODEL_fcf3a514f62442dab5f7dfbf93f0deb9"
      }
     },
     "ee229e5268f24cda823ebe992cbfb661": {
      "model_module": "@jupyter-widgets/controls",
      "model_module_version": "1.4.0",
      "model_name": "FloatTextModel",
      "state": {
       "description": "Ângulo percentual da rosa dos ventos:",
       "layout": "IPY_MODEL_d0f6223f295f417191650e235c132b66",
       "step": null,
       "style": "IPY_MODEL_8fb43eb832a644f8a94abaae20531169",
       "value": 33.75
      }
     },
     "ee53287c1f2d4157aba90d714cd366d9": {
      "model_module": "@jupyter-widgets/controls",
      "model_module_version": "1.4.0",
      "model_name": "ButtonStyleModel",
      "state": {}
     },
     "efcd177cfdc94cdca7f3ae3382ff4b1f": {
      "model_module": "@jupyter-widgets/base",
      "model_module_version": "1.1.0",
      "model_name": "LayoutModel",
      "state": {}
     },
     "f1e66fd8289b421eafad012a1bd1eca9": {
      "model_module": "@jupyter-widgets/controls",
      "model_module_version": "1.4.0",
      "model_name": "CheckboxModel",
      "state": {
       "description": "Utilizar todas as componentes de velocidades Ux, Uy e Uz (CSAT3)",
       "disabled": false,
       "layout": "IPY_MODEL_1eb777188a8c49f6a046b917a29da477",
       "style": "IPY_MODEL_5e911690a7b5405da0bab3bce5097791",
       "value": false
      }
     },
     "f21c01d53fe0486a92f7fc1bff21c9b4": {
      "model_module": "@jupyter-widgets/controls",
      "model_module_version": "1.4.0",
      "model_name": "TabModel",
      "state": {
       "_titles": {
        "0": "Projetos"
       },
       "children": [
        "IPY_MODEL_9864853af08642cdb7a6780af9655321"
       ],
       "layout": "IPY_MODEL_8089b70cd9664f41906cd402b31e426a"
      }
     },
     "f2bc9d1370da480e82aae1ed00e8d28f": {
      "model_module": "@jupyter-widgets/controls",
      "model_module_version": "1.4.0",
      "model_name": "VBoxModel",
      "state": {
       "children": [
        "IPY_MODEL_9183168b3bb24538ba027225ca78ca1a",
        "IPY_MODEL_600d7a85df6a4a0396f51c8d234db46a",
        "IPY_MODEL_393d62e1418240e8abb8d2dc2c44b5f5",
        "IPY_MODEL_2e8c7a00f47749979da6c9ab857c0122"
       ],
       "layout": "IPY_MODEL_a6162b4b445e4f868d8fa27b0db9492f"
      }
     },
     "f309a1a412b04efa968ce5ce9cf88eec": {
      "model_module": "@jupyter-widgets/controls",
      "model_module_version": "1.4.0",
      "model_name": "AccordionModel",
      "state": {
       "_titles": {
        "0": "Ajustes a serem incluídos nos cálculos de velocidades resultantes"
       },
       "children": [
        "IPY_MODEL_812550460cdb42eca9800647b0cec54e"
       ],
       "layout": "IPY_MODEL_4e29c18f2a144116b919e6ff7880faab"
      }
     },
     "f42dce997def4c70bcd67516403b6d51": {
      "model_module": "@jupyter-widgets/base",
      "model_module_version": "1.1.0",
      "model_name": "LayoutModel",
      "state": {}
     },
     "f4336c838f06410dade2c55b6fc7c1f1": {
      "model_module": "@jupyter-widgets/base",
      "model_module_version": "1.1.0",
      "model_name": "LayoutModel",
      "state": {}
     },
     "f4bfb2dbc2eb426dbca5371f89f9ec37": {
      "model_module": "@jupyter-widgets/controls",
      "model_module_version": "1.4.0",
      "model_name": "DescriptionStyleModel",
      "state": {
       "description_width": ""
      }
     },
     "f534b437f24c4b5489336ccbb06cc1a1": {
      "model_module": "@jupyter-widgets/controls",
      "model_module_version": "1.4.0",
      "model_name": "ButtonModel",
      "state": {
       "description": "Importar projeto",
       "layout": "IPY_MODEL_6791b0c7fc9b4b6fbb3dc2a0ad594c06",
       "style": "IPY_MODEL_846c77c93bf84a77a16872812ad05672",
       "tooltip": "Importa o .csv de um projeto criado"
      }
     },
     "f681e6b711f74206ba52d2e255b8a9aa": {
      "model_module": "@jupyter-widgets/base",
      "model_module_version": "1.1.0",
      "model_name": "LayoutModel",
      "state": {
       "width": "400px"
      }
     },
     "f7a6eb0cbdd046cc9d8b73ea7e623390": {
      "model_module": "@jupyter-widgets/controls",
      "model_module_version": "1.4.0",
      "model_name": "IntTextModel",
      "state": {
       "description": "Step:",
       "layout": "IPY_MODEL_7d2c6bef0d7c45edb03d00c52a442010",
       "step": 1,
       "style": "IPY_MODEL_f4bfb2dbc2eb426dbca5371f89f9ec37",
       "value": 1
      }
     },
     "f93942d2f4714c1aab6300126a6f4b95": {
      "model_module": "@jupyter-widgets/controls",
      "model_module_version": "1.4.0",
      "model_name": "ButtonModel",
      "state": {
       "description": "Importar modelo de dados Windsonic",
       "layout": "IPY_MODEL_d89aad0c14ea4bd49b77f3d4ef94c23a",
       "style": "IPY_MODEL_51d046ce537c47419c420dc4e2bef8b1",
       "tooltip": "Importar modelo de dados Windsonic para leitura"
      }
     },
     "f9af897e8ec843289c72b4a00a747b4c": {
      "model_module": "@jupyter-widgets/controls",
      "model_module_version": "1.4.0",
      "model_name": "TabModel",
      "state": {
       "_titles": {
        "0": "Projetos"
       },
       "children": [
        "IPY_MODEL_140d2a314ee344f7bc5ed601407397ed"
       ],
       "layout": "IPY_MODEL_7f113618687543538b5dac1a522f3851"
      }
     },
     "fa08822c773d4e6b8ec08619fd7f18a7": {
      "model_module": "@jupyter-widgets/controls",
      "model_module_version": "1.4.0",
      "model_name": "ButtonStyleModel",
      "state": {}
     },
     "fa1ff90a516040cd9cc9ab3f2539e7ff": {
      "model_module": "@jupyter-widgets/controls",
      "model_module_version": "1.4.0",
      "model_name": "CheckboxModel",
      "state": {
       "description": "Utilizar RL",
       "disabled": false,
       "layout": "IPY_MODEL_02130f95e56c4f5f8f93b5723712a58c",
       "style": "IPY_MODEL_8e956e761d2a464e8a6fb8473e656d6e",
       "value": false
      }
     },
     "fa24d1357997416ead35d31c40ba5a29": {
      "model_module": "@jupyter-widgets/controls",
      "model_module_version": "1.4.0",
      "model_name": "AccordionModel",
      "state": {
       "_titles": {
        "0": "Criar projeto",
        "1": "Importar projeto"
       },
       "children": [
        "IPY_MODEL_e0a01d39e1304fc8ad7c022524a6302b",
        "IPY_MODEL_a431e1b287354839b84a4218bd4a44c8"
       ],
       "layout": "IPY_MODEL_c7c7167b7f934089b5df08cbc0e280e9",
       "selected_index": 1
      }
     },
     "fa3497db214e439ca5650c770b6b8a2b": {
      "model_module": "@jupyter-widgets/controls",
      "model_module_version": "1.4.0",
      "model_name": "TabModel",
      "state": {
       "_titles": {
        "0": "Projetos"
       },
       "children": [
        "IPY_MODEL_5c386da49d1a450a8196688cff6f8fab"
       ],
       "layout": "IPY_MODEL_374d4ce78c64465f9029eba8ced5f665"
      }
     },
     "fa3f9882afa844e88632840a1734d4fe": {
      "model_module": "@jupyter-widgets/controls",
      "model_module_version": "1.4.0",
      "model_name": "ButtonModel",
      "state": {
       "description": "Importar projeto",
       "layout": "IPY_MODEL_1447b38ae1864cbca1a1608c053dfbaa",
       "style": "IPY_MODEL_46d7ffff25e542fd94d566552bbff14d",
       "tooltip": "Importa o .csv de um projeto criado"
      }
     },
     "fa6a60e4b2184122bcb6814dbdc1044d": {
      "model_module": "@jupyter-widgets/controls",
      "model_module_version": "1.4.0",
      "model_name": "AccordionModel",
      "state": {
       "_titles": {
        "0": "Criar projeto",
        "1": "Importar projeto"
       },
       "children": [
        "IPY_MODEL_e658d2c16e154a6aa0742de2d4f3ec1a",
        "IPY_MODEL_94e1d521dc5742a7913d9f065c1f62a9"
       ],
       "layout": "IPY_MODEL_d201a51557494fb0b452184d1d53cf03",
       "selected_index": 1
      }
     },
     "fad676d357ec41c8b02f32f577238d64": {
      "model_module": "@jupyter-widgets/controls",
      "model_module_version": "1.4.0",
      "model_name": "AccordionModel",
      "state": {
       "_titles": {
        "0": "Criar projeto",
        "1": "Importar projeto"
       },
       "children": [
        "IPY_MODEL_e42a666a01c447b5b838f2e0aa98e3df",
        "IPY_MODEL_7cf8c51ee6714488a74a1af288c14ded"
       ],
       "layout": "IPY_MODEL_8c1c608778524d519868a78f87fdd11c",
       "selected_index": 1
      }
     },
     "fb6743c0b8f84346a746a6737b621d00": {
      "model_module": "@jupyter-widgets/base",
      "model_module_version": "1.1.0",
      "model_name": "LayoutModel",
      "state": {}
     },
     "fb9813a125b7422994dd8c052b8665f6": {
      "model_module": "@jupyter-widgets/controls",
      "model_module_version": "1.4.0",
      "model_name": "DescriptionStyleModel",
      "state": {
       "description_width": ""
      }
     },
     "fba1c59e620143df8702b27efcc66276": {
      "model_module": "@jupyter-widgets/base",
      "model_module_version": "1.1.0",
      "model_name": "LayoutModel",
      "state": {
       "width": "30%"
      }
     },
     "fbcd2d3ff767478da85bebfc2f5616ad": {
      "model_module": "@jupyter-widgets/base",
      "model_module_version": "1.1.0",
      "model_name": "LayoutModel",
      "state": {}
     },
     "fc1b918764b74c55b0b3856cfcdc2aec": {
      "model_module": "@jupyter-widgets/base",
      "model_module_version": "1.1.0",
      "model_name": "LayoutModel",
      "state": {}
     },
     "fcf3a514f62442dab5f7dfbf93f0deb9": {
      "model_module": "@jupyter-widgets/base",
      "model_module_version": "1.1.0",
      "model_name": "LayoutModel",
      "state": {}
     },
     "ffbb3f16e42c4d54a1ae384106b3b654": {
      "model_module": "@jupyter-widgets/controls",
      "model_module_version": "1.4.0",
      "model_name": "ButtonStyleModel",
      "state": {}
     }
    },
    "version_major": 2,
    "version_minor": 0
   }
  }
 },
 "nbformat": 4,
 "nbformat_minor": 2
}
