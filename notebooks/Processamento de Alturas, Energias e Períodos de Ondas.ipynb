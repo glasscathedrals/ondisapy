{
 "cells": [
  {
   "cell_type": "markdown",
   "metadata": {},
   "source": [
    "<center><img src=\"img/logo3.png\" height=\"400\" width=\"400\"></center>"
   ]
  },
  {
   "cell_type": "markdown",
   "metadata": {},
   "source": [
    "<div style=\"text-align:center\"><b>Por Geraldo Maciel e Mateus Barbosa</b></div>"
   ]
  },
  {
   "cell_type": "markdown",
   "metadata": {},
   "source": [
    "---"
   ]
  },
  {
   "cell_type": "markdown",
   "metadata": {},
   "source": [
    "#### 1. Importação inicial"
   ]
  },
  {
   "cell_type": "markdown",
   "metadata": {},
   "source": [
    "<div style=\"text-align:left\">Esta célula sempre deverá ser executada inicialmente.<br>É ela a responsável por importar o código-fonte do módulo a ser utilizado.</div>"
   ]
  },
  {
   "cell_type": "code",
   "execution_count": null,
   "metadata": {},
   "outputs": [],
   "source": [
    "import sys\n",
    "import os\n",
    "\n",
    "sys.path.insert(0, os.path.join(os.path.dirname(os.getcwd()), 'scripts'))\n",
    "\n",
    "from windwaves import *"
   ]
  },
  {
   "cell_type": "markdown",
   "metadata": {},
   "source": [
    "---"
   ]
  },
  {
   "cell_type": "markdown",
   "metadata": {},
   "source": [
    "#### 2. Criação e importação de projetos e shapefiles"
   ]
  },
  {
   "cell_type": "markdown",
   "metadata": {},
   "source": [
    "<div style=\"text-align:left\">O módulo só aceita shapefiles que estejam nas seguintes projeções:<br><br>• EPSG:32718<br>• EPSG:32719<br>• EPSG:32720<br>• EPSG:32721<br>• EPSG:32722<br>• EPSG:32723<br>• EPSG:32724<br>• EPSG:32725<br><br>Mais informações sobre as projeções podem ser obtidas no endereço http://www.spatialreference.org/, utilizando os códigos já mencionados.</div>"
   ]
  },
  {
   "cell_type": "code",
   "execution_count": null,
   "metadata": {},
   "outputs": [],
   "source": [
    "widgets_main = WidgetsMain()\n",
    "widgets_main.display()"
   ]
  },
  {
   "cell_type": "markdown",
   "metadata": {},
   "source": [
    "---"
   ]
  },
  {
   "cell_type": "markdown",
   "metadata": {},
   "source": [
    "#### 3. Importação e seleção de esquemas de cores/intervalos/métodos/parâmetros para geração de dados e imagens de alturas, períodos e energias de ondas"
   ]
  },
  {
   "cell_type": "markdown",
   "metadata": {},
   "source": [
    "<div style=\"text-align:left\">Mais informações sobre os mapas de cores que podem ser utilizados podem ser encontrados nos endereços:<br><br>• https://matplotlib.org/examples/color/colormaps_reference.html<br>• https://matplotlib.org/cmocean/</div>"
   ]
  },
  {
   "cell_type": "code",
   "execution_count": null,
   "metadata": {
    "scrolled": false
   },
   "outputs": [],
   "source": [
    "widgets_wind_waves = WidgetsWindWaves()\n",
    "widgets_wind_waves.display()"
   ]
  },
  {
   "cell_type": "markdown",
   "metadata": {},
   "source": [
    "---"
   ]
  },
  {
   "cell_type": "markdown",
   "metadata": {},
   "source": [
    "#### 4. Geração de dados e imagens de alturas, períodos e energias de ondas"
   ]
  },
  {
   "cell_type": "code",
   "execution_count": null,
   "metadata": {
    "scrolled": false
   },
   "outputs": [],
   "source": [
    "widgets_wind_waves.outputs(widgets_main.grid, widgets_main.project_dirs)"
   ]
  },
  {
   "cell_type": "markdown",
   "metadata": {},
   "source": [
    "---"
   ]
  }
 ],
 "metadata": {
  "celltoolbar": "Hide code",
  "hide_code_all_hidden": false,
  "kernelspec": {
   "display_name": "Python 3",
   "language": "python",
   "name": "python3"
  },
  "language_info": {
   "codemirror_mode": {
    "name": "ipython",
    "version": 3
   },
   "file_extension": ".py",
   "mimetype": "text/x-python",
   "name": "python",
   "nbconvert_exporter": "python",
   "pygments_lexer": "ipython3",
   "version": "3.7.4"
  },
  "widgets": {
   "application/vnd.jupyter.widget-state+json": {
    "state": {
     "01021bdd682f4662bb09649e26750ece": {
      "model_module": "@jupyter-widgets/base",
      "model_module_version": "1.1.0",
      "model_name": "LayoutModel",
      "state": {}
     },
     "01a0bd254f1a480a8c7444c72ba45998": {
      "model_module": "@jupyter-widgets/base",
      "model_module_version": "1.1.0",
      "model_name": "LayoutModel",
      "state": {
       "width": "30%"
      }
     },
     "021fd37a2d0841dc94e9e3a64c8f452b": {
      "model_module": "@jupyter-widgets/base",
      "model_module_version": "1.1.0",
      "model_name": "LayoutModel",
      "state": {}
     },
     "0232616d330b450aa41429a7bc019615": {
      "model_module": "@jupyter-widgets/base",
      "model_module_version": "1.1.0",
      "model_name": "LayoutModel",
      "state": {}
     },
     "025d98f5153f471d958e33286c9ed9bb": {
      "model_module": "@jupyter-widgets/controls",
      "model_module_version": "1.4.0",
      "model_name": "DescriptionStyleModel",
      "state": {
       "description_width": "initial"
      }
     },
     "027e6bc528ec44a18719b009d0415b66": {
      "model_module": "@jupyter-widgets/controls",
      "model_module_version": "1.4.0",
      "model_name": "AccordionModel",
      "state": {
       "_titles": {
        "0": "Importar .shp de malha processada"
       },
       "children": [
        "IPY_MODEL_44ebca724e864d98b82c6412e2cd1dca"
       ],
       "layout": "IPY_MODEL_e9ecdf14a37f4abba92cdd93a4c8620c"
      }
     },
     "038bfd8e688542b284408f512a9585d0": {
      "model_module": "@jupyter-widgets/controls",
      "model_module_version": "1.4.0",
      "model_name": "AccordionModel",
      "state": {
       "_titles": {
        "0": "Duração (h)",
        "1": "Gravidade (m/s²)",
        "2": "Velocidade (m/s)"
       },
       "children": [
        "IPY_MODEL_216adece373d435ebe9e3d477196138a",
        "IPY_MODEL_a48aac230d63410aab2bdf35186f785d",
        "IPY_MODEL_42b978761f73490f9d49b4f92b85a0e2"
       ],
       "layout": "IPY_MODEL_18670fbcbe4c4eb4a0315a399b2ce297",
       "selected_index": 2
      }
     },
     "03c0ba21f0c742129b25e273c6e290d4": {
      "model_module": "@jupyter-widgets/controls",
      "model_module_version": "1.4.0",
      "model_name": "DropdownModel",
      "state": {
       "_options_labels": [
        "Accent",
        "afmhot",
        "autumn",
        "binary",
        "Blues",
        "bone",
        "BrBG",
        "brg",
        "BuGn",
        "BuPu",
        "bwr",
        "CMRmap",
        "cool",
        "coolwarm",
        "copper",
        "cubehelix",
        "Dark2",
        "flag",
        "gist_earth",
        "gist_gray",
        "gist_heat",
        "gist_ncar",
        "gist_rainbow",
        "gist_stern",
        "gist_yarg",
        "GnBu",
        "gnuplot",
        "gnuplot2",
        "gray",
        "Greens",
        "Greys",
        "hot",
        "hsv",
        "inferno",
        "jet",
        "magma",
        "nipy_spectral",
        "ocean",
        "Oranges",
        "OrRd",
        "Paired",
        "Pastel1",
        "Pastel2",
        "pink",
        "PiYG",
        "plasma",
        "PRGn",
        "prism",
        "PuBu",
        "PuBuGn",
        "PuOr",
        "PuRd",
        "Purples",
        "rainbow",
        "RdBu",
        "RdGy",
        "RdPu",
        "RdYlBu",
        "RdYlGn",
        "Reds",
        "seismic",
        "Set1",
        "Set2",
        "Set3",
        "Spectral",
        "spring",
        "summer",
        "tab10",
        "tab20",
        "tab20b",
        "tab20c",
        "terrain",
        "viridis",
        "winter",
        "Wistia",
        "YlGn",
        "YlGnBu",
        "YlOrBr",
        "YlOrRd"
       ],
       "description": "Selecione o esquema de cores desejado para a imagem:",
       "index": 32,
       "layout": "IPY_MODEL_231d7e88548640b9970cfce068b36903",
       "style": "IPY_MODEL_bcb137a0afc6448d8ea26b911767a7f9"
      }
     },
     "0426d0077b89455686da1b394f74f50c": {
      "model_module": "@jupyter-widgets/controls",
      "model_module_version": "1.4.0",
      "model_name": "ButtonModel",
      "state": {
       "description": "Importar .shp de malha processada",
       "layout": "IPY_MODEL_4dad64163bb54b5ca5a81f37b3681476",
       "style": "IPY_MODEL_9398fe6212db4cd3bb6b56ee26fa43fc",
       "tooltip": "Importa um .shp que já teve sua malha processada"
      }
     },
     "04aeb54ad36846f6bd78ef837c9d7274": {
      "model_module": "@jupyter-widgets/base",
      "model_module_version": "1.1.0",
      "model_name": "LayoutModel",
      "state": {}
     },
     "04f9dbf268c64bfe898df30b6d0c3746": {
      "model_module": "@jupyter-widgets/base",
      "model_module_version": "1.1.0",
      "model_name": "LayoutModel",
      "state": {
       "width": "500px"
      }
     },
     "062ef6c3807a48d78fe12bd39facd743": {
      "model_module": "@jupyter-widgets/controls",
      "model_module_version": "1.4.0",
      "model_name": "ButtonStyleModel",
      "state": {}
     },
     "0659f639120348169f47772b88e1d5ee": {
      "model_module": "@jupyter-widgets/controls",
      "model_module_version": "1.4.0",
      "model_name": "ButtonModel",
      "state": {
       "description": "Importar projeto",
       "layout": "IPY_MODEL_95485e3af60b4a228a285a58bd81ee0f",
       "style": "IPY_MODEL_89b1df3e588a43f9ab7f7d9052875ce2",
       "tooltip": "Importa o .csv de um projeto criado"
      }
     },
     "069ae3cfc85b42539b1d8f6be73cca49": {
      "model_module": "@jupyter-widgets/controls",
      "model_module_version": "1.4.0",
      "model_name": "DropdownModel",
      "state": {
       "_options_labels": [
        "Accent",
        "afmhot",
        "autumn",
        "binary",
        "Blues",
        "bone",
        "BrBG",
        "brg",
        "BuGn",
        "BuPu",
        "bwr",
        "CMRmap",
        "cool",
        "coolwarm",
        "copper",
        "cubehelix",
        "Dark2",
        "flag",
        "gist_earth",
        "gist_gray",
        "gist_heat",
        "gist_ncar",
        "gist_rainbow",
        "gist_stern",
        "gist_yarg",
        "GnBu",
        "gnuplot",
        "gnuplot2",
        "gray",
        "Greens",
        "Greys",
        "hot",
        "hsv",
        "inferno",
        "jet",
        "magma",
        "nipy_spectral",
        "ocean",
        "Oranges",
        "OrRd",
        "Paired",
        "Pastel1",
        "Pastel2",
        "pink",
        "PiYG",
        "plasma",
        "PRGn",
        "prism",
        "PuBu",
        "PuBuGn",
        "PuOr",
        "PuRd",
        "Purples",
        "rainbow",
        "RdBu",
        "RdGy",
        "RdPu",
        "RdYlBu",
        "RdYlGn",
        "Reds",
        "seismic",
        "Set1",
        "Set2",
        "Set3",
        "Spectral",
        "spring",
        "summer",
        "tab10",
        "tab20",
        "tab20b",
        "tab20c",
        "terrain",
        "viridis",
        "winter",
        "Wistia",
        "YlGn",
        "YlGnBu",
        "YlOrBr",
        "YlOrRd"
       ],
       "description": "Selecione o esquema de cores desejado para a imagem:",
       "index": 32,
       "layout": "IPY_MODEL_eafb14f26c244107871aedf22e243c21",
       "style": "IPY_MODEL_7cf5c69da676459c86b5283da8cdb243"
      }
     },
     "07610c4016e1484699857fec5ec5c74e": {
      "model_module": "@jupyter-widgets/controls",
      "model_module_version": "1.4.0",
      "model_name": "DropdownModel",
      "state": {
       "_options_labels": [
        "Accent",
        "afmhot",
        "autumn",
        "binary",
        "Blues",
        "bone",
        "BrBG",
        "brg",
        "BuGn",
        "BuPu",
        "bwr",
        "CMRmap",
        "cool",
        "coolwarm",
        "copper",
        "cubehelix",
        "Dark2",
        "flag",
        "gist_earth",
        "gist_gray",
        "gist_heat",
        "gist_ncar",
        "gist_rainbow",
        "gist_stern",
        "gist_yarg",
        "GnBu",
        "gnuplot",
        "gnuplot2",
        "gray",
        "Greens",
        "Greys",
        "hot",
        "hsv",
        "inferno",
        "jet",
        "magma",
        "nipy_spectral",
        "ocean",
        "Oranges",
        "OrRd",
        "Paired",
        "Pastel1",
        "Pastel2",
        "pink",
        "PiYG",
        "plasma",
        "PRGn",
        "prism",
        "PuBu",
        "PuBuGn",
        "PuOr",
        "PuRd",
        "Purples",
        "rainbow",
        "RdBu",
        "RdGy",
        "RdPu",
        "RdYlBu",
        "RdYlGn",
        "Reds",
        "seismic",
        "Set1",
        "Set2",
        "Set3",
        "Spectral",
        "spring",
        "summer",
        "tab10",
        "tab20",
        "tab20b",
        "tab20c",
        "terrain",
        "viridis",
        "winter",
        "Wistia",
        "YlGn",
        "YlGnBu",
        "YlOrBr",
        "YlOrRd"
       ],
       "description": "Selecione o esquema de cores desejado para a imagem:",
       "index": 64,
       "layout": "IPY_MODEL_83525d0ec7784955b6fc1090186cd373",
       "style": "IPY_MODEL_b6d72997b075403c962baa2ad3e9d7b4"
      }
     },
     "0797886a99cf417aa7178f32bc37e832": {
      "model_module": "@jupyter-widgets/base",
      "model_module_version": "1.1.0",
      "model_name": "LayoutModel",
      "state": {
       "width": "500px"
      }
     },
     "07ce7ba41f37418ab68cdcde0f8b4774": {
      "model_module": "@jupyter-widgets/controls",
      "model_module_version": "1.4.0",
      "model_name": "AccordionModel",
      "state": {
       "_titles": {
        "0": "Duração (h)",
        "1": "Gravidade (m/s²)",
        "2": "Velocidade (m/s)"
       },
       "children": [
        "IPY_MODEL_b050084e8fbe420ba8b70daf9c077fa1",
        "IPY_MODEL_a8fda5623e1442a39b5deb9b60a668ad",
        "IPY_MODEL_71f8bec168b244de8ba323d35443cba4"
       ],
       "layout": "IPY_MODEL_0a0b93a758a34211bbef99a46cc2344d",
       "selected_index": 2
      }
     },
     "0832fea976754ad0b14d4ddf1fbca054": {
      "model_module": "@jupyter-widgets/base",
      "model_module_version": "1.1.0",
      "model_name": "LayoutModel",
      "state": {
       "width": "30%"
      }
     },
     "0989d72950614b8aa17b7f314890fd9b": {
      "model_module": "@jupyter-widgets/controls",
      "model_module_version": "1.4.0",
      "model_name": "FloatTextModel",
      "state": {
       "description": "Gravidade:",
       "layout": "IPY_MODEL_43d572482920449684e7e0d7961cfd92",
       "step": null,
       "style": "IPY_MODEL_9b08f40e9d45430383f1ba60ff4593d5",
       "value": 9.81
      }
     },
     "0a0b93a758a34211bbef99a46cc2344d": {
      "model_module": "@jupyter-widgets/base",
      "model_module_version": "1.1.0",
      "model_name": "LayoutModel",
      "state": {}
     },
     "0a0c1413e2994d57a24aed1ab0e31652": {
      "model_module": "@jupyter-widgets/controls",
      "model_module_version": "1.4.0",
      "model_name": "AccordionModel",
      "state": {
       "_titles": {
        "0": "Criar projeto",
        "1": "Importar projeto"
       },
       "children": [
        "IPY_MODEL_e4054d1910d946609c5be576f635ac1d",
        "IPY_MODEL_26c8c51a8fbe49eda6eadcaa82e34574"
       ],
       "layout": "IPY_MODEL_8f4034dd64c5474ab3f9096fbfbac2e6",
       "selected_index": 1
      }
     },
     "0a8461dc71784b66a5083ff63b9d4192": {
      "model_module": "@jupyter-widgets/controls",
      "model_module_version": "1.4.0",
      "model_name": "DropdownModel",
      "state": {
       "_options_labels": [
        "Accent",
        "afmhot",
        "autumn",
        "binary",
        "Blues",
        "bone",
        "BrBG",
        "brg",
        "BuGn",
        "BuPu",
        "bwr",
        "CMRmap",
        "cool",
        "coolwarm",
        "copper",
        "cubehelix",
        "Dark2",
        "flag",
        "gist_earth",
        "gist_gray",
        "gist_heat",
        "gist_ncar",
        "gist_rainbow",
        "gist_stern",
        "gist_yarg",
        "GnBu",
        "gnuplot",
        "gnuplot2",
        "gray",
        "Greens",
        "Greys",
        "hot",
        "hsv",
        "inferno",
        "jet",
        "magma",
        "nipy_spectral",
        "ocean",
        "Oranges",
        "OrRd",
        "Paired",
        "Pastel1",
        "Pastel2",
        "pink",
        "PiYG",
        "plasma",
        "PRGn",
        "prism",
        "PuBu",
        "PuBuGn",
        "PuOr",
        "PuRd",
        "Purples",
        "rainbow",
        "RdBu",
        "RdGy",
        "RdPu",
        "RdYlBu",
        "RdYlGn",
        "Reds",
        "seismic",
        "Set1",
        "Set2",
        "Set3",
        "Spectral",
        "spring",
        "summer",
        "tab10",
        "tab20",
        "tab20b",
        "tab20c",
        "terrain",
        "viridis",
        "winter",
        "Wistia",
        "YlGn",
        "YlGnBu",
        "YlOrBr",
        "YlOrRd"
       ],
       "description": "Selecione o esquema de cores desejado para a imagem:",
       "index": 32,
       "layout": "IPY_MODEL_c88403369ddc483699f74d68b23441e2",
       "style": "IPY_MODEL_86a08af7956b44f7aedb2258db3c9391"
      }
     },
     "0b24365255f04535b1bd53e60a83576d": {
      "model_module": "@jupyter-widgets/base",
      "model_module_version": "1.1.0",
      "model_name": "LayoutModel",
      "state": {}
     },
     "0b56dfacaf4840529ebef0f5b0c09b8b": {
      "model_module": "@jupyter-widgets/controls",
      "model_module_version": "1.4.0",
      "model_name": "ButtonStyleModel",
      "state": {}
     },
     "0bd44aedfc004bd1b3fa3ce53e9b6e3f": {
      "model_module": "@jupyter-widgets/controls",
      "model_module_version": "1.4.0",
      "model_name": "ButtonStyleModel",
      "state": {}
     },
     "0c0459b4012241a881c3f30ac3a513d5": {
      "model_module": "@jupyter-widgets/controls",
      "model_module_version": "1.4.0",
      "model_name": "AccordionModel",
      "state": {
       "_titles": {
        "0": "Método de cálculo para os períodos de ondas",
        "1": "Esquema de cores"
       },
       "children": [
        "IPY_MODEL_3bae728eac0646da88d1cf2f93a0949f",
        "IPY_MODEL_069ae3cfc85b42539b1d8f6be73cca49"
       ],
       "layout": "IPY_MODEL_9d36e302906e47168f20417823c0e6af"
      }
     },
     "0c9091c354a64fcbbadd6e2f9ca1b267": {
      "model_module": "@jupyter-widgets/base",
      "model_module_version": "1.1.0",
      "model_name": "LayoutModel",
      "state": {}
     },
     "0cf5b4079c4f4519af3f6e356f6fa601": {
      "model_module": "@jupyter-widgets/controls",
      "model_module_version": "1.4.0",
      "model_name": "AccordionModel",
      "state": {
       "_titles": {
        "0": "Criar projeto",
        "1": "Importar projeto"
       },
       "children": [
        "IPY_MODEL_1a6f5e4e7568472c9e4b1699c393e7f1",
        "IPY_MODEL_548154f604b54448830c60e7e8c7e310"
       ],
       "layout": "IPY_MODEL_c5e5f2f5cedc4d2496cd1b6e0a362aa4",
       "selected_index": 1
      }
     },
     "0d5568e3cb2f4756b4c8827140d032b6": {
      "model_module": "@jupyter-widgets/base",
      "model_module_version": "1.1.0",
      "model_name": "LayoutModel",
      "state": {}
     },
     "0d859a68e2bc41ccbaf9c82b5666e818": {
      "model_module": "@jupyter-widgets/controls",
      "model_module_version": "1.4.0",
      "model_name": "FloatTextModel",
      "state": {
       "description": "Gravidade:",
       "layout": "IPY_MODEL_136ebf7fccc74f128a9bd5f77aea1f78",
       "step": null,
       "style": "IPY_MODEL_6b67e776f8ac46be815915ddf12afee0",
       "value": 9.81
      }
     },
     "0dc144da47294c89b783e5a19c2e0aa7": {
      "model_module": "@jupyter-widgets/controls",
      "model_module_version": "1.4.0",
      "model_name": "ButtonModel",
      "state": {
       "description": "Importar pista(s) de vento já processada(s)",
       "layout": "IPY_MODEL_7fd01eaadab44c808ffdb2eec7e8b52e",
       "style": "IPY_MODEL_5ca311fb48b448ba933c4b3f7410eda8",
       "tooltip": "Importa pista(s) de vento já processada(s)"
      }
     },
     "0df1d9de1cab4d2ca21879749cf5581a": {
      "model_module": "@jupyter-widgets/controls",
      "model_module_version": "1.4.0",
      "model_name": "DropdownModel",
      "state": {
       "_options_labels": [
        "JONSWAP"
       ],
       "description": "Método:",
       "index": 0,
       "layout": "IPY_MODEL_6ca33354287c4568a8d75da6ce59ad88",
       "style": "IPY_MODEL_5f71839defa0412eaeea119b60a0632f"
      }
     },
     "0e3a86f7cf434211a8ae8e53ce6b8a29": {
      "model_module": "@jupyter-widgets/base",
      "model_module_version": "1.1.0",
      "model_name": "LayoutModel",
      "state": {
       "width": "400px"
      }
     },
     "0ea2115ed596431db968f4982bf495a1": {
      "model_module": "@jupyter-widgets/base",
      "model_module_version": "1.1.0",
      "model_name": "LayoutModel",
      "state": {}
     },
     "0f4dd685fee1443a99dcbddd0db618e4": {
      "model_module": "@jupyter-widgets/controls",
      "model_module_version": "1.4.0",
      "model_name": "TabModel",
      "state": {
       "_titles": {
        "0": "Projetos",
        "1": "Shapefiles"
       },
       "children": [
        "IPY_MODEL_140b9c4c1b8a45c897bf154838eee47a",
        "IPY_MODEL_202e051304db444c83ecbb225af4cefb"
       ],
       "layout": "IPY_MODEL_9f96f025fe5d4fda848142b873c4aecb",
       "selected_index": 1
      }
     },
     "10c6702100714d4ca452800c2405dae3": {
      "model_module": "@jupyter-widgets/controls",
      "model_module_version": "1.4.0",
      "model_name": "AccordionModel",
      "state": {
       "_titles": {
        "0": "Importar .shp de malha processada"
       },
       "children": [
        "IPY_MODEL_706390b239d8499cb9a5330a5e5612d1"
       ],
       "layout": "IPY_MODEL_21e3569fe9034243a32b95194d6c3ce6"
      }
     },
     "111cac14a9174af597fa9dfd9916272c": {
      "model_module": "@jupyter-widgets/base",
      "model_module_version": "1.1.0",
      "model_name": "LayoutModel",
      "state": {
       "width": "400px"
      }
     },
     "111cc4578123440588726393121e6d29": {
      "model_module": "@jupyter-widgets/base",
      "model_module_version": "1.1.0",
      "model_name": "LayoutModel",
      "state": {}
     },
     "113cc7813a63414b85109310dcb4a68a": {
      "model_module": "@jupyter-widgets/controls",
      "model_module_version": "1.4.0",
      "model_name": "ButtonStyleModel",
      "state": {}
     },
     "12c75154421e45d6b400dd264fbed6e0": {
      "model_module": "@jupyter-widgets/base",
      "model_module_version": "1.1.0",
      "model_name": "LayoutModel",
      "state": {}
     },
     "12da3cecd91143afabe154dea0de91b0": {
      "model_module": "@jupyter-widgets/controls",
      "model_module_version": "1.4.0",
      "model_name": "ButtonModel",
      "state": {
       "description": "Importar pista(s) de vento já processada(s)",
       "layout": "IPY_MODEL_5327c5c61c134f268c584085a2a7720c",
       "style": "IPY_MODEL_5ff059781e6741b19b3715f56705a16c",
       "tooltip": "Importa pista(s) de vento já processada(s)"
      }
     },
     "12e85cf1172448fdbcafcd2eeb06d83c": {
      "model_module": "@jupyter-widgets/controls",
      "model_module_version": "1.4.0",
      "model_name": "DropdownModel",
      "state": {
       "_options_labels": [
        "Creager",
        "JONSWAP",
        "SGM",
        "SMB",
        "Wolf"
       ],
       "description": "Método:",
       "index": 1,
       "layout": "IPY_MODEL_5ec4174f7e364085afd3e61a3a0728f1",
       "style": "IPY_MODEL_63c19e7dcc294d77ae354384a2b2ebef"
      }
     },
     "13437dcfc7aa40329ebd7dd961ce0f16": {
      "model_module": "@jupyter-widgets/controls",
      "model_module_version": "1.4.0",
      "model_name": "TabModel",
      "state": {
       "_titles": {
        "0": "Pistas de Vento",
        "1": "Variáveis de Ventos",
        "2": "Alturas de Ondas",
        "3": "Períodos de Ondas",
        "4": "Energias de Ondas"
       },
       "children": [
        "IPY_MODEL_c0ec778cd0ec405d910c747bd7781de7",
        "IPY_MODEL_8809a647988944f5829b6c22f8abb157",
        "IPY_MODEL_575617fe05f545249a837d527b64c6d0",
        "IPY_MODEL_6df7142642f24b1a9d55b144e822871e",
        "IPY_MODEL_8b9bb1f17d0849a78491167b6eb6995b"
       ],
       "layout": "IPY_MODEL_34922e74357f41a580cdeaf62c3e746e"
      }
     },
     "1344ca3749854319927961a5030b4e60": {
      "model_module": "@jupyter-widgets/controls",
      "model_module_version": "1.4.0",
      "model_name": "TabModel",
      "state": {
       "_titles": {
        "0": "Projetos",
        "1": "Shapefiles"
       },
       "children": [
        "IPY_MODEL_6dda32ac9af144caa68d210f5f459343",
        "IPY_MODEL_a2b01a83a15c4277b11d7feb7ee441bb"
       ],
       "layout": "IPY_MODEL_793be6126e634fddb581bdd2c911ccfe",
       "selected_index": 1
      }
     },
     "136ebf7fccc74f128a9bd5f77aea1f78": {
      "model_module": "@jupyter-widgets/base",
      "model_module_version": "1.1.0",
      "model_name": "LayoutModel",
      "state": {}
     },
     "1386b38bddaf45e49b1e289fd344fd52": {
      "model_module": "@jupyter-widgets/controls",
      "model_module_version": "1.4.0",
      "model_name": "FloatTextModel",
      "state": {
       "description": "Velocidade:",
       "layout": "IPY_MODEL_0232616d330b450aa41429a7bc019615",
       "step": null,
       "style": "IPY_MODEL_931e0435d3a2433aa851c271124cf2f3",
       "value": 15
      }
     },
     "13dc584201044965a8eb34d5e5ee6057": {
      "model_module": "@jupyter-widgets/controls",
      "model_module_version": "1.4.0",
      "model_name": "DescriptionStyleModel",
      "state": {
       "description_width": "initial"
      }
     },
     "13e6927389644d5cb38cebb69a4a18a6": {
      "model_module": "@jupyter-widgets/controls",
      "model_module_version": "1.4.0",
      "model_name": "ButtonStyleModel",
      "state": {}
     },
     "140b9c4c1b8a45c897bf154838eee47a": {
      "model_module": "@jupyter-widgets/controls",
      "model_module_version": "1.4.0",
      "model_name": "AccordionModel",
      "state": {
       "_titles": {
        "0": "Criar projeto",
        "1": "Importar projeto"
       },
       "children": [
        "IPY_MODEL_65b8cbbbf7bf4e5c98e53db918b37e10",
        "IPY_MODEL_fb74963bed474aa08c43d958679d9a3d"
       ],
       "layout": "IPY_MODEL_b26b350c57ff46ba97a613e7e579555c",
       "selected_index": 1
      }
     },
     "14279f835ce94d528d36ac38952ec7f6": {
      "model_module": "@jupyter-widgets/controls",
      "model_module_version": "1.4.0",
      "model_name": "DescriptionStyleModel",
      "state": {
       "description_width": ""
      }
     },
     "15f7f032e1b049bdaae6936b8c67677d": {
      "model_module": "@jupyter-widgets/base",
      "model_module_version": "1.1.0",
      "model_name": "LayoutModel",
      "state": {}
     },
     "1639f43ddf074f81a80176d765595f61": {
      "model_module": "@jupyter-widgets/controls",
      "model_module_version": "1.4.0",
      "model_name": "DropdownModel",
      "state": {
       "_options_labels": [
        "Accent",
        "afmhot",
        "autumn",
        "binary",
        "Blues",
        "bone",
        "BrBG",
        "brg",
        "BuGn",
        "BuPu",
        "bwr",
        "CMRmap",
        "cool",
        "coolwarm",
        "copper",
        "cubehelix",
        "Dark2",
        "flag",
        "gist_earth",
        "gist_gray",
        "gist_heat",
        "gist_ncar",
        "gist_rainbow",
        "gist_stern",
        "gist_yarg",
        "GnBu",
        "gnuplot",
        "gnuplot2",
        "gray",
        "Greens",
        "Greys",
        "hot",
        "hsv",
        "inferno",
        "jet",
        "magma",
        "nipy_spectral",
        "ocean",
        "Oranges",
        "OrRd",
        "Paired",
        "Pastel1",
        "Pastel2",
        "pink",
        "PiYG",
        "plasma",
        "PRGn",
        "prism",
        "PuBu",
        "PuBuGn",
        "PuOr",
        "PuRd",
        "Purples",
        "rainbow",
        "RdBu",
        "RdGy",
        "RdPu",
        "RdYlBu",
        "RdYlGn",
        "Reds",
        "seismic",
        "Set1",
        "Set2",
        "Set3",
        "Spectral",
        "spring",
        "summer",
        "tab10",
        "tab20",
        "tab20b",
        "tab20c",
        "terrain",
        "viridis",
        "winter",
        "Wistia",
        "YlGn",
        "YlGnBu",
        "YlOrBr",
        "YlOrRd"
       ],
       "description": "Selecione o esquema de cores desejado para a imagem:",
       "index": 32,
       "layout": "IPY_MODEL_47dedde6780f42b89f72e48883c88b1f",
       "style": "IPY_MODEL_48b9dd5d742641959f796f0d25a9e87f"
      }
     },
     "16e0137c599149e7a3682863dcd3b25f": {
      "model_module": "@jupyter-widgets/controls",
      "model_module_version": "1.4.0",
      "model_name": "TabModel",
      "state": {
       "_titles": {
        "0": "Pistas de Vento",
        "1": "Variáveis de Ventos",
        "2": "Alturas de Ondas",
        "3": "Períodos de Ondas",
        "4": "Energias de Ondas"
       },
       "children": [
        "IPY_MODEL_57a74bd397ed4688819ef73db0e1f466",
        "IPY_MODEL_abc08a4a3c6d4a78b8105c175c752e97",
        "IPY_MODEL_f8874f7bdb6d42f98e3a0cda5483eec6",
        "IPY_MODEL_1d73cf95754e44e195e68f8b5edbee58",
        "IPY_MODEL_cd15c479c6894f32bf8fffdaab6c046e"
       ],
       "layout": "IPY_MODEL_ea7f308f69b14bd785efd8af8336600e"
      }
     },
     "16fb15e75eaa4076b13beb635866cfef": {
      "model_module": "@jupyter-widgets/controls",
      "model_module_version": "1.4.0",
      "model_name": "ButtonModel",
      "state": {
       "description": "Importar .shp de malha processada",
       "layout": "IPY_MODEL_0832fea976754ad0b14d4ddf1fbca054",
       "style": "IPY_MODEL_5e58f115119a49a7a3786aed607d318b",
       "tooltip": "Importa um .shp que já teve sua malha processada"
      }
     },
     "17a74893af1b4c77bdd60ee68344e80f": {
      "model_module": "@jupyter-widgets/base",
      "model_module_version": "1.1.0",
      "model_name": "LayoutModel",
      "state": {}
     },
     "1851c32e34304083a72c5440570399c1": {
      "model_module": "@jupyter-widgets/controls",
      "model_module_version": "1.4.0",
      "model_name": "DropdownModel",
      "state": {
       "_options_labels": [
        "Creager",
        "JONSWAP",
        "SGM",
        "SMB",
        "Wolf"
       ],
       "description": "Método:",
       "index": 1,
       "layout": "IPY_MODEL_ecdc23e8bd064856b5e9ecfca9208c25",
       "style": "IPY_MODEL_33d302c57881447995eed4af560097a3"
      }
     },
     "18670fbcbe4c4eb4a0315a399b2ce297": {
      "model_module": "@jupyter-widgets/base",
      "model_module_version": "1.1.0",
      "model_name": "LayoutModel",
      "state": {}
     },
     "187c26f3659344a8b37d0bcdb8fdabaa": {
      "model_module": "@jupyter-widgets/controls",
      "model_module_version": "1.4.0",
      "model_name": "FloatTextModel",
      "state": {
       "description": "Velocidade:",
       "layout": "IPY_MODEL_ac1adbad11dd419eb497c59694105fc0",
       "step": null,
       "style": "IPY_MODEL_ebb351d865a54a46875220eb8e724042",
       "value": 15
      }
     },
     "189fbb2299cd4926b04c1cf7159c7243": {
      "model_module": "@jupyter-widgets/controls",
      "model_module_version": "1.4.0",
      "model_name": "ButtonStyleModel",
      "state": {}
     },
     "1909a7b37b824760872c438d04bef891": {
      "model_module": "@jupyter-widgets/controls",
      "model_module_version": "1.4.0",
      "model_name": "AccordionModel",
      "state": {
       "_titles": {
        "0": "Método de cálculo para as alturas de ondas",
        "1": "Esquema de cores"
       },
       "children": [
        "IPY_MODEL_12e85cf1172448fdbcafcd2eeb06d83c",
        "IPY_MODEL_ac8bafcd63d145fc88fe53714ba8999e"
       ],
       "layout": "IPY_MODEL_8b5ac0590cb14dbba7219faa4065a1a2"
      }
     },
     "195dd65a1a55405e848639b98e614c4b": {
      "model_module": "@jupyter-widgets/controls",
      "model_module_version": "1.4.0",
      "model_name": "AccordionModel",
      "state": {
       "_titles": {
        "0": "Método de cálculo para as energias de ondas",
        "1": "Esquema de cores"
       },
       "children": [
        "IPY_MODEL_d29eda619b16452cb772f2c93eda6cc7",
        "IPY_MODEL_43780f6c669a490fa65c89205fbde42b"
       ],
       "layout": "IPY_MODEL_1a0a8a7205dc4ec7a7268d8aad822e7e"
      }
     },
     "1a0a8a7205dc4ec7a7268d8aad822e7e": {
      "model_module": "@jupyter-widgets/base",
      "model_module_version": "1.1.0",
      "model_name": "LayoutModel",
      "state": {}
     },
     "1a6f5e4e7568472c9e4b1699c393e7f1": {
      "model_module": "@jupyter-widgets/controls",
      "model_module_version": "1.4.0",
      "model_name": "ButtonModel",
      "state": {
       "description": "Criar projeto",
       "layout": "IPY_MODEL_b2e01d14c5f44f638e293b27c711e4bd",
       "style": "IPY_MODEL_0bd44aedfc004bd1b3fa3ce53e9b6e3f",
       "tooltip": "Cria um novo projeto"
      }
     },
     "1afaf8e3f40d4e4e8b339ab7dd417bae": {
      "model_module": "@jupyter-widgets/controls",
      "model_module_version": "1.4.0",
      "model_name": "DescriptionStyleModel",
      "state": {
       "description_width": ""
      }
     },
     "1ba1cfdbcb3a4f5ca0bce465f36bcb89": {
      "model_module": "@jupyter-widgets/controls",
      "model_module_version": "1.4.0",
      "model_name": "DropdownModel",
      "state": {
       "_options_labels": [
        "Accent",
        "afmhot",
        "autumn",
        "binary",
        "Blues",
        "bone",
        "BrBG",
        "brg",
        "BuGn",
        "BuPu",
        "bwr",
        "CMRmap",
        "cool",
        "coolwarm",
        "copper",
        "cubehelix",
        "Dark2",
        "flag",
        "gist_earth",
        "gist_gray",
        "gist_heat",
        "gist_ncar",
        "gist_rainbow",
        "gist_stern",
        "gist_yarg",
        "GnBu",
        "gnuplot",
        "gnuplot2",
        "gray",
        "Greens",
        "Greys",
        "hot",
        "hsv",
        "inferno",
        "jet",
        "magma",
        "nipy_spectral",
        "ocean",
        "Oranges",
        "OrRd",
        "Paired",
        "Pastel1",
        "Pastel2",
        "pink",
        "PiYG",
        "plasma",
        "PRGn",
        "prism",
        "PuBu",
        "PuBuGn",
        "PuOr",
        "PuRd",
        "Purples",
        "rainbow",
        "RdBu",
        "RdGy",
        "RdPu",
        "RdYlBu",
        "RdYlGn",
        "Reds",
        "seismic",
        "Set1",
        "Set2",
        "Set3",
        "Spectral",
        "spring",
        "summer",
        "tab10",
        "tab20",
        "tab20b",
        "tab20c",
        "terrain",
        "viridis",
        "winter",
        "Wistia",
        "YlGn",
        "YlGnBu",
        "YlOrBr",
        "YlOrRd"
       ],
       "description": "Selecione o esquema de cores desejado para a imagem:",
       "index": 32,
       "layout": "IPY_MODEL_9da1e63e0a8849048b0cd25f61aedcf0",
       "style": "IPY_MODEL_7f25b4bd486242038d48a06f7aca5906"
      }
     },
     "1bc875714a5f4dcb99b6f49b8243b6ca": {
      "model_module": "@jupyter-widgets/base",
      "model_module_version": "1.1.0",
      "model_name": "LayoutModel",
      "state": {
       "width": "30%"
      }
     },
     "1c741343d1214a21a1fc47c250e79a28": {
      "model_module": "@jupyter-widgets/controls",
      "model_module_version": "1.4.0",
      "model_name": "ButtonStyleModel",
      "state": {}
     },
     "1d59c5683827483cbb72d813fa96a3d8": {
      "model_module": "@jupyter-widgets/controls",
      "model_module_version": "1.4.0",
      "model_name": "DescriptionStyleModel",
      "state": {
       "description_width": ""
      }
     },
     "1d73cf95754e44e195e68f8b5edbee58": {
      "model_module": "@jupyter-widgets/controls",
      "model_module_version": "1.4.0",
      "model_name": "AccordionModel",
      "state": {
       "_titles": {
        "0": "Método de cálculo para os períodos de ondas",
        "1": "Esquema de cores"
       },
       "children": [
        "IPY_MODEL_4551e45efb5c4c5b9720c92a4b207cd7",
        "IPY_MODEL_e3c4b0bb3f0b4f8ebe0b19004418d67d"
       ],
       "layout": "IPY_MODEL_682c4a7f31014ab5896f465ed88fbc1f",
       "selected_index": 1
      }
     },
     "1d832e93dd0a4fb1a797e11bc1ef868b": {
      "model_module": "@jupyter-widgets/controls",
      "model_module_version": "1.4.0",
      "model_name": "ButtonModel",
      "state": {
       "description": "Importar projeto",
       "layout": "IPY_MODEL_1daffb624a1049d498bfa3aadc8a61d4",
       "style": "IPY_MODEL_b23db793830c4e2ea69758cba27bc717",
       "tooltip": "Importa o .csv de um projeto criado"
      }
     },
     "1d8b5802382b4f0f8c751eeaaa3ef842": {
      "model_module": "@jupyter-widgets/controls",
      "model_module_version": "1.4.0",
      "model_name": "DescriptionStyleModel",
      "state": {
       "description_width": ""
      }
     },
     "1daffb624a1049d498bfa3aadc8a61d4": {
      "model_module": "@jupyter-widgets/base",
      "model_module_version": "1.1.0",
      "model_name": "LayoutModel",
      "state": {}
     },
     "1dcfe5d7f99343bb80ddf6962ff15393": {
      "model_module": "@jupyter-widgets/controls",
      "model_module_version": "1.4.0",
      "model_name": "ButtonStyleModel",
      "state": {}
     },
     "1e62b5eb4d2444609cb360e27a1ade3b": {
      "model_module": "@jupyter-widgets/base",
      "model_module_version": "1.1.0",
      "model_name": "LayoutModel",
      "state": {}
     },
     "1ebdf0dca2394a6980f5a6eb7fdd9dfd": {
      "model_module": "@jupyter-widgets/base",
      "model_module_version": "1.1.0",
      "model_name": "LayoutModel",
      "state": {}
     },
     "1f376cfd8e5047d585e2730a74f23c31": {
      "model_module": "@jupyter-widgets/controls",
      "model_module_version": "1.4.0",
      "model_name": "DescriptionStyleModel",
      "state": {
       "description_width": ""
      }
     },
     "1fce254281f24e5098879bf8c83a0af6": {
      "model_module": "@jupyter-widgets/controls",
      "model_module_version": "1.4.0",
      "model_name": "DescriptionStyleModel",
      "state": {
       "description_width": "initial"
      }
     },
     "202e051304db444c83ecbb225af4cefb": {
      "model_module": "@jupyter-widgets/controls",
      "model_module_version": "1.4.0",
      "model_name": "AccordionModel",
      "state": {
       "_titles": {
        "0": "Importar .shp de malha processada"
       },
       "children": [
        "IPY_MODEL_0426d0077b89455686da1b394f74f50c"
       ],
       "layout": "IPY_MODEL_e6a4c364fcd949a988628b5f0275a7eb"
      }
     },
     "205e8611e3124333a9dd09e3abeb5891": {
      "model_module": "@jupyter-widgets/controls",
      "model_module_version": "1.4.0",
      "model_name": "ButtonModel",
      "state": {
       "description": "Criar projeto",
       "layout": "IPY_MODEL_7bcd2146dec045bf82cfee26088919ef",
       "style": "IPY_MODEL_77aac18fa11944668bfc89f7a865bd6e",
       "tooltip": "Cria um novo projeto"
      }
     },
     "20c8f811e55d42c987d47401e7914eb9": {
      "model_module": "@jupyter-widgets/controls",
      "model_module_version": "1.4.0",
      "model_name": "DropdownModel",
      "state": {
       "_options_labels": [
        "JONSWAP"
       ],
       "description": "Método:",
       "index": 0,
       "layout": "IPY_MODEL_3bd94cb364364e2f9d0ffd8765025def",
       "style": "IPY_MODEL_fd91a5ba4fb94492b8467a606b33be14"
      }
     },
     "216adece373d435ebe9e3d477196138a": {
      "model_module": "@jupyter-widgets/controls",
      "model_module_version": "1.4.0",
      "model_name": "FloatTextModel",
      "state": {
       "description": "Duração:",
       "layout": "IPY_MODEL_aa03cc8fddc94ec799923dbf9b19c1c5",
       "step": null,
       "style": "IPY_MODEL_d4c988500d65454f9cff0494ae7da01d",
       "value": 2
      }
     },
     "216f274d62fb4cb3b4101749d57dbe5f": {
      "model_module": "@jupyter-widgets/base",
      "model_module_version": "1.1.0",
      "model_name": "LayoutModel",
      "state": {}
     },
     "21856b8530964dc9a04e5e5213376a70": {
      "model_module": "@jupyter-widgets/base",
      "model_module_version": "1.1.0",
      "model_name": "LayoutModel",
      "state": {
       "width": "30%"
      }
     },
     "21e3569fe9034243a32b95194d6c3ce6": {
      "model_module": "@jupyter-widgets/base",
      "model_module_version": "1.1.0",
      "model_name": "LayoutModel",
      "state": {}
     },
     "22989b4b02414a1aa8561e8977a4134c": {
      "model_module": "@jupyter-widgets/controls",
      "model_module_version": "1.4.0",
      "model_name": "ButtonStyleModel",
      "state": {}
     },
     "229f1c9bdb1f41b1960848479d68b3d1": {
      "model_module": "@jupyter-widgets/base",
      "model_module_version": "1.1.0",
      "model_name": "LayoutModel",
      "state": {}
     },
     "22b122617483421ea48da36238e67d90": {
      "model_module": "@jupyter-widgets/controls",
      "model_module_version": "1.4.0",
      "model_name": "AccordionModel",
      "state": {
       "_titles": {
        "0": "Método de cálculo para os períodos de ondas",
        "1": "Esquema de cores"
       },
       "children": [
        "IPY_MODEL_c062d61f1f4b4972b1e16f588669a6c6",
        "IPY_MODEL_aa683dcaaff6479ea4083410b20f4783"
       ],
       "layout": "IPY_MODEL_325663e3c23547c4a5412cc6bd0a8583",
       "selected_index": 1
      }
     },
     "22db6bce10db40228c611e83bc7ab308": {
      "model_module": "@jupyter-widgets/base",
      "model_module_version": "1.1.0",
      "model_name": "LayoutModel",
      "state": {
       "width": "30%"
      }
     },
     "231d7e88548640b9970cfce068b36903": {
      "model_module": "@jupyter-widgets/base",
      "model_module_version": "1.1.0",
      "model_name": "LayoutModel",
      "state": {
       "width": "500px"
      }
     },
     "23a197e9e32b4fa886b3f67aa4769694": {
      "model_module": "@jupyter-widgets/controls",
      "model_module_version": "1.4.0",
      "model_name": "ButtonModel",
      "state": {
       "description": "Importar pista(s) de vento processada(s)",
       "layout": "IPY_MODEL_b25d5edfb0e545ba99e9e49c94b5f717",
       "style": "IPY_MODEL_422c83eed7d9436892229f059563c984",
       "tooltip": "Importa pista(s) de vento processada(s)"
      }
     },
     "246e88975eaf41418b65a4f366744de5": {
      "model_module": "@jupyter-widgets/controls",
      "model_module_version": "1.4.0",
      "model_name": "AccordionModel",
      "state": {
       "_titles": {
        "0": "Importar .shp de malha processada"
       },
       "children": [
        "IPY_MODEL_a8c49f2c8a234d21bf539df6879bd865"
       ],
       "layout": "IPY_MODEL_b8950d5edc3d42729668765e564ce5b7"
      }
     },
     "2486aecf65eb457cbf584adad55790d7": {
      "model_module": "@jupyter-widgets/controls",
      "model_module_version": "1.4.0",
      "model_name": "DescriptionStyleModel",
      "state": {
       "description_width": "initial"
      }
     },
     "24f3c08740ed4e1c9e2095687cbca9ea": {
      "model_module": "@jupyter-widgets/controls",
      "model_module_version": "1.4.0",
      "model_name": "AccordionModel",
      "state": {
       "_titles": {
        "0": "Escolha da(s) pista(s) de vento"
       },
       "children": [
        "IPY_MODEL_2756c526a2c7426daea7c4e53d29fc6b"
       ],
       "layout": "IPY_MODEL_7094239deda34f9aaa136c9e12506a2b"
      }
     },
     "255f9259660649cb87ad972a25ac2e24": {
      "model_module": "@jupyter-widgets/base",
      "model_module_version": "1.1.0",
      "model_name": "LayoutModel",
      "state": {}
     },
     "25e428e0bd3a40f1902faaf67e54553b": {
      "model_module": "@jupyter-widgets/base",
      "model_module_version": "1.1.0",
      "model_name": "LayoutModel",
      "state": {}
     },
     "26391fcab9e9403a817e8b9dd5676759": {
      "model_module": "@jupyter-widgets/controls",
      "model_module_version": "1.4.0",
      "model_name": "DescriptionStyleModel",
      "state": {
       "description_width": ""
      }
     },
     "26c8c51a8fbe49eda6eadcaa82e34574": {
      "model_module": "@jupyter-widgets/controls",
      "model_module_version": "1.4.0",
      "model_name": "ButtonModel",
      "state": {
       "description": "Importar projeto",
       "layout": "IPY_MODEL_31b7a0c0b6f24f5eb678596b608b2d0c",
       "style": "IPY_MODEL_355d220a198b424f9a30c6db1e3e5bd3",
       "tooltip": "Importa o .csv de um projeto já criado"
      }
     },
     "2756c526a2c7426daea7c4e53d29fc6b": {
      "model_module": "@jupyter-widgets/controls",
      "model_module_version": "1.4.0",
      "model_name": "ButtonModel",
      "state": {
       "description": "Importar pista(s) de vento já processada(s)",
       "layout": "IPY_MODEL_d2d4f99f5a8a44079902f65d05dd4336",
       "style": "IPY_MODEL_913a9898afce49d984b0a2f20daf27f1",
       "tooltip": "Importa pista(s) de vento já processada(s)"
      }
     },
     "27613458e2084fa59734a3c47d1a06c5": {
      "model_module": "@jupyter-widgets/controls",
      "model_module_version": "1.4.0",
      "model_name": "TabModel",
      "state": {
       "_titles": {
        "0": "Projetos",
        "1": "Shapefiles"
       },
       "children": [
        "IPY_MODEL_0a0c1413e2994d57a24aed1ab0e31652",
        "IPY_MODEL_be8bab05fb474d6eadba6200e7266736"
       ],
       "layout": "IPY_MODEL_a9abd980f13d42e2bb94fa55202fef98",
       "selected_index": 1
      }
     },
     "27cec7c0f5df42c4886cce582a95abfc": {
      "model_module": "@jupyter-widgets/controls",
      "model_module_version": "1.4.0",
      "model_name": "DropdownModel",
      "state": {
       "_options_labels": [
        "Creager",
        "JONSWAP",
        "SGM",
        "SMB",
        "Wolf"
       ],
       "description": "Método:",
       "index": 1,
       "layout": "IPY_MODEL_c506a9d2a2fc4c53be7f18bd72ca0b4b",
       "style": "IPY_MODEL_3c4eed3daf9440b6a6b858a261833464"
      }
     },
     "29de01a2bf66440e93f0b7bd0f54937e": {
      "model_module": "@jupyter-widgets/controls",
      "model_module_version": "1.4.0",
      "model_name": "SelectModel",
      "state": {
       "_options_labels": [
        "0.0°"
       ],
       "description": "Direção (°):",
       "index": 0,
       "layout": "IPY_MODEL_b9e19f248a2c40879f557cc6616f1210",
       "style": "IPY_MODEL_a721322efeaa412f89132b7c34914346"
      }
     },
     "2ab830ecfc3e4c8e8098aa3655fb576d": {
      "model_module": "@jupyter-widgets/controls",
      "model_module_version": "1.4.0",
      "model_name": "ButtonModel",
      "state": {
       "description": "Importar pista(s) de vento processada(s)",
       "layout": "IPY_MODEL_1bc875714a5f4dcb99b6f49b8243b6ca",
       "style": "IPY_MODEL_22989b4b02414a1aa8561e8977a4134c",
       "tooltip": "Importa pista(s) de vento processada(s)"
      }
     },
     "2bf5008736c441e2b39cddee92162354": {
      "model_module": "@jupyter-widgets/controls",
      "model_module_version": "1.4.0",
      "model_name": "SelectModel",
      "state": {
       "_options_labels": [
        "0.0°",
        "90.0°",
        "180.0°",
        "270.0°"
       ],
       "description": "Direção (°):",
       "index": 3,
       "layout": "IPY_MODEL_7da5c4fea91a449083f4d060676da0c7",
       "style": "IPY_MODEL_bff139e91d21429bb402e1a42c0347ad"
      }
     },
     "2bfc86eda48c4689b5a2d94e4820fd7d": {
      "model_module": "@jupyter-widgets/base",
      "model_module_version": "1.1.0",
      "model_name": "LayoutModel",
      "state": {
       "width": "400px"
      }
     },
     "2c200413b5f34f11960b1c7d0bbc9809": {
      "model_module": "@jupyter-widgets/base",
      "model_module_version": "1.1.0",
      "model_name": "LayoutModel",
      "state": {
       "width": "400px"
      }
     },
     "2c39f2281d6840b4909cafb700557f18": {
      "model_module": "@jupyter-widgets/controls",
      "model_module_version": "1.4.0",
      "model_name": "ButtonModel",
      "state": {
       "description": "Importar projeto",
       "layout": "IPY_MODEL_6602a7df388e4a869377f09bff33e33d",
       "style": "IPY_MODEL_f7c0c2a521414cb890aac80740f86d55",
       "tooltip": "Importa o .csv de um projeto já criado"
      }
     },
     "2d86e4cbac3e4d6b896109427c32fa47": {
      "model_module": "@jupyter-widgets/controls",
      "model_module_version": "1.4.0",
      "model_name": "ButtonStyleModel",
      "state": {}
     },
     "2d89084186d641d6bdcb59502c73b8d5": {
      "model_module": "@jupyter-widgets/controls",
      "model_module_version": "1.4.0",
      "model_name": "DescriptionStyleModel",
      "state": {
       "description_width": "initial"
      }
     },
     "2dc3c33179d14d78ba0f2b53c4da97e7": {
      "model_module": "@jupyter-widgets/base",
      "model_module_version": "1.1.0",
      "model_name": "LayoutModel",
      "state": {
       "width": "30%"
      }
     },
     "2ed5f8cebdb1487f82a7b80bad8c60cd": {
      "model_module": "@jupyter-widgets/base",
      "model_module_version": "1.1.0",
      "model_name": "LayoutModel",
      "state": {
       "width": "30%"
      }
     },
     "2f2c45ec733b4bd7aa5f6be93428f1df": {
      "model_module": "@jupyter-widgets/base",
      "model_module_version": "1.1.0",
      "model_name": "LayoutModel",
      "state": {
       "width": "500px"
      }
     },
     "2f433d10265f4c2c9cc99b87816a5257": {
      "model_module": "@jupyter-widgets/base",
      "model_module_version": "1.1.0",
      "model_name": "LayoutModel",
      "state": {}
     },
     "302f18c6073d44cebebee4c16957a451": {
      "model_module": "@jupyter-widgets/controls",
      "model_module_version": "1.4.0",
      "model_name": "DropdownModel",
      "state": {
       "_options_labels": [
        "Creager",
        "JONSWAP",
        "SGM",
        "SMB",
        "Wolf"
       ],
       "description": "Método:",
       "index": 1,
       "layout": "IPY_MODEL_44f6fcf347d14f10bd12e86b5dd36080",
       "style": "IPY_MODEL_bb3dbca5fb524230ae2525e26ba7578d"
      }
     },
     "3159520e57c04b90bc90a0164e50f2d8": {
      "model_module": "@jupyter-widgets/controls",
      "model_module_version": "1.4.0",
      "model_name": "DescriptionStyleModel",
      "state": {
       "description_width": "initial"
      }
     },
     "31b1b221e2c249cb89390b3ae1388f23": {
      "model_module": "@jupyter-widgets/controls",
      "model_module_version": "1.4.0",
      "model_name": "DropdownModel",
      "state": {
       "_options_labels": [
        "Accent",
        "afmhot",
        "autumn",
        "binary",
        "Blues",
        "bone",
        "BrBG",
        "brg",
        "BuGn",
        "BuPu",
        "bwr",
        "cmo.algae",
        "cmo.amp",
        "cmo.balance",
        "cmo.curl",
        "cmo.deep",
        "cmo.delta",
        "cmo.dense",
        "cmo.gray",
        "cmo.haline",
        "cmo.ice",
        "cmo.matter",
        "cmo.oxy",
        "cmo.phase",
        "cmo.solar",
        "cmo.speed",
        "cmo.tempo",
        "cmo.thermal",
        "cmo.turbid",
        "CMRmap",
        "cool",
        "coolwarm",
        "copper",
        "cubehelix",
        "Dark2",
        "flag",
        "gist_earth",
        "gist_gray",
        "gist_heat",
        "gist_ncar",
        "gist_rainbow",
        "gist_stern",
        "gist_yarg",
        "GnBu",
        "gnuplot",
        "gnuplot2",
        "gray",
        "Greens",
        "Greys",
        "hot",
        "hsv",
        "inferno",
        "jet",
        "magma",
        "nipy_spectral",
        "ocean",
        "Oranges",
        "OrRd",
        "Paired",
        "Pastel1",
        "Pastel2",
        "pink",
        "PiYG",
        "plasma",
        "PRGn",
        "prism",
        "PuBu",
        "PuBuGn",
        "PuOr",
        "PuRd",
        "Purples",
        "rainbow",
        "RdBu",
        "RdGy",
        "RdPu",
        "RdYlBu",
        "RdYlGn",
        "Reds",
        "seismic",
        "Set1",
        "Set2",
        "Set3",
        "Spectral",
        "spring",
        "summer",
        "tab10",
        "tab20",
        "tab20b",
        "tab20c",
        "terrain",
        "viridis",
        "winter",
        "Wistia",
        "YlGn",
        "YlGnBu",
        "YlOrBr",
        "YlOrRd"
       ],
       "description": "Selecione o esquema de cores desejado para a imagem:",
       "index": 52,
       "layout": "IPY_MODEL_71fe624c4ac54f5e9c5211b0442d6379",
       "style": "IPY_MODEL_bc3be3c10f464ecb8d59c966cc9b2fbe"
      }
     },
     "31b7a0c0b6f24f5eb678596b608b2d0c": {
      "model_module": "@jupyter-widgets/base",
      "model_module_version": "1.1.0",
      "model_name": "LayoutModel",
      "state": {}
     },
     "325663e3c23547c4a5412cc6bd0a8583": {
      "model_module": "@jupyter-widgets/base",
      "model_module_version": "1.1.0",
      "model_name": "LayoutModel",
      "state": {}
     },
     "32b1737051d94b83a172fa619827e142": {
      "model_module": "@jupyter-widgets/controls",
      "model_module_version": "1.4.0",
      "model_name": "FloatTextModel",
      "state": {
       "description": "Duração:",
       "layout": "IPY_MODEL_e3d8e5cf072942c0bbf6cfb2b6fb4878",
       "step": null,
       "style": "IPY_MODEL_9d1146725bec476db95901bd070711ff",
       "value": 2
      }
     },
     "332c6e10d4fe4ba2af580cd225035317": {
      "model_module": "@jupyter-widgets/controls",
      "model_module_version": "1.4.0",
      "model_name": "DropdownModel",
      "state": {
       "_options_labels": [
        "Accent",
        "afmhot",
        "autumn",
        "binary",
        "Blues",
        "bone",
        "BrBG",
        "brg",
        "BuGn",
        "BuPu",
        "bwr",
        "CMRmap",
        "cool",
        "coolwarm",
        "copper",
        "cubehelix",
        "Dark2",
        "flag",
        "gist_earth",
        "gist_gray",
        "gist_heat",
        "gist_ncar",
        "gist_rainbow",
        "gist_stern",
        "gist_yarg",
        "GnBu",
        "gnuplot",
        "gnuplot2",
        "gray",
        "Greens",
        "Greys",
        "hot",
        "hsv",
        "inferno",
        "jet",
        "magma",
        "nipy_spectral",
        "ocean",
        "Oranges",
        "OrRd",
        "Paired",
        "Pastel1",
        "Pastel2",
        "pink",
        "PiYG",
        "plasma",
        "PRGn",
        "prism",
        "PuBu",
        "PuBuGn",
        "PuOr",
        "PuRd",
        "Purples",
        "rainbow",
        "RdBu",
        "RdGy",
        "RdPu",
        "RdYlBu",
        "RdYlGn",
        "Reds",
        "seismic",
        "Set1",
        "Set2",
        "Set3",
        "Spectral",
        "spring",
        "summer",
        "tab10",
        "tab20",
        "tab20b",
        "tab20c",
        "terrain",
        "viridis",
        "winter",
        "Wistia",
        "YlGn",
        "YlGnBu",
        "YlOrBr",
        "YlOrRd"
       ],
       "description": "Selecione o esquema de cores desejado para a imagem:",
       "index": 21,
       "layout": "IPY_MODEL_ab38b38b4e2741c08667aa5856c1a205",
       "style": "IPY_MODEL_3159520e57c04b90bc90a0164e50f2d8"
      }
     },
     "33867e36f82e49f99883f9d7f4772ca3": {
      "model_module": "@jupyter-widgets/controls",
      "model_module_version": "1.4.0",
      "model_name": "AccordionModel",
      "state": {
       "_titles": {
        "0": "Criar projeto",
        "1": "Importar projeto"
       },
       "children": [
        "IPY_MODEL_f48ae598c6014930b77ba59df8f061f4",
        "IPY_MODEL_0659f639120348169f47772b88e1d5ee"
       ],
       "layout": "IPY_MODEL_4d473e83b13347a2ada413c116bd89e6",
       "selected_index": 1
      }
     },
     "33d302c57881447995eed4af560097a3": {
      "model_module": "@jupyter-widgets/controls",
      "model_module_version": "1.4.0",
      "model_name": "DescriptionStyleModel",
      "state": {
       "description_width": "initial"
      }
     },
     "33ef3a29d9ad4eac83b64cdd9bab66d8": {
      "model_module": "@jupyter-widgets/base",
      "model_module_version": "1.1.0",
      "model_name": "LayoutModel",
      "state": {}
     },
     "34922e74357f41a580cdeaf62c3e746e": {
      "model_module": "@jupyter-widgets/base",
      "model_module_version": "1.1.0",
      "model_name": "LayoutModel",
      "state": {}
     },
     "34bc527cb9b8440fb5d7fd662aea18e5": {
      "model_module": "@jupyter-widgets/controls",
      "model_module_version": "1.4.0",
      "model_name": "ButtonStyleModel",
      "state": {}
     },
     "355d220a198b424f9a30c6db1e3e5bd3": {
      "model_module": "@jupyter-widgets/controls",
      "model_module_version": "1.4.0",
      "model_name": "ButtonStyleModel",
      "state": {}
     },
     "358eb8908f35436fa1ae444d9d382684": {
      "model_module": "@jupyter-widgets/controls",
      "model_module_version": "1.4.0",
      "model_name": "ButtonModel",
      "state": {
       "description": "Importar projeto",
       "layout": "IPY_MODEL_ed3b34dfb769462d82254fdf468e7558",
       "style": "IPY_MODEL_948b0d2858e248d0b3eef7a94e6dc611",
       "tooltip": "Importa o .csv de um projeto criado"
      }
     },
     "35ccdb12e4f3495f8a1919daf0eee4ec": {
      "model_module": "@jupyter-widgets/controls",
      "model_module_version": "1.4.0",
      "model_name": "DropdownModel",
      "state": {
       "_options_labels": [
        "SMB"
       ],
       "description": "Método:",
       "index": 0,
       "layout": "IPY_MODEL_0e3a86f7cf434211a8ae8e53ce6b8a29",
       "style": "IPY_MODEL_cff1be9bf2454f2bbedee523ead5f97d"
      }
     },
     "35dcce1a1a894782adc969a7735234ff": {
      "model_module": "@jupyter-widgets/controls",
      "model_module_version": "1.4.0",
      "model_name": "DescriptionStyleModel",
      "state": {
       "description_width": ""
      }
     },
     "35ec1247d5604b9d87795eaffde26ec3": {
      "model_module": "@jupyter-widgets/base",
      "model_module_version": "1.1.0",
      "model_name": "LayoutModel",
      "state": {
       "width": "400px"
      }
     },
     "371aac57720f4990aafc904afc6f6b39": {
      "model_module": "@jupyter-widgets/controls",
      "model_module_version": "1.4.0",
      "model_name": "TabModel",
      "state": {
       "_titles": {
        "0": "Pistas de Vento",
        "1": "Variáveis de Ventos",
        "2": "Alturas de Ondas",
        "3": "Períodos de Ondas",
        "4": "Energias de Ondas"
       },
       "children": [
        "IPY_MODEL_f072dae4292a48fbad935b9e0901ffdf",
        "IPY_MODEL_038bfd8e688542b284408f512a9585d0",
        "IPY_MODEL_1909a7b37b824760872c438d04bef891",
        "IPY_MODEL_0c0459b4012241a881c3f30ac3a513d5",
        "IPY_MODEL_521a4648550e4e72ad6b38ee5b340a03"
       ],
       "layout": "IPY_MODEL_83a9c4daae1542038ed42825106f5ff9",
       "selected_index": 4
      }
     },
     "377345d721744183b1d6b0b2d43a26d3": {
      "model_module": "@jupyter-widgets/controls",
      "model_module_version": "1.4.0",
      "model_name": "ButtonStyleModel",
      "state": {}
     },
     "377d58b9a4084a16ad7aeb3300baa4ce": {
      "model_module": "@jupyter-widgets/controls",
      "model_module_version": "1.4.0",
      "model_name": "AccordionModel",
      "state": {
       "_titles": {
        "0": "Método de cálculo para os períodos de ondas",
        "1": "Esquema de cores"
       },
       "children": [
        "IPY_MODEL_d83e37a1669244f6bc061590db4f10ee",
        "IPY_MODEL_837bd75ebc8d4683a14117f84597be17"
       ],
       "layout": "IPY_MODEL_62bc9939f99d49b69b01a42df2399fa0"
      }
     },
     "378ed80c79ef41c6ac762b46753d9d38": {
      "model_module": "@jupyter-widgets/controls",
      "model_module_version": "1.4.0",
      "model_name": "ButtonModel",
      "state": {
       "description": "Importar projeto",
       "layout": "IPY_MODEL_77d586584aae45298d4ab974b7c52cd2",
       "style": "IPY_MODEL_2d86e4cbac3e4d6b896109427c32fa47",
       "tooltip": "Importa o .csv de um projeto criado"
      }
     },
     "37a7e75ba5b94701b692c6fb2bc7b183": {
      "model_module": "@jupyter-widgets/base",
      "model_module_version": "1.1.0",
      "model_name": "LayoutModel",
      "state": {
       "width": "500px"
      }
     },
     "383c7b7473d34658b574a8f208fed3cd": {
      "model_module": "@jupyter-widgets/base",
      "model_module_version": "1.1.0",
      "model_name": "LayoutModel",
      "state": {}
     },
     "386abd78a1ea4c5fa2537b6459eaa219": {
      "model_module": "@jupyter-widgets/controls",
      "model_module_version": "1.4.0",
      "model_name": "DescriptionStyleModel",
      "state": {
       "description_width": ""
      }
     },
     "38de7c4133eb4f9ea836d0104e2c554d": {
      "model_module": "@jupyter-widgets/controls",
      "model_module_version": "1.4.0",
      "model_name": "DescriptionStyleModel",
      "state": {
       "description_width": ""
      }
     },
     "3a281c9b386d459b9253235b96296c93": {
      "model_module": "@jupyter-widgets/controls",
      "model_module_version": "1.4.0",
      "model_name": "ButtonStyleModel",
      "state": {}
     },
     "3a6269df5a2344bb92c173f806ecb6fc": {
      "model_module": "@jupyter-widgets/controls",
      "model_module_version": "1.4.0",
      "model_name": "DescriptionStyleModel",
      "state": {
       "description_width": "initial"
      }
     },
     "3ab52d1156cd4f6ea5931cbcdb099e85": {
      "model_module": "@jupyter-widgets/base",
      "model_module_version": "1.1.0",
      "model_name": "LayoutModel",
      "state": {}
     },
     "3b0d29aba6644cf189c9a4f42a6aec94": {
      "model_module": "@jupyter-widgets/base",
      "model_module_version": "1.1.0",
      "model_name": "LayoutModel",
      "state": {}
     },
     "3bae728eac0646da88d1cf2f93a0949f": {
      "model_module": "@jupyter-widgets/controls",
      "model_module_version": "1.4.0",
      "model_name": "DropdownModel",
      "state": {
       "_options_labels": [
        "SMB"
       ],
       "description": "Método:",
       "index": 0,
       "layout": "IPY_MODEL_af1376de61514bd6aec1da4e8291f577",
       "style": "IPY_MODEL_c6317b6cf6f54d2abeb05c3861b7e874"
      }
     },
     "3bd94cb364364e2f9d0ffd8765025def": {
      "model_module": "@jupyter-widgets/base",
      "model_module_version": "1.1.0",
      "model_name": "LayoutModel",
      "state": {
       "width": "400px"
      }
     },
     "3be17d4126984899a882a4fba9bc0814": {
      "model_module": "@jupyter-widgets/base",
      "model_module_version": "1.1.0",
      "model_name": "LayoutModel",
      "state": {}
     },
     "3c2c27943cd3451aaa83a440a200aee4": {
      "model_module": "@jupyter-widgets/controls",
      "model_module_version": "1.4.0",
      "model_name": "DropdownModel",
      "state": {
       "_options_labels": [
        "SMB"
       ],
       "description": "Método:",
       "index": 0,
       "layout": "IPY_MODEL_35ec1247d5604b9d87795eaffde26ec3",
       "style": "IPY_MODEL_5c4d3af94cbf45af801e66a6a89f9113"
      }
     },
     "3c4eed3daf9440b6a6b858a261833464": {
      "model_module": "@jupyter-widgets/controls",
      "model_module_version": "1.4.0",
      "model_name": "DescriptionStyleModel",
      "state": {
       "description_width": "initial"
      }
     },
     "3c658d7d1c974c19b0022174af9382e2": {
      "model_module": "@jupyter-widgets/controls",
      "model_module_version": "1.4.0",
      "model_name": "DropdownModel",
      "state": {
       "_options_labels": [
        "Accent",
        "afmhot",
        "autumn",
        "binary",
        "Blues",
        "bone",
        "BrBG",
        "brg",
        "BuGn",
        "BuPu",
        "bwr",
        "CMRmap",
        "cool",
        "coolwarm",
        "copper",
        "cubehelix",
        "Dark2",
        "flag",
        "gist_earth",
        "gist_gray",
        "gist_heat",
        "gist_ncar",
        "gist_rainbow",
        "gist_stern",
        "gist_yarg",
        "GnBu",
        "gnuplot",
        "gnuplot2",
        "gray",
        "Greens",
        "Greys",
        "hot",
        "hsv",
        "inferno",
        "jet",
        "magma",
        "nipy_spectral",
        "ocean",
        "Oranges",
        "OrRd",
        "Paired",
        "Pastel1",
        "Pastel2",
        "pink",
        "PiYG",
        "plasma",
        "PRGn",
        "prism",
        "PuBu",
        "PuBuGn",
        "PuOr",
        "PuRd",
        "Purples",
        "rainbow",
        "RdBu",
        "RdGy",
        "RdPu",
        "RdYlBu",
        "RdYlGn",
        "Reds",
        "seismic",
        "Set1",
        "Set2",
        "Set3",
        "Spectral",
        "spring",
        "summer",
        "tab10",
        "tab20",
        "tab20b",
        "tab20c",
        "terrain",
        "viridis",
        "winter",
        "Wistia",
        "YlGn",
        "YlGnBu",
        "YlOrBr",
        "YlOrRd"
       ],
       "description": "Selecione o esquema de cores desejado para a imagem:",
       "index": 32,
       "layout": "IPY_MODEL_cff345c2a76f4f0b80979ce1ed0d8136",
       "style": "IPY_MODEL_025d98f5153f471d958e33286c9ed9bb"
      }
     },
     "3e8369dad51444d2aaa85afe6aa6081f": {
      "model_module": "@jupyter-widgets/controls",
      "model_module_version": "1.4.0",
      "model_name": "FloatTextModel",
      "state": {
       "description": "Velocidade:",
       "layout": "IPY_MODEL_85f58c7e851d4f68bbd9734e85ac6a1b",
       "step": null,
       "style": "IPY_MODEL_5fcf3fdf9d604213b897e6c61c823837",
       "value": 15
      }
     },
     "3f7d417cfb484b11bf11539db93a58b5": {
      "model_module": "@jupyter-widgets/controls",
      "model_module_version": "1.4.0",
      "model_name": "TabModel",
      "state": {
       "_titles": {
        "0": "Projetos",
        "1": "Shapefiles"
       },
       "children": [
        "IPY_MODEL_dd6016bdb6ad45e09e793de6af51a398",
        "IPY_MODEL_491ff65a68bc4150b822f1f847002d3b"
       ],
       "layout": "IPY_MODEL_5727e993531e443194ae37a8f5125394",
       "selected_index": 1
      }
     },
     "3fa4c6b9c70b489ea718d851b3c824ba": {
      "model_module": "@jupyter-widgets/controls",
      "model_module_version": "1.4.0",
      "model_name": "ButtonStyleModel",
      "state": {}
     },
     "3faf5716f9444f898897900c84c19948": {
      "model_module": "@jupyter-widgets/base",
      "model_module_version": "1.1.0",
      "model_name": "LayoutModel",
      "state": {}
     },
     "41b01415506348c79bcdb7d6e8b2f890": {
      "model_module": "@jupyter-widgets/base",
      "model_module_version": "1.1.0",
      "model_name": "LayoutModel",
      "state": {}
     },
     "41ea78185b0f42ed98393d9fc78ed06a": {
      "model_module": "@jupyter-widgets/controls",
      "model_module_version": "1.4.0",
      "model_name": "DescriptionStyleModel",
      "state": {
       "description_width": "initial"
      }
     },
     "422c83eed7d9436892229f059563c984": {
      "model_module": "@jupyter-widgets/controls",
      "model_module_version": "1.4.0",
      "model_name": "ButtonStyleModel",
      "state": {}
     },
     "42382f5c2a12411c859a37aad73c7cc7": {
      "model_module": "@jupyter-widgets/controls",
      "model_module_version": "1.4.0",
      "model_name": "DescriptionStyleModel",
      "state": {
       "description_width": "initial"
      }
     },
     "427330f3c6014cd480ad4e373d2c1030": {
      "model_module": "@jupyter-widgets/controls",
      "model_module_version": "1.4.0",
      "model_name": "DescriptionStyleModel",
      "state": {
       "description_width": ""
      }
     },
     "42b978761f73490f9d49b4f92b85a0e2": {
      "model_module": "@jupyter-widgets/controls",
      "model_module_version": "1.4.0",
      "model_name": "FloatTextModel",
      "state": {
       "description": "Velocidade:",
       "layout": "IPY_MODEL_4c389b26ce93445aa600bbcd06222fd0",
       "step": null,
       "style": "IPY_MODEL_db5445ae93ea4ac093a85149e16c9c9a",
       "value": 15
      }
     },
     "42bc4c21446d45bea910c7da09d86437": {
      "model_module": "@jupyter-widgets/base",
      "model_module_version": "1.1.0",
      "model_name": "LayoutModel",
      "state": {}
     },
     "42defb3e7cfa4757ac07b819c7ad0325": {
      "model_module": "@jupyter-widgets/base",
      "model_module_version": "1.1.0",
      "model_name": "LayoutModel",
      "state": {
       "width": "30%"
      }
     },
     "42fa6a61b2eb4512be65fed5ed007298": {
      "model_module": "@jupyter-widgets/base",
      "model_module_version": "1.1.0",
      "model_name": "LayoutModel",
      "state": {
       "width": "400px"
      }
     },
     "4330baefcbf74d178d9dfb3b98820a14": {
      "model_module": "@jupyter-widgets/controls",
      "model_module_version": "1.4.0",
      "model_name": "TabModel",
      "state": {
       "_titles": {
        "0": "Pistas de Vento",
        "1": "Variáveis de Ventos",
        "2": "Alturas de Ondas",
        "3": "Períodos de Ondas",
        "4": "Energias de Ondas"
       },
       "children": [
        "IPY_MODEL_7d1895b74eef4fdfb6ad0f5fc4b15b80",
        "IPY_MODEL_07ce7ba41f37418ab68cdcde0f8b4774",
        "IPY_MODEL_cd7afd0fef83443f81c552f65267950e",
        "IPY_MODEL_43330193e5074d1bacc349b417861ee9",
        "IPY_MODEL_195dd65a1a55405e848639b98e614c4b"
       ],
       "layout": "IPY_MODEL_874fa85ec16e4d7e8ce9af2cf6f6dcad",
       "selected_index": 4
      }
     },
     "43330193e5074d1bacc349b417861ee9": {
      "model_module": "@jupyter-widgets/controls",
      "model_module_version": "1.4.0",
      "model_name": "AccordionModel",
      "state": {
       "_titles": {
        "0": "Método de cálculo para os períodos de ondas",
        "1": "Esquema de cores"
       },
       "children": [
        "IPY_MODEL_6d797d37f914447fa963a91fc103e3c3",
        "IPY_MODEL_0a8461dc71784b66a5083ff63b9d4192"
       ],
       "layout": "IPY_MODEL_12c75154421e45d6b400dd264fbed6e0"
      }
     },
     "434d8029f6a349529bf8553dc7213dd0": {
      "model_module": "@jupyter-widgets/base",
      "model_module_version": "1.1.0",
      "model_name": "LayoutModel",
      "state": {}
     },
     "43780f6c669a490fa65c89205fbde42b": {
      "model_module": "@jupyter-widgets/controls",
      "model_module_version": "1.4.0",
      "model_name": "DropdownModel",
      "state": {
       "_options_labels": [
        "Accent",
        "afmhot",
        "autumn",
        "binary",
        "Blues",
        "bone",
        "BrBG",
        "brg",
        "BuGn",
        "BuPu",
        "bwr",
        "CMRmap",
        "cool",
        "coolwarm",
        "copper",
        "cubehelix",
        "Dark2",
        "flag",
        "gist_earth",
        "gist_gray",
        "gist_heat",
        "gist_ncar",
        "gist_rainbow",
        "gist_stern",
        "gist_yarg",
        "GnBu",
        "gnuplot",
        "gnuplot2",
        "gray",
        "Greens",
        "Greys",
        "hot",
        "hsv",
        "inferno",
        "jet",
        "magma",
        "nipy_spectral",
        "ocean",
        "Oranges",
        "OrRd",
        "Paired",
        "Pastel1",
        "Pastel2",
        "pink",
        "PiYG",
        "plasma",
        "PRGn",
        "prism",
        "PuBu",
        "PuBuGn",
        "PuOr",
        "PuRd",
        "Purples",
        "rainbow",
        "RdBu",
        "RdGy",
        "RdPu",
        "RdYlBu",
        "RdYlGn",
        "Reds",
        "seismic",
        "Set1",
        "Set2",
        "Set3",
        "Spectral",
        "spring",
        "summer",
        "tab10",
        "tab20",
        "tab20b",
        "tab20c",
        "terrain",
        "viridis",
        "winter",
        "Wistia",
        "YlGn",
        "YlGnBu",
        "YlOrBr",
        "YlOrRd"
       ],
       "description": "Selecione o esquema de cores desejado para a imagem:",
       "index": 32,
       "layout": "IPY_MODEL_dc26a2ea562f45d9bc227b4a44ab5d34",
       "style": "IPY_MODEL_13dc584201044965a8eb34d5e5ee6057"
      }
     },
     "43d572482920449684e7e0d7961cfd92": {
      "model_module": "@jupyter-widgets/base",
      "model_module_version": "1.1.0",
      "model_name": "LayoutModel",
      "state": {}
     },
     "44ebca724e864d98b82c6412e2cd1dca": {
      "model_module": "@jupyter-widgets/controls",
      "model_module_version": "1.4.0",
      "model_name": "ButtonModel",
      "state": {
       "description": "Importar .shp de malha processada",
       "layout": "IPY_MODEL_892454ef654e40fbad2148baa5cafde0",
       "style": "IPY_MODEL_ce353c9b535d467d8dbf82650a2a2517",
       "tooltip": "Importa um .shp que já teve sua malha processada"
      }
     },
     "44f6fcf347d14f10bd12e86b5dd36080": {
      "model_module": "@jupyter-widgets/base",
      "model_module_version": "1.1.0",
      "model_name": "LayoutModel",
      "state": {
       "width": "400px"
      }
     },
     "4501d99dae2a462fad5add76dbd61fc6": {
      "model_module": "@jupyter-widgets/controls",
      "model_module_version": "1.4.0",
      "model_name": "DescriptionStyleModel",
      "state": {
       "description_width": "initial"
      }
     },
     "4517045cc4c040ca868e6fb5a489043b": {
      "model_module": "@jupyter-widgets/controls",
      "model_module_version": "1.4.0",
      "model_name": "AccordionModel",
      "state": {
       "_titles": {
        "0": "Duração (h)",
        "1": "Gravidade (m/s²)",
        "2": "Velocidade (m/s)"
       },
       "children": [
        "IPY_MODEL_815563437b714c0eb1b85364d84c80d7",
        "IPY_MODEL_6b9d138667c34996976b25bf760ed6f4",
        "IPY_MODEL_6549dbb53a1845c792b237e534a7b7d7"
       ],
       "layout": "IPY_MODEL_bdd1911dbe47483fb15eb8c76336a7ef",
       "selected_index": 2
      }
     },
     "4543af88617e497d839b072413c59942": {
      "model_module": "@jupyter-widgets/controls",
      "model_module_version": "1.4.0",
      "model_name": "ButtonStyleModel",
      "state": {}
     },
     "4551e45efb5c4c5b9720c92a4b207cd7": {
      "model_module": "@jupyter-widgets/controls",
      "model_module_version": "1.4.0",
      "model_name": "DropdownModel",
      "state": {
       "_options_labels": [
        "SMB"
       ],
       "description": "Método:",
       "index": 0,
       "layout": "IPY_MODEL_bd9098cc44f84279a5d13217db07c48c",
       "style": "IPY_MODEL_41ea78185b0f42ed98393d9fc78ed06a"
      }
     },
     "457edbb6e32a420daec0e76b9d81cf10": {
      "model_module": "@jupyter-widgets/controls",
      "model_module_version": "1.4.0",
      "model_name": "SelectModel",
      "state": {
       "_options_labels": [
        "0.0°"
       ],
       "description": "Direção (°):",
       "index": 0,
       "layout": "IPY_MODEL_e3204d89a5ed445da48c1d246bc9c036",
       "style": "IPY_MODEL_9bca91cf56bc47e18b47d2b54d453c2b"
      }
     },
     "47197d96bc9a4a7397971d4a5dfd9de8": {
      "model_module": "@jupyter-widgets/controls",
      "model_module_version": "1.4.0",
      "model_name": "TabModel",
      "state": {
       "_titles": {
        "0": "Projetos",
        "1": "Shapefiles"
       },
       "children": [
        "IPY_MODEL_b6ddaee7058b458cb411aa2b364d4f6b",
        "IPY_MODEL_fb068e1be4ec4e7a8d3a82f7ef4a9698"
       ],
       "layout": "IPY_MODEL_2f433d10265f4c2c9cc99b87816a5257",
       "selected_index": 1
      }
     },
     "47826df531ef4a329c75817e74447a78": {
      "model_module": "@jupyter-widgets/controls",
      "model_module_version": "1.4.0",
      "model_name": "ButtonStyleModel",
      "state": {}
     },
     "47dedde6780f42b89f72e48883c88b1f": {
      "model_module": "@jupyter-widgets/base",
      "model_module_version": "1.1.0",
      "model_name": "LayoutModel",
      "state": {
       "width": "500px"
      }
     },
     "4804417fc8d749eea47d93b27b5bcbed": {
      "model_module": "@jupyter-widgets/controls",
      "model_module_version": "1.4.0",
      "model_name": "AccordionModel",
      "state": {
       "_titles": {
        "0": "Método de cálculo para as energias de ondas",
        "1": "Esquema de cores"
       },
       "children": [
        "IPY_MODEL_61a1cdacb338406bb385a8d4b74ea9af",
        "IPY_MODEL_07610c4016e1484699857fec5ec5c74e"
       ],
       "layout": "IPY_MODEL_a5b1186b5dc74890acfa64ac53c20982",
       "selected_index": 1
      }
     },
     "4820bb0559174ee98b45cd029f85477d": {
      "model_module": "@jupyter-widgets/base",
      "model_module_version": "1.1.0",
      "model_name": "LayoutModel",
      "state": {}
     },
     "48393c3638df4562b5337ffe022f8ec0": {
      "model_module": "@jupyter-widgets/base",
      "model_module_version": "1.1.0",
      "model_name": "LayoutModel",
      "state": {}
     },
     "487fe3de3e4e4cbfb59629ff4baf58f1": {
      "model_module": "@jupyter-widgets/controls",
      "model_module_version": "1.4.0",
      "model_name": "DescriptionStyleModel",
      "state": {
       "description_width": ""
      }
     },
     "48b9dd5d742641959f796f0d25a9e87f": {
      "model_module": "@jupyter-widgets/controls",
      "model_module_version": "1.4.0",
      "model_name": "DescriptionStyleModel",
      "state": {
       "description_width": "initial"
      }
     },
     "491ff65a68bc4150b822f1f847002d3b": {
      "model_module": "@jupyter-widgets/controls",
      "model_module_version": "1.4.0",
      "model_name": "AccordionModel",
      "state": {
       "_titles": {
        "0": "Importar .shp de malha processada"
       },
       "children": [
        "IPY_MODEL_ee30cba805e547568352b1a0a58c0daa"
       ],
       "layout": "IPY_MODEL_fa4a431da17247b9aa16ad6b9357745d"
      }
     },
     "49888a7841df499780953c53d6668031": {
      "model_module": "@jupyter-widgets/base",
      "model_module_version": "1.1.0",
      "model_name": "LayoutModel",
      "state": {}
     },
     "4a2ed7612e4541f48bb3c6ba94b386d3": {
      "model_module": "@jupyter-widgets/base",
      "model_module_version": "1.1.0",
      "model_name": "LayoutModel",
      "state": {}
     },
     "4a4aef76080346b2a02b7801a0ca63ad": {
      "model_module": "@jupyter-widgets/base",
      "model_module_version": "1.1.0",
      "model_name": "LayoutModel",
      "state": {}
     },
     "4b139ce1f59a410b916730c5205fa88c": {
      "model_module": "@jupyter-widgets/controls",
      "model_module_version": "1.4.0",
      "model_name": "DropdownModel",
      "state": {
       "_options_labels": [
        "JONSWAP"
       ],
       "description": "Método:",
       "index": 0,
       "layout": "IPY_MODEL_a1d80f0da4064d898fc94b63622a779d",
       "style": "IPY_MODEL_863c146c24d443debca6662d2ad4e223"
      }
     },
     "4b20018b15104a8c96750366a0a203bf": {
      "model_module": "@jupyter-widgets/base",
      "model_module_version": "1.1.0",
      "model_name": "LayoutModel",
      "state": {}
     },
     "4b44465034ba4298b40c89d9b817423d": {
      "model_module": "@jupyter-widgets/base",
      "model_module_version": "1.1.0",
      "model_name": "LayoutModel",
      "state": {}
     },
     "4c389b26ce93445aa600bbcd06222fd0": {
      "model_module": "@jupyter-widgets/base",
      "model_module_version": "1.1.0",
      "model_name": "LayoutModel",
      "state": {}
     },
     "4c4888dbec4647cf87d69d5ca333fae3": {
      "model_module": "@jupyter-widgets/controls",
      "model_module_version": "1.4.0",
      "model_name": "AccordionModel",
      "state": {
       "_titles": {
        "0": "Criar projeto",
        "1": "Importar projeto"
       },
       "children": [
        "IPY_MODEL_5bfe47366fa744a8b0f64756f8e6214a",
        "IPY_MODEL_a06f137f410e4d83add42b605f7e2657"
       ],
       "layout": "IPY_MODEL_71b8c2e21a824edfadf354fabc501c41",
       "selected_index": 1
      }
     },
     "4d473e83b13347a2ada413c116bd89e6": {
      "model_module": "@jupyter-widgets/base",
      "model_module_version": "1.1.0",
      "model_name": "LayoutModel",
      "state": {}
     },
     "4dad64163bb54b5ca5a81f37b3681476": {
      "model_module": "@jupyter-widgets/base",
      "model_module_version": "1.1.0",
      "model_name": "LayoutModel",
      "state": {
       "width": "30%"
      }
     },
     "4e140dbc68e24bafafbbdcf6c63dd7ed": {
      "model_module": "@jupyter-widgets/base",
      "model_module_version": "1.1.0",
      "model_name": "LayoutModel",
      "state": {}
     },
     "4e211acc0a8f4c879691c6444d872beb": {
      "model_module": "@jupyter-widgets/controls",
      "model_module_version": "1.4.0",
      "model_name": "DescriptionStyleModel",
      "state": {
       "description_width": ""
      }
     },
     "4f26825285f442339734cb20c6ad43fd": {
      "model_module": "@jupyter-widgets/controls",
      "model_module_version": "1.4.0",
      "model_name": "FloatTextModel",
      "state": {
       "description": "Gravidade:",
       "layout": "IPY_MODEL_71ea92bfed2b4d5f877c98901a871d47",
       "step": null,
       "style": "IPY_MODEL_8bfb1d4162ef4d79b950a2a6a699eabe",
       "value": 9.81
      }
     },
     "518fb2c5a794412eba575e4f5b6a4c98": {
      "model_module": "@jupyter-widgets/controls",
      "model_module_version": "1.4.0",
      "model_name": "SelectMultipleModel",
      "state": {
       "_options_labels": [
        "0.0°"
       ],
       "index": [
        0
       ],
       "layout": "IPY_MODEL_cd49211a254540d9887248cdc3d8471c",
       "rows": 5,
       "style": "IPY_MODEL_a0543bea6c51442185677d47dd6b8e85"
      }
     },
     "521a4648550e4e72ad6b38ee5b340a03": {
      "model_module": "@jupyter-widgets/controls",
      "model_module_version": "1.4.0",
      "model_name": "AccordionModel",
      "state": {
       "_titles": {
        "0": "Método de cálculo para as energias de ondas",
        "1": "Esquema de cores"
       },
       "children": [
        "IPY_MODEL_20c8f811e55d42c987d47401e7914eb9",
        "IPY_MODEL_8acdc75afe8b455ca0f0e9bf0d12a694"
       ],
       "layout": "IPY_MODEL_3b0d29aba6644cf189c9a4f42a6aec94"
      }
     },
     "52efc58977b94e9190f2643535c11df5": {
      "model_module": "@jupyter-widgets/controls",
      "model_module_version": "1.4.0",
      "model_name": "FloatTextModel",
      "state": {
       "description": "Velocidade:",
       "layout": "IPY_MODEL_383c7b7473d34658b574a8f208fed3cd",
       "step": null,
       "style": "IPY_MODEL_d675a6ce7d4e4f04812ac8c650e4c5d4",
       "value": 15
      }
     },
     "5327c5c61c134f268c584085a2a7720c": {
      "model_module": "@jupyter-widgets/base",
      "model_module_version": "1.1.0",
      "model_name": "LayoutModel",
      "state": {
       "width": "30%"
      }
     },
     "548154f604b54448830c60e7e8c7e310": {
      "model_module": "@jupyter-widgets/controls",
      "model_module_version": "1.4.0",
      "model_name": "ButtonModel",
      "state": {
       "description": "Importar projeto",
       "layout": "IPY_MODEL_4820bb0559174ee98b45cd029f85477d",
       "style": "IPY_MODEL_8686da43d3ec41478fd1cb42dadb3031",
       "tooltip": "Importa o .csv de um projeto já criado"
      }
     },
     "5527d71f24bb43fb9700ee295f9b5dad": {
      "model_module": "@jupyter-widgets/controls",
      "model_module_version": "1.4.0",
      "model_name": "ButtonModel",
      "state": {
       "description": "Importar pista(s) de vento processada(s)",
       "layout": "IPY_MODEL_2dc3c33179d14d78ba0f2b53c4da97e7",
       "style": "IPY_MODEL_47826df531ef4a329c75817e74447a78",
       "tooltip": "Importa pista(s) de vento processada(s)"
      }
     },
     "55609c68cdc64ddb89b739d31c2490fc": {
      "model_module": "@jupyter-widgets/controls",
      "model_module_version": "1.4.0",
      "model_name": "DropdownModel",
      "state": {
       "_options_labels": [
        "Creager",
        "JONSWAP",
        "SGM",
        "SMB",
        "Wolf"
       ],
       "description": "Método:",
       "index": 1,
       "layout": "IPY_MODEL_9ee18dc896f44327ba05b2ceac9c7617",
       "style": "IPY_MODEL_c23ee5feeb854af1a8c7ee3f52604d97"
      }
     },
     "5727e993531e443194ae37a8f5125394": {
      "model_module": "@jupyter-widgets/base",
      "model_module_version": "1.1.0",
      "model_name": "LayoutModel",
      "state": {}
     },
     "575617fe05f545249a837d527b64c6d0": {
      "model_module": "@jupyter-widgets/controls",
      "model_module_version": "1.4.0",
      "model_name": "AccordionModel",
      "state": {
       "_titles": {
        "0": "Método de cálculo para as alturas de ondas",
        "1": "Esquema de cores"
       },
       "children": [
        "IPY_MODEL_cec84262325d46b193f9c1afc58077f3",
        "IPY_MODEL_92f8e2250a134cb3970c900b349b2aad"
       ],
       "layout": "IPY_MODEL_8b429c830bde46948d0d054f026f722b"
      }
     },
     "57a74bd397ed4688819ef73db0e1f466": {
      "model_module": "@jupyter-widgets/controls",
      "model_module_version": "1.4.0",
      "model_name": "AccordionModel",
      "state": {
       "_titles": {
        "0": "Escolha da(s) pista(s) de vento"
       },
       "children": [
        "IPY_MODEL_2ab830ecfc3e4c8e8098aa3655fb576d"
       ],
       "layout": "IPY_MODEL_4b44465034ba4298b40c89d9b817423d"
      }
     },
     "59eccd16ecdf47e3b6c6863c0d01fb0d": {
      "model_module": "@jupyter-widgets/base",
      "model_module_version": "1.1.0",
      "model_name": "LayoutModel",
      "state": {
       "width": "500px"
      }
     },
     "5a441b2728e64ddeb936d23ffdb921bd": {
      "model_module": "@jupyter-widgets/controls",
      "model_module_version": "1.4.0",
      "model_name": "ButtonStyleModel",
      "state": {}
     },
     "5ad6d726ed6f4dfbbc3655b6f8dd7adb": {
      "model_module": "@jupyter-widgets/base",
      "model_module_version": "1.1.0",
      "model_name": "LayoutModel",
      "state": {}
     },
     "5b6109174fac49bdb051dd5d8d927040": {
      "model_module": "@jupyter-widgets/base",
      "model_module_version": "1.1.0",
      "model_name": "LayoutModel",
      "state": {}
     },
     "5bf941feee6144a2aaa763846d73693e": {
      "model_module": "@jupyter-widgets/base",
      "model_module_version": "1.1.0",
      "model_name": "LayoutModel",
      "state": {
       "width": "500px"
      }
     },
     "5bfe47366fa744a8b0f64756f8e6214a": {
      "model_module": "@jupyter-widgets/controls",
      "model_module_version": "1.4.0",
      "model_name": "ButtonModel",
      "state": {
       "description": "Criar projeto",
       "layout": "IPY_MODEL_e637d758d94e444e98f5064c3baf44d2",
       "style": "IPY_MODEL_5d427b61cda24cc1b8c3ccbd0d24417d",
       "tooltip": "Cria um novo projeto"
      }
     },
     "5bffa50f7bff40fbb4a7165c5811e341": {
      "model_module": "@jupyter-widgets/controls",
      "model_module_version": "1.4.0",
      "model_name": "TabModel",
      "state": {
       "_titles": {
        "0": "Pistas de Vento",
        "1": "Variáveis de Ventos",
        "2": "Alturas de Ondas",
        "3": "Períodos de Ondas",
        "4": "Energias de Ondas"
       },
       "children": [
        "IPY_MODEL_6e60e2e8635a4c298be78f0ceb21ae21",
        "IPY_MODEL_697114c96fa44dca9b8155d1a61f4309",
        "IPY_MODEL_6a74a7e47bd642f196c02280e9fb3460",
        "IPY_MODEL_93501c9e9a4f4239b76c0fdfbb135f63",
        "IPY_MODEL_f45e6bcd4aff4d4abfe56d8dc1e0f75f"
       ],
       "layout": "IPY_MODEL_f6cfa4b60fd0404b89aa0325f028c4ba",
       "selected_index": 2
      }
     },
     "5c4d3af94cbf45af801e66a6a89f9113": {
      "model_module": "@jupyter-widgets/controls",
      "model_module_version": "1.4.0",
      "model_name": "DescriptionStyleModel",
      "state": {
       "description_width": "initial"
      }
     },
     "5ca311fb48b448ba933c4b3f7410eda8": {
      "model_module": "@jupyter-widgets/controls",
      "model_module_version": "1.4.0",
      "model_name": "ButtonStyleModel",
      "state": {}
     },
     "5d427b61cda24cc1b8c3ccbd0d24417d": {
      "model_module": "@jupyter-widgets/controls",
      "model_module_version": "1.4.0",
      "model_name": "ButtonStyleModel",
      "state": {}
     },
     "5da663ec7b5c46bda829a35d24f9f49a": {
      "model_module": "@jupyter-widgets/controls",
      "model_module_version": "1.4.0",
      "model_name": "DescriptionStyleModel",
      "state": {
       "description_width": "initial"
      }
     },
     "5df89ac371b744c09772636ea104d86b": {
      "model_module": "@jupyter-widgets/base",
      "model_module_version": "1.1.0",
      "model_name": "LayoutModel",
      "state": {}
     },
     "5e58f115119a49a7a3786aed607d318b": {
      "model_module": "@jupyter-widgets/controls",
      "model_module_version": "1.4.0",
      "model_name": "ButtonStyleModel",
      "state": {}
     },
     "5eb85b6338eb47d0b0959306c081870c": {
      "model_module": "@jupyter-widgets/controls",
      "model_module_version": "1.4.0",
      "model_name": "DescriptionStyleModel",
      "state": {
       "description_width": "initial"
      }
     },
     "5ec4174f7e364085afd3e61a3a0728f1": {
      "model_module": "@jupyter-widgets/base",
      "model_module_version": "1.1.0",
      "model_name": "LayoutModel",
      "state": {
       "width": "400px"
      }
     },
     "5f71839defa0412eaeea119b60a0632f": {
      "model_module": "@jupyter-widgets/controls",
      "model_module_version": "1.4.0",
      "model_name": "DescriptionStyleModel",
      "state": {
       "description_width": "initial"
      }
     },
     "5fcf3fdf9d604213b897e6c61c823837": {
      "model_module": "@jupyter-widgets/controls",
      "model_module_version": "1.4.0",
      "model_name": "DescriptionStyleModel",
      "state": {
       "description_width": ""
      }
     },
     "5ff059781e6741b19b3715f56705a16c": {
      "model_module": "@jupyter-widgets/controls",
      "model_module_version": "1.4.0",
      "model_name": "ButtonStyleModel",
      "state": {}
     },
     "5ff25a0b204a4496a74b9cc2eeafa212": {
      "model_module": "@jupyter-widgets/controls",
      "model_module_version": "1.4.0",
      "model_name": "DropdownModel",
      "state": {
       "_options_labels": [
        "Accent",
        "afmhot",
        "autumn",
        "binary",
        "Blues",
        "bone",
        "BrBG",
        "brg",
        "BuGn",
        "BuPu",
        "bwr",
        "CMRmap",
        "cool",
        "coolwarm",
        "copper",
        "cubehelix",
        "Dark2",
        "flag",
        "gist_earth",
        "gist_gray",
        "gist_heat",
        "gist_ncar",
        "gist_rainbow",
        "gist_stern",
        "gist_yarg",
        "GnBu",
        "gnuplot",
        "gnuplot2",
        "gray",
        "Greens",
        "Greys",
        "hot",
        "hsv",
        "inferno",
        "jet",
        "magma",
        "nipy_spectral",
        "ocean",
        "Oranges",
        "OrRd",
        "Paired",
        "Pastel1",
        "Pastel2",
        "pink",
        "PiYG",
        "plasma",
        "PRGn",
        "prism",
        "PuBu",
        "PuBuGn",
        "PuOr",
        "PuRd",
        "Purples",
        "rainbow",
        "RdBu",
        "RdGy",
        "RdPu",
        "RdYlBu",
        "RdYlGn",
        "Reds",
        "seismic",
        "Set1",
        "Set2",
        "Set3",
        "Spectral",
        "spring",
        "summer",
        "tab10",
        "tab20",
        "tab20b",
        "tab20c",
        "terrain",
        "viridis",
        "winter",
        "Wistia",
        "YlGn",
        "YlGnBu",
        "YlOrBr",
        "YlOrRd"
       ],
       "description": "Selecione o esquema de cores desejado para a imagem:",
       "index": 32,
       "layout": "IPY_MODEL_0797886a99cf417aa7178f32bc37e832",
       "style": "IPY_MODEL_aee3a2a19a414dff973e07a37a367a85"
      }
     },
     "5ffb1d09f1ed44ebafef9d2e277c9939": {
      "model_module": "@jupyter-widgets/controls",
      "model_module_version": "1.4.0",
      "model_name": "DescriptionStyleModel",
      "state": {
       "description_width": ""
      }
     },
     "60e5c409b49c48d984404ce9cbb7a9c2": {
      "model_module": "@jupyter-widgets/controls",
      "model_module_version": "1.4.0",
      "model_name": "ButtonModel",
      "state": {
       "description": "Importar .shp de malha processada",
       "layout": "IPY_MODEL_2ed5f8cebdb1487f82a7b80bad8c60cd",
       "style": "IPY_MODEL_bd0eb2b4515849e08b3e9d467bedd483",
       "tooltip": "Importa um .shp que teve sua malha processada"
      }
     },
     "61a1cdacb338406bb385a8d4b74ea9af": {
      "model_module": "@jupyter-widgets/controls",
      "model_module_version": "1.4.0",
      "model_name": "DropdownModel",
      "state": {
       "_options_labels": [
        "JONSWAP"
       ],
       "description": "Método:",
       "index": 0,
       "layout": "IPY_MODEL_791fefc0e94948e9ad01947a9497de82",
       "style": "IPY_MODEL_61bfce4106a448e3837311bb8153cd5e"
      }
     },
     "61bfce4106a448e3837311bb8153cd5e": {
      "model_module": "@jupyter-widgets/controls",
      "model_module_version": "1.4.0",
      "model_name": "DescriptionStyleModel",
      "state": {
       "description_width": "initial"
      }
     },
     "62bc9939f99d49b69b01a42df2399fa0": {
      "model_module": "@jupyter-widgets/base",
      "model_module_version": "1.1.0",
      "model_name": "LayoutModel",
      "state": {}
     },
     "6348f15579394d9ea5639710f7bd7869": {
      "model_module": "@jupyter-widgets/controls",
      "model_module_version": "1.4.0",
      "model_name": "DropdownModel",
      "state": {
       "_options_labels": [
        "JONSWAP",
        "SMB"
       ],
       "description": "Método:",
       "index": 0,
       "layout": "IPY_MODEL_970e5c05b86044b585f6127489351543",
       "style": "IPY_MODEL_7af0c89fc0dc4cc68b161ac02b1d47ce"
      }
     },
     "63b3121a429343fabdb74f9a1ac5d21d": {
      "model_module": "@jupyter-widgets/base",
      "model_module_version": "1.1.0",
      "model_name": "LayoutModel",
      "state": {
       "width": "500px"
      }
     },
     "63c19e7dcc294d77ae354384a2b2ebef": {
      "model_module": "@jupyter-widgets/controls",
      "model_module_version": "1.4.0",
      "model_name": "DescriptionStyleModel",
      "state": {
       "description_width": "initial"
      }
     },
     "643737549e374b489fc272441e9f7d98": {
      "model_module": "@jupyter-widgets/base",
      "model_module_version": "1.1.0",
      "model_name": "LayoutModel",
      "state": {}
     },
     "6549dbb53a1845c792b237e534a7b7d7": {
      "model_module": "@jupyter-widgets/controls",
      "model_module_version": "1.4.0",
      "model_name": "FloatTextModel",
      "state": {
       "description": "Velocidade:",
       "layout": "IPY_MODEL_e4d597b1138546df9a05a6e235224ebe",
       "step": null,
       "style": "IPY_MODEL_c150bb111a2f47f696f1c07dd62396f3",
       "value": 8.2
      }
     },
     "6553049381704b7fb11627d72d8472f3": {
      "model_module": "@jupyter-widgets/controls",
      "model_module_version": "1.4.0",
      "model_name": "DescriptionStyleModel",
      "state": {
       "description_width": ""
      }
     },
     "65829d99332d4f6786603ce69b1f665a": {
      "model_module": "@jupyter-widgets/controls",
      "model_module_version": "1.4.0",
      "model_name": "ButtonStyleModel",
      "state": {}
     },
     "65977ac735c447b2861ffd73a2420a8b": {
      "model_module": "@jupyter-widgets/controls",
      "model_module_version": "1.4.0",
      "model_name": "DescriptionStyleModel",
      "state": {
       "description_width": "initial"
      }
     },
     "65b8cbbbf7bf4e5c98e53db918b37e10": {
      "model_module": "@jupyter-widgets/controls",
      "model_module_version": "1.4.0",
      "model_name": "ButtonModel",
      "state": {
       "description": "Criar projeto",
       "layout": "IPY_MODEL_25e428e0bd3a40f1902faaf67e54553b",
       "style": "IPY_MODEL_0b56dfacaf4840529ebef0f5b0c09b8b",
       "tooltip": "Cria um novo projeto"
      }
     },
     "6602a7df388e4a869377f09bff33e33d": {
      "model_module": "@jupyter-widgets/base",
      "model_module_version": "1.1.0",
      "model_name": "LayoutModel",
      "state": {}
     },
     "66342bedd6714d4a82aeb4c2bfe1b8f0": {
      "model_module": "@jupyter-widgets/base",
      "model_module_version": "1.1.0",
      "model_name": "LayoutModel",
      "state": {}
     },
     "669d8a591d9f4961ac53e7ee2a86688d": {
      "model_module": "@jupyter-widgets/base",
      "model_module_version": "1.1.0",
      "model_name": "LayoutModel",
      "state": {}
     },
     "66bb6fcd00ce463a828b0a2174b0f3a6": {
      "model_module": "@jupyter-widgets/controls",
      "model_module_version": "1.4.0",
      "model_name": "TabModel",
      "state": {
       "_titles": {
        "0": "Pistas de Vento",
        "1": "Variáveis de Ventos",
        "2": "Alturas de Ondas",
        "3": "Períodos de Ondas",
        "4": "Energias de Ondas"
       },
       "children": [
        "IPY_MODEL_b1fc46cb60e7461d952886ef4e4c68a9",
        "IPY_MODEL_9a0af09c85d243edae85382959f80955",
        "IPY_MODEL_d0f3efe592a442d5bf1a9f6e5efbd06a",
        "IPY_MODEL_377d58b9a4084a16ad7aeb3300baa4ce",
        "IPY_MODEL_b0fdd355df704da38ff9db0f977c763f"
       ],
       "layout": "IPY_MODEL_643737549e374b489fc272441e9f7d98",
       "selected_index": 2
      }
     },
     "679d7fc45a514da5a0b1549f027ce399": {
      "model_module": "@jupyter-widgets/controls",
      "model_module_version": "1.4.0",
      "model_name": "TabModel",
      "state": {
       "_titles": {
        "0": "Pistas de Vento",
        "1": "Variáveis de Ventos",
        "2": "Alturas de Ondas",
        "3": "Períodos de Ondas",
        "4": "Energias de Ondas"
       },
       "children": [
        "IPY_MODEL_24f3c08740ed4e1c9e2095687cbca9ea",
        "IPY_MODEL_ab442e503cb24f589c714808e3478691",
        "IPY_MODEL_9fcaa8322b094492a181eb6357a8bac7",
        "IPY_MODEL_22b122617483421ea48da36238e67d90",
        "IPY_MODEL_aab87f3c081a444694887ba066076f04"
       ],
       "layout": "IPY_MODEL_db434c549132493fafcd16e285534d95"
      }
     },
     "682c4a7f31014ab5896f465ed88fbc1f": {
      "model_module": "@jupyter-widgets/base",
      "model_module_version": "1.1.0",
      "model_name": "LayoutModel",
      "state": {}
     },
     "68ad10994f99400aa8a3abd0c6ec3a85": {
      "model_module": "@jupyter-widgets/base",
      "model_module_version": "1.1.0",
      "model_name": "LayoutModel",
      "state": {
       "width": "30%"
      }
     },
     "68c039240388430f928f6d4f43272548": {
      "model_module": "@jupyter-widgets/controls",
      "model_module_version": "1.4.0",
      "model_name": "ButtonModel",
      "state": {
       "description": "Importar pista(s) de vento já processada(s)",
       "layout": "IPY_MODEL_21856b8530964dc9a04e5e5213376a70",
       "style": "IPY_MODEL_3a281c9b386d459b9253235b96296c93",
       "tooltip": "Importa pista(s) de vento já processada(s)"
      }
     },
     "6938f2fa3abd4bde83f1be879f7e3fd3": {
      "model_module": "@jupyter-widgets/controls",
      "model_module_version": "1.4.0",
      "model_name": "AccordionModel",
      "state": {
       "_titles": {
        "0": "Método de cálculo para as energias de ondas",
        "1": "Esquema de cores"
       },
       "children": [
        "IPY_MODEL_ba46c139567d4a91aadd8aaabcfaad3b",
        "IPY_MODEL_7987b8f8d4844f72a81671895cb77576"
       ],
       "layout": "IPY_MODEL_7b5f258f852a42c389c2c475047fdfe4",
       "selected_index": 1
      }
     },
     "697114c96fa44dca9b8155d1a61f4309": {
      "model_module": "@jupyter-widgets/controls",
      "model_module_version": "1.4.0",
      "model_name": "AccordionModel",
      "state": {
       "_titles": {
        "0": "Duração (h)",
        "1": "Gravidade (m/s²)",
        "2": "Velocidade (m/s)"
       },
       "children": [
        "IPY_MODEL_32b1737051d94b83a172fa619827e142",
        "IPY_MODEL_fc0630e201534933803fe1b2a69a904a",
        "IPY_MODEL_9c6176324a6843c6b12b00897f759b6d"
       ],
       "layout": "IPY_MODEL_8eff2fb1434243099de29d4275a9509d"
      }
     },
     "69ffdef8bf224de69a23b566145f0586": {
      "model_module": "@jupyter-widgets/base",
      "model_module_version": "1.1.0",
      "model_name": "LayoutModel",
      "state": {}
     },
     "6a278322e7e641f9a7f846a449af0978": {
      "model_module": "@jupyter-widgets/controls",
      "model_module_version": "1.4.0",
      "model_name": "FloatTextModel",
      "state": {
       "description": "Duração:",
       "layout": "IPY_MODEL_e2b29df4b67c47158e44eb3c39b4349a",
       "step": null,
       "style": "IPY_MODEL_ca2c974fdbab40ff816b9c3f6dc5a6e3"
      }
     },
     "6a74a7e47bd642f196c02280e9fb3460": {
      "model_module": "@jupyter-widgets/controls",
      "model_module_version": "1.4.0",
      "model_name": "AccordionModel",
      "state": {
       "_titles": {
        "0": "Método de cálculo para as alturas de ondas",
        "1": "Esquema de cores"
       },
       "children": [
        "IPY_MODEL_27cec7c0f5df42c4886cce582a95abfc",
        "IPY_MODEL_332c6e10d4fe4ba2af580cd225035317"
       ],
       "layout": "IPY_MODEL_73a7f932a98e45d4b46bab5d82128270",
       "selected_index": 1
      }
     },
     "6b29fbe769d34f0d85ecae7bf6e05766": {
      "model_module": "@jupyter-widgets/base",
      "model_module_version": "1.1.0",
      "model_name": "LayoutModel",
      "state": {}
     },
     "6b67e776f8ac46be815915ddf12afee0": {
      "model_module": "@jupyter-widgets/controls",
      "model_module_version": "1.4.0",
      "model_name": "DescriptionStyleModel",
      "state": {
       "description_width": ""
      }
     },
     "6b9d138667c34996976b25bf760ed6f4": {
      "model_module": "@jupyter-widgets/controls",
      "model_module_version": "1.4.0",
      "model_name": "FloatTextModel",
      "state": {
       "description": "Gravidade:",
       "layout": "IPY_MODEL_dea4dd6105fc4142976a74cb74f3c5af",
       "step": null,
       "style": "IPY_MODEL_5ffb1d09f1ed44ebafef9d2e277c9939",
       "value": 9.81
      }
     },
     "6c2d19088e6f4decb8f8f1fb42421fb4": {
      "model_module": "@jupyter-widgets/controls",
      "model_module_version": "1.4.0",
      "model_name": "ButtonModel",
      "state": {
       "description": "Criar projeto",
       "layout": "IPY_MODEL_15f7f032e1b049bdaae6936b8c67677d",
       "style": "IPY_MODEL_13e6927389644d5cb38cebb69a4a18a6",
       "tooltip": "Cria um novo projeto"
      }
     },
     "6ca33354287c4568a8d75da6ce59ad88": {
      "model_module": "@jupyter-widgets/base",
      "model_module_version": "1.1.0",
      "model_name": "LayoutModel",
      "state": {
       "width": "400px"
      }
     },
     "6cf5c3c3083445c7818fb57e45bb3740": {
      "model_module": "@jupyter-widgets/controls",
      "model_module_version": "1.4.0",
      "model_name": "ButtonModel",
      "state": {
       "description": "Criar projeto",
       "layout": "IPY_MODEL_255f9259660649cb87ad972a25ac2e24",
       "style": "IPY_MODEL_34bc527cb9b8440fb5d7fd662aea18e5",
       "tooltip": "Cria um novo projeto"
      }
     },
     "6d3abd66af4b42c3a1a8f0b27290d954": {
      "model_module": "@jupyter-widgets/base",
      "model_module_version": "1.1.0",
      "model_name": "LayoutModel",
      "state": {
       "width": "30%"
      }
     },
     "6d797d37f914447fa963a91fc103e3c3": {
      "model_module": "@jupyter-widgets/controls",
      "model_module_version": "1.4.0",
      "model_name": "DropdownModel",
      "state": {
       "_options_labels": [
        "SMB"
       ],
       "description": "Método:",
       "index": 0,
       "layout": "IPY_MODEL_2c200413b5f34f11960b1c7d0bbc9809",
       "style": "IPY_MODEL_a27b2eb7710645698fce5a475a22235d"
      }
     },
     "6dda32ac9af144caa68d210f5f459343": {
      "model_module": "@jupyter-widgets/controls",
      "model_module_version": "1.4.0",
      "model_name": "AccordionModel",
      "state": {
       "_titles": {
        "0": "Criar projeto",
        "1": "Importar projeto"
       },
       "children": [
        "IPY_MODEL_b4b4ce4e950c4e45a3d5aa534635c067",
        "IPY_MODEL_8a40094bb50e4c79b559a0439a5dacf2"
       ],
       "layout": "IPY_MODEL_669d8a591d9f4961ac53e7ee2a86688d",
       "selected_index": 1
      }
     },
     "6df7142642f24b1a9d55b144e822871e": {
      "model_module": "@jupyter-widgets/controls",
      "model_module_version": "1.4.0",
      "model_name": "AccordionModel",
      "state": {
       "_titles": {
        "0": "Método de cálculo para os períodos de ondas",
        "1": "Esquema de cores"
       },
       "children": [
        "IPY_MODEL_8cb8d08b9f5f4d049d3ddfd318fcc25c",
        "IPY_MODEL_ac477cbef4d74f328711b776b937267f"
       ],
       "layout": "IPY_MODEL_f48e1d5821de4ae1ae179fa006321252"
      }
     },
     "6dfa025265f746c2964c84b95f4dcac3": {
      "model_module": "@jupyter-widgets/controls",
      "model_module_version": "1.4.0",
      "model_name": "DropdownModel",
      "state": {
       "_options_labels": [
        "Accent",
        "afmhot",
        "autumn",
        "binary",
        "Blues",
        "bone",
        "BrBG",
        "brg",
        "BuGn",
        "BuPu",
        "bwr",
        "CMRmap",
        "cool",
        "coolwarm",
        "copper",
        "cubehelix",
        "Dark2",
        "flag",
        "gist_earth",
        "gist_gray",
        "gist_heat",
        "gist_ncar",
        "gist_rainbow",
        "gist_stern",
        "gist_yarg",
        "GnBu",
        "gnuplot",
        "gnuplot2",
        "gray",
        "Greens",
        "Greys",
        "hot",
        "hsv",
        "inferno",
        "jet",
        "magma",
        "nipy_spectral",
        "ocean",
        "Oranges",
        "OrRd",
        "Paired",
        "Pastel1",
        "Pastel2",
        "pink",
        "PiYG",
        "plasma",
        "PRGn",
        "prism",
        "PuBu",
        "PuBuGn",
        "PuOr",
        "PuRd",
        "Purples",
        "rainbow",
        "RdBu",
        "RdGy",
        "RdPu",
        "RdYlBu",
        "RdYlGn",
        "Reds",
        "seismic",
        "Set1",
        "Set2",
        "Set3",
        "Spectral",
        "spring",
        "summer",
        "tab10",
        "tab20",
        "tab20b",
        "tab20c",
        "terrain",
        "viridis",
        "winter",
        "Wistia",
        "YlGn",
        "YlGnBu",
        "YlOrBr",
        "YlOrRd"
       ],
       "description": "Selecione o esquema de cores desejado para a imagem:",
       "index": 32,
       "layout": "IPY_MODEL_ff04a7f40c0644bd90cb590f8bf64ff0",
       "style": "IPY_MODEL_86e12fffaaa245e8925cc80470581ccd"
      }
     },
     "6e60e2e8635a4c298be78f0ceb21ae21": {
      "model_module": "@jupyter-widgets/controls",
      "model_module_version": "1.4.0",
      "model_name": "AccordionModel",
      "state": {
       "_titles": {
        "0": "Escolha da(s) pista(s) de vento"
       },
       "children": [
        "IPY_MODEL_8ab9646a8efe41d6876a356e12924d37"
       ],
       "layout": "IPY_MODEL_7fc67cec63204666a1a8d1a7f253c24f"
      }
     },
     "6f3dbe966a5f47fea7d138adb8c1d9bf": {
      "model_module": "@jupyter-widgets/controls",
      "model_module_version": "1.4.0",
      "model_name": "DropdownModel",
      "state": {
       "_options_labels": [
        "Accent",
        "afmhot",
        "autumn",
        "binary",
        "Blues",
        "bone",
        "BrBG",
        "brg",
        "BuGn",
        "BuPu",
        "bwr",
        "CMRmap",
        "cool",
        "coolwarm",
        "copper",
        "cubehelix",
        "Dark2",
        "flag",
        "gist_earth",
        "gist_gray",
        "gist_heat",
        "gist_ncar",
        "gist_rainbow",
        "gist_stern",
        "gist_yarg",
        "GnBu",
        "gnuplot",
        "gnuplot2",
        "gray",
        "Greens",
        "Greys",
        "hot",
        "hsv",
        "inferno",
        "jet",
        "magma",
        "nipy_spectral",
        "ocean",
        "Oranges",
        "OrRd",
        "Paired",
        "Pastel1",
        "Pastel2",
        "pink",
        "PiYG",
        "plasma",
        "PRGn",
        "prism",
        "PuBu",
        "PuBuGn",
        "PuOr",
        "PuRd",
        "Purples",
        "rainbow",
        "RdBu",
        "RdGy",
        "RdPu",
        "RdYlBu",
        "RdYlGn",
        "Reds",
        "seismic",
        "Set1",
        "Set2",
        "Set3",
        "Spectral",
        "spring",
        "summer",
        "tab10",
        "tab20",
        "tab20b",
        "tab20c",
        "terrain",
        "viridis",
        "winter",
        "Wistia",
        "YlGn",
        "YlGnBu",
        "YlOrBr",
        "YlOrRd"
       ],
       "description": "Selecione o esquema de cores desejado para a imagem:",
       "index": 32,
       "layout": "IPY_MODEL_babe6ff6a8674431b4b7ab5f0991356b",
       "style": "IPY_MODEL_2486aecf65eb457cbf584adad55790d7"
      }
     },
     "7002698cac2a471f89d3da18c53b07f6": {
      "model_module": "@jupyter-widgets/controls",
      "model_module_version": "1.4.0",
      "model_name": "DropdownModel",
      "state": {
       "_options_labels": [
        "Accent",
        "afmhot",
        "autumn",
        "binary",
        "Blues",
        "bone",
        "BrBG",
        "brg",
        "BuGn",
        "BuPu",
        "bwr",
        "CMRmap",
        "cool",
        "coolwarm",
        "copper",
        "cubehelix",
        "Dark2",
        "flag",
        "gist_earth",
        "gist_gray",
        "gist_heat",
        "gist_ncar",
        "gist_rainbow",
        "gist_stern",
        "gist_yarg",
        "GnBu",
        "gnuplot",
        "gnuplot2",
        "gray",
        "Greens",
        "Greys",
        "hot",
        "hsv",
        "inferno",
        "jet",
        "magma",
        "nipy_spectral",
        "ocean",
        "Oranges",
        "OrRd",
        "Paired",
        "Pastel1",
        "Pastel2",
        "pink",
        "PiYG",
        "plasma",
        "PRGn",
        "prism",
        "PuBu",
        "PuBuGn",
        "PuOr",
        "PuRd",
        "Purples",
        "rainbow",
        "RdBu",
        "RdGy",
        "RdPu",
        "RdYlBu",
        "RdYlGn",
        "Reds",
        "seismic",
        "Set1",
        "Set2",
        "Set3",
        "Spectral",
        "spring",
        "summer",
        "tab10",
        "tab20",
        "tab20b",
        "tab20c",
        "terrain",
        "viridis",
        "winter",
        "Wistia",
        "YlGn",
        "YlGnBu",
        "YlOrBr",
        "YlOrRd"
       ],
       "description": "Selecione o esquema de cores desejado para a imagem:",
       "index": 32,
       "layout": "IPY_MODEL_04f9dbf268c64bfe898df30b6d0c3746",
       "style": "IPY_MODEL_3a6269df5a2344bb92c173f806ecb6fc"
      }
     },
     "700a1bd16bd6442db456851ad086d2eb": {
      "model_module": "@jupyter-widgets/controls",
      "model_module_version": "1.4.0",
      "model_name": "DropdownModel",
      "state": {
       "_options_labels": [
        "Accent",
        "afmhot",
        "autumn",
        "binary",
        "Blues",
        "bone",
        "BrBG",
        "brg",
        "BuGn",
        "BuPu",
        "bwr",
        "cmo.algae",
        "cmo.amp",
        "cmo.balance",
        "cmo.curl",
        "cmo.deep",
        "cmo.delta",
        "cmo.dense",
        "cmo.gray",
        "cmo.haline",
        "cmo.ice",
        "cmo.matter",
        "cmo.oxy",
        "cmo.phase",
        "cmo.solar",
        "cmo.speed",
        "cmo.tempo",
        "cmo.thermal",
        "cmo.turbid",
        "CMRmap",
        "cool",
        "coolwarm",
        "copper",
        "cubehelix",
        "Dark2",
        "flag",
        "gist_earth",
        "gist_gray",
        "gist_heat",
        "gist_ncar",
        "gist_rainbow",
        "gist_stern",
        "gist_yarg",
        "GnBu",
        "gnuplot",
        "gnuplot2",
        "gray",
        "Greens",
        "Greys",
        "hot",
        "hsv",
        "inferno",
        "jet",
        "magma",
        "nipy_spectral",
        "ocean",
        "Oranges",
        "OrRd",
        "Paired",
        "Pastel1",
        "Pastel2",
        "pink",
        "PiYG",
        "plasma",
        "PRGn",
        "prism",
        "PuBu",
        "PuBuGn",
        "PuOr",
        "PuRd",
        "Purples",
        "rainbow",
        "RdBu",
        "RdGy",
        "RdPu",
        "RdYlBu",
        "RdYlGn",
        "Reds",
        "seismic",
        "Set1",
        "Set2",
        "Set3",
        "Spectral",
        "spring",
        "summer",
        "tab10",
        "tab20",
        "tab20b",
        "tab20c",
        "terrain",
        "viridis",
        "winter",
        "Wistia",
        "YlGn",
        "YlGnBu",
        "YlOrBr",
        "YlOrRd"
       ],
       "description": "Selecione o esquema de cores desejado para a imagem:",
       "index": 50,
       "layout": "IPY_MODEL_fd2f498e3e8d4cc2bc83f188f2d08cbd",
       "style": "IPY_MODEL_4501d99dae2a462fad5add76dbd61fc6"
      }
     },
     "706390b239d8499cb9a5330a5e5612d1": {
      "model_module": "@jupyter-widgets/controls",
      "model_module_version": "1.4.0",
      "model_name": "ButtonModel",
      "state": {
       "description": "Importar .shp de malha processada",
       "layout": "IPY_MODEL_d20d2c18bd2945df88a7bd513eb39bb2",
       "style": "IPY_MODEL_7a50f38f97b24621ab2ee166052928b1",
       "tooltip": "Importa um .shp que já teve sua malha processada"
      }
     },
     "7094239deda34f9aaa136c9e12506a2b": {
      "model_module": "@jupyter-widgets/base",
      "model_module_version": "1.1.0",
      "model_name": "LayoutModel",
      "state": {}
     },
     "70d0c2708d4c4ff9889ab5d48ed7b53d": {
      "model_module": "@jupyter-widgets/controls",
      "model_module_version": "1.4.0",
      "model_name": "DescriptionStyleModel",
      "state": {
       "description_width": "initial"
      }
     },
     "71b8c2e21a824edfadf354fabc501c41": {
      "model_module": "@jupyter-widgets/base",
      "model_module_version": "1.1.0",
      "model_name": "LayoutModel",
      "state": {}
     },
     "71ea92bfed2b4d5f877c98901a871d47": {
      "model_module": "@jupyter-widgets/base",
      "model_module_version": "1.1.0",
      "model_name": "LayoutModel",
      "state": {}
     },
     "71f8bec168b244de8ba323d35443cba4": {
      "model_module": "@jupyter-widgets/controls",
      "model_module_version": "1.4.0",
      "model_name": "FloatTextModel",
      "state": {
       "description": "Velocidade:",
       "layout": "IPY_MODEL_ce53595de8604779805853e72772e76c",
       "step": null,
       "style": "IPY_MODEL_1d8b5802382b4f0f8c751eeaaa3ef842",
       "value": 15
      }
     },
     "71fe624c4ac54f5e9c5211b0442d6379": {
      "model_module": "@jupyter-widgets/base",
      "model_module_version": "1.1.0",
      "model_name": "LayoutModel",
      "state": {
       "width": "500px"
      }
     },
     "723746c4939141c998be802491fb2560": {
      "model_module": "@jupyter-widgets/controls",
      "model_module_version": "1.4.0",
      "model_name": "DescriptionStyleModel",
      "state": {
       "description_width": ""
      }
     },
     "731c3f4e5d624b37b8ed491775b1ec3c": {
      "model_module": "@jupyter-widgets/base",
      "model_module_version": "1.1.0",
      "model_name": "LayoutModel",
      "state": {}
     },
     "731ec2fcaf504e58815583cce279f182": {
      "model_module": "@jupyter-widgets/base",
      "model_module_version": "1.1.0",
      "model_name": "LayoutModel",
      "state": {
       "width": "30%"
      }
     },
     "73a596b557d54943b33a0fd905251acf": {
      "model_module": "@jupyter-widgets/controls",
      "model_module_version": "1.4.0",
      "model_name": "TabModel",
      "state": {
       "_titles": {
        "0": "Pistas de Vento",
        "1": "Variáveis de Ventos",
        "2": "Alturas de Ondas",
        "3": "Períodos de Ondas",
        "4": "Energias de Ondas"
       },
       "children": [
        "IPY_MODEL_92179a8e818f47d8bb4573cce465585e",
        "IPY_MODEL_834e3fa64ce04b5fb02b86268fffdc89",
        "IPY_MODEL_a5e59d51fbbe4337a76e3e0627cb5c64",
        "IPY_MODEL_93b38cdc82ee494aa3ff62cce6a9edbd",
        "IPY_MODEL_4804417fc8d749eea47d93b27b5bcbed"
       ],
       "layout": "IPY_MODEL_de8133d8162549a6825408052b0b2e67",
       "selected_index": 4
      }
     },
     "73a7f932a98e45d4b46bab5d82128270": {
      "model_module": "@jupyter-widgets/base",
      "model_module_version": "1.1.0",
      "model_name": "LayoutModel",
      "state": {}
     },
     "73e8a3f194834b0b896bcd94def3e563": {
      "model_module": "@jupyter-widgets/base",
      "model_module_version": "1.1.0",
      "model_name": "LayoutModel",
      "state": {}
     },
     "7410faa7093a4118a7d6b42d841b1032": {
      "model_module": "@jupyter-widgets/base",
      "model_module_version": "1.1.0",
      "model_name": "LayoutModel",
      "state": {}
     },
     "7445cb83ea9040e1819a04aaa406d628": {
      "model_module": "@jupyter-widgets/controls",
      "model_module_version": "1.4.0",
      "model_name": "AccordionModel",
      "state": {
       "_titles": {
        "0": "Importar .shp de malha processada"
       },
       "children": [
        "IPY_MODEL_faa1011db38545e789f7c9520d31a1d1"
       ],
       "layout": "IPY_MODEL_d06f742c2e6548d1885fc2920a6106e1"
      }
     },
     "7473d2792d624fc1b9c3f382c2afee1e": {
      "model_module": "@jupyter-widgets/base",
      "model_module_version": "1.1.0",
      "model_name": "LayoutModel",
      "state": {}
     },
     "74e6386cdda6409e84747d3b1079d0cf": {
      "model_module": "@jupyter-widgets/controls",
      "model_module_version": "1.4.0",
      "model_name": "ButtonModel",
      "state": {
       "description": "Importar .shp de malha processada",
       "layout": "IPY_MODEL_42defb3e7cfa4757ac07b819c7ad0325",
       "style": "IPY_MODEL_5a441b2728e64ddeb936d23ffdb921bd",
       "tooltip": "Importa um .shp que teve sua malha processada"
      }
     },
     "75a06971eaac41a9b585a49ae3debd58": {
      "model_module": "@jupyter-widgets/controls",
      "model_module_version": "1.4.0",
      "model_name": "DescriptionStyleModel",
      "state": {
       "description_width": "initial"
      }
     },
     "762d3888694440318f4118b3a79fb53c": {
      "model_module": "@jupyter-widgets/controls",
      "model_module_version": "1.4.0",
      "model_name": "AccordionModel",
      "state": {
       "_titles": {
        "0": "Método de cálculo para as alturas de ondas",
        "1": "Esquema de cores"
       },
       "children": [
        "IPY_MODEL_6348f15579394d9ea5639710f7bd7869",
        "IPY_MODEL_31b1b221e2c249cb89390b3ae1388f23"
       ],
       "layout": "IPY_MODEL_df42cadce51a41dc9c905a3aa2056b60",
       "selected_index": 1
      }
     },
     "77068b87ffa5435fb3d6246bface994f": {
      "model_module": "@jupyter-widgets/controls",
      "model_module_version": "1.4.0",
      "model_name": "SelectMultipleModel",
      "state": {
       "_options_labels": [
        "0.0°",
        "22.5°",
        "45.0°",
        "67.5°",
        "90.0°",
        "112.5°",
        "135.0°"
       ],
       "index": [
        0,
        2,
        4,
        6
       ],
       "layout": "IPY_MODEL_783862359f9042a4843ae2b50660a62f",
       "rows": 5,
       "style": "IPY_MODEL_487fe3de3e4e4cbfb59629ff4baf58f1"
      }
     },
     "77748231386a41fb946ee8ae32ccc0f2": {
      "model_module": "@jupyter-widgets/controls",
      "model_module_version": "1.4.0",
      "model_name": "FloatTextModel",
      "state": {
       "description": "Gravidade:",
       "layout": "IPY_MODEL_851574a593674edea5f46742d7b3d157",
       "step": null,
       "style": "IPY_MODEL_723746c4939141c998be802491fb2560",
       "value": 9.81
      }
     },
     "77aac18fa11944668bfc89f7a865bd6e": {
      "model_module": "@jupyter-widgets/controls",
      "model_module_version": "1.4.0",
      "model_name": "ButtonStyleModel",
      "state": {}
     },
     "77d586584aae45298d4ab974b7c52cd2": {
      "model_module": "@jupyter-widgets/base",
      "model_module_version": "1.1.0",
      "model_name": "LayoutModel",
      "state": {}
     },
     "77fd6f08341e41afa6a36f2e502ad4eb": {
      "model_module": "@jupyter-widgets/base",
      "model_module_version": "1.1.0",
      "model_name": "LayoutModel",
      "state": {}
     },
     "783862359f9042a4843ae2b50660a62f": {
      "model_module": "@jupyter-widgets/base",
      "model_module_version": "1.1.0",
      "model_name": "LayoutModel",
      "state": {}
     },
     "78691390e56c45759e10c2e8a97f76ad": {
      "model_module": "@jupyter-widgets/controls",
      "model_module_version": "1.4.0",
      "model_name": "DropdownModel",
      "state": {
       "_options_labels": [
        "Creager",
        "JONSWAP",
        "SGM",
        "SMB",
        "Wolf"
       ],
       "description": "Método:",
       "index": 1,
       "layout": "IPY_MODEL_a8e1265e4ff54f53834efc96256899fb",
       "style": "IPY_MODEL_1fce254281f24e5098879bf8c83a0af6"
      }
     },
     "78f13a6db5c94b55bbd3c632cbb7f672": {
      "model_module": "@jupyter-widgets/base",
      "model_module_version": "1.1.0",
      "model_name": "LayoutModel",
      "state": {}
     },
     "79182b7a1f2549d0b107d797f477bf32": {
      "model_module": "@jupyter-widgets/controls",
      "model_module_version": "1.4.0",
      "model_name": "DescriptionStyleModel",
      "state": {
       "description_width": "initial"
      }
     },
     "791fefc0e94948e9ad01947a9497de82": {
      "model_module": "@jupyter-widgets/base",
      "model_module_version": "1.1.0",
      "model_name": "LayoutModel",
      "state": {
       "width": "400px"
      }
     },
     "793be6126e634fddb581bdd2c911ccfe": {
      "model_module": "@jupyter-widgets/base",
      "model_module_version": "1.1.0",
      "model_name": "LayoutModel",
      "state": {}
     },
     "79778e342f7c4eff9c16d05e12513de7": {
      "model_module": "@jupyter-widgets/base",
      "model_module_version": "1.1.0",
      "model_name": "LayoutModel",
      "state": {}
     },
     "7987b8f8d4844f72a81671895cb77576": {
      "model_module": "@jupyter-widgets/controls",
      "model_module_version": "1.4.0",
      "model_name": "DropdownModel",
      "state": {
       "_options_labels": [
        "Accent",
        "afmhot",
        "autumn",
        "binary",
        "Blues",
        "bone",
        "BrBG",
        "brg",
        "BuGn",
        "BuPu",
        "bwr",
        "cmo.algae",
        "cmo.amp",
        "cmo.balance",
        "cmo.curl",
        "cmo.deep",
        "cmo.delta",
        "cmo.dense",
        "cmo.gray",
        "cmo.haline",
        "cmo.ice",
        "cmo.matter",
        "cmo.oxy",
        "cmo.phase",
        "cmo.solar",
        "cmo.speed",
        "cmo.tempo",
        "cmo.thermal",
        "cmo.turbid",
        "CMRmap",
        "cool",
        "coolwarm",
        "copper",
        "cubehelix",
        "Dark2",
        "flag",
        "gist_earth",
        "gist_gray",
        "gist_heat",
        "gist_ncar",
        "gist_rainbow",
        "gist_stern",
        "gist_yarg",
        "GnBu",
        "gnuplot",
        "gnuplot2",
        "gray",
        "Greens",
        "Greys",
        "hot",
        "hsv",
        "inferno",
        "jet",
        "magma",
        "nipy_spectral",
        "ocean",
        "Oranges",
        "OrRd",
        "Paired",
        "Pastel1",
        "Pastel2",
        "pink",
        "PiYG",
        "plasma",
        "PRGn",
        "prism",
        "PuBu",
        "PuBuGn",
        "PuOr",
        "PuRd",
        "Purples",
        "rainbow",
        "RdBu",
        "RdGy",
        "RdPu",
        "RdYlBu",
        "RdYlGn",
        "Reds",
        "seismic",
        "Set1",
        "Set2",
        "Set3",
        "Spectral",
        "spring",
        "summer",
        "tab10",
        "tab20",
        "tab20b",
        "tab20c",
        "terrain",
        "viridis",
        "winter",
        "Wistia",
        "YlGn",
        "YlGnBu",
        "YlOrBr",
        "YlOrRd"
       ],
       "description": "Selecione o esquema de cores desejado para a imagem:",
       "index": 27,
       "layout": "IPY_MODEL_ce331911ce47468ea3f773aae5eb53e9",
       "style": "IPY_MODEL_b1b7fc87d37b4a738282af6d9699fb3c"
      }
     },
     "79aeaec065b448a298c6aa69b2154f8f": {
      "model_module": "@jupyter-widgets/base",
      "model_module_version": "1.1.0",
      "model_name": "LayoutModel",
      "state": {}
     },
     "7a45d008d6944907a5ae515c1c60fe50": {
      "model_module": "@jupyter-widgets/controls",
      "model_module_version": "1.4.0",
      "model_name": "ButtonModel",
      "state": {
       "description": "Importar projeto",
       "layout": "IPY_MODEL_f3e6fa5d1bf844838503082e4e4508f8",
       "style": "IPY_MODEL_1c741343d1214a21a1fc47c250e79a28",
       "tooltip": "Importa o .csv de um projeto criado"
      }
     },
     "7a50f38f97b24621ab2ee166052928b1": {
      "model_module": "@jupyter-widgets/controls",
      "model_module_version": "1.4.0",
      "model_name": "ButtonStyleModel",
      "state": {}
     },
     "7af0c89fc0dc4cc68b161ac02b1d47ce": {
      "model_module": "@jupyter-widgets/controls",
      "model_module_version": "1.4.0",
      "model_name": "DescriptionStyleModel",
      "state": {
       "description_width": "initial"
      }
     },
     "7b53b4e30dda43f89a4580c816d8f265": {
      "model_module": "@jupyter-widgets/base",
      "model_module_version": "1.1.0",
      "model_name": "LayoutModel",
      "state": {
       "width": "500px"
      }
     },
     "7b5f258f852a42c389c2c475047fdfe4": {
      "model_module": "@jupyter-widgets/base",
      "model_module_version": "1.1.0",
      "model_name": "LayoutModel",
      "state": {}
     },
     "7bcd2146dec045bf82cfee26088919ef": {
      "model_module": "@jupyter-widgets/base",
      "model_module_version": "1.1.0",
      "model_name": "LayoutModel",
      "state": {}
     },
     "7c55fbd22b894683970f925fe3f6d8a4": {
      "model_module": "@jupyter-widgets/base",
      "model_module_version": "1.1.0",
      "model_name": "LayoutModel",
      "state": {}
     },
     "7cd5b135279f4454b32c211e77079d8a": {
      "model_module": "@jupyter-widgets/controls",
      "model_module_version": "1.4.0",
      "model_name": "DescriptionStyleModel",
      "state": {
       "description_width": "initial"
      }
     },
     "7cf5c69da676459c86b5283da8cdb243": {
      "model_module": "@jupyter-widgets/controls",
      "model_module_version": "1.4.0",
      "model_name": "DescriptionStyleModel",
      "state": {
       "description_width": "initial"
      }
     },
     "7d1895b74eef4fdfb6ad0f5fc4b15b80": {
      "model_module": "@jupyter-widgets/controls",
      "model_module_version": "1.4.0",
      "model_name": "AccordionModel",
      "state": {
       "_titles": {
        "0": "Escolha da(s) pista(s) de vento"
       },
       "children": [
        "IPY_MODEL_68c039240388430f928f6d4f43272548"
       ],
       "layout": "IPY_MODEL_cd92ff993d4546bc9a4c4cf481f86f8f"
      }
     },
     "7d64df9c0b3c4950b9e4ca8a12c65da6": {
      "model_module": "@jupyter-widgets/controls",
      "model_module_version": "1.4.0",
      "model_name": "ButtonStyleModel",
      "state": {}
     },
     "7da5c4fea91a449083f4d060676da0c7": {
      "model_module": "@jupyter-widgets/base",
      "model_module_version": "1.1.0",
      "model_name": "LayoutModel",
      "state": {}
     },
     "7f1a41ea367041ffad3457ddaf7daf32": {
      "model_module": "@jupyter-widgets/controls",
      "model_module_version": "1.4.0",
      "model_name": "AccordionModel",
      "state": {
       "_titles": {
        "0": "Importar .shp de malha processada"
       },
       "children": [
        "IPY_MODEL_74e6386cdda6409e84747d3b1079d0cf"
       ],
       "layout": "IPY_MODEL_7473d2792d624fc1b9c3f382c2afee1e"
      }
     },
     "7f25b4bd486242038d48a06f7aca5906": {
      "model_module": "@jupyter-widgets/controls",
      "model_module_version": "1.4.0",
      "model_name": "DescriptionStyleModel",
      "state": {
       "description_width": "initial"
      }
     },
     "7f41865a6b094a208150994a5d0413e2": {
      "model_module": "@jupyter-widgets/base",
      "model_module_version": "1.1.0",
      "model_name": "LayoutModel",
      "state": {
       "width": "400px"
      }
     },
     "7fc67cec63204666a1a8d1a7f253c24f": {
      "model_module": "@jupyter-widgets/base",
      "model_module_version": "1.1.0",
      "model_name": "LayoutModel",
      "state": {}
     },
     "7fd01eaadab44c808ffdb2eec7e8b52e": {
      "model_module": "@jupyter-widgets/base",
      "model_module_version": "1.1.0",
      "model_name": "LayoutModel",
      "state": {
       "width": "30%"
      }
     },
     "815563437b714c0eb1b85364d84c80d7": {
      "model_module": "@jupyter-widgets/controls",
      "model_module_version": "1.4.0",
      "model_name": "FloatTextModel",
      "state": {
       "description": "Duração:",
       "layout": "IPY_MODEL_b424b1f3decd4cab9a0014a8996f880d",
       "step": null,
       "style": "IPY_MODEL_4e211acc0a8f4c879691c6444d872beb",
       "value": 4
      }
     },
     "81c53e28958a4663b88609c12dfc0537": {
      "model_module": "@jupyter-widgets/controls",
      "model_module_version": "1.4.0",
      "model_name": "DescriptionStyleModel",
      "state": {
       "description_width": "initial"
      }
     },
     "834a3bdaf9af45b5b869ed60d7ec2caa": {
      "model_module": "@jupyter-widgets/base",
      "model_module_version": "1.1.0",
      "model_name": "LayoutModel",
      "state": {
       "width": "400px"
      }
     },
     "834e3fa64ce04b5fb02b86268fffdc89": {
      "model_module": "@jupyter-widgets/controls",
      "model_module_version": "1.4.0",
      "model_name": "AccordionModel",
      "state": {
       "_titles": {
        "0": "Duração (h)",
        "1": "Gravidade (m/s²)",
        "2": "Velocidade (m/s)"
       },
       "children": [
        "IPY_MODEL_e4bc6030d5ff427d9777b8ec40bd4d25",
        "IPY_MODEL_0d859a68e2bc41ccbaf9c82b5666e818",
        "IPY_MODEL_187c26f3659344a8b37d0bcdb8fdabaa"
       ],
       "layout": "IPY_MODEL_6b29fbe769d34f0d85ecae7bf6e05766",
       "selected_index": 2
      }
     },
     "83525d0ec7784955b6fc1090186cd373": {
      "model_module": "@jupyter-widgets/base",
      "model_module_version": "1.1.0",
      "model_name": "LayoutModel",
      "state": {
       "width": "500px"
      }
     },
     "837bd75ebc8d4683a14117f84597be17": {
      "model_module": "@jupyter-widgets/controls",
      "model_module_version": "1.4.0",
      "model_name": "DropdownModel",
      "state": {
       "_options_labels": [
        "Accent",
        "afmhot",
        "autumn",
        "binary",
        "Blues",
        "bone",
        "BrBG",
        "brg",
        "BuGn",
        "BuPu",
        "bwr",
        "CMRmap",
        "cool",
        "coolwarm",
        "copper",
        "cubehelix",
        "Dark2",
        "flag",
        "gist_earth",
        "gist_gray",
        "gist_heat",
        "gist_ncar",
        "gist_rainbow",
        "gist_stern",
        "gist_yarg",
        "GnBu",
        "gnuplot",
        "gnuplot2",
        "gray",
        "Greens",
        "Greys",
        "hot",
        "hsv",
        "inferno",
        "jet",
        "magma",
        "nipy_spectral",
        "ocean",
        "Oranges",
        "OrRd",
        "Paired",
        "Pastel1",
        "Pastel2",
        "pink",
        "PiYG",
        "plasma",
        "PRGn",
        "prism",
        "PuBu",
        "PuBuGn",
        "PuOr",
        "PuRd",
        "Purples",
        "rainbow",
        "RdBu",
        "RdGy",
        "RdPu",
        "RdYlBu",
        "RdYlGn",
        "Reds",
        "seismic",
        "Set1",
        "Set2",
        "Set3",
        "Spectral",
        "spring",
        "summer",
        "tab10",
        "tab20",
        "tab20b",
        "tab20c",
        "terrain",
        "viridis",
        "winter",
        "Wistia",
        "YlGn",
        "YlGnBu",
        "YlOrBr",
        "YlOrRd"
       ],
       "description": "Selecione o esquema de cores desejado para a imagem:",
       "index": 32,
       "layout": "IPY_MODEL_7b53b4e30dda43f89a4580c816d8f265",
       "style": "IPY_MODEL_b05f27e49a554236a0b46425943042d6"
      }
     },
     "83a9c4daae1542038ed42825106f5ff9": {
      "model_module": "@jupyter-widgets/base",
      "model_module_version": "1.1.0",
      "model_name": "LayoutModel",
      "state": {}
     },
     "84b411413bb745b68f5025cf72d2b5cd": {
      "model_module": "@jupyter-widgets/controls",
      "model_module_version": "1.4.0",
      "model_name": "DescriptionStyleModel",
      "state": {
       "description_width": "initial"
      }
     },
     "851574a593674edea5f46742d7b3d157": {
      "model_module": "@jupyter-widgets/base",
      "model_module_version": "1.1.0",
      "model_name": "LayoutModel",
      "state": {}
     },
     "85af6a31d1844a52b2f644cfbf0fe7a4": {
      "model_module": "@jupyter-widgets/base",
      "model_module_version": "1.1.0",
      "model_name": "LayoutModel",
      "state": {}
     },
     "85e1daa159324f7b9f407357cbbd7d75": {
      "model_module": "@jupyter-widgets/base",
      "model_module_version": "1.1.0",
      "model_name": "LayoutModel",
      "state": {
       "width": "400px"
      }
     },
     "85f58c7e851d4f68bbd9734e85ac6a1b": {
      "model_module": "@jupyter-widgets/base",
      "model_module_version": "1.1.0",
      "model_name": "LayoutModel",
      "state": {}
     },
     "863c146c24d443debca6662d2ad4e223": {
      "model_module": "@jupyter-widgets/controls",
      "model_module_version": "1.4.0",
      "model_name": "DescriptionStyleModel",
      "state": {
       "description_width": "initial"
      }
     },
     "8686da43d3ec41478fd1cb42dadb3031": {
      "model_module": "@jupyter-widgets/controls",
      "model_module_version": "1.4.0",
      "model_name": "ButtonStyleModel",
      "state": {}
     },
     "86a08af7956b44f7aedb2258db3c9391": {
      "model_module": "@jupyter-widgets/controls",
      "model_module_version": "1.4.0",
      "model_name": "DescriptionStyleModel",
      "state": {
       "description_width": "initial"
      }
     },
     "86cfc06a771746638e09f462cd950ff7": {
      "model_module": "@jupyter-widgets/base",
      "model_module_version": "1.1.0",
      "model_name": "LayoutModel",
      "state": {}
     },
     "86e12fffaaa245e8925cc80470581ccd": {
      "model_module": "@jupyter-widgets/controls",
      "model_module_version": "1.4.0",
      "model_name": "DescriptionStyleModel",
      "state": {
       "description_width": "initial"
      }
     },
     "874fa85ec16e4d7e8ce9af2cf6f6dcad": {
      "model_module": "@jupyter-widgets/base",
      "model_module_version": "1.1.0",
      "model_name": "LayoutModel",
      "state": {}
     },
     "8809a647988944f5829b6c22f8abb157": {
      "model_module": "@jupyter-widgets/controls",
      "model_module_version": "1.4.0",
      "model_name": "AccordionModel",
      "state": {
       "_titles": {
        "0": "Duração (h)",
        "1": "Gravidade (m/s²)",
        "2": "Velocidade (m/s)"
       },
       "children": [
        "IPY_MODEL_6a278322e7e641f9a7f846a449af0978",
        "IPY_MODEL_77748231386a41fb946ee8ae32ccc0f2",
        "IPY_MODEL_ebb8a19bd45e4cd2897ae46b10e528ec"
       ],
       "layout": "IPY_MODEL_73e8a3f194834b0b896bcd94def3e563"
      }
     },
     "88e337b7fb004084a4e66a7e6953f12c": {
      "model_module": "@jupyter-widgets/controls",
      "model_module_version": "1.4.0",
      "model_name": "TabModel",
      "state": {
       "_titles": {
        "0": "Projetos",
        "1": "Shapefiles"
       },
       "children": [
        "IPY_MODEL_33867e36f82e49f99883f9d7f4772ca3",
        "IPY_MODEL_7f1a41ea367041ffad3457ddaf7daf32"
       ],
       "layout": "IPY_MODEL_5ad6d726ed6f4dfbbc3655b6f8dd7adb",
       "selected_index": 1
      }
     },
     "892454ef654e40fbad2148baa5cafde0": {
      "model_module": "@jupyter-widgets/base",
      "model_module_version": "1.1.0",
      "model_name": "LayoutModel",
      "state": {
       "width": "30%"
      }
     },
     "89b1df3e588a43f9ab7f7d9052875ce2": {
      "model_module": "@jupyter-widgets/controls",
      "model_module_version": "1.4.0",
      "model_name": "ButtonStyleModel",
      "state": {}
     },
     "8a40094bb50e4c79b559a0439a5dacf2": {
      "model_module": "@jupyter-widgets/controls",
      "model_module_version": "1.4.0",
      "model_name": "ButtonModel",
      "state": {
       "description": "Importar projeto",
       "layout": "IPY_MODEL_fc86305e04e34dc4b8f66ae89a2d85fd",
       "style": "IPY_MODEL_ecb665fe57424ecaabbd09933669db52",
       "tooltip": "Importa o .csv de um projeto já criado"
      }
     },
     "8ab9646a8efe41d6876a356e12924d37": {
      "model_module": "@jupyter-widgets/controls",
      "model_module_version": "1.4.0",
      "model_name": "ButtonModel",
      "state": {
       "description": "Importar pista(s) de vento processada(s)",
       "layout": "IPY_MODEL_b0a86606c8c348788da315f01aff887a",
       "style": "IPY_MODEL_3fa4c6b9c70b489ea718d851b3c824ba",
       "tooltip": "Importa pista(s) de vento processada(s)"
      }
     },
     "8acdc75afe8b455ca0f0e9bf0d12a694": {
      "model_module": "@jupyter-widgets/controls",
      "model_module_version": "1.4.0",
      "model_name": "DropdownModel",
      "state": {
       "_options_labels": [
        "Accent",
        "afmhot",
        "autumn",
        "binary",
        "Blues",
        "bone",
        "BrBG",
        "brg",
        "BuGn",
        "BuPu",
        "bwr",
        "CMRmap",
        "cool",
        "coolwarm",
        "copper",
        "cubehelix",
        "Dark2",
        "flag",
        "gist_earth",
        "gist_gray",
        "gist_heat",
        "gist_ncar",
        "gist_rainbow",
        "gist_stern",
        "gist_yarg",
        "GnBu",
        "gnuplot",
        "gnuplot2",
        "gray",
        "Greens",
        "Greys",
        "hot",
        "hsv",
        "inferno",
        "jet",
        "magma",
        "nipy_spectral",
        "ocean",
        "Oranges",
        "OrRd",
        "Paired",
        "Pastel1",
        "Pastel2",
        "pink",
        "PiYG",
        "plasma",
        "PRGn",
        "prism",
        "PuBu",
        "PuBuGn",
        "PuOr",
        "PuRd",
        "Purples",
        "rainbow",
        "RdBu",
        "RdGy",
        "RdPu",
        "RdYlBu",
        "RdYlGn",
        "Reds",
        "seismic",
        "Set1",
        "Set2",
        "Set3",
        "Spectral",
        "spring",
        "summer",
        "tab10",
        "tab20",
        "tab20b",
        "tab20c",
        "terrain",
        "viridis",
        "winter",
        "Wistia",
        "YlGn",
        "YlGnBu",
        "YlOrBr",
        "YlOrRd"
       ],
       "description": "Selecione o esquema de cores desejado para a imagem:",
       "index": 32,
       "layout": "IPY_MODEL_37a7e75ba5b94701b692c6fb2bc7b183",
       "style": "IPY_MODEL_5da663ec7b5c46bda829a35d24f9f49a"
      }
     },
     "8b429c830bde46948d0d054f026f722b": {
      "model_module": "@jupyter-widgets/base",
      "model_module_version": "1.1.0",
      "model_name": "LayoutModel",
      "state": {}
     },
     "8b5ac0590cb14dbba7219faa4065a1a2": {
      "model_module": "@jupyter-widgets/base",
      "model_module_version": "1.1.0",
      "model_name": "LayoutModel",
      "state": {}
     },
     "8b82f1a7bd674e4bb64410e48e422b40": {
      "model_module": "@jupyter-widgets/controls",
      "model_module_version": "1.4.0",
      "model_name": "DescriptionStyleModel",
      "state": {
       "description_width": "initial"
      }
     },
     "8b8ee483149a47d896b20024f2e38a22": {
      "model_module": "@jupyter-widgets/base",
      "model_module_version": "1.1.0",
      "model_name": "LayoutModel",
      "state": {
       "width": "400px"
      }
     },
     "8b9bb1f17d0849a78491167b6eb6995b": {
      "model_module": "@jupyter-widgets/controls",
      "model_module_version": "1.4.0",
      "model_name": "AccordionModel",
      "state": {
       "_titles": {
        "0": "Método de cálculo para as energias de ondas",
        "1": "Esquema de cores"
       },
       "children": [
        "IPY_MODEL_a90543763dcd42fb8f9a859727de2274",
        "IPY_MODEL_8d6fc4395167490088dc074c87d71a43"
       ],
       "layout": "IPY_MODEL_3ab52d1156cd4f6ea5931cbcdb099e85"
      }
     },
     "8bfb1d4162ef4d79b950a2a6a699eabe": {
      "model_module": "@jupyter-widgets/controls",
      "model_module_version": "1.4.0",
      "model_name": "DescriptionStyleModel",
      "state": {
       "description_width": ""
      }
     },
     "8c22f239990a4662a0a4bf524ff18f73": {
      "model_module": "@jupyter-widgets/controls",
      "model_module_version": "1.4.0",
      "model_name": "ButtonModel",
      "state": {
       "description": "Criar projeto",
       "layout": "IPY_MODEL_a254b08afd614b9d81670ccca65a6566",
       "style": "IPY_MODEL_1dcfe5d7f99343bb80ddf6962ff15393",
       "tooltip": "Cria um novo projeto"
      }
     },
     "8cb8d08b9f5f4d049d3ddfd318fcc25c": {
      "model_module": "@jupyter-widgets/controls",
      "model_module_version": "1.4.0",
      "model_name": "DropdownModel",
      "state": {
       "_options_labels": [
        "SMB"
       ],
       "description": "Método:",
       "index": 0,
       "layout": "IPY_MODEL_7f41865a6b094a208150994a5d0413e2",
       "style": "IPY_MODEL_ffbaa6463f214d49a34d854a9a8176ec"
      }
     },
     "8d30ae6c7da548ddb232f9aff4c365b3": {
      "model_module": "@jupyter-widgets/base",
      "model_module_version": "1.1.0",
      "model_name": "LayoutModel",
      "state": {
       "width": "400px"
      }
     },
     "8d6b10ee4b9249a5b3e81aef0535305e": {
      "model_module": "@jupyter-widgets/controls",
      "model_module_version": "1.4.0",
      "model_name": "DropdownModel",
      "state": {
       "_options_labels": [
        "Accent",
        "afmhot",
        "autumn",
        "binary",
        "Blues",
        "bone",
        "BrBG",
        "brg",
        "BuGn",
        "BuPu",
        "bwr",
        "CMRmap",
        "cool",
        "coolwarm",
        "copper",
        "cubehelix",
        "Dark2",
        "flag",
        "gist_earth",
        "gist_gray",
        "gist_heat",
        "gist_ncar",
        "gist_rainbow",
        "gist_stern",
        "gist_yarg",
        "GnBu",
        "gnuplot",
        "gnuplot2",
        "gray",
        "Greens",
        "Greys",
        "hot",
        "hsv",
        "inferno",
        "jet",
        "magma",
        "nipy_spectral",
        "ocean",
        "Oranges",
        "OrRd",
        "Paired",
        "Pastel1",
        "Pastel2",
        "pink",
        "PiYG",
        "plasma",
        "PRGn",
        "prism",
        "PuBu",
        "PuBuGn",
        "PuOr",
        "PuRd",
        "Purples",
        "rainbow",
        "RdBu",
        "RdGy",
        "RdPu",
        "RdYlBu",
        "RdYlGn",
        "Reds",
        "seismic",
        "Set1",
        "Set2",
        "Set3",
        "Spectral",
        "spring",
        "summer",
        "tab10",
        "tab20",
        "tab20b",
        "tab20c",
        "terrain",
        "viridis",
        "winter",
        "Wistia",
        "YlGn",
        "YlGnBu",
        "YlOrBr",
        "YlOrRd"
       ],
       "description": "Selecione o esquema de cores desejado para a imagem:",
       "index": 32,
       "layout": "IPY_MODEL_af608a8f32f8408da8d40776a8776671",
       "style": "IPY_MODEL_79182b7a1f2549d0b107d797f477bf32"
      }
     },
     "8d6fc4395167490088dc074c87d71a43": {
      "model_module": "@jupyter-widgets/controls",
      "model_module_version": "1.4.0",
      "model_name": "DropdownModel",
      "state": {
       "_options_labels": [
        "Accent",
        "afmhot",
        "autumn",
        "binary",
        "Blues",
        "bone",
        "BrBG",
        "brg",
        "BuGn",
        "BuPu",
        "bwr",
        "CMRmap",
        "cool",
        "coolwarm",
        "copper",
        "cubehelix",
        "Dark2",
        "flag",
        "gist_earth",
        "gist_gray",
        "gist_heat",
        "gist_ncar",
        "gist_rainbow",
        "gist_stern",
        "gist_yarg",
        "GnBu",
        "gnuplot",
        "gnuplot2",
        "gray",
        "Greens",
        "Greys",
        "hot",
        "hsv",
        "inferno",
        "jet",
        "magma",
        "nipy_spectral",
        "ocean",
        "Oranges",
        "OrRd",
        "Paired",
        "Pastel1",
        "Pastel2",
        "pink",
        "PiYG",
        "plasma",
        "PRGn",
        "prism",
        "PuBu",
        "PuBuGn",
        "PuOr",
        "PuRd",
        "Purples",
        "rainbow",
        "RdBu",
        "RdGy",
        "RdPu",
        "RdYlBu",
        "RdYlGn",
        "Reds",
        "seismic",
        "Set1",
        "Set2",
        "Set3",
        "Spectral",
        "spring",
        "summer",
        "tab10",
        "tab20",
        "tab20b",
        "tab20c",
        "terrain",
        "viridis",
        "winter",
        "Wistia",
        "YlGn",
        "YlGnBu",
        "YlOrBr",
        "YlOrRd"
       ],
       "description": "Selecione o esquema de cores desejado para a imagem:",
       "index": 32,
       "layout": "IPY_MODEL_63b3121a429343fabdb74f9a1ac5d21d",
       "style": "IPY_MODEL_84b411413bb745b68f5025cf72d2b5cd"
      }
     },
     "8eff2fb1434243099de29d4275a9509d": {
      "model_module": "@jupyter-widgets/base",
      "model_module_version": "1.1.0",
      "model_name": "LayoutModel",
      "state": {}
     },
     "8f4034dd64c5474ab3f9096fbfbac2e6": {
      "model_module": "@jupyter-widgets/base",
      "model_module_version": "1.1.0",
      "model_name": "LayoutModel",
      "state": {}
     },
     "8f4364ecf4b144bba99ac6cc1ef99762": {
      "model_module": "@jupyter-widgets/controls",
      "model_module_version": "1.4.0",
      "model_name": "FloatTextModel",
      "state": {
       "description": "Gravidade:",
       "layout": "IPY_MODEL_d348d219328a4597981b2b4cfecdf720",
       "step": null,
       "style": "IPY_MODEL_14279f835ce94d528d36ac38952ec7f6",
       "value": 9.81
      }
     },
     "913a9898afce49d984b0a2f20daf27f1": {
      "model_module": "@jupyter-widgets/controls",
      "model_module_version": "1.4.0",
      "model_name": "ButtonStyleModel",
      "state": {}
     },
     "92179a8e818f47d8bb4573cce465585e": {
      "model_module": "@jupyter-widgets/controls",
      "model_module_version": "1.4.0",
      "model_name": "AccordionModel",
      "state": {
       "_titles": {
        "0": "Escolha da(s) pista(s) de vento"
       },
       "children": [
        "IPY_MODEL_23a197e9e32b4fa886b3f67aa4769694"
       ],
       "layout": "IPY_MODEL_5b6109174fac49bdb051dd5d8d927040"
      }
     },
     "928c293398a149e9b0ac9b6f4e2d37e6": {
      "model_module": "@jupyter-widgets/base",
      "model_module_version": "1.1.0",
      "model_name": "LayoutModel",
      "state": {}
     },
     "92f8e2250a134cb3970c900b349b2aad": {
      "model_module": "@jupyter-widgets/controls",
      "model_module_version": "1.4.0",
      "model_name": "DropdownModel",
      "state": {
       "_options_labels": [
        "Accent",
        "afmhot",
        "autumn",
        "binary",
        "Blues",
        "bone",
        "BrBG",
        "brg",
        "BuGn",
        "BuPu",
        "bwr",
        "CMRmap",
        "cool",
        "coolwarm",
        "copper",
        "cubehelix",
        "Dark2",
        "flag",
        "gist_earth",
        "gist_gray",
        "gist_heat",
        "gist_ncar",
        "gist_rainbow",
        "gist_stern",
        "gist_yarg",
        "GnBu",
        "gnuplot",
        "gnuplot2",
        "gray",
        "Greens",
        "Greys",
        "hot",
        "hsv",
        "inferno",
        "jet",
        "magma",
        "nipy_spectral",
        "ocean",
        "Oranges",
        "OrRd",
        "Paired",
        "Pastel1",
        "Pastel2",
        "pink",
        "PiYG",
        "plasma",
        "PRGn",
        "prism",
        "PuBu",
        "PuBuGn",
        "PuOr",
        "PuRd",
        "Purples",
        "rainbow",
        "RdBu",
        "RdGy",
        "RdPu",
        "RdYlBu",
        "RdYlGn",
        "Reds",
        "seismic",
        "Set1",
        "Set2",
        "Set3",
        "Spectral",
        "spring",
        "summer",
        "tab10",
        "tab20",
        "tab20b",
        "tab20c",
        "terrain",
        "viridis",
        "winter",
        "Wistia",
        "YlGn",
        "YlGnBu",
        "YlOrBr",
        "YlOrRd"
       ],
       "description": "Selecione o esquema de cores desejado para a imagem:",
       "index": 32,
       "layout": "IPY_MODEL_5bf941feee6144a2aaa763846d73693e",
       "style": "IPY_MODEL_42382f5c2a12411c859a37aad73c7cc7"
      }
     },
     "931e0435d3a2433aa851c271124cf2f3": {
      "model_module": "@jupyter-widgets/controls",
      "model_module_version": "1.4.0",
      "model_name": "DescriptionStyleModel",
      "state": {
       "description_width": ""
      }
     },
     "93501c9e9a4f4239b76c0fdfbb135f63": {
      "model_module": "@jupyter-widgets/controls",
      "model_module_version": "1.4.0",
      "model_name": "AccordionModel",
      "state": {
       "_titles": {
        "0": "Método de cálculo para os períodos de ondas",
        "1": "Esquema de cores"
       },
       "children": [
        "IPY_MODEL_35ccdb12e4f3495f8a1919daf0eee4ec",
        "IPY_MODEL_8d6b10ee4b9249a5b3e81aef0535305e"
       ],
       "layout": "IPY_MODEL_ee9caad9fb0f4fef8f2fbcc287f6c79f",
       "selected_index": 1
      }
     },
     "9398fe6212db4cd3bb6b56ee26fa43fc": {
      "model_module": "@jupyter-widgets/controls",
      "model_module_version": "1.4.0",
      "model_name": "ButtonStyleModel",
      "state": {}
     },
     "93b38cdc82ee494aa3ff62cce6a9edbd": {
      "model_module": "@jupyter-widgets/controls",
      "model_module_version": "1.4.0",
      "model_name": "AccordionModel",
      "state": {
       "_titles": {
        "0": "Método de cálculo para os períodos de ondas",
        "1": "Esquema de cores"
       },
       "children": [
        "IPY_MODEL_3c2c27943cd3451aaa83a440a200aee4",
        "IPY_MODEL_7002698cac2a471f89d3da18c53b07f6"
       ],
       "layout": "IPY_MODEL_5df89ac371b744c09772636ea104d86b"
      }
     },
     "948b0d2858e248d0b3eef7a94e6dc611": {
      "model_module": "@jupyter-widgets/controls",
      "model_module_version": "1.4.0",
      "model_name": "ButtonStyleModel",
      "state": {}
     },
     "95485e3af60b4a228a285a58bd81ee0f": {
      "model_module": "@jupyter-widgets/base",
      "model_module_version": "1.1.0",
      "model_name": "LayoutModel",
      "state": {}
     },
     "970e5c05b86044b585f6127489351543": {
      "model_module": "@jupyter-widgets/base",
      "model_module_version": "1.1.0",
      "model_name": "LayoutModel",
      "state": {
       "width": "400px"
      }
     },
     "987321afd1dc450993664c12ff252285": {
      "model_module": "@jupyter-widgets/controls",
      "model_module_version": "1.4.0",
      "model_name": "ButtonModel",
      "state": {
       "description": "Criar projeto",
       "layout": "IPY_MODEL_4a2ed7612e4541f48bb3c6ba94b386d3",
       "style": "IPY_MODEL_c1cfa760d7334a3c8f613790f937df59",
       "tooltip": "Cria um novo projeto"
      }
     },
     "9a0af09c85d243edae85382959f80955": {
      "model_module": "@jupyter-widgets/controls",
      "model_module_version": "1.4.0",
      "model_name": "AccordionModel",
      "state": {
       "_titles": {
        "0": "Duração (h)",
        "1": "Gravidade (m/s²)",
        "2": "Velocidade (m/s)"
       },
       "children": [
        "IPY_MODEL_a36005fe8f014111a559d1563ec44876",
        "IPY_MODEL_8f4364ecf4b144bba99ac6cc1ef99762",
        "IPY_MODEL_52efc58977b94e9190f2643535c11df5"
       ],
       "layout": "IPY_MODEL_229f1c9bdb1f41b1960848479d68b3d1",
       "selected_index": 2
      }
     },
     "9b08f40e9d45430383f1ba60ff4593d5": {
      "model_module": "@jupyter-widgets/controls",
      "model_module_version": "1.4.0",
      "model_name": "DescriptionStyleModel",
      "state": {
       "description_width": ""
      }
     },
     "9bca91cf56bc47e18b47d2b54d453c2b": {
      "model_module": "@jupyter-widgets/controls",
      "model_module_version": "1.4.0",
      "model_name": "DescriptionStyleModel",
      "state": {
       "description_width": ""
      }
     },
     "9c6176324a6843c6b12b00897f759b6d": {
      "model_module": "@jupyter-widgets/controls",
      "model_module_version": "1.4.0",
      "model_name": "FloatTextModel",
      "state": {
       "description": "Velocidade:",
       "layout": "IPY_MODEL_69ffdef8bf224de69a23b566145f0586",
       "step": null,
       "style": "IPY_MODEL_427330f3c6014cd480ad4e373d2c1030",
       "value": 15
      }
     },
     "9c8653efe0ba437c9faa014049d4cdfe": {
      "model_module": "@jupyter-widgets/base",
      "model_module_version": "1.1.0",
      "model_name": "LayoutModel",
      "state": {}
     },
     "9d1146725bec476db95901bd070711ff": {
      "model_module": "@jupyter-widgets/controls",
      "model_module_version": "1.4.0",
      "model_name": "DescriptionStyleModel",
      "state": {
       "description_width": ""
      }
     },
     "9d36e302906e47168f20417823c0e6af": {
      "model_module": "@jupyter-widgets/base",
      "model_module_version": "1.1.0",
      "model_name": "LayoutModel",
      "state": {}
     },
     "9da1e63e0a8849048b0cd25f61aedcf0": {
      "model_module": "@jupyter-widgets/base",
      "model_module_version": "1.1.0",
      "model_name": "LayoutModel",
      "state": {
       "width": "500px"
      }
     },
     "9ed4f7f1cd804bfe93dacd3f8a2a63a3": {
      "model_module": "@jupyter-widgets/controls",
      "model_module_version": "1.4.0",
      "model_name": "AccordionModel",
      "state": {
       "_titles": {
        "0": "Importar .shp de malha processada"
       },
       "children": [
        "IPY_MODEL_ad1e7973f1614c63876317deda8165cc"
       ],
       "layout": "IPY_MODEL_fc49710fe81a4bb79624918e04378517"
      }
     },
     "9ee18dc896f44327ba05b2ceac9c7617": {
      "model_module": "@jupyter-widgets/base",
      "model_module_version": "1.1.0",
      "model_name": "LayoutModel",
      "state": {
       "width": "400px"
      }
     },
     "9f96f025fe5d4fda848142b873c4aecb": {
      "model_module": "@jupyter-widgets/base",
      "model_module_version": "1.1.0",
      "model_name": "LayoutModel",
      "state": {}
     },
     "9fcaa8322b094492a181eb6357a8bac7": {
      "model_module": "@jupyter-widgets/controls",
      "model_module_version": "1.4.0",
      "model_name": "AccordionModel",
      "state": {
       "_titles": {
        "0": "Método de cálculo para as alturas de ondas",
        "1": "Esquema de cores"
       },
       "children": [
        "IPY_MODEL_e2a7b3b7da6a4a04829ba322aa25ba14",
        "IPY_MODEL_1639f43ddf074f81a80176d765595f61"
       ],
       "layout": "IPY_MODEL_434d8029f6a349529bf8553dc7213dd0",
       "selected_index": 1
      }
     },
     "a03a59df92104cfa953d44440af8f98a": {
      "model_module": "@jupyter-widgets/controls",
      "model_module_version": "1.4.0",
      "model_name": "AccordionModel",
      "state": {
       "_titles": {
        "0": "Criar projeto",
        "1": "Importar projeto"
       },
       "children": [
        "IPY_MODEL_d91c828bac0a4c509a645f6fc17633b6",
        "IPY_MODEL_2c39f2281d6840b4909cafb700557f18"
       ],
       "layout": "IPY_MODEL_a6f8d030398f47c88fd2cfd67ae9eacd",
       "selected_index": 1
      }
     },
     "a0543bea6c51442185677d47dd6b8e85": {
      "model_module": "@jupyter-widgets/controls",
      "model_module_version": "1.4.0",
      "model_name": "DescriptionStyleModel",
      "state": {
       "description_width": ""
      }
     },
     "a06f137f410e4d83add42b605f7e2657": {
      "model_module": "@jupyter-widgets/controls",
      "model_module_version": "1.4.0",
      "model_name": "ButtonModel",
      "state": {
       "description": "Importar projeto",
       "layout": "IPY_MODEL_49888a7841df499780953c53d6668031",
       "style": "IPY_MODEL_4543af88617e497d839b072413c59942",
       "tooltip": "Importa o .csv de um projeto já criado"
      }
     },
     "a1d80f0da4064d898fc94b63622a779d": {
      "model_module": "@jupyter-widgets/base",
      "model_module_version": "1.1.0",
      "model_name": "LayoutModel",
      "state": {
       "width": "400px"
      }
     },
     "a254b08afd614b9d81670ccca65a6566": {
      "model_module": "@jupyter-widgets/base",
      "model_module_version": "1.1.0",
      "model_name": "LayoutModel",
      "state": {}
     },
     "a27b2eb7710645698fce5a475a22235d": {
      "model_module": "@jupyter-widgets/controls",
      "model_module_version": "1.4.0",
      "model_name": "DescriptionStyleModel",
      "state": {
       "description_width": "initial"
      }
     },
     "a2b01a83a15c4277b11d7feb7ee441bb": {
      "model_module": "@jupyter-widgets/controls",
      "model_module_version": "1.4.0",
      "model_name": "AccordionModel",
      "state": {
       "_titles": {
        "0": "Importar .shp de malha processada"
       },
       "children": [
        "IPY_MODEL_dea56e58e7b842d587344845442b8e25"
       ],
       "layout": "IPY_MODEL_86cfc06a771746638e09f462cd950ff7"
      }
     },
     "a36005fe8f014111a559d1563ec44876": {
      "model_module": "@jupyter-widgets/controls",
      "model_module_version": "1.4.0",
      "model_name": "FloatTextModel",
      "state": {
       "description": "Duração:",
       "layout": "IPY_MODEL_04aeb54ad36846f6bd78ef837c9d7274",
       "step": null,
       "style": "IPY_MODEL_1afaf8e3f40d4e4e8b339ab7dd417bae",
       "value": 2
      }
     },
     "a37c70afab374a169cf0009a55e0bc5e": {
      "model_module": "@jupyter-widgets/controls",
      "model_module_version": "1.4.0",
      "model_name": "DescriptionStyleModel",
      "state": {
       "description_width": "initial"
      }
     },
     "a398213cbcff4c8d914711fa2fa314f5": {
      "model_module": "@jupyter-widgets/controls",
      "model_module_version": "1.4.0",
      "model_name": "DescriptionStyleModel",
      "state": {
       "description_width": "initial"
      }
     },
     "a46f9651bd714261ab56a231582e79be": {
      "model_module": "@jupyter-widgets/controls",
      "model_module_version": "1.4.0",
      "model_name": "FloatTextModel",
      "state": {
       "description": "Duração:",
       "layout": "IPY_MODEL_ebd9019166fe436a8c930afb65c5243e",
       "step": null,
       "style": "IPY_MODEL_1d59c5683827483cbb72d813fa96a3d8",
       "value": 2
      }
     },
     "a48aac230d63410aab2bdf35186f785d": {
      "model_module": "@jupyter-widgets/controls",
      "model_module_version": "1.4.0",
      "model_name": "FloatTextModel",
      "state": {
       "description": "Gravidade:",
       "layout": "IPY_MODEL_3faf5716f9444f898897900c84c19948",
       "step": null,
       "style": "IPY_MODEL_26391fcab9e9403a817e8b9dd5676759",
       "value": 9.81
      }
     },
     "a57bf9f3894144a78f44cbe1141b61b0": {
      "model_module": "@jupyter-widgets/base",
      "model_module_version": "1.1.0",
      "model_name": "LayoutModel",
      "state": {}
     },
     "a5b1186b5dc74890acfa64ac53c20982": {
      "model_module": "@jupyter-widgets/base",
      "model_module_version": "1.1.0",
      "model_name": "LayoutModel",
      "state": {}
     },
     "a5e59d51fbbe4337a76e3e0627cb5c64": {
      "model_module": "@jupyter-widgets/controls",
      "model_module_version": "1.4.0",
      "model_name": "AccordionModel",
      "state": {
       "_titles": {
        "0": "Método de cálculo para as alturas de ondas",
        "1": "Esquema de cores"
       },
       "children": [
        "IPY_MODEL_55609c68cdc64ddb89b739d31c2490fc",
        "IPY_MODEL_03c0ba21f0c742129b25e273c6e290d4"
       ],
       "layout": "IPY_MODEL_4b20018b15104a8c96750366a0a203bf",
       "selected_index": 1
      }
     },
     "a6f8d030398f47c88fd2cfd67ae9eacd": {
      "model_module": "@jupyter-widgets/base",
      "model_module_version": "1.1.0",
      "model_name": "LayoutModel",
      "state": {}
     },
     "a721322efeaa412f89132b7c34914346": {
      "model_module": "@jupyter-widgets/controls",
      "model_module_version": "1.4.0",
      "model_name": "DescriptionStyleModel",
      "state": {
       "description_width": ""
      }
     },
     "a7cf58e3c8d549f38089f1591d423ec9": {
      "model_module": "@jupyter-widgets/controls",
      "model_module_version": "1.4.0",
      "model_name": "DropdownModel",
      "state": {
       "_options_labels": [
        "JONSWAP",
        "SMB"
       ],
       "description": "Método:",
       "index": 0,
       "layout": "IPY_MODEL_8b8ee483149a47d896b20024f2e38a22",
       "style": "IPY_MODEL_81c53e28958a4663b88609c12dfc0537"
      }
     },
     "a86c0df9a5ea400db669a04ada34fcfa": {
      "model_module": "@jupyter-widgets/base",
      "model_module_version": "1.1.0",
      "model_name": "LayoutModel",
      "state": {}
     },
     "a8c49f2c8a234d21bf539df6879bd865": {
      "model_module": "@jupyter-widgets/controls",
      "model_module_version": "1.4.0",
      "model_name": "ButtonModel",
      "state": {
       "description": "Importar .shp de malha processada",
       "layout": "IPY_MODEL_68ad10994f99400aa8a3abd0c6ec3a85",
       "style": "IPY_MODEL_113cc7813a63414b85109310dcb4a68a",
       "tooltip": "Importa um .shp que já teve sua malha processada"
      }
     },
     "a8dc128d63c447d09bc1aca40b3cf864": {
      "model_module": "@jupyter-widgets/controls",
      "model_module_version": "1.4.0",
      "model_name": "DropdownModel",
      "state": {
       "_options_labels": [
        "JONSWAP"
       ],
       "description": "Método:",
       "index": 0,
       "layout": "IPY_MODEL_8d30ae6c7da548ddb232f9aff4c365b3",
       "style": "IPY_MODEL_75a06971eaac41a9b585a49ae3debd58"
      }
     },
     "a8e1265e4ff54f53834efc96256899fb": {
      "model_module": "@jupyter-widgets/base",
      "model_module_version": "1.1.0",
      "model_name": "LayoutModel",
      "state": {
       "width": "400px"
      }
     },
     "a8fda5623e1442a39b5deb9b60a668ad": {
      "model_module": "@jupyter-widgets/controls",
      "model_module_version": "1.4.0",
      "model_name": "FloatTextModel",
      "state": {
       "description": "Gravidade:",
       "layout": "IPY_MODEL_b8a29df039c3445ab157f75acd20e93c",
       "step": null,
       "style": "IPY_MODEL_1f376cfd8e5047d585e2730a74f23c31",
       "value": 9.81
      }
     },
     "a90189bbf49a4563ae5a54225011aa43": {
      "model_module": "@jupyter-widgets/controls",
      "model_module_version": "1.4.0",
      "model_name": "DescriptionStyleModel",
      "state": {
       "description_width": "initial"
      }
     },
     "a90543763dcd42fb8f9a859727de2274": {
      "model_module": "@jupyter-widgets/controls",
      "model_module_version": "1.4.0",
      "model_name": "DropdownModel",
      "state": {
       "_options_labels": [
        "JONSWAP"
       ],
       "description": "Método:",
       "index": 0,
       "layout": "IPY_MODEL_85e1daa159324f7b9f407357cbbd7d75",
       "style": "IPY_MODEL_5eb85b6338eb47d0b0959306c081870c"
      }
     },
     "a98e3cd5389d4cca8a16ffb9fa1a0b74": {
      "model_module": "@jupyter-widgets/controls",
      "model_module_version": "1.4.0",
      "model_name": "AccordionModel",
      "state": {
       "_titles": {
        "0": "Criar projeto",
        "1": "Importar projeto"
       },
       "children": [
        "IPY_MODEL_987321afd1dc450993664c12ff252285",
        "IPY_MODEL_378ed80c79ef41c6ac762b46753d9d38"
       ],
       "layout": "IPY_MODEL_928c293398a149e9b0ac9b6f4e2d37e6",
       "selected_index": 1
      }
     },
     "a9abd980f13d42e2bb94fa55202fef98": {
      "model_module": "@jupyter-widgets/base",
      "model_module_version": "1.1.0",
      "model_name": "LayoutModel",
      "state": {}
     },
     "aa03cc8fddc94ec799923dbf9b19c1c5": {
      "model_module": "@jupyter-widgets/base",
      "model_module_version": "1.1.0",
      "model_name": "LayoutModel",
      "state": {}
     },
     "aa381f84b3ea43a0a069ca48ff5139e0": {
      "model_module": "@jupyter-widgets/controls",
      "model_module_version": "1.4.0",
      "model_name": "DropdownModel",
      "state": {
       "_options_labels": [
        "Accent",
        "afmhot",
        "autumn",
        "binary",
        "Blues",
        "bone",
        "BrBG",
        "brg",
        "BuGn",
        "BuPu",
        "bwr",
        "CMRmap",
        "cool",
        "coolwarm",
        "copper",
        "cubehelix",
        "Dark2",
        "flag",
        "gist_earth",
        "gist_gray",
        "gist_heat",
        "gist_ncar",
        "gist_rainbow",
        "gist_stern",
        "gist_yarg",
        "GnBu",
        "gnuplot",
        "gnuplot2",
        "gray",
        "Greens",
        "Greys",
        "hot",
        "hsv",
        "inferno",
        "jet",
        "magma",
        "nipy_spectral",
        "ocean",
        "Oranges",
        "OrRd",
        "Paired",
        "Pastel1",
        "Pastel2",
        "pink",
        "PiYG",
        "plasma",
        "PRGn",
        "prism",
        "PuBu",
        "PuBuGn",
        "PuOr",
        "PuRd",
        "Purples",
        "rainbow",
        "RdBu",
        "RdGy",
        "RdPu",
        "RdYlBu",
        "RdYlGn",
        "Reds",
        "seismic",
        "Set1",
        "Set2",
        "Set3",
        "Spectral",
        "spring",
        "summer",
        "tab10",
        "tab20",
        "tab20b",
        "tab20c",
        "terrain",
        "viridis",
        "winter",
        "Wistia",
        "YlGn",
        "YlGnBu",
        "YlOrBr",
        "YlOrRd"
       ],
       "description": "Selecione o esquema de cores desejado para a imagem:",
       "index": 22,
       "layout": "IPY_MODEL_59eccd16ecdf47e3b6c6863c0d01fb0d",
       "style": "IPY_MODEL_c4a4952bdf084da1ad761ceb6a64dac0"
      }
     },
     "aa683dcaaff6479ea4083410b20f4783": {
      "model_module": "@jupyter-widgets/controls",
      "model_module_version": "1.4.0",
      "model_name": "DropdownModel",
      "state": {
       "_options_labels": [
        "Accent",
        "afmhot",
        "autumn",
        "binary",
        "Blues",
        "bone",
        "BrBG",
        "brg",
        "BuGn",
        "BuPu",
        "bwr",
        "CMRmap",
        "cool",
        "coolwarm",
        "copper",
        "cubehelix",
        "Dark2",
        "flag",
        "gist_earth",
        "gist_gray",
        "gist_heat",
        "gist_ncar",
        "gist_rainbow",
        "gist_stern",
        "gist_yarg",
        "GnBu",
        "gnuplot",
        "gnuplot2",
        "gray",
        "Greens",
        "Greys",
        "hot",
        "hsv",
        "inferno",
        "jet",
        "magma",
        "nipy_spectral",
        "ocean",
        "Oranges",
        "OrRd",
        "Paired",
        "Pastel1",
        "Pastel2",
        "pink",
        "PiYG",
        "plasma",
        "PRGn",
        "prism",
        "PuBu",
        "PuBuGn",
        "PuOr",
        "PuRd",
        "Purples",
        "rainbow",
        "RdBu",
        "RdGy",
        "RdPu",
        "RdYlBu",
        "RdYlGn",
        "Reds",
        "seismic",
        "Set1",
        "Set2",
        "Set3",
        "Spectral",
        "spring",
        "summer",
        "tab10",
        "tab20",
        "tab20b",
        "tab20c",
        "terrain",
        "viridis",
        "winter",
        "Wistia",
        "YlGn",
        "YlGnBu",
        "YlOrBr",
        "YlOrRd"
       ],
       "description": "Selecione o esquema de cores desejado para a imagem:",
       "index": 32,
       "layout": "IPY_MODEL_c93f68b96d0249f693406b9915d4a025",
       "style": "IPY_MODEL_2d89084186d641d6bdcb59502c73b8d5"
      }
     },
     "aab87f3c081a444694887ba066076f04": {
      "model_module": "@jupyter-widgets/controls",
      "model_module_version": "1.4.0",
      "model_name": "AccordionModel",
      "state": {
       "_titles": {
        "0": "Método de cálculo para as energias de ondas",
        "1": "Esquema de cores"
       },
       "children": [
        "IPY_MODEL_ea02182606ab49b0b5ebf27845f4f5cc",
        "IPY_MODEL_1ba1cfdbcb3a4f5ca0bce465f36bcb89"
       ],
       "layout": "IPY_MODEL_a57bf9f3894144a78f44cbe1141b61b0",
       "selected_index": 1
      }
     },
     "ab3505aeb5a946778f0310e01c31f3b0": {
      "model_module": "@jupyter-widgets/controls",
      "model_module_version": "1.4.0",
      "model_name": "DescriptionStyleModel",
      "state": {
       "description_width": ""
      }
     },
     "ab38b38b4e2741c08667aa5856c1a205": {
      "model_module": "@jupyter-widgets/base",
      "model_module_version": "1.1.0",
      "model_name": "LayoutModel",
      "state": {
       "width": "500px"
      }
     },
     "ab442e503cb24f589c714808e3478691": {
      "model_module": "@jupyter-widgets/controls",
      "model_module_version": "1.4.0",
      "model_name": "AccordionModel",
      "state": {
       "_titles": {
        "0": "Duração (h)",
        "1": "Gravidade (m/s²)",
        "2": "Velocidade (m/s)"
       },
       "children": [
        "IPY_MODEL_a46f9651bd714261ab56a231582e79be",
        "IPY_MODEL_0989d72950614b8aa17b7f314890fd9b",
        "IPY_MODEL_1386b38bddaf45e49b1e289fd344fd52"
       ],
       "layout": "IPY_MODEL_111cc4578123440588726393121e6d29",
       "selected_index": 2
      }
     },
     "abc08a4a3c6d4a78b8105c175c752e97": {
      "model_module": "@jupyter-widgets/controls",
      "model_module_version": "1.4.0",
      "model_name": "AccordionModel",
      "state": {
       "_titles": {
        "0": "Duração (h)",
        "1": "Gravidade (m/s²)",
        "2": "Velocidade (m/s)"
       },
       "children": [
        "IPY_MODEL_e9c457486e16442dbc30b23776c036f1",
        "IPY_MODEL_4f26825285f442339734cb20c6ad43fd",
        "IPY_MODEL_3e8369dad51444d2aaa85afe6aa6081f"
       ],
       "layout": "IPY_MODEL_48393c3638df4562b5337ffe022f8ec0",
       "selected_index": 2
      }
     },
     "ac11e485d7fd4ac5b70b4065fe1379c3": {
      "model_module": "@jupyter-widgets/base",
      "model_module_version": "1.1.0",
      "model_name": "LayoutModel",
      "state": {
       "width": "30%"
      }
     },
     "ac172c62911f439c8df5b429c15be42d": {
      "model_module": "@jupyter-widgets/controls",
      "model_module_version": "1.4.0",
      "model_name": "TabModel",
      "state": {
       "_titles": {
        "0": "Projetos",
        "1": "Shapefiles"
       },
       "children": [
        "IPY_MODEL_a98e3cd5389d4cca8a16ffb9fa1a0b74",
        "IPY_MODEL_9ed4f7f1cd804bfe93dacd3f8a2a63a3"
       ],
       "layout": "IPY_MODEL_7410faa7093a4118a7d6b42d841b1032",
       "selected_index": 1
      }
     },
     "ac1adbad11dd419eb497c59694105fc0": {
      "model_module": "@jupyter-widgets/base",
      "model_module_version": "1.1.0",
      "model_name": "LayoutModel",
      "state": {}
     },
     "ac477cbef4d74f328711b776b937267f": {
      "model_module": "@jupyter-widgets/controls",
      "model_module_version": "1.4.0",
      "model_name": "DropdownModel",
      "state": {
       "_options_labels": [
        "Accent",
        "afmhot",
        "autumn",
        "binary",
        "Blues",
        "bone",
        "BrBG",
        "brg",
        "BuGn",
        "BuPu",
        "bwr",
        "CMRmap",
        "cool",
        "coolwarm",
        "copper",
        "cubehelix",
        "Dark2",
        "flag",
        "gist_earth",
        "gist_gray",
        "gist_heat",
        "gist_ncar",
        "gist_rainbow",
        "gist_stern",
        "gist_yarg",
        "GnBu",
        "gnuplot",
        "gnuplot2",
        "gray",
        "Greens",
        "Greys",
        "hot",
        "hsv",
        "inferno",
        "jet",
        "magma",
        "nipy_spectral",
        "ocean",
        "Oranges",
        "OrRd",
        "Paired",
        "Pastel1",
        "Pastel2",
        "pink",
        "PiYG",
        "plasma",
        "PRGn",
        "prism",
        "PuBu",
        "PuBuGn",
        "PuOr",
        "PuRd",
        "Purples",
        "rainbow",
        "RdBu",
        "RdGy",
        "RdPu",
        "RdYlBu",
        "RdYlGn",
        "Reds",
        "seismic",
        "Set1",
        "Set2",
        "Set3",
        "Spectral",
        "spring",
        "summer",
        "tab10",
        "tab20",
        "tab20b",
        "tab20c",
        "terrain",
        "viridis",
        "winter",
        "Wistia",
        "YlGn",
        "YlGnBu",
        "YlOrBr",
        "YlOrRd"
       ],
       "description": "Selecione o esquema de cores desejado para a imagem:",
       "index": 32,
       "layout": "IPY_MODEL_e37f45c033fc44d3b29915a2089685c2",
       "style": "IPY_MODEL_d8baeafd96bd4f848c5b785a09192f19"
      }
     },
     "ac8bafcd63d145fc88fe53714ba8999e": {
      "model_module": "@jupyter-widgets/controls",
      "model_module_version": "1.4.0",
      "model_name": "DropdownModel",
      "state": {
       "_options_labels": [
        "Accent",
        "afmhot",
        "autumn",
        "binary",
        "Blues",
        "bone",
        "BrBG",
        "brg",
        "BuGn",
        "BuPu",
        "bwr",
        "CMRmap",
        "cool",
        "coolwarm",
        "copper",
        "cubehelix",
        "Dark2",
        "flag",
        "gist_earth",
        "gist_gray",
        "gist_heat",
        "gist_ncar",
        "gist_rainbow",
        "gist_stern",
        "gist_yarg",
        "GnBu",
        "gnuplot",
        "gnuplot2",
        "gray",
        "Greens",
        "Greys",
        "hot",
        "hsv",
        "inferno",
        "jet",
        "magma",
        "nipy_spectral",
        "ocean",
        "Oranges",
        "OrRd",
        "Paired",
        "Pastel1",
        "Pastel2",
        "pink",
        "PiYG",
        "plasma",
        "PRGn",
        "prism",
        "PuBu",
        "PuBuGn",
        "PuOr",
        "PuRd",
        "Purples",
        "rainbow",
        "RdBu",
        "RdGy",
        "RdPu",
        "RdYlBu",
        "RdYlGn",
        "Reds",
        "seismic",
        "Set1",
        "Set2",
        "Set3",
        "Spectral",
        "spring",
        "summer",
        "tab10",
        "tab20",
        "tab20b",
        "tab20c",
        "terrain",
        "viridis",
        "winter",
        "Wistia",
        "YlGn",
        "YlGnBu",
        "YlOrBr",
        "YlOrRd"
       ],
       "description": "Selecione o esquema de cores desejado para a imagem:",
       "index": 32,
       "layout": "IPY_MODEL_2f2c45ec733b4bd7aa5f6be93428f1df",
       "style": "IPY_MODEL_8b82f1a7bd674e4bb64410e48e422b40"
      }
     },
     "ace6860af7c14020b341a04a6b74870e": {
      "model_module": "@jupyter-widgets/controls",
      "model_module_version": "1.4.0",
      "model_name": "AccordionModel",
      "state": {
       "_titles": {
        "0": "Método de cálculo para os períodos de ondas",
        "1": "Esquema de cores"
       },
       "children": [
        "IPY_MODEL_a7cf58e3c8d549f38089f1591d423ec9",
        "IPY_MODEL_700a1bd16bd6442db456851ad086d2eb"
       ],
       "layout": "IPY_MODEL_fb48d51eabe143da902e7e9c4951b2c7",
       "selected_index": 1
      }
     },
     "ad1e7973f1614c63876317deda8165cc": {
      "model_module": "@jupyter-widgets/controls",
      "model_module_version": "1.4.0",
      "model_name": "ButtonModel",
      "state": {
       "description": "Importar .shp de malha processada",
       "layout": "IPY_MODEL_dc2742a3863448ffa3f40fab9c0e844f",
       "style": "IPY_MODEL_7d64df9c0b3c4950b9e4ca8a12c65da6",
       "tooltip": "Importa um .shp que teve sua malha processada"
      }
     },
     "ae1941ed658b47beb2c3a79813a8fe8c": {
      "model_module": "@jupyter-widgets/controls",
      "model_module_version": "1.4.0",
      "model_name": "ButtonStyleModel",
      "state": {}
     },
     "ae895682de19423f91706a08364aac2a": {
      "model_module": "@jupyter-widgets/controls",
      "model_module_version": "1.4.0",
      "model_name": "TabModel",
      "state": {
       "_titles": {
        "0": "Projetos",
        "1": "Shapefiles"
       },
       "children": [
        "IPY_MODEL_4c4888dbec4647cf87d69d5ca333fae3",
        "IPY_MODEL_027e6bc528ec44a18719b009d0415b66"
       ],
       "layout": "IPY_MODEL_4a4aef76080346b2a02b7801a0ca63ad",
       "selected_index": 1
      }
     },
     "ae8a406f849146c6ae8acfab0efe30f2": {
      "model_module": "@jupyter-widgets/base",
      "model_module_version": "1.1.0",
      "model_name": "LayoutModel",
      "state": {}
     },
     "aedd0d31c61d42c1816dcb328f86946f": {
      "model_module": "@jupyter-widgets/controls",
      "model_module_version": "1.4.0",
      "model_name": "AccordionModel",
      "state": {
       "_titles": {
        "0": "Criar projeto",
        "1": "Importar projeto"
       },
       "children": [
        "IPY_MODEL_205e8611e3124333a9dd09e3abeb5891",
        "IPY_MODEL_358eb8908f35436fa1ae444d9d382684"
       ],
       "layout": "IPY_MODEL_e4db4bfcab7d42d1bc2ee7a0d083df5d"
      }
     },
     "aee3a2a19a414dff973e07a37a367a85": {
      "model_module": "@jupyter-widgets/controls",
      "model_module_version": "1.4.0",
      "model_name": "DescriptionStyleModel",
      "state": {
       "description_width": "initial"
      }
     },
     "af1376de61514bd6aec1da4e8291f577": {
      "model_module": "@jupyter-widgets/base",
      "model_module_version": "1.1.0",
      "model_name": "LayoutModel",
      "state": {
       "width": "400px"
      }
     },
     "af608a8f32f8408da8d40776a8776671": {
      "model_module": "@jupyter-widgets/base",
      "model_module_version": "1.1.0",
      "model_name": "LayoutModel",
      "state": {
       "width": "500px"
      }
     },
     "af65836a50bd4c9690fa84721f45a891": {
      "model_module": "@jupyter-widgets/controls",
      "model_module_version": "1.4.0",
      "model_name": "DropdownModel",
      "state": {
       "_options_labels": [
        "Accent",
        "afmhot",
        "autumn",
        "binary",
        "Blues",
        "bone",
        "BrBG",
        "brg",
        "BuGn",
        "BuPu",
        "bwr",
        "CMRmap",
        "cool",
        "coolwarm",
        "copper",
        "cubehelix",
        "Dark2",
        "flag",
        "gist_earth",
        "gist_gray",
        "gist_heat",
        "gist_ncar",
        "gist_rainbow",
        "gist_stern",
        "gist_yarg",
        "GnBu",
        "gnuplot",
        "gnuplot2",
        "gray",
        "Greens",
        "Greys",
        "hot",
        "hsv",
        "inferno",
        "jet",
        "magma",
        "nipy_spectral",
        "ocean",
        "Oranges",
        "OrRd",
        "Paired",
        "Pastel1",
        "Pastel2",
        "pink",
        "PiYG",
        "plasma",
        "PRGn",
        "prism",
        "PuBu",
        "PuBuGn",
        "PuOr",
        "PuRd",
        "Purples",
        "rainbow",
        "RdBu",
        "RdGy",
        "RdPu",
        "RdYlBu",
        "RdYlGn",
        "Reds",
        "seismic",
        "Set1",
        "Set2",
        "Set3",
        "Spectral",
        "spring",
        "summer",
        "tab10",
        "tab20",
        "tab20b",
        "tab20c",
        "terrain",
        "viridis",
        "winter",
        "Wistia",
        "YlGn",
        "YlGnBu",
        "YlOrBr",
        "YlOrRd"
       ],
       "description": "Selecione o esquema de cores desejado para a imagem:",
       "index": 32,
       "layout": "IPY_MODEL_b8a60dd5c2b146e5ad1a19a00d7b1c67",
       "style": "IPY_MODEL_bc3b514a64514a23a3329aba6303e2a4"
      }
     },
     "b050084e8fbe420ba8b70daf9c077fa1": {
      "model_module": "@jupyter-widgets/controls",
      "model_module_version": "1.4.0",
      "model_name": "FloatTextModel",
      "state": {
       "description": "Duração:",
       "layout": "IPY_MODEL_731c3f4e5d624b37b8ed491775b1ec3c",
       "step": null,
       "style": "IPY_MODEL_6553049381704b7fb11627d72d8472f3",
       "value": 2
      }
     },
     "b05f27e49a554236a0b46425943042d6": {
      "model_module": "@jupyter-widgets/controls",
      "model_module_version": "1.4.0",
      "model_name": "DescriptionStyleModel",
      "state": {
       "description_width": "initial"
      }
     },
     "b0a86606c8c348788da315f01aff887a": {
      "model_module": "@jupyter-widgets/base",
      "model_module_version": "1.1.0",
      "model_name": "LayoutModel",
      "state": {
       "width": "30%"
      }
     },
     "b0fdd355df704da38ff9db0f977c763f": {
      "model_module": "@jupyter-widgets/controls",
      "model_module_version": "1.4.0",
      "model_name": "AccordionModel",
      "state": {
       "_titles": {
        "0": "Método de cálculo para as energias de ondas",
        "1": "Esquema de cores"
       },
       "children": [
        "IPY_MODEL_4b139ce1f59a410b916730c5205fa88c",
        "IPY_MODEL_3c658d7d1c974c19b0022174af9382e2"
       ],
       "layout": "IPY_MODEL_0ea2115ed596431db968f4982bf495a1"
      }
     },
     "b1b7fc87d37b4a738282af6d9699fb3c": {
      "model_module": "@jupyter-widgets/controls",
      "model_module_version": "1.4.0",
      "model_name": "DescriptionStyleModel",
      "state": {
       "description_width": "initial"
      }
     },
     "b1fc46cb60e7461d952886ef4e4c68a9": {
      "model_module": "@jupyter-widgets/controls",
      "model_module_version": "1.4.0",
      "model_name": "AccordionModel",
      "state": {
       "_titles": {
        "0": "Escolha da(s) pista(s) de vento"
       },
       "children": [
        "IPY_MODEL_0dc144da47294c89b783e5a19c2e0aa7"
       ],
       "layout": "IPY_MODEL_0d5568e3cb2f4756b4c8827140d032b6"
      }
     },
     "b23db793830c4e2ea69758cba27bc717": {
      "model_module": "@jupyter-widgets/controls",
      "model_module_version": "1.4.0",
      "model_name": "ButtonStyleModel",
      "state": {}
     },
     "b25d5edfb0e545ba99e9e49c94b5f717": {
      "model_module": "@jupyter-widgets/base",
      "model_module_version": "1.1.0",
      "model_name": "LayoutModel",
      "state": {
       "width": "30%"
      }
     },
     "b26b350c57ff46ba97a613e7e579555c": {
      "model_module": "@jupyter-widgets/base",
      "model_module_version": "1.1.0",
      "model_name": "LayoutModel",
      "state": {}
     },
     "b2e01d14c5f44f638e293b27c711e4bd": {
      "model_module": "@jupyter-widgets/base",
      "model_module_version": "1.1.0",
      "model_name": "LayoutModel",
      "state": {}
     },
     "b36f1eccfef3476f80faced50c8af4e6": {
      "model_module": "@jupyter-widgets/base",
      "model_module_version": "1.1.0",
      "model_name": "LayoutModel",
      "state": {
       "width": "400px"
      }
     },
     "b3d3fe09dab44b50a4a67bd2a34ad4a6": {
      "model_module": "@jupyter-widgets/controls",
      "model_module_version": "1.4.0",
      "model_name": "TabModel",
      "state": {
       "_titles": {
        "0": "Projetos",
        "1": "Shapefiles"
       },
       "children": [
        "IPY_MODEL_0cf5b4079c4f4519af3f6e356f6fa601",
        "IPY_MODEL_7445cb83ea9040e1819a04aaa406d628"
       ],
       "layout": "IPY_MODEL_3be17d4126984899a882a4fba9bc0814",
       "selected_index": 1
      }
     },
     "b424b1f3decd4cab9a0014a8996f880d": {
      "model_module": "@jupyter-widgets/base",
      "model_module_version": "1.1.0",
      "model_name": "LayoutModel",
      "state": {}
     },
     "b4b4ce4e950c4e45a3d5aa534635c067": {
      "model_module": "@jupyter-widgets/controls",
      "model_module_version": "1.4.0",
      "model_name": "ButtonModel",
      "state": {
       "description": "Criar projeto",
       "layout": "IPY_MODEL_1ebdf0dca2394a6980f5a6eb7fdd9dfd",
       "style": "IPY_MODEL_f71cb51d312443928e8e3e4e1d7426b2",
       "tooltip": "Cria um novo projeto"
      }
     },
     "b6512ae5ea444bb5bdc5facb88c89773": {
      "model_module": "@jupyter-widgets/base",
      "model_module_version": "1.1.0",
      "model_name": "LayoutModel",
      "state": {
       "width": "400px"
      }
     },
     "b6d72997b075403c962baa2ad3e9d7b4": {
      "model_module": "@jupyter-widgets/controls",
      "model_module_version": "1.4.0",
      "model_name": "DescriptionStyleModel",
      "state": {
       "description_width": "initial"
      }
     },
     "b6ddaee7058b458cb411aa2b364d4f6b": {
      "model_module": "@jupyter-widgets/controls",
      "model_module_version": "1.4.0",
      "model_name": "AccordionModel",
      "state": {
       "_titles": {
        "0": "Criar projeto",
        "1": "Importar projeto"
       },
       "children": [
        "IPY_MODEL_8c22f239990a4662a0a4bf524ff18f73",
        "IPY_MODEL_7a45d008d6944907a5ae515c1c60fe50"
       ],
       "layout": "IPY_MODEL_021fd37a2d0841dc94e9e3a64c8f452b",
       "selected_index": 1
      }
     },
     "b8950d5edc3d42729668765e564ce5b7": {
      "model_module": "@jupyter-widgets/base",
      "model_module_version": "1.1.0",
      "model_name": "LayoutModel",
      "state": {}
     },
     "b8a29df039c3445ab157f75acd20e93c": {
      "model_module": "@jupyter-widgets/base",
      "model_module_version": "1.1.0",
      "model_name": "LayoutModel",
      "state": {}
     },
     "b8a60dd5c2b146e5ad1a19a00d7b1c67": {
      "model_module": "@jupyter-widgets/base",
      "model_module_version": "1.1.0",
      "model_name": "LayoutModel",
      "state": {
       "width": "500px"
      }
     },
     "b9e19f248a2c40879f557cc6616f1210": {
      "model_module": "@jupyter-widgets/base",
      "model_module_version": "1.1.0",
      "model_name": "LayoutModel",
      "state": {}
     },
     "ba46c139567d4a91aadd8aaabcfaad3b": {
      "model_module": "@jupyter-widgets/controls",
      "model_module_version": "1.4.0",
      "model_name": "DropdownModel",
      "state": {
       "_options_labels": [
        "JONSWAP",
        "SMB"
       ],
       "description": "Método:",
       "index": 0,
       "layout": "IPY_MODEL_111cac14a9174af597fa9dfd9916272c",
       "style": "IPY_MODEL_a37c70afab374a169cf0009a55e0bc5e"
      }
     },
     "babe6ff6a8674431b4b7ab5f0991356b": {
      "model_module": "@jupyter-widgets/base",
      "model_module_version": "1.1.0",
      "model_name": "LayoutModel",
      "state": {
       "width": "500px"
      }
     },
     "bacea3f1a38948e0982fb5e56cbf7263": {
      "model_module": "@jupyter-widgets/controls",
      "model_module_version": "1.4.0",
      "model_name": "TabModel",
      "state": {
       "_titles": {
        "0": "Projetos",
        "1": "Shapefiles"
       },
       "children": [
        "IPY_MODEL_aedd0d31c61d42c1816dcb328f86946f",
        "IPY_MODEL_e1fa7077893a4ee68136763a3701da5a"
       ],
       "layout": "IPY_MODEL_85af6a31d1844a52b2f644cfbf0fe7a4"
      }
     },
     "bb3dbca5fb524230ae2525e26ba7578d": {
      "model_module": "@jupyter-widgets/controls",
      "model_module_version": "1.4.0",
      "model_name": "DescriptionStyleModel",
      "state": {
       "description_width": "initial"
      }
     },
     "bb9e4b1403f04cabb717ee88bbc25593": {
      "model_module": "@jupyter-widgets/base",
      "model_module_version": "1.1.0",
      "model_name": "LayoutModel",
      "state": {}
     },
     "bc3b514a64514a23a3329aba6303e2a4": {
      "model_module": "@jupyter-widgets/controls",
      "model_module_version": "1.4.0",
      "model_name": "DescriptionStyleModel",
      "state": {
       "description_width": "initial"
      }
     },
     "bc3be3c10f464ecb8d59c966cc9b2fbe": {
      "model_module": "@jupyter-widgets/controls",
      "model_module_version": "1.4.0",
      "model_name": "DescriptionStyleModel",
      "state": {
       "description_width": "initial"
      }
     },
     "bcb137a0afc6448d8ea26b911767a7f9": {
      "model_module": "@jupyter-widgets/controls",
      "model_module_version": "1.4.0",
      "model_name": "DescriptionStyleModel",
      "state": {
       "description_width": "initial"
      }
     },
     "bcc31c8eef86495087ab8e55cf6b4fb9": {
      "model_module": "@jupyter-widgets/base",
      "model_module_version": "1.1.0",
      "model_name": "LayoutModel",
      "state": {}
     },
     "bd0eb2b4515849e08b3e9d467bedd483": {
      "model_module": "@jupyter-widgets/controls",
      "model_module_version": "1.4.0",
      "model_name": "ButtonStyleModel",
      "state": {}
     },
     "bd9098cc44f84279a5d13217db07c48c": {
      "model_module": "@jupyter-widgets/base",
      "model_module_version": "1.1.0",
      "model_name": "LayoutModel",
      "state": {
       "width": "400px"
      }
     },
     "bdd1911dbe47483fb15eb8c76336a7ef": {
      "model_module": "@jupyter-widgets/base",
      "model_module_version": "1.1.0",
      "model_name": "LayoutModel",
      "state": {}
     },
     "be8bab05fb474d6eadba6200e7266736": {
      "model_module": "@jupyter-widgets/controls",
      "model_module_version": "1.4.0",
      "model_name": "AccordionModel",
      "state": {
       "_titles": {
        "0": "Importar .shp de malha processada"
       },
       "children": [
        "IPY_MODEL_16fb15e75eaa4076b13beb635866cfef"
       ],
       "layout": "IPY_MODEL_0b24365255f04535b1bd53e60a83576d"
      }
     },
     "bf0cf50efa6f424691c1de05ab7aa213": {
      "model_module": "@jupyter-widgets/base",
      "model_module_version": "1.1.0",
      "model_name": "LayoutModel",
      "state": {}
     },
     "bff139e91d21429bb402e1a42c0347ad": {
      "model_module": "@jupyter-widgets/controls",
      "model_module_version": "1.4.0",
      "model_name": "DescriptionStyleModel",
      "state": {
       "description_width": ""
      }
     },
     "c062d61f1f4b4972b1e16f588669a6c6": {
      "model_module": "@jupyter-widgets/controls",
      "model_module_version": "1.4.0",
      "model_name": "DropdownModel",
      "state": {
       "_options_labels": [
        "SMB"
       ],
       "description": "Método:",
       "index": 0,
       "layout": "IPY_MODEL_b6512ae5ea444bb5bdc5facb88c89773",
       "style": "IPY_MODEL_7cd5b135279f4454b32c211e77079d8a"
      }
     },
     "c0ec778cd0ec405d910c747bd7781de7": {
      "model_module": "@jupyter-widgets/controls",
      "model_module_version": "1.4.0",
      "model_name": "AccordionModel",
      "state": {
       "_titles": {
        "0": "Escolha da(s) pista(s) de vento"
       },
       "children": [
        "IPY_MODEL_5527d71f24bb43fb9700ee295f9b5dad"
       ],
       "layout": "IPY_MODEL_fbd8663144f14874bc78c9bdb30be022"
      }
     },
     "c150bb111a2f47f696f1c07dd62396f3": {
      "model_module": "@jupyter-widgets/controls",
      "model_module_version": "1.4.0",
      "model_name": "DescriptionStyleModel",
      "state": {
       "description_width": ""
      }
     },
     "c1cfa760d7334a3c8f613790f937df59": {
      "model_module": "@jupyter-widgets/controls",
      "model_module_version": "1.4.0",
      "model_name": "ButtonStyleModel",
      "state": {}
     },
     "c1f2a0d318cb4afcb0a6f0e79b737f64": {
      "model_module": "@jupyter-widgets/controls",
      "model_module_version": "1.4.0",
      "model_name": "AccordionModel",
      "state": {
       "_titles": {
        "0": "Criar projeto",
        "1": "Importar projeto"
       },
       "children": [
        "IPY_MODEL_6c2d19088e6f4decb8f8f1fb42421fb4",
        "IPY_MODEL_c6f4c32534864491b8d4ef6660c942ea"
       ],
       "layout": "IPY_MODEL_bb9e4b1403f04cabb717ee88bbc25593"
      }
     },
     "c23ee5feeb854af1a8c7ee3f52604d97": {
      "model_module": "@jupyter-widgets/controls",
      "model_module_version": "1.4.0",
      "model_name": "DescriptionStyleModel",
      "state": {
       "description_width": "initial"
      }
     },
     "c407a7351cfb49de86d8cdf62e6ca0c5": {
      "model_module": "@jupyter-widgets/controls",
      "model_module_version": "1.4.0",
      "model_name": "TabModel",
      "state": {
       "_titles": {
        "0": "Projetos",
        "1": "Shapefiles"
       },
       "children": [
        "IPY_MODEL_c1f2a0d318cb4afcb0a6f0e79b737f64",
        "IPY_MODEL_10c6702100714d4ca452800c2405dae3"
       ],
       "layout": "IPY_MODEL_42bc4c21446d45bea910c7da09d86437"
      }
     },
     "c4a490ae1b6f49a4bd049f3f13dd4eb7": {
      "model_module": "@jupyter-widgets/base",
      "model_module_version": "1.1.0",
      "model_name": "LayoutModel",
      "state": {}
     },
     "c4a4952bdf084da1ad761ceb6a64dac0": {
      "model_module": "@jupyter-widgets/controls",
      "model_module_version": "1.4.0",
      "model_name": "DescriptionStyleModel",
      "state": {
       "description_width": "initial"
      }
     },
     "c4aba1f323a348719a58f1298fc17821": {
      "model_module": "@jupyter-widgets/controls",
      "model_module_version": "1.4.0",
      "model_name": "TabModel",
      "state": {
       "_titles": {
        "0": "Projetos",
        "1": "Shapefiles"
       },
       "children": [
        "IPY_MODEL_a03a59df92104cfa953d44440af8f98a",
        "IPY_MODEL_246e88975eaf41418b65a4f366744de5"
       ],
       "layout": "IPY_MODEL_66342bedd6714d4a82aeb4c2bfe1b8f0",
       "selected_index": 1
      }
     },
     "c506a9d2a2fc4c53be7f18bd72ca0b4b": {
      "model_module": "@jupyter-widgets/base",
      "model_module_version": "1.1.0",
      "model_name": "LayoutModel",
      "state": {
       "width": "400px"
      }
     },
     "c509025ba9364c9c9d67a2c74f0b2d62": {
      "model_module": "@jupyter-widgets/controls",
      "model_module_version": "1.4.0",
      "model_name": "DescriptionStyleModel",
      "state": {
       "description_width": "initial"
      }
     },
     "c58dbf61f0bc4346baf2bb330ec70fcb": {
      "model_module": "@jupyter-widgets/controls",
      "model_module_version": "1.4.0",
      "model_name": "ButtonStyleModel",
      "state": {}
     },
     "c5e5f2f5cedc4d2496cd1b6e0a362aa4": {
      "model_module": "@jupyter-widgets/base",
      "model_module_version": "1.1.0",
      "model_name": "LayoutModel",
      "state": {}
     },
     "c6317b6cf6f54d2abeb05c3861b7e874": {
      "model_module": "@jupyter-widgets/controls",
      "model_module_version": "1.4.0",
      "model_name": "DescriptionStyleModel",
      "state": {
       "description_width": "initial"
      }
     },
     "c63bdb1f2cef40a68e8f7553b3038168": {
      "model_module": "@jupyter-widgets/controls",
      "model_module_version": "1.4.0",
      "model_name": "DescriptionStyleModel",
      "state": {
       "description_width": ""
      }
     },
     "c683c3e6c8b74d5d8ac661c632ee926e": {
      "model_module": "@jupyter-widgets/controls",
      "model_module_version": "1.4.0",
      "model_name": "TabModel",
      "state": {
       "_titles": {
        "0": "Pistas de Vento",
        "1": "Variáveis de Ventos",
        "2": "Alturas de Ondas",
        "3": "Períodos de Ondas",
        "4": "Energias de Ondas"
       },
       "children": [
        "IPY_MODEL_eca34d85d16b4363b20383b6bcf8cf85",
        "IPY_MODEL_4517045cc4c040ca868e6fb5a489043b",
        "IPY_MODEL_762d3888694440318f4118b3a79fb53c",
        "IPY_MODEL_ace6860af7c14020b341a04a6b74870e",
        "IPY_MODEL_6938f2fa3abd4bde83f1be879f7e3fd3"
       ],
       "layout": "IPY_MODEL_bcc31c8eef86495087ab8e55cf6b4fb9",
       "selected_index": 4
      }
     },
     "c6f4c32534864491b8d4ef6660c942ea": {
      "model_module": "@jupyter-widgets/controls",
      "model_module_version": "1.4.0",
      "model_name": "ButtonModel",
      "state": {
       "description": "Importar projeto",
       "layout": "IPY_MODEL_33ef3a29d9ad4eac83b64cdd9bab66d8",
       "style": "IPY_MODEL_377345d721744183b1d6b0b2d43a26d3",
       "tooltip": "Importa o .csv de um projeto já criado"
      }
     },
     "c733cee1cd9f47639f879b3b3f0264e4": {
      "model_module": "@jupyter-widgets/controls",
      "model_module_version": "1.4.0",
      "model_name": "SelectMultipleModel",
      "state": {
       "_options_labels": [
        "0.0°",
        "22.5°",
        "45.0°",
        "67.5°",
        "90.0°",
        "112.5°",
        "135.0°",
        "157.5°",
        "180.0°",
        "202.5°",
        "225.0°",
        "247.5°",
        "270.0°",
        "292.5°",
        "315.0°",
        "337.5°"
       ],
       "index": [
        0,
        1,
        2,
        3,
        4,
        5,
        6,
        7,
        8,
        9,
        10,
        11,
        12,
        13,
        14,
        15
       ],
       "layout": "IPY_MODEL_41b01415506348c79bcdb7d6e8b2f890",
       "rows": 5,
       "style": "IPY_MODEL_35dcce1a1a894782adc969a7735234ff"
      }
     },
     "c88403369ddc483699f74d68b23441e2": {
      "model_module": "@jupyter-widgets/base",
      "model_module_version": "1.1.0",
      "model_name": "LayoutModel",
      "state": {
       "width": "500px"
      }
     },
     "c93f68b96d0249f693406b9915d4a025": {
      "model_module": "@jupyter-widgets/base",
      "model_module_version": "1.1.0",
      "model_name": "LayoutModel",
      "state": {
       "width": "500px"
      }
     },
     "c97df676aa0d45e7be3967309cec7dcc": {
      "model_module": "@jupyter-widgets/controls",
      "model_module_version": "1.4.0",
      "model_name": "SelectModel",
      "state": {
       "_options_labels": [
        "0.0°",
        "90.0°",
        "180.0°",
        "270.0°"
       ],
       "description": "Direção (°):",
       "index": 3,
       "layout": "IPY_MODEL_79aeaec065b448a298c6aa69b2154f8f",
       "style": "IPY_MODEL_38de7c4133eb4f9ea836d0104e2c554d"
      }
     },
     "ca2c974fdbab40ff816b9c3f6dc5a6e3": {
      "model_module": "@jupyter-widgets/controls",
      "model_module_version": "1.4.0",
      "model_name": "DescriptionStyleModel",
      "state": {
       "description_width": ""
      }
     },
     "cc590e2c57a44cf397f8ee0f18b8d69d": {
      "model_module": "@jupyter-widgets/controls",
      "model_module_version": "1.4.0",
      "model_name": "DescriptionStyleModel",
      "state": {
       "description_width": ""
      }
     },
     "cd15c479c6894f32bf8fffdaab6c046e": {
      "model_module": "@jupyter-widgets/controls",
      "model_module_version": "1.4.0",
      "model_name": "AccordionModel",
      "state": {
       "_titles": {
        "0": "Método de cálculo para as energias de ondas",
        "1": "Esquema de cores"
       },
       "children": [
        "IPY_MODEL_0df1d9de1cab4d2ca21879749cf5581a",
        "IPY_MODEL_5ff25a0b204a4496a74b9cc2eeafa212"
       ],
       "layout": "IPY_MODEL_ec067c9482dc42209025151c76423ac4",
       "selected_index": 1
      }
     },
     "cd49211a254540d9887248cdc3d8471c": {
      "model_module": "@jupyter-widgets/base",
      "model_module_version": "1.1.0",
      "model_name": "LayoutModel",
      "state": {}
     },
     "cd7afd0fef83443f81c552f65267950e": {
      "model_module": "@jupyter-widgets/controls",
      "model_module_version": "1.4.0",
      "model_name": "AccordionModel",
      "state": {
       "_titles": {
        "0": "Método de cálculo para as alturas de ondas",
        "1": "Esquema de cores"
       },
       "children": [
        "IPY_MODEL_302f18c6073d44cebebee4c16957a451",
        "IPY_MODEL_6f3dbe966a5f47fea7d138adb8c1d9bf"
       ],
       "layout": "IPY_MODEL_bf0cf50efa6f424691c1de05ab7aa213"
      }
     },
     "cd92ff993d4546bc9a4c4cf481f86f8f": {
      "model_module": "@jupyter-widgets/base",
      "model_module_version": "1.1.0",
      "model_name": "LayoutModel",
      "state": {}
     },
     "ce331911ce47468ea3f773aae5eb53e9": {
      "model_module": "@jupyter-widgets/base",
      "model_module_version": "1.1.0",
      "model_name": "LayoutModel",
      "state": {
       "width": "500px"
      }
     },
     "ce353c9b535d467d8dbf82650a2a2517": {
      "model_module": "@jupyter-widgets/controls",
      "model_module_version": "1.4.0",
      "model_name": "ButtonStyleModel",
      "state": {}
     },
     "ce53595de8604779805853e72772e76c": {
      "model_module": "@jupyter-widgets/base",
      "model_module_version": "1.1.0",
      "model_name": "LayoutModel",
      "state": {}
     },
     "cec84262325d46b193f9c1afc58077f3": {
      "model_module": "@jupyter-widgets/controls",
      "model_module_version": "1.4.0",
      "model_name": "DropdownModel",
      "state": {
       "_options_labels": [
        "Creager",
        "JONSWAP",
        "SGM",
        "SMB",
        "Wolf"
       ],
       "description": "Método:",
       "index": 1,
       "layout": "IPY_MODEL_42fa6a61b2eb4512be65fed5ed007298",
       "style": "IPY_MODEL_c509025ba9364c9c9d67a2c74f0b2d62"
      }
     },
     "cff1be9bf2454f2bbedee523ead5f97d": {
      "model_module": "@jupyter-widgets/controls",
      "model_module_version": "1.4.0",
      "model_name": "DescriptionStyleModel",
      "state": {
       "description_width": "initial"
      }
     },
     "cff345c2a76f4f0b80979ce1ed0d8136": {
      "model_module": "@jupyter-widgets/base",
      "model_module_version": "1.1.0",
      "model_name": "LayoutModel",
      "state": {
       "width": "500px"
      }
     },
     "d06f742c2e6548d1885fc2920a6106e1": {
      "model_module": "@jupyter-widgets/base",
      "model_module_version": "1.1.0",
      "model_name": "LayoutModel",
      "state": {}
     },
     "d0f3efe592a442d5bf1a9f6e5efbd06a": {
      "model_module": "@jupyter-widgets/controls",
      "model_module_version": "1.4.0",
      "model_name": "AccordionModel",
      "state": {
       "_titles": {
        "0": "Método de cálculo para as alturas de ondas",
        "1": "Esquema de cores"
       },
       "children": [
        "IPY_MODEL_1851c32e34304083a72c5440570399c1",
        "IPY_MODEL_6dfa025265f746c2964c84b95f4dcac3"
       ],
       "layout": "IPY_MODEL_f2352718206140a9b001f04ecba98cc3"
      }
     },
     "d15ddd7111f64faa921348a3bd2f7acc": {
      "model_module": "@jupyter-widgets/controls",
      "model_module_version": "1.4.0",
      "model_name": "ButtonModel",
      "state": {
       "description": "Importar pista(s) de vento processada(s)",
       "layout": "IPY_MODEL_22db6bce10db40228c611e83bc7ab308",
       "style": "IPY_MODEL_062ef6c3807a48d78fe12bd39facd743",
       "tooltip": "Importa pista(s) de vento processada(s)"
      }
     },
     "d20d2c18bd2945df88a7bd513eb39bb2": {
      "model_module": "@jupyter-widgets/base",
      "model_module_version": "1.1.0",
      "model_name": "LayoutModel",
      "state": {
       "width": "30%"
      }
     },
     "d29eda619b16452cb772f2c93eda6cc7": {
      "model_module": "@jupyter-widgets/controls",
      "model_module_version": "1.4.0",
      "model_name": "DropdownModel",
      "state": {
       "_options_labels": [
        "JONSWAP"
       ],
       "description": "Método:",
       "index": 0,
       "layout": "IPY_MODEL_f18ff22a79874a4b84dfb90794004883",
       "style": "IPY_MODEL_a90189bbf49a4563ae5a54225011aa43"
      }
     },
     "d2d4f99f5a8a44079902f65d05dd4336": {
      "model_module": "@jupyter-widgets/base",
      "model_module_version": "1.1.0",
      "model_name": "LayoutModel",
      "state": {
       "width": "30%"
      }
     },
     "d348d219328a4597981b2b4cfecdf720": {
      "model_module": "@jupyter-widgets/base",
      "model_module_version": "1.1.0",
      "model_name": "LayoutModel",
      "state": {}
     },
     "d4c988500d65454f9cff0494ae7da01d": {
      "model_module": "@jupyter-widgets/controls",
      "model_module_version": "1.4.0",
      "model_name": "DescriptionStyleModel",
      "state": {
       "description_width": ""
      }
     },
     "d601dedb84144b2882ec8b967e494b9d": {
      "model_module": "@jupyter-widgets/controls",
      "model_module_version": "1.4.0",
      "model_name": "DescriptionStyleModel",
      "state": {
       "description_width": "initial"
      }
     },
     "d675a6ce7d4e4f04812ac8c650e4c5d4": {
      "model_module": "@jupyter-widgets/controls",
      "model_module_version": "1.4.0",
      "model_name": "DescriptionStyleModel",
      "state": {
       "description_width": ""
      }
     },
     "d83e37a1669244f6bc061590db4f10ee": {
      "model_module": "@jupyter-widgets/controls",
      "model_module_version": "1.4.0",
      "model_name": "DropdownModel",
      "state": {
       "_options_labels": [
        "SMB"
       ],
       "description": "Método:",
       "index": 0,
       "layout": "IPY_MODEL_b36f1eccfef3476f80faced50c8af4e6",
       "style": "IPY_MODEL_70d0c2708d4c4ff9889ab5d48ed7b53d"
      }
     },
     "d8baeafd96bd4f848c5b785a09192f19": {
      "model_module": "@jupyter-widgets/controls",
      "model_module_version": "1.4.0",
      "model_name": "DescriptionStyleModel",
      "state": {
       "description_width": "initial"
      }
     },
     "d91c828bac0a4c509a645f6fc17633b6": {
      "model_module": "@jupyter-widgets/controls",
      "model_module_version": "1.4.0",
      "model_name": "ButtonModel",
      "state": {
       "description": "Criar projeto",
       "layout": "IPY_MODEL_17a74893af1b4c77bdd60ee68344e80f",
       "style": "IPY_MODEL_ee214c91413940a89a319dc6d923f15a",
       "tooltip": "Cria um novo projeto"
      }
     },
     "db434c549132493fafcd16e285534d95": {
      "model_module": "@jupyter-widgets/base",
      "model_module_version": "1.1.0",
      "model_name": "LayoutModel",
      "state": {}
     },
     "db5445ae93ea4ac093a85149e16c9c9a": {
      "model_module": "@jupyter-widgets/controls",
      "model_module_version": "1.4.0",
      "model_name": "DescriptionStyleModel",
      "state": {
       "description_width": ""
      }
     },
     "dc26a2ea562f45d9bc227b4a44ab5d34": {
      "model_module": "@jupyter-widgets/base",
      "model_module_version": "1.1.0",
      "model_name": "LayoutModel",
      "state": {
       "width": "500px"
      }
     },
     "dc2742a3863448ffa3f40fab9c0e844f": {
      "model_module": "@jupyter-widgets/base",
      "model_module_version": "1.1.0",
      "model_name": "LayoutModel",
      "state": {
       "width": "30%"
      }
     },
     "dd6016bdb6ad45e09e793de6af51a398": {
      "model_module": "@jupyter-widgets/controls",
      "model_module_version": "1.4.0",
      "model_name": "AccordionModel",
      "state": {
       "_titles": {
        "0": "Criar projeto",
        "1": "Importar projeto"
       },
       "children": [
        "IPY_MODEL_6cf5c3c3083445c7818fb57e45bb3740",
        "IPY_MODEL_1d832e93dd0a4fb1a797e11bc1ef868b"
       ],
       "layout": "IPY_MODEL_c4a490ae1b6f49a4bd049f3f13dd4eb7",
       "selected_index": 1
      }
     },
     "ddd3a353f0ff4a6ca0d85b9e9a45e22b": {
      "model_module": "@jupyter-widgets/base",
      "model_module_version": "1.1.0",
      "model_name": "LayoutModel",
      "state": {}
     },
     "de8133d8162549a6825408052b0b2e67": {
      "model_module": "@jupyter-widgets/base",
      "model_module_version": "1.1.0",
      "model_name": "LayoutModel",
      "state": {}
     },
     "dea4dd6105fc4142976a74cb74f3c5af": {
      "model_module": "@jupyter-widgets/base",
      "model_module_version": "1.1.0",
      "model_name": "LayoutModel",
      "state": {}
     },
     "dea56e58e7b842d587344845442b8e25": {
      "model_module": "@jupyter-widgets/controls",
      "model_module_version": "1.4.0",
      "model_name": "ButtonModel",
      "state": {
       "description": "Importar .shp de malha processada",
       "layout": "IPY_MODEL_731ec2fcaf504e58815583cce279f182",
       "style": "IPY_MODEL_eb88329f7bf844bd99111de21a59cf7f",
       "tooltip": "Importa um .shp que já teve sua malha processada"
      }
     },
     "df42cadce51a41dc9c905a3aa2056b60": {
      "model_module": "@jupyter-widgets/base",
      "model_module_version": "1.1.0",
      "model_name": "LayoutModel",
      "state": {}
     },
     "e1fa7077893a4ee68136763a3701da5a": {
      "model_module": "@jupyter-widgets/controls",
      "model_module_version": "1.4.0",
      "model_name": "AccordionModel",
      "state": {
       "_titles": {
        "0": "Importar .shp de malha processada"
       },
       "children": [
        "IPY_MODEL_e21c7e5834e0401786315de847bd1571"
       ],
       "layout": "IPY_MODEL_ae8a406f849146c6ae8acfab0efe30f2"
      }
     },
     "e21c7e5834e0401786315de847bd1571": {
      "model_module": "@jupyter-widgets/controls",
      "model_module_version": "1.4.0",
      "model_name": "ButtonModel",
      "state": {
       "description": "Importar .shp de malha processada",
       "layout": "IPY_MODEL_ac11e485d7fd4ac5b70b4065fe1379c3",
       "style": "IPY_MODEL_c58dbf61f0bc4346baf2bb330ec70fcb",
       "tooltip": "Importa um .shp que teve sua malha processada"
      }
     },
     "e2a7b3b7da6a4a04829ba322aa25ba14": {
      "model_module": "@jupyter-widgets/controls",
      "model_module_version": "1.4.0",
      "model_name": "DropdownModel",
      "state": {
       "_options_labels": [
        "Creager",
        "JONSWAP",
        "SGM",
        "SMB",
        "Wolf"
       ],
       "description": "Método:",
       "index": 1,
       "layout": "IPY_MODEL_2bfc86eda48c4689b5a2d94e4820fd7d",
       "style": "IPY_MODEL_d601dedb84144b2882ec8b967e494b9d"
      }
     },
     "e2b29df4b67c47158e44eb3c39b4349a": {
      "model_module": "@jupyter-widgets/base",
      "model_module_version": "1.1.0",
      "model_name": "LayoutModel",
      "state": {}
     },
     "e3204d89a5ed445da48c1d246bc9c036": {
      "model_module": "@jupyter-widgets/base",
      "model_module_version": "1.1.0",
      "model_name": "LayoutModel",
      "state": {}
     },
     "e37f45c033fc44d3b29915a2089685c2": {
      "model_module": "@jupyter-widgets/base",
      "model_module_version": "1.1.0",
      "model_name": "LayoutModel",
      "state": {
       "width": "500px"
      }
     },
     "e3c4b0bb3f0b4f8ebe0b19004418d67d": {
      "model_module": "@jupyter-widgets/controls",
      "model_module_version": "1.4.0",
      "model_name": "DropdownModel",
      "state": {
       "_options_labels": [
        "Accent",
        "afmhot",
        "autumn",
        "binary",
        "Blues",
        "bone",
        "BrBG",
        "brg",
        "BuGn",
        "BuPu",
        "bwr",
        "CMRmap",
        "cool",
        "coolwarm",
        "copper",
        "cubehelix",
        "Dark2",
        "flag",
        "gist_earth",
        "gist_gray",
        "gist_heat",
        "gist_ncar",
        "gist_rainbow",
        "gist_stern",
        "gist_yarg",
        "GnBu",
        "gnuplot",
        "gnuplot2",
        "gray",
        "Greens",
        "Greys",
        "hot",
        "hsv",
        "inferno",
        "jet",
        "magma",
        "nipy_spectral",
        "ocean",
        "Oranges",
        "OrRd",
        "Paired",
        "Pastel1",
        "Pastel2",
        "pink",
        "PiYG",
        "plasma",
        "PRGn",
        "prism",
        "PuBu",
        "PuBuGn",
        "PuOr",
        "PuRd",
        "Purples",
        "rainbow",
        "RdBu",
        "RdGy",
        "RdPu",
        "RdYlBu",
        "RdYlGn",
        "Reds",
        "seismic",
        "Set1",
        "Set2",
        "Set3",
        "Spectral",
        "spring",
        "summer",
        "tab10",
        "tab20",
        "tab20b",
        "tab20c",
        "terrain",
        "viridis",
        "winter",
        "Wistia",
        "YlGn",
        "YlGnBu",
        "YlOrBr",
        "YlOrRd"
       ],
       "description": "Selecione o esquema de cores desejado para a imagem:",
       "index": 32,
       "layout": "IPY_MODEL_edf0bace758a4b5b8c723b7c0a949e39",
       "style": "IPY_MODEL_a398213cbcff4c8d914711fa2fa314f5"
      }
     },
     "e3d8e5cf072942c0bbf6cfb2b6fb4878": {
      "model_module": "@jupyter-widgets/base",
      "model_module_version": "1.1.0",
      "model_name": "LayoutModel",
      "state": {}
     },
     "e4054d1910d946609c5be576f635ac1d": {
      "model_module": "@jupyter-widgets/controls",
      "model_module_version": "1.4.0",
      "model_name": "ButtonModel",
      "state": {
       "description": "Criar projeto",
       "layout": "IPY_MODEL_4e140dbc68e24bafafbbdcf6c63dd7ed",
       "style": "IPY_MODEL_189fbb2299cd4926b04c1cf7159c7243",
       "tooltip": "Cria um novo projeto"
      }
     },
     "e4bc6030d5ff427d9777b8ec40bd4d25": {
      "model_module": "@jupyter-widgets/controls",
      "model_module_version": "1.4.0",
      "model_name": "FloatTextModel",
      "state": {
       "description": "Duração:",
       "layout": "IPY_MODEL_01021bdd682f4662bb09649e26750ece",
       "step": null,
       "style": "IPY_MODEL_cc590e2c57a44cf397f8ee0f18b8d69d",
       "value": 2
      }
     },
     "e4d597b1138546df9a05a6e235224ebe": {
      "model_module": "@jupyter-widgets/base",
      "model_module_version": "1.1.0",
      "model_name": "LayoutModel",
      "state": {}
     },
     "e4db4bfcab7d42d1bc2ee7a0d083df5d": {
      "model_module": "@jupyter-widgets/base",
      "model_module_version": "1.1.0",
      "model_name": "LayoutModel",
      "state": {}
     },
     "e5336885e43f4fa194fe5556c564c66e": {
      "model_module": "@jupyter-widgets/base",
      "model_module_version": "1.1.0",
      "model_name": "LayoutModel",
      "state": {}
     },
     "e637d758d94e444e98f5064c3baf44d2": {
      "model_module": "@jupyter-widgets/base",
      "model_module_version": "1.1.0",
      "model_name": "LayoutModel",
      "state": {}
     },
     "e6a4c364fcd949a988628b5f0275a7eb": {
      "model_module": "@jupyter-widgets/base",
      "model_module_version": "1.1.0",
      "model_name": "LayoutModel",
      "state": {}
     },
     "e9c457486e16442dbc30b23776c036f1": {
      "model_module": "@jupyter-widgets/controls",
      "model_module_version": "1.4.0",
      "model_name": "FloatTextModel",
      "state": {
       "description": "Duração:",
       "layout": "IPY_MODEL_e5336885e43f4fa194fe5556c564c66e",
       "step": null,
       "style": "IPY_MODEL_c63bdb1f2cef40a68e8f7553b3038168",
       "value": 2
      }
     },
     "e9ecdf14a37f4abba92cdd93a4c8620c": {
      "model_module": "@jupyter-widgets/base",
      "model_module_version": "1.1.0",
      "model_name": "LayoutModel",
      "state": {}
     },
     "ea02182606ab49b0b5ebf27845f4f5cc": {
      "model_module": "@jupyter-widgets/controls",
      "model_module_version": "1.4.0",
      "model_name": "DropdownModel",
      "state": {
       "_options_labels": [
        "JONSWAP"
       ],
       "description": "Método:",
       "index": 0,
       "layout": "IPY_MODEL_834a3bdaf9af45b5b869ed60d7ec2caa",
       "style": "IPY_MODEL_65977ac735c447b2861ffd73a2420a8b"
      }
     },
     "ea7f308f69b14bd785efd8af8336600e": {
      "model_module": "@jupyter-widgets/base",
      "model_module_version": "1.1.0",
      "model_name": "LayoutModel",
      "state": {}
     },
     "eafb14f26c244107871aedf22e243c21": {
      "model_module": "@jupyter-widgets/base",
      "model_module_version": "1.1.0",
      "model_name": "LayoutModel",
      "state": {
       "width": "500px"
      }
     },
     "eb88329f7bf844bd99111de21a59cf7f": {
      "model_module": "@jupyter-widgets/controls",
      "model_module_version": "1.4.0",
      "model_name": "ButtonStyleModel",
      "state": {}
     },
     "ebb351d865a54a46875220eb8e724042": {
      "model_module": "@jupyter-widgets/controls",
      "model_module_version": "1.4.0",
      "model_name": "DescriptionStyleModel",
      "state": {
       "description_width": ""
      }
     },
     "ebb8a19bd45e4cd2897ae46b10e528ec": {
      "model_module": "@jupyter-widgets/controls",
      "model_module_version": "1.4.0",
      "model_name": "FloatTextModel",
      "state": {
       "description": "Velocidade:",
       "layout": "IPY_MODEL_a86c0df9a5ea400db669a04ada34fcfa",
       "step": null,
       "style": "IPY_MODEL_ed6a0b76399f4411973372e5439af042"
      }
     },
     "ebd9019166fe436a8c930afb65c5243e": {
      "model_module": "@jupyter-widgets/base",
      "model_module_version": "1.1.0",
      "model_name": "LayoutModel",
      "state": {}
     },
     "ec067c9482dc42209025151c76423ac4": {
      "model_module": "@jupyter-widgets/base",
      "model_module_version": "1.1.0",
      "model_name": "LayoutModel",
      "state": {}
     },
     "eca34d85d16b4363b20383b6bcf8cf85": {
      "model_module": "@jupyter-widgets/controls",
      "model_module_version": "1.4.0",
      "model_name": "AccordionModel",
      "state": {
       "_titles": {
        "0": "Escolha da(s) pista(s) de vento"
       },
       "children": [
        "IPY_MODEL_d15ddd7111f64faa921348a3bd2f7acc"
       ],
       "layout": "IPY_MODEL_1e62b5eb4d2444609cb360e27a1ade3b"
      }
     },
     "ecb665fe57424ecaabbd09933669db52": {
      "model_module": "@jupyter-widgets/controls",
      "model_module_version": "1.4.0",
      "model_name": "ButtonStyleModel",
      "state": {}
     },
     "ecdc23e8bd064856b5e9ecfca9208c25": {
      "model_module": "@jupyter-widgets/base",
      "model_module_version": "1.1.0",
      "model_name": "LayoutModel",
      "state": {
       "width": "400px"
      }
     },
     "ed3b34dfb769462d82254fdf468e7558": {
      "model_module": "@jupyter-widgets/base",
      "model_module_version": "1.1.0",
      "model_name": "LayoutModel",
      "state": {}
     },
     "ed6a0b76399f4411973372e5439af042": {
      "model_module": "@jupyter-widgets/controls",
      "model_module_version": "1.4.0",
      "model_name": "DescriptionStyleModel",
      "state": {
       "description_width": ""
      }
     },
     "edf0bace758a4b5b8c723b7c0a949e39": {
      "model_module": "@jupyter-widgets/base",
      "model_module_version": "1.1.0",
      "model_name": "LayoutModel",
      "state": {
       "width": "500px"
      }
     },
     "ee214c91413940a89a319dc6d923f15a": {
      "model_module": "@jupyter-widgets/controls",
      "model_module_version": "1.4.0",
      "model_name": "ButtonStyleModel",
      "state": {}
     },
     "ee30cba805e547568352b1a0a58c0daa": {
      "model_module": "@jupyter-widgets/controls",
      "model_module_version": "1.4.0",
      "model_name": "ButtonModel",
      "state": {
       "description": "Importar .shp de malha processada",
       "layout": "IPY_MODEL_01a0bd254f1a480a8c7444c72ba45998",
       "style": "IPY_MODEL_65829d99332d4f6786603ce69b1f665a",
       "tooltip": "Importa um .shp que teve sua malha processada"
      }
     },
     "ee9caad9fb0f4fef8f2fbcc287f6c79f": {
      "model_module": "@jupyter-widgets/base",
      "model_module_version": "1.1.0",
      "model_name": "LayoutModel",
      "state": {}
     },
     "f072dae4292a48fbad935b9e0901ffdf": {
      "model_module": "@jupyter-widgets/controls",
      "model_module_version": "1.4.0",
      "model_name": "AccordionModel",
      "state": {
       "_titles": {
        "0": "Escolha da(s) pista(s) de vento"
       },
       "children": [
        "IPY_MODEL_12da3cecd91143afabe154dea0de91b0"
       ],
       "layout": "IPY_MODEL_77fd6f08341e41afa6a36f2e502ad4eb"
      }
     },
     "f18ff22a79874a4b84dfb90794004883": {
      "model_module": "@jupyter-widgets/base",
      "model_module_version": "1.1.0",
      "model_name": "LayoutModel",
      "state": {
       "width": "400px"
      }
     },
     "f2352718206140a9b001f04ecba98cc3": {
      "model_module": "@jupyter-widgets/base",
      "model_module_version": "1.1.0",
      "model_name": "LayoutModel",
      "state": {}
     },
     "f3e6fa5d1bf844838503082e4e4508f8": {
      "model_module": "@jupyter-widgets/base",
      "model_module_version": "1.1.0",
      "model_name": "LayoutModel",
      "state": {}
     },
     "f45e6bcd4aff4d4abfe56d8dc1e0f75f": {
      "model_module": "@jupyter-widgets/controls",
      "model_module_version": "1.4.0",
      "model_name": "AccordionModel",
      "state": {
       "_titles": {
        "0": "Método de cálculo para as energias de ondas",
        "1": "Esquema de cores"
       },
       "children": [
        "IPY_MODEL_a8dc128d63c447d09bc1aca40b3cf864",
        "IPY_MODEL_aa381f84b3ea43a0a069ca48ff5139e0"
       ],
       "layout": "IPY_MODEL_ddd3a353f0ff4a6ca0d85b9e9a45e22b",
       "selected_index": 1
      }
     },
     "f48ae598c6014930b77ba59df8f061f4": {
      "model_module": "@jupyter-widgets/controls",
      "model_module_version": "1.4.0",
      "model_name": "ButtonModel",
      "state": {
       "description": "Criar projeto",
       "layout": "IPY_MODEL_78f13a6db5c94b55bbd3c632cbb7f672",
       "style": "IPY_MODEL_ae1941ed658b47beb2c3a79813a8fe8c",
       "tooltip": "Cria um novo projeto"
      }
     },
     "f48e1d5821de4ae1ae179fa006321252": {
      "model_module": "@jupyter-widgets/base",
      "model_module_version": "1.1.0",
      "model_name": "LayoutModel",
      "state": {}
     },
     "f6c87ba8e756466da916a384dd18ccb3": {
      "model_module": "@jupyter-widgets/controls",
      "model_module_version": "1.4.0",
      "model_name": "SelectMultipleModel",
      "state": {
       "_options_labels": [
        "0.0°",
        "22.5°",
        "45.0°",
        "67.5°",
        "90.0°",
        "112.5°",
        "135.0°"
       ],
       "index": [
        0,
        2,
        4,
        6
       ],
       "layout": "IPY_MODEL_0c9091c354a64fcbbadd6e2f9ca1b267",
       "rows": 5,
       "style": "IPY_MODEL_386abd78a1ea4c5fa2537b6459eaa219"
      }
     },
     "f6cfa4b60fd0404b89aa0325f028c4ba": {
      "model_module": "@jupyter-widgets/base",
      "model_module_version": "1.1.0",
      "model_name": "LayoutModel",
      "state": {}
     },
     "f7067570430b461abb8d36d13f9cc351": {
      "model_module": "@jupyter-widgets/controls",
      "model_module_version": "1.4.0",
      "model_name": "ButtonStyleModel",
      "state": {}
     },
     "f71cb51d312443928e8e3e4e1d7426b2": {
      "model_module": "@jupyter-widgets/controls",
      "model_module_version": "1.4.0",
      "model_name": "ButtonStyleModel",
      "state": {}
     },
     "f74374fb34ec44178bd55df6bac92d99": {
      "model_module": "@jupyter-widgets/controls",
      "model_module_version": "1.4.0",
      "model_name": "ButtonStyleModel",
      "state": {}
     },
     "f7c0c2a521414cb890aac80740f86d55": {
      "model_module": "@jupyter-widgets/controls",
      "model_module_version": "1.4.0",
      "model_name": "ButtonStyleModel",
      "state": {}
     },
     "f8874f7bdb6d42f98e3a0cda5483eec6": {
      "model_module": "@jupyter-widgets/controls",
      "model_module_version": "1.4.0",
      "model_name": "AccordionModel",
      "state": {
       "_titles": {
        "0": "Método de cálculo para as alturas de ondas",
        "1": "Esquema de cores"
       },
       "children": [
        "IPY_MODEL_78691390e56c45759e10c2e8a97f76ad",
        "IPY_MODEL_af65836a50bd4c9690fa84721f45a891"
       ],
       "layout": "IPY_MODEL_216f274d62fb4cb3b4101749d57dbe5f",
       "selected_index": 1
      }
     },
     "fa4a431da17247b9aa16ad6b9357745d": {
      "model_module": "@jupyter-widgets/base",
      "model_module_version": "1.1.0",
      "model_name": "LayoutModel",
      "state": {}
     },
     "faa1011db38545e789f7c9520d31a1d1": {
      "model_module": "@jupyter-widgets/controls",
      "model_module_version": "1.4.0",
      "model_name": "ButtonModel",
      "state": {
       "description": "Importar .shp de malha processada",
       "layout": "IPY_MODEL_6d3abd66af4b42c3a1a8f0b27290d954",
       "style": "IPY_MODEL_f7067570430b461abb8d36d13f9cc351",
       "tooltip": "Importa um .shp que já teve sua malha processada"
      }
     },
     "fb068e1be4ec4e7a8d3a82f7ef4a9698": {
      "model_module": "@jupyter-widgets/controls",
      "model_module_version": "1.4.0",
      "model_name": "AccordionModel",
      "state": {
       "_titles": {
        "0": "Importar .shp de malha processada"
       },
       "children": [
        "IPY_MODEL_60e5c409b49c48d984404ce9cbb7a9c2"
       ],
       "layout": "IPY_MODEL_7c55fbd22b894683970f925fe3f6d8a4"
      }
     },
     "fb48d51eabe143da902e7e9c4951b2c7": {
      "model_module": "@jupyter-widgets/base",
      "model_module_version": "1.1.0",
      "model_name": "LayoutModel",
      "state": {}
     },
     "fb74963bed474aa08c43d958679d9a3d": {
      "model_module": "@jupyter-widgets/controls",
      "model_module_version": "1.4.0",
      "model_name": "ButtonModel",
      "state": {
       "description": "Importar projeto",
       "layout": "IPY_MODEL_9c8653efe0ba437c9faa014049d4cdfe",
       "style": "IPY_MODEL_f74374fb34ec44178bd55df6bac92d99",
       "tooltip": "Importa o .csv de um projeto já criado"
      }
     },
     "fbd8663144f14874bc78c9bdb30be022": {
      "model_module": "@jupyter-widgets/base",
      "model_module_version": "1.1.0",
      "model_name": "LayoutModel",
      "state": {}
     },
     "fc0630e201534933803fe1b2a69a904a": {
      "model_module": "@jupyter-widgets/controls",
      "model_module_version": "1.4.0",
      "model_name": "FloatTextModel",
      "state": {
       "description": "Gravidade:",
       "layout": "IPY_MODEL_79778e342f7c4eff9c16d05e12513de7",
       "step": null,
       "style": "IPY_MODEL_ab3505aeb5a946778f0310e01c31f3b0",
       "value": 9.81
      }
     },
     "fc49710fe81a4bb79624918e04378517": {
      "model_module": "@jupyter-widgets/base",
      "model_module_version": "1.1.0",
      "model_name": "LayoutModel",
      "state": {}
     },
     "fc86305e04e34dc4b8f66ae89a2d85fd": {
      "model_module": "@jupyter-widgets/base",
      "model_module_version": "1.1.0",
      "model_name": "LayoutModel",
      "state": {}
     },
     "fd2f498e3e8d4cc2bc83f188f2d08cbd": {
      "model_module": "@jupyter-widgets/base",
      "model_module_version": "1.1.0",
      "model_name": "LayoutModel",
      "state": {
       "width": "500px"
      }
     },
     "fd91a5ba4fb94492b8467a606b33be14": {
      "model_module": "@jupyter-widgets/controls",
      "model_module_version": "1.4.0",
      "model_name": "DescriptionStyleModel",
      "state": {
       "description_width": "initial"
      }
     },
     "ff04a7f40c0644bd90cb590f8bf64ff0": {
      "model_module": "@jupyter-widgets/base",
      "model_module_version": "1.1.0",
      "model_name": "LayoutModel",
      "state": {
       "width": "500px"
      }
     },
     "ffbaa6463f214d49a34d854a9a8176ec": {
      "model_module": "@jupyter-widgets/controls",
      "model_module_version": "1.4.0",
      "model_name": "DescriptionStyleModel",
      "state": {
       "description_width": "initial"
      }
     }
    },
    "version_major": 2,
    "version_minor": 0
   }
  }
 },
 "nbformat": 4,
 "nbformat_minor": 2
}
