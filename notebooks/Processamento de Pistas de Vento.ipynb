{
 "cells": [
  {
   "cell_type": "markdown",
   "metadata": {},
   "source": [
    "<center><img src=\"img/logo2.png\" height=\"400\" width=\"400\"></center>"
   ]
  },
  {
   "cell_type": "markdown",
   "metadata": {},
   "source": [
    "<div style=\"text-align:center\"><b>Por Geraldo Maciel e Mateus Barbosa</b></div>"
   ]
  },
  {
   "cell_type": "markdown",
   "metadata": {},
   "source": [
    "---"
   ]
  },
  {
   "cell_type": "markdown",
   "metadata": {},
   "source": [
    "#### 1. Importação inicial"
   ]
  },
  {
   "cell_type": "markdown",
   "metadata": {},
   "source": [
    "<div style=\"text-align:left\">Esta célula sempre deverá ser executada inicialmente.<br>É ela a responsável por importar o código-fonte do módulo a ser utilizado.</div>"
   ]
  },
  {
   "cell_type": "code",
   "execution_count": null,
   "metadata": {},
   "outputs": [],
   "source": [
    "import sys\n",
    "import os\n",
    "\n",
    "sys.path.insert(0, os.path.join(os.path.dirname(os.getcwd()), 'scripts'))\n",
    "\n",
    "from windfetchs import *"
   ]
  },
  {
   "cell_type": "markdown",
   "metadata": {},
   "source": [
    "---"
   ]
  },
  {
   "cell_type": "markdown",
   "metadata": {},
   "source": [
    "#### 2. Criação e importação de projetos e shapefiles"
   ]
  },
  {
   "cell_type": "markdown",
   "metadata": {},
   "source": [
    "<div style=\"text-align:left\">O módulo só aceita shapefiles que estejam nas seguintes projeções:<br><br>• EPSG:32718<br>• EPSG:32719<br>• EPSG:32720<br>• EPSG:32721<br>• EPSG:32722<br>• EPSG:32723<br>• EPSG:32724<br>• EPSG:32725<br><br>Mais informações sobre as projeções podem ser obtidas no endereço http://www.spatialreference.org/, utilizando os códigos já mencionados.</div>"
   ]
  },
  {
   "cell_type": "code",
   "execution_count": null,
   "metadata": {
    "scrolled": false
   },
   "outputs": [],
   "source": [
    "widgets_main = WidgetsMain()\n",
    "widgets_main.display()"
   ]
  },
  {
   "cell_type": "markdown",
   "metadata": {},
   "source": [
    "---"
   ]
  },
  {
   "cell_type": "markdown",
   "metadata": {},
   "source": [
    "#### 3. Malha"
   ]
  },
  {
   "cell_type": "code",
   "execution_count": null,
   "metadata": {},
   "outputs": [],
   "source": [
    "widgets_grid = WidgetsGrid()\n",
    "widgets_grid.display()"
   ]
  },
  {
   "cell_type": "markdown",
   "metadata": {},
   "source": [
    "---"
   ]
  },
  {
   "cell_type": "markdown",
   "metadata": {},
   "source": [
    "#### 3.1. Processamento da malha"
   ]
  },
  {
   "cell_type": "code",
   "execution_count": null,
   "metadata": {
    "scrolled": false
   },
   "outputs": [],
   "source": [
    "widgets_main.grid = widgets_grid.outputs(widgets_main.shapefile, widgets_main.project_dirs)"
   ]
  },
  {
   "cell_type": "markdown",
   "metadata": {},
   "source": [
    "---"
   ]
  },
  {
   "cell_type": "markdown",
   "metadata": {},
   "source": [
    "#### 4. Seleção de métodos e direções para pistas de vento"
   ]
  },
  {
   "cell_type": "code",
   "execution_count": null,
   "metadata": {},
   "outputs": [],
   "source": [
    "widgets_wind_fetchs = WidgetsWindFetchs()\n",
    "widgets_wind_fetchs.display()"
   ]
  },
  {
   "cell_type": "markdown",
   "metadata": {},
   "source": [
    "---"
   ]
  },
  {
   "cell_type": "markdown",
   "metadata": {},
   "source": [
    "#### 4.1. Processamento de pistas de vento"
   ]
  },
  {
   "cell_type": "code",
   "execution_count": null,
   "metadata": {},
   "outputs": [],
   "source": [
    "widgets_wind_fetchs.outputs(widgets_main.grid, widgets_main.project_dirs)"
   ]
  },
  {
   "cell_type": "markdown",
   "metadata": {},
   "source": [
    "---"
   ]
  },
  {
   "cell_type": "markdown",
   "metadata": {},
   "source": [
    "#### 5. Importação e seleção de esquemas de cores/intervalos para geração de imagens de pistas de vento processadas"
   ]
  },
  {
   "cell_type": "markdown",
   "metadata": {},
   "source": [
    "<div style=\"text-align:left\">Mais informações sobre os mapas de cores que podem ser utilizados podem ser encontrados nos endereços:<br><br>• https://matplotlib.org/examples/color/colormaps_reference.html<br>• https://matplotlib.org/cmocean/</div>"
   ]
  },
  {
   "cell_type": "code",
   "execution_count": null,
   "metadata": {
    "scrolled": true
   },
   "outputs": [],
   "source": [
    "widgets_wind_fetchs_visualization = WidgetsWindFetchsVisualization()\n",
    "widgets_wind_fetchs_visualization.display()"
   ]
  },
  {
   "cell_type": "markdown",
   "metadata": {},
   "source": [
    "---"
   ]
  },
  {
   "cell_type": "markdown",
   "metadata": {},
   "source": [
    "#### 5.1. Geração de imagens de pistas de vento processadas"
   ]
  },
  {
   "cell_type": "code",
   "execution_count": null,
   "metadata": {
    "scrolled": false
   },
   "outputs": [],
   "source": [
    "widgets_wind_fetchs_visualization.outputs(widgets_main.grid, widgets_main.project_dirs)"
   ]
  },
  {
   "cell_type": "markdown",
   "metadata": {},
   "source": [
    "---"
   ]
  }
 ],
 "metadata": {
  "celltoolbar": "Hide code",
  "hide_code_all_hidden": false,
  "kernelspec": {
   "display_name": "ondisapy",
   "language": "python",
   "name": "ondisapy"
  },
  "language_info": {
   "codemirror_mode": {
    "name": "ipython",
    "version": 3
   },
   "file_extension": ".py",
   "mimetype": "text/x-python",
   "name": "python",
   "nbconvert_exporter": "python",
   "pygments_lexer": "ipython3",
   "version": "3.7.4"
  },
  "widgets": {
   "application/vnd.jupyter.widget-state+json": {
    "state": {
     "002ccc1ac52f44f9b3e2e64c26f78d5f": {
      "model_module": "@jupyter-widgets/controls",
      "model_module_version": "1.4.0",
      "model_name": "FloatTextModel",
      "state": {
       "description": "Outra direção (°):",
       "layout": "IPY_MODEL_0ae27154533140e19f245a35b021a2f5",
       "step": null,
       "style": "IPY_MODEL_3c85aebead3047288210d93583a30396"
      }
     },
     "0042cf38c4bf48d29c30576b9d597729": {
      "model_module": "@jupyter-widgets/base",
      "model_module_version": "1.1.0",
      "model_name": "LayoutModel",
      "state": {}
     },
     "004e2890360e46b79510d3f37bb5ed2a": {
      "model_module": "@jupyter-widgets/base",
      "model_module_version": "1.1.0",
      "model_name": "LayoutModel",
      "state": {
       "width": "400px"
      }
     },
     "00510c06b82e4e25a17fe031d326b72f": {
      "model_module": "@jupyter-widgets/controls",
      "model_module_version": "1.4.0",
      "model_name": "DescriptionStyleModel",
      "state": {
       "description_width": ""
      }
     },
     "0070b842827e4ddba32b5cf0483540ab": {
      "model_module": "@jupyter-widgets/controls",
      "model_module_version": "1.4.0",
      "model_name": "FloatProgressModel",
      "state": {
       "description": "135.0°:",
       "layout": "IPY_MODEL_880c8d31092945c8a90397908837039a",
       "max": 1,
       "style": "IPY_MODEL_88427498457742b3868efc0f73483619",
       "value": 1
      }
     },
     "00874f1550ea417fb6864c5117a8c571": {
      "model_module": "@jupyter-widgets/base",
      "model_module_version": "1.1.0",
      "model_name": "LayoutModel",
      "state": {}
     },
     "009732feb1ad4c37af84a131456bc011": {
      "model_module": "@jupyter-widgets/controls",
      "model_module_version": "1.4.0",
      "model_name": "AccordionModel",
      "state": {
       "_titles": {
        "0": "Malha (m)"
       },
       "children": [
        "IPY_MODEL_47f05b4abf3746ab9969561f82942969"
       ],
       "layout": "IPY_MODEL_d53a2a3ec6df4d189650963eb59ec655"
      }
     },
     "00c71d443d6643d68c268c91331ed2bc": {
      "model_module": "@jupyter-widgets/base",
      "model_module_version": "1.1.0",
      "model_name": "LayoutModel",
      "state": {
       "width": "30%"
      }
     },
     "00d25afdc99b4bf2a1d1e13a21d23787": {
      "model_module": "@jupyter-widgets/controls",
      "model_module_version": "1.4.0",
      "model_name": "ToggleButtonsStyleModel",
      "state": {
       "button_width": ""
      }
     },
     "00eac362ee824336b7d2599e761cba8f": {
      "model_module": "@jupyter-widgets/base",
      "model_module_version": "1.1.0",
      "model_name": "LayoutModel",
      "state": {}
     },
     "00f5330d65de40e99ab2e1bb51aa7893": {
      "model_module": "@jupyter-widgets/controls",
      "model_module_version": "1.4.0",
      "model_name": "DropdownModel",
      "state": {
       "_options_labels": [
        "binary",
        "Blues",
        "brg",
        "BuGn",
        "cool",
        "cubehelix",
        "gist_earth",
        "gist_ncar",
        "gist_rainbow",
        "gnuplot",
        "gnuplot2",
        "hsv",
        "jet",
        "magma",
        "nipy_spectral",
        "ocean",
        "plasma",
        "rainbow",
        "Spectral",
        "terrain",
        "winter"
       ],
       "description": "Selecione o esquema de cores desejado:",
       "index": 12,
       "layout": "IPY_MODEL_db8ea60204ae4ba197b18d28ba86cbe5",
       "style": "IPY_MODEL_d64141fe0a254f4685008b78528c9ac3"
      }
     },
     "00ff0ac478b043d4b3102638d9e2c4b7": {
      "model_module": "@jupyter-widgets/base",
      "model_module_version": "1.1.0",
      "model_name": "LayoutModel",
      "state": {}
     },
     "0108f15dd22d47f5a9a921685aa92fcd": {
      "model_module": "@jupyter-widgets/base",
      "model_module_version": "1.1.0",
      "model_name": "LayoutModel",
      "state": {}
     },
     "012dc088e247440d9fb6c44da85ff83a": {
      "model_module": "@jupyter-widgets/controls",
      "model_module_version": "1.4.0",
      "model_name": "ButtonModel",
      "state": {
       "description": "Carregar .shp de malha processada",
       "layout": "IPY_MODEL_17be6a3b591e4a56a1f4c58888a2b445",
       "style": "IPY_MODEL_0399506c65594fcfb78b022272bd639c",
       "tooltip": "Carrega um .shp que já teve sua malha processada"
      }
     },
     "01615d234d804928b56a573d799f748b": {
      "model_module": "@jupyter-widgets/controls",
      "model_module_version": "1.4.0",
      "model_name": "ButtonStyleModel",
      "state": {}
     },
     "017144b212f8407d9260866c8ecda65e": {
      "model_module": "@jupyter-widgets/controls",
      "model_module_version": "1.4.0",
      "model_name": "TabModel",
      "state": {
       "_titles": {
        "0": "Pistas de Vento",
        "1": "Esquema de Cores"
       },
       "children": [
        "IPY_MODEL_4809350523d94c50accb437210e855ac",
        "IPY_MODEL_c9b219201c2149f88e9327f7aa9f3fbd"
       ],
       "layout": "IPY_MODEL_35d8ba9fd432446da174c6995bb5f00c"
      }
     },
     "0188b2f0867a47c9825c3807f2ec15d6": {
      "model_module": "@jupyter-widgets/controls",
      "model_module_version": "1.4.0",
      "model_name": "ButtonModel",
      "state": {
       "description": "Importar .shp de malha processada",
       "layout": "IPY_MODEL_e05cbda96acb4015b15206001c35c777",
       "style": "IPY_MODEL_3e9f73e4f558445191d13d4e791b09c2",
       "tooltip": "Importa um .shp que teve sua malha processada"
      }
     },
     "018b1e5179a7485c88ab9df04d9d73b1": {
      "model_module": "@jupyter-widgets/controls",
      "model_module_version": "1.4.0",
      "model_name": "AccordionModel",
      "state": {
       "_titles": {
        "0": "Pistas de Vento"
       },
       "children": [
        "IPY_MODEL_cdc1c61764bb46b0a07486d032f3fa00"
       ],
       "layout": "IPY_MODEL_6b56919d43294dddbdaa86b471258a3c"
      }
     },
     "01984b26009c4d999e8f96888e7702cb": {
      "model_module": "@jupyter-widgets/controls",
      "model_module_version": "1.4.0",
      "model_name": "AccordionModel",
      "state": {
       "_titles": {
        "0": "Pistas de Vento"
       },
       "children": [
        "IPY_MODEL_74e5dd00258f4020b18845039b6eacc8"
       ],
       "layout": "IPY_MODEL_37ec72c40a2f46a7bbf934c18746b4a7"
      }
     },
     "01add52cec694dbf9bf0c4ff98ce27a6": {
      "model_module": "@jupyter-widgets/base",
      "model_module_version": "1.1.0",
      "model_name": "LayoutModel",
      "state": {}
     },
     "01aec6e8a8764273bcb7e30326f66087": {
      "model_module": "@jupyter-widgets/base",
      "model_module_version": "1.1.0",
      "model_name": "LayoutModel",
      "state": {}
     },
     "01b0d7acac58438c91cb884927659b82": {
      "model_module": "@jupyter-widgets/controls",
      "model_module_version": "1.4.0",
      "model_name": "ToggleButtonsModel",
      "state": {
       "_options_labels": [
        "Método SPM",
        "Método de Saville"
       ],
       "button_style": "",
       "icons": [],
       "index": 1,
       "layout": "IPY_MODEL_d775a269e1bd4654bdfbe4c24a70f122",
       "style": "IPY_MODEL_e41ab57bd95d45309816d28628d618ae",
       "tooltips": []
      }
     },
     "01f70cc44c2d47b09fd67786382271d2": {
      "model_module": "@jupyter-widgets/controls",
      "model_module_version": "1.4.0",
      "model_name": "ButtonStyleModel",
      "state": {}
     },
     "01fbd5f28d0b48e3a35b45bea7069ded": {
      "model_module": "@jupyter-widgets/controls",
      "model_module_version": "1.4.0",
      "model_name": "TextModel",
      "state": {
       "description": "Outra direção (°):",
       "layout": "IPY_MODEL_d612f6520ce5415181f4f8e321478fcf",
       "style": "IPY_MODEL_6f0927b626644377befa58533ce3d5f6"
      }
     },
     "020ba91ff4484b308c541a75046518f8": {
      "model_module": "@jupyter-widgets/controls",
      "model_module_version": "1.4.0",
      "model_name": "ButtonStyleModel",
      "state": {}
     },
     "0218a95d566e424eb56b5a519018b140": {
      "model_module": "@jupyter-widgets/controls",
      "model_module_version": "1.4.0",
      "model_name": "TabModel",
      "state": {
       "_titles": {
        "0": "Pistas de Vento",
        "1": "Esquema de Cores"
       },
       "children": [
        "IPY_MODEL_4c0b075d350c471e9c09d3d2a6c14c52",
        "IPY_MODEL_8dd9368952c446c599df32d9c475db12"
       ],
       "layout": "IPY_MODEL_1becced753b74c74bee3079981c19e0f",
       "selected_index": 1
      }
     },
     "0253811eccad4f5f84ab7295f6f8b64b": {
      "model_module": "@jupyter-widgets/controls",
      "model_module_version": "1.4.0",
      "model_name": "ButtonModel",
      "state": {
       "description": "Importar pista(s) de vento já processada(s)",
       "layout": "IPY_MODEL_d417adc4269a41bb9c2f59129821f287",
       "style": "IPY_MODEL_67a6afc7078745968e1caaa6386d2db4",
       "tooltip": "Importa pista(s) de vento já processada(s)"
      }
     },
     "02ab5efd1ec34365a4a00fe23bb2d2b1": {
      "model_module": "@jupyter-widgets/controls",
      "model_module_version": "1.4.0",
      "model_name": "FloatProgressModel",
      "state": {
       "description": "90.0°:",
       "layout": "IPY_MODEL_c0672ccc3dda4ccd956b2fe4bf09332c",
       "max": 1,
       "style": "IPY_MODEL_36689f73b67a49f193fdf0d99f2360d8",
       "value": 1
      }
     },
     "02d2d5efcdc64ed7a42a0bf91f53c876": {
      "model_module": "@jupyter-widgets/controls",
      "model_module_version": "1.4.0",
      "model_name": "SelectMultipleModel",
      "state": {
       "_options_labels": [
        "0.0°",
        "22.5°",
        "45.0°",
        "67.5°",
        "90.0°",
        "112.5°",
        "135.0°",
        "157.5°",
        "180.0°",
        "202.5°",
        "225.0°",
        "247.5°",
        "270.0°",
        "292.5°",
        "315.0°",
        "337.5°"
       ],
       "index": [
        0
       ],
       "layout": "IPY_MODEL_de833121a88044489fa69d0125246a0c",
       "rows": 5,
       "style": "IPY_MODEL_3c4c36dadfa34d3b97ce8f6253fbed5b"
      }
     },
     "031a7a2e04a74e28a41768d5009a3bd1": {
      "model_module": "@jupyter-widgets/base",
      "model_module_version": "1.1.0",
      "model_name": "LayoutModel",
      "state": {}
     },
     "03290b68f0974edf979738c27056f44c": {
      "model_module": "@jupyter-widgets/controls",
      "model_module_version": "1.4.0",
      "model_name": "FloatProgressModel",
      "state": {
       "description": "22.5°:",
       "layout": "IPY_MODEL_6e56ba0907b04cd6a2de2e85f3930e1f",
       "max": 1,
       "style": "IPY_MODEL_487164c649764d37a87b79932cc9c21e",
       "value": 1
      }
     },
     "0343cef5294542aaa26f44ba3422a3ea": {
      "model_module": "@jupyter-widgets/controls",
      "model_module_version": "1.4.0",
      "model_name": "ButtonModel",
      "state": {
       "description": "Carregar .shp de malha processada",
       "layout": "IPY_MODEL_e1a84b6c1c594370bb6e6f4a6fbb5d38",
       "style": "IPY_MODEL_b39b81168489410e9a46aeee063b6ef2",
       "tooltip": "Carrega um .shp que já teve sua malha processada"
      }
     },
     "034a92c518b840ffa02614edc0a3899c": {
      "model_module": "@jupyter-widgets/base",
      "model_module_version": "1.1.0",
      "model_name": "LayoutModel",
      "state": {
       "width": "400px"
      }
     },
     "036477df12e144ccb87c6de585a6e8d5": {
      "model_module": "@jupyter-widgets/base",
      "model_module_version": "1.1.0",
      "model_name": "LayoutModel",
      "state": {}
     },
     "036893e49e244500b470df15a8f5d520": {
      "model_module": "@jupyter-widgets/base",
      "model_module_version": "1.1.0",
      "model_name": "LayoutModel",
      "state": {}
     },
     "0387e17ad9dd4ecaac90b7597bc8c8fa": {
      "model_module": "@jupyter-widgets/base",
      "model_module_version": "1.1.0",
      "model_name": "LayoutModel",
      "state": {}
     },
     "0399506c65594fcfb78b022272bd639c": {
      "model_module": "@jupyter-widgets/controls",
      "model_module_version": "1.4.0",
      "model_name": "ButtonStyleModel",
      "state": {}
     },
     "03afd1fe1d564028a962c91d3e210efb": {
      "model_module": "@jupyter-widgets/controls",
      "model_module_version": "1.4.0",
      "model_name": "ButtonModel",
      "state": {
       "description": "Importar .shp",
       "layout": "IPY_MODEL_cc32041600b949deb0344588bafbd132",
       "style": "IPY_MODEL_b0a2922a8b714bfe9a4ea2893fb9c7e9",
       "tooltip": "Importa um .shp para processamento"
      }
     },
     "03dcbcf3ea01492daa421b4a4cd6ab92": {
      "model_module": "@jupyter-widgets/base",
      "model_module_version": "1.1.0",
      "model_name": "LayoutModel",
      "state": {
       "width": "500px"
      }
     },
     "0402d54a5dd840598a33ee0ae183ef7a": {
      "model_module": "@jupyter-widgets/controls",
      "model_module_version": "1.4.0",
      "model_name": "ProgressStyleModel",
      "state": {
       "description_width": ""
      }
     },
     "0417393a8fbc48f9a735df4df1f15e1b": {
      "model_module": "@jupyter-widgets/base",
      "model_module_version": "1.1.0",
      "model_name": "LayoutModel",
      "state": {}
     },
     "044f4bd97198403b8e40418a5df02721": {
      "model_module": "@jupyter-widgets/base",
      "model_module_version": "1.1.0",
      "model_name": "LayoutModel",
      "state": {}
     },
     "047ce0ae53db484bb0c0b1cc4958b05d": {
      "model_module": "@jupyter-widgets/base",
      "model_module_version": "1.1.0",
      "model_name": "LayoutModel",
      "state": {}
     },
     "048776e7b72a4032befbaf6de362ee3a": {
      "model_module": "@jupyter-widgets/base",
      "model_module_version": "1.1.0",
      "model_name": "LayoutModel",
      "state": {}
     },
     "048b3a23d7854b3383a3f20ea7f45694": {
      "model_module": "@jupyter-widgets/controls",
      "model_module_version": "1.4.0",
      "model_name": "ButtonStyleModel",
      "state": {}
     },
     "04943e43136b47fc9bf6afc7a2c09829": {
      "model_module": "@jupyter-widgets/base",
      "model_module_version": "1.1.0",
      "model_name": "LayoutModel",
      "state": {}
     },
     "04f298bf2f284eefa6748d1d00160578": {
      "model_module": "@jupyter-widgets/controls",
      "model_module_version": "1.4.0",
      "model_name": "FloatTextModel",
      "state": {
       "layout": "IPY_MODEL_7ec136c068bd4388b7e20af61a34cdf7",
       "step": null,
       "style": "IPY_MODEL_b41bfd651e794c009b02bf74cae02c3c",
       "value": 500
      }
     },
     "055e1742de114c4bbc1c3b60ee516749": {
      "model_module": "@jupyter-widgets/base",
      "model_module_version": "1.1.0",
      "model_name": "LayoutModel",
      "state": {}
     },
     "0563e5ab19d4447fa02ef18101200ab1": {
      "model_module": "@jupyter-widgets/controls",
      "model_module_version": "1.4.0",
      "model_name": "TabModel",
      "state": {
       "_titles": {
        "0": "Malha"
       },
       "children": [
        "IPY_MODEL_66c8c47277e64dc5be58e41b144003ee"
       ],
       "layout": "IPY_MODEL_3d508a0df926497abde2e953b94931a1"
      }
     },
     "05835470a50f44cf9d185542f3987b3a": {
      "model_module": "@jupyter-widgets/controls",
      "model_module_version": "1.4.0",
      "model_name": "FloatProgressModel",
      "state": {
       "description": "67.5°:",
       "layout": "IPY_MODEL_cdc8b8d21ed14bb7a5a8fad48657a725",
       "max": 1,
       "style": "IPY_MODEL_4310b662c41646abb2d1261f6ed53a24",
       "value": 1
      }
     },
     "059377f52f894ae7ba150bba852de2a8": {
      "model_module": "@jupyter-widgets/controls",
      "model_module_version": "1.4.0",
      "model_name": "ButtonModel",
      "state": {
       "description": "Criar projeto",
       "layout": "IPY_MODEL_a9e5af6bb992458fb25fb19f4ddd268f",
       "style": "IPY_MODEL_b9efdfff5ad541a1a2b0233506924658",
       "tooltip": "Cria um novo projeto"
      }
     },
     "059ce139039944d785da3c0e401d262b": {
      "model_module": "@jupyter-widgets/controls",
      "model_module_version": "1.4.0",
      "model_name": "ButtonModel",
      "state": {
       "description": "Carregar projeto",
       "layout": "IPY_MODEL_3fd243a0876447a6ac45246021596307",
       "style": "IPY_MODEL_c87dae5e358445a982df56b4f755d558",
       "tooltip": "Carrega o .csv de um projeto já criado"
      }
     },
     "05a695d8e765410098d8fcfcf46b4eda": {
      "model_module": "@jupyter-widgets/controls",
      "model_module_version": "1.4.0",
      "model_name": "ProgressStyleModel",
      "state": {
       "description_width": ""
      }
     },
     "05aa248253474bef98fa427831f51804": {
      "model_module": "@jupyter-widgets/base",
      "model_module_version": "1.1.0",
      "model_name": "LayoutModel",
      "state": {
       "width": "30%"
      }
     },
     "05cae3959bb14a5ba85a3f78b1011372": {
      "model_module": "@jupyter-widgets/controls",
      "model_module_version": "1.4.0",
      "model_name": "ToggleButtonsModel",
      "state": {
       "_options_labels": [
        "Método SPM",
        "Método de Saville"
       ],
       "button_style": "",
       "icons": [],
       "index": 0,
       "layout": "IPY_MODEL_9ef04e77e89945f7a78256a0fa1c44f5",
       "style": "IPY_MODEL_d88dd12451ca4ff78c05d68a0f2df595",
       "tooltips": []
      }
     },
     "05dcf156973046fc88d534abfba74871": {
      "model_module": "@jupyter-widgets/controls",
      "model_module_version": "1.4.0",
      "model_name": "SelectModel",
      "state": {
       "_options_labels": [
        "22.5°",
        "225.0°",
        "270.0°",
        "315.0°",
        "337.5°",
        "67.5°",
        "90.0°"
       ],
       "description": "Direção (°):",
       "index": 3,
       "layout": "IPY_MODEL_95e72b5cf4e24b899e62a4fa9f2f1fd7",
       "style": "IPY_MODEL_f276e789ca1648009fd93e7eff05f25f"
      }
     },
     "05e079e086044ff0b53a4a1edd208b29": {
      "model_module": "@jupyter-widgets/base",
      "model_module_version": "1.1.0",
      "model_name": "LayoutModel",
      "state": {}
     },
     "05e3e28378d04028a1198854e0413cf6": {
      "model_module": "@jupyter-widgets/controls",
      "model_module_version": "1.4.0",
      "model_name": "DescriptionStyleModel",
      "state": {
       "description_width": ""
      }
     },
     "05ee69b6e513494486158e21c9ff3ceb": {
      "model_module": "@jupyter-widgets/base",
      "model_module_version": "1.1.0",
      "model_name": "LayoutModel",
      "state": {}
     },
     "060286e3d7b844569467fbe57f5dde1a": {
      "model_module": "@jupyter-widgets/controls",
      "model_module_version": "1.4.0",
      "model_name": "DescriptionStyleModel",
      "state": {
       "description_width": ""
      }
     },
     "0621bc2ffc0f4195bcb964f714102567": {
      "model_module": "@jupyter-widgets/controls",
      "model_module_version": "1.4.0",
      "model_name": "ProgressStyleModel",
      "state": {
       "description_width": ""
      }
     },
     "0644506bc908488b99f1d8d402812494": {
      "model_module": "@jupyter-widgets/controls",
      "model_module_version": "1.4.0",
      "model_name": "DescriptionStyleModel",
      "state": {
       "description_width": "initial"
      }
     },
     "06821f0efe8f4b20a7fa9e9f228c074e": {
      "model_module": "@jupyter-widgets/controls",
      "model_module_version": "1.4.0",
      "model_name": "ButtonModel",
      "state": {
       "description": "Criar projeto",
       "layout": "IPY_MODEL_8e421c0306bb43f399d574c69f549b96",
       "style": "IPY_MODEL_2750899e814b46e680f32d24bb9a144c",
       "tooltip": "Cria um novo projeto"
      }
     },
     "06875ca4a490499faacafd26ea7d707d": {
      "model_module": "@jupyter-widgets/controls",
      "model_module_version": "1.4.0",
      "model_name": "ToggleButtonsModel",
      "state": {
       "_options_labels": [
        "Método SPM",
        "Método de Saville"
       ],
       "button_style": "",
       "icons": [],
       "index": 0,
       "layout": "IPY_MODEL_3a6cacf7031544839530bfad7405fefa",
       "style": "IPY_MODEL_8193ac1a310246cba6f25fd0b5655621",
       "tooltips": []
      }
     },
     "06b8ffdb7edc496a8561519e6d3d4d10": {
      "model_module": "@jupyter-widgets/base",
      "model_module_version": "1.1.0",
      "model_name": "LayoutModel",
      "state": {}
     },
     "06d174c5561a4b349d3a7d03f4bedd94": {
      "model_module": "@jupyter-widgets/base",
      "model_module_version": "1.1.0",
      "model_name": "LayoutModel",
      "state": {}
     },
     "06fdaa61661a490c8bfb342e2183396e": {
      "model_module": "@jupyter-widgets/controls",
      "model_module_version": "1.4.0",
      "model_name": "ButtonModel",
      "state": {
       "description": "Carregar pista(s) de vento já processada(s)",
       "layout": "IPY_MODEL_36efcc2ffb3548c796ba2733f8a61e79",
       "style": "IPY_MODEL_2816a4a39f6242e5952b9b1a1e71aadf",
       "tooltip": "Carrega pista(s) de vento já processada(s)"
      }
     },
     "070aa9a0004e48c8b08a709d25d5b300": {
      "model_module": "@jupyter-widgets/base",
      "model_module_version": "1.1.0",
      "model_name": "LayoutModel",
      "state": {
       "width": "30%"
      }
     },
     "070f97e9ba3542b387d5022f67cedaa6": {
      "model_module": "@jupyter-widgets/base",
      "model_module_version": "1.1.0",
      "model_name": "LayoutModel",
      "state": {}
     },
     "071a0991d19b41b5a6d173b2aebe4146": {
      "model_module": "@jupyter-widgets/controls",
      "model_module_version": "1.4.0",
      "model_name": "ButtonStyleModel",
      "state": {}
     },
     "07768fadb7604c8db613aba148539808": {
      "model_module": "@jupyter-widgets/controls",
      "model_module_version": "1.4.0",
      "model_name": "TabModel",
      "state": {
       "_titles": {
        "0": "Pistas de Vento",
        "1": "Esquema de Cores"
       },
       "children": [
        "IPY_MODEL_13d12229ec8c401bb65058d3b521b429",
        "IPY_MODEL_347bef9e2e94422a9a3c40ca8ff16516"
       ],
       "layout": "IPY_MODEL_1af2c48d22a442f58183fa64c8f4c43e"
      }
     },
     "0794e1c0b692422096d292a6771afd77": {
      "model_module": "@jupyter-widgets/controls",
      "model_module_version": "1.4.0",
      "model_name": "TabModel",
      "state": {
       "_titles": {
        "0": "Malha"
       },
       "children": [
        "IPY_MODEL_009732feb1ad4c37af84a131456bc011"
       ],
       "layout": "IPY_MODEL_d4e52401a62b4d2497fbb75c7f14ef60"
      }
     },
     "07a068f1af1240d8b980269fdeaf4905": {
      "model_module": "@jupyter-widgets/controls",
      "model_module_version": "1.4.0",
      "model_name": "ButtonStyleModel",
      "state": {}
     },
     "07b0694b298d4fc7b2355c37b8038464": {
      "model_module": "@jupyter-widgets/base",
      "model_module_version": "1.1.0",
      "model_name": "LayoutModel",
      "state": {}
     },
     "07e0a0158a754a6fa896da6ddc6caa5a": {
      "model_module": "@jupyter-widgets/base",
      "model_module_version": "1.1.0",
      "model_name": "LayoutModel",
      "state": {}
     },
     "07f0f416ce6b4adab79eb32cbca85da5": {
      "model_module": "@jupyter-widgets/base",
      "model_module_version": "1.1.0",
      "model_name": "LayoutModel",
      "state": {}
     },
     "0833085da6004fd1abcbf10023ad1127": {
      "model_module": "@jupyter-widgets/base",
      "model_module_version": "1.1.0",
      "model_name": "LayoutModel",
      "state": {}
     },
     "085c4b65480e4b12833cdea2133d4969": {
      "model_module": "@jupyter-widgets/base",
      "model_module_version": "1.1.0",
      "model_name": "LayoutModel",
      "state": {}
     },
     "08fdab8b015f4217b486323cae15e495": {
      "model_module": "@jupyter-widgets/controls",
      "model_module_version": "1.4.0",
      "model_name": "TextModel",
      "state": {
       "layout": "IPY_MODEL_751c7c590c8949f1b320076d795af530",
       "style": "IPY_MODEL_5dff28b62cef46c5a03b9ba1abcef3c8",
       "value": "Teste"
      }
     },
     "090c665bf3de4ae8a0cc5cab909f40fe": {
      "model_module": "@jupyter-widgets/controls",
      "model_module_version": "1.4.0",
      "model_name": "TabModel",
      "state": {
       "_titles": {
        "0": "Projetos",
        "1": "Shapefiles"
       },
       "children": [
        "IPY_MODEL_b874b069379140529e73d204b1fddffc",
        "IPY_MODEL_289f636dda9d47688c349d729afdc25c"
       ],
       "layout": "IPY_MODEL_1a08dce6dfa14c3ba5590e18907c9154",
       "selected_index": 1
      }
     },
     "0925044e51704da2a5edd139e43fdeb2": {
      "model_module": "@jupyter-widgets/base",
      "model_module_version": "1.1.0",
      "model_name": "LayoutModel",
      "state": {
       "width": "400px"
      }
     },
     "0937525b2db540a68812930798259048": {
      "model_module": "@jupyter-widgets/controls",
      "model_module_version": "1.4.0",
      "model_name": "AccordionModel",
      "state": {
       "_titles": {
        "0": "Malha (m)"
       },
       "children": [
        "IPY_MODEL_932e664314384851b78c9e522f6d8dc1"
       ],
       "layout": "IPY_MODEL_d22c45a95e2247c1af7dbadb9afd5544"
      }
     },
     "09432570644542bca56f426950a565cd": {
      "model_module": "@jupyter-widgets/base",
      "model_module_version": "1.1.0",
      "model_name": "LayoutModel",
      "state": {}
     },
     "095b9237e2b046749d1bc4bf0b56508e": {
      "model_module": "@jupyter-widgets/base",
      "model_module_version": "1.1.0",
      "model_name": "LayoutModel",
      "state": {}
     },
     "0977badd53d641a698837924c9bfd92c": {
      "model_module": "@jupyter-widgets/controls",
      "model_module_version": "1.4.0",
      "model_name": "ButtonStyleModel",
      "state": {}
     },
     "09db9908e57143fcb8bd7ace0977e1f4": {
      "model_module": "@jupyter-widgets/controls",
      "model_module_version": "1.4.0",
      "model_name": "SelectModel",
      "state": {
       "_options_labels": [
        "157.5°"
       ],
       "description": "Direção (°):",
       "index": 0,
       "layout": "IPY_MODEL_210ec246b101400fb4a4da62269f6f0c",
       "style": "IPY_MODEL_9e7d15677ff54c4b949053d2bd375152"
      }
     },
     "0aadd297a5074aed8001e7b7549d889e": {
      "model_module": "@jupyter-widgets/base",
      "model_module_version": "1.1.0",
      "model_name": "LayoutModel",
      "state": {}
     },
     "0abdea487a854c738aa78380034b2068": {
      "model_module": "@jupyter-widgets/base",
      "model_module_version": "1.1.0",
      "model_name": "LayoutModel",
      "state": {}
     },
     "0abee896f3a34584ada12aa58726ef51": {
      "model_module": "@jupyter-widgets/controls",
      "model_module_version": "1.4.0",
      "model_name": "DropdownModel",
      "state": {
       "_options_labels": [
        "binary",
        "Blues",
        "brg",
        "BuGn",
        "cool",
        "cubehelix",
        "gist_earth",
        "gist_ncar",
        "gist_rainbow",
        "gnuplot",
        "gnuplot2",
        "hsv",
        "jet",
        "magma",
        "nipy_spectral",
        "ocean",
        "plasma",
        "rainbow",
        "Spectral",
        "terrain",
        "winter"
       ],
       "description": "Selecione o esquema de cores desejado:",
       "index": 12,
       "layout": "IPY_MODEL_e8472bb82a41402694debced5868d460",
       "style": "IPY_MODEL_4842bde05c694f9887cfa08fce316854"
      }
     },
     "0ae27154533140e19f245a35b021a2f5": {
      "model_module": "@jupyter-widgets/base",
      "model_module_version": "1.1.0",
      "model_name": "LayoutModel",
      "state": {}
     },
     "0b057fb9bdac47a68de77c801660b84a": {
      "model_module": "@jupyter-widgets/controls",
      "model_module_version": "1.4.0",
      "model_name": "ButtonModel",
      "state": {
       "description": "Criar projeto",
       "layout": "IPY_MODEL_1b5cdb327ad34efdbbb64aba54fae537",
       "style": "IPY_MODEL_33cb455ef5a644bcb8f88c26eb39afad",
       "tooltip": "Cria um novo projeto"
      }
     },
     "0b1d0e3902f348bb8044da504d9cf595": {
      "model_module": "@jupyter-widgets/base",
      "model_module_version": "1.1.0",
      "model_name": "LayoutModel",
      "state": {}
     },
     "0b266bf8c56944a5a5315faf61f80510": {
      "model_module": "@jupyter-widgets/controls",
      "model_module_version": "1.4.0",
      "model_name": "FloatTextModel",
      "state": {
       "layout": "IPY_MODEL_182e693d6e414e51bd27669e1592d9fd",
       "step": null,
       "style": "IPY_MODEL_9d6024c23327420caca4ecb9f0f5d479",
       "value": 400
      }
     },
     "0b5a257267c3493e920743d058047953": {
      "model_module": "@jupyter-widgets/base",
      "model_module_version": "1.1.0",
      "model_name": "LayoutModel",
      "state": {}
     },
     "0b8affc9da1247bfaf1bb84136e654f4": {
      "model_module": "@jupyter-widgets/controls",
      "model_module_version": "1.4.0",
      "model_name": "DescriptionStyleModel",
      "state": {
       "description_width": ""
      }
     },
     "0bb7897ba5444acf97d857b6751930e7": {
      "model_module": "@jupyter-widgets/base",
      "model_module_version": "1.1.0",
      "model_name": "LayoutModel",
      "state": {
       "width": "30%"
      }
     },
     "0bce2c34c03f4ab3b99288f486fce0fd": {
      "model_module": "@jupyter-widgets/controls",
      "model_module_version": "1.4.0",
      "model_name": "ButtonStyleModel",
      "state": {}
     },
     "0bd886d51a0340c9b1861d72b3a2a478": {
      "model_module": "@jupyter-widgets/controls",
      "model_module_version": "1.4.0",
      "model_name": "ButtonStyleModel",
      "state": {}
     },
     "0bee58b6d0ad4d5c8dadd6a8f76c23fd": {
      "model_module": "@jupyter-widgets/controls",
      "model_module_version": "1.4.0",
      "model_name": "DescriptionStyleModel",
      "state": {
       "description_width": ""
      }
     },
     "0c50d892bad34ff6acfc763b22893f3f": {
      "model_module": "@jupyter-widgets/base",
      "model_module_version": "1.1.0",
      "model_name": "LayoutModel",
      "state": {}
     },
     "0c6b09279ed44c58bf3d762b5924bf38": {
      "model_module": "@jupyter-widgets/controls",
      "model_module_version": "1.4.0",
      "model_name": "DescriptionStyleModel",
      "state": {
       "description_width": "initial"
      }
     },
     "0c721ab526384fcb8f8d7c913e3604ca": {
      "model_module": "@jupyter-widgets/controls",
      "model_module_version": "1.4.0",
      "model_name": "ToggleButtonsStyleModel",
      "state": {
       "button_width": "",
       "description_width": ""
      }
     },
     "0c78453a1bae48e9aee22a052a38e3d0": {
      "model_module": "@jupyter-widgets/controls",
      "model_module_version": "1.4.0",
      "model_name": "DescriptionStyleModel",
      "state": {
       "description_width": ""
      }
     },
     "0cff281b802b4265af04f6c0c5c94102": {
      "model_module": "@jupyter-widgets/controls",
      "model_module_version": "1.4.0",
      "model_name": "DropdownModel",
      "state": {
       "_options_labels": [
        "300",
        "600",
        "1200"
       ],
       "description": "Selecione a DPI desejada:",
       "index": 2,
       "layout": "IPY_MODEL_f809c92345e141c1b2d782c6f646811e",
       "style": "IPY_MODEL_1dcbcad971a247f6bc4f0ec50b8e379f"
      }
     },
     "0d5e4a15345d49e1b48a7cf29753b1c2": {
      "model_module": "@jupyter-widgets/controls",
      "model_module_version": "1.4.0",
      "model_name": "ButtonModel",
      "state": {
       "description": "Importar projeto",
       "layout": "IPY_MODEL_fe56ffb75bce48e39acd842b13d47566",
       "style": "IPY_MODEL_07a068f1af1240d8b980269fdeaf4905",
       "tooltip": "Importa o .csv de um projeto criado"
      }
     },
     "0d6975bd72d7446c82d271e2eabe429a": {
      "model_module": "@jupyter-widgets/base",
      "model_module_version": "1.1.0",
      "model_name": "LayoutModel",
      "state": {}
     },
     "0def1b8cd9634bffbd409b2b40bde7df": {
      "model_module": "@jupyter-widgets/controls",
      "model_module_version": "1.4.0",
      "model_name": "ButtonStyleModel",
      "state": {}
     },
     "0e144c71c9d142cf859f4d496f3a8986": {
      "model_module": "@jupyter-widgets/controls",
      "model_module_version": "1.4.0",
      "model_name": "AccordionModel",
      "state": {
       "_titles": {
        "0": "Métodos para obtenção dos fetchs"
       },
       "children": [
        "IPY_MODEL_b2924c722dd44c05b70506e57d23ed1f"
       ],
       "layout": "IPY_MODEL_90e0f3ef82c84db7be5c8e371d992821"
      }
     },
     "0edc58a03d54490798a76488b0c05cb4": {
      "model_module": "@jupyter-widgets/controls",
      "model_module_version": "1.4.0",
      "model_name": "DescriptionStyleModel",
      "state": {
       "description_width": ""
      }
     },
     "0ef33369f0254382b7985171e8d5deb2": {
      "model_module": "@jupyter-widgets/base",
      "model_module_version": "1.1.0",
      "model_name": "LayoutModel",
      "state": {}
     },
     "0ef8c2088c8e4979b9f5c809b5590904": {
      "model_module": "@jupyter-widgets/controls",
      "model_module_version": "1.4.0",
      "model_name": "DescriptionStyleModel",
      "state": {
       "description_width": "initial"
      }
     },
     "0f3b931f09e34393945a4ac3670db5f9": {
      "model_module": "@jupyter-widgets/controls",
      "model_module_version": "1.4.0",
      "model_name": "DescriptionStyleModel",
      "state": {
       "description_width": "initial"
      }
     },
     "0f5ebe4cacd1494cba6876b298aa8603": {
      "model_module": "@jupyter-widgets/controls",
      "model_module_version": "1.4.0",
      "model_name": "DescriptionStyleModel",
      "state": {
       "description_width": ""
      }
     },
     "0f70f67583134af0a4ebf420d373696a": {
      "model_module": "@jupyter-widgets/controls",
      "model_module_version": "1.4.0",
      "model_name": "ToggleButtonsModel",
      "state": {
       "_options_labels": [
        "Uma direção",
        "Todas as direções",
        "Outra direção"
       ],
       "button_style": "",
       "icons": [],
       "index": 0,
       "layout": "IPY_MODEL_965fa7945d6744d5b390d4e8f6aaf481",
       "style": "IPY_MODEL_363364d156ec45158b38dc4c2b7ca6ac",
       "tooltips": []
      }
     },
     "0f83a3aacfe848fc80df53b648db0c3f": {
      "model_module": "@jupyter-widgets/base",
      "model_module_version": "1.1.0",
      "model_name": "LayoutModel",
      "state": {}
     },
     "0f919efa919f43d497047a692edbee7b": {
      "model_module": "@jupyter-widgets/controls",
      "model_module_version": "1.4.0",
      "model_name": "DropdownModel",
      "state": {
       "_options_labels": [
        "300",
        "600",
        "1200"
       ],
       "description": "Selecione a DPI desejada:",
       "index": 2,
       "layout": "IPY_MODEL_6e16fada1af74c15abd06ec9821f7a91",
       "style": "IPY_MODEL_c795a2412a2e453d97f3302fa8676c46"
      }
     },
     "0fca741da31340938557c3d4ef363edc": {
      "model_module": "@jupyter-widgets/base",
      "model_module_version": "1.1.0",
      "model_name": "LayoutModel",
      "state": {}
     },
     "0ff4c04ae47c430ca2fdb1b1386b896d": {
      "model_module": "@jupyter-widgets/base",
      "model_module_version": "1.1.0",
      "model_name": "LayoutModel",
      "state": {}
     },
     "10130d2b18904054aab5ee5661383a6a": {
      "model_module": "@jupyter-widgets/base",
      "model_module_version": "1.1.0",
      "model_name": "LayoutModel",
      "state": {}
     },
     "1037e1b8a92d453c8058f8005c4393b5": {
      "model_module": "@jupyter-widgets/controls",
      "model_module_version": "1.4.0",
      "model_name": "SelectMultipleModel",
      "state": {
       "_options_labels": [
        "N (0.0°)",
        "NNE (22.5°)",
        "NE (45.0°)",
        "ENE (67.5°)",
        "E (90.0°)",
        "ESE (112.5°)",
        "SE (135.0°)",
        "SSE (157.5°)",
        "S (180.0°)",
        "SSW (202.5°)",
        "SW (225.0°)",
        "WSW (247.5°)",
        "W (270.0°)",
        "WNW (292.5°)",
        "NW (315.0°)",
        "NNW (337.5°)",
        "N (360.0°)"
       ],
       "description": "Selecione a direção (°) desejada:",
       "index": [
        3
       ],
       "layout": "IPY_MODEL_beda2bb6c3ad405fb82a29ec2e90471d",
       "rows": 5,
       "style": "IPY_MODEL_0f5ebe4cacd1494cba6876b298aa8603"
      }
     },
     "1079e25979874721b7bd766d41e458e8": {
      "model_module": "@jupyter-widgets/base",
      "model_module_version": "1.1.0",
      "model_name": "LayoutModel",
      "state": {}
     },
     "10ec8b2d0d9b4ce5a64959e52ad596ad": {
      "model_module": "@jupyter-widgets/controls",
      "model_module_version": "1.4.0",
      "model_name": "ButtonModel",
      "state": {
       "description": "Importar .shp",
       "layout": "IPY_MODEL_f52720d658fa458581e266e912638809",
       "style": "IPY_MODEL_a422ec6e967649679940ff52e04e6435",
       "tooltip": "Importa um .shp para processamento"
      }
     },
     "10f31c3ec1b7482f9788e94e46223517": {
      "model_module": "@jupyter-widgets/controls",
      "model_module_version": "1.4.0",
      "model_name": "AccordionModel",
      "state": {
       "_titles": {
        "0": "Carregar .shp",
        "1": "Carregar .shp de malha processada"
       },
       "children": [
        "IPY_MODEL_d47636af58ef40319ab5fdfd613bfefa",
        "IPY_MODEL_ae9b423db35945938818ce44ead94a92"
       ],
       "layout": "IPY_MODEL_7c9fc267cc2244848690115859d4cf71",
       "selected_index": 1
      }
     },
     "112b3f6198744723bef0f6fa73585db4": {
      "model_module": "@jupyter-widgets/controls",
      "model_module_version": "1.4.0",
      "model_name": "ButtonModel",
      "state": {
       "description": "Importar projeto",
       "layout": "IPY_MODEL_1079e25979874721b7bd766d41e458e8",
       "style": "IPY_MODEL_89b47273803c438b9ddf9d9901f3f523",
       "tooltip": "Importa o .csv de um projeto criado"
      }
     },
     "11791c1bda074931b23eba104731f0bb": {
      "model_module": "@jupyter-widgets/controls",
      "model_module_version": "1.4.0",
      "model_name": "ButtonStyleModel",
      "state": {}
     },
     "117aa4d2406d4824b0298865888238da": {
      "model_module": "@jupyter-widgets/controls",
      "model_module_version": "1.4.0",
      "model_name": "ButtonModel",
      "state": {
       "description": "Criar projeto",
       "layout": "IPY_MODEL_579d625f026d4f4b83cce38086e383a5",
       "style": "IPY_MODEL_c71bb6caf94d4bf1946fbe80579dd4fa",
       "tooltip": "Cria um novo projeto"
      }
     },
     "117dd147687745e48021e8878331c4ba": {
      "model_module": "@jupyter-widgets/controls",
      "model_module_version": "1.4.0",
      "model_name": "AccordionModel",
      "state": {
       "_titles": {
        "0": "Carregar .shp",
        "1": "Carregar .shp de malha processada"
       },
       "children": [
        "IPY_MODEL_85bee60d68dd4e36addaefc6b2c88483",
        "IPY_MODEL_22f4ddee52a74ba585ff4e78efa42e1d"
       ],
       "layout": "IPY_MODEL_6e777febafd34480b75cd4aa79327b29",
       "selected_index": 1
      }
     },
     "1194bb9dff2e4ae3a634d2169729b627": {
      "model_module": "@jupyter-widgets/controls",
      "model_module_version": "1.4.0",
      "model_name": "SelectModel",
      "state": {
       "_options_labels": [
        "0.0°"
       ],
       "description": "Direção (°):",
       "index": 0,
       "layout": "IPY_MODEL_6727bd36ed9e482b83fbb6488d2d1374",
       "style": "IPY_MODEL_77cdda7b03b345859807eb9d1f22a9e4"
      }
     },
     "11a59b3cf103404084618c62aa79c908": {
      "model_module": "@jupyter-widgets/base",
      "model_module_version": "1.1.0",
      "model_name": "LayoutModel",
      "state": {}
     },
     "11ba29e645594a14886981cc6e9e998b": {
      "model_module": "@jupyter-widgets/controls",
      "model_module_version": "1.4.0",
      "model_name": "ButtonStyleModel",
      "state": {}
     },
     "11f373f235d1450589237d6931637ec9": {
      "model_module": "@jupyter-widgets/controls",
      "model_module_version": "1.4.0",
      "model_name": "ButtonModel",
      "state": {
       "description": "Criar projeto",
       "layout": "IPY_MODEL_ae29e7f4c65c41aa8a68cafe6c765089",
       "style": "IPY_MODEL_997bf87b06bb47a08c3bb464ff1ae260",
       "tooltip": "Cria um novo projeto"
      }
     },
     "12315634cfaa4c30a0860a9ecd81d206": {
      "model_module": "@jupyter-widgets/controls",
      "model_module_version": "1.4.0",
      "model_name": "DescriptionStyleModel",
      "state": {
       "description_width": "initial"
      }
     },
     "1240c56064ed4516b78c9aeb91d7d07e": {
      "model_module": "@jupyter-widgets/controls",
      "model_module_version": "1.4.0",
      "model_name": "ButtonStyleModel",
      "state": {}
     },
     "125a2b2cc81040109823efdf5a17722f": {
      "model_module": "@jupyter-widgets/controls",
      "model_module_version": "1.4.0",
      "model_name": "ToggleButtonsStyleModel",
      "state": {
       "button_width": ""
      }
     },
     "12654f0bbf1143d2928b7d5a84c0bd74": {
      "model_module": "@jupyter-widgets/base",
      "model_module_version": "1.1.0",
      "model_name": "LayoutModel",
      "state": {}
     },
     "1290d5f89eb840389bdefc559d98c86c": {
      "model_module": "@jupyter-widgets/controls",
      "model_module_version": "1.4.0",
      "model_name": "ButtonModel",
      "state": {
       "description": "Importar projeto",
       "layout": "IPY_MODEL_2ff2ae10513042d1b5b70acce6498e2d",
       "style": "IPY_MODEL_6b72ea92bf90492ebefb0fb1cac188ef",
       "tooltip": "Importa o .csv de um projeto já criado"
      }
     },
     "1293c58d91424cca939b1402350ecfa0": {
      "model_module": "@jupyter-widgets/controls",
      "model_module_version": "1.4.0",
      "model_name": "DescriptionStyleModel",
      "state": {
       "description_width": "initial"
      }
     },
     "12bd12a75c5c4c4990a178b6ea0bc7cd": {
      "model_module": "@jupyter-widgets/base",
      "model_module_version": "1.1.0",
      "model_name": "LayoutModel",
      "state": {
       "width": "30%"
      }
     },
     "12d84b6ded96463ca4298fbb878565d6": {
      "model_module": "@jupyter-widgets/controls",
      "model_module_version": "1.4.0",
      "model_name": "ButtonModel",
      "state": {
       "description": "Importar .shp de malha processada",
       "layout": "IPY_MODEL_2c956ab0b75a40bfa459ced50c1f650f",
       "style": "IPY_MODEL_335edc5457714e379ca7b037d1b4dddc",
       "tooltip": "Importa um .shp que já teve sua malha processada"
      }
     },
     "12f33dbc6447450dadbe3cadb57b94c8": {
      "model_module": "@jupyter-widgets/base",
      "model_module_version": "1.1.0",
      "model_name": "LayoutModel",
      "state": {}
     },
     "130d64eeb82a4a778c2031205652f623": {
      "model_module": "@jupyter-widgets/base",
      "model_module_version": "1.1.0",
      "model_name": "LayoutModel",
      "state": {}
     },
     "1324db6ce8c54e7a867b1159450f7adf": {
      "model_module": "@jupyter-widgets/controls",
      "model_module_version": "1.4.0",
      "model_name": "AccordionModel",
      "state": {
       "_titles": {
        "0": "Modelo para obtenção dos fetchs:",
        "1": "Direções desejadas:"
       },
       "children": [
        "IPY_MODEL_d0b11bacb0044c9eb72852bb5dd66d62",
        "IPY_MODEL_44690c791bc146daa3ac882d87c28d92"
       ],
       "layout": "IPY_MODEL_5c21820fcaf84b208649dfb8e3203cc7",
       "selected_index": 1
      }
     },
     "1343f0ea7f4a43f19ab79b222f080dfd": {
      "model_module": "@jupyter-widgets/controls",
      "model_module_version": "1.4.0",
      "model_name": "AccordionModel",
      "state": {
       "_titles": {
        "0": "Criar projeto",
        "1": "Carregar projeto"
       },
       "children": [
        "IPY_MODEL_e156c13a252440a7b129ce7d57ce3804",
        "IPY_MODEL_4be436a8153c49809654889eb291f7fc"
       ],
       "layout": "IPY_MODEL_00eac362ee824336b7d2599e761cba8f",
       "selected_index": 1
      }
     },
     "13b94ff60af14920bb4fe69a58aeb433": {
      "model_module": "@jupyter-widgets/controls",
      "model_module_version": "1.4.0",
      "model_name": "DropdownModel",
      "state": {
       "_options_labels": [
        "300",
        "600",
        "1200"
       ],
       "description": "Selecione a DPI desejada:",
       "index": 2,
       "layout": "IPY_MODEL_83c45108868745a69606c7ae849c40f5",
       "style": "IPY_MODEL_2d713aef513f49b481cacf0a355609ce"
      }
     },
     "13cdb78d5ee04a7483f5296d65adda27": {
      "model_module": "@jupyter-widgets/base",
      "model_module_version": "1.1.0",
      "model_name": "LayoutModel",
      "state": {
       "width": "500px"
      }
     },
     "13d12229ec8c401bb65058d3b521b429": {
      "model_module": "@jupyter-widgets/controls",
      "model_module_version": "1.4.0",
      "model_name": "AccordionModel",
      "state": {
       "_titles": {
        "0": "Escolha da(s) pista(s) de vento"
       },
       "children": [
        "IPY_MODEL_8d2537dea9f847f3a51a8c53caeb02a6"
       ],
       "layout": "IPY_MODEL_f8a363a16b6446658fd02783f586c781"
      }
     },
     "13d1f58d0cf349f39834c1160c0ca558": {
      "model_module": "@jupyter-widgets/base",
      "model_module_version": "1.1.0",
      "model_name": "LayoutModel",
      "state": {}
     },
     "13ebabe336b74eadac9091bfc4b7bb45": {
      "model_module": "@jupyter-widgets/controls",
      "model_module_version": "1.4.0",
      "model_name": "AccordionModel",
      "state": {
       "_titles": {
        "0": "Métodos para obtenção das pistas de vento"
       },
       "children": [
        "IPY_MODEL_3f6cff670faa4899ae67a12c1dc11d5a"
       ],
       "layout": "IPY_MODEL_4fdc92d0ddd04f9d8d168018a2592e3d"
      }
     },
     "140128a6f2a2428e84ce7bd7c0a85398": {
      "model_module": "@jupyter-widgets/base",
      "model_module_version": "1.1.0",
      "model_name": "LayoutModel",
      "state": {}
     },
     "1408276d732b48ec9ad4762d4609cbb1": {
      "model_module": "@jupyter-widgets/controls",
      "model_module_version": "1.4.0",
      "model_name": "SelectModel",
      "state": {
       "_options_labels": [
        "0.0°",
        "112.5°",
        "135.0°",
        "157.5°",
        "180.0°",
        "202.5°",
        "22.5°",
        "225.0°",
        "225.0°",
        "247.5°",
        "270.0°",
        "270.0°",
        "292.5°",
        "315.0°",
        "315.0°",
        "337.5°",
        "360.0°",
        "45.0°",
        "67.5°",
        "90.0°",
        "90.0°"
       ],
       "description": "Direção (°):",
       "index": 0,
       "layout": "IPY_MODEL_e362f311cfeb4878ac994ea61628b0dd",
       "style": "IPY_MODEL_4175fb15845a42239749cc0aa0772ab7"
      }
     },
     "143176a54f5c496daf5dfa43e391b17d": {
      "model_module": "@jupyter-widgets/controls",
      "model_module_version": "1.4.0",
      "model_name": "FloatProgressModel",
      "state": {
       "description": "270.0°:",
       "layout": "IPY_MODEL_3640b5d9535f4574aa5a364748889b6a",
       "max": 1,
       "style": "IPY_MODEL_6538432f562f46ecab49ec3a88be438d",
       "value": 1
      }
     },
     "148888eb465f43bd97499966a6928d6b": {
      "model_module": "@jupyter-widgets/controls",
      "model_module_version": "1.4.0",
      "model_name": "DescriptionStyleModel",
      "state": {
       "description_width": ""
      }
     },
     "14d9bb70d5bf468e82e959ed77ec3c0a": {
      "model_module": "@jupyter-widgets/controls",
      "model_module_version": "1.4.0",
      "model_name": "AccordionModel",
      "state": {
       "_titles": {
        "0": "Direções convencionais",
        "1": "Direção específica"
       },
       "children": [
        "IPY_MODEL_ff285539c7cb4e0a976b218cff71f17f",
        "IPY_MODEL_a0ddc1f0ec5d49a5a0aaea37fa60c95c"
       ],
       "layout": "IPY_MODEL_5ccf13303eee4532ba7a91faa6c3b795"
      }
     },
     "14eb1269b99c4e418d1c9951d598f4f3": {
      "model_module": "@jupyter-widgets/base",
      "model_module_version": "1.1.0",
      "model_name": "LayoutModel",
      "state": {}
     },
     "1519fe3e24b340ee80450c7b9a1b979e": {
      "model_module": "@jupyter-widgets/controls",
      "model_module_version": "1.4.0",
      "model_name": "ButtonStyleModel",
      "state": {}
     },
     "153bd22665af4795bcde0342a32bca90": {
      "model_module": "@jupyter-widgets/base",
      "model_module_version": "1.1.0",
      "model_name": "LayoutModel",
      "state": {}
     },
     "1543c8d8db64441490a8df14ce957c94": {
      "model_module": "@jupyter-widgets/controls",
      "model_module_version": "1.4.0",
      "model_name": "DescriptionStyleModel",
      "state": {
       "description_width": "initial"
      }
     },
     "154aa97afbb44ccfad6087df2d38b679": {
      "model_module": "@jupyter-widgets/base",
      "model_module_version": "1.1.0",
      "model_name": "LayoutModel",
      "state": {}
     },
     "155562d58ae146d9be18afe705be9905": {
      "model_module": "@jupyter-widgets/controls",
      "model_module_version": "1.4.0",
      "model_name": "TabModel",
      "state": {
       "_titles": {
        "0": "Malha"
       },
       "children": [
        "IPY_MODEL_f94991b5106e43ad92dd74d04e41708f"
       ],
       "layout": "IPY_MODEL_6d7ccaf963cc4680bc9b7607e4da8787"
      }
     },
     "15632d3492b647b68ab6c355f3cc5dd0": {
      "model_module": "@jupyter-widgets/controls",
      "model_module_version": "1.4.0",
      "model_name": "ToggleButtonsModel",
      "state": {
       "_options_labels": [
        "Método SPM",
        "Método de Saville"
       ],
       "button_style": "",
       "icons": [],
       "index": 1,
       "layout": "IPY_MODEL_c9b5a33dccfd4287b3dd45c92f6797bc",
       "style": "IPY_MODEL_e03ec97bf1f5490492898f9bd710f63c",
       "tooltips": []
      }
     },
     "156f970b28d244e6a417d6d81af2d8f6": {
      "model_module": "@jupyter-widgets/controls",
      "model_module_version": "1.4.0",
      "model_name": "ButtonModel",
      "state": {
       "description": "Carregar .shp",
       "layout": "IPY_MODEL_784e6a363a8245af8eb4d21d1e90e4a2",
       "style": "IPY_MODEL_98710126526740a4b5d9194c733f87f3",
       "tooltip": "Carrega um .shp para processamento"
      }
     },
     "1575f19806d744d3ac1f16ed4de57a95": {
      "model_module": "@jupyter-widgets/base",
      "model_module_version": "1.1.0",
      "model_name": "LayoutModel",
      "state": {}
     },
     "15dee237d1584df1bd6faefb407b2ea4": {
      "model_module": "@jupyter-widgets/controls",
      "model_module_version": "1.4.0",
      "model_name": "DescriptionStyleModel",
      "state": {
       "description_width": ""
      }
     },
     "1605faa3bf5f450391d5849334af70ab": {
      "model_module": "@jupyter-widgets/base",
      "model_module_version": "1.1.0",
      "model_name": "LayoutModel",
      "state": {}
     },
     "1644682889c94f898396a1dc536033d5": {
      "model_module": "@jupyter-widgets/controls",
      "model_module_version": "1.4.0",
      "model_name": "ButtonStyleModel",
      "state": {}
     },
     "16472badfa7644d8b6360fcf513fef7d": {
      "model_module": "@jupyter-widgets/controls",
      "model_module_version": "1.4.0",
      "model_name": "TabModel",
      "state": {
       "_titles": {
        "0": "Métodos",
        "1": "Direções"
       },
       "children": [
        "IPY_MODEL_82ccc1f832054ce1b245eb717db54a56",
        "IPY_MODEL_6085925a52df407384b7131f4af948de"
       ],
       "layout": "IPY_MODEL_1fafa41591374def8766e7ecb9f7ca0a"
      }
     },
     "1667ba771b234057ace215f1fe075880": {
      "model_module": "@jupyter-widgets/base",
      "model_module_version": "1.1.0",
      "model_name": "LayoutModel",
      "state": {}
     },
     "16df73fced1445c7a190cb0ddfcdd34e": {
      "model_module": "@jupyter-widgets/controls",
      "model_module_version": "1.4.0",
      "model_name": "ButtonModel",
      "state": {
       "description": "Criar projeto",
       "layout": "IPY_MODEL_3325e0654e264ac382ab25861ad2d1f2",
       "style": "IPY_MODEL_bcb686535c94434a996c755b498a6a2c",
       "tooltip": "Cria um novo projeto"
      }
     },
     "172b10773c4f4369a7c4fde8af37b9ed": {
      "model_module": "@jupyter-widgets/controls",
      "model_module_version": "1.4.0",
      "model_name": "ButtonModel",
      "state": {
       "description": "Importar .shp",
       "layout": "IPY_MODEL_9585ad82f2b2435f8391c9ab5a075065",
       "style": "IPY_MODEL_01f70cc44c2d47b09fd67786382271d2",
       "tooltip": "Importa um .shp para processamento"
      }
     },
     "17423e5987c7444ca8afdcc06c373d1e": {
      "model_module": "@jupyter-widgets/controls",
      "model_module_version": "1.4.0",
      "model_name": "DescriptionStyleModel",
      "state": {
       "description_width": "initial"
      }
     },
     "175e2d8fb1874861836a69445d4c1ca9": {
      "model_module": "@jupyter-widgets/controls",
      "model_module_version": "1.4.0",
      "model_name": "DescriptionStyleModel",
      "state": {
       "description_width": "initial"
      }
     },
     "1797cbb0e0974fca818a3aa173ee7277": {
      "model_module": "@jupyter-widgets/controls",
      "model_module_version": "1.4.0",
      "model_name": "SelectModel",
      "state": {
       "_options_labels": [
        "67.5°"
       ],
       "description": "Direção (°):",
       "index": 0,
       "layout": "IPY_MODEL_30482e6b87e54525b194101141a1ee57",
       "style": "IPY_MODEL_84d77d5b78454dab8c5006e8bdbb076d"
      }
     },
     "17aae115d1184431add6bb2c5a1af872": {
      "model_module": "@jupyter-widgets/base",
      "model_module_version": "1.1.0",
      "model_name": "LayoutModel",
      "state": {}
     },
     "17ab3828aedd429ebe9a650542772aaa": {
      "model_module": "@jupyter-widgets/controls",
      "model_module_version": "1.4.0",
      "model_name": "ProgressStyleModel",
      "state": {
       "description_width": ""
      }
     },
     "17b27395de5640a8a899b9c7459548e3": {
      "model_module": "@jupyter-widgets/base",
      "model_module_version": "1.1.0",
      "model_name": "LayoutModel",
      "state": {}
     },
     "17be6a3b591e4a56a1f4c58888a2b445": {
      "model_module": "@jupyter-widgets/base",
      "model_module_version": "1.1.0",
      "model_name": "LayoutModel",
      "state": {
       "width": "30%"
      }
     },
     "17c4f356b85c4fdd9b1a0526cb3ea18f": {
      "model_module": "@jupyter-widgets/controls",
      "model_module_version": "1.4.0",
      "model_name": "AccordionModel",
      "state": {
       "_titles": {
        "0": "Nome desejado para o .shp:",
        "1": "Georreferenciamento:",
        "2": "Malha: (m)"
       },
       "children": [
        "IPY_MODEL_7115c429e687499da630221346d69178",
        "IPY_MODEL_b9d7298fac764a72a50248155cad7648",
        "IPY_MODEL_0b266bf8c56944a5a5315faf61f80510"
       ],
       "layout": "IPY_MODEL_7f9e34fdb37c4ee994f87e78225256ba",
       "selected_index": 2
      }
     },
     "17c813a459ef41dfb83063bfd9e51fb7": {
      "model_module": "@jupyter-widgets/base",
      "model_module_version": "1.1.0",
      "model_name": "LayoutModel",
      "state": {}
     },
     "17e0e6dbfc5345249ead9d0862e183a8": {
      "model_module": "@jupyter-widgets/controls",
      "model_module_version": "1.4.0",
      "model_name": "AccordionModel",
      "state": {
       "_titles": {
        "0": "Importar .shp",
        "1": "Importar .shp de malha processada"
       },
       "children": [
        "IPY_MODEL_172b10773c4f4369a7c4fde8af37b9ed",
        "IPY_MODEL_690af51ae0924acaa3c9f612f678b5ce"
       ],
       "layout": "IPY_MODEL_91c82cfff8dc4639b920cb0066bbbcdc"
      }
     },
     "17e2cf8f4fcf491d91887297c4afaa5d": {
      "model_module": "@jupyter-widgets/controls",
      "model_module_version": "1.4.0",
      "model_name": "AccordionModel",
      "state": {
       "_titles": {
        "0": "Direções convencionais",
        "1": "Direção específica"
       },
       "children": [
        "IPY_MODEL_1843579e937d4c7a92bc748a330a13dd",
        "IPY_MODEL_778eeee80dfd45c18482e1dab87c8116"
       ],
       "layout": "IPY_MODEL_45dc16ac3b0f4ad488f49e356b6379bf"
      }
     },
     "1829150970f649f197251f4b17109853": {
      "model_module": "@jupyter-widgets/base",
      "model_module_version": "1.1.0",
      "model_name": "LayoutModel",
      "state": {
       "width": "30%"
      }
     },
     "182e693d6e414e51bd27669e1592d9fd": {
      "model_module": "@jupyter-widgets/base",
      "model_module_version": "1.1.0",
      "model_name": "LayoutModel",
      "state": {}
     },
     "1843579e937d4c7a92bc748a330a13dd": {
      "model_module": "@jupyter-widgets/controls",
      "model_module_version": "1.4.0",
      "model_name": "SelectMultipleModel",
      "state": {
       "_options_labels": [
        "0.0°",
        "22.5°",
        "45.0°",
        "67.5°",
        "90.0°",
        "112.5°",
        "135.0°",
        "157.5°",
        "180.0°",
        "202.5°",
        "225.0°",
        "247.5°",
        "270.0°",
        "292.5°",
        "315.0°",
        "337.5°"
       ],
       "description": "Selecione a(s) direção(ões) (°) desejada(s):",
       "index": [],
       "layout": "IPY_MODEL_b608b3cc285a4ca4a72cd9c129ce32dd",
       "rows": 5,
       "style": "IPY_MODEL_95bf1baf85b9414e8bfa8e01f567a6ce"
      }
     },
     "18e0d0c8d79a48f080c527cc52287806": {
      "model_module": "@jupyter-widgets/base",
      "model_module_version": "1.1.0",
      "model_name": "LayoutModel",
      "state": {}
     },
     "192e23dfff094c3a8643b6ad2561caf7": {
      "model_module": "@jupyter-widgets/controls",
      "model_module_version": "1.4.0",
      "model_name": "ButtonModel",
      "state": {
       "description": "Carregar pista(s) de vento já processada(s)",
       "layout": "IPY_MODEL_75c4c9028ab147358a416a90e90ac8be",
       "style": "IPY_MODEL_d8f668bd42d1447cb79c4bb0ae67703a",
       "tooltip": "Carrega pista(s) de vento já processada(s)"
      }
     },
     "1985aba183ca40489f8e7b93ad13344e": {
      "model_module": "@jupyter-widgets/controls",
      "model_module_version": "1.4.0",
      "model_name": "SelectMultipleModel",
      "state": {
       "_options_labels": [
        "N (0.0°)",
        "NNE (22.5°)",
        "NE (45.0°)",
        "ENE (67.5°)",
        "E (90.0°)",
        "ESE (112.5°)",
        "SE (135.0°)",
        "SSE (157.5°)",
        "S (180.0°)",
        "SSW (202.5°)",
        "SW (225.0°)",
        "WSW (247.5°)",
        "W (270.0°)",
        "WNW (292.5°)",
        "NW (315.0°)",
        "NNW (337.5°)"
       ],
       "description": "Selecione a direção (°) desejada:",
       "index": [],
       "layout": "IPY_MODEL_cfc32f0eb0d44674912d94401d4e4018",
       "rows": 5,
       "style": "IPY_MODEL_24ede6bdd420495e99c520a8b939f0ec"
      }
     },
     "1a08dce6dfa14c3ba5590e18907c9154": {
      "model_module": "@jupyter-widgets/base",
      "model_module_version": "1.1.0",
      "model_name": "LayoutModel",
      "state": {}
     },
     "1a15b7f0363549c291499cc50ef667df": {
      "model_module": "@jupyter-widgets/controls",
      "model_module_version": "1.4.0",
      "model_name": "FloatProgressModel",
      "state": {
       "description": "292.5°:",
       "layout": "IPY_MODEL_06d174c5561a4b349d3a7d03f4bedd94",
       "max": 1,
       "style": "IPY_MODEL_2640b08a71b84107b27199af66b95262",
       "value": 1
      }
     },
     "1a2f0e434ce1498eba08a1b0ed5a4ed6": {
      "model_module": "@jupyter-widgets/controls",
      "model_module_version": "1.4.0",
      "model_name": "ButtonModel",
      "state": {
       "description": "Importar .shp",
       "layout": "IPY_MODEL_827bd926499749d8885a3a6d963cf1ea",
       "style": "IPY_MODEL_bad7d7ccf8754437addfe6b62459b304",
       "tooltip": "Importa um .shp para processamento"
      }
     },
     "1a6e2a0331a44169b7e3a8981efb0642": {
      "model_module": "@jupyter-widgets/controls",
      "model_module_version": "1.4.0",
      "model_name": "ToggleButtonsStyleModel",
      "state": {
       "button_width": "",
       "description_width": ""
      }
     },
     "1a91c77546204b1aad29be3ac55fc066": {
      "model_module": "@jupyter-widgets/controls",
      "model_module_version": "1.4.0",
      "model_name": "AccordionModel",
      "state": {
       "_titles": {
        "0": "Pistas de Vento"
       },
       "children": [
        "IPY_MODEL_f5622766fad448afb7e13e59c0e962e4"
       ],
       "layout": "IPY_MODEL_cb14086d296944e3a22d1f71f49ede16"
      }
     },
     "1ab3d834591f46b39ff2b8f5dc67185d": {
      "model_module": "@jupyter-widgets/base",
      "model_module_version": "1.1.0",
      "model_name": "LayoutModel",
      "state": {}
     },
     "1abeffdc59c141398d5018f88eccceff": {
      "model_module": "@jupyter-widgets/controls",
      "model_module_version": "1.4.0",
      "model_name": "DropdownModel",
      "state": {
       "_options_labels": [
        "300",
        "600",
        "1200"
       ],
       "description": "Selecione a DPI desejada:",
       "index": 2,
       "layout": "IPY_MODEL_3568ecf8d8794e9fa9610c55d8bb3311",
       "style": "IPY_MODEL_cd252dbb539e4a10b2e6da25ddbe7f31"
      }
     },
     "1af2c48d22a442f58183fa64c8f4c43e": {
      "model_module": "@jupyter-widgets/base",
      "model_module_version": "1.1.0",
      "model_name": "LayoutModel",
      "state": {}
     },
     "1afca61b03ea4480a2ba30365454e2b7": {
      "model_module": "@jupyter-widgets/base",
      "model_module_version": "1.1.0",
      "model_name": "LayoutModel",
      "state": {
       "width": "30%"
      }
     },
     "1b53df199bc74b22973c5d9d50df4552": {
      "model_module": "@jupyter-widgets/base",
      "model_module_version": "1.1.0",
      "model_name": "LayoutModel",
      "state": {}
     },
     "1b5cdb327ad34efdbbb64aba54fae537": {
      "model_module": "@jupyter-widgets/base",
      "model_module_version": "1.1.0",
      "model_name": "LayoutModel",
      "state": {}
     },
     "1b8929b33efa4a96833cb3ed2847a3f2": {
      "model_module": "@jupyter-widgets/controls",
      "model_module_version": "1.4.0",
      "model_name": "ProgressStyleModel",
      "state": {
       "description_width": ""
      }
     },
     "1bbbbc13ac234331af3198bcea7191a0": {
      "model_module": "@jupyter-widgets/controls",
      "model_module_version": "1.4.0",
      "model_name": "ProgressStyleModel",
      "state": {
       "description_width": ""
      }
     },
     "1becced753b74c74bee3079981c19e0f": {
      "model_module": "@jupyter-widgets/base",
      "model_module_version": "1.1.0",
      "model_name": "LayoutModel",
      "state": {}
     },
     "1bf31893fdc547e49a706ab3fd22f7be": {
      "model_module": "@jupyter-widgets/controls",
      "model_module_version": "1.4.0",
      "model_name": "FloatTextModel",
      "state": {
       "layout": "IPY_MODEL_28ff647d0e44433fbf63459afc49b88d",
       "step": null,
       "style": "IPY_MODEL_e9924da4e5ad493b9823370e89b76312"
      }
     },
     "1c43fe282b6242c5acfe84d0081a52dc": {
      "model_module": "@jupyter-widgets/base",
      "model_module_version": "1.1.0",
      "model_name": "LayoutModel",
      "state": {}
     },
     "1c8604e10df94d4aa78966fb6e6b3fb6": {
      "model_module": "@jupyter-widgets/base",
      "model_module_version": "1.1.0",
      "model_name": "LayoutModel",
      "state": {
       "width": "400px"
      }
     },
     "1c9b561ba81a465388c574a675c3ddba": {
      "model_module": "@jupyter-widgets/base",
      "model_module_version": "1.1.0",
      "model_name": "LayoutModel",
      "state": {}
     },
     "1cf3795a1c6844359654ed9b0d8bfcb5": {
      "model_module": "@jupyter-widgets/controls",
      "model_module_version": "1.4.0",
      "model_name": "ButtonModel",
      "state": {
       "description": "Carregar .shp de malha processada",
       "layout": "IPY_MODEL_291bebdd20e34bc5b78f3a1b836922f3",
       "style": "IPY_MODEL_3979f50af7cf436a9cf040be870816a3",
       "tooltip": "Carrega um .shp que já teve sua malha processada"
      }
     },
     "1d3ed5f974234560a6034c96d861c208": {
      "model_module": "@jupyter-widgets/controls",
      "model_module_version": "1.4.0",
      "model_name": "TabModel",
      "state": {
       "_titles": {
        "0": "Malha"
       },
       "children": [
        "IPY_MODEL_5073ba51dd7243ac93145882f7f27002"
       ],
       "layout": "IPY_MODEL_d7394d4737bb47a8856b298c308af1d8"
      }
     },
     "1d5b764bc06347cc875fd18cd376e6c3": {
      "model_module": "@jupyter-widgets/controls",
      "model_module_version": "1.4.0",
      "model_name": "ToggleButtonsModel",
      "state": {
       "_options_labels": [
        "Método SPM",
        "Método de Saville"
       ],
       "button_style": "",
       "icons": [],
       "index": 0,
       "layout": "IPY_MODEL_a2b72bc0d0f14303b1ac761510d7845b",
       "style": "IPY_MODEL_00d25afdc99b4bf2a1d1e13a21d23787",
       "tooltips": []
      }
     },
     "1d90961de24b4cdaaac385f91d77c07b": {
      "model_module": "@jupyter-widgets/base",
      "model_module_version": "1.1.0",
      "model_name": "LayoutModel",
      "state": {}
     },
     "1d92d3ef7e8d4baca713c60be2e7777c": {
      "model_module": "@jupyter-widgets/controls",
      "model_module_version": "1.4.0",
      "model_name": "SelectModel",
      "state": {
       "_options_labels": [
        "90.0°"
       ],
       "description": "Direção (°):",
       "index": 0,
       "layout": "IPY_MODEL_22c468c05838407bbb32eedd3fa044ee",
       "style": "IPY_MODEL_6ab97b36d0a542f2b710557fdb15e85e"
      }
     },
     "1dba3bd1ec554d5f9aab04ef09a85f69": {
      "model_module": "@jupyter-widgets/controls",
      "model_module_version": "1.4.0",
      "model_name": "TabModel",
      "state": {
       "_titles": {
        "0": "Malha"
       },
       "children": [
        "IPY_MODEL_74ffe665ea314a5788b7c4c863b48e7e"
       ],
       "layout": "IPY_MODEL_8aa45b465f1f4f2a995112973483a361"
      }
     },
     "1dc66c4c49a24fd982961679b04c31eb": {
      "model_module": "@jupyter-widgets/controls",
      "model_module_version": "1.4.0",
      "model_name": "ButtonModel",
      "state": {
       "description": "Importar .shp de malha processada",
       "layout": "IPY_MODEL_070aa9a0004e48c8b08a709d25d5b300",
       "style": "IPY_MODEL_c32082db076c4698a59789431c4e0917",
       "tooltip": "Importa um .shp que já teve sua malha processada"
      }
     },
     "1dc78b9d193d4e4da8a5c87ff546282b": {
      "model_module": "@jupyter-widgets/controls",
      "model_module_version": "1.4.0",
      "model_name": "DescriptionStyleModel",
      "state": {
       "description_width": "initial"
      }
     },
     "1dcbcad971a247f6bc4f0ec50b8e379f": {
      "model_module": "@jupyter-widgets/controls",
      "model_module_version": "1.4.0",
      "model_name": "DescriptionStyleModel",
      "state": {
       "description_width": "initial"
      }
     },
     "1ddebe7acda5486dbef9af5e153d7fb1": {
      "model_module": "@jupyter-widgets/base",
      "model_module_version": "1.1.0",
      "model_name": "LayoutModel",
      "state": {}
     },
     "1e48a511cbab4b19b1815c4c7fff0f7c": {
      "model_module": "@jupyter-widgets/controls",
      "model_module_version": "1.4.0",
      "model_name": "DescriptionStyleModel",
      "state": {
       "description_width": ""
      }
     },
     "1e681ca1ac73473daedb57ac26c10c3a": {
      "model_module": "@jupyter-widgets/base",
      "model_module_version": "1.1.0",
      "model_name": "LayoutModel",
      "state": {}
     },
     "1f12efea14f14cff951846ada4911caf": {
      "model_module": "@jupyter-widgets/base",
      "model_module_version": "1.1.0",
      "model_name": "LayoutModel",
      "state": {}
     },
     "1f492c56d5c248b285f2e0ab6c0e1fc6": {
      "model_module": "@jupyter-widgets/base",
      "model_module_version": "1.1.0",
      "model_name": "LayoutModel",
      "state": {
       "width": "30%"
      }
     },
     "1f50713085b94520a60d496b69a8695c": {
      "model_module": "@jupyter-widgets/controls",
      "model_module_version": "1.4.0",
      "model_name": "ButtonModel",
      "state": {
       "description": "Carregar .shp",
       "layout": "IPY_MODEL_33665f23a327434486d578a8ed8973d0",
       "style": "IPY_MODEL_8a801f65bc0d48b3a33333f77ceb8086",
       "tooltip": "Carrega um .shp para processamento"
      }
     },
     "1fafa41591374def8766e7ecb9f7ca0a": {
      "model_module": "@jupyter-widgets/base",
      "model_module_version": "1.1.0",
      "model_name": "LayoutModel",
      "state": {}
     },
     "1fde07c9ebee442e818a44eb3f15906a": {
      "model_module": "@jupyter-widgets/base",
      "model_module_version": "1.1.0",
      "model_name": "LayoutModel",
      "state": {
       "width": "400px"
      }
     },
     "1fdebb6f6f8a4e2c86c83f2f447687ef": {
      "model_module": "@jupyter-widgets/controls",
      "model_module_version": "1.4.0",
      "model_name": "AccordionModel",
      "state": {
       "_titles": {
        "0": "Escolha do esquema de cores desejado"
       },
       "children": [
        "IPY_MODEL_2b5eaf8fcead4251a3ad8a52f30c61a1"
       ],
       "layout": "IPY_MODEL_58c5e95a7eac4747b0e7ff2050de24d6"
      }
     },
     "1fdfbda6b81544df81ceec195d935148": {
      "model_module": "@jupyter-widgets/controls",
      "model_module_version": "1.4.0",
      "model_name": "AccordionModel",
      "state": {
       "_titles": {
        "0": "Criar projeto",
        "1": "Importar projeto"
       },
       "children": [
        "IPY_MODEL_2ca2ce2251a84b13a653a4a0d99ded36",
        "IPY_MODEL_e397ddf08a094e5e8f51184cb817e69a"
       ],
       "layout": "IPY_MODEL_7df7406e1cb24ecb854633870927919e",
       "selected_index": 1
      }
     },
     "2002911e0dcd4a81bc2d08419674fe3c": {
      "model_module": "@jupyter-widgets/controls",
      "model_module_version": "1.4.0",
      "model_name": "FloatTextModel",
      "state": {
       "description": "Outra direção (°):",
       "layout": "IPY_MODEL_f6c3a0e658b9489f81f52e8cc5d0b174",
       "step": null,
       "style": "IPY_MODEL_8c9716cd2ce3439487fab5c95c12cb98"
      }
     },
     "2048c212c06d49949ce4df44760b4889": {
      "model_module": "@jupyter-widgets/controls",
      "model_module_version": "1.4.0",
      "model_name": "ToggleButtonsStyleModel",
      "state": {
       "button_width": ""
      }
     },
     "20993877872940918eeb082e5202b93b": {
      "model_module": "@jupyter-widgets/controls",
      "model_module_version": "1.4.0",
      "model_name": "DescriptionStyleModel",
      "state": {
       "description_width": "initial"
      }
     },
     "20a0156f04564b2ca1ed31b8f76598ee": {
      "model_module": "@jupyter-widgets/controls",
      "model_module_version": "1.4.0",
      "model_name": "AccordionModel",
      "state": {
       "_titles": {
        "0": "Direções convencionais",
        "1": "Direção específica"
       },
       "children": [
        "IPY_MODEL_cb2e841829d24820839a872a3a51466e",
        "IPY_MODEL_93e8c11b51244cdd8a00989b3a5d7e81"
       ],
       "layout": "IPY_MODEL_269f4c3b0c9942308440410b8738488c"
      }
     },
     "20c8d4e707ed43019035b0c482a9d207": {
      "model_module": "@jupyter-widgets/controls",
      "model_module_version": "1.4.0",
      "model_name": "ButtonStyleModel",
      "state": {}
     },
     "20db6234119446fa85daf7990382b5b6": {
      "model_module": "@jupyter-widgets/controls",
      "model_module_version": "1.4.0",
      "model_name": "ProgressStyleModel",
      "state": {
       "description_width": ""
      }
     },
     "20fa6177cbba427886e15fec7076faab": {
      "model_module": "@jupyter-widgets/controls",
      "model_module_version": "1.4.0",
      "model_name": "TabModel",
      "state": {
       "_titles": {
        "0": "Pistas de Vento",
        "1": "Esquema de Cores"
       },
       "children": [
        "IPY_MODEL_e41c566cd1dd4f9ab90abe6c707699cb",
        "IPY_MODEL_38bea5f7cd6c4b428eac8aa5874f5c37"
       ],
       "layout": "IPY_MODEL_66987783a55e4cb190ed51ffffa3628e"
      }
     },
     "210aa3fb82c14f809efe4ca8acab3ca1": {
      "model_module": "@jupyter-widgets/base",
      "model_module_version": "1.1.0",
      "model_name": "LayoutModel",
      "state": {}
     },
     "210ec246b101400fb4a4da62269f6f0c": {
      "model_module": "@jupyter-widgets/base",
      "model_module_version": "1.1.0",
      "model_name": "LayoutModel",
      "state": {}
     },
     "214e4327560e452992d6bd3ef1849393": {
      "model_module": "@jupyter-widgets/controls",
      "model_module_version": "1.4.0",
      "model_name": "FloatProgressModel",
      "state": {
       "description": "45.0°:",
       "layout": "IPY_MODEL_9a84dca702b94cef97afd00d28cf5f2d",
       "max": 1,
       "style": "IPY_MODEL_b70b23d5a1944ed6948d623fafbedaba",
       "value": 1
      }
     },
     "21681a9448bf431f83a71079a803c769": {
      "model_module": "@jupyter-widgets/controls",
      "model_module_version": "1.4.0",
      "model_name": "AccordionModel",
      "state": {
       "_titles": {
        "0": "Métodos para obtenção de pistas de vento"
       },
       "children": [
        "IPY_MODEL_e30805e24f9446b09fe17fba9357b03e"
       ],
       "layout": "IPY_MODEL_caab413a99c9447d88ddf44af1442c3c"
      }
     },
     "216afbe9a08b45d1a6c8f8d1af8e5bb0": {
      "model_module": "@jupyter-widgets/controls",
      "model_module_version": "1.4.0",
      "model_name": "AccordionModel",
      "state": {
       "_titles": {
        "0": "Carregar .shp",
        "1": "Carregar .shp de malha processada"
       },
       "children": [
        "IPY_MODEL_8e81e504a5c34d8c9ae5936d7a792719",
        "IPY_MODEL_012dc088e247440d9fb6c44da85ff83a"
       ],
       "layout": "IPY_MODEL_674ed5517a0c4d338cf826806c42f662"
      }
     },
     "217e70339fcf484e86f0d3a8ccd77286": {
      "model_module": "@jupyter-widgets/controls",
      "model_module_version": "1.4.0",
      "model_name": "TabModel",
      "state": {
       "_titles": {
        "0": "Malha"
       },
       "children": [
        "IPY_MODEL_6ff2c848daf447e8ad7f25edff3c60d6"
       ],
       "layout": "IPY_MODEL_f8cf580ea13543d38453d3eb1edc766a"
      }
     },
     "21993ceda51a4d09843225fed2d2f8ef": {
      "model_module": "@jupyter-widgets/base",
      "model_module_version": "1.1.0",
      "model_name": "LayoutModel",
      "state": {}
     },
     "21cd9afae3d84806934b2804f89c86ba": {
      "model_module": "@jupyter-widgets/controls",
      "model_module_version": "1.4.0",
      "model_name": "DescriptionStyleModel",
      "state": {
       "description_width": ""
      }
     },
     "21f1ce7926094a388d1fa839a7675532": {
      "model_module": "@jupyter-widgets/controls",
      "model_module_version": "1.4.0",
      "model_name": "ButtonModel",
      "state": {
       "description": "Importar projeto",
       "layout": "IPY_MODEL_5310593b435c44e1aeb4b88b0c6acd4d",
       "style": "IPY_MODEL_57117f55459742b3a7c98d153b9dd126",
       "tooltip": "Importa o .csv de um projeto já criado"
      }
     },
     "2209ebff5fb74200b0e05d75d190ab73": {
      "model_module": "@jupyter-widgets/controls",
      "model_module_version": "1.4.0",
      "model_name": "ButtonStyleModel",
      "state": {}
     },
     "221dd97e7e4c4ad7b848e04e85d04391": {
      "model_module": "@jupyter-widgets/base",
      "model_module_version": "1.1.0",
      "model_name": "LayoutModel",
      "state": {}
     },
     "223e47b4c7c94c20a14918c12a7c9409": {
      "model_module": "@jupyter-widgets/controls",
      "model_module_version": "1.4.0",
      "model_name": "ButtonStyleModel",
      "state": {}
     },
     "22c468c05838407bbb32eedd3fa044ee": {
      "model_module": "@jupyter-widgets/base",
      "model_module_version": "1.1.0",
      "model_name": "LayoutModel",
      "state": {}
     },
     "22cc5c7d65694a22a1346c8ffc218187": {
      "model_module": "@jupyter-widgets/base",
      "model_module_version": "1.1.0",
      "model_name": "LayoutModel",
      "state": {}
     },
     "22e08379c556431abbe13d38ad433d91": {
      "model_module": "@jupyter-widgets/controls",
      "model_module_version": "1.4.0",
      "model_name": "ButtonStyleModel",
      "state": {}
     },
     "22e3b7c87c9745d3a3efcd86b73b605b": {
      "model_module": "@jupyter-widgets/controls",
      "model_module_version": "1.4.0",
      "model_name": "ButtonStyleModel",
      "state": {}
     },
     "22f4ddee52a74ba585ff4e78efa42e1d": {
      "model_module": "@jupyter-widgets/controls",
      "model_module_version": "1.4.0",
      "model_name": "ButtonModel",
      "state": {
       "description": "Carregar .shp de malha processada",
       "layout": "IPY_MODEL_30ad7c9d70424e879c6c302b331189aa",
       "style": "IPY_MODEL_071a0991d19b41b5a6d173b2aebe4146",
       "tooltip": "Carrega um .shp que já teve sua malha processada"
      }
     },
     "22f7c0759eed4608bf165926ff3c921e": {
      "model_module": "@jupyter-widgets/base",
      "model_module_version": "1.1.0",
      "model_name": "LayoutModel",
      "state": {}
     },
     "22faac17d986444588860a4a869982c2": {
      "model_module": "@jupyter-widgets/controls",
      "model_module_version": "1.4.0",
      "model_name": "ButtonModel",
      "state": {
       "description": "Criar projeto",
       "layout": "IPY_MODEL_7356e91a254d407993e300b78683dc8c",
       "style": "IPY_MODEL_a6f8662bb7114afd97adb100a4535930",
       "tooltip": "Cria um novo projeto"
      }
     },
     "2325ef29f0ea4c3fb4ff3cbf736234cd": {
      "model_module": "@jupyter-widgets/base",
      "model_module_version": "1.1.0",
      "model_name": "LayoutModel",
      "state": {}
     },
     "2355f3e0a9a34d74bea9a070a346a385": {
      "model_module": "@jupyter-widgets/controls",
      "model_module_version": "1.4.0",
      "model_name": "AccordionModel",
      "state": {
       "_titles": {
        "0": "Carregar .shp",
        "1": "Carregar .shp de malha processada"
       },
       "children": [
        "IPY_MODEL_5fc87d97bc654ba0a887695dfd028835",
        "IPY_MODEL_84a4ff0134934b68ad8f906dd5c79afa"
       ],
       "layout": "IPY_MODEL_878852065f6e4e8290ba7c3ff4d2201c",
       "selected_index": 1
      }
     },
     "23739bd1e7a14b9e959a371e14c04418": {
      "model_module": "@jupyter-widgets/controls",
      "model_module_version": "1.4.0",
      "model_name": "TextModel",
      "state": {
       "description": "Outra direção (°):",
       "layout": "IPY_MODEL_9ef30b4cd4374eae8e481774992cbd0c",
       "style": "IPY_MODEL_65fd5650666b4cf7a3b5843d810989d2"
      }
     },
     "23c7e1bae7b44af794edf815123d563f": {
      "model_module": "@jupyter-widgets/controls",
      "model_module_version": "1.4.0",
      "model_name": "FloatTextModel",
      "state": {
       "description": "Outra direção (°):",
       "layout": "IPY_MODEL_aed046e6a782464083b7c6590d09f74d",
       "step": null,
       "style": "IPY_MODEL_8bd5d2932d8b400c9fc8dd4ef7659de3"
      }
     },
     "2415fd58e8534a4e9ffa9c23b8d7785b": {
      "model_module": "@jupyter-widgets/controls",
      "model_module_version": "1.4.0",
      "model_name": "SelectModel",
      "state": {
       "_options_labels": [
        "67.5°"
       ],
       "description": "Direção (°):",
       "index": 0,
       "layout": "IPY_MODEL_5d1e5d369a7b44f99bd09e0450c0eaa8",
       "style": "IPY_MODEL_45fcde1cd5694087a2ad5b6d3f4229c6"
      }
     },
     "246a827940f748ff96827bd4c3a471e0": {
      "model_module": "@jupyter-widgets/controls",
      "model_module_version": "1.4.0",
      "model_name": "AccordionModel",
      "state": {
       "_titles": {
        "0": "Escolha da(s) pista(s) de vento"
       },
       "children": [
        "IPY_MODEL_3b12f2930d2b43509511529618bf9efe"
       ],
       "layout": "IPY_MODEL_c9c203e6be104cbebf1bdc96bb96dd8a"
      }
     },
     "2486cc0f2b224111ac49aa823ef1db2a": {
      "model_module": "@jupyter-widgets/controls",
      "model_module_version": "1.4.0",
      "model_name": "ButtonStyleModel",
      "state": {}
     },
     "24a0197776924a18a0f1b894e230e5ac": {
      "model_module": "@jupyter-widgets/controls",
      "model_module_version": "1.4.0",
      "model_name": "DropdownModel",
      "state": {
       "_options_labels": [
        "Accent",
        "afmhot",
        "autumn",
        "binary",
        "Blues",
        "bone",
        "BrBG",
        "brg",
        "BuGn",
        "BuPu",
        "bwr",
        "CMRmap",
        "cool",
        "coolwarm",
        "copper",
        "cubehelix",
        "Dark2",
        "flag",
        "gist_earth",
        "gist_gray",
        "gist_heat",
        "gist_ncar",
        "gist_rainbow",
        "gist_stern",
        "gist_yarg",
        "GnBu",
        "gnuplot",
        "gnuplot2",
        "gray",
        "Greens",
        "Greys",
        "hot",
        "hsv",
        "inferno",
        "jet",
        "magma",
        "nipy_spectral",
        "ocean",
        "Oranges",
        "OrRd",
        "Paired",
        "Pastel1",
        "Pastel2",
        "pink",
        "PiYG",
        "plasma",
        "PRGn",
        "prism",
        "PuBu",
        "PuBuGn",
        "PuOr",
        "PuRd",
        "Purples",
        "rainbow",
        "RdBu",
        "RdGy",
        "RdPu",
        "RdYlBu",
        "RdYlGn",
        "Reds",
        "seismic",
        "Set1",
        "Set2",
        "Set3",
        "Spectral",
        "spring",
        "summer",
        "tab10",
        "tab20",
        "tab20b",
        "tab20c",
        "terrain",
        "viridis",
        "winter",
        "Wistia",
        "YlGn",
        "YlGnBu",
        "YlOrBr",
        "YlOrRd"
       ],
       "description": "Selecione o esquema de cores desejado para a imagem:",
       "index": 32,
       "layout": "IPY_MODEL_13cdb78d5ee04a7483f5296d65adda27",
       "style": "IPY_MODEL_3cb3a75219f74029895d68974e27e097"
      }
     },
     "24ae54cf88f74255b1d57d2557db58a6": {
      "model_module": "@jupyter-widgets/controls",
      "model_module_version": "1.4.0",
      "model_name": "ProgressStyleModel",
      "state": {
       "description_width": ""
      }
     },
     "24ede6bdd420495e99c520a8b939f0ec": {
      "model_module": "@jupyter-widgets/controls",
      "model_module_version": "1.4.0",
      "model_name": "DescriptionStyleModel",
      "state": {
       "description_width": "initial"
      }
     },
     "2520b261a1d845b2818d2726ccef7146": {
      "model_module": "@jupyter-widgets/base",
      "model_module_version": "1.1.0",
      "model_name": "LayoutModel",
      "state": {}
     },
     "258211d7d95045d0aa13e6b3f83a8ec0": {
      "model_module": "@jupyter-widgets/base",
      "model_module_version": "1.1.0",
      "model_name": "LayoutModel",
      "state": {}
     },
     "259e8c2af045430ca2e937b02a478bc6": {
      "model_module": "@jupyter-widgets/controls",
      "model_module_version": "1.4.0",
      "model_name": "DescriptionStyleModel",
      "state": {
       "description_width": ""
      }
     },
     "25ae47ab269b4db59942d871c9a50083": {
      "model_module": "@jupyter-widgets/controls",
      "model_module_version": "1.4.0",
      "model_name": "ToggleButtonsStyleModel",
      "state": {
       "button_width": ""
      }
     },
     "260eb539d92343e9b21784851c05575d": {
      "model_module": "@jupyter-widgets/base",
      "model_module_version": "1.1.0",
      "model_name": "LayoutModel",
      "state": {
       "width": "400px"
      }
     },
     "2640b08a71b84107b27199af66b95262": {
      "model_module": "@jupyter-widgets/controls",
      "model_module_version": "1.4.0",
      "model_name": "ProgressStyleModel",
      "state": {
       "description_width": ""
      }
     },
     "265415d4c63345909363b0ed74467fdb": {
      "model_module": "@jupyter-widgets/controls",
      "model_module_version": "1.4.0",
      "model_name": "ButtonModel",
      "state": {
       "description": "Importar projeto",
       "layout": "IPY_MODEL_7a04b88206084a2488cbc188f96d55c0",
       "style": "IPY_MODEL_f1d58f6cfefa4fb1a218968322f86d98",
       "tooltip": "Importa o .csv de um projeto criado"
      }
     },
     "2677c5ac6e154d6787d6d588a84bffbc": {
      "model_module": "@jupyter-widgets/base",
      "model_module_version": "1.1.0",
      "model_name": "LayoutModel",
      "state": {}
     },
     "269f4c3b0c9942308440410b8738488c": {
      "model_module": "@jupyter-widgets/base",
      "model_module_version": "1.1.0",
      "model_name": "LayoutModel",
      "state": {}
     },
     "27138644a64e409e95de1b9a724894ab": {
      "model_module": "@jupyter-widgets/controls",
      "model_module_version": "1.4.0",
      "model_name": "SelectModel",
      "state": {
       "_options_labels": [
        "0.0°"
       ],
       "description": "Direção (°):",
       "index": 0,
       "layout": "IPY_MODEL_6b1601333cf14e61b25b4127a2113830",
       "style": "IPY_MODEL_c3eed41a208e4ffd9daaafed74b2b0af"
      }
     },
     "2714d963491d43fe906be34cd2354aa3": {
      "model_module": "@jupyter-widgets/controls",
      "model_module_version": "1.4.0",
      "model_name": "TabModel",
      "state": {
       "_titles": {
        "0": "Métodos",
        "1": "Direções"
       },
       "children": [
        "IPY_MODEL_317b43338718476f9f8a3a90ff853e2d",
        "IPY_MODEL_4f00285a2979420ab6c79506f8c10241"
       ],
       "layout": "IPY_MODEL_dd9cc898880549fb81a27913c63671df",
       "selected_index": 1
      }
     },
     "2750899e814b46e680f32d24bb9a144c": {
      "model_module": "@jupyter-widgets/controls",
      "model_module_version": "1.4.0",
      "model_name": "ButtonStyleModel",
      "state": {}
     },
     "27888edfc7bb4a0fb9d1f8e0d1c97ffb": {
      "model_module": "@jupyter-widgets/controls",
      "model_module_version": "1.4.0",
      "model_name": "ButtonModel",
      "state": {
       "description": "Importar projeto",
       "layout": "IPY_MODEL_f99ab5c80a424f03b487b3a404496f4a",
       "style": "IPY_MODEL_ead66e3b866b45268b19a955365a5cc1",
       "tooltip": "Importa o .csv de um projeto criado"
      }
     },
     "27a921c09e3845c296c685a2fb955d41": {
      "model_module": "@jupyter-widgets/controls",
      "model_module_version": "1.4.0",
      "model_name": "FloatProgressModel",
      "state": {
       "description": "135.0°:",
       "layout": "IPY_MODEL_2e2d1a4104c44f6e966e5748b7dd06cb",
       "max": 1,
       "style": "IPY_MODEL_ef458d353c7247ce89143d735f2a09bf",
       "value": 1
      }
     },
     "27c04f3b99244afbb3b40e20c824f57c": {
      "model_module": "@jupyter-widgets/base",
      "model_module_version": "1.1.0",
      "model_name": "LayoutModel",
      "state": {
       "width": "30%"
      }
     },
     "27f278b8839f492aaad479aaaf407252": {
      "model_module": "@jupyter-widgets/base",
      "model_module_version": "1.1.0",
      "model_name": "LayoutModel",
      "state": {}
     },
     "27fda240ca3146f4944ab7d9d85f1135": {
      "model_module": "@jupyter-widgets/controls",
      "model_module_version": "1.4.0",
      "model_name": "FloatProgressModel",
      "state": {
       "description": "90.00°:",
       "layout": "IPY_MODEL_0d6975bd72d7446c82d271e2eabe429a",
       "max": 1,
       "style": "IPY_MODEL_85ba3a150b1f4d9abdc15b3df84c7d1c",
       "value": 1
      }
     },
     "2816a4a39f6242e5952b9b1a1e71aadf": {
      "model_module": "@jupyter-widgets/controls",
      "model_module_version": "1.4.0",
      "model_name": "ButtonStyleModel",
      "state": {}
     },
     "285b4297b4cd497788c797c24d8d7761": {
      "model_module": "@jupyter-widgets/base",
      "model_module_version": "1.1.0",
      "model_name": "LayoutModel",
      "state": {}
     },
     "28676d6377df45ab9c1cfe97a65fccad": {
      "model_module": "@jupyter-widgets/controls",
      "model_module_version": "1.4.0",
      "model_name": "TabModel",
      "state": {
       "_titles": {
        "0": "Pistas de Vento",
        "1": "Esquema de Cores"
       },
       "children": [
        "IPY_MODEL_37d16293ba9d486bb2ce231ca2a719e9",
        "IPY_MODEL_f68637287f23457eacac18e1a9acfe03"
       ],
       "layout": "IPY_MODEL_0b1d0e3902f348bb8044da504d9cf595"
      }
     },
     "287885d21bee47b89f50b7838dde2b54": {
      "model_module": "@jupyter-widgets/controls",
      "model_module_version": "1.4.0",
      "model_name": "TabModel",
      "state": {
       "_titles": {
        "0": "Projetos",
        "1": "Shapefiles"
       },
       "children": [
        "IPY_MODEL_ca8ad37bc3524c69be1bcb6a57e2473f",
        "IPY_MODEL_b00d86abb06c493b8092e07a55fd0dc8"
       ],
       "layout": "IPY_MODEL_6b472d1e8c0e462bae0b4ee6dfd8c151",
       "selected_index": 1
      }
     },
     "289ab4c7baff4cd7956f5dabc606ee3d": {
      "model_module": "@jupyter-widgets/controls",
      "model_module_version": "1.4.0",
      "model_name": "DescriptionStyleModel",
      "state": {
       "description_width": "initial"
      }
     },
     "289f636dda9d47688c349d729afdc25c": {
      "model_module": "@jupyter-widgets/controls",
      "model_module_version": "1.4.0",
      "model_name": "AccordionModel",
      "state": {
       "_titles": {
        "0": "Importar .shp",
        "1": "Importar .shp de malha processada"
       },
       "children": [
        "IPY_MODEL_e64ccc37d8c74fca8594d8dd6b20fcfe",
        "IPY_MODEL_4d4f1422a6cf4e5eaeddf4dccabd33c9"
       ],
       "layout": "IPY_MODEL_b6d8f601ad1f4d06914debf14440fb1b"
      }
     },
     "28df588a361f4b00a789c3c4dc9ec193": {
      "model_module": "@jupyter-widgets/base",
      "model_module_version": "1.1.0",
      "model_name": "LayoutModel",
      "state": {}
     },
     "28dfc3548681463f8f48b305c31ddb11": {
      "model_module": "@jupyter-widgets/controls",
      "model_module_version": "1.4.0",
      "model_name": "FloatTextModel",
      "state": {
       "layout": "IPY_MODEL_8bb883295db64a6abedc63105ff1f4b4",
       "step": null,
       "style": "IPY_MODEL_574984d4a95346f8a85db2934ad3d69c",
       "value": 500
      }
     },
     "28eceda378e4462ba388a8ca21c9c710": {
      "model_module": "@jupyter-widgets/controls",
      "model_module_version": "1.4.0",
      "model_name": "ButtonStyleModel",
      "state": {}
     },
     "28ff647d0e44433fbf63459afc49b88d": {
      "model_module": "@jupyter-widgets/base",
      "model_module_version": "1.1.0",
      "model_name": "LayoutModel",
      "state": {}
     },
     "2900b9975e3045ee87f046c0ea33a5a4": {
      "model_module": "@jupyter-widgets/controls",
      "model_module_version": "1.4.0",
      "model_name": "AccordionModel",
      "state": {
       "_titles": {
        "0": "Criar projeto",
        "1": "Carregar projeto"
       },
       "children": [
        "IPY_MODEL_7102147672824b92851b052f23f016c7",
        "IPY_MODEL_6149515510f34b9e9429c014ab35136f"
       ],
       "layout": "IPY_MODEL_951ca24dfa8945ccb7c75c300a873ed2"
      }
     },
     "2915e42d2ef548adbfacd25e1bb61467": {
      "model_module": "@jupyter-widgets/controls",
      "model_module_version": "1.4.0",
      "model_name": "DescriptionStyleModel",
      "state": {
       "description_width": "initial"
      }
     },
     "291bebdd20e34bc5b78f3a1b836922f3": {
      "model_module": "@jupyter-widgets/base",
      "model_module_version": "1.1.0",
      "model_name": "LayoutModel",
      "state": {
       "width": "30%"
      }
     },
     "293bc0e3a8f94b25b19694686f98db87": {
      "model_module": "@jupyter-widgets/base",
      "model_module_version": "1.1.0",
      "model_name": "LayoutModel",
      "state": {
       "width": "30%"
      }
     },
     "294b04fb1fc140068d884bf4c20122a6": {
      "model_module": "@jupyter-widgets/base",
      "model_module_version": "1.1.0",
      "model_name": "LayoutModel",
      "state": {}
     },
     "2963a38eeb5b4c729bb892ae4cf2a544": {
      "model_module": "@jupyter-widgets/controls",
      "model_module_version": "1.4.0",
      "model_name": "ButtonModel",
      "state": {
       "description": "Importar projeto",
       "layout": "IPY_MODEL_dbc1ae497f9341e09d093cde3b0f8d8f",
       "style": "IPY_MODEL_e82507d5efab4fadb80d6338b933d516",
       "tooltip": "Importa o .csv de um projeto criado"
      }
     },
     "29966bcd93804c54b20f31cca1399e77": {
      "model_module": "@jupyter-widgets/base",
      "model_module_version": "1.1.0",
      "model_name": "LayoutModel",
      "state": {}
     },
     "29d5fb5c5e1b425aa71646bf7ba6f63a": {
      "model_module": "@jupyter-widgets/controls",
      "model_module_version": "1.4.0",
      "model_name": "AccordionModel",
      "state": {
       "_titles": {
        "0": "Direções convencionais",
        "1": "Direção específica"
       },
       "children": [
        "IPY_MODEL_5e1df844c7464cd492d25e2aeaeb9982",
        "IPY_MODEL_7b62516b0a63402b97ba5c17fecca11d"
       ],
       "layout": "IPY_MODEL_797442be0f384e46a29ffdc696d13640"
      }
     },
     "2a450df3ea7a4e5c94fbd2cc27fdaeab": {
      "model_module": "@jupyter-widgets/base",
      "model_module_version": "1.1.0",
      "model_name": "LayoutModel",
      "state": {}
     },
     "2a52f90970ff47f2b718d1803e4af0fc": {
      "model_module": "@jupyter-widgets/controls",
      "model_module_version": "1.4.0",
      "model_name": "FloatTextModel",
      "state": {
       "layout": "IPY_MODEL_fee2612cd2c740a0ae1813d2c2a27f92",
       "step": null,
       "style": "IPY_MODEL_8538d27e68094d219582751067ab6712",
       "value": 200
      }
     },
     "2a5f163a74724e47b08be4e1c46946bf": {
      "model_module": "@jupyter-widgets/base",
      "model_module_version": "1.1.0",
      "model_name": "LayoutModel",
      "state": {
       "width": "30%"
      }
     },
     "2a9de499e03a4755bc3e44311b44c3b6": {
      "model_module": "@jupyter-widgets/base",
      "model_module_version": "1.1.0",
      "model_name": "LayoutModel",
      "state": {}
     },
     "2ac6db0119dc4ab4821ecf372585cd8d": {
      "model_module": "@jupyter-widgets/controls",
      "model_module_version": "1.4.0",
      "model_name": "AccordionModel",
      "state": {
       "_titles": {
        "0": "Nome desejado para o .shp:",
        "1": "Georreferenciamento:",
        "2": "Malha: (m)"
       },
       "children": [
        "IPY_MODEL_2e8b0caffeff48238c640dca98a6f791",
        "IPY_MODEL_8931ed7760ba4352b06fd70dda0c0c9a",
        "IPY_MODEL_efddb5c782294ed6af50c7723d7f76da"
       ],
       "layout": "IPY_MODEL_bb3c9cf1480749d892d4251a0b546a37",
       "selected_index": 2
      }
     },
     "2ad96a5321ca4898b0fc9e4fef4b46a1": {
      "model_module": "@jupyter-widgets/controls",
      "model_module_version": "1.4.0",
      "model_name": "ToggleButtonsModel",
      "state": {
       "_options_labels": [
        "Método SPM",
        "Método de Saville"
       ],
       "button_style": "",
       "icons": [],
       "index": 1,
       "layout": "IPY_MODEL_f48060d9f05c4a7ebaf06dc0116190e1",
       "style": "IPY_MODEL_2ea74d1c78e1471da155a504a905a332",
       "tooltips": []
      }
     },
     "2b028c0902d54b74906bfc59e82b6ccb": {
      "model_module": "@jupyter-widgets/controls",
      "model_module_version": "1.4.0",
      "model_name": "TabModel",
      "state": {
       "_titles": {
        "0": "Projetos",
        "1": "Shapefiles"
       },
       "children": [
        "IPY_MODEL_1343f0ea7f4a43f19ab79b222f080dfd",
        "IPY_MODEL_2355f3e0a9a34d74bea9a070a346a385"
       ],
       "layout": "IPY_MODEL_99f5e441757a48e898af11d6b2d45d47",
       "selected_index": 1
      }
     },
     "2b040c79a52e44609d319a5cdb37d016": {
      "model_module": "@jupyter-widgets/controls",
      "model_module_version": "1.4.0",
      "model_name": "ButtonModel",
      "state": {
       "description": "Carregar pista(s) de vento já processada(s)",
       "layout": "IPY_MODEL_fbd620f77fb84e459a05d70df8bec098",
       "style": "IPY_MODEL_4044c6b289e74cd0a515b8c8023efc38",
       "tooltip": "Carrega pista(s) de vento já processada(s)"
      }
     },
     "2b1b045b48904040bef5329c0f77b134": {
      "model_module": "@jupyter-widgets/controls",
      "model_module_version": "1.4.0",
      "model_name": "DescriptionStyleModel",
      "state": {
       "description_width": "initial"
      }
     },
     "2b20c05813bd4d29a96b6c4ea1928855": {
      "model_module": "@jupyter-widgets/base",
      "model_module_version": "1.1.0",
      "model_name": "LayoutModel",
      "state": {}
     },
     "2b40a70fe15e4f259aee793fdb533ed9": {
      "model_module": "@jupyter-widgets/controls",
      "model_module_version": "1.4.0",
      "model_name": "ButtonModel",
      "state": {
       "description": "Carregar .shp de malha processada",
       "layout": "IPY_MODEL_9fedefb046104c80aed8f003753e567e",
       "style": "IPY_MODEL_497624104ea04484a5b4e5a7257c94f9",
       "tooltip": "Carrega um .shp que já teve sua malha processada"
      }
     },
     "2b5eaf8fcead4251a3ad8a52f30c61a1": {
      "model_module": "@jupyter-widgets/controls",
      "model_module_version": "1.4.0",
      "model_name": "DropdownModel",
      "state": {
       "_options_labels": [
        "Accent",
        "afmhot",
        "autumn",
        "binary",
        "Blues",
        "bone",
        "BrBG",
        "brg",
        "BuGn",
        "BuPu",
        "bwr",
        "CMRmap",
        "cool",
        "coolwarm",
        "copper",
        "cubehelix",
        "Dark2",
        "flag",
        "gist_earth",
        "gist_gray",
        "gist_heat",
        "gist_ncar",
        "gist_rainbow",
        "gist_stern",
        "gist_yarg",
        "GnBu",
        "gnuplot",
        "gnuplot2",
        "gray",
        "Greens",
        "Greys",
        "hot",
        "hsv",
        "inferno",
        "jet",
        "magma",
        "nipy_spectral",
        "ocean",
        "Oranges",
        "OrRd",
        "Paired",
        "Pastel1",
        "Pastel2",
        "pink",
        "PiYG",
        "plasma",
        "PRGn",
        "prism",
        "PuBu",
        "PuBuGn",
        "PuOr",
        "PuRd",
        "Purples",
        "rainbow",
        "RdBu",
        "RdGy",
        "RdPu",
        "RdYlBu",
        "RdYlGn",
        "Reds",
        "seismic",
        "Set1",
        "Set2",
        "Set3",
        "Spectral",
        "spring",
        "summer",
        "tab10",
        "tab20",
        "tab20b",
        "tab20c",
        "terrain",
        "viridis",
        "winter",
        "Wistia",
        "YlGn",
        "YlGnBu",
        "YlOrBr",
        "YlOrRd"
       ],
       "description": "Selecione o esquema de cores desejado para a imagem:",
       "index": 36,
       "layout": "IPY_MODEL_58543f5ff500406294e30cb7ac04c338",
       "style": "IPY_MODEL_2b1b045b48904040bef5329c0f77b134"
      }
     },
     "2b8c771b4c8c4673990c7211568523b4": {
      "model_module": "@jupyter-widgets/base",
      "model_module_version": "1.1.0",
      "model_name": "LayoutModel",
      "state": {}
     },
     "2b9896dd5fa94e928b21fc1b35ec1f99": {
      "model_module": "@jupyter-widgets/controls",
      "model_module_version": "1.4.0",
      "model_name": "ButtonModel",
      "state": {
       "description": "Criar projeto",
       "layout": "IPY_MODEL_22f7c0759eed4608bf165926ff3c921e",
       "style": "IPY_MODEL_e97457cbcf6d4d859cd7eba2d98d74ea",
       "tooltip": "Cria um novo projeto"
      }
     },
     "2ba8ca181ce64cb9b3641a40413c5d8f": {
      "model_module": "@jupyter-widgets/base",
      "model_module_version": "1.1.0",
      "model_name": "LayoutModel",
      "state": {}
     },
     "2bb746dc2c8d40a39f835f9c8365fee5": {
      "model_module": "@jupyter-widgets/controls",
      "model_module_version": "1.4.0",
      "model_name": "FloatProgressModel",
      "state": {
       "description": "67.5°:",
       "layout": "IPY_MODEL_780938c951e94900b4c485371edfa6c4",
       "max": 1,
       "style": "IPY_MODEL_5db98e1d8919422593aede19d456d53e",
       "value": 1
      }
     },
     "2c7cd7aff6094036a5f68ac0da867244": {
      "model_module": "@jupyter-widgets/base",
      "model_module_version": "1.1.0",
      "model_name": "LayoutModel",
      "state": {}
     },
     "2c956ab0b75a40bfa459ced50c1f650f": {
      "model_module": "@jupyter-widgets/base",
      "model_module_version": "1.1.0",
      "model_name": "LayoutModel",
      "state": {
       "width": "30%"
      }
     },
     "2ca2ce2251a84b13a653a4a0d99ded36": {
      "model_module": "@jupyter-widgets/controls",
      "model_module_version": "1.4.0",
      "model_name": "ButtonModel",
      "state": {
       "description": "Criar projeto",
       "layout": "IPY_MODEL_9abf897183a94b32a68241fb075723fb",
       "style": "IPY_MODEL_aa2f74a076ae42e7bf4ec15e21f70347",
       "tooltip": "Cria um novo projeto"
      }
     },
     "2ca66884a4f546cd9c85a289b87e2f50": {
      "model_module": "@jupyter-widgets/controls",
      "model_module_version": "1.4.0",
      "model_name": "TabModel",
      "state": {
       "_titles": {
        "0": "Pistas de vento",
        "1": "DPI",
        "2": "Esquema de cores"
       },
       "children": [
        "IPY_MODEL_5b3ab83a1a914e44b8e2ff4a5d1dfdaa",
        "IPY_MODEL_48046a271a8f4b12ba8a1905918c93b4",
        "IPY_MODEL_00f5330d65de40e99ab2e1bb51aa7893"
       ],
       "layout": "IPY_MODEL_d21c87cccaec447e8a291d15955e83ee",
       "selected_index": 1
      }
     },
     "2cc2d889a31a488da1c09eacb4a2d16b": {
      "model_module": "@jupyter-widgets/base",
      "model_module_version": "1.1.0",
      "model_name": "LayoutModel",
      "state": {}
     },
     "2ccd3e0bc956439c8f6fa1ffd82bddff": {
      "model_module": "@jupyter-widgets/base",
      "model_module_version": "1.1.0",
      "model_name": "LayoutModel",
      "state": {}
     },
     "2d32fa340d3048bba6e17c6c46b509a5": {
      "model_module": "@jupyter-widgets/base",
      "model_module_version": "1.1.0",
      "model_name": "LayoutModel",
      "state": {}
     },
     "2d67895a6c9f4115861868f67e3298b3": {
      "model_module": "@jupyter-widgets/controls",
      "model_module_version": "1.4.0",
      "model_name": "DescriptionStyleModel",
      "state": {
       "description_width": "initial"
      }
     },
     "2d6e67128e634f8c9e2353a730b45e99": {
      "model_module": "@jupyter-widgets/controls",
      "model_module_version": "1.4.0",
      "model_name": "TabModel",
      "state": {
       "_titles": {
        "0": "Projetos",
        "1": "Shapefiles"
       },
       "children": [
        "IPY_MODEL_2900b9975e3045ee87f046c0ea33a5a4",
        "IPY_MODEL_df1e23802bfd45e9b6f265fbceece0ce"
       ],
       "layout": "IPY_MODEL_68fd4064ef7c40988e8e8ed10442d8e4",
       "selected_index": 1
      }
     },
     "2d713aef513f49b481cacf0a355609ce": {
      "model_module": "@jupyter-widgets/controls",
      "model_module_version": "1.4.0",
      "model_name": "DescriptionStyleModel",
      "state": {
       "description_width": "initial"
      }
     },
     "2d897ab17c054ba2867303dea9be82e4": {
      "model_module": "@jupyter-widgets/base",
      "model_module_version": "1.1.0",
      "model_name": "LayoutModel",
      "state": {}
     },
     "2dae5e98320745d19d91a1850fe45c58": {
      "model_module": "@jupyter-widgets/base",
      "model_module_version": "1.1.0",
      "model_name": "LayoutModel",
      "state": {}
     },
     "2de0c34fd40747ada50725e76f534ba3": {
      "model_module": "@jupyter-widgets/base",
      "model_module_version": "1.1.0",
      "model_name": "LayoutModel",
      "state": {
       "width": "500px"
      }
     },
     "2de44e9daeb440279ff2b23147958756": {
      "model_module": "@jupyter-widgets/controls",
      "model_module_version": "1.4.0",
      "model_name": "AccordionModel",
      "state": {
       "_titles": {
        "0": "Escolha do esquema de cores desejado"
       },
       "children": [
        "IPY_MODEL_24a0197776924a18a0f1b894e230e5ac"
       ],
       "layout": "IPY_MODEL_7839f8732f58483aaa247a987bf1b0ea"
      }
     },
     "2df5856adf0e46569b69d72d65463f55": {
      "model_module": "@jupyter-widgets/base",
      "model_module_version": "1.1.0",
      "model_name": "LayoutModel",
      "state": {}
     },
     "2e2d1a4104c44f6e966e5748b7dd06cb": {
      "model_module": "@jupyter-widgets/base",
      "model_module_version": "1.1.0",
      "model_name": "LayoutModel",
      "state": {}
     },
     "2e75e2e4ad69410ab4b60dcff9adfdff": {
      "model_module": "@jupyter-widgets/controls",
      "model_module_version": "1.4.0",
      "model_name": "ButtonStyleModel",
      "state": {}
     },
     "2e8b0caffeff48238c640dca98a6f791": {
      "model_module": "@jupyter-widgets/controls",
      "model_module_version": "1.4.0",
      "model_name": "TextModel",
      "state": {
       "layout": "IPY_MODEL_a992acfd942c427a98e7d4f8b3e9e391",
       "style": "IPY_MODEL_7388d23444d8428b8365894048dd75e9",
       "value": "Rio Paraná (Campinal)"
      }
     },
     "2ea443de72b944a3b0f98550a87e5e08": {
      "model_module": "@jupyter-widgets/controls",
      "model_module_version": "1.4.0",
      "model_name": "ButtonStyleModel",
      "state": {}
     },
     "2ea74d1c78e1471da155a504a905a332": {
      "model_module": "@jupyter-widgets/controls",
      "model_module_version": "1.4.0",
      "model_name": "ToggleButtonsStyleModel",
      "state": {
       "button_width": ""
      }
     },
     "2ec4ab6d7ec04ab8a1ed125051d6861b": {
      "model_module": "@jupyter-widgets/base",
      "model_module_version": "1.1.0",
      "model_name": "LayoutModel",
      "state": {}
     },
     "2ed9d6b138374eb3afd042411911dbfd": {
      "model_module": "@jupyter-widgets/base",
      "model_module_version": "1.1.0",
      "model_name": "LayoutModel",
      "state": {}
     },
     "2eda6a2c0bd64c8898388dca129065a3": {
      "model_module": "@jupyter-widgets/controls",
      "model_module_version": "1.4.0",
      "model_name": "SelectModel",
      "state": {
       "_options_labels": [
        "0.0°",
        "112.5°",
        "135.0°",
        "157.5°",
        "180.0°",
        "202.5°",
        "22.5°",
        "225.0°",
        "247.5°",
        "270.0°",
        "292.5°",
        "315.0°",
        "337.5°",
        "360.0°",
        "45.0°",
        "67.5°",
        "90.0°"
       ],
       "description": "Direção (°):",
       "index": 16,
       "layout": "IPY_MODEL_70b2e704d79c4b4bac8d82d72f1e3c5f",
       "style": "IPY_MODEL_607ab3edb853497a80a18d99c6a9cfdb"
      }
     },
     "2f00822e48814264a4785ed8d275a18e": {
      "model_module": "@jupyter-widgets/controls",
      "model_module_version": "1.4.0",
      "model_name": "ToggleButtonsModel",
      "state": {
       "_options_labels": [
        "Uma direção",
        "Todas as direções",
        "Outra direção"
       ],
       "button_style": "",
       "icons": [],
       "index": 0,
       "layout": "IPY_MODEL_f6d957700fed4221a15d4b1d16391462",
       "style": "IPY_MODEL_d4a9e4788cae4c9f8b9ab9adcacc7a3a",
       "tooltips": []
      }
     },
     "2f713c55b830489e81dcf7d86443a103": {
      "model_module": "@jupyter-widgets/base",
      "model_module_version": "1.1.0",
      "model_name": "LayoutModel",
      "state": {}
     },
     "2f7365c3ba2b40a88a152529a528e46c": {
      "model_module": "@jupyter-widgets/controls",
      "model_module_version": "1.4.0",
      "model_name": "TabModel",
      "state": {
       "_titles": {
        "0": "Pistas de vento",
        "1": "DPI",
        "2": "Esquema de cores"
       },
       "children": [
        "IPY_MODEL_6ce901ce1fd64e2e917586d8eb8b9ded",
        "IPY_MODEL_13b94ff60af14920bb4fe69a58aeb433",
        "IPY_MODEL_c3c73ac1683947edb617ab7bfd7338b7"
       ],
       "layout": "IPY_MODEL_0aadd297a5074aed8001e7b7549d889e"
      }
     },
     "2f7da2074d8545088da3795c3bcddf45": {
      "model_module": "@jupyter-widgets/base",
      "model_module_version": "1.1.0",
      "model_name": "LayoutModel",
      "state": {}
     },
     "2fbadc4d908b402ea592144513086b4f": {
      "model_module": "@jupyter-widgets/controls",
      "model_module_version": "1.4.0",
      "model_name": "DescriptionStyleModel",
      "state": {
       "description_width": ""
      }
     },
     "2ff2ae10513042d1b5b70acce6498e2d": {
      "model_module": "@jupyter-widgets/base",
      "model_module_version": "1.1.0",
      "model_name": "LayoutModel",
      "state": {}
     },
     "30482e6b87e54525b194101141a1ee57": {
      "model_module": "@jupyter-widgets/base",
      "model_module_version": "1.1.0",
      "model_name": "LayoutModel",
      "state": {}
     },
     "30ad7c9d70424e879c6c302b331189aa": {
      "model_module": "@jupyter-widgets/base",
      "model_module_version": "1.1.0",
      "model_name": "LayoutModel",
      "state": {
       "width": "30%"
      }
     },
     "30faab7fc5f74f09819575c0891ccc74": {
      "model_module": "@jupyter-widgets/controls",
      "model_module_version": "1.4.0",
      "model_name": "ButtonModel",
      "state": {
       "description": "Carregar projeto",
       "layout": "IPY_MODEL_bb78acdf01c845cfa0b97c75b716562e",
       "style": "IPY_MODEL_34124622f9624e728ebaf621104f0cfd",
       "tooltip": "Carrega o .csv de um projeto já criado"
      }
     },
     "314d88a674b94621bbfb7e99689df107": {
      "model_module": "@jupyter-widgets/base",
      "model_module_version": "1.1.0",
      "model_name": "LayoutModel",
      "state": {}
     },
     "3151c5f862234c53a999ee15923af75c": {
      "model_module": "@jupyter-widgets/controls",
      "model_module_version": "1.4.0",
      "model_name": "ButtonStyleModel",
      "state": {}
     },
     "31617cccedfd45c08249a778868b4b75": {
      "model_module": "@jupyter-widgets/controls",
      "model_module_version": "1.4.0",
      "model_name": "ProgressStyleModel",
      "state": {
       "description_width": ""
      }
     },
     "317b43338718476f9f8a3a90ff853e2d": {
      "model_module": "@jupyter-widgets/controls",
      "model_module_version": "1.4.0",
      "model_name": "AccordionModel",
      "state": {
       "_titles": {
        "0": "Métodos para obtenção dos fetchs"
       },
       "children": [
        "IPY_MODEL_a8839912a7bb4cae9678f720dc45d3f6"
       ],
       "layout": "IPY_MODEL_9561b8ff74614f65830e90fbf9a92efe"
      }
     },
     "3195caf272074c599aea06094f38850e": {
      "model_module": "@jupyter-widgets/base",
      "model_module_version": "1.1.0",
      "model_name": "LayoutModel",
      "state": {
       "width": "30%"
      }
     },
     "31d1640e451c4b018da3eaaca02534e0": {
      "model_module": "@jupyter-widgets/controls",
      "model_module_version": "1.4.0",
      "model_name": "ToggleButtonsStyleModel",
      "state": {
       "button_width": ""
      }
     },
     "31d560aeb0bd484380e55b776f31cef0": {
      "model_module": "@jupyter-widgets/base",
      "model_module_version": "1.1.0",
      "model_name": "LayoutModel",
      "state": {}
     },
     "31f44b37757f4122b6704f140dc1e3a9": {
      "model_module": "@jupyter-widgets/base",
      "model_module_version": "1.1.0",
      "model_name": "LayoutModel",
      "state": {}
     },
     "31fb9f7d8fe141788f3249db70347b6c": {
      "model_module": "@jupyter-widgets/base",
      "model_module_version": "1.1.0",
      "model_name": "LayoutModel",
      "state": {
       "width": "400px"
      }
     },
     "32072f67e6f34923a59c2754fbdb64ba": {
      "model_module": "@jupyter-widgets/base",
      "model_module_version": "1.1.0",
      "model_name": "LayoutModel",
      "state": {}
     },
     "325e3f111c4d4bc6b23ed4648e00e248": {
      "model_module": "@jupyter-widgets/controls",
      "model_module_version": "1.4.0",
      "model_name": "ButtonModel",
      "state": {
       "description": "Importar .shp",
       "layout": "IPY_MODEL_c4385c407cbc41aa950a3a7fb64e29bf",
       "style": "IPY_MODEL_01615d234d804928b56a573d799f748b",
       "tooltip": "Importa um .shp para processamento"
      }
     },
     "32671e09dd4d4d3d91ea92d00eaaf373": {
      "model_module": "@jupyter-widgets/controls",
      "model_module_version": "1.4.0",
      "model_name": "TabModel",
      "state": {
       "_titles": {
        "0": "Pistas de Vento",
        "1": "Esquema de Cores"
       },
       "children": [
        "IPY_MODEL_6e1bf6fb2b9f461aa5f4fe46d35f64a5",
        "IPY_MODEL_50a6de25db054103b80961bd4ff63fae"
       ],
       "layout": "IPY_MODEL_4099fd6469184688bb6414c820ea17fc",
       "selected_index": 1
      }
     },
     "329d93f2bc0a409eb903f18f385c837c": {
      "model_module": "@jupyter-widgets/controls",
      "model_module_version": "1.4.0",
      "model_name": "ButtonModel",
      "state": {
       "description": "Importar .shp de malha processada",
       "layout": "IPY_MODEL_9bbe5e09153349e5949324845aa6ca3a",
       "style": "IPY_MODEL_74831301526c42c48846b3a2a9f4d7ee",
       "tooltip": "Importa um .shp que teve sua malha processada"
      }
     },
     "32c6e05459c84d5798b0bd31715e009b": {
      "model_module": "@jupyter-widgets/controls",
      "model_module_version": "1.4.0",
      "model_name": "FloatProgressModel",
      "state": {
       "description": "270.0°:",
       "layout": "IPY_MODEL_10130d2b18904054aab5ee5661383a6a",
       "max": 1,
       "style": "IPY_MODEL_6db4d79eddce43718d907d27c7dacf23",
       "value": 1
      }
     },
     "32cd56ab6ea34f77b69c1ae7149c633f": {
      "model_module": "@jupyter-widgets/controls",
      "model_module_version": "1.4.0",
      "model_name": "TabModel",
      "state": {
       "_titles": {
        "0": "Métodos",
        "1": "Direções"
       },
       "children": [
        "IPY_MODEL_13ebabe336b74eadac9091bfc4b7bb45",
        "IPY_MODEL_53706ae958f64bf7b12f2a80313402a9"
       ],
       "layout": "IPY_MODEL_895d66ac2ea142f7a1ddf8536c21f652"
      }
     },
     "3325e0654e264ac382ab25861ad2d1f2": {
      "model_module": "@jupyter-widgets/base",
      "model_module_version": "1.1.0",
      "model_name": "LayoutModel",
      "state": {}
     },
     "334d5b48bfdc44659e486558bf39f9cf": {
      "model_module": "@jupyter-widgets/controls",
      "model_module_version": "1.4.0",
      "model_name": "DescriptionStyleModel",
      "state": {
       "description_width": ""
      }
     },
     "335edc5457714e379ca7b037d1b4dddc": {
      "model_module": "@jupyter-widgets/controls",
      "model_module_version": "1.4.0",
      "model_name": "ButtonStyleModel",
      "state": {}
     },
     "33665f23a327434486d578a8ed8973d0": {
      "model_module": "@jupyter-widgets/base",
      "model_module_version": "1.1.0",
      "model_name": "LayoutModel",
      "state": {}
     },
     "3386105766d142d9bc8fb5065295c448": {
      "model_module": "@jupyter-widgets/controls",
      "model_module_version": "1.4.0",
      "model_name": "ButtonStyleModel",
      "state": {}
     },
     "338be61710e14f6f8af2c897ff7550d2": {
      "model_module": "@jupyter-widgets/controls",
      "model_module_version": "1.4.0",
      "model_name": "ToggleButtonsStyleModel",
      "state": {
       "button_width": "",
       "description_width": ""
      }
     },
     "339ebc5c0dff4105bbc1c265aa97ae67": {
      "model_module": "@jupyter-widgets/controls",
      "model_module_version": "1.4.0",
      "model_name": "FloatProgressModel",
      "state": {
       "description": "292.5°:",
       "layout": "IPY_MODEL_8383860879f042d28220bf5f4e21abf2",
       "max": 1,
       "style": "IPY_MODEL_458b38c50a8543088a81ae6243963975",
       "value": 1
      }
     },
     "33cb455ef5a644bcb8f88c26eb39afad": {
      "model_module": "@jupyter-widgets/controls",
      "model_module_version": "1.4.0",
      "model_name": "ButtonStyleModel",
      "state": {}
     },
     "33ed225ac69745bebe6db6cf9685902c": {
      "model_module": "@jupyter-widgets/controls",
      "model_module_version": "1.4.0",
      "model_name": "ButtonModel",
      "state": {
       "description": "Carregar .shp",
       "layout": "IPY_MODEL_61eac5e17d7b471ab70c262c72892e11",
       "style": "IPY_MODEL_959a7ab74b014c38aed6a5a03d53106e",
       "tooltip": "Carrega um .shp para processamento"
      }
     },
     "340ae2ca63b44ef2b0c48da7486e0b2c": {
      "model_module": "@jupyter-widgets/base",
      "model_module_version": "1.1.0",
      "model_name": "LayoutModel",
      "state": {
       "width": "30%"
      }
     },
     "34124622f9624e728ebaf621104f0cfd": {
      "model_module": "@jupyter-widgets/controls",
      "model_module_version": "1.4.0",
      "model_name": "ButtonStyleModel",
      "state": {}
     },
     "3459dd8e4a66494e8e1dc8b11ae855d4": {
      "model_module": "@jupyter-widgets/base",
      "model_module_version": "1.1.0",
      "model_name": "LayoutModel",
      "state": {
       "width": "30%"
      }
     },
     "347502aba111475fbca3a6d54a12e170": {
      "model_module": "@jupyter-widgets/base",
      "model_module_version": "1.1.0",
      "model_name": "LayoutModel",
      "state": {}
     },
     "347bef9e2e94422a9a3c40ca8ff16516": {
      "model_module": "@jupyter-widgets/controls",
      "model_module_version": "1.4.0",
      "model_name": "AccordionModel",
      "state": {
       "_titles": {
        "0": "Escolha do esquema de cores desejado"
       },
       "children": [
        "IPY_MODEL_e33ffc9575124f8a86a338f31e97eb35"
       ],
       "layout": "IPY_MODEL_fa234837da41498bb23afe716230171e"
      }
     },
     "3496a2c2abd84c398bffc204a9b3ede8": {
      "model_module": "@jupyter-widgets/controls",
      "model_module_version": "1.4.0",
      "model_name": "DescriptionStyleModel",
      "state": {
       "description_width": "initial"
      }
     },
     "34a6eb3c856040419c18a167eec35e30": {
      "model_module": "@jupyter-widgets/controls",
      "model_module_version": "1.4.0",
      "model_name": "FloatProgressModel",
      "state": {
       "description": "337.5°:",
       "layout": "IPY_MODEL_706479093740498dac57b6f72beeaeb6",
       "max": 1,
       "style": "IPY_MODEL_0621bc2ffc0f4195bcb964f714102567",
       "value": 1
      }
     },
     "34ab71bbade0470f925ee489164d1e97": {
      "model_module": "@jupyter-widgets/base",
      "model_module_version": "1.1.0",
      "model_name": "LayoutModel",
      "state": {}
     },
     "34d21189c15846b59b6210c00a1b2462": {
      "model_module": "@jupyter-widgets/base",
      "model_module_version": "1.1.0",
      "model_name": "LayoutModel",
      "state": {}
     },
     "34e91fb079cd4c3da2d64d35dc3dc9b7": {
      "model_module": "@jupyter-widgets/base",
      "model_module_version": "1.1.0",
      "model_name": "LayoutModel",
      "state": {}
     },
     "3568ecf8d8794e9fa9610c55d8bb3311": {
      "model_module": "@jupyter-widgets/base",
      "model_module_version": "1.1.0",
      "model_name": "LayoutModel",
      "state": {
       "width": "400px"
      }
     },
     "35a69d55ed9c41f298231cc9efabfb05": {
      "model_module": "@jupyter-widgets/base",
      "model_module_version": "1.1.0",
      "model_name": "LayoutModel",
      "state": {}
     },
     "35d8ba9fd432446da174c6995bb5f00c": {
      "model_module": "@jupyter-widgets/base",
      "model_module_version": "1.1.0",
      "model_name": "LayoutModel",
      "state": {}
     },
     "361671c9a5ee4113a8a59adc256b60b1": {
      "model_module": "@jupyter-widgets/controls",
      "model_module_version": "1.4.0",
      "model_name": "AccordionModel",
      "state": {
       "_titles": {
        "0": "Escolha do esquema de cores desejado"
       },
       "children": [
        "IPY_MODEL_4591606670ae4a0ab808a2e49ac97e53"
       ],
       "layout": "IPY_MODEL_036477df12e144ccb87c6de585a6e8d5"
      }
     },
     "363364d156ec45158b38dc4c2b7ca6ac": {
      "model_module": "@jupyter-widgets/controls",
      "model_module_version": "1.4.0",
      "model_name": "ToggleButtonsStyleModel",
      "state": {
       "button_width": ""
      }
     },
     "3640b5d9535f4574aa5a364748889b6a": {
      "model_module": "@jupyter-widgets/base",
      "model_module_version": "1.1.0",
      "model_name": "LayoutModel",
      "state": {}
     },
     "364217c1b1be4ef09f108ad0f7dd7aff": {
      "model_module": "@jupyter-widgets/controls",
      "model_module_version": "1.4.0",
      "model_name": "FloatProgressModel",
      "state": {
       "description": "67.5°:",
       "layout": "IPY_MODEL_668857f2737e4efd9feceb74cb39743f",
       "max": 1,
       "style": "IPY_MODEL_ad01840372e244a0a1252df1c260b64f",
       "value": 0.9999999999999862
      }
     },
     "36509fb456154e57af51fbd4487f12b4": {
      "model_module": "@jupyter-widgets/controls",
      "model_module_version": "1.4.0",
      "model_name": "ButtonStyleModel",
      "state": {}
     },
     "36525206a9bc4a1d94609c12b9a6b1de": {
      "model_module": "@jupyter-widgets/controls",
      "model_module_version": "1.4.0",
      "model_name": "DescriptionStyleModel",
      "state": {
       "description_width": "initial"
      }
     },
     "365754ca6c3448d5b37ffa403cf953bd": {
      "model_module": "@jupyter-widgets/controls",
      "model_module_version": "1.4.0",
      "model_name": "SelectModel",
      "state": {
       "_options_labels": [
        "0.0°",
        "180.0°",
        "67.5°"
       ],
       "description": "Direção (°):",
       "index": 1,
       "layout": "IPY_MODEL_32072f67e6f34923a59c2754fbdb64ba",
       "style": "IPY_MODEL_ffac02aa93c44309a05f59db680383b3"
      }
     },
     "36689f73b67a49f193fdf0d99f2360d8": {
      "model_module": "@jupyter-widgets/controls",
      "model_module_version": "1.4.0",
      "model_name": "ProgressStyleModel",
      "state": {
       "description_width": ""
      }
     },
     "3688048f4f3f4c2d95774c235e8c41d8": {
      "model_module": "@jupyter-widgets/controls",
      "model_module_version": "1.4.0",
      "model_name": "FloatProgressModel",
      "state": {
       "description": "180.0°:",
       "layout": "IPY_MODEL_98819988926948c7a062839b4ed3b8a5",
       "max": 1,
       "style": "IPY_MODEL_486da5f88b154f4ba8c7998d0f4d9220",
       "value": 1
      }
     },
     "3689fae183aa497dad11173d41c6ab8a": {
      "model_module": "@jupyter-widgets/controls",
      "model_module_version": "1.4.0",
      "model_name": "ButtonStyleModel",
      "state": {}
     },
     "36a1c05bd1444f28880d54489ec4c8c5": {
      "model_module": "@jupyter-widgets/controls",
      "model_module_version": "1.4.0",
      "model_name": "TabModel",
      "state": {
       "_titles": {
        "0": "Projetos",
        "1": "Shapefiles"
       },
       "children": [
        "IPY_MODEL_7559204d8cb44383a9ed3a193df7f9de",
        "IPY_MODEL_58fae4489bc841b7b8f7f83947bcfdf0"
       ],
       "layout": "IPY_MODEL_fdcbe3a8873c48febe78cf28cb386424",
       "selected_index": 1
      }
     },
     "36efcc2ffb3548c796ba2733f8a61e79": {
      "model_module": "@jupyter-widgets/base",
      "model_module_version": "1.1.0",
      "model_name": "LayoutModel",
      "state": {
       "width": "30%"
      }
     },
     "371afa22047641fa969a8ea00bffab46": {
      "model_module": "@jupyter-widgets/base",
      "model_module_version": "1.1.0",
      "model_name": "LayoutModel",
      "state": {}
     },
     "376dd18a68164d08a839912f548d57e5": {
      "model_module": "@jupyter-widgets/base",
      "model_module_version": "1.1.0",
      "model_name": "LayoutModel",
      "state": {}
     },
     "37804523eeb84f7caad358247cc29110": {
      "model_module": "@jupyter-widgets/base",
      "model_module_version": "1.1.0",
      "model_name": "LayoutModel",
      "state": {}
     },
     "37d16293ba9d486bb2ce231ca2a719e9": {
      "model_module": "@jupyter-widgets/controls",
      "model_module_version": "1.4.0",
      "model_name": "AccordionModel",
      "state": {
       "_titles": {
        "0": "Escolha da(s) pista(s) de vento"
       },
       "children": [
        "IPY_MODEL_0253811eccad4f5f84ab7295f6f8b64b"
       ],
       "layout": "IPY_MODEL_b627613cce5a42b98ebe90d10b0409ce"
      }
     },
     "37ddacbdcc82497db24168a073e6d76d": {
      "model_module": "@jupyter-widgets/base",
      "model_module_version": "1.1.0",
      "model_name": "LayoutModel",
      "state": {}
     },
     "37ec72c40a2f46a7bbf934c18746b4a7": {
      "model_module": "@jupyter-widgets/base",
      "model_module_version": "1.1.0",
      "model_name": "LayoutModel",
      "state": {}
     },
     "383318bcbd6c46ed92fe57f0faba9aca": {
      "model_module": "@jupyter-widgets/base",
      "model_module_version": "1.1.0",
      "model_name": "LayoutModel",
      "state": {}
     },
     "3836facd2b64407295f3125e9f91c331": {
      "model_module": "@jupyter-widgets/controls",
      "model_module_version": "1.4.0",
      "model_name": "DescriptionStyleModel",
      "state": {
       "description_width": ""
      }
     },
     "384084bd5b3e42929fb24bc478f290ae": {
      "model_module": "@jupyter-widgets/controls",
      "model_module_version": "1.4.0",
      "model_name": "TabModel",
      "state": {
       "_titles": {
        "0": "Pistas de Vento",
        "1": "Esquema de Cores"
       },
       "children": [
        "IPY_MODEL_dfb43e8acd074f92b2c5d36de3694c12",
        "IPY_MODEL_361671c9a5ee4113a8a59adc256b60b1"
       ],
       "layout": "IPY_MODEL_29966bcd93804c54b20f31cca1399e77"
      }
     },
     "385afd317e3d48acaa29067cfee8c9cf": {
      "model_module": "@jupyter-widgets/base",
      "model_module_version": "1.1.0",
      "model_name": "LayoutModel",
      "state": {}
     },
     "385f59f5a2934581bddfb0fe39a27dac": {
      "model_module": "@jupyter-widgets/controls",
      "model_module_version": "1.4.0",
      "model_name": "ButtonModel",
      "state": {
       "description": "Carregar pista(s) de vento já processada(s)",
       "layout": "IPY_MODEL_6054aaa4d10146e98caed47071d6ab43",
       "style": "IPY_MODEL_e4ab8ba473ba4955a48120b1e4b339d3",
       "tooltip": "Carrega pista(s) de vento já processada(s)"
      }
     },
     "388f530fa61f4f378cd7936034b77e3a": {
      "model_module": "@jupyter-widgets/controls",
      "model_module_version": "1.4.0",
      "model_name": "DescriptionStyleModel",
      "state": {
       "description_width": "initial"
      }
     },
     "38b8986bf83240c8ac071a01f405b88f": {
      "model_module": "@jupyter-widgets/controls",
      "model_module_version": "1.4.0",
      "model_name": "ProgressStyleModel",
      "state": {
       "description_width": ""
      }
     },
     "38bea5f7cd6c4b428eac8aa5874f5c37": {
      "model_module": "@jupyter-widgets/controls",
      "model_module_version": "1.4.0",
      "model_name": "AccordionModel",
      "state": {
       "_titles": {
        "0": "Escolha do esquema de cores desejado"
       },
       "children": [
        "IPY_MODEL_99013c5e7a7846ff9309269d98d54df5"
       ],
       "layout": "IPY_MODEL_0b5a257267c3493e920743d058047953"
      }
     },
     "38f936ef211b4286832cf4117f89b4ac": {
      "model_module": "@jupyter-widgets/base",
      "model_module_version": "1.1.0",
      "model_name": "LayoutModel",
      "state": {}
     },
     "39169079152948ba80395c5c1c31cd01": {
      "model_module": "@jupyter-widgets/base",
      "model_module_version": "1.1.0",
      "model_name": "LayoutModel",
      "state": {}
     },
     "3954aecefc514f1c9a64cb60b9f958c2": {
      "model_module": "@jupyter-widgets/controls",
      "model_module_version": "1.4.0",
      "model_name": "ButtonModel",
      "state": {
       "description": "Importar .shp de malha processada",
       "layout": "IPY_MODEL_f3fe579584fa4f61a0ff881bfa13521c",
       "style": "IPY_MODEL_6af589ad0e7b4a249801bc5b6e371c85",
       "tooltip": "Importa um .shp que já teve sua malha processada"
      }
     },
     "3979f50af7cf436a9cf040be870816a3": {
      "model_module": "@jupyter-widgets/controls",
      "model_module_version": "1.4.0",
      "model_name": "ButtonStyleModel",
      "state": {}
     },
     "398bf6ee532249449e3c8ea9ff66f4ee": {
      "model_module": "@jupyter-widgets/controls",
      "model_module_version": "1.4.0",
      "model_name": "DescriptionStyleModel",
      "state": {
       "description_width": ""
      }
     },
     "399ca5cc257945d09179d390d178b2e8": {
      "model_module": "@jupyter-widgets/controls",
      "model_module_version": "1.4.0",
      "model_name": "ButtonModel",
      "state": {
       "description": "Importar pista(s) de vento já processada(s)",
       "layout": "IPY_MODEL_cbc1ecb3298c43ceb87891da6c632556",
       "style": "IPY_MODEL_56dd76b8e1b748d7a2baffa9b845eb26",
       "tooltip": "Importa pista(s) de vento já processada(s)"
      }
     },
     "3a0cdc5241e14dc88a2777bab15714da": {
      "model_module": "@jupyter-widgets/controls",
      "model_module_version": "1.4.0",
      "model_name": "TabModel",
      "state": {
       "_titles": {
        "0": "Projetos",
        "1": "Shapefiles"
       },
       "children": [
        "IPY_MODEL_93b028921f574146837732852c7d6852",
        "IPY_MODEL_67a4bc69da5b4d8884c98ef520e888ea"
       ],
       "layout": "IPY_MODEL_9b0ab8548c4a4a8e81780567472280f8"
      }
     },
     "3a4d501fbded40ae9d1de388c131510a": {
      "model_module": "@jupyter-widgets/controls",
      "model_module_version": "1.4.0",
      "model_name": "ButtonStyleModel",
      "state": {}
     },
     "3a6cacf7031544839530bfad7405fefa": {
      "model_module": "@jupyter-widgets/base",
      "model_module_version": "1.1.0",
      "model_name": "LayoutModel",
      "state": {}
     },
     "3a7b2ffba83347c88487a9d37919f707": {
      "model_module": "@jupyter-widgets/base",
      "model_module_version": "1.1.0",
      "model_name": "LayoutModel",
      "state": {}
     },
     "3a7c5698e05246ddb6a609619da03a65": {
      "model_module": "@jupyter-widgets/base",
      "model_module_version": "1.1.0",
      "model_name": "LayoutModel",
      "state": {}
     },
     "3a7ebb4df9ba4d099289d3d0eb0566df": {
      "model_module": "@jupyter-widgets/base",
      "model_module_version": "1.1.0",
      "model_name": "LayoutModel",
      "state": {}
     },
     "3a92c07efa8a4b32beb206905bdeccbe": {
      "model_module": "@jupyter-widgets/base",
      "model_module_version": "1.1.0",
      "model_name": "LayoutModel",
      "state": {}
     },
     "3a9354643b4d4627830791390c6cab80": {
      "model_module": "@jupyter-widgets/controls",
      "model_module_version": "1.4.0",
      "model_name": "ButtonStyleModel",
      "state": {}
     },
     "3ac4348063f84683848c21b32421611b": {
      "model_module": "@jupyter-widgets/base",
      "model_module_version": "1.1.0",
      "model_name": "LayoutModel",
      "state": {}
     },
     "3acc53f6512b457a9964ec91ce8196c2": {
      "model_module": "@jupyter-widgets/base",
      "model_module_version": "1.1.0",
      "model_name": "LayoutModel",
      "state": {}
     },
     "3b12f2930d2b43509511529618bf9efe": {
      "model_module": "@jupyter-widgets/controls",
      "model_module_version": "1.4.0",
      "model_name": "ButtonModel",
      "state": {
       "description": "Importar pista(s) de vento processada(s)",
       "layout": "IPY_MODEL_12bd12a75c5c4c4990a178b6ea0bc7cd",
       "style": "IPY_MODEL_9f5993926d204d2ca72c34cf9126c199",
       "tooltip": "Importa pista(s) de vento processada(s)"
      }
     },
     "3b416201b58c4a78b5b5ccac5d7c5e88": {
      "model_module": "@jupyter-widgets/base",
      "model_module_version": "1.1.0",
      "model_name": "LayoutModel",
      "state": {}
     },
     "3ba5c4bc504248c59ee86a353a5001d6": {
      "model_module": "@jupyter-widgets/base",
      "model_module_version": "1.1.0",
      "model_name": "LayoutModel",
      "state": {}
     },
     "3bc891fd83d442d3a65ec44bc159a90e": {
      "model_module": "@jupyter-widgets/controls",
      "model_module_version": "1.4.0",
      "model_name": "DropdownModel",
      "state": {
       "_options_labels": [
        "binary",
        "Blues",
        "brg",
        "BuGn",
        "cool",
        "cubehelix",
        "gist_earth",
        "gist_ncar",
        "gist_rainbow",
        "gnuplot",
        "gnuplot2",
        "hsv",
        "jet",
        "magma",
        "nipy_spectral",
        "ocean",
        "plasma",
        "rainbow",
        "Spectral",
        "terrain",
        "winter"
       ],
       "description": "Selecione o esquema de cores desejado:",
       "index": 12,
       "layout": "IPY_MODEL_5b870077adde466fa82ae77bb332b193",
       "style": "IPY_MODEL_175e2d8fb1874861836a69445d4c1ca9"
      }
     },
     "3bcb2a5d9e374490a292b2cc2f0eb27e": {
      "model_module": "@jupyter-widgets/controls",
      "model_module_version": "1.4.0",
      "model_name": "RadioButtonsModel",
      "state": {
       "_options_labels": [
        "Georreferenciado",
        "Não georreferenciado"
       ],
       "description": "Georreferenciamento:",
       "index": 0,
       "layout": "IPY_MODEL_feaf13d5f1c8485b8e67ab275c55a1e4",
       "style": "IPY_MODEL_a1c73ba7f56047ffade772724f47c9e9"
      }
     },
     "3becd263866f4fccab07e0af14eaf3bf": {
      "model_module": "@jupyter-widgets/controls",
      "model_module_version": "1.4.0",
      "model_name": "ProgressStyleModel",
      "state": {
       "description_width": ""
      }
     },
     "3c1a091dc4b14b12ab848c0adb515005": {
      "model_module": "@jupyter-widgets/controls",
      "model_module_version": "1.4.0",
      "model_name": "AccordionModel",
      "state": {
       "_titles": {
        "0": "Pistas de Vento"
       },
       "children": [
        "IPY_MODEL_d06a3619eae54a5088bc0b90eb503276"
       ],
       "layout": "IPY_MODEL_f3da755d412c40908741c42df29e090c"
      }
     },
     "3c26f6462d674c25b80477c665756fa1": {
      "model_module": "@jupyter-widgets/base",
      "model_module_version": "1.1.0",
      "model_name": "LayoutModel",
      "state": {}
     },
     "3c4c36dadfa34d3b97ce8f6253fbed5b": {
      "model_module": "@jupyter-widgets/controls",
      "model_module_version": "1.4.0",
      "model_name": "DescriptionStyleModel",
      "state": {
       "description_width": ""
      }
     },
     "3c85aebead3047288210d93583a30396": {
      "model_module": "@jupyter-widgets/controls",
      "model_module_version": "1.4.0",
      "model_name": "DescriptionStyleModel",
      "state": {
       "description_width": "initial"
      }
     },
     "3cabea7a089b43f2b657c3881aeed4d6": {
      "model_module": "@jupyter-widgets/controls",
      "model_module_version": "1.4.0",
      "model_name": "AccordionModel",
      "state": {
       "_titles": {
        "0": "Criar projeto",
        "1": "Importar projeto"
       },
       "children": [
        "IPY_MODEL_540b594093f849ae96fd34da14a29862",
        "IPY_MODEL_ba4f05719e12474db8de6235b2331c4c"
       ],
       "layout": "IPY_MODEL_91cec474987341b6ac209c4e7e0771f1"
      }
     },
     "3cb3a75219f74029895d68974e27e097": {
      "model_module": "@jupyter-widgets/controls",
      "model_module_version": "1.4.0",
      "model_name": "DescriptionStyleModel",
      "state": {
       "description_width": "initial"
      }
     },
     "3cb4e42ccef14050b9e1f89ccfa27aa4": {
      "model_module": "@jupyter-widgets/base",
      "model_module_version": "1.1.0",
      "model_name": "LayoutModel",
      "state": {}
     },
     "3cb7eac9489348129e8d0cd3e645bf39": {
      "model_module": "@jupyter-widgets/controls",
      "model_module_version": "1.4.0",
      "model_name": "ToggleButtonsModel",
      "state": {
       "_options_labels": [
        "Método SPM",
        "Método de Saville"
       ],
       "button_style": "",
       "icons": [],
       "index": 1,
       "layout": "IPY_MODEL_bbfd0016e4064742bb222b0340c86899",
       "style": "IPY_MODEL_338be61710e14f6f8af2c897ff7550d2",
       "tooltips": []
      }
     },
     "3cd038dfc70b4539b2e7bed6831c9f10": {
      "model_module": "@jupyter-widgets/controls",
      "model_module_version": "1.4.0",
      "model_name": "TabModel",
      "state": {
       "_titles": {
        "0": "Projetos",
        "1": "Shapefiles"
       },
       "children": [
        "IPY_MODEL_71c4868c7a2c46759f84dac026f3ffcd",
        "IPY_MODEL_d508f2186ab34df28609c6e69c6e49f1"
       ],
       "layout": "IPY_MODEL_faddddeba30b40d28f8739157f280506"
      }
     },
     "3d2bdcc32618474aa5c571fc6d8cb0fb": {
      "model_module": "@jupyter-widgets/controls",
      "model_module_version": "1.4.0",
      "model_name": "FloatProgressModel",
      "state": {
       "description": "315.0°:",
       "layout": "IPY_MODEL_6d80d5dfbdef452c9cfd62261c76ad5e",
       "max": 1,
       "style": "IPY_MODEL_fee81d9454e44249b4bd19999c919a17",
       "value": 1
      }
     },
     "3d508a0df926497abde2e953b94931a1": {
      "model_module": "@jupyter-widgets/base",
      "model_module_version": "1.1.0",
      "model_name": "LayoutModel",
      "state": {}
     },
     "3d5791923f064e3d980962041273203a": {
      "model_module": "@jupyter-widgets/controls",
      "model_module_version": "1.4.0",
      "model_name": "SelectMultipleModel",
      "state": {
       "_options_labels": [
        "N (0.0°)",
        "NNE (22.5°)",
        "NE (45.0°)",
        "ENE (67.5°)",
        "E (90.0°)",
        "ESE (112.5°)",
        "SE (135.0°)",
        "SSE (157.5°)",
        "S (180.0°)",
        "SSW (202.5°)",
        "SW (225.0°)",
        "WSW (247.5°)",
        "W (270.0°)",
        "WNW (292.5°)",
        "NW (315.0°)",
        "NNW (337.5°)"
       ],
       "description": "Selecione a direção (°) desejada:",
       "index": [
        0
       ],
       "layout": "IPY_MODEL_07f0f416ce6b4adab79eb32cbca85da5",
       "rows": 5,
       "style": "IPY_MODEL_4fb99ceb46fa4e1aba3d2f3e129b4b98"
      }
     },
     "3e1d02dd2f994f7d865f8e07cd2275a6": {
      "model_module": "@jupyter-widgets/controls",
      "model_module_version": "1.4.0",
      "model_name": "DropdownModel",
      "state": {
       "_options_labels": [
        "300",
        "600",
        "1200"
       ],
       "description": "Selecione a DPI desejada:",
       "index": 2,
       "layout": "IPY_MODEL_c0146e262ce04277a32bf51a53290658",
       "style": "IPY_MODEL_5653d3ff881146c780f99361fd66a503"
      }
     },
     "3e4475b9e6f947cf8575da20fc616cca": {
      "model_module": "@jupyter-widgets/base",
      "model_module_version": "1.1.0",
      "model_name": "LayoutModel",
      "state": {}
     },
     "3e539a1a20224616934b269c3a61ae0f": {
      "model_module": "@jupyter-widgets/base",
      "model_module_version": "1.1.0",
      "model_name": "LayoutModel",
      "state": {}
     },
     "3e66b265fdd64cd4993b19e2d85ee985": {
      "model_module": "@jupyter-widgets/controls",
      "model_module_version": "1.4.0",
      "model_name": "ButtonModel",
      "state": {
       "description": "Importar pista(s) de vento já processada(s)",
       "layout": "IPY_MODEL_d153d8ea03134f54ab40de7617866e74",
       "style": "IPY_MODEL_4b4527953a8b45fb9795ae220deed9a6",
       "tooltip": "Importa pista(s) de vento já processada(s)"
      }
     },
     "3e7181b8c31e42619b41bea27cd29569": {
      "model_module": "@jupyter-widgets/controls",
      "model_module_version": "1.4.0",
      "model_name": "TabModel",
      "state": {
       "_titles": {
        "0": "Pistas de vento",
        "1": "DPI",
        "2": "Esquema de cores"
       },
       "children": [
        "IPY_MODEL_d40c0353651d44b9b0a2a5383f601911",
        "IPY_MODEL_b4941b5a3f6f461ea11899430a1d1968",
        "IPY_MODEL_b3853212ced4485f83e76a81473b6b0f"
       ],
       "layout": "IPY_MODEL_9aec5797a85f4414a546510a5dd4af58"
      }
     },
     "3e9f73e4f558445191d13d4e791b09c2": {
      "model_module": "@jupyter-widgets/controls",
      "model_module_version": "1.4.0",
      "model_name": "ButtonStyleModel",
      "state": {}
     },
     "3ea27144298540fb8e33d0fbea5576bb": {
      "model_module": "@jupyter-widgets/base",
      "model_module_version": "1.1.0",
      "model_name": "LayoutModel",
      "state": {}
     },
     "3ea4d2aed6ef4c1e95a9878b26e55093": {
      "model_module": "@jupyter-widgets/controls",
      "model_module_version": "1.4.0",
      "model_name": "ToggleButtonsModel",
      "state": {
       "_options_labels": [
        "Método SPM",
        "Método de Saville"
       ],
       "button_style": "",
       "icons": [],
       "index": 0,
       "layout": "IPY_MODEL_f81618eb0e55475587148e3d8a22c06b",
       "style": "IPY_MODEL_8535d29e2d984b32aeb088791747f735",
       "tooltips": []
      }
     },
     "3ebb236398e64383ba55181209f0f302": {
      "model_module": "@jupyter-widgets/controls",
      "model_module_version": "1.4.0",
      "model_name": "SelectMultipleModel",
      "state": {
       "_options_labels": [
        "N (0.0°)",
        "NNE (22.5°)",
        "NE (45.0°)",
        "ENE (67.5°)",
        "E (90.0°)",
        "ESE (112.5°)",
        "SE (135.0°)",
        "SSE (157.5°)",
        "S (180.0°)",
        "SSW (202.5°)",
        "SW (225.0°)",
        "WSW (247.5°)",
        "W (270.0°)",
        "WNW (292.5°)",
        "NW (315.0°)",
        "NNW (337.5°)",
        "N (360.0°)"
       ],
       "description": "Selecione a direção (°) desejada:",
       "index": [
        0,
        1,
        2,
        3,
        4,
        5,
        6,
        7,
        8,
        9,
        10,
        11,
        12,
        13,
        14,
        15,
        16
       ],
       "layout": "IPY_MODEL_09432570644542bca56f426950a565cd",
       "rows": 5,
       "style": "IPY_MODEL_15dee237d1584df1bd6faefb407b2ea4"
      }
     },
     "3ec3b4cf4eb74240bd8e8ffae929e41f": {
      "model_module": "@jupyter-widgets/base",
      "model_module_version": "1.1.0",
      "model_name": "LayoutModel",
      "state": {}
     },
     "3ed7ea80a67c4af78f0f04a0c0d03e19": {
      "model_module": "@jupyter-widgets/base",
      "model_module_version": "1.1.0",
      "model_name": "LayoutModel",
      "state": {}
     },
     "3ee8296134564407a54ca16f125b5e7a": {
      "model_module": "@jupyter-widgets/controls",
      "model_module_version": "1.4.0",
      "model_name": "ButtonModel",
      "state": {
       "description": "Importar .shp",
       "layout": "IPY_MODEL_663962f7aa0548548291bffa82d62de7",
       "style": "IPY_MODEL_0bd886d51a0340c9b1861d72b3a2a478",
       "tooltip": "Importa um .shp para processamento"
      }
     },
     "3f08713014994e07b7ca9c8b974ea076": {
      "model_module": "@jupyter-widgets/controls",
      "model_module_version": "1.4.0",
      "model_name": "DropdownModel",
      "state": {
       "_options_labels": [
        "300",
        "600",
        "1200"
       ],
       "description": "Selecione a DPI desejada:",
       "index": 0,
       "layout": "IPY_MODEL_90302fb103804995b36db036fd78103b",
       "style": "IPY_MODEL_a04658dbd654415cae39d2b7c5675851"
      }
     },
     "3f101c249de24a09bcb2ba7992d6f711": {
      "model_module": "@jupyter-widgets/controls",
      "model_module_version": "1.4.0",
      "model_name": "FloatProgressModel",
      "state": {
       "description": "247.5°:",
       "layout": "IPY_MODEL_34d21189c15846b59b6210c00a1b2462",
       "max": 1,
       "style": "IPY_MODEL_24ae54cf88f74255b1d57d2557db58a6",
       "value": 1
      }
     },
     "3f1aa3d258734f4fbd3abefc97131ec2": {
      "model_module": "@jupyter-widgets/base",
      "model_module_version": "1.1.0",
      "model_name": "LayoutModel",
      "state": {}
     },
     "3f38d1460c7a4806aabf568f36d31f85": {
      "model_module": "@jupyter-widgets/base",
      "model_module_version": "1.1.0",
      "model_name": "LayoutModel",
      "state": {}
     },
     "3f5cf8a8ea644943a4e7e883ffe3c825": {
      "model_module": "@jupyter-widgets/base",
      "model_module_version": "1.1.0",
      "model_name": "LayoutModel",
      "state": {}
     },
     "3f6a6fbac84044d38447c16c9247a797": {
      "model_module": "@jupyter-widgets/controls",
      "model_module_version": "1.4.0",
      "model_name": "TabModel",
      "state": {
       "_titles": {
        "0": "Pistas de vento",
        "1": "DPI",
        "2": "Esquema de cores"
       },
       "children": [
        "IPY_MODEL_66d20803f17a459491b68cffe5f58a7e",
        "IPY_MODEL_0f919efa919f43d497047a692edbee7b",
        "IPY_MODEL_ade2412b95ed47718a086cbeab9ee75f"
       ],
       "layout": "IPY_MODEL_ecdcd689bec24fe48c712d09912fa00b"
      }
     },
     "3f6cff670faa4899ae67a12c1dc11d5a": {
      "model_module": "@jupyter-widgets/controls",
      "model_module_version": "1.4.0",
      "model_name": "ToggleButtonsModel",
      "state": {
       "_options_labels": [
        "Método SPM",
        "Método de Saville"
       ],
       "button_style": "",
       "icons": [],
       "index": 0,
       "layout": "IPY_MODEL_e3f75b69ed3e4a45ab62e2a47c2819e9",
       "style": "IPY_MODEL_a2bb99d860dd44c289627740718354d4",
       "tooltips": []
      }
     },
     "3f8903e213254f23bf7b3ce358c44d7a": {
      "model_module": "@jupyter-widgets/controls",
      "model_module_version": "1.4.0",
      "model_name": "DescriptionStyleModel",
      "state": {
       "description_width": ""
      }
     },
     "3f8c4e68887e479584b783c3c456c4f0": {
      "model_module": "@jupyter-widgets/base",
      "model_module_version": "1.1.0",
      "model_name": "LayoutModel",
      "state": {}
     },
     "3fab2d93fd074b6a98df5a134c2718b7": {
      "model_module": "@jupyter-widgets/base",
      "model_module_version": "1.1.0",
      "model_name": "LayoutModel",
      "state": {
       "width": "400px"
      }
     },
     "3fd243a0876447a6ac45246021596307": {
      "model_module": "@jupyter-widgets/base",
      "model_module_version": "1.1.0",
      "model_name": "LayoutModel",
      "state": {}
     },
     "401e1ea6311b412e8d12bb507ce96020": {
      "model_module": "@jupyter-widgets/controls",
      "model_module_version": "1.4.0",
      "model_name": "ButtonModel",
      "state": {
       "description": "Carregar projeto",
       "layout": "IPY_MODEL_e03fb50a62b64b7e94d980cb7c0c4e4b",
       "style": "IPY_MODEL_652f18c995ff4f94892a5425c0f07b83",
       "tooltip": "Carrega o .csv de um projeto já criado"
      }
     },
     "4033a8d177ac4924aba3955f14737569": {
      "model_module": "@jupyter-widgets/controls",
      "model_module_version": "1.4.0",
      "model_name": "FloatProgressModel",
      "state": {
       "description": "0.0°:",
       "layout": "IPY_MODEL_3e4475b9e6f947cf8575da20fc616cca",
       "max": 1,
       "style": "IPY_MODEL_5fd79a05c9614a6095eb801ef1b65ff8",
       "value": 1
      }
     },
     "4044c6b289e74cd0a515b8c8023efc38": {
      "model_module": "@jupyter-widgets/controls",
      "model_module_version": "1.4.0",
      "model_name": "ButtonStyleModel",
      "state": {}
     },
     "4077d655105e4216bdca0f11c7559281": {
      "model_module": "@jupyter-widgets/base",
      "model_module_version": "1.1.0",
      "model_name": "LayoutModel",
      "state": {}
     },
     "4099fd6469184688bb6414c820ea17fc": {
      "model_module": "@jupyter-widgets/base",
      "model_module_version": "1.1.0",
      "model_name": "LayoutModel",
      "state": {}
     },
     "40be2dfd4f6948dc8ff1c8639607d554": {
      "model_module": "@jupyter-widgets/controls",
      "model_module_version": "1.4.0",
      "model_name": "ButtonStyleModel",
      "state": {}
     },
     "40d9ceba9fec44c184171427b7ef12a9": {
      "model_module": "@jupyter-widgets/controls",
      "model_module_version": "1.4.0",
      "model_name": "AccordionModel",
      "state": {
       "_titles": {
        "0": "Métodos para obtenção de pistas de vento"
       },
       "children": [
        "IPY_MODEL_646a1fb273c441ea831132f3eac08cfb"
       ],
       "layout": "IPY_MODEL_88f45a0176324300a506b1824e52df0d"
      }
     },
     "412ee87f9e7d41a389bb90f683c98175": {
      "model_module": "@jupyter-widgets/controls",
      "model_module_version": "1.4.0",
      "model_name": "ProgressStyleModel",
      "state": {
       "description_width": ""
      }
     },
     "414c68e89fe9473e8a93921121520624": {
      "model_module": "@jupyter-widgets/controls",
      "model_module_version": "1.4.0",
      "model_name": "ToggleButtonsStyleModel",
      "state": {
       "button_width": ""
      }
     },
     "4164bfb13368467ebd4044a2ab14c734": {
      "model_module": "@jupyter-widgets/controls",
      "model_module_version": "1.4.0",
      "model_name": "AccordionModel",
      "state": {
       "_titles": {
        "0": "Importar .shp",
        "1": "Importar .shp de malha processada"
       },
       "children": [
        "IPY_MODEL_b5fe6795edf1473d9b9ee8f074a3580a",
        "IPY_MODEL_0188b2f0867a47c9825c3807f2ec15d6"
       ],
       "layout": "IPY_MODEL_153bd22665af4795bcde0342a32bca90",
       "selected_index": 1
      }
     },
     "41754954df9c4afda0395f67cce3c779": {
      "model_module": "@jupyter-widgets/base",
      "model_module_version": "1.1.0",
      "model_name": "LayoutModel",
      "state": {}
     },
     "4175fb15845a42239749cc0aa0772ab7": {
      "model_module": "@jupyter-widgets/controls",
      "model_module_version": "1.4.0",
      "model_name": "DescriptionStyleModel",
      "state": {
       "description_width": ""
      }
     },
     "4189f062456044d6bb2ca9e26fccf427": {
      "model_module": "@jupyter-widgets/controls",
      "model_module_version": "1.4.0",
      "model_name": "DropdownModel",
      "state": {
       "_options_labels": [
        "Accent",
        "afmhot",
        "autumn",
        "binary",
        "Blues",
        "bone",
        "BrBG",
        "brg",
        "BuGn",
        "BuPu",
        "bwr",
        "CMRmap",
        "cool",
        "coolwarm",
        "copper",
        "cubehelix",
        "Dark2",
        "flag",
        "gist_earth",
        "gist_gray",
        "gist_heat",
        "gist_ncar",
        "gist_rainbow",
        "gist_stern",
        "gist_yarg",
        "GnBu",
        "gnuplot",
        "gnuplot2",
        "gray",
        "Greens",
        "Greys",
        "hot",
        "hsv",
        "inferno",
        "jet",
        "magma",
        "nipy_spectral",
        "ocean",
        "Oranges",
        "OrRd",
        "Paired",
        "Pastel1",
        "Pastel2",
        "pink",
        "PiYG",
        "plasma",
        "PRGn",
        "prism",
        "PuBu",
        "PuBuGn",
        "PuOr",
        "PuRd",
        "Purples",
        "rainbow",
        "RdBu",
        "RdGy",
        "RdPu",
        "RdYlBu",
        "RdYlGn",
        "Reds",
        "seismic",
        "Set1",
        "Set2",
        "Set3",
        "Spectral",
        "spring",
        "summer",
        "tab10",
        "tab20",
        "tab20b",
        "tab20c",
        "terrain",
        "viridis",
        "winter",
        "Wistia",
        "YlGn",
        "YlGnBu",
        "YlOrBr",
        "YlOrRd"
       ],
       "description": "Selecione o esquema de cores desejado para a imagem:",
       "index": 32,
       "layout": "IPY_MODEL_4bc85c57574742bc9ab066aa2875d58a",
       "style": "IPY_MODEL_daf28616e1f34e62980918a5281188dc"
      }
     },
     "4195b3dbba294ab78b06390f41b19841": {
      "model_module": "@jupyter-widgets/base",
      "model_module_version": "1.1.0",
      "model_name": "LayoutModel",
      "state": {}
     },
     "41d8e36a08464382a2e1926f7e377f2c": {
      "model_module": "@jupyter-widgets/controls",
      "model_module_version": "1.4.0",
      "model_name": "DescriptionStyleModel",
      "state": {
       "description_width": ""
      }
     },
     "425418493453451caddb88b4cc4b112b": {
      "model_module": "@jupyter-widgets/base",
      "model_module_version": "1.1.0",
      "model_name": "LayoutModel",
      "state": {}
     },
     "4272d652e44646c8a0b9525e98aa6f9c": {
      "model_module": "@jupyter-widgets/controls",
      "model_module_version": "1.4.0",
      "model_name": "AccordionModel",
      "state": {
       "_titles": {
        "0": "Carregar .shp",
        "1": "Carregar .shp de malha processada"
       },
       "children": [
        "IPY_MODEL_1f50713085b94520a60d496b69a8695c",
        "IPY_MODEL_c93ad3008c124e8f90f4f6680fc1038d"
       ],
       "layout": "IPY_MODEL_55e27c9fb2684936be83f8a23b04e017"
      }
     },
     "427e0a7b359b4e84a33b8f97b672decf": {
      "model_module": "@jupyter-widgets/controls",
      "model_module_version": "1.4.0",
      "model_name": "FloatProgressModel",
      "state": {
       "description": "157.5°:",
       "layout": "IPY_MODEL_d38d98b481e042ada458b1251a4b9ad2",
       "max": 1,
       "style": "IPY_MODEL_c095d721828f40e0b16215882587d228",
       "value": 1
      }
     },
     "428ba4d642d94702b81dff39823bd67f": {
      "model_module": "@jupyter-widgets/controls",
      "model_module_version": "1.4.0",
      "model_name": "DescriptionStyleModel",
      "state": {
       "description_width": "initial"
      }
     },
     "428d95fc3e42447a8d47107540e1645e": {
      "model_module": "@jupyter-widgets/controls",
      "model_module_version": "1.4.0",
      "model_name": "DescriptionStyleModel",
      "state": {
       "description_width": "initial"
      }
     },
     "42d2abbf0b414957bef8c576978b7b25": {
      "model_module": "@jupyter-widgets/controls",
      "model_module_version": "1.4.0",
      "model_name": "DescriptionStyleModel",
      "state": {
       "description_width": "initial"
      }
     },
     "4310b662c41646abb2d1261f6ed53a24": {
      "model_module": "@jupyter-widgets/controls",
      "model_module_version": "1.4.0",
      "model_name": "ProgressStyleModel",
      "state": {
       "description_width": ""
      }
     },
     "433abe3b4744476db406c2d0dd81f2bd": {
      "model_module": "@jupyter-widgets/controls",
      "model_module_version": "1.4.0",
      "model_name": "FloatProgressModel",
      "state": {
       "description": "360.0°:",
       "layout": "IPY_MODEL_9ac7bfa8a604465787616de400f64b30",
       "max": 1,
       "style": "IPY_MODEL_e56f3b9a35464af9abd4a27930b541b3",
       "value": 1
      }
     },
     "433e8e1db6ad41039d58baa114fcffed": {
      "model_module": "@jupyter-widgets/controls",
      "model_module_version": "1.4.0",
      "model_name": "AccordionModel",
      "state": {
       "_titles": {
        "0": "Importar .shp",
        "1": "Importar .shp de malha processada"
       },
       "children": [
        "IPY_MODEL_325e3f111c4d4bc6b23ed4648e00e248",
        "IPY_MODEL_dd4d17ee53d840648d6d9a810637cf16"
       ],
       "layout": "IPY_MODEL_47140cf8fd5a41be82aa48a6979fbcee"
      }
     },
     "4350899203bd4d43b0d137dde9340288": {
      "model_module": "@jupyter-widgets/base",
      "model_module_version": "1.1.0",
      "model_name": "LayoutModel",
      "state": {}
     },
     "43d56a1783894e75bc29ca7817c32821": {
      "model_module": "@jupyter-widgets/base",
      "model_module_version": "1.1.0",
      "model_name": "LayoutModel",
      "state": {}
     },
     "44690c791bc146daa3ac882d87c28d92": {
      "model_module": "@jupyter-widgets/controls",
      "model_module_version": "1.4.0",
      "model_name": "ToggleButtonsModel",
      "state": {
       "_options_labels": [
        "Uma direção",
        "Todas as direções",
        "Outra direção"
       ],
       "button_style": "",
       "icons": [],
       "index": 0,
       "layout": "IPY_MODEL_fe7620a6b063420687b3a4589f2a6798",
       "style": "IPY_MODEL_31d1640e451c4b018da3eaaca02534e0",
       "tooltips": []
      }
     },
     "44c2a8a71a6547b2a9065ef13c3d59b1": {
      "model_module": "@jupyter-widgets/base",
      "model_module_version": "1.1.0",
      "model_name": "LayoutModel",
      "state": {
       "width": "500px"
      }
     },
     "4502544f866b4835897c78e4e06c129e": {
      "model_module": "@jupyter-widgets/controls",
      "model_module_version": "1.4.0",
      "model_name": "SelectMultipleModel",
      "state": {
       "_options_labels": [
        "N (0.0°)",
        "NNE (22.5°)",
        "NE (45.0°)",
        "ENE (67.5°)",
        "E (90.0°)",
        "ESE (112.5°)",
        "SE (135.0°)",
        "SSE (157.5°)",
        "S (180.0°)",
        "SSW (202.5°)",
        "SW (225.0°)",
        "WSW (247.5°)",
        "W (270.0°)",
        "WNW (292.5°)",
        "NW (315.0°)",
        "NNW (337.5°)"
       ],
       "description": "Selecione a direção (°) desejada:",
       "index": [
        0
       ],
       "layout": "IPY_MODEL_e658f391d5ee467da11587346bbf819a",
       "rows": 5,
       "style": "IPY_MODEL_46209515ea444f8fb6ee8eeed8a7eab2"
      }
     },
     "4533ea5add794c09bde7d9731c9cae2f": {
      "model_module": "@jupyter-widgets/controls",
      "model_module_version": "1.4.0",
      "model_name": "DescriptionStyleModel",
      "state": {
       "description_width": "initial"
      }
     },
     "4578ce99293742cab08167bb15dde78f": {
      "model_module": "@jupyter-widgets/controls",
      "model_module_version": "1.4.0",
      "model_name": "FloatProgressModel",
      "state": {
       "description": "67.5°:",
       "layout": "IPY_MODEL_eb40794a904440b5b19443488007657a",
       "max": 1,
       "style": "IPY_MODEL_4aeab69ba49a41ba8b7779310edfc424",
       "value": 0.9999999999999862
      }
     },
     "458b38c50a8543088a81ae6243963975": {
      "model_module": "@jupyter-widgets/controls",
      "model_module_version": "1.4.0",
      "model_name": "ProgressStyleModel",
      "state": {
       "description_width": ""
      }
     },
     "4591606670ae4a0ab808a2e49ac97e53": {
      "model_module": "@jupyter-widgets/controls",
      "model_module_version": "1.4.0",
      "model_name": "DropdownModel",
      "state": {
       "_options_labels": [
        "Accent",
        "afmhot",
        "autumn",
        "binary",
        "Blues",
        "bone",
        "BrBG",
        "brg",
        "BuGn",
        "BuPu",
        "bwr",
        "CMRmap",
        "cool",
        "coolwarm",
        "copper",
        "cubehelix",
        "Dark2",
        "flag",
        "gist_earth",
        "gist_gray",
        "gist_heat",
        "gist_ncar",
        "gist_rainbow",
        "gist_stern",
        "gist_yarg",
        "GnBu",
        "gnuplot",
        "gnuplot2",
        "gray",
        "Greens",
        "Greys",
        "hot",
        "hsv",
        "inferno",
        "jet",
        "magma",
        "nipy_spectral",
        "ocean",
        "Oranges",
        "OrRd",
        "Paired",
        "Pastel1",
        "Pastel2",
        "pink",
        "PiYG",
        "plasma",
        "PRGn",
        "prism",
        "PuBu",
        "PuBuGn",
        "PuOr",
        "PuRd",
        "Purples",
        "rainbow",
        "RdBu",
        "RdGy",
        "RdPu",
        "RdYlBu",
        "RdYlGn",
        "Reds",
        "seismic",
        "Set1",
        "Set2",
        "Set3",
        "Spectral",
        "spring",
        "summer",
        "tab10",
        "tab20",
        "tab20b",
        "tab20c",
        "terrain",
        "viridis",
        "winter",
        "Wistia",
        "YlGn",
        "YlGnBu",
        "YlOrBr",
        "YlOrRd"
       ],
       "description": "Selecione o esquema de cores desejado para a imagem:",
       "index": 32,
       "layout": "IPY_MODEL_df9389002b5b4b8a9d25d4793e63849d",
       "style": "IPY_MODEL_1293c58d91424cca939b1402350ecfa0"
      }
     },
     "459dfde8265047cdb14d03fd7dd5b5b7": {
      "model_module": "@jupyter-widgets/controls",
      "model_module_version": "1.4.0",
      "model_name": "DescriptionStyleModel",
      "state": {
       "description_width": "initial"
      }
     },
     "45dc16ac3b0f4ad488f49e356b6379bf": {
      "model_module": "@jupyter-widgets/base",
      "model_module_version": "1.1.0",
      "model_name": "LayoutModel",
      "state": {}
     },
     "45fcde1cd5694087a2ad5b6d3f4229c6": {
      "model_module": "@jupyter-widgets/controls",
      "model_module_version": "1.4.0",
      "model_name": "DescriptionStyleModel",
      "state": {
       "description_width": ""
      }
     },
     "46209515ea444f8fb6ee8eeed8a7eab2": {
      "model_module": "@jupyter-widgets/controls",
      "model_module_version": "1.4.0",
      "model_name": "DescriptionStyleModel",
      "state": {
       "description_width": "initial"
      }
     },
     "469310f738c94db9ac0c87ff5025730b": {
      "model_module": "@jupyter-widgets/base",
      "model_module_version": "1.1.0",
      "model_name": "LayoutModel",
      "state": {}
     },
     "46bd336b5db6497ab2fd4b16977fed94": {
      "model_module": "@jupyter-widgets/controls",
      "model_module_version": "1.4.0",
      "model_name": "ProgressStyleModel",
      "state": {
       "description_width": ""
      }
     },
     "46f485a69af543139472e7dc095a9ce5": {
      "model_module": "@jupyter-widgets/controls",
      "model_module_version": "1.4.0",
      "model_name": "AccordionModel",
      "state": {
       "_titles": {
        "0": "Escolha da resolução em DPI"
       },
       "children": [
        "IPY_MODEL_d982b85445344c1f9fce889375affe6f"
       ],
       "layout": "IPY_MODEL_2d32fa340d3048bba6e17c6c46b509a5"
      }
     },
     "47140cf8fd5a41be82aa48a6979fbcee": {
      "model_module": "@jupyter-widgets/base",
      "model_module_version": "1.1.0",
      "model_name": "LayoutModel",
      "state": {}
     },
     "472abbca006b4875bb4ef7ed5f946427": {
      "model_module": "@jupyter-widgets/controls",
      "model_module_version": "1.4.0",
      "model_name": "ButtonStyleModel",
      "state": {}
     },
     "4791146a04b2464bb050e70c5490cca0": {
      "model_module": "@jupyter-widgets/controls",
      "model_module_version": "1.4.0",
      "model_name": "ProgressStyleModel",
      "state": {
       "description_width": ""
      }
     },
     "47a72d45a1574245a50ccee83ab1d1ce": {
      "model_module": "@jupyter-widgets/controls",
      "model_module_version": "1.4.0",
      "model_name": "SelectMultipleModel",
      "state": {
       "_options_labels": [
        "N (0.0°)",
        "NNE (22.5°)",
        "NE (45.0°)",
        "ENE (67.5°)",
        "E (90.0°)",
        "ESE (112.5°)",
        "SE (135.0°)",
        "SSE (157.5°)",
        "S (180.0°)",
        "SSW (202.5°)",
        "SW (225.0°)",
        "WSW (247.5°)",
        "W (270.0°)",
        "WNW (292.5°)",
        "NW (315.0°)",
        "NNW (337.5°)",
        "N (360.0°)"
       ],
       "description": "Selecione a direção (°) desejada:",
       "index": [
        15
       ],
       "layout": "IPY_MODEL_db8ad3ca4bcd492ba9b971290f68ecb7",
       "rows": 5,
       "style": "IPY_MODEL_870d1d062889465fbe8275664da0cdd9"
      }
     },
     "47acb1d0d6f74fba9068b377661e7c30": {
      "model_module": "@jupyter-widgets/controls",
      "model_module_version": "1.4.0",
      "model_name": "AccordionModel",
      "state": {
       "_titles": {
        "0": "Criar projeto",
        "1": "Carregar projeto"
       },
       "children": [
        "IPY_MODEL_059377f52f894ae7ba150bba852de2a8",
        "IPY_MODEL_30faab7fc5f74f09819575c0891ccc74"
       ],
       "layout": "IPY_MODEL_ec34a89b157e4d59afcc8698dc471a87",
       "selected_index": 1
      }
     },
     "47ee7a86f56940e899b4b4abf7916a79": {
      "model_module": "@jupyter-widgets/base",
      "model_module_version": "1.1.0",
      "model_name": "LayoutModel",
      "state": {}
     },
     "47f05b4abf3746ab9969561f82942969": {
      "model_module": "@jupyter-widgets/controls",
      "model_module_version": "1.4.0",
      "model_name": "FloatTextModel",
      "state": {
       "layout": "IPY_MODEL_3b416201b58c4a78b5b5ccac5d7c5e88",
       "step": null,
       "style": "IPY_MODEL_4f40492f15074bdb90c48e672a74d072",
       "value": 200
      }
     },
     "48046a271a8f4b12ba8a1905918c93b4": {
      "model_module": "@jupyter-widgets/controls",
      "model_module_version": "1.4.0",
      "model_name": "DropdownModel",
      "state": {
       "_options_labels": [
        "300",
        "600",
        "1200"
       ],
       "description": "Selecione a DPI desejada:",
       "index": 2,
       "layout": "IPY_MODEL_c4b932f6bb6f4bdb83dc2267d95e46c6",
       "style": "IPY_MODEL_7ec546d0487842a2b2520198a809d539"
      }
     },
     "4809350523d94c50accb437210e855ac": {
      "model_module": "@jupyter-widgets/controls",
      "model_module_version": "1.4.0",
      "model_name": "AccordionModel",
      "state": {
       "_titles": {
        "0": "Escolha da(s) pista(s) de vento"
       },
       "children": [
        "IPY_MODEL_f755d40b5c9746f0aff20af769a95dc3"
       ],
       "layout": "IPY_MODEL_47ee7a86f56940e899b4b4abf7916a79"
      }
     },
     "48132cec34a446138e0a67803d5a5057": {
      "model_module": "@jupyter-widgets/controls",
      "model_module_version": "1.4.0",
      "model_name": "ButtonModel",
      "state": {
       "description": "Criar projeto",
       "layout": "IPY_MODEL_af6ecae91b034b3fa11941a00de1c1ad",
       "style": "IPY_MODEL_4b9ac77782594d4d8f44108e3d6c2c49",
       "tooltip": "Cria um novo projeto"
      }
     },
     "4842bde05c694f9887cfa08fce316854": {
      "model_module": "@jupyter-widgets/controls",
      "model_module_version": "1.4.0",
      "model_name": "DescriptionStyleModel",
      "state": {
       "description_width": "initial"
      }
     },
     "485f2c5bd1854a99811b0528b66ddbe0": {
      "model_module": "@jupyter-widgets/controls",
      "model_module_version": "1.4.0",
      "model_name": "AccordionModel",
      "state": {
       "_titles": {
        "0": "Métodos para obtenção dos fetchs"
       },
       "children": [
        "IPY_MODEL_953f2cb475d84201b1f75980cd327b92"
       ],
       "layout": "IPY_MODEL_b73d888855374055aa184b2e8c02a4dd"
      }
     },
     "486da5f88b154f4ba8c7998d0f4d9220": {
      "model_module": "@jupyter-widgets/controls",
      "model_module_version": "1.4.0",
      "model_name": "ProgressStyleModel",
      "state": {
       "description_width": ""
      }
     },
     "487164c649764d37a87b79932cc9c21e": {
      "model_module": "@jupyter-widgets/controls",
      "model_module_version": "1.4.0",
      "model_name": "ProgressStyleModel",
      "state": {
       "description_width": ""
      }
     },
     "4887c170b0eb4e49911c3e08fb02d200": {
      "model_module": "@jupyter-widgets/controls",
      "model_module_version": "1.4.0",
      "model_name": "ToggleButtonsModel",
      "state": {
       "_options_labels": [
        "Uma direção",
        "Todas as direções",
        "Outra direção"
       ],
       "button_style": "",
       "icons": [],
       "index": 0,
       "layout": "IPY_MODEL_f344bbe2464c47039988fd775b35be9d",
       "style": "IPY_MODEL_927d6d2927154fd89247f6c0fabd6905",
       "tooltips": []
      }
     },
     "48e6e1b877244dc68b79e78107998137": {
      "model_module": "@jupyter-widgets/base",
      "model_module_version": "1.1.0",
      "model_name": "LayoutModel",
      "state": {}
     },
     "48f9eed585024b46898ba10bb5bf3811": {
      "model_module": "@jupyter-widgets/controls",
      "model_module_version": "1.4.0",
      "model_name": "SelectModel",
      "state": {
       "_options_labels": [
        "0.0°"
       ],
       "description": "Direção (°):",
       "index": 0,
       "layout": "IPY_MODEL_070f97e9ba3542b387d5022f67cedaa6",
       "style": "IPY_MODEL_e764c69438cf47db90660e24a5a99329"
      }
     },
     "4938c34a336349b8b2dc993c2a790124": {
      "model_module": "@jupyter-widgets/controls",
      "model_module_version": "1.4.0",
      "model_name": "ProgressStyleModel",
      "state": {
       "description_width": ""
      }
     },
     "49591548c28f4b6cb93885020bfe3b95": {
      "model_module": "@jupyter-widgets/controls",
      "model_module_version": "1.4.0",
      "model_name": "FloatProgressModel",
      "state": {
       "description": "180.00°:",
       "layout": "IPY_MODEL_4b9690e28e23493a91a87c268c32014f",
       "max": 1,
       "style": "IPY_MODEL_977b8de6d09c4d82a4d1dcaf69cdf652",
       "value": 1
      }
     },
     "4965b0674a0a4abea5370bcd4fdc13bc": {
      "model_module": "@jupyter-widgets/controls",
      "model_module_version": "1.4.0",
      "model_name": "ButtonModel",
      "state": {
       "description": "Carregar .shp",
       "layout": "IPY_MODEL_cf0ef049294b41618f56008b9ac432b4",
       "style": "IPY_MODEL_8a3e41585d994c12af54bf38455fa70c",
       "tooltip": "Carrega um .shp para processamento"
      }
     },
     "497624104ea04484a5b4e5a7257c94f9": {
      "model_module": "@jupyter-widgets/controls",
      "model_module_version": "1.4.0",
      "model_name": "ButtonStyleModel",
      "state": {}
     },
     "49b88e30f04c4f259e8ae27f5d4ddc29": {
      "model_module": "@jupyter-widgets/controls",
      "model_module_version": "1.4.0",
      "model_name": "ButtonStyleModel",
      "state": {}
     },
     "4a206df4a56846489d4681a68d6cef00": {
      "model_module": "@jupyter-widgets/controls",
      "model_module_version": "1.4.0",
      "model_name": "AccordionModel",
      "state": {
       "_titles": {
        "0": "Métodos para obtenção de pistas de vento"
       },
       "children": [
        "IPY_MODEL_05cae3959bb14a5ba85a3f78b1011372"
       ],
       "layout": "IPY_MODEL_3c26f6462d674c25b80477c665756fa1"
      }
     },
     "4a2434075d97481192c09ba59ad39aae": {
      "model_module": "@jupyter-widgets/controls",
      "model_module_version": "1.4.0",
      "model_name": "AccordionModel",
      "state": {
       "_titles": {
        "0": "Criar projeto",
        "1": "Importar projeto"
       },
       "children": [
        "IPY_MODEL_0b057fb9bdac47a68de77c801660b84a",
        "IPY_MODEL_ca789394d82b4d0f8b810ca6a133dc32"
       ],
       "layout": "IPY_MODEL_3acc53f6512b457a9964ec91ce8196c2",
       "selected_index": 1
      }
     },
     "4a6e357dcdc849e98a363458cf7427b9": {
      "model_module": "@jupyter-widgets/controls",
      "model_module_version": "1.4.0",
      "model_name": "TabModel",
      "state": {
       "_titles": {
        "0": "Projetos",
        "1": "Shapefiles"
       },
       "children": [
        "IPY_MODEL_1fdfbda6b81544df81ceec195d935148",
        "IPY_MODEL_622657dbc90648fc8fcd40f4269bd8e8"
       ],
       "layout": "IPY_MODEL_c920ea49b4864982b68ea376f8216a7a",
       "selected_index": 1
      }
     },
     "4a738ed3a2ca460a9d04e9dd4139c2c8": {
      "model_module": "@jupyter-widgets/base",
      "model_module_version": "1.1.0",
      "model_name": "LayoutModel",
      "state": {}
     },
     "4a7a30f5ed2b461db480f3e660345704": {
      "model_module": "@jupyter-widgets/controls",
      "model_module_version": "1.4.0",
      "model_name": "AccordionModel",
      "state": {
       "_titles": {
        "0": "Escolha do esquema de cores desejado"
       },
       "children": [
        "IPY_MODEL_9421e535518f40699abfd8d899b70c73"
       ],
       "layout": "IPY_MODEL_7044ebfd6fbd42e89498ef81c467f743"
      }
     },
     "4aeab69ba49a41ba8b7779310edfc424": {
      "model_module": "@jupyter-widgets/controls",
      "model_module_version": "1.4.0",
      "model_name": "ProgressStyleModel",
      "state": {
       "description_width": ""
      }
     },
     "4af9ec0c49d84bc9a6efa8f2889714a5": {
      "model_module": "@jupyter-widgets/base",
      "model_module_version": "1.1.0",
      "model_name": "LayoutModel",
      "state": {}
     },
     "4b4527953a8b45fb9795ae220deed9a6": {
      "model_module": "@jupyter-widgets/controls",
      "model_module_version": "1.4.0",
      "model_name": "ButtonStyleModel",
      "state": {}
     },
     "4b6c8402add94f11b483a2293c707ea2": {
      "model_module": "@jupyter-widgets/controls",
      "model_module_version": "1.4.0",
      "model_name": "ButtonStyleModel",
      "state": {}
     },
     "4b9690e28e23493a91a87c268c32014f": {
      "model_module": "@jupyter-widgets/base",
      "model_module_version": "1.1.0",
      "model_name": "LayoutModel",
      "state": {}
     },
     "4b9ac77782594d4d8f44108e3d6c2c49": {
      "model_module": "@jupyter-widgets/controls",
      "model_module_version": "1.4.0",
      "model_name": "ButtonStyleModel",
      "state": {}
     },
     "4bc85c57574742bc9ab066aa2875d58a": {
      "model_module": "@jupyter-widgets/base",
      "model_module_version": "1.1.0",
      "model_name": "LayoutModel",
      "state": {
       "width": "500px"
      }
     },
     "4be1598a547e4ee8bbbc7039625f99c4": {
      "model_module": "@jupyter-widgets/controls",
      "model_module_version": "1.4.0",
      "model_name": "ButtonModel",
      "state": {
       "description": "Importar .shp de malha processada",
       "layout": "IPY_MODEL_ae61113d9a2d4f29859d6062346655b9",
       "style": "IPY_MODEL_52f6511d6d4a47f188f54059d67b6f28",
       "tooltip": "Importa um .shp que teve sua malha processada"
      }
     },
     "4be33e86e92642788a68c02b704ec7a6": {
      "model_module": "@jupyter-widgets/controls",
      "model_module_version": "1.4.0",
      "model_name": "AccordionModel",
      "state": {
       "_titles": {
        "0": "Direções convencionais:",
        "1": "Direção específica:"
       },
       "children": [
        "IPY_MODEL_f3b763c512bd4069990f805285fa7ebd",
        "IPY_MODEL_d8cc28c4b10a40d58dd39e33683e4700"
       ],
       "layout": "IPY_MODEL_b8d98a03774e4a9989fab5721971130d"
      }
     },
     "4be436a8153c49809654889eb291f7fc": {
      "model_module": "@jupyter-widgets/controls",
      "model_module_version": "1.4.0",
      "model_name": "ButtonModel",
      "state": {
       "description": "Carregar projeto",
       "layout": "IPY_MODEL_5ef6cb672a8c49a5b1c5ff35ae635fe5",
       "style": "IPY_MODEL_4fb942985a31414badc8082a54cf7379",
       "tooltip": "Carrega o .csv de um projeto já criado"
      }
     },
     "4c005cfcdb1a46049c88e15cedeb22e3": {
      "model_module": "@jupyter-widgets/controls",
      "model_module_version": "1.4.0",
      "model_name": "DescriptionStyleModel",
      "state": {
       "description_width": "initial"
      }
     },
     "4c0b075d350c471e9c09d3d2a6c14c52": {
      "model_module": "@jupyter-widgets/controls",
      "model_module_version": "1.4.0",
      "model_name": "AccordionModel",
      "state": {
       "_titles": {
        "0": "Escolha da(s) pista(s) de vento"
       },
       "children": [
        "IPY_MODEL_edd41f86fdd74f4d9590a719c9af186d"
       ],
       "layout": "IPY_MODEL_dfc1da4abe254ad1905e76ebbcadcff5"
      }
     },
     "4c96a056445d4f8cb4cc8576c8f34f3f": {
      "model_module": "@jupyter-widgets/controls",
      "model_module_version": "1.4.0",
      "model_name": "DescriptionStyleModel",
      "state": {
       "description_width": "initial"
      }
     },
     "4c96ccdcfb0344afb05a4e0d81f9669b": {
      "model_module": "@jupyter-widgets/base",
      "model_module_version": "1.1.0",
      "model_name": "LayoutModel",
      "state": {}
     },
     "4ce38622b0d943daaf108dc0b30f477d": {
      "model_module": "@jupyter-widgets/controls",
      "model_module_version": "1.4.0",
      "model_name": "TextModel",
      "state": {
       "description": "Outra direção (°):",
       "layout": "IPY_MODEL_84c173f4a1244975a462ddbf8ff71fad",
       "style": "IPY_MODEL_51234f473218429ba0677f3f5b764501"
      }
     },
     "4d4f1422a6cf4e5eaeddf4dccabd33c9": {
      "model_module": "@jupyter-widgets/controls",
      "model_module_version": "1.4.0",
      "model_name": "ButtonModel",
      "state": {
       "description": "Importar .shp de malha processada",
       "layout": "IPY_MODEL_a41e8a0a3ca24c94a64ac99724352bdb",
       "style": "IPY_MODEL_8c8425a0b0ac4965bb17b66738160ea1",
       "tooltip": "Importa um .shp que já teve sua malha processada"
      }
     },
     "4db529fa72cd4f43b75e3629359d024c": {
      "model_module": "@jupyter-widgets/base",
      "model_module_version": "1.1.0",
      "model_name": "LayoutModel",
      "state": {
       "width": "30%"
      }
     },
     "4de8f2b90cea494aaa26f842cce8b19a": {
      "model_module": "@jupyter-widgets/controls",
      "model_module_version": "1.4.0",
      "model_name": "SelectMultipleModel",
      "state": {
       "_options_labels": [
        "0.0°",
        "45.0°",
        "90.0°"
       ],
       "index": [
        0,
        1,
        2
       ],
       "layout": "IPY_MODEL_ff9b54bf717e4ef6b963f7d3df324d21",
       "rows": 5,
       "style": "IPY_MODEL_7d01e85a68124d66902207a91fc11cc9"
      }
     },
     "4deb1447eeef426490d2fa5821ff743c": {
      "model_module": "@jupyter-widgets/controls",
      "model_module_version": "1.4.0",
      "model_name": "RadioButtonsModel",
      "state": {
       "_options_labels": [
        "Georreferenciado",
        "Não georreferenciado"
       ],
       "description": "Georreferenciamento:",
       "index": 0,
       "layout": "IPY_MODEL_a5fd5033fca1413689a7e8be753aaf37",
       "style": "IPY_MODEL_42d2abbf0b414957bef8c576978b7b25"
      }
     },
     "4df837b0f0ec425682a1cb14658153ed": {
      "model_module": "@jupyter-widgets/controls",
      "model_module_version": "1.4.0",
      "model_name": "DropdownModel",
      "state": {
       "_options_labels": [
        "binary",
        "Blues",
        "brg",
        "BuGn",
        "cool",
        "cubehelix",
        "gist_earth",
        "gist_ncar",
        "gist_rainbow",
        "gnuplot",
        "gnuplot2",
        "hsv",
        "jet",
        "magma",
        "nipy_spectral",
        "ocean",
        "plasma",
        "rainbow",
        "Spectral",
        "terrain",
        "winter"
       ],
       "description": "Selecione o esquema de cores desejado:",
       "index": 0,
       "layout": "IPY_MODEL_034a92c518b840ffa02614edc0a3899c",
       "style": "IPY_MODEL_2d67895a6c9f4115861868f67e3298b3"
      }
     },
     "4e3838fe6fc441e1b99b67b435c9acb4": {
      "model_module": "@jupyter-widgets/base",
      "model_module_version": "1.1.0",
      "model_name": "LayoutModel",
      "state": {}
     },
     "4e65318217964ca2bce00c9ff61a9873": {
      "model_module": "@jupyter-widgets/base",
      "model_module_version": "1.1.0",
      "model_name": "LayoutModel",
      "state": {}
     },
     "4e999387f4bd4ac58d5051491bda7160": {
      "model_module": "@jupyter-widgets/base",
      "model_module_version": "1.1.0",
      "model_name": "LayoutModel",
      "state": {}
     },
     "4e99ddd287614ac4b121772ac965b5e5": {
      "model_module": "@jupyter-widgets/controls",
      "model_module_version": "1.4.0",
      "model_name": "TabModel",
      "state": {
       "_titles": {
        "0": "Métodos",
        "1": "Direções"
       },
       "children": [
        "IPY_MODEL_40d9ceba9fec44c184171427b7ef12a9",
        "IPY_MODEL_5f689d4b11f14f62af64a8f9ae9fa904"
       ],
       "layout": "IPY_MODEL_554c4aef35b9431ba80ce3ef9a2f1e2c",
       "selected_index": 1
      }
     },
     "4eb67509ce094de2b1acbffdc841feea": {
      "model_module": "@jupyter-widgets/base",
      "model_module_version": "1.1.0",
      "model_name": "LayoutModel",
      "state": {}
     },
     "4edc039694b14cd492da77c484763fd1": {
      "model_module": "@jupyter-widgets/controls",
      "model_module_version": "1.4.0",
      "model_name": "DescriptionStyleModel",
      "state": {
       "description_width": "initial"
      }
     },
     "4f00285a2979420ab6c79506f8c10241": {
      "model_module": "@jupyter-widgets/controls",
      "model_module_version": "1.4.0",
      "model_name": "AccordionModel",
      "state": {
       "_titles": {
        "0": "Direções convencionais",
        "1": "Direção específica"
       },
       "children": [
        "IPY_MODEL_a9493e8618b14d73bfb70d55c9ad17ab",
        "IPY_MODEL_23739bd1e7a14b9e959a371e14c04418"
       ],
       "layout": "IPY_MODEL_0042cf38c4bf48d29c30576b9d597729"
      }
     },
     "4f19d3614fcc4b38af3c7f0add48b9c9": {
      "model_module": "@jupyter-widgets/base",
      "model_module_version": "1.1.0",
      "model_name": "LayoutModel",
      "state": {}
     },
     "4f2ab8cd5576436f8a178be92d68983f": {
      "model_module": "@jupyter-widgets/controls",
      "model_module_version": "1.4.0",
      "model_name": "AccordionModel",
      "state": {
       "_titles": {
        "0": "Escolha do esquema de cores desejado"
       },
       "children": [
        "IPY_MODEL_f7676757cbfe4a7abef8a925146b557b"
       ],
       "layout": "IPY_MODEL_154aa97afbb44ccfad6087df2d38b679"
      }
     },
     "4f40492f15074bdb90c48e672a74d072": {
      "model_module": "@jupyter-widgets/controls",
      "model_module_version": "1.4.0",
      "model_name": "DescriptionStyleModel",
      "state": {
       "description_width": ""
      }
     },
     "4faec1b67c204397a82369ecc9a5c33b": {
      "model_module": "@jupyter-widgets/controls",
      "model_module_version": "1.4.0",
      "model_name": "AccordionModel",
      "state": {
       "_titles": {
        "0": "Direções convencionais",
        "1": "Direção específica"
       },
       "children": [
        "IPY_MODEL_3d5791923f064e3d980962041273203a",
        "IPY_MODEL_65643c34e5834740991fe2706c476402"
       ],
       "layout": "IPY_MODEL_cf5a32c9705849b8b6e36610048e5a4b"
      }
     },
     "4fb942985a31414badc8082a54cf7379": {
      "model_module": "@jupyter-widgets/controls",
      "model_module_version": "1.4.0",
      "model_name": "ButtonStyleModel",
      "state": {}
     },
     "4fb99ceb46fa4e1aba3d2f3e129b4b98": {
      "model_module": "@jupyter-widgets/controls",
      "model_module_version": "1.4.0",
      "model_name": "DescriptionStyleModel",
      "state": {
       "description_width": "initial"
      }
     },
     "4fdc92d0ddd04f9d8d168018a2592e3d": {
      "model_module": "@jupyter-widgets/base",
      "model_module_version": "1.1.0",
      "model_name": "LayoutModel",
      "state": {}
     },
     "4fe3506d521548d7b42082522ed51750": {
      "model_module": "@jupyter-widgets/controls",
      "model_module_version": "1.4.0",
      "model_name": "FloatProgressModel",
      "state": {
       "description": "45.0°:",
       "layout": "IPY_MODEL_c243373d15a746bab8a0d37b4797315a",
       "max": 1,
       "style": "IPY_MODEL_56cb3768acbe4ff18d0c90f5d9714824",
       "value": 1
      }
     },
     "4ff6a837bbbf4947b6bafc2866da4e94": {
      "model_module": "@jupyter-widgets/base",
      "model_module_version": "1.1.0",
      "model_name": "LayoutModel",
      "state": {
       "width": "500px"
      }
     },
     "5019020c435c48568e6d7a7534984bcf": {
      "model_module": "@jupyter-widgets/controls",
      "model_module_version": "1.4.0",
      "model_name": "ProgressStyleModel",
      "state": {
       "description_width": ""
      }
     },
     "5061cc556eb844c2854e8a814d78c187": {
      "model_module": "@jupyter-widgets/base",
      "model_module_version": "1.1.0",
      "model_name": "LayoutModel",
      "state": {}
     },
     "5065e3b7f3124fbc83498b6c56d4fdfe": {
      "model_module": "@jupyter-widgets/controls",
      "model_module_version": "1.4.0",
      "model_name": "TabModel",
      "state": {
       "_titles": {
        "0": "Métodos",
        "1": "Direções"
       },
       "children": [
        "IPY_MODEL_fd9e602bbbf8476189121101842b9ade",
        "IPY_MODEL_20a0156f04564b2ca1ed31b8f76598ee"
       ],
       "layout": "IPY_MODEL_f211f29c2cc9402f95bc210d8c866603",
       "selected_index": 1
      }
     },
     "50662986d8454f5c8c5db2f2bed5b4a1": {
      "model_module": "@jupyter-widgets/base",
      "model_module_version": "1.1.0",
      "model_name": "LayoutModel",
      "state": {}
     },
     "507209396061468dbd60b94d8aac6db2": {
      "model_module": "@jupyter-widgets/controls",
      "model_module_version": "1.4.0",
      "model_name": "DescriptionStyleModel",
      "state": {
       "description_width": "initial"
      }
     },
     "5073ba51dd7243ac93145882f7f27002": {
      "model_module": "@jupyter-widgets/controls",
      "model_module_version": "1.4.0",
      "model_name": "AccordionModel",
      "state": {
       "_titles": {
        "0": "Malha (m)"
       },
       "children": [
        "IPY_MODEL_75cc185a1c4a4187b5f42fe71bf00214"
       ],
       "layout": "IPY_MODEL_8d28554b0442432aa436ffcefbf610a9"
      }
     },
     "50a6de25db054103b80961bd4ff63fae": {
      "model_module": "@jupyter-widgets/controls",
      "model_module_version": "1.4.0",
      "model_name": "AccordionModel",
      "state": {
       "_titles": {
        "0": "Escolha do esquema de cores desejado"
       },
       "children": [
        "IPY_MODEL_caec3ac832374cb2a54177185e50123f"
       ],
       "layout": "IPY_MODEL_51bf4d8ecae440008370f455cd310718"
      }
     },
     "50c3bccbbb2f4aa283475b4a719f7f5f": {
      "model_module": "@jupyter-widgets/base",
      "model_module_version": "1.1.0",
      "model_name": "LayoutModel",
      "state": {
       "width": "30%"
      }
     },
     "50d37d5ea9064750bb4d711ad6a10359": {
      "model_module": "@jupyter-widgets/controls",
      "model_module_version": "1.4.0",
      "model_name": "AccordionModel",
      "state": {
       "_titles": {
        "0": "Criar projeto",
        "1": "Carregar projeto"
       },
       "children": [
        "IPY_MODEL_2b9896dd5fa94e928b21fc1b35ec1f99",
        "IPY_MODEL_b27739cdfca84c4db238729582a83a82"
       ],
       "layout": "IPY_MODEL_01add52cec694dbf9bf0c4ff98ce27a6",
       "selected_index": 1
      }
     },
     "50d4283b84554eb8921c7e378528180b": {
      "model_module": "@jupyter-widgets/base",
      "model_module_version": "1.1.0",
      "model_name": "LayoutModel",
      "state": {}
     },
     "50e37edc2f4247dd94a7d9fc0d7ccea2": {
      "model_module": "@jupyter-widgets/controls",
      "model_module_version": "1.4.0",
      "model_name": "DescriptionStyleModel",
      "state": {
       "description_width": "initial"
      }
     },
     "50f5be0390014b66907cb3b73e99ba61": {
      "model_module": "@jupyter-widgets/base",
      "model_module_version": "1.1.0",
      "model_name": "LayoutModel",
      "state": {}
     },
     "5104a7002df946f8909467a96d6f2de3": {
      "model_module": "@jupyter-widgets/controls",
      "model_module_version": "1.4.0",
      "model_name": "AccordionModel",
      "state": {
       "_titles": {
        "0": "Criar projeto",
        "1": "Importar projeto"
       },
       "children": [
        "IPY_MODEL_ef267b59d8c6472a888c9d1c99e20e39",
        "IPY_MODEL_27888edfc7bb4a0fb9d1f8e0d1c97ffb"
       ],
       "layout": "IPY_MODEL_4e3838fe6fc441e1b99b67b435c9acb4"
      }
     },
     "5106fd41606e4b0499e3d30221cd79fa": {
      "model_module": "@jupyter-widgets/controls",
      "model_module_version": "1.4.0",
      "model_name": "AccordionModel",
      "state": {
       "_titles": {
        "0": "Importar .shp",
        "1": "Importar .shp de malha processada"
       },
       "children": [
        "IPY_MODEL_5d8624f33a2b43a6bc8906cf72a6cea8",
        "IPY_MODEL_738ba8ffb8d8422d822736fdead57334"
       ],
       "layout": "IPY_MODEL_5d557763de284734b130ac42e70700d3"
      }
     },
     "51234f473218429ba0677f3f5b764501": {
      "model_module": "@jupyter-widgets/controls",
      "model_module_version": "1.4.0",
      "model_name": "DescriptionStyleModel",
      "state": {
       "description_width": "initial"
      }
     },
     "5133983c32544b49a021dd8efa9890d3": {
      "model_module": "@jupyter-widgets/controls",
      "model_module_version": "1.4.0",
      "model_name": "DropdownModel",
      "state": {
       "_options_labels": [
        "300",
        "600",
        "1200"
       ],
       "description": "Selecione a DPI desejada:",
       "index": 2,
       "layout": "IPY_MODEL_260eb539d92343e9b21784851c05575d",
       "style": "IPY_MODEL_1dc78b9d193d4e4da8a5c87ff546282b"
      }
     },
     "5148c3cd39034cd4bf479bb5bf9bc83e": {
      "model_module": "@jupyter-widgets/controls",
      "model_module_version": "1.4.0",
      "model_name": "FloatProgressModel",
      "state": {
       "description": "0.0°:",
       "layout": "IPY_MODEL_824f5c517ce64141ad80b065a851ffd0",
       "max": 1,
       "style": "IPY_MODEL_9c6db58cb9db483d94b8f3ecd45ec482",
       "value": 1
      }
     },
     "517317cdef124e6b97eb4c08302d0541": {
      "model_module": "@jupyter-widgets/base",
      "model_module_version": "1.1.0",
      "model_name": "LayoutModel",
      "state": {}
     },
     "519d9d86a83b4448bf5e2bf6bb66307a": {
      "model_module": "@jupyter-widgets/base",
      "model_module_version": "1.1.0",
      "model_name": "LayoutModel",
      "state": {
       "width": "500px"
      }
     },
     "51af4d80fe6543fc8ec43904670c3155": {
      "model_module": "@jupyter-widgets/controls",
      "model_module_version": "1.4.0",
      "model_name": "TabModel",
      "state": {
       "_titles": {
        "0": "Projetos",
        "1": "Shapefiles"
       },
       "children": [
        "IPY_MODEL_4a2434075d97481192c09ba59ad39aae",
        "IPY_MODEL_c3dfbf8db06c4bcd80c0fbcb848060e4"
       ],
       "layout": "IPY_MODEL_abfe9a0822844f4da90abe7f47f40559",
       "selected_index": 1
      }
     },
     "51bf4d8ecae440008370f455cd310718": {
      "model_module": "@jupyter-widgets/base",
      "model_module_version": "1.1.0",
      "model_name": "LayoutModel",
      "state": {}
     },
     "51c55514d68345a584bac645b5b47f52": {
      "model_module": "@jupyter-widgets/controls",
      "model_module_version": "1.4.0",
      "model_name": "DropdownModel",
      "state": {
       "_options_labels": [
        "Accent",
        "afmhot",
        "autumn",
        "binary",
        "Blues",
        "bone",
        "BrBG",
        "brg",
        "BuGn",
        "BuPu",
        "bwr",
        "CMRmap",
        "cool",
        "coolwarm",
        "copper",
        "cubehelix",
        "Dark2",
        "flag",
        "gist_earth",
        "gist_gray",
        "gist_heat",
        "gist_ncar",
        "gist_rainbow",
        "gist_stern",
        "gist_yarg",
        "GnBu",
        "gnuplot",
        "gnuplot2",
        "gray",
        "Greens",
        "Greys",
        "hot",
        "hsv",
        "inferno",
        "jet",
        "magma",
        "nipy_spectral",
        "ocean",
        "Oranges",
        "OrRd",
        "Paired",
        "Pastel1",
        "Pastel2",
        "pink",
        "PiYG",
        "plasma",
        "PRGn",
        "prism",
        "PuBu",
        "PuBuGn",
        "PuOr",
        "PuRd",
        "Purples",
        "rainbow",
        "RdBu",
        "RdGy",
        "RdPu",
        "RdYlBu",
        "RdYlGn",
        "Reds",
        "seismic",
        "Set1",
        "Set2",
        "Set3",
        "Spectral",
        "spring",
        "summer",
        "tab10",
        "tab20",
        "tab20b",
        "tab20c",
        "terrain",
        "viridis",
        "winter",
        "Wistia",
        "YlGn",
        "YlGnBu",
        "YlOrBr",
        "YlOrRd"
       ],
       "description": "Selecione o esquema de cores desejado para a imagem:",
       "index": 36,
       "layout": "IPY_MODEL_a9b25dd56bc94f70a7affb4cec7c6075",
       "style": "IPY_MODEL_ab8d59d91ffd4267923aa0005333b024"
      }
     },
     "51d8665083b343239a95abcfd7848ab2": {
      "model_module": "@jupyter-widgets/controls",
      "model_module_version": "1.4.0",
      "model_name": "ButtonModel",
      "state": {
       "description": "Criar projeto",
       "layout": "IPY_MODEL_9e8dcc0ab41c41fba1a001a8a8b22f54",
       "style": "IPY_MODEL_fccd505733a34369a03ee26b4d4c26a7",
       "tooltip": "Cria um novo projeto"
      }
     },
     "51fead09b1fa41afa9dcc34ca9067277": {
      "model_module": "@jupyter-widgets/base",
      "model_module_version": "1.1.0",
      "model_name": "LayoutModel",
      "state": {
       "width": "30%"
      }
     },
     "525fb28e1a614d1ab057ea9da40ae994": {
      "model_module": "@jupyter-widgets/base",
      "model_module_version": "1.1.0",
      "model_name": "LayoutModel",
      "state": {}
     },
     "5280cd13d62b4272b17eac22237b3822": {
      "model_module": "@jupyter-widgets/base",
      "model_module_version": "1.1.0",
      "model_name": "LayoutModel",
      "state": {}
     },
     "52bf0b8b0e7e455297de24c0a6d7d444": {
      "model_module": "@jupyter-widgets/controls",
      "model_module_version": "1.4.0",
      "model_name": "DropdownModel",
      "state": {
       "_options_labels": [
        "binary",
        "Blues",
        "brg",
        "BuGn",
        "cool",
        "cubehelix",
        "gist_earth",
        "gist_ncar",
        "gist_rainbow",
        "gnuplot",
        "gnuplot2",
        "hsv",
        "jet",
        "magma",
        "nipy_spectral",
        "ocean",
        "plasma",
        "rainbow",
        "Spectral",
        "terrain",
        "winter"
       ],
       "description": "Selecione o esquema de cores desejado:",
       "index": 12,
       "layout": "IPY_MODEL_6af4dd8f7c2f4e9ab20558f226994249",
       "style": "IPY_MODEL_acd73e2e6964460384fcaeadaf22b198"
      }
     },
     "52c2ff1fbdf246a1acd905b73c2190ad": {
      "model_module": "@jupyter-widgets/controls",
      "model_module_version": "1.4.0",
      "model_name": "ButtonModel",
      "state": {
       "description": "Importar pista(s) de vento processada(s)",
       "layout": "IPY_MODEL_d573eee98bc1427f93f4652a6796b170",
       "style": "IPY_MODEL_c2f4cd29cf50468ba3d72015720f8299",
       "tooltip": "Importa pista(s) de vento processada(s)"
      }
     },
     "52f6511d6d4a47f188f54059d67b6f28": {
      "model_module": "@jupyter-widgets/controls",
      "model_module_version": "1.4.0",
      "model_name": "ButtonStyleModel",
      "state": {}
     },
     "530ce30ac191411c8ee3eff4d44f59b6": {
      "model_module": "@jupyter-widgets/controls",
      "model_module_version": "1.4.0",
      "model_name": "DescriptionStyleModel",
      "state": {
       "description_width": ""
      }
     },
     "5310593b435c44e1aeb4b88b0c6acd4d": {
      "model_module": "@jupyter-widgets/base",
      "model_module_version": "1.1.0",
      "model_name": "LayoutModel",
      "state": {}
     },
     "5323b57555a6424eb8f9732b4b1b8be0": {
      "model_module": "@jupyter-widgets/controls",
      "model_module_version": "1.4.0",
      "model_name": "DescriptionStyleModel",
      "state": {
       "description_width": "initial"
      }
     },
     "5333ea2f7b194e4b89c843327e3fbc4c": {
      "model_module": "@jupyter-widgets/controls",
      "model_module_version": "1.4.0",
      "model_name": "ButtonStyleModel",
      "state": {}
     },
     "53706ae958f64bf7b12f2a80313402a9": {
      "model_module": "@jupyter-widgets/controls",
      "model_module_version": "1.4.0",
      "model_name": "AccordionModel",
      "state": {
       "_titles": {
        "0": "Direções convencionais",
        "1": "Direção específica"
       },
       "children": [
        "IPY_MODEL_829dfad83149405fbffdae4020e02b11",
        "IPY_MODEL_9525d4df55c84a42ac9cf0e4e5c1d41f"
       ],
       "layout": "IPY_MODEL_5da2bd837a22474481120895bfad1115"
      }
     },
     "53884d5dd4474604b7209dade2a1b9ae": {
      "model_module": "@jupyter-widgets/base",
      "model_module_version": "1.1.0",
      "model_name": "LayoutModel",
      "state": {}
     },
     "53c80d0b12e6404587d8ea970e98acfc": {
      "model_module": "@jupyter-widgets/controls",
      "model_module_version": "1.4.0",
      "model_name": "ButtonModel",
      "state": {
       "description": "Importar pista(s) de vento já processada(s)",
       "layout": "IPY_MODEL_5d798a0c4acf47e5ac4e7a7d37832e44",
       "style": "IPY_MODEL_dab32518afa04ba89e69a27584a7ab19",
       "tooltip": "Importa pista(s) de vento já processada(s)"
      }
     },
     "540b594093f849ae96fd34da14a29862": {
      "model_module": "@jupyter-widgets/controls",
      "model_module_version": "1.4.0",
      "model_name": "ButtonModel",
      "state": {
       "description": "Criar projeto",
       "layout": "IPY_MODEL_00874f1550ea417fb6864c5117a8c571",
       "style": "IPY_MODEL_20c8d4e707ed43019035b0c482a9d207",
       "tooltip": "Cria um novo projeto"
      }
     },
     "547801e62601480fa45db72308ae30ba": {
      "model_module": "@jupyter-widgets/controls",
      "model_module_version": "1.4.0",
      "model_name": "TabModel",
      "state": {
       "_titles": {
        "0": "Projetos",
        "1": "Shapefiles"
       },
       "children": [
        "IPY_MODEL_9bb263467b524565b46a0014b82fa398",
        "IPY_MODEL_974590a28fd64c7db2fde2dae042505c"
       ],
       "layout": "IPY_MODEL_92e29ca6044c4f19bca5c4a9958a9769",
       "selected_index": 1
      }
     },
     "54957c65d6d84f05a041987e9957f97f": {
      "model_module": "@jupyter-widgets/controls",
      "model_module_version": "1.4.0",
      "model_name": "AccordionModel",
      "state": {
       "_titles": {
        "0": "Malha (m)"
       },
       "children": [
        "IPY_MODEL_f4a913a15c2e40e08d43df04137a7383"
       ],
       "layout": "IPY_MODEL_d4876a1cbff2419fba626cb37e974032"
      }
     },
     "54bf4f54b03548d38db2b3d2e7361fe1": {
      "model_module": "@jupyter-widgets/controls",
      "model_module_version": "1.4.0",
      "model_name": "ButtonModel",
      "state": {
       "description": "Importar .shp",
       "layout": "IPY_MODEL_130d64eeb82a4a778c2031205652f623",
       "style": "IPY_MODEL_d6abfe9079d9418191c5625da0bf9428",
       "tooltip": "Importa um .shp para processamento"
      }
     },
     "54f13e30f0254628bd5113f6744861f6": {
      "model_module": "@jupyter-widgets/controls",
      "model_module_version": "1.4.0",
      "model_name": "ButtonModel",
      "state": {
       "description": "Importar pista(s) de vento processada(s)",
       "layout": "IPY_MODEL_eb642dda9bb44d879c274620f3e80ae8",
       "style": "IPY_MODEL_e76d4acc677744d883d439952b12f91b",
       "tooltip": "Importa pista(s) de vento processada(s)"
      }
     },
     "54f504ee0db749258e94c66c45de4702": {
      "model_module": "@jupyter-widgets/controls",
      "model_module_version": "1.4.0",
      "model_name": "ButtonStyleModel",
      "state": {}
     },
     "55040ebe9fab4431925c752ea47a5023": {
      "model_module": "@jupyter-widgets/controls",
      "model_module_version": "1.4.0",
      "model_name": "TextModel",
      "state": {
       "layout": "IPY_MODEL_dd5300b87cb6424788af22eafa404d32",
       "style": "IPY_MODEL_60b1ba00448546f6a372520139e6efc9",
       "value": "Rio Paraná (Campinal)"
      }
     },
     "5504193845cc40a5949534f0b6019762": {
      "model_module": "@jupyter-widgets/controls",
      "model_module_version": "1.4.0",
      "model_name": "FloatProgressModel",
      "state": {
       "description": "292.50°:",
       "layout": "IPY_MODEL_5cff4f87f05f490d9fc17d2fffe8c06e",
       "max": 1,
       "style": "IPY_MODEL_d78d667d1e5f48828b31a1a14c6cd8f5",
       "value": 1
      }
     },
     "550adcd0371448418f5e355270d34f87": {
      "model_module": "@jupyter-widgets/controls",
      "model_module_version": "1.4.0",
      "model_name": "ProgressStyleModel",
      "state": {
       "description_width": ""
      }
     },
     "554605f3754a4e2da45ad89b6fa667ff": {
      "model_module": "@jupyter-widgets/controls",
      "model_module_version": "1.4.0",
      "model_name": "SelectMultipleModel",
      "state": {
       "_options_labels": [
        "N (0.0°)",
        "NNE (22.5°)",
        "NE (45.0°)",
        "ENE (67.5°)",
        "E (90.0°)",
        "ESE (112.5°)",
        "SE (135.0°)",
        "SSE (157.5°)",
        "S (180.0°)",
        "SSW (202.5°)",
        "SW (225.0°)",
        "WSW (247.5°)",
        "W (270.0°)",
        "WNW (292.5°)",
        "NW (315.0°)",
        "NNW (337.5°)",
        "N (360.0°)"
       ],
       "description": "Selecione a direção (°) desejada:",
       "index": [
        7
       ],
       "layout": "IPY_MODEL_e976298a300547209c78d0bd203c1d95",
       "rows": 5,
       "style": "IPY_MODEL_a5cbc2eb599f4a58ad96abb5a229ca9b"
      }
     },
     "554c4aef35b9431ba80ce3ef9a2f1e2c": {
      "model_module": "@jupyter-widgets/base",
      "model_module_version": "1.1.0",
      "model_name": "LayoutModel",
      "state": {}
     },
     "555f91de4be342199959a070f5e12369": {
      "model_module": "@jupyter-widgets/base",
      "model_module_version": "1.1.0",
      "model_name": "LayoutModel",
      "state": {}
     },
     "55650d98189b4b159b18049710a00f8a": {
      "model_module": "@jupyter-widgets/controls",
      "model_module_version": "1.4.0",
      "model_name": "ButtonModel",
      "state": {
       "description": "Carregar .shp de malha processada",
       "layout": "IPY_MODEL_1afca61b03ea4480a2ba30365454e2b7",
       "style": "IPY_MODEL_882131bf5dd9415e8270c2d46610453b",
       "tooltip": "Carrega um .shp que já teve sua malha processada"
      }
     },
     "558f6a5647ae457ab67a973811bff74b": {
      "model_module": "@jupyter-widgets/base",
      "model_module_version": "1.1.0",
      "model_name": "LayoutModel",
      "state": {}
     },
     "55b3b7aa94594f0882cdab38a9dd66ba": {
      "model_module": "@jupyter-widgets/base",
      "model_module_version": "1.1.0",
      "model_name": "LayoutModel",
      "state": {
       "width": "500px"
      }
     },
     "55cf700477334917b683a79970cf45e2": {
      "model_module": "@jupyter-widgets/controls",
      "model_module_version": "1.4.0",
      "model_name": "FloatTextModel",
      "state": {
       "layout": "IPY_MODEL_34e91fb079cd4c3da2d64d35dc3dc9b7",
       "step": null,
       "style": "IPY_MODEL_ef896181bcfd4c7fb8edc7efd8676321"
      }
     },
     "55dbfd4adbf241e58e55d14c33378472": {
      "model_module": "@jupyter-widgets/controls",
      "model_module_version": "1.4.0",
      "model_name": "ProgressStyleModel",
      "state": {
       "description_width": ""
      }
     },
     "55e27c9fb2684936be83f8a23b04e017": {
      "model_module": "@jupyter-widgets/base",
      "model_module_version": "1.1.0",
      "model_name": "LayoutModel",
      "state": {}
     },
     "55fc6741e06f4c65930505cb5259c0e0": {
      "model_module": "@jupyter-widgets/controls",
      "model_module_version": "1.4.0",
      "model_name": "FloatTextModel",
      "state": {
       "layout": "IPY_MODEL_4e65318217964ca2bce00c9ff61a9873",
       "step": null,
       "style": "IPY_MODEL_b448be63ac494aeba73fc198dbea3fc0",
       "value": 200
      }
     },
     "5653d3ff881146c780f99361fd66a503": {
      "model_module": "@jupyter-widgets/controls",
      "model_module_version": "1.4.0",
      "model_name": "DescriptionStyleModel",
      "state": {
       "description_width": "initial"
      }
     },
     "56711182ad25404ea2cd22ef1bbc9813": {
      "model_module": "@jupyter-widgets/controls",
      "model_module_version": "1.4.0",
      "model_name": "ButtonStyleModel",
      "state": {}
     },
     "56899c07db5245a2bff03930b7bbb9e3": {
      "model_module": "@jupyter-widgets/base",
      "model_module_version": "1.1.0",
      "model_name": "LayoutModel",
      "state": {}
     },
     "569570ac455a4ffda0f917e40e2d6fdf": {
      "model_module": "@jupyter-widgets/base",
      "model_module_version": "1.1.0",
      "model_name": "LayoutModel",
      "state": {}
     },
     "56cb3768acbe4ff18d0c90f5d9714824": {
      "model_module": "@jupyter-widgets/controls",
      "model_module_version": "1.4.0",
      "model_name": "ProgressStyleModel",
      "state": {
       "description_width": ""
      }
     },
     "56d3c17042bf48efbb8de6f98e6d04ba": {
      "model_module": "@jupyter-widgets/controls",
      "model_module_version": "1.4.0",
      "model_name": "ProgressStyleModel",
      "state": {
       "description_width": ""
      }
     },
     "56dc1810159840ddbe8058d7e38b1673": {
      "model_module": "@jupyter-widgets/controls",
      "model_module_version": "1.4.0",
      "model_name": "FloatProgressModel",
      "state": {
       "description": "337.5°:",
       "layout": "IPY_MODEL_f054edca757942f1a6955d3c7a24ae82",
       "max": 1,
       "style": "IPY_MODEL_beb81740136e4945851e780932fcb470",
       "value": 1
      }
     },
     "56dcbee2dd6c4ce7875ef5c3bf635c93": {
      "model_module": "@jupyter-widgets/base",
      "model_module_version": "1.1.0",
      "model_name": "LayoutModel",
      "state": {}
     },
     "56dd76b8e1b748d7a2baffa9b845eb26": {
      "model_module": "@jupyter-widgets/controls",
      "model_module_version": "1.4.0",
      "model_name": "ButtonStyleModel",
      "state": {}
     },
     "56f28c4554474b3a9215b9377b2c02fb": {
      "model_module": "@jupyter-widgets/controls",
      "model_module_version": "1.4.0",
      "model_name": "AccordionModel",
      "state": {
       "_titles": {
        "0": "Pistas de Vento"
       },
       "children": [
        "IPY_MODEL_797a65c414cc4aa498854b6fe2127daf"
       ],
       "layout": "IPY_MODEL_036893e49e244500b470df15a8f5d520"
      }
     },
     "570b6541a9ed4f12a9244c358065e156": {
      "model_module": "@jupyter-widgets/controls",
      "model_module_version": "1.4.0",
      "model_name": "SelectMultipleModel",
      "state": {
       "_options_labels": [
        "0.0°",
        "22.5°",
        "45.0°",
        "67.5°",
        "90.0°",
        "112.5°",
        "135.0°",
        "157.5°",
        "180.0°",
        "202.5°",
        "225.0°",
        "247.5°",
        "270.0°",
        "292.5°",
        "315.0°",
        "337.5°"
       ],
       "description": "Selecione a(s) direção(ões) (°) desejada(s):",
       "index": [],
       "layout": "IPY_MODEL_e80e00b95bef498fb8cb3d0e8948b21b",
       "rows": 5,
       "style": "IPY_MODEL_a049ad5fd98d41d9a3091c773b43ac44"
      }
     },
     "570d35618f1845ac8a079e8ca40563a2": {
      "model_module": "@jupyter-widgets/controls",
      "model_module_version": "1.4.0",
      "model_name": "ProgressStyleModel",
      "state": {
       "description_width": ""
      }
     },
     "57117f55459742b3a7c98d153b9dd126": {
      "model_module": "@jupyter-widgets/controls",
      "model_module_version": "1.4.0",
      "model_name": "ButtonStyleModel",
      "state": {}
     },
     "57123e1c3d3144efb5cfcc5d4c6d6098": {
      "model_module": "@jupyter-widgets/controls",
      "model_module_version": "1.4.0",
      "model_name": "ButtonStyleModel",
      "state": {}
     },
     "574984d4a95346f8a85db2934ad3d69c": {
      "model_module": "@jupyter-widgets/controls",
      "model_module_version": "1.4.0",
      "model_name": "DescriptionStyleModel",
      "state": {
       "description_width": ""
      }
     },
     "574e10f5926b43169bcf8e9630a666ca": {
      "model_module": "@jupyter-widgets/controls",
      "model_module_version": "1.4.0",
      "model_name": "AccordionModel",
      "state": {
       "_titles": {
        "0": "Modelo para obtenção dos fetchs:",
        "1": "Direções desejadas:"
       },
       "children": [
        "IPY_MODEL_3ea4d2aed6ef4c1e95a9878b26e55093",
        "IPY_MODEL_6748f29b2dad4d6c875f073c2ea6b61e"
       ],
       "layout": "IPY_MODEL_d9753e6000d14530a65d8f68a5c7143a"
      }
     },
     "579d625f026d4f4b83cce38086e383a5": {
      "model_module": "@jupyter-widgets/base",
      "model_module_version": "1.1.0",
      "model_name": "LayoutModel",
      "state": {}
     },
     "58181cf47d06444894df6e611fb2bd44": {
      "model_module": "@jupyter-widgets/base",
      "model_module_version": "1.1.0",
      "model_name": "LayoutModel",
      "state": {}
     },
     "58337ab636d0406895911c5e82b61814": {
      "model_module": "@jupyter-widgets/controls",
      "model_module_version": "1.4.0",
      "model_name": "DropdownModel",
      "state": {
       "_options_labels": [
        "300",
        "600",
        "1200"
       ],
       "description": "Selecione a DPI desejada:",
       "index": 1,
       "layout": "IPY_MODEL_69373c80eea24607838187b95702f415",
       "style": "IPY_MODEL_6f872788884f45a7bbbf3dac937bae58"
      }
     },
     "58543f5ff500406294e30cb7ac04c338": {
      "model_module": "@jupyter-widgets/base",
      "model_module_version": "1.1.0",
      "model_name": "LayoutModel",
      "state": {
       "width": "500px"
      }
     },
     "5868963a2536450f8125b43656ca89cb": {
      "model_module": "@jupyter-widgets/controls",
      "model_module_version": "1.4.0",
      "model_name": "DropdownModel",
      "state": {
       "_options_labels": [
        "binary",
        "Blues",
        "brg",
        "BuGn",
        "cool",
        "cubehelix",
        "gist_earth",
        "gist_ncar",
        "gist_rainbow",
        "gnuplot",
        "gnuplot2",
        "hsv",
        "jet",
        "magma",
        "nipy_spectral",
        "ocean",
        "plasma",
        "rainbow",
        "Spectral",
        "terrain",
        "winter"
       ],
       "description": "Selecione o esquema de cores desejado:",
       "index": 12,
       "layout": "IPY_MODEL_9410829ad474468090d46c2388fee38e",
       "style": "IPY_MODEL_507209396061468dbd60b94d8aac6db2"
      }
     },
     "587b4e4265de41f8ae0018501e6423cb": {
      "model_module": "@jupyter-widgets/base",
      "model_module_version": "1.1.0",
      "model_name": "LayoutModel",
      "state": {}
     },
     "58908f04c4a34cea90b9721203acf4d5": {
      "model_module": "@jupyter-widgets/controls",
      "model_module_version": "1.4.0",
      "model_name": "ToggleButtonsModel",
      "state": {
       "_options_labels": [
        "Método SPM",
        "Método de Saville"
       ],
       "button_style": "",
       "icons": [],
       "index": 1,
       "layout": "IPY_MODEL_b007593c067947a3a8dd82ebbb24c936",
       "style": "IPY_MODEL_f0844d92e887486890d0bdd51ad593c2",
       "tooltips": []
      }
     },
     "58935f6f77624d95b1bb7bc19c4a8523": {
      "model_module": "@jupyter-widgets/controls",
      "model_module_version": "1.4.0",
      "model_name": "AccordionModel",
      "state": {
       "_titles": {
        "0": "Métodos para obtenção dos fetchs"
       },
       "children": [
        "IPY_MODEL_cfb9ec70458946c394f8df93b72fffe6"
       ],
       "layout": "IPY_MODEL_eb682c0146ce4367aeb407a6fbe65108"
      }
     },
     "58a99e1eb3854b918730694528b8a4b4": {
      "model_module": "@jupyter-widgets/base",
      "model_module_version": "1.1.0",
      "model_name": "LayoutModel",
      "state": {}
     },
     "58c5e95a7eac4747b0e7ff2050de24d6": {
      "model_module": "@jupyter-widgets/base",
      "model_module_version": "1.1.0",
      "model_name": "LayoutModel",
      "state": {}
     },
     "58cfdf67a19d4138991fc8ae3c4a7b41": {
      "model_module": "@jupyter-widgets/controls",
      "model_module_version": "1.4.0",
      "model_name": "ButtonStyleModel",
      "state": {}
     },
     "58d06ee4712441bbba501ee6682f0598": {
      "model_module": "@jupyter-widgets/controls",
      "model_module_version": "1.4.0",
      "model_name": "TabModel",
      "state": {
       "_titles": {
        "0": "Pistas de vento",
        "1": "DPI",
        "2": "Esquema de cores"
       },
       "children": [
        "IPY_MODEL_82316835a0414080935f601a4a1efdf5",
        "IPY_MODEL_6a4f67e1120e48119c5e318d31fb8c5c",
        "IPY_MODEL_a9d29f2bcfca42f6a4ecb97ce1bc5aed"
       ],
       "layout": "IPY_MODEL_2ed9d6b138374eb3afd042411911dbfd"
      }
     },
     "58f508a5da064cd880d211b6a968c310": {
      "model_module": "@jupyter-widgets/controls",
      "model_module_version": "1.4.0",
      "model_name": "DropdownModel",
      "state": {
       "_options_labels": [
        "binary",
        "Blues",
        "brg",
        "BuGn",
        "cool",
        "cubehelix",
        "gist_earth",
        "gist_ncar",
        "gist_rainbow",
        "gnuplot",
        "gnuplot2",
        "hsv",
        "jet",
        "magma",
        "nipy_spectral",
        "ocean",
        "plasma",
        "rainbow",
        "Spectral",
        "terrain",
        "winter"
       ],
       "description": "Selecione o esquema de cores desejado:",
       "index": 0,
       "layout": "IPY_MODEL_7c3bd60c4b644ccca40fabe5ccdaa831",
       "style": "IPY_MODEL_908068af7dbc44b6a3710d49c4813907"
      }
     },
     "58fae4489bc841b7b8f7f83947bcfdf0": {
      "model_module": "@jupyter-widgets/controls",
      "model_module_version": "1.4.0",
      "model_name": "AccordionModel",
      "state": {
       "_titles": {
        "0": "Importar .shp",
        "1": "Importar .shp de malha processada"
       },
       "children": [
        "IPY_MODEL_1a2f0e434ce1498eba08a1b0ed5a4ed6",
        "IPY_MODEL_12d84b6ded96463ca4298fbb878565d6"
       ],
       "layout": "IPY_MODEL_a214204679b249c9b4081d89d079a1a9",
       "selected_index": 1
      }
     },
     "5909ede514094af9aba71c1c62d54508": {
      "model_module": "@jupyter-widgets/controls",
      "model_module_version": "1.4.0",
      "model_name": "ButtonStyleModel",
      "state": {}
     },
     "592c57e8f3264b1e90c91f9394a9ebbd": {
      "model_module": "@jupyter-widgets/controls",
      "model_module_version": "1.4.0",
      "model_name": "FloatTextModel",
      "state": {
       "description": "Outra direção (°):",
       "layout": "IPY_MODEL_b4004afb6dc04c55b579edc324c4ca20",
       "step": null,
       "style": "IPY_MODEL_9d095f5139ed48abbd76d16092316939"
      }
     },
     "5939d06e35c7495593b208b1aaab08f5": {
      "model_module": "@jupyter-widgets/controls",
      "model_module_version": "1.4.0",
      "model_name": "DescriptionStyleModel",
      "state": {
       "description_width": "initial"
      }
     },
     "5949216693a841588218d5fd736918cb": {
      "model_module": "@jupyter-widgets/controls",
      "model_module_version": "1.4.0",
      "model_name": "ButtonModel",
      "state": {
       "description": "Criar projeto",
       "layout": "IPY_MODEL_c53d95604c164db4be0e3f57f2dfc8f6",
       "style": "IPY_MODEL_ac9c905a3b344ec19f907cd109450bcf",
       "tooltip": "Cria um novo projeto"
      }
     },
     "59664fe7d5d64540b921adefb51589ef": {
      "model_module": "@jupyter-widgets/controls",
      "model_module_version": "1.4.0",
      "model_name": "ProgressStyleModel",
      "state": {
       "description_width": ""
      }
     },
     "59735d59a27e4e8ab49d283a83bcf790": {
      "model_module": "@jupyter-widgets/controls",
      "model_module_version": "1.4.0",
      "model_name": "TabModel",
      "state": {
       "_titles": {
        "0": "Pistas de Vento",
        "1": "Esquema de Cores"
       },
       "children": [
        "IPY_MODEL_b28a9f2dd34b40f096df8bb642fa0c9b",
        "IPY_MODEL_1fdebb6f6f8a4e2c86c83f2f447687ef"
       ],
       "layout": "IPY_MODEL_ac626e7919a94df08919803e0f73fc38",
       "selected_index": 1
      }
     },
     "59a69ce3b67c4a6aafcf14a749d2f800": {
      "model_module": "@jupyter-widgets/controls",
      "model_module_version": "1.4.0",
      "model_name": "ProgressStyleModel",
      "state": {
       "description_width": ""
      }
     },
     "59ad9127a89b41e290e7510a9b7c8f63": {
      "model_module": "@jupyter-widgets/controls",
      "model_module_version": "1.4.0",
      "model_name": "AccordionModel",
      "state": {
       "_titles": {
        "0": "Importar .shp",
        "1": "Importar .shp de malha processada"
       },
       "children": [
        "IPY_MODEL_54bf4f54b03548d38db2b3d2e7361fe1",
        "IPY_MODEL_4be1598a547e4ee8bbbc7039625f99c4"
       ],
       "layout": "IPY_MODEL_2f713c55b830489e81dcf7d86443a103",
       "selected_index": 1
      }
     },
     "59aecc859abe457eb45e57e24325c243": {
      "model_module": "@jupyter-widgets/base",
      "model_module_version": "1.1.0",
      "model_name": "LayoutModel",
      "state": {}
     },
     "59dd5508aa3b4f2e998df496b7c87f7f": {
      "model_module": "@jupyter-widgets/controls",
      "model_module_version": "1.4.0",
      "model_name": "ToggleButtonsStyleModel",
      "state": {
       "button_width": "",
       "description_width": ""
      }
     },
     "5a73a73398a94a558281d1078d217b9f": {
      "model_module": "@jupyter-widgets/controls",
      "model_module_version": "1.4.0",
      "model_name": "AccordionModel",
      "state": {
       "_titles": {
        "0": "Nome desejado para o .shp:",
        "1": "Georreferenciamento:",
        "2": "Malha: (m)"
       },
       "children": [
        "IPY_MODEL_f67e6e21c9c64f3da0528159582d5861",
        "IPY_MODEL_b20965cca82b4b08929a10f2b2a7db53",
        "IPY_MODEL_8ce6d39e82a94f1e9407b9c4a4b7e4fe"
       ],
       "layout": "IPY_MODEL_4350899203bd4d43b0d137dde9340288",
       "selected_index": 2
      }
     },
     "5a7db09f401842a6871e2ab686f26f45": {
      "model_module": "@jupyter-widgets/controls",
      "model_module_version": "1.4.0",
      "model_name": "DescriptionStyleModel",
      "state": {
       "description_width": "initial"
      }
     },
     "5a906a544aea41bba28698aca525413d": {
      "model_module": "@jupyter-widgets/controls",
      "model_module_version": "1.4.0",
      "model_name": "ToggleButtonsStyleModel",
      "state": {
       "button_width": "",
       "description_width": ""
      }
     },
     "5acdbc3ab58848d087b44bb487e18243": {
      "model_module": "@jupyter-widgets/base",
      "model_module_version": "1.1.0",
      "model_name": "LayoutModel",
      "state": {}
     },
     "5af948e894804b0cba3150b63f557027": {
      "model_module": "@jupyter-widgets/controls",
      "model_module_version": "1.4.0",
      "model_name": "ButtonModel",
      "state": {
       "description": "Criar projeto",
       "layout": "IPY_MODEL_3a7b2ffba83347c88487a9d37919f707",
       "style": "IPY_MODEL_6fe717de54764750ba608b5accd9ec37",
       "tooltip": "Cria um novo projeto"
      }
     },
     "5b133d8b80614bc392651a9b0c9df90d": {
      "model_module": "@jupyter-widgets/base",
      "model_module_version": "1.1.0",
      "model_name": "LayoutModel",
      "state": {}
     },
     "5b29f254a04245fe8aa4366f8d3ac69c": {
      "model_module": "@jupyter-widgets/controls",
      "model_module_version": "1.4.0",
      "model_name": "ButtonStyleModel",
      "state": {}
     },
     "5b3ab83a1a914e44b8e2ff4a5d1dfdaa": {
      "model_module": "@jupyter-widgets/controls",
      "model_module_version": "1.4.0",
      "model_name": "AccordionModel",
      "state": {
       "_titles": {
        "0": "Pistas de Vento"
       },
       "children": [
        "IPY_MODEL_06fdaa61661a490c8bfb342e2183396e"
       ],
       "layout": "IPY_MODEL_deb83fdb4ab64794aa60f114b48b67a3"
      }
     },
     "5b870077adde466fa82ae77bb332b193": {
      "model_module": "@jupyter-widgets/base",
      "model_module_version": "1.1.0",
      "model_name": "LayoutModel",
      "state": {
       "width": "400px"
      }
     },
     "5c21820fcaf84b208649dfb8e3203cc7": {
      "model_module": "@jupyter-widgets/base",
      "model_module_version": "1.1.0",
      "model_name": "LayoutModel",
      "state": {}
     },
     "5c3773ae62744e4aa261d0d142e7b892": {
      "model_module": "@jupyter-widgets/controls",
      "model_module_version": "1.4.0",
      "model_name": "TabModel",
      "state": {
       "_titles": {
        "0": "Pistas de vento",
        "1": "DPI",
        "2": "Esquema de cores"
       },
       "children": [
        "IPY_MODEL_bbf114474f5647f389b319d08aef7e1a",
        "IPY_MODEL_58337ab636d0406895911c5e82b61814",
        "IPY_MODEL_5868963a2536450f8125b43656ca89cb"
       ],
       "layout": "IPY_MODEL_383318bcbd6c46ed92fe57f0faba9aca",
       "selected_index": 2
      }
     },
     "5c6943bffe9548319dc45211c0dcf766": {
      "model_module": "@jupyter-widgets/controls",
      "model_module_version": "1.4.0",
      "model_name": "DescriptionStyleModel",
      "state": {
       "description_width": "initial"
      }
     },
     "5ccf13303eee4532ba7a91faa6c3b795": {
      "model_module": "@jupyter-widgets/base",
      "model_module_version": "1.1.0",
      "model_name": "LayoutModel",
      "state": {}
     },
     "5ce089bc42274d4a97163cb456a3eed3": {
      "model_module": "@jupyter-widgets/controls",
      "model_module_version": "1.4.0",
      "model_name": "AccordionModel",
      "state": {
       "_titles": {
        "0": "Modelo para obtenção dos fetchs:",
        "1": "Direções desejadas:"
       },
       "children": [
        "IPY_MODEL_2ad96a5321ca4898b0fc9e4fef4b46a1",
        "IPY_MODEL_0f70f67583134af0a4ebf420d373696a"
       ],
       "layout": "IPY_MODEL_867b328aecfe488da10829ae2d90a842",
       "selected_index": 1
      }
     },
     "5cff4f87f05f490d9fc17d2fffe8c06e": {
      "model_module": "@jupyter-widgets/base",
      "model_module_version": "1.1.0",
      "model_name": "LayoutModel",
      "state": {}
     },
     "5d1e5d369a7b44f99bd09e0450c0eaa8": {
      "model_module": "@jupyter-widgets/base",
      "model_module_version": "1.1.0",
      "model_name": "LayoutModel",
      "state": {}
     },
     "5d557763de284734b130ac42e70700d3": {
      "model_module": "@jupyter-widgets/base",
      "model_module_version": "1.1.0",
      "model_name": "LayoutModel",
      "state": {}
     },
     "5d5f50637dba4c19998ddcb12f860f0a": {
      "model_module": "@jupyter-widgets/controls",
      "model_module_version": "1.4.0",
      "model_name": "AccordionModel",
      "state": {
       "_titles": {
        "0": "Nome desejado para o .shp:",
        "1": "Georreferenciamento:",
        "2": "Malha: (m)"
       },
       "children": [
        "IPY_MODEL_bda959045abf456b908b57314321cbed",
        "IPY_MODEL_c469ae7071194e14b6aefa0b97910eaa",
        "IPY_MODEL_bfcc738e4e774aa39feb87806fa231ba"
       ],
       "layout": "IPY_MODEL_0833085da6004fd1abcbf10023ad1127",
       "selected_index": 2
      }
     },
     "5d798a0c4acf47e5ac4e7a7d37832e44": {
      "model_module": "@jupyter-widgets/base",
      "model_module_version": "1.1.0",
      "model_name": "LayoutModel",
      "state": {
       "width": "30%"
      }
     },
     "5d8624f33a2b43a6bc8906cf72a6cea8": {
      "model_module": "@jupyter-widgets/controls",
      "model_module_version": "1.4.0",
      "model_name": "ButtonModel",
      "state": {
       "description": "Importar .shp",
       "layout": "IPY_MODEL_c564d8a688f34cefab805fd7d3b092fc",
       "style": "IPY_MODEL_79e53149b1a64f509900f4ab590f245e",
       "tooltip": "Importa um .shp para processamento"
      }
     },
     "5da2bd837a22474481120895bfad1115": {
      "model_module": "@jupyter-widgets/base",
      "model_module_version": "1.1.0",
      "model_name": "LayoutModel",
      "state": {}
     },
     "5db98e1d8919422593aede19d456d53e": {
      "model_module": "@jupyter-widgets/controls",
      "model_module_version": "1.4.0",
      "model_name": "ProgressStyleModel",
      "state": {
       "description_width": ""
      }
     },
     "5dbafa0b7c6647f280e25e9a6dda7130": {
      "model_module": "@jupyter-widgets/controls",
      "model_module_version": "1.4.0",
      "model_name": "FloatProgressModel",
      "state": {
       "description": "270.0°:",
       "layout": "IPY_MODEL_525fb28e1a614d1ab057ea9da40ae994",
       "max": 1,
       "style": "IPY_MODEL_1bbbbc13ac234331af3198bcea7191a0",
       "value": 1
      }
     },
     "5de9dbf2139f4fd384fa892e6838de21": {
      "model_module": "@jupyter-widgets/base",
      "model_module_version": "1.1.0",
      "model_name": "LayoutModel",
      "state": {}
     },
     "5dfcdccecb05433d978aae0d45d39897": {
      "model_module": "@jupyter-widgets/controls",
      "model_module_version": "1.4.0",
      "model_name": "ButtonStyleModel",
      "state": {}
     },
     "5dff28b62cef46c5a03b9ba1abcef3c8": {
      "model_module": "@jupyter-widgets/controls",
      "model_module_version": "1.4.0",
      "model_name": "DescriptionStyleModel",
      "state": {
       "description_width": ""
      }
     },
     "5e1df844c7464cd492d25e2aeaeb9982": {
      "model_module": "@jupyter-widgets/controls",
      "model_module_version": "1.4.0",
      "model_name": "SelectMultipleModel",
      "state": {
       "_options_labels": [
        "N (0.0°)",
        "NNE (22.5°)",
        "NE (45.0°)",
        "ENE (67.5°)",
        "E (90.0°)",
        "ESE (112.5°)",
        "SE (135.0°)",
        "SSE (157.5°)",
        "S (180.0°)",
        "SSW (202.5°)",
        "SW (225.0°)",
        "WSW (247.5°)",
        "W (270.0°)",
        "WNW (292.5°)",
        "NW (315.0°)",
        "NNW (337.5°)"
       ],
       "description": "Selecione a direção (°) desejada:",
       "index": [],
       "layout": "IPY_MODEL_519d9d86a83b4448bf5e2bf6bb66307a",
       "rows": 5,
       "style": "IPY_MODEL_b9fe700304ff4a52ace80845b87ad8db"
      }
     },
     "5e98bc1f83f04879add70f89b69a6aa5": {
      "model_module": "@jupyter-widgets/controls",
      "model_module_version": "1.4.0",
      "model_name": "FloatProgressModel",
      "state": {
       "description": "67.5°:",
       "layout": "IPY_MODEL_0387e17ad9dd4ecaac90b7597bc8c8fa",
       "max": 1,
       "style": "IPY_MODEL_17ab3828aedd429ebe9a650542772aaa",
       "value": 1
      }
     },
     "5ecd134bbb0e4a59a40e63cea531ac22": {
      "model_module": "@jupyter-widgets/controls",
      "model_module_version": "1.4.0",
      "model_name": "ButtonModel",
      "state": {
       "description": "Importar projeto",
       "layout": "IPY_MODEL_71f610b1ebcc4b8e9e320f46f427b0dd",
       "style": "IPY_MODEL_58cfdf67a19d4138991fc8ae3c4a7b41",
       "tooltip": "Importa o .csv de um projeto já criado"
      }
     },
     "5ee838e0a5b64b8c8b15c6bc364c187a": {
      "model_module": "@jupyter-widgets/controls",
      "model_module_version": "1.4.0",
      "model_name": "ButtonModel",
      "state": {
       "description": "Importar pista(s) de vento processada(s)",
       "layout": "IPY_MODEL_340ae2ca63b44ef2b0c48da7486e0b2c",
       "style": "IPY_MODEL_8944d7347f88477da5521c899e10e64f",
       "tooltip": "Importa pista(s) de vento processada(s)"
      }
     },
     "5ef6cb672a8c49a5b1c5ff35ae635fe5": {
      "model_module": "@jupyter-widgets/base",
      "model_module_version": "1.1.0",
      "model_name": "LayoutModel",
      "state": {}
     },
     "5efcb97c44544c009a1254daddd355ce": {
      "model_module": "@jupyter-widgets/controls",
      "model_module_version": "1.4.0",
      "model_name": "DescriptionStyleModel",
      "state": {
       "description_width": ""
      }
     },
     "5f1f96daf4c247a5bf495925d4c97985": {
      "model_module": "@jupyter-widgets/controls",
      "model_module_version": "1.4.0",
      "model_name": "ButtonModel",
      "state": {
       "description": "Importar pista(s) de vento processada(s)",
       "layout": "IPY_MODEL_76cda9b7c4134190b5139d4462f3be14",
       "style": "IPY_MODEL_a5ede3ce853348a5b87d53c26f4350f4",
       "tooltip": "Importa pista(s) de vento processada(s)"
      }
     },
     "5f689d4b11f14f62af64a8f9ae9fa904": {
      "model_module": "@jupyter-widgets/controls",
      "model_module_version": "1.4.0",
      "model_name": "AccordionModel",
      "state": {
       "_titles": {
        "0": "Direções convencionais",
        "1": "Direção específica"
       },
       "children": [
        "IPY_MODEL_f79264919c054eddb564ea706730596b",
        "IPY_MODEL_f3bcee0baf234e1b813d89afc26aaff0"
       ],
       "layout": "IPY_MODEL_838d1ad675c247169bc470c37ca54344"
      }
     },
     "5f82510e0c1841cb98cb336f62b13a04": {
      "model_module": "@jupyter-widgets/base",
      "model_module_version": "1.1.0",
      "model_name": "LayoutModel",
      "state": {}
     },
     "5fc87d97bc654ba0a887695dfd028835": {
      "model_module": "@jupyter-widgets/controls",
      "model_module_version": "1.4.0",
      "model_name": "ButtonModel",
      "state": {
       "description": "Carregar .shp",
       "layout": "IPY_MODEL_347502aba111475fbca3a6d54a12e170",
       "style": "IPY_MODEL_2209ebff5fb74200b0e05d75d190ab73",
       "tooltip": "Carrega um .shp para processamento"
      }
     },
     "5fd79a05c9614a6095eb801ef1b65ff8": {
      "model_module": "@jupyter-widgets/controls",
      "model_module_version": "1.4.0",
      "model_name": "ProgressStyleModel",
      "state": {
       "description_width": ""
      }
     },
     "5ff55007db2e4d03a34783bdc4364e7c": {
      "model_module": "@jupyter-widgets/controls",
      "model_module_version": "1.4.0",
      "model_name": "ButtonModel",
      "state": {
       "description": "Importar projeto",
       "layout": "IPY_MODEL_c5e04699562b479eb0483aecde8d12d6",
       "style": "IPY_MODEL_e038ab6196c9489bb89aa4755ef5c27d",
       "tooltip": "Importa o .csv de um projeto criado"
      }
     },
     "601a0c623b614f64aec5e4ab512cbdd5": {
      "model_module": "@jupyter-widgets/base",
      "model_module_version": "1.1.0",
      "model_name": "LayoutModel",
      "state": {
       "width": "30%"
      }
     },
     "6054aaa4d10146e98caed47071d6ab43": {
      "model_module": "@jupyter-widgets/base",
      "model_module_version": "1.1.0",
      "model_name": "LayoutModel",
      "state": {
       "width": "30%"
      }
     },
     "607ab3edb853497a80a18d99c6a9cfdb": {
      "model_module": "@jupyter-widgets/controls",
      "model_module_version": "1.4.0",
      "model_name": "DescriptionStyleModel",
      "state": {
       "description_width": ""
      }
     },
     "607c90833ae84de9a626d351b964261f": {
      "model_module": "@jupyter-widgets/base",
      "model_module_version": "1.1.0",
      "model_name": "LayoutModel",
      "state": {}
     },
     "6085925a52df407384b7131f4af948de": {
      "model_module": "@jupyter-widgets/controls",
      "model_module_version": "1.4.0",
      "model_name": "AccordionModel",
      "state": {
       "_titles": {
        "0": "Direções convencionais",
        "1": "Direção específica"
       },
       "children": [
        "IPY_MODEL_570b6541a9ed4f12a9244c358065e156",
        "IPY_MODEL_e6b33f2a95504b19966bb2d7d464dad8"
       ],
       "layout": "IPY_MODEL_9ec7e74d2cff416590af8067aa9d0d42"
      }
     },
     "60b1ba00448546f6a372520139e6efc9": {
      "model_module": "@jupyter-widgets/controls",
      "model_module_version": "1.4.0",
      "model_name": "DescriptionStyleModel",
      "state": {
       "description_width": ""
      }
     },
     "60b988f61eb24444b6e5019337a79b06": {
      "model_module": "@jupyter-widgets/base",
      "model_module_version": "1.1.0",
      "model_name": "LayoutModel",
      "state": {}
     },
     "60c661a384fd424e9f9cbb1beb91fc66": {
      "model_module": "@jupyter-widgets/controls",
      "model_module_version": "1.4.0",
      "model_name": "AccordionModel",
      "state": {
       "_titles": {
        "0": "Escolha da(s) pista(s) de vento"
       },
       "children": [
        "IPY_MODEL_54f13e30f0254628bd5113f6744861f6"
       ],
       "layout": "IPY_MODEL_877a6d6870d54ec8b624ec4e73398ffd"
      }
     },
     "60dcba75d6bb4ce08542e980a76a4c32": {
      "model_module": "@jupyter-widgets/controls",
      "model_module_version": "1.4.0",
      "model_name": "ButtonModel",
      "state": {
       "description": "Carregar .shp de malha processada",
       "layout": "IPY_MODEL_00c71d443d6643d68c268c91331ed2bc",
       "style": "IPY_MODEL_b28106f3bca34f169f0086e90dfa09ca",
       "tooltip": "Carrega um .shp que já teve sua malha processada"
      }
     },
     "612adc1baea4449abbdd717fa8995363": {
      "model_module": "@jupyter-widgets/base",
      "model_module_version": "1.1.0",
      "model_name": "LayoutModel",
      "state": {}
     },
     "6131485159ec4fa4bba8e677b11286b5": {
      "model_module": "@jupyter-widgets/controls",
      "model_module_version": "1.4.0",
      "model_name": "AccordionModel",
      "state": {
       "_titles": {
        "0": "Criar projeto",
        "1": "Carregar projeto"
       },
       "children": [
        "IPY_MODEL_8d45726fe39248dbaefb0a8e3ebbd478",
        "IPY_MODEL_b9b954d0686e4c9883097e1181bcddf3"
       ],
       "layout": "IPY_MODEL_376dd18a68164d08a839912f548d57e5",
       "selected_index": 1
      }
     },
     "6149515510f34b9e9429c014ab35136f": {
      "model_module": "@jupyter-widgets/controls",
      "model_module_version": "1.4.0",
      "model_name": "ButtonModel",
      "state": {
       "description": "Carregar projeto",
       "layout": "IPY_MODEL_14eb1269b99c4e418d1c9951d598f4f3",
       "style": "IPY_MODEL_56711182ad25404ea2cd22ef1bbc9813",
       "tooltip": "Carrega o .csv de um projeto já criado"
      }
     },
     "614f90d08b464145a9c36521c40606b1": {
      "model_module": "@jupyter-widgets/base",
      "model_module_version": "1.1.0",
      "model_name": "LayoutModel",
      "state": {}
     },
     "616b51eacecd41b8ab486882f41c0fb7": {
      "model_module": "@jupyter-widgets/controls",
      "model_module_version": "1.4.0",
      "model_name": "SelectModel",
      "state": {
       "_options_labels": [
        "0.0°"
       ],
       "description": "Direção (°):",
       "index": 0,
       "layout": "IPY_MODEL_97b0c20f543349f1a7561c6a7461014d",
       "style": "IPY_MODEL_398bf6ee532249449e3c8ea9ff66f4ee"
      }
     },
     "617479056e9c4a5e993a4172e0bfcb85": {
      "model_module": "@jupyter-widgets/base",
      "model_module_version": "1.1.0",
      "model_name": "LayoutModel",
      "state": {}
     },
     "61eac5e17d7b471ab70c262c72892e11": {
      "model_module": "@jupyter-widgets/base",
      "model_module_version": "1.1.0",
      "model_name": "LayoutModel",
      "state": {}
     },
     "622657dbc90648fc8fcd40f4269bd8e8": {
      "model_module": "@jupyter-widgets/controls",
      "model_module_version": "1.4.0",
      "model_name": "AccordionModel",
      "state": {
       "_titles": {
        "0": "Importar .shp",
        "1": "Importar .shp de malha processada"
       },
       "children": [
        "IPY_MODEL_d2059cd5684748c4b10c5d1767495be0",
        "IPY_MODEL_b6cd398fa27e43ebb956a12a3c6aa030"
       ],
       "layout": "IPY_MODEL_587b4e4265de41f8ae0018501e6423cb",
       "selected_index": 1
      }
     },
     "62cbd249aeeb4dd2841e6f146c7ed5f1": {
      "model_module": "@jupyter-widgets/base",
      "model_module_version": "1.1.0",
      "model_name": "LayoutModel",
      "state": {}
     },
     "631f12866be044d1a0bba26058a0d47a": {
      "model_module": "@jupyter-widgets/controls",
      "model_module_version": "1.4.0",
      "model_name": "TabModel",
      "state": {
       "_titles": {
        "0": "Malha"
       },
       "children": [
        "IPY_MODEL_9298c19ae3844857901e40ac7df7381b"
       ],
       "layout": "IPY_MODEL_8d439994feba4091a072806ee56ca0e2"
      }
     },
     "63625f6673034bef914d41cffcc932e1": {
      "model_module": "@jupyter-widgets/controls",
      "model_module_version": "1.4.0",
      "model_name": "ButtonModel",
      "state": {
       "description": "Importar .shp de malha processada",
       "layout": "IPY_MODEL_71ff47c3a255461ab0f6ea1cec37d04a",
       "style": "IPY_MODEL_fe494fc64b664f0f88e34402734b4004",
       "tooltip": "Importa um .shp que teve sua malha processada"
      }
     },
     "637dda8569264c1299d530c92cc046cf": {
      "model_module": "@jupyter-widgets/controls",
      "model_module_version": "1.4.0",
      "model_name": "DropdownModel",
      "state": {
       "_options_labels": [
        "300",
        "600",
        "1200"
       ],
       "description": "Selecione a DPI desejada:",
       "index": 2,
       "layout": "IPY_MODEL_31fb9f7d8fe141788f3249db70347b6c",
       "style": "IPY_MODEL_3496a2c2abd84c398bffc204a9b3ede8"
      }
     },
     "63a2d00b56c844c6a5ba5034f5b496c1": {
      "model_module": "@jupyter-widgets/controls",
      "model_module_version": "1.4.0",
      "model_name": "DescriptionStyleModel",
      "state": {
       "description_width": "initial"
      }
     },
     "63a8f87c0e7b411a908ff8897318f4ee": {
      "model_module": "@jupyter-widgets/base",
      "model_module_version": "1.1.0",
      "model_name": "LayoutModel",
      "state": {}
     },
     "63ecc52c78ad44199ce33e62daca0004": {
      "model_module": "@jupyter-widgets/base",
      "model_module_version": "1.1.0",
      "model_name": "LayoutModel",
      "state": {}
     },
     "6458bfe66b5f430b91d1cc9beb8b428b": {
      "model_module": "@jupyter-widgets/base",
      "model_module_version": "1.1.0",
      "model_name": "LayoutModel",
      "state": {}
     },
     "646a1fb273c441ea831132f3eac08cfb": {
      "model_module": "@jupyter-widgets/controls",
      "model_module_version": "1.4.0",
      "model_name": "ToggleButtonsModel",
      "state": {
       "_options_labels": [
        "Método SPM",
        "Método de Saville"
       ],
       "button_style": "",
       "icons": [],
       "index": 1,
       "layout": "IPY_MODEL_05e079e086044ff0b53a4a1edd208b29",
       "style": "IPY_MODEL_dcd9611c5c034e019fb838f34b80d59b",
       "tooltips": []
      }
     },
     "64ebb68b30c54ed3a8e1fe43b295db9b": {
      "model_module": "@jupyter-widgets/controls",
      "model_module_version": "1.4.0",
      "model_name": "SelectModel",
      "state": {
       "_options_labels": [
        "0.0°"
       ],
       "description": "Direção (°):",
       "index": 0,
       "layout": "IPY_MODEL_5b133d8b80614bc392651a9b0c9df90d",
       "style": "IPY_MODEL_f61c45af556f4c3e805223500bd5e127"
      }
     },
     "652f18c995ff4f94892a5425c0f07b83": {
      "model_module": "@jupyter-widgets/controls",
      "model_module_version": "1.4.0",
      "model_name": "ButtonStyleModel",
      "state": {}
     },
     "6534fddd4f9e402db1e3dc5e8a23edd7": {
      "model_module": "@jupyter-widgets/controls",
      "model_module_version": "1.4.0",
      "model_name": "ButtonStyleModel",
      "state": {}
     },
     "6538432f562f46ecab49ec3a88be438d": {
      "model_module": "@jupyter-widgets/controls",
      "model_module_version": "1.4.0",
      "model_name": "ProgressStyleModel",
      "state": {
       "description_width": ""
      }
     },
     "65643c34e5834740991fe2706c476402": {
      "model_module": "@jupyter-widgets/controls",
      "model_module_version": "1.4.0",
      "model_name": "TextModel",
      "state": {
       "description": "Outra direção (°):",
       "layout": "IPY_MODEL_f876ea1bfd7b4fb3864c39ab3a3d37ba",
       "style": "IPY_MODEL_b6da72bc2a71483ba40895c0b88f1db5"
      }
     },
     "656f672333b446838d669a55bda41f60": {
      "model_module": "@jupyter-widgets/controls",
      "model_module_version": "1.4.0",
      "model_name": "ButtonStyleModel",
      "state": {}
     },
     "65c4adcf52be4ee8ac2c990c5cef3f65": {
      "model_module": "@jupyter-widgets/base",
      "model_module_version": "1.1.0",
      "model_name": "LayoutModel",
      "state": {}
     },
     "65f11a3323a049358eb2e5ea0ba963a7": {
      "model_module": "@jupyter-widgets/controls",
      "model_module_version": "1.4.0",
      "model_name": "ToggleButtonsStyleModel",
      "state": {
       "button_width": ""
      }
     },
     "65f76c7df8174c11ae40a02893c49696": {
      "model_module": "@jupyter-widgets/controls",
      "model_module_version": "1.4.0",
      "model_name": "ButtonModel",
      "state": {
       "description": "Criar projeto",
       "layout": "IPY_MODEL_93e698abb2d245d3b3dd7948ba1364e6",
       "style": "IPY_MODEL_5b29f254a04245fe8aa4366f8d3ac69c",
       "tooltip": "Cria um novo projeto"
      }
     },
     "65fd5650666b4cf7a3b5843d810989d2": {
      "model_module": "@jupyter-widgets/controls",
      "model_module_version": "1.4.0",
      "model_name": "DescriptionStyleModel",
      "state": {
       "description_width": "initial"
      }
     },
     "66217a932c6b4a29957ca3cc8918bb95": {
      "model_module": "@jupyter-widgets/base",
      "model_module_version": "1.1.0",
      "model_name": "LayoutModel",
      "state": {}
     },
     "663962f7aa0548548291bffa82d62de7": {
      "model_module": "@jupyter-widgets/base",
      "model_module_version": "1.1.0",
      "model_name": "LayoutModel",
      "state": {}
     },
     "666330072b504d5ca5ee4f465d25dfd5": {
      "model_module": "@jupyter-widgets/controls",
      "model_module_version": "1.4.0",
      "model_name": "AccordionModel",
      "state": {
       "_titles": {
        "0": "Malha: (m)"
       },
       "children": [
        "IPY_MODEL_6ac8be533a6b4f21a43d4a5e56eb28d9"
       ],
       "layout": "IPY_MODEL_ce3eac4ed16540caa7ac934a7c32133e"
      }
     },
     "668002556fe34204ab48d401835c4727": {
      "model_module": "@jupyter-widgets/controls",
      "model_module_version": "1.4.0",
      "model_name": "DescriptionStyleModel",
      "state": {
       "description_width": ""
      }
     },
     "668857f2737e4efd9feceb74cb39743f": {
      "model_module": "@jupyter-widgets/base",
      "model_module_version": "1.1.0",
      "model_name": "LayoutModel",
      "state": {}
     },
     "66987783a55e4cb190ed51ffffa3628e": {
      "model_module": "@jupyter-widgets/base",
      "model_module_version": "1.1.0",
      "model_name": "LayoutModel",
      "state": {}
     },
     "66b93d9c54ce4099bd8c96aa6dfc6813": {
      "model_module": "@jupyter-widgets/controls",
      "model_module_version": "1.4.0",
      "model_name": "FloatTextModel",
      "state": {
       "layout": "IPY_MODEL_a4360a5911b04421a1a9b2b0e887d4ce",
       "step": null,
       "style": "IPY_MODEL_c55e2301c88c43429766e629ea95c1c8"
      }
     },
     "66c8c47277e64dc5be58e41b144003ee": {
      "model_module": "@jupyter-widgets/controls",
      "model_module_version": "1.4.0",
      "model_name": "AccordionModel",
      "state": {
       "_titles": {
        "0": "Malha (m)"
       },
       "children": [
        "IPY_MODEL_28dfc3548681463f8f48b305c31ddb11"
       ],
       "layout": "IPY_MODEL_d9c917cc29e44789a374666520f1891a"
      }
     },
     "66d20803f17a459491b68cffe5f58a7e": {
      "model_module": "@jupyter-widgets/controls",
      "model_module_version": "1.4.0",
      "model_name": "AccordionModel",
      "state": {
       "_titles": {
        "0": "Pistas de Vento"
       },
       "children": [
        "IPY_MODEL_b864b002e96b4d8498953acf8fdac477"
       ],
       "layout": "IPY_MODEL_50f5be0390014b66907cb3b73e99ba61"
      }
     },
     "66e856251f2146abacfc0c31fe263761": {
      "model_module": "@jupyter-widgets/controls",
      "model_module_version": "1.4.0",
      "model_name": "ButtonStyleModel",
      "state": {}
     },
     "66eda3c986f743bf89fb85d4a796b5a4": {
      "model_module": "@jupyter-widgets/controls",
      "model_module_version": "1.4.0",
      "model_name": "AccordionModel",
      "state": {
       "_titles": {
        "0": "Importar .shp",
        "1": "Importar .shp de malha processada"
       },
       "children": [
        "IPY_MODEL_03afd1fe1d564028a962c91d3e210efb",
        "IPY_MODEL_ae48025151e8412788c43ea3cb76d3eb"
       ],
       "layout": "IPY_MODEL_2520b261a1d845b2818d2726ccef7146"
      }
     },
     "66f6e06da0c3459e8869f2c781a47513": {
      "model_module": "@jupyter-widgets/controls",
      "model_module_version": "1.4.0",
      "model_name": "ProgressStyleModel",
      "state": {
       "description_width": ""
      }
     },
     "6727bd36ed9e482b83fbb6488d2d1374": {
      "model_module": "@jupyter-widgets/base",
      "model_module_version": "1.1.0",
      "model_name": "LayoutModel",
      "state": {}
     },
     "6748f29b2dad4d6c875f073c2ea6b61e": {
      "model_module": "@jupyter-widgets/controls",
      "model_module_version": "1.4.0",
      "model_name": "ToggleButtonsModel",
      "state": {
       "_options_labels": [
        "Uma direção",
        "Todas as direções",
        "Outra direção"
       ],
       "button_style": "",
       "icons": [],
       "index": 0,
       "layout": "IPY_MODEL_2ccd3e0bc956439c8f6fa1ffd82bddff",
       "style": "IPY_MODEL_d572f8904eff46028d8a5ed500cf90eb",
       "tooltips": []
      }
     },
     "674ed5517a0c4d338cf826806c42f662": {
      "model_module": "@jupyter-widgets/base",
      "model_module_version": "1.1.0",
      "model_name": "LayoutModel",
      "state": {}
     },
     "67519b2436894a398e569b0c0c6f2a3f": {
      "model_module": "@jupyter-widgets/base",
      "model_module_version": "1.1.0",
      "model_name": "LayoutModel",
      "state": {}
     },
     "67a4bc69da5b4d8884c98ef520e888ea": {
      "model_module": "@jupyter-widgets/controls",
      "model_module_version": "1.4.0",
      "model_name": "AccordionModel",
      "state": {
       "_titles": {
        "0": "Carregar .shp",
        "1": "Carregar .shp de malha processada"
       },
       "children": [
        "IPY_MODEL_76e5ad96639841ddaaad7b8503057558",
        "IPY_MODEL_60dcba75d6bb4ce08542e980a76a4c32"
       ],
       "layout": "IPY_MODEL_e4e0fc380798452fab3b68df0a99511d"
      }
     },
     "67a6afc7078745968e1caaa6386d2db4": {
      "model_module": "@jupyter-widgets/controls",
      "model_module_version": "1.4.0",
      "model_name": "ButtonStyleModel",
      "state": {}
     },
     "67d334a059904e6aa9aa88858c968546": {
      "model_module": "@jupyter-widgets/controls",
      "model_module_version": "1.4.0",
      "model_name": "DropdownModel",
      "state": {
       "_options_labels": [
        "binary",
        "Blues",
        "brg",
        "BuGn",
        "cool",
        "cubehelix",
        "gist_earth",
        "gist_ncar",
        "gist_rainbow",
        "gnuplot",
        "gnuplot2",
        "hsv",
        "jet",
        "magma",
        "nipy_spectral",
        "ocean",
        "plasma",
        "rainbow",
        "Spectral",
        "terrain",
        "winter"
       ],
       "description": "Selecione o esquema de cores desejado:",
       "index": 12,
       "layout": "IPY_MODEL_fac028adcb34444bb4b6fe1f73eb9db4",
       "style": "IPY_MODEL_e7e69e6423ee48bb9fa35d8efc53e90e"
      }
     },
     "683d0a7624814bb4b8fb03e09ec9cec3": {
      "model_module": "@jupyter-widgets/base",
      "model_module_version": "1.1.0",
      "model_name": "LayoutModel",
      "state": {
       "width": "500px"
      }
     },
     "68dae31a52614231add96ccc4b1e2ba7": {
      "model_module": "@jupyter-widgets/controls",
      "model_module_version": "1.4.0",
      "model_name": "ButtonStyleModel",
      "state": {}
     },
     "68fd4064ef7c40988e8e8ed10442d8e4": {
      "model_module": "@jupyter-widgets/base",
      "model_module_version": "1.1.0",
      "model_name": "LayoutModel",
      "state": {}
     },
     "690af51ae0924acaa3c9f612f678b5ce": {
      "model_module": "@jupyter-widgets/controls",
      "model_module_version": "1.4.0",
      "model_name": "ButtonModel",
      "state": {
       "description": "Importar .shp de malha processada",
       "layout": "IPY_MODEL_833a1d1842dc4ae8888853b2ca6bf2c9",
       "style": "IPY_MODEL_88b48ce92fe3437086d2d312190926bc",
       "tooltip": "Importa um .shp que já teve sua malha processada"
      }
     },
     "691ef8c494284ec9b3b6fb81a9002620": {
      "model_module": "@jupyter-widgets/controls",
      "model_module_version": "1.4.0",
      "model_name": "FloatProgressModel",
      "state": {
       "description": "337.50°:",
       "layout": "IPY_MODEL_0fca741da31340938557c3d4ef363edc",
       "max": 1,
       "style": "IPY_MODEL_38b8986bf83240c8ac071a01f405b88f",
       "value": 1
      }
     },
     "69373c80eea24607838187b95702f415": {
      "model_module": "@jupyter-widgets/base",
      "model_module_version": "1.1.0",
      "model_name": "LayoutModel",
      "state": {
       "width": "400px"
      }
     },
     "6957f34063fb4cfebc028dcb754763f0": {
      "model_module": "@jupyter-widgets/base",
      "model_module_version": "1.1.0",
      "model_name": "LayoutModel",
      "state": {
       "width": "30%"
      }
     },
     "69c07e866ea14a6d9057dacea1b0c9bb": {
      "model_module": "@jupyter-widgets/controls",
      "model_module_version": "1.4.0",
      "model_name": "DescriptionStyleModel",
      "state": {
       "description_width": "initial"
      }
     },
     "69e050b5fdae435ebb6ed4427ebf40ed": {
      "model_module": "@jupyter-widgets/controls",
      "model_module_version": "1.4.0",
      "model_name": "AccordionModel",
      "state": {
       "_titles": {
        "0": "Direções convencionais",
        "1": "Direção específica"
       },
       "children": [
        "IPY_MODEL_bec06f96212c4f32a255d195f693df40",
        "IPY_MODEL_01fbd5f28d0b48e3a35b45bea7069ded"
       ],
       "layout": "IPY_MODEL_07b0694b298d4fc7b2355c37b8038464"
      }
     },
     "6a10b7197c9042a2b46d4994fcf645db": {
      "model_module": "@jupyter-widgets/base",
      "model_module_version": "1.1.0",
      "model_name": "LayoutModel",
      "state": {}
     },
     "6a3949d57444414c9bf977abb0d27585": {
      "model_module": "@jupyter-widgets/controls",
      "model_module_version": "1.4.0",
      "model_name": "ButtonModel",
      "state": {
       "description": "Importar .shp",
       "layout": "IPY_MODEL_56dcbee2dd6c4ce7875ef5c3bf635c93",
       "style": "IPY_MODEL_57123e1c3d3144efb5cfcc5d4c6d6098",
       "tooltip": "Importa um .shp para processamento"
      }
     },
     "6a4f67e1120e48119c5e318d31fb8c5c": {
      "model_module": "@jupyter-widgets/controls",
      "model_module_version": "1.4.0",
      "model_name": "DropdownModel",
      "state": {
       "_options_labels": [
        "300",
        "600",
        "1200"
       ],
       "description": "Selecione a DPI desejada:",
       "index": 0,
       "layout": "IPY_MODEL_95767143018044ad96233379d80a04eb",
       "style": "IPY_MODEL_d6faa61e67ef457daaf5a42dff848e81"
      }
     },
     "6a8ab5287be14ec6b6d4e175d05d27ba": {
      "model_module": "@jupyter-widgets/controls",
      "model_module_version": "1.4.0",
      "model_name": "ButtonStyleModel",
      "state": {}
     },
     "6aaf2a0e9d174dc2aa06e6f096f36662": {
      "model_module": "@jupyter-widgets/controls",
      "model_module_version": "1.4.0",
      "model_name": "DropdownModel",
      "state": {
       "_options_labels": [
        "Accent",
        "afmhot",
        "autumn",
        "binary",
        "Blues",
        "bone",
        "BrBG",
        "brg",
        "BuGn",
        "BuPu",
        "bwr",
        "CMRmap",
        "cool",
        "coolwarm",
        "copper",
        "cubehelix",
        "Dark2",
        "flag",
        "gist_earth",
        "gist_gray",
        "gist_heat",
        "gist_ncar",
        "gist_rainbow",
        "gist_stern",
        "gist_yarg",
        "GnBu",
        "gnuplot",
        "gnuplot2",
        "gray",
        "Greens",
        "Greys",
        "hot",
        "hsv",
        "inferno",
        "jet",
        "magma",
        "nipy_spectral",
        "ocean",
        "Oranges",
        "OrRd",
        "Paired",
        "Pastel1",
        "Pastel2",
        "pink",
        "PiYG",
        "plasma",
        "PRGn",
        "prism",
        "PuBu",
        "PuBuGn",
        "PuOr",
        "PuRd",
        "Purples",
        "rainbow",
        "RdBu",
        "RdGy",
        "RdPu",
        "RdYlBu",
        "RdYlGn",
        "Reds",
        "seismic",
        "Set1",
        "Set2",
        "Set3",
        "Spectral",
        "spring",
        "summer",
        "tab10",
        "tab20",
        "tab20b",
        "tab20c",
        "terrain",
        "viridis",
        "winter",
        "Wistia",
        "YlGn",
        "YlGnBu",
        "YlOrBr",
        "YlOrRd"
       ],
       "description": "Selecione o esquema de cores desejado para a imagem:",
       "index": 32,
       "layout": "IPY_MODEL_fd1a2503bd9147a6aea9b95aa980f073",
       "style": "IPY_MODEL_c49dc21efcbf45679c4693c1548e2ebf"
      }
     },
     "6ab3ed9036744774a1bc95dc062f0f10": {
      "model_module": "@jupyter-widgets/controls",
      "model_module_version": "1.4.0",
      "model_name": "ToggleButtonsStyleModel",
      "state": {
       "button_width": ""
      }
     },
     "6ab97b36d0a542f2b710557fdb15e85e": {
      "model_module": "@jupyter-widgets/controls",
      "model_module_version": "1.4.0",
      "model_name": "DescriptionStyleModel",
      "state": {
       "description_width": ""
      }
     },
     "6ac8be533a6b4f21a43d4a5e56eb28d9": {
      "model_module": "@jupyter-widgets/controls",
      "model_module_version": "1.4.0",
      "model_name": "FloatTextModel",
      "state": {
       "layout": "IPY_MODEL_b38b77b61ea34c2ba592f39376eeabb1",
       "step": null,
       "style": "IPY_MODEL_530ce30ac191411c8ee3eff4d44f59b6"
      }
     },
     "6af4dd8f7c2f4e9ab20558f226994249": {
      "model_module": "@jupyter-widgets/base",
      "model_module_version": "1.1.0",
      "model_name": "LayoutModel",
      "state": {
       "width": "400px"
      }
     },
     "6af589ad0e7b4a249801bc5b6e371c85": {
      "model_module": "@jupyter-widgets/controls",
      "model_module_version": "1.4.0",
      "model_name": "ButtonStyleModel",
      "state": {}
     },
     "6af5a334181a42568eb5f80e6eefe679": {
      "model_module": "@jupyter-widgets/base",
      "model_module_version": "1.1.0",
      "model_name": "LayoutModel",
      "state": {}
     },
     "6b1601333cf14e61b25b4127a2113830": {
      "model_module": "@jupyter-widgets/base",
      "model_module_version": "1.1.0",
      "model_name": "LayoutModel",
      "state": {}
     },
     "6b2fc40e599245d0ab9798e88a32cf46": {
      "model_module": "@jupyter-widgets/controls",
      "model_module_version": "1.4.0",
      "model_name": "ButtonModel",
      "state": {
       "description": "Importar projeto",
       "layout": "IPY_MODEL_2a450df3ea7a4e5c94fbd2cc27fdaeab",
       "style": "IPY_MODEL_28eceda378e4462ba388a8ca21c9c710",
       "tooltip": "Importa o .csv de um projeto criado"
      }
     },
     "6b472d1e8c0e462bae0b4ee6dfd8c151": {
      "model_module": "@jupyter-widgets/base",
      "model_module_version": "1.1.0",
      "model_name": "LayoutModel",
      "state": {}
     },
     "6b56919d43294dddbdaa86b471258a3c": {
      "model_module": "@jupyter-widgets/base",
      "model_module_version": "1.1.0",
      "model_name": "LayoutModel",
      "state": {}
     },
     "6b72ea92bf90492ebefb0fb1cac188ef": {
      "model_module": "@jupyter-widgets/controls",
      "model_module_version": "1.4.0",
      "model_name": "ButtonStyleModel",
      "state": {}
     },
     "6ba97e92e0df4603b1a0a561aa8878bf": {
      "model_module": "@jupyter-widgets/controls",
      "model_module_version": "1.4.0",
      "model_name": "ButtonStyleModel",
      "state": {}
     },
     "6c447d58aadd4b57be85c9d767ba09ba": {
      "model_module": "@jupyter-widgets/controls",
      "model_module_version": "1.4.0",
      "model_name": "AccordionModel",
      "state": {
       "_titles": {
        "0": "Modelo para obtenção dos fetchs:",
        "1": "Direções desejadas:"
       },
       "children": [
        "IPY_MODEL_d0123418d6594bb7a8696e56ec7d4fbc",
        "IPY_MODEL_f5a4c3952ff0476a8048e5ba93576aa6"
       ],
       "layout": "IPY_MODEL_4195b3dbba294ab78b06390f41b19841",
       "selected_index": 1
      }
     },
     "6c98617fa63e44f0af463aa3f48845d2": {
      "model_module": "@jupyter-widgets/base",
      "model_module_version": "1.1.0",
      "model_name": "LayoutModel",
      "state": {}
     },
     "6ce901ce1fd64e2e917586d8eb8b9ded": {
      "model_module": "@jupyter-widgets/controls",
      "model_module_version": "1.4.0",
      "model_name": "AccordionModel",
      "state": {
       "_titles": {
        "0": "Pistas de Vento"
       },
       "children": [
        "IPY_MODEL_2b040c79a52e44609d319a5cdb37d016"
       ],
       "layout": "IPY_MODEL_0417393a8fbc48f9a735df4df1f15e1b"
      }
     },
     "6d13f7b95ada41d1b521ef2ab71a24b1": {
      "model_module": "@jupyter-widgets/controls",
      "model_module_version": "1.4.0",
      "model_name": "TabModel",
      "state": {
       "_titles": {
        "0": "Pistas de vento",
        "1": "DPI",
        "2": "Esquema de cores"
       },
       "children": [
        "IPY_MODEL_dbba79440b9140d7bf256b1a13240184",
        "IPY_MODEL_af6c128216a546669e24f5a135006c5b",
        "IPY_MODEL_3bc891fd83d442d3a65ec44bc159a90e"
       ],
       "layout": "IPY_MODEL_896a7e7493004bef80dd60a37db25f9d",
       "selected_index": 1
      }
     },
     "6d1cfdbccca443ef92fe7fbb34a6e3d5": {
      "model_module": "@jupyter-widgets/controls",
      "model_module_version": "1.4.0",
      "model_name": "DescriptionStyleModel",
      "state": {
       "description_width": ""
      }
     },
     "6d21fcae8a8341c0806f66db1d9aacec": {
      "model_module": "@jupyter-widgets/base",
      "model_module_version": "1.1.0",
      "model_name": "LayoutModel",
      "state": {}
     },
     "6d33cdb96a9c4f03bc02ae0c75d669ad": {
      "model_module": "@jupyter-widgets/controls",
      "model_module_version": "1.4.0",
      "model_name": "AccordionModel",
      "state": {
       "_titles": {
        "0": "Criar projeto",
        "1": "Importar projeto"
       },
       "children": [
        "IPY_MODEL_fd9ac1ebc7754b93b49294ddac0298c3",
        "IPY_MODEL_6b2fc40e599245d0ab9798e88a32cf46"
       ],
       "layout": "IPY_MODEL_612adc1baea4449abbdd717fa8995363",
       "selected_index": 1
      }
     },
     "6d7ccaf963cc4680bc9b7607e4da8787": {
      "model_module": "@jupyter-widgets/base",
      "model_module_version": "1.1.0",
      "model_name": "LayoutModel",
      "state": {}
     },
     "6d80d5dfbdef452c9cfd62261c76ad5e": {
      "model_module": "@jupyter-widgets/base",
      "model_module_version": "1.1.0",
      "model_name": "LayoutModel",
      "state": {}
     },
     "6d82044a444e4059a124464f253af768": {
      "model_module": "@jupyter-widgets/controls",
      "model_module_version": "1.4.0",
      "model_name": "AccordionModel",
      "state": {
       "_titles": {
        "0": "Escolha da resolução em DPI"
       },
       "children": [
        "IPY_MODEL_e260306ddb454373ad58e59edfe0d742"
       ],
       "layout": "IPY_MODEL_5de9dbf2139f4fd384fa892e6838de21"
      }
     },
     "6d833f18c455488cbcdbf26ca7bad1a0": {
      "model_module": "@jupyter-widgets/controls",
      "model_module_version": "1.4.0",
      "model_name": "ButtonStyleModel",
      "state": {}
     },
     "6d8c37dbd8b04a9ab3c520f096ce985d": {
      "model_module": "@jupyter-widgets/controls",
      "model_module_version": "1.4.0",
      "model_name": "FloatProgressModel",
      "state": {
       "description": "0.0°:",
       "layout": "IPY_MODEL_f9ae9c2cfdf2472b97f29f90df362114",
       "max": 1,
       "style": "IPY_MODEL_0402d54a5dd840598a33ee0ae183ef7a",
       "value": 1
      }
     },
     "6d9045766530419daf704202c8b5c174": {
      "model_module": "@jupyter-widgets/controls",
      "model_module_version": "1.4.0",
      "model_name": "AccordionModel",
      "state": {
       "_titles": {
        "0": "Modelo para obtenção dos fetchs:",
        "1": "Direções desejadas:"
       },
       "children": [
        "IPY_MODEL_1d5b764bc06347cc875fd18cd376e6c3",
        "IPY_MODEL_2f00822e48814264a4785ed8d275a18e"
       ],
       "layout": "IPY_MODEL_6d21fcae8a8341c0806f66db1d9aacec"
      }
     },
     "6d946d2cc86443deab5655bdf2e1b88e": {
      "model_module": "@jupyter-widgets/controls",
      "model_module_version": "1.4.0",
      "model_name": "ButtonModel",
      "state": {
       "description": "Importar .shp de malha processada",
       "layout": "IPY_MODEL_9a994be10e364f8492f51837f785638f",
       "style": "IPY_MODEL_badc0784a2954fae9e1a3a1ffdacbf5b",
       "tooltip": "Importa um .shp que teve sua malha processada"
      }
     },
     "6d947d7fa28543c48a3b5e0d7c04061c": {
      "model_module": "@jupyter-widgets/base",
      "model_module_version": "1.1.0",
      "model_name": "LayoutModel",
      "state": {}
     },
     "6db4d79eddce43718d907d27c7dacf23": {
      "model_module": "@jupyter-widgets/controls",
      "model_module_version": "1.4.0",
      "model_name": "ProgressStyleModel",
      "state": {
       "description_width": ""
      }
     },
     "6e16fada1af74c15abd06ec9821f7a91": {
      "model_module": "@jupyter-widgets/base",
      "model_module_version": "1.1.0",
      "model_name": "LayoutModel",
      "state": {
       "width": "400px"
      }
     },
     "6e1b21da31ff42a8a7b66e860a137206": {
      "model_module": "@jupyter-widgets/controls",
      "model_module_version": "1.4.0",
      "model_name": "ButtonModel",
      "state": {
       "description": "Criar projeto",
       "layout": "IPY_MODEL_8b913ab012434c31acef685317b40c8b",
       "style": "IPY_MODEL_e865072bcc31449f8073852f37cb5184",
       "tooltip": "Cria um novo projeto"
      }
     },
     "6e1bf6fb2b9f461aa5f4fe46d35f64a5": {
      "model_module": "@jupyter-widgets/controls",
      "model_module_version": "1.4.0",
      "model_name": "AccordionModel",
      "state": {
       "_titles": {
        "0": "Escolha da(s) pista(s) de vento"
       },
       "children": [
        "IPY_MODEL_5ee838e0a5b64b8c8b15c6bc364c187a"
       ],
       "layout": "IPY_MODEL_d96ee07cb7d7470eb5d0ea59a8a20c7f"
      }
     },
     "6e23ed3e7325448ea01dc34a9b5a5377": {
      "model_module": "@jupyter-widgets/controls",
      "model_module_version": "1.4.0",
      "model_name": "ButtonStyleModel",
      "state": {}
     },
     "6e3274536273473eb528ba0f794138d4": {
      "model_module": "@jupyter-widgets/base",
      "model_module_version": "1.1.0",
      "model_name": "LayoutModel",
      "state": {}
     },
     "6e3a41336f0b4019935fc95b51976943": {
      "model_module": "@jupyter-widgets/base",
      "model_module_version": "1.1.0",
      "model_name": "LayoutModel",
      "state": {}
     },
     "6e51d275aaca4fc79317bab62ab7ef76": {
      "model_module": "@jupyter-widgets/base",
      "model_module_version": "1.1.0",
      "model_name": "LayoutModel",
      "state": {}
     },
     "6e56ba0907b04cd6a2de2e85f3930e1f": {
      "model_module": "@jupyter-widgets/base",
      "model_module_version": "1.1.0",
      "model_name": "LayoutModel",
      "state": {}
     },
     "6e777febafd34480b75cd4aa79327b29": {
      "model_module": "@jupyter-widgets/base",
      "model_module_version": "1.1.0",
      "model_name": "LayoutModel",
      "state": {}
     },
     "6ec36baede004149ad0a73f1d9512e87": {
      "model_module": "@jupyter-widgets/controls",
      "model_module_version": "1.4.0",
      "model_name": "ToggleButtonsModel",
      "state": {
       "_options_labels": [
        "Método SPM",
        "Método de Saville"
       ],
       "button_style": "",
       "icons": [],
       "index": 1,
       "layout": "IPY_MODEL_047ce0ae53db484bb0c0b1cc4958b05d",
       "style": "IPY_MODEL_ec7f78934a3f4669a545f09dc10aa1df",
       "tooltips": []
      }
     },
     "6f00756bdb224faea2a08fe66ff88d40": {
      "model_module": "@jupyter-widgets/base",
      "model_module_version": "1.1.0",
      "model_name": "LayoutModel",
      "state": {}
     },
     "6f036d75d04547b889bc03d3317b8732": {
      "model_module": "@jupyter-widgets/controls",
      "model_module_version": "1.4.0",
      "model_name": "TabModel",
      "state": {
       "_titles": {
        "0": "Métodos",
        "1": "Direções"
       },
       "children": [
        "IPY_MODEL_78a5f968a16e4d84b61b54cf7e867b82",
        "IPY_MODEL_4be33e86e92642788a68c02b704ec7a6"
       ],
       "layout": "IPY_MODEL_c2a00cea8c7644fc8485649a2cd36bf2"
      }
     },
     "6f0927b626644377befa58533ce3d5f6": {
      "model_module": "@jupyter-widgets/controls",
      "model_module_version": "1.4.0",
      "model_name": "DescriptionStyleModel",
      "state": {
       "description_width": "initial"
      }
     },
     "6f38d6648c604a2eaa93af4e1e764e00": {
      "model_module": "@jupyter-widgets/controls",
      "model_module_version": "1.4.0",
      "model_name": "ButtonModel",
      "state": {
       "description": "Carregar projeto",
       "layout": "IPY_MODEL_3f5cf8a8ea644943a4e7e883ffe3c825",
       "style": "IPY_MODEL_a2b4f4cc03b14795881905352371b252",
       "tooltip": "Carrega o .csv de um projeto já criado"
      }
     },
     "6f4ca3ad532943a2ba05055e653a0e33": {
      "model_module": "@jupyter-widgets/controls",
      "model_module_version": "1.4.0",
      "model_name": "TabModel",
      "state": {
       "_titles": {
        "0": "Projetos",
        "1": "Shapefiles"
       },
       "children": [
        "IPY_MODEL_8a07e08bc52d42f5907e9341ee7057b3",
        "IPY_MODEL_aff28d07a91847c0905236c4ed956490"
       ],
       "layout": "IPY_MODEL_569570ac455a4ffda0f917e40e2d6fdf",
       "selected_index": 1
      }
     },
     "6f7393488ed7420db4ae4324bd7e4ca8": {
      "model_module": "@jupyter-widgets/base",
      "model_module_version": "1.1.0",
      "model_name": "LayoutModel",
      "state": {}
     },
     "6f872788884f45a7bbbf3dac937bae58": {
      "model_module": "@jupyter-widgets/controls",
      "model_module_version": "1.4.0",
      "model_name": "DescriptionStyleModel",
      "state": {
       "description_width": "initial"
      }
     },
     "6f8d4dd5d8194366b40a40db8cd8e029": {
      "model_module": "@jupyter-widgets/controls",
      "model_module_version": "1.4.0",
      "model_name": "ToggleButtonsStyleModel",
      "state": {
       "button_width": "",
       "description_width": ""
      }
     },
     "6fa0d48d0a0f4176b33adb9f49ec53f0": {
      "model_module": "@jupyter-widgets/controls",
      "model_module_version": "1.4.0",
      "model_name": "FloatProgressModel",
      "state": {
       "description": "0.00°:",
       "layout": "IPY_MODEL_285b4297b4cd497788c797c24d8d7761",
       "max": 1,
       "style": "IPY_MODEL_f5f868b296284fcebe5ac086d6e92780",
       "value": 0.9999999999998037
      }
     },
     "6fada7a4966a46169801064d0c312e28": {
      "model_module": "@jupyter-widgets/controls",
      "model_module_version": "1.4.0",
      "model_name": "SelectMultipleModel",
      "state": {
       "_options_labels": [
        "0.0°"
       ],
       "index": [
        0
       ],
       "layout": "IPY_MODEL_05ee69b6e513494486158e21c9ff3ceb",
       "rows": 5,
       "style": "IPY_MODEL_6d1cfdbccca443ef92fe7fbb34a6e3d5"
      }
     },
     "6fe717de54764750ba608b5accd9ec37": {
      "model_module": "@jupyter-widgets/controls",
      "model_module_version": "1.4.0",
      "model_name": "ButtonStyleModel",
      "state": {}
     },
     "6ff2c848daf447e8ad7f25edff3c60d6": {
      "model_module": "@jupyter-widgets/controls",
      "model_module_version": "1.4.0",
      "model_name": "AccordionModel",
      "state": {
       "_titles": {
        "0": "Malha (m)"
       },
       "children": [
        "IPY_MODEL_ce5277c6bfef4cc48db6dfd19457c291"
       ],
       "layout": "IPY_MODEL_4f19d3614fcc4b38af3c7f0add48b9c9"
      }
     },
     "7044ebfd6fbd42e89498ef81c467f743": {
      "model_module": "@jupyter-widgets/base",
      "model_module_version": "1.1.0",
      "model_name": "LayoutModel",
      "state": {}
     },
     "706479093740498dac57b6f72beeaeb6": {
      "model_module": "@jupyter-widgets/base",
      "model_module_version": "1.1.0",
      "model_name": "LayoutModel",
      "state": {}
     },
     "70793c49079d48be9be273ea91a0bdf5": {
      "model_module": "@jupyter-widgets/base",
      "model_module_version": "1.1.0",
      "model_name": "LayoutModel",
      "state": {}
     },
     "70b2e704d79c4b4bac8d82d72f1e3c5f": {
      "model_module": "@jupyter-widgets/base",
      "model_module_version": "1.1.0",
      "model_name": "LayoutModel",
      "state": {}
     },
     "70bcb0f76c8444fdbd2554a42bb35c9f": {
      "model_module": "@jupyter-widgets/controls",
      "model_module_version": "1.4.0",
      "model_name": "FloatProgressModel",
      "state": {
       "description": "270.00°:",
       "layout": "IPY_MODEL_b6c4a53182b74101be567bac86a47d9a",
       "max": 1,
       "style": "IPY_MODEL_56d3c17042bf48efbb8de6f98e6d04ba",
       "value": 1
      }
     },
     "7102147672824b92851b052f23f016c7": {
      "model_module": "@jupyter-widgets/controls",
      "model_module_version": "1.4.0",
      "model_name": "ButtonModel",
      "state": {
       "description": "Criar projeto",
       "layout": "IPY_MODEL_8bc5e31f32b54c2183bc54bcc7a292f0",
       "style": "IPY_MODEL_e64391693b0e4b7b958e0d5565406a65",
       "tooltip": "Cria um novo projeto"
      }
     },
     "7115c429e687499da630221346d69178": {
      "model_module": "@jupyter-widgets/controls",
      "model_module_version": "1.4.0",
      "model_name": "TextModel",
      "state": {
       "layout": "IPY_MODEL_6e51d275aaca4fc79317bab62ab7ef76",
       "style": "IPY_MODEL_d15247b3da204a87ba7247ab0d42c79b",
       "value": "Campinal"
      }
     },
     "7178f44659d745e2b65fe45a9b92f1be": {
      "model_module": "@jupyter-widgets/controls",
      "model_module_version": "1.4.0",
      "model_name": "ToggleButtonsStyleModel",
      "state": {
       "button_width": ""
      }
     },
     "7184bf75f693466a82441c592d4dddee": {
      "model_module": "@jupyter-widgets/controls",
      "model_module_version": "1.4.0",
      "model_name": "ToggleButtonsModel",
      "state": {
       "_options_labels": [
        "Método SPM",
        "Método de Saville"
       ],
       "button_style": "",
       "icons": [],
       "index": 1,
       "layout": "IPY_MODEL_75688fb1587449e78f71203d1ed69b88",
       "style": "IPY_MODEL_59dd5508aa3b4f2e998df496b7c87f7f",
       "tooltips": []
      }
     },
     "71c4868c7a2c46759f84dac026f3ffcd": {
      "model_module": "@jupyter-widgets/controls",
      "model_module_version": "1.4.0",
      "model_name": "AccordionModel",
      "state": {
       "_titles": {
        "0": "Criar projeto",
        "1": "Importar projeto"
       },
       "children": [
        "IPY_MODEL_cc75e3d37e7f42a490bbd5e892812f44",
        "IPY_MODEL_e97555cb2ad74ab1aa03eb62f39af5e4"
       ],
       "layout": "IPY_MODEL_8969737ef0ca47e685db03783645b219"
      }
     },
     "71c98d9f8bab438a8a333ea01b93739a": {
      "model_module": "@jupyter-widgets/controls",
      "model_module_version": "1.4.0",
      "model_name": "DropdownModel",
      "state": {
       "_options_labels": [
        "Accent",
        "afmhot",
        "autumn",
        "binary",
        "Blues",
        "bone",
        "BrBG",
        "brg",
        "BuGn",
        "BuPu",
        "bwr",
        "cmo.algae",
        "cmo.amp",
        "cmo.balance",
        "cmo.curl",
        "cmo.deep",
        "cmo.delta",
        "cmo.dense",
        "cmo.gray",
        "cmo.haline",
        "cmo.ice",
        "cmo.matter",
        "cmo.oxy",
        "cmo.phase",
        "cmo.solar",
        "cmo.speed",
        "cmo.tempo",
        "cmo.thermal",
        "cmo.turbid",
        "CMRmap",
        "cool",
        "coolwarm",
        "copper",
        "cubehelix",
        "Dark2",
        "flag",
        "gist_earth",
        "gist_gray",
        "gist_heat",
        "gist_ncar",
        "gist_rainbow",
        "gist_stern",
        "gist_yarg",
        "GnBu",
        "gnuplot",
        "gnuplot2",
        "gray",
        "Greens",
        "Greys",
        "hot",
        "hsv",
        "inferno",
        "jet",
        "magma",
        "nipy_spectral",
        "ocean",
        "Oranges",
        "OrRd",
        "Paired",
        "Pastel1",
        "Pastel2",
        "pink",
        "PiYG",
        "plasma",
        "PRGn",
        "prism",
        "PuBu",
        "PuBuGn",
        "PuOr",
        "PuRd",
        "Purples",
        "rainbow",
        "RdBu",
        "RdGy",
        "RdPu",
        "RdYlBu",
        "RdYlGn",
        "Reds",
        "seismic",
        "Set1",
        "Set2",
        "Set3",
        "Spectral",
        "spring",
        "summer",
        "tab10",
        "tab20",
        "tab20b",
        "tab20c",
        "terrain",
        "viridis",
        "winter",
        "Wistia",
        "YlGn",
        "YlGnBu",
        "YlOrBr",
        "YlOrRd"
       ],
       "description": "Selecione o esquema de cores desejado para a imagem:",
       "index": 54,
       "layout": "IPY_MODEL_f7176b299be646dea6069506a46b712c",
       "style": "IPY_MODEL_36525206a9bc4a1d94609c12b9a6b1de"
      }
     },
     "71e4abe999ca46adb30cfa85dc988e39": {
      "model_module": "@jupyter-widgets/controls",
      "model_module_version": "1.4.0",
      "model_name": "DescriptionStyleModel",
      "state": {
       "description_width": "initial"
      }
     },
     "71f610b1ebcc4b8e9e320f46f427b0dd": {
      "model_module": "@jupyter-widgets/base",
      "model_module_version": "1.1.0",
      "model_name": "LayoutModel",
      "state": {}
     },
     "71ff47c3a255461ab0f6ea1cec37d04a": {
      "model_module": "@jupyter-widgets/base",
      "model_module_version": "1.1.0",
      "model_name": "LayoutModel",
      "state": {
       "width": "30%"
      }
     },
     "72700c4f1b9b4695a7c4bc3481a4f4ac": {
      "model_module": "@jupyter-widgets/controls",
      "model_module_version": "1.4.0",
      "model_name": "DropdownModel",
      "state": {
       "_options_labels": [
        "binary",
        "Blues",
        "brg",
        "BuGn",
        "cool",
        "cubehelix",
        "gist_earth",
        "gist_ncar",
        "gist_rainbow",
        "gnuplot",
        "gnuplot2",
        "hsv",
        "jet",
        "magma",
        "nipy_spectral",
        "ocean",
        "plasma",
        "rainbow",
        "Spectral",
        "terrain",
        "winter"
       ],
       "description": "Selecione o esquema de cores desejado:",
       "index": 12,
       "layout": "IPY_MODEL_dcf27e42d96d4ceb8d2107ddbd0e3657",
       "style": "IPY_MODEL_f3cade1c90cd4b0c9afa78733f0573a4"
      }
     },
     "727121af28314ed68806bd99a7cadfc6": {
      "model_module": "@jupyter-widgets/controls",
      "model_module_version": "1.4.0",
      "model_name": "TabModel",
      "state": {
       "_titles": {
        "0": "Malha"
       },
       "children": [
        "IPY_MODEL_9101ceba60d24c7f9fe451fcf5f0f020"
       ],
       "layout": "IPY_MODEL_614f90d08b464145a9c36521c40606b1"
      }
     },
     "727f47c41bfe41d3bda3f0defe788491": {
      "model_module": "@jupyter-widgets/controls",
      "model_module_version": "1.4.0",
      "model_name": "DescriptionStyleModel",
      "state": {
       "description_width": "initial"
      }
     },
     "72eec228a6f74da3bdb4121de9b5f7fb": {
      "model_module": "@jupyter-widgets/base",
      "model_module_version": "1.1.0",
      "model_name": "LayoutModel",
      "state": {
       "width": "30%"
      }
     },
     "7326793a28894f2889f7db1131bc2a69": {
      "model_module": "@jupyter-widgets/controls",
      "model_module_version": "1.4.0",
      "model_name": "ButtonModel",
      "state": {
       "description": "Importar pista(s) de vento processada(s)",
       "layout": "IPY_MODEL_86689237a8854cdeba68cfb33d2a233e",
       "style": "IPY_MODEL_e1cb2bfa9e25441c9157628f2e2b49cd",
       "tooltip": "Importa pista(s) de vento processada(s)"
      }
     },
     "7356e91a254d407993e300b78683dc8c": {
      "model_module": "@jupyter-widgets/base",
      "model_module_version": "1.1.0",
      "model_name": "LayoutModel",
      "state": {}
     },
     "7388d23444d8428b8365894048dd75e9": {
      "model_module": "@jupyter-widgets/controls",
      "model_module_version": "1.4.0",
      "model_name": "DescriptionStyleModel",
      "state": {
       "description_width": ""
      }
     },
     "738ba8ffb8d8422d822736fdead57334": {
      "model_module": "@jupyter-widgets/controls",
      "model_module_version": "1.4.0",
      "model_name": "ButtonModel",
      "state": {
       "description": "Importar .shp de malha processada",
       "layout": "IPY_MODEL_1829150970f649f197251f4b17109853",
       "style": "IPY_MODEL_f30efca6c93a4625aa38cd3db9bd2c9f",
       "tooltip": "Importa um .shp que teve sua malha processada"
      }
     },
     "73e982126a2b4246a46694e3bcee0a52": {
      "model_module": "@jupyter-widgets/controls",
      "model_module_version": "1.4.0",
      "model_name": "ButtonModel",
      "state": {
       "description": "Importar .shp de malha processada",
       "layout": "IPY_MODEL_ed5c13e65698442792011f72f43746f0",
       "style": "IPY_MODEL_2e75e2e4ad69410ab4b60dcff9adfdff",
       "tooltip": "Importa um .shp que teve sua malha processada"
      }
     },
     "73ef9fcffd864ce984729f40667274d4": {
      "model_module": "@jupyter-widgets/controls",
      "model_module_version": "1.4.0",
      "model_name": "AccordionModel",
      "state": {
       "_titles": {
        "0": "Importar .shp",
        "1": "Importar .shp de malha processada"
       },
       "children": [
        "IPY_MODEL_88b21c6a617c47f58017065708e39779",
        "IPY_MODEL_f176577139904696a00ab704d6d94796"
       ],
       "layout": "IPY_MODEL_c563a9f806cc4c1b8a0ae6eabe5a8cd4"
      }
     },
     "73f8762c66904da7a9280206c6c56a18": {
      "model_module": "@jupyter-widgets/base",
      "model_module_version": "1.1.0",
      "model_name": "LayoutModel",
      "state": {}
     },
     "744d12ba92154ad3a232f0aae8e3c268": {
      "model_module": "@jupyter-widgets/controls",
      "model_module_version": "1.4.0",
      "model_name": "ButtonModel",
      "state": {
       "description": "Carregar pista(s) de vento já processada(s)",
       "layout": "IPY_MODEL_fdbbec5aee6d4784b917a32722298b2b",
       "style": "IPY_MODEL_957497d7538f49c18ec6ea534eb0a12b",
       "tooltip": "Carrega pista(s) de vento já processada(s)"
      }
     },
     "74831301526c42c48846b3a2a9f4d7ee": {
      "model_module": "@jupyter-widgets/controls",
      "model_module_version": "1.4.0",
      "model_name": "ButtonStyleModel",
      "state": {}
     },
     "74e2a6ae9e794baca583c1f6d12e9f7c": {
      "model_module": "@jupyter-widgets/controls",
      "model_module_version": "1.4.0",
      "model_name": "SelectMultipleModel",
      "state": {
       "_options_labels": [
        "0.0°",
        "22.5°",
        "45.0°",
        "67.5°",
        "90.0°",
        "112.5°",
        "135.0°",
        "157.5°",
        "180.0°",
        "202.5°",
        "225.0°",
        "247.5°",
        "270.0°",
        "292.5°",
        "315.0°",
        "337.5°"
       ],
       "index": [
        0,
        1,
        2,
        3,
        4,
        5,
        6,
        7,
        8,
        9,
        10,
        11,
        12,
        13,
        14,
        15
       ],
       "layout": "IPY_MODEL_7536725e292345f0a8aed29a4b6f10f1",
       "rows": 5,
       "style": "IPY_MODEL_259e8c2af045430ca2e937b02a478bc6"
      }
     },
     "74e5dd00258f4020b18845039b6eacc8": {
      "model_module": "@jupyter-widgets/controls",
      "model_module_version": "1.4.0",
      "model_name": "ButtonModel",
      "state": {
       "description": "Carregar pista(s) de vento já processada(s)",
       "layout": "IPY_MODEL_293bc0e3a8f94b25b19694686f98db87",
       "style": "IPY_MODEL_b2cf8c16926e47d4a3a618f7d2efc91a",
       "tooltip": "Carrega pista(s) de vento já processada(s)"
      }
     },
     "74ffe665ea314a5788b7c4c863b48e7e": {
      "model_module": "@jupyter-widgets/controls",
      "model_module_version": "1.4.0",
      "model_name": "AccordionModel",
      "state": {
       "_titles": {
        "0": "Malha (m)"
       },
       "children": [
        "IPY_MODEL_caecfbd4b1484fe68329b1c938d000c0"
       ],
       "layout": "IPY_MODEL_048776e7b72a4032befbaf6de362ee3a"
      }
     },
     "751c7c590c8949f1b320076d795af530": {
      "model_module": "@jupyter-widgets/base",
      "model_module_version": "1.1.0",
      "model_name": "LayoutModel",
      "state": {}
     },
     "7536725e292345f0a8aed29a4b6f10f1": {
      "model_module": "@jupyter-widgets/base",
      "model_module_version": "1.1.0",
      "model_name": "LayoutModel",
      "state": {}
     },
     "7559204d8cb44383a9ed3a193df7f9de": {
      "model_module": "@jupyter-widgets/controls",
      "model_module_version": "1.4.0",
      "model_name": "AccordionModel",
      "state": {
       "_titles": {
        "0": "Criar projeto",
        "1": "Importar projeto"
       },
       "children": [
        "IPY_MODEL_d0f2adcf745c427ebddcfaf5ce8dccd0",
        "IPY_MODEL_1290d5f89eb840389bdefc559d98c86c"
       ],
       "layout": "IPY_MODEL_a42a113a7c1747f78a7ce9abf4b0830f",
       "selected_index": 1
      }
     },
     "75688fb1587449e78f71203d1ed69b88": {
      "model_module": "@jupyter-widgets/base",
      "model_module_version": "1.1.0",
      "model_name": "LayoutModel",
      "state": {}
     },
     "7590c97529a44bac9933e851627d330c": {
      "model_module": "@jupyter-widgets/controls",
      "model_module_version": "1.4.0",
      "model_name": "ProgressStyleModel",
      "state": {
       "description_width": ""
      }
     },
     "75c4c9028ab147358a416a90e90ac8be": {
      "model_module": "@jupyter-widgets/base",
      "model_module_version": "1.1.0",
      "model_name": "LayoutModel",
      "state": {
       "width": "30%"
      }
     },
     "75cc185a1c4a4187b5f42fe71bf00214": {
      "model_module": "@jupyter-widgets/controls",
      "model_module_version": "1.4.0",
      "model_name": "FloatTextModel",
      "state": {
       "layout": "IPY_MODEL_e1c6f4767e1448f3bad326bf2ca06ea1",
       "step": null,
       "style": "IPY_MODEL_b28388a8448240709c8ca272f99f53f5"
      }
     },
     "763018a7c6e146278786a4abee1dc6f5": {
      "model_module": "@jupyter-widgets/base",
      "model_module_version": "1.1.0",
      "model_name": "LayoutModel",
      "state": {}
     },
     "766bbfc569a94b3cbdde0667b72fe610": {
      "model_module": "@jupyter-widgets/base",
      "model_module_version": "1.1.0",
      "model_name": "LayoutModel",
      "state": {}
     },
     "76cda9b7c4134190b5139d4462f3be14": {
      "model_module": "@jupyter-widgets/base",
      "model_module_version": "1.1.0",
      "model_name": "LayoutModel",
      "state": {
       "width": "30%"
      }
     },
     "76e5ad96639841ddaaad7b8503057558": {
      "model_module": "@jupyter-widgets/controls",
      "model_module_version": "1.4.0",
      "model_name": "ButtonModel",
      "state": {
       "description": "Carregar .shp",
       "layout": "IPY_MODEL_35a69d55ed9c41f298231cc9efabfb05",
       "style": "IPY_MODEL_3151c5f862234c53a999ee15923af75c",
       "tooltip": "Carrega um .shp para processamento"
      }
     },
     "77741cd57dd54d618a534200fd6b741d": {
      "model_module": "@jupyter-widgets/controls",
      "model_module_version": "1.4.0",
      "model_name": "AccordionModel",
      "state": {
       "_titles": {
        "0": "Métodos para obtenção dos fetchs"
       },
       "children": [
        "IPY_MODEL_06875ca4a490499faacafd26ea7d707d"
       ],
       "layout": "IPY_MODEL_fba3fa15c3f44ff395763231007287c2"
      }
     },
     "778e61a99f2a48e69daa9b5620fabeb7": {
      "model_module": "@jupyter-widgets/controls",
      "model_module_version": "1.4.0",
      "model_name": "AccordionModel",
      "state": {
       "_titles": {
        "0": "Pistas de Vento"
       },
       "children": [
        "IPY_MODEL_f2c33fdc8ad7479e9d1b821d92be8525"
       ],
       "layout": "IPY_MODEL_ad62d071d2e74d429f3895b91ff5c06d"
      }
     },
     "778eeee80dfd45c18482e1dab87c8116": {
      "model_module": "@jupyter-widgets/controls",
      "model_module_version": "1.4.0",
      "model_name": "TextModel",
      "state": {
       "description": "Outra direção (°):",
       "layout": "IPY_MODEL_2ec4ab6d7ec04ab8a1ed125051d6861b",
       "style": "IPY_MODEL_f790f775a53745628a25a4bb3ef6c97e"
      }
     },
     "77cdda7b03b345859807eb9d1f22a9e4": {
      "model_module": "@jupyter-widgets/controls",
      "model_module_version": "1.4.0",
      "model_name": "DescriptionStyleModel",
      "state": {
       "description_width": ""
      }
     },
     "77dba5c7bdf74010be9df487a6dd9dc9": {
      "model_module": "@jupyter-widgets/controls",
      "model_module_version": "1.4.0",
      "model_name": "FloatProgressModel",
      "state": {
       "description": "202.5°:",
       "layout": "IPY_MODEL_af7c7ac45a9740c2905e090bab789c22",
       "max": 1,
       "style": "IPY_MODEL_55dbfd4adbf241e58e55d14c33378472",
       "value": 1
      }
     },
     "780938c951e94900b4c485371edfa6c4": {
      "model_module": "@jupyter-widgets/base",
      "model_module_version": "1.1.0",
      "model_name": "LayoutModel",
      "state": {}
     },
     "7839f8732f58483aaa247a987bf1b0ea": {
      "model_module": "@jupyter-widgets/base",
      "model_module_version": "1.1.0",
      "model_name": "LayoutModel",
      "state": {}
     },
     "784e6a363a8245af8eb4d21d1e90e4a2": {
      "model_module": "@jupyter-widgets/base",
      "model_module_version": "1.1.0",
      "model_name": "LayoutModel",
      "state": {}
     },
     "78571a0ae98d4217ad7c78acd410d664": {
      "model_module": "@jupyter-widgets/base",
      "model_module_version": "1.1.0",
      "model_name": "LayoutModel",
      "state": {
       "width": "30%"
      }
     },
     "78a5f968a16e4d84b61b54cf7e867b82": {
      "model_module": "@jupyter-widgets/controls",
      "model_module_version": "1.4.0",
      "model_name": "AccordionModel",
      "state": {
       "_titles": {
        "0": "Métodos para obtenção dos fetchs:"
       },
       "children": [
        "IPY_MODEL_7ae63ae6e92b4be2aeaa1baf9fac7be5"
       ],
       "layout": "IPY_MODEL_e50b46f2805e4d5bb484cc5560501352"
      }
     },
     "78a80bd38ed74436b55447ebc8aace74": {
      "model_module": "@jupyter-widgets/base",
      "model_module_version": "1.1.0",
      "model_name": "LayoutModel",
      "state": {}
     },
     "797442be0f384e46a29ffdc696d13640": {
      "model_module": "@jupyter-widgets/base",
      "model_module_version": "1.1.0",
      "model_name": "LayoutModel",
      "state": {}
     },
     "797a65c414cc4aa498854b6fe2127daf": {
      "model_module": "@jupyter-widgets/controls",
      "model_module_version": "1.4.0",
      "model_name": "ButtonModel",
      "state": {
       "description": "Carregar pista(s) de vento já processada(s)",
       "layout": "IPY_MODEL_50c3bccbbb2f4aa283475b4a719f7f5f",
       "style": "IPY_MODEL_84f284983fc7466e911ab2ea1640fb73",
       "tooltip": "Carrega pista(s) de vento já processada(s)"
      }
     },
     "7989323a62a144e69a0488e6c90997b1": {
      "model_module": "@jupyter-widgets/controls",
      "model_module_version": "1.4.0",
      "model_name": "DescriptionStyleModel",
      "state": {
       "description_width": "initial"
      }
     },
     "7995ee0b99784e8b917232fd6f99fd39": {
      "model_module": "@jupyter-widgets/controls",
      "model_module_version": "1.4.0",
      "model_name": "TabModel",
      "state": {
       "_titles": {
        "0": "Projetos",
        "1": "Shapefiles"
       },
       "children": [
        "IPY_MODEL_a6945b97e27d456abef9781e5779dc42",
        "IPY_MODEL_9d46cdf2608a466dab5ad404e2449194"
       ],
       "layout": "IPY_MODEL_c7ce5f87be844876a102e24abaab5c02"
      }
     },
     "79b4a733fe55494d808f8fca19e44d95": {
      "model_module": "@jupyter-widgets/controls",
      "model_module_version": "1.4.0",
      "model_name": "ProgressStyleModel",
      "state": {
       "description_width": ""
      }
     },
     "79e53149b1a64f509900f4ab590f245e": {
      "model_module": "@jupyter-widgets/controls",
      "model_module_version": "1.4.0",
      "model_name": "ButtonStyleModel",
      "state": {}
     },
     "7a04b88206084a2488cbc188f96d55c0": {
      "model_module": "@jupyter-widgets/base",
      "model_module_version": "1.1.0",
      "model_name": "LayoutModel",
      "state": {}
     },
     "7a8cfb695c4e47289fee9b4615bcc6dc": {
      "model_module": "@jupyter-widgets/base",
      "model_module_version": "1.1.0",
      "model_name": "LayoutModel",
      "state": {}
     },
     "7a92f3c286ee4568b16e9211af626a7b": {
      "model_module": "@jupyter-widgets/base",
      "model_module_version": "1.1.0",
      "model_name": "LayoutModel",
      "state": {}
     },
     "7ab730932dd04392b8716b525ec1b9f8": {
      "model_module": "@jupyter-widgets/base",
      "model_module_version": "1.1.0",
      "model_name": "LayoutModel",
      "state": {}
     },
     "7ae63ae6e92b4be2aeaa1baf9fac7be5": {
      "model_module": "@jupyter-widgets/controls",
      "model_module_version": "1.4.0",
      "model_name": "ToggleButtonsModel",
      "state": {
       "_options_labels": [
        "Método SPM",
        "Método de Saville"
       ],
       "button_style": "",
       "icons": [],
       "index": 0,
       "layout": "IPY_MODEL_a136cf117d614a70be8a435bff9bf005",
       "style": "IPY_MODEL_d374785520bc41c88f3e1b41c72db7fd",
       "tooltips": []
      }
     },
     "7aec9bd2101d4bfab8fa3e46a366a5ec": {
      "model_module": "@jupyter-widgets/controls",
      "model_module_version": "1.4.0",
      "model_name": "ProgressStyleModel",
      "state": {
       "description_width": ""
      }
     },
     "7b1ba805405344d0a8fbd16568b634d1": {
      "model_module": "@jupyter-widgets/controls",
      "model_module_version": "1.4.0",
      "model_name": "FloatProgressModel",
      "state": {
       "description": "225.0°:",
       "layout": "IPY_MODEL_258211d7d95045d0aa13e6b3f83a8ec0",
       "max": 1,
       "style": "IPY_MODEL_46bd336b5db6497ab2fd4b16977fed94",
       "value": 1
      }
     },
     "7b62516b0a63402b97ba5c17fecca11d": {
      "model_module": "@jupyter-widgets/controls",
      "model_module_version": "1.4.0",
      "model_name": "TextModel",
      "state": {
       "description": "Outra direção (°):",
       "layout": "IPY_MODEL_e5af2dcd41c143a19c02d6179112f916",
       "style": "IPY_MODEL_388f530fa61f4f378cd7936034b77e3a"
      }
     },
     "7c2d0fb7630b42908d176fcc26439e53": {
      "model_module": "@jupyter-widgets/controls",
      "model_module_version": "1.4.0",
      "model_name": "TabModel",
      "state": {
       "_titles": {
        "0": "Pistas de Vento",
        "1": "Esquema de Cores"
       },
       "children": [
        "IPY_MODEL_60c661a384fd424e9f9cbb1beb91fc66",
        "IPY_MODEL_c68423fbd49c4d3bb0dc9918b8e0804f"
       ],
       "layout": "IPY_MODEL_6e3274536273473eb528ba0f794138d4"
      }
     },
     "7c3bd60c4b644ccca40fabe5ccdaa831": {
      "model_module": "@jupyter-widgets/base",
      "model_module_version": "1.1.0",
      "model_name": "LayoutModel",
      "state": {
       "width": "400px"
      }
     },
     "7c9fc267cc2244848690115859d4cf71": {
      "model_module": "@jupyter-widgets/base",
      "model_module_version": "1.1.0",
      "model_name": "LayoutModel",
      "state": {}
     },
     "7cca65dea36249148866b1dc2bb669be": {
      "model_module": "@jupyter-widgets/controls",
      "model_module_version": "1.4.0",
      "model_name": "ButtonModel",
      "state": {
       "description": "Criar projeto",
       "layout": "IPY_MODEL_956255355be34de288fe3d61cffcb8d0",
       "style": "IPY_MODEL_472abbca006b4875bb4ef7ed5f946427",
       "tooltip": "Cria um novo projeto"
      }
     },
     "7d01e85a68124d66902207a91fc11cc9": {
      "model_module": "@jupyter-widgets/controls",
      "model_module_version": "1.4.0",
      "model_name": "DescriptionStyleModel",
      "state": {
       "description_width": ""
      }
     },
     "7df7406e1cb24ecb854633870927919e": {
      "model_module": "@jupyter-widgets/base",
      "model_module_version": "1.1.0",
      "model_name": "LayoutModel",
      "state": {}
     },
     "7e1de002deaf4d9e96f7dcd91052e041": {
      "model_module": "@jupyter-widgets/base",
      "model_module_version": "1.1.0",
      "model_name": "LayoutModel",
      "state": {}
     },
     "7e246f2aeec146d68bfe4e08765eb940": {
      "model_module": "@jupyter-widgets/controls",
      "model_module_version": "1.4.0",
      "model_name": "ButtonModel",
      "state": {
       "description": "Importar pista(s) de vento já processada(s)",
       "layout": "IPY_MODEL_27c04f3b99244afbb3b40e20c824f57c",
       "style": "IPY_MODEL_c1ffe4c08a7c4dc3b64bd69a16652f4a",
       "tooltip": "Importa pista(s) de vento já processada(s)"
      }
     },
     "7e39554e80834518bf1b3f87b6275b04": {
      "model_module": "@jupyter-widgets/controls",
      "model_module_version": "1.4.0",
      "model_name": "TabModel",
      "state": {
       "_titles": {
        "0": "Projetos",
        "1": "Shapefiles"
       },
       "children": [
        "IPY_MODEL_eac81fbf06aa4839bc3c5f0d913e6cb1",
        "IPY_MODEL_b6547ee7deda4a4ea9948d47a558d8ac"
       ],
       "layout": "IPY_MODEL_18e0d0c8d79a48f080c527cc52287806",
       "selected_index": 1
      }
     },
     "7e7a2388054c4e25b018c08603c3cb5b": {
      "model_module": "@jupyter-widgets/controls",
      "model_module_version": "1.4.0",
      "model_name": "FloatProgressModel",
      "state": {
       "description": "225.0°:",
       "layout": "IPY_MODEL_e5cd8cd68ea04eaaabc0d5505d4e4f2f",
       "max": 1,
       "style": "IPY_MODEL_550adcd0371448418f5e355270d34f87",
       "value": 1
      }
     },
     "7ead5ac6e50d489cb88f1d3a90ba54ca": {
      "model_module": "@jupyter-widgets/controls",
      "model_module_version": "1.4.0",
      "model_name": "TabModel",
      "state": {
       "_titles": {
        "0": "Projetos",
        "1": "Shapefiles"
       },
       "children": [
        "IPY_MODEL_c3334a3421424e1bbb154801114b2b27",
        "IPY_MODEL_73ef9fcffd864ce984729f40667274d4"
       ],
       "layout": "IPY_MODEL_e1a51facdc684d34b2bfddf3a8db4937"
      }
     },
     "7ec136c068bd4388b7e20af61a34cdf7": {
      "model_module": "@jupyter-widgets/base",
      "model_module_version": "1.1.0",
      "model_name": "LayoutModel",
      "state": {}
     },
     "7ec546d0487842a2b2520198a809d539": {
      "model_module": "@jupyter-widgets/controls",
      "model_module_version": "1.4.0",
      "model_name": "DescriptionStyleModel",
      "state": {
       "description_width": "initial"
      }
     },
     "7ee30b1d734d43c2a4efe0a196cc52ed": {
      "model_module": "@jupyter-widgets/controls",
      "model_module_version": "1.4.0",
      "model_name": "ButtonModel",
      "state": {
       "description": "Carregar projeto",
       "layout": "IPY_MODEL_b27ec119c6ad4d818c7e2ef6ade2843f",
       "style": "IPY_MODEL_020ba91ff4484b308c541a75046518f8",
       "tooltip": "Carrega o .csv de um projeto já criado"
      }
     },
     "7f24b20c6c994fa0911e5d3f74cdba4d": {
      "model_module": "@jupyter-widgets/controls",
      "model_module_version": "1.4.0",
      "model_name": "ButtonStyleModel",
      "state": {}
     },
     "7f41dff6dfe5443488182fa56bcd5d5c": {
      "model_module": "@jupyter-widgets/controls",
      "model_module_version": "1.4.0",
      "model_name": "FloatProgressModel",
      "state": {
       "description": "157.5°:",
       "layout": "IPY_MODEL_1f12efea14f14cff951846ada4911caf",
       "max": 1,
       "style": "IPY_MODEL_c06576aea8724d9d9443a4afde0001c5",
       "value": 1
      }
     },
     "7f505198a6454e2492de5d38fc706cd0": {
      "model_module": "@jupyter-widgets/base",
      "model_module_version": "1.1.0",
      "model_name": "LayoutModel",
      "state": {}
     },
     "7f88e9e6734c4ae9940f4525a4f67a58": {
      "model_module": "@jupyter-widgets/base",
      "model_module_version": "1.1.0",
      "model_name": "LayoutModel",
      "state": {}
     },
     "7f9e34fdb37c4ee994f87e78225256ba": {
      "model_module": "@jupyter-widgets/base",
      "model_module_version": "1.1.0",
      "model_name": "LayoutModel",
      "state": {}
     },
     "7faecbb02a5240a89817bacb03798f3b": {
      "model_module": "@jupyter-widgets/controls",
      "model_module_version": "1.4.0",
      "model_name": "FloatProgressModel",
      "state": {
       "description": "315.0°:",
       "layout": "IPY_MODEL_c4b34a4e4dbe4168b3054258486302e3",
       "max": 1,
       "style": "IPY_MODEL_3becd263866f4fccab07e0af14eaf3bf",
       "value": 1
      }
     },
     "7fd4ca58bcd641119b39ff69aa8af309": {
      "model_module": "@jupyter-widgets/base",
      "model_module_version": "1.1.0",
      "model_name": "LayoutModel",
      "state": {}
     },
     "7fe2d7d9d83441ffb42937bc3f3dabd1": {
      "model_module": "@jupyter-widgets/controls",
      "model_module_version": "1.4.0",
      "model_name": "TabModel",
      "state": {
       "_titles": {
        "0": "Métodos",
        "1": "Direções"
       },
       "children": [
        "IPY_MODEL_485f2c5bd1854a99811b0528b66ddbe0",
        "IPY_MODEL_4faec1b67c204397a82369ecc9a5c33b"
       ],
       "layout": "IPY_MODEL_7a8cfb695c4e47289fee9b4615bcc6dc",
       "selected_index": 1
      }
     },
     "801114cb7f054bd8b038edfbef7e682e": {
      "model_module": "@jupyter-widgets/controls",
      "model_module_version": "1.4.0",
      "model_name": "ButtonModel",
      "state": {
       "description": "Criar projeto",
       "layout": "IPY_MODEL_b26824d07b1947f0bb5678b6fc42ed12",
       "style": "IPY_MODEL_8c602ec754a3456691ec6cbc866af7ce",
       "tooltip": "Cria um novo projeto"
      }
     },
     "80daa509ec384b879fa676d5dfe05683": {
      "model_module": "@jupyter-widgets/controls",
      "model_module_version": "1.4.0",
      "model_name": "DescriptionStyleModel",
      "state": {
       "description_width": "initial"
      }
     },
     "815e080332c647dbb314c12d1a56910a": {
      "model_module": "@jupyter-widgets/controls",
      "model_module_version": "1.4.0",
      "model_name": "ButtonStyleModel",
      "state": {}
     },
     "8193ac1a310246cba6f25fd0b5655621": {
      "model_module": "@jupyter-widgets/controls",
      "model_module_version": "1.4.0",
      "model_name": "ToggleButtonsStyleModel",
      "state": {
       "button_width": "",
       "description_width": ""
      }
     },
     "82056fae0ab44c11aa229fa9629051f3": {
      "model_module": "@jupyter-widgets/base",
      "model_module_version": "1.1.0",
      "model_name": "LayoutModel",
      "state": {}
     },
     "82316835a0414080935f601a4a1efdf5": {
      "model_module": "@jupyter-widgets/controls",
      "model_module_version": "1.4.0",
      "model_name": "AccordionModel",
      "state": {
       "_titles": {
        "0": "Pistas de Vento"
       },
       "children": [
        "IPY_MODEL_192e23dfff094c3a8643b6ad2561caf7"
       ],
       "layout": "IPY_MODEL_055e1742de114c4bbc1c3b60ee516749"
      }
     },
     "82403c14bca643c3880602910be99a9d": {
      "model_module": "@jupyter-widgets/controls",
      "model_module_version": "1.4.0",
      "model_name": "SelectMultipleModel",
      "state": {
       "_options_labels": [
        "N (0.0°)",
        "NNE (22.5°)",
        "NE (45.0°)",
        "ENE (67.5°)",
        "E (90.0°)",
        "ESE (112.5°)",
        "SE (135.0°)",
        "SSE (157.5°)",
        "S (180.0°)",
        "SSW (202.5°)",
        "SW (225.0°)",
        "WSW (247.5°)",
        "W (270.0°)",
        "WNW (292.5°)",
        "NW (315.0°)",
        "NNW (337.5°)",
        "N (360.0°)"
       ],
       "description": "Selecione a direção (°) desejada:",
       "index": [],
       "layout": "IPY_MODEL_cd23866cd28a4d289d8dc0f607532520",
       "rows": 5,
       "style": "IPY_MODEL_e994e13bf1984ba48477f4d5b687aa5f"
      }
     },
     "824f5c517ce64141ad80b065a851ffd0": {
      "model_module": "@jupyter-widgets/base",
      "model_module_version": "1.1.0",
      "model_name": "LayoutModel",
      "state": {}
     },
     "8275c791488649288a87c70adba08801": {
      "model_module": "@jupyter-widgets/controls",
      "model_module_version": "1.4.0",
      "model_name": "TabModel",
      "state": {
       "_titles": {
        "0": "Projetos",
        "1": "Shapefiles"
       },
       "children": [
        "IPY_MODEL_c6c47f5ec2104ab5ab9bf0d402eed648",
        "IPY_MODEL_216afbe9a08b45d1a6c8f8d1af8e5bb0"
       ],
       "layout": "IPY_MODEL_c600ba3cc9334d7a8b02b64397e92a66"
      }
     },
     "827888ac038f4345ba50276e4698f95a": {
      "model_module": "@jupyter-widgets/base",
      "model_module_version": "1.1.0",
      "model_name": "LayoutModel",
      "state": {}
     },
     "827bd926499749d8885a3a6d963cf1ea": {
      "model_module": "@jupyter-widgets/base",
      "model_module_version": "1.1.0",
      "model_name": "LayoutModel",
      "state": {}
     },
     "8285b38b92394b8e9cde151fcbcf6fcd": {
      "model_module": "@jupyter-widgets/controls",
      "model_module_version": "1.4.0",
      "model_name": "FloatProgressModel",
      "state": {
       "description": "157.5°:",
       "layout": "IPY_MODEL_17aae115d1184431add6bb2c5a1af872",
       "max": 1,
       "style": "IPY_MODEL_ebd6bb78595c46b3b20b1b4f195bea2b",
       "value": 0.9999999999999862
      }
     },
     "829dfad83149405fbffdae4020e02b11": {
      "model_module": "@jupyter-widgets/controls",
      "model_module_version": "1.4.0",
      "model_name": "SelectMultipleModel",
      "state": {
       "_options_labels": [
        "0.0°",
        "22.5°",
        "45.0°",
        "67.5°",
        "90.0°",
        "112.5°",
        "135.0°",
        "157.5°",
        "180.0°",
        "202.5°",
        "225.0°",
        "247.5°",
        "270.0°",
        "292.5°",
        "315.0°",
        "337.5°"
       ],
       "description": "Selecione a(s) direção(ões) (°) desejada(s):",
       "index": [],
       "layout": "IPY_MODEL_de99d0132fe64ec0b11f05026d2d752b",
       "rows": 5,
       "style": "IPY_MODEL_ce460617b2e849549c32c3b200a27ced"
      }
     },
     "82ad0054923a4b39b15233e0b87a93cb": {
      "model_module": "@jupyter-widgets/controls",
      "model_module_version": "1.4.0",
      "model_name": "SelectMultipleModel",
      "state": {
       "_options_labels": [
        "0.0°",
        "22.5°",
        "45.0°",
        "67.5°",
        "90.0°",
        "112.5°",
        "135.0°",
        "157.5°",
        "180.0°",
        "202.5°",
        "225.0°",
        "247.5°",
        "270.0°",
        "292.5°",
        "315.0°",
        "337.5°"
       ],
       "description": "Selecione a(s) direção(ões) (°) desejada(s):",
       "index": [
        7,
        8,
        9,
        10,
        11,
        12,
        13,
        14,
        15
       ],
       "layout": "IPY_MODEL_c201123060bf431482185dc18c35889d",
       "rows": 5,
       "style": "IPY_MODEL_459dfde8265047cdb14d03fd7dd5b5b7"
      }
     },
     "82ccc1f832054ce1b245eb717db54a56": {
      "model_module": "@jupyter-widgets/controls",
      "model_module_version": "1.4.0",
      "model_name": "AccordionModel",
      "state": {
       "_titles": {
        "0": "Métodos para obtenção dos fetchs"
       },
       "children": [
        "IPY_MODEL_8b6bf7adbe074ffd9540906f90b0f6a7"
       ],
       "layout": "IPY_MODEL_27f278b8839f492aaad479aaaf407252",
       "selected_index": null
      }
     },
     "82eb8fcea59647cda3866bb6be8d842d": {
      "model_module": "@jupyter-widgets/controls",
      "model_module_version": "1.4.0",
      "model_name": "TabModel",
      "state": {
       "_titles": {
        "0": "Projetos",
        "1": "Shapefiles"
       },
       "children": [
        "IPY_MODEL_ebe7a3f2f2884c569a610438f53bc641",
        "IPY_MODEL_ee76d0c62a244d78869d9880d315e485"
       ],
       "layout": "IPY_MODEL_875a4486bc1d4caab484b88137497ce8",
       "selected_index": 1
      }
     },
     "833a1d1842dc4ae8888853b2ca6bf2c9": {
      "model_module": "@jupyter-widgets/base",
      "model_module_version": "1.1.0",
      "model_name": "LayoutModel",
      "state": {
       "width": "30%"
      }
     },
     "834f19245365405f8e1ce071dd357a50": {
      "model_module": "@jupyter-widgets/controls",
      "model_module_version": "1.4.0",
      "model_name": "ButtonModel",
      "state": {
       "description": "Criar projeto",
       "layout": "IPY_MODEL_558f6a5647ae457ab67a973811bff74b",
       "style": "IPY_MODEL_048b3a23d7854b3383a3f20ea7f45694",
       "tooltip": "Cria um novo projeto"
      }
     },
     "8352eb0ff0d84a66a0d3d139df81ff3a": {
      "model_module": "@jupyter-widgets/controls",
      "model_module_version": "1.4.0",
      "model_name": "ButtonStyleModel",
      "state": {}
     },
     "8383860879f042d28220bf5f4e21abf2": {
      "model_module": "@jupyter-widgets/base",
      "model_module_version": "1.1.0",
      "model_name": "LayoutModel",
      "state": {}
     },
     "838d1ad675c247169bc470c37ca54344": {
      "model_module": "@jupyter-widgets/base",
      "model_module_version": "1.1.0",
      "model_name": "LayoutModel",
      "state": {}
     },
     "83c45108868745a69606c7ae849c40f5": {
      "model_module": "@jupyter-widgets/base",
      "model_module_version": "1.1.0",
      "model_name": "LayoutModel",
      "state": {
       "width": "400px"
      }
     },
     "83ca18193c09419b8af192ce342570df": {
      "model_module": "@jupyter-widgets/base",
      "model_module_version": "1.1.0",
      "model_name": "LayoutModel",
      "state": {}
     },
     "84a4ff0134934b68ad8f906dd5c79afa": {
      "model_module": "@jupyter-widgets/controls",
      "model_module_version": "1.4.0",
      "model_name": "ButtonModel",
      "state": {
       "description": "Carregar .shp de malha processada",
       "layout": "IPY_MODEL_1f492c56d5c248b285f2e0ab6c0e1fc6",
       "style": "IPY_MODEL_af240fcd6fcd4ce8b11674467e139520",
       "tooltip": "Carrega um .shp que já teve sua malha processada"
      }
     },
     "84c173f4a1244975a462ddbf8ff71fad": {
      "model_module": "@jupyter-widgets/base",
      "model_module_version": "1.1.0",
      "model_name": "LayoutModel",
      "state": {}
     },
     "84d77d5b78454dab8c5006e8bdbb076d": {
      "model_module": "@jupyter-widgets/controls",
      "model_module_version": "1.4.0",
      "model_name": "DescriptionStyleModel",
      "state": {
       "description_width": ""
      }
     },
     "84e55d90be2b4a558cb81216fbd0f89d": {
      "model_module": "@jupyter-widgets/controls",
      "model_module_version": "1.4.0",
      "model_name": "DescriptionStyleModel",
      "state": {
       "description_width": ""
      }
     },
     "84f284983fc7466e911ab2ea1640fb73": {
      "model_module": "@jupyter-widgets/controls",
      "model_module_version": "1.4.0",
      "model_name": "ButtonStyleModel",
      "state": {}
     },
     "85027c53a7994a969750e8a33893a3e0": {
      "model_module": "@jupyter-widgets/base",
      "model_module_version": "1.1.0",
      "model_name": "LayoutModel",
      "state": {}
     },
     "8535d29e2d984b32aeb088791747f735": {
      "model_module": "@jupyter-widgets/controls",
      "model_module_version": "1.4.0",
      "model_name": "ToggleButtonsStyleModel",
      "state": {
       "button_width": ""
      }
     },
     "8538d27e68094d219582751067ab6712": {
      "model_module": "@jupyter-widgets/controls",
      "model_module_version": "1.4.0",
      "model_name": "DescriptionStyleModel",
      "state": {
       "description_width": ""
      }
     },
     "8573a303a7a44c0abe39fcb365e5394f": {
      "model_module": "@jupyter-widgets/controls",
      "model_module_version": "1.4.0",
      "model_name": "FloatTextModel",
      "state": {
       "description": "Outra direção (°):",
       "layout": "IPY_MODEL_857b4e886aa642daa4179e272d8050ae",
       "step": null,
       "style": "IPY_MODEL_5323b57555a6424eb8f9732b4b1b8be0"
      }
     },
     "857b4e886aa642daa4179e272d8050ae": {
      "model_module": "@jupyter-widgets/base",
      "model_module_version": "1.1.0",
      "model_name": "LayoutModel",
      "state": {}
     },
     "85ba3a150b1f4d9abdc15b3df84c7d1c": {
      "model_module": "@jupyter-widgets/controls",
      "model_module_version": "1.4.0",
      "model_name": "ProgressStyleModel",
      "state": {
       "description_width": ""
      }
     },
     "85bee60d68dd4e36addaefc6b2c88483": {
      "model_module": "@jupyter-widgets/controls",
      "model_module_version": "1.4.0",
      "model_name": "ButtonModel",
      "state": {
       "description": "Carregar .shp",
       "layout": "IPY_MODEL_ea593d65e8e74d1f8fb545613e9f6dfa",
       "style": "IPY_MODEL_68dae31a52614231add96ccc4b1e2ba7",
       "tooltip": "Carrega um .shp para processamento"
      }
     },
     "85ccea0e82c94915ab01f543f45e3caa": {
      "model_module": "@jupyter-widgets/controls",
      "model_module_version": "1.4.0",
      "model_name": "FloatProgressModel",
      "state": {
       "description": "22.5°:",
       "layout": "IPY_MODEL_e36ae2a2ac954647802749d71eda1f0c",
       "max": 1,
       "style": "IPY_MODEL_ea6745e6057244f290c9cd1be4fdc762",
       "value": 1
      }
     },
     "85ffaff8dead40078798773a6ec72979": {
      "model_module": "@jupyter-widgets/controls",
      "model_module_version": "1.4.0",
      "model_name": "ButtonModel",
      "state": {
       "description": "Importar .shp",
       "layout": "IPY_MODEL_95956a86b0524ee0bdd92a8fb3dc5734",
       "style": "IPY_MODEL_3a4d501fbded40ae9d1de388c131510a",
       "tooltip": "Importa um .shp para processamento"
      }
     },
     "861d324135714b0d95d11caa77639432": {
      "model_module": "@jupyter-widgets/controls",
      "model_module_version": "1.4.0",
      "model_name": "DescriptionStyleModel",
      "state": {
       "description_width": ""
      }
     },
     "86689237a8854cdeba68cfb33d2a233e": {
      "model_module": "@jupyter-widgets/base",
      "model_module_version": "1.1.0",
      "model_name": "LayoutModel",
      "state": {
       "width": "30%"
      }
     },
     "867b328aecfe488da10829ae2d90a842": {
      "model_module": "@jupyter-widgets/base",
      "model_module_version": "1.1.0",
      "model_name": "LayoutModel",
      "state": {}
     },
     "86dfa823ef2742c3a15beb0b512395e4": {
      "model_module": "@jupyter-widgets/controls",
      "model_module_version": "1.4.0",
      "model_name": "ButtonStyleModel",
      "state": {}
     },
     "870d1d062889465fbe8275664da0cdd9": {
      "model_module": "@jupyter-widgets/controls",
      "model_module_version": "1.4.0",
      "model_name": "DescriptionStyleModel",
      "state": {
       "description_width": ""
      }
     },
     "8710350303804e4494c21400199940d0": {
      "model_module": "@jupyter-widgets/controls",
      "model_module_version": "1.4.0",
      "model_name": "TabModel",
      "state": {
       "_titles": {
        "0": "Malha"
       },
       "children": [
        "IPY_MODEL_54957c65d6d84f05a041987e9957f97f"
       ],
       "layout": "IPY_MODEL_210aa3fb82c14f809efe4ca8acab3ca1"
      }
     },
     "871e3cb7c2d441aa9b79e9cd1b5791c7": {
      "model_module": "@jupyter-widgets/controls",
      "model_module_version": "1.4.0",
      "model_name": "RadioButtonsModel",
      "state": {
       "_options_labels": [
        "Georreferenciado",
        "Não georreferenciado"
       ],
       "description": "Georreferenciamento:",
       "index": 0,
       "layout": "IPY_MODEL_ad0935cb2c4e4ab8bb9641e9b829ee79",
       "style": "IPY_MODEL_f19201072a0c41a0a1ed5f4be9a646e9"
      }
     },
     "875a4486bc1d4caab484b88137497ce8": {
      "model_module": "@jupyter-widgets/base",
      "model_module_version": "1.1.0",
      "model_name": "LayoutModel",
      "state": {}
     },
     "877a6d6870d54ec8b624ec4e73398ffd": {
      "model_module": "@jupyter-widgets/base",
      "model_module_version": "1.1.0",
      "model_name": "LayoutModel",
      "state": {}
     },
     "878852065f6e4e8290ba7c3ff4d2201c": {
      "model_module": "@jupyter-widgets/base",
      "model_module_version": "1.1.0",
      "model_name": "LayoutModel",
      "state": {}
     },
     "87e7be2df4b84453af4e008155c8bee3": {
      "model_module": "@jupyter-widgets/base",
      "model_module_version": "1.1.0",
      "model_name": "LayoutModel",
      "state": {
       "width": "400px"
      }
     },
     "87ee86a15fd642d893167f361b548350": {
      "model_module": "@jupyter-widgets/base",
      "model_module_version": "1.1.0",
      "model_name": "LayoutModel",
      "state": {}
     },
     "87f116f504a54f5791346e9c561bd927": {
      "model_module": "@jupyter-widgets/controls",
      "model_module_version": "1.4.0",
      "model_name": "FloatProgressModel",
      "state": {
       "description": "22.5°:",
       "layout": "IPY_MODEL_fd6f3304173847f791715262d5eec9d3",
       "max": 1,
       "style": "IPY_MODEL_f27502eff89840238d394c7c8dd4984d",
       "value": 1
      }
     },
     "880c8d31092945c8a90397908837039a": {
      "model_module": "@jupyter-widgets/base",
      "model_module_version": "1.1.0",
      "model_name": "LayoutModel",
      "state": {}
     },
     "882131bf5dd9415e8270c2d46610453b": {
      "model_module": "@jupyter-widgets/controls",
      "model_module_version": "1.4.0",
      "model_name": "ButtonStyleModel",
      "state": {}
     },
     "883925638e86493c9b8fad398523b3cd": {
      "model_module": "@jupyter-widgets/base",
      "model_module_version": "1.1.0",
      "model_name": "LayoutModel",
      "state": {}
     },
     "883dd99455f346a7869c6047e5f5e88a": {
      "model_module": "@jupyter-widgets/controls",
      "model_module_version": "1.4.0",
      "model_name": "SelectMultipleModel",
      "state": {
       "_options_labels": [
        "0.0°",
        "22.5°",
        "45.0°",
        "67.5°",
        "90.0°",
        "112.5°",
        "135.0°",
        "157.5°",
        "180.0°",
        "202.5°",
        "225.0°",
        "247.5°",
        "270.0°",
        "292.5°",
        "315.0°",
        "337.5°"
       ],
       "index": [
        0,
        1,
        2,
        3,
        4
       ],
       "layout": "IPY_MODEL_ce639e88065646c8a674d843569aecf7",
       "rows": 5,
       "style": "IPY_MODEL_060286e3d7b844569467fbe57f5dde1a"
      }
     },
     "88427498457742b3868efc0f73483619": {
      "model_module": "@jupyter-widgets/controls",
      "model_module_version": "1.4.0",
      "model_name": "ProgressStyleModel",
      "state": {
       "description_width": ""
      }
     },
     "88b21c6a617c47f58017065708e39779": {
      "model_module": "@jupyter-widgets/controls",
      "model_module_version": "1.4.0",
      "model_name": "ButtonModel",
      "state": {
       "description": "Importar .shp",
       "layout": "IPY_MODEL_d7f11494f88b4403a5c10b905ddee0f2",
       "style": "IPY_MODEL_1519fe3e24b340ee80450c7b9a1b979e",
       "tooltip": "Importa um .shp para processamento"
      }
     },
     "88b26bf371394788a273800bead60ade": {
      "model_module": "@jupyter-widgets/controls",
      "model_module_version": "1.4.0",
      "model_name": "ToggleButtonsModel",
      "state": {
       "_options_labels": [
        "Uma direção",
        "Todas as direções",
        "Outra direção"
       ],
       "button_style": "",
       "icons": [],
       "index": 0,
       "layout": "IPY_MODEL_4a738ed3a2ca460a9d04e9dd4139c2c8",
       "style": "IPY_MODEL_2048c212c06d49949ce4df44760b4889",
       "tooltips": []
      }
     },
     "88b48ce92fe3437086d2d312190926bc": {
      "model_module": "@jupyter-widgets/controls",
      "model_module_version": "1.4.0",
      "model_name": "ButtonStyleModel",
      "state": {}
     },
     "88cdb27841e54f8887d6ac4d4d497f5b": {
      "model_module": "@jupyter-widgets/controls",
      "model_module_version": "1.4.0",
      "model_name": "AccordionModel",
      "state": {
       "_titles": {
        "0": "Escolha da(s) pista(s) de vento"
       },
       "children": [
        "IPY_MODEL_7326793a28894f2889f7db1131bc2a69"
       ],
       "layout": "IPY_MODEL_0f83a3aacfe848fc80df53b648db0c3f"
      }
     },
     "88e1464f5dfd4c39a172f97993d7c70b": {
      "model_module": "@jupyter-widgets/controls",
      "model_module_version": "1.4.0",
      "model_name": "SelectModel",
      "state": {
       "_options_labels": [
        "67.5°"
       ],
       "description": "Direção (°):",
       "index": 0,
       "layout": "IPY_MODEL_c448ac00436c4a8abc419834e68ac7a4",
       "style": "IPY_MODEL_914710e468f54711a5e8e6b719826314"
      }
     },
     "88f45a0176324300a506b1824e52df0d": {
      "model_module": "@jupyter-widgets/base",
      "model_module_version": "1.1.0",
      "model_name": "LayoutModel",
      "state": {}
     },
     "8931ed7760ba4352b06fd70dda0c0c9a": {
      "model_module": "@jupyter-widgets/controls",
      "model_module_version": "1.4.0",
      "model_name": "RadioButtonsModel",
      "state": {
       "_options_labels": [
        "Georreferenciado",
        "Não georreferenciado"
       ],
       "description": "Georreferenciamento:",
       "index": 0,
       "layout": "IPY_MODEL_58a99e1eb3854b918730694528b8a4b4",
       "style": "IPY_MODEL_9d38720fb1174e3aa60f041e0e35aeca"
      }
     },
     "8944d7347f88477da5521c899e10e64f": {
      "model_module": "@jupyter-widgets/controls",
      "model_module_version": "1.4.0",
      "model_name": "ButtonStyleModel",
      "state": {}
     },
     "895d66ac2ea142f7a1ddf8536c21f652": {
      "model_module": "@jupyter-widgets/base",
      "model_module_version": "1.1.0",
      "model_name": "LayoutModel",
      "state": {}
     },
     "89643481798c491689f11322968d0ab9": {
      "model_module": "@jupyter-widgets/base",
      "model_module_version": "1.1.0",
      "model_name": "LayoutModel",
      "state": {}
     },
     "8969737ef0ca47e685db03783645b219": {
      "model_module": "@jupyter-widgets/base",
      "model_module_version": "1.1.0",
      "model_name": "LayoutModel",
      "state": {}
     },
     "896a7e7493004bef80dd60a37db25f9d": {
      "model_module": "@jupyter-widgets/base",
      "model_module_version": "1.1.0",
      "model_name": "LayoutModel",
      "state": {}
     },
     "897b09339b5240018b39f707c7feda09": {
      "model_module": "@jupyter-widgets/controls",
      "model_module_version": "1.4.0",
      "model_name": "TabModel",
      "state": {
       "_titles": {
        "0": "Métodos",
        "1": "Direções"
       },
       "children": [
        "IPY_MODEL_9151af11cbd34dcba6b0b4a14c919ba3",
        "IPY_MODEL_c29d06f0d3ab45b5a4dbe8f4bde3a92b"
       ],
       "layout": "IPY_MODEL_17b27395de5640a8a899b9c7459548e3"
      }
     },
     "89b47273803c438b9ddf9d9901f3f523": {
      "model_module": "@jupyter-widgets/controls",
      "model_module_version": "1.4.0",
      "model_name": "ButtonStyleModel",
      "state": {}
     },
     "89ccf881b62a4d2bb4ed0dad2725abbd": {
      "model_module": "@jupyter-widgets/controls",
      "model_module_version": "1.4.0",
      "model_name": "ButtonStyleModel",
      "state": {}
     },
     "8a07e08bc52d42f5907e9341ee7057b3": {
      "model_module": "@jupyter-widgets/controls",
      "model_module_version": "1.4.0",
      "model_name": "AccordionModel",
      "state": {
       "_titles": {
        "0": "Criar projeto",
        "1": "Carregar projeto"
       },
       "children": [
        "IPY_MODEL_51d8665083b343239a95abcfd7848ab2",
        "IPY_MODEL_6f38d6648c604a2eaa93af4e1e764e00"
       ],
       "layout": "IPY_MODEL_01aec6e8a8764273bcb7e30326f66087"
      }
     },
     "8a3e41585d994c12af54bf38455fa70c": {
      "model_module": "@jupyter-widgets/controls",
      "model_module_version": "1.4.0",
      "model_name": "ButtonStyleModel",
      "state": {}
     },
     "8a44d60c30f7406993a44edb1553a4bb": {
      "model_module": "@jupyter-widgets/base",
      "model_module_version": "1.1.0",
      "model_name": "LayoutModel",
      "state": {
       "width": "30%"
      }
     },
     "8a801f65bc0d48b3a33333f77ceb8086": {
      "model_module": "@jupyter-widgets/controls",
      "model_module_version": "1.4.0",
      "model_name": "ButtonStyleModel",
      "state": {}
     },
     "8aa45b465f1f4f2a995112973483a361": {
      "model_module": "@jupyter-widgets/base",
      "model_module_version": "1.1.0",
      "model_name": "LayoutModel",
      "state": {}
     },
     "8ae5f9ac0d074b9aab3d703f1d6d4bd1": {
      "model_module": "@jupyter-widgets/base",
      "model_module_version": "1.1.0",
      "model_name": "LayoutModel",
      "state": {}
     },
     "8aef4441424c44f3b453d4f667998c53": {
      "model_module": "@jupyter-widgets/base",
      "model_module_version": "1.1.0",
      "model_name": "LayoutModel",
      "state": {}
     },
     "8b2070fdaaaf4e41bdfb9a32ed7fbc4f": {
      "model_module": "@jupyter-widgets/controls",
      "model_module_version": "1.4.0",
      "model_name": "TabModel",
      "state": {
       "_titles": {
        "0": "Pistas de Vento",
        "1": "Esquema de Cores"
       },
       "children": [
        "IPY_MODEL_246a827940f748ff96827bd4c3a471e0",
        "IPY_MODEL_e88885e5bcc04629a295ead4faa301e7"
       ],
       "layout": "IPY_MODEL_ca9924530b024b05b334120642f8275c"
      }
     },
     "8b6bf7adbe074ffd9540906f90b0f6a7": {
      "model_module": "@jupyter-widgets/controls",
      "model_module_version": "1.4.0",
      "model_name": "ToggleButtonsModel",
      "state": {
       "_options_labels": [
        "Método SPM",
        "Método de Saville"
       ],
       "button_style": "",
       "icons": [],
       "index": 0,
       "layout": "IPY_MODEL_c90958b4f21e4e089b70ed928df73dd1",
       "style": "IPY_MODEL_5a906a544aea41bba28698aca525413d",
       "tooltips": []
      }
     },
     "8b913ab012434c31acef685317b40c8b": {
      "model_module": "@jupyter-widgets/base",
      "model_module_version": "1.1.0",
      "model_name": "LayoutModel",
      "state": {}
     },
     "8bb883295db64a6abedc63105ff1f4b4": {
      "model_module": "@jupyter-widgets/base",
      "model_module_version": "1.1.0",
      "model_name": "LayoutModel",
      "state": {}
     },
     "8bc5e31f32b54c2183bc54bcc7a292f0": {
      "model_module": "@jupyter-widgets/base",
      "model_module_version": "1.1.0",
      "model_name": "LayoutModel",
      "state": {}
     },
     "8bd5d2932d8b400c9fc8dd4ef7659de3": {
      "model_module": "@jupyter-widgets/controls",
      "model_module_version": "1.4.0",
      "model_name": "DescriptionStyleModel",
      "state": {
       "description_width": "initial"
      }
     },
     "8c602ec754a3456691ec6cbc866af7ce": {
      "model_module": "@jupyter-widgets/controls",
      "model_module_version": "1.4.0",
      "model_name": "ButtonStyleModel",
      "state": {}
     },
     "8c8425a0b0ac4965bb17b66738160ea1": {
      "model_module": "@jupyter-widgets/controls",
      "model_module_version": "1.4.0",
      "model_name": "ButtonStyleModel",
      "state": {}
     },
     "8c9716cd2ce3439487fab5c95c12cb98": {
      "model_module": "@jupyter-widgets/controls",
      "model_module_version": "1.4.0",
      "model_name": "DescriptionStyleModel",
      "state": {
       "description_width": "initial"
      }
     },
     "8ccbdc9451fa4cc495f5703fd6fad3d2": {
      "model_module": "@jupyter-widgets/controls",
      "model_module_version": "1.4.0",
      "model_name": "ButtonStyleModel",
      "state": {}
     },
     "8cceb590ce8f49aaa5dab928e1cc6f90": {
      "model_module": "@jupyter-widgets/controls",
      "model_module_version": "1.4.0",
      "model_name": "FloatProgressModel",
      "state": {
       "description": "180.0°:",
       "layout": "IPY_MODEL_34ab71bbade0470f925ee489164d1e97",
       "max": 1,
       "style": "IPY_MODEL_5019020c435c48568e6d7a7534984bcf",
       "value": 1
      }
     },
     "8ce6d39e82a94f1e9407b9c4a4b7e4fe": {
      "model_module": "@jupyter-widgets/controls",
      "model_module_version": "1.4.0",
      "model_name": "FloatTextModel",
      "state": {
       "layout": "IPY_MODEL_f53607d858334b4aab7e6dc23ef5dfa3",
       "step": null,
       "style": "IPY_MODEL_c4973635980143e2866243587f1aceac",
       "value": 200
      }
     },
     "8d16727fa0e94aaebea26b97cbc50890": {
      "model_module": "@jupyter-widgets/controls",
      "model_module_version": "1.4.0",
      "model_name": "ButtonStyleModel",
      "state": {}
     },
     "8d2537dea9f847f3a51a8c53caeb02a6": {
      "model_module": "@jupyter-widgets/controls",
      "model_module_version": "1.4.0",
      "model_name": "ButtonModel",
      "state": {
       "description": "Importar pista(s) de vento processada(s)",
       "layout": "IPY_MODEL_4db529fa72cd4f43b75e3629359d024c",
       "style": "IPY_MODEL_3689fae183aa497dad11173d41c6ab8a",
       "tooltip": "Importa pista(s) de vento processada(s)"
      }
     },
     "8d28554b0442432aa436ffcefbf610a9": {
      "model_module": "@jupyter-widgets/base",
      "model_module_version": "1.1.0",
      "model_name": "LayoutModel",
      "state": {}
     },
     "8d439994feba4091a072806ee56ca0e2": {
      "model_module": "@jupyter-widgets/base",
      "model_module_version": "1.1.0",
      "model_name": "LayoutModel",
      "state": {}
     },
     "8d45726fe39248dbaefb0a8e3ebbd478": {
      "model_module": "@jupyter-widgets/controls",
      "model_module_version": "1.4.0",
      "model_name": "ButtonModel",
      "state": {
       "description": "Criar projeto",
       "layout": "IPY_MODEL_1575f19806d744d3ac1f16ed4de57a95",
       "style": "IPY_MODEL_4b6c8402add94f11b483a2293c707ea2",
       "tooltip": "Cria um novo projeto"
      }
     },
     "8d558a92eeae47dea31458339ca19ef4": {
      "model_module": "@jupyter-widgets/base",
      "model_module_version": "1.1.0",
      "model_name": "LayoutModel",
      "state": {}
     },
     "8d727c3509fc4cefb7b11a03c3428524": {
      "model_module": "@jupyter-widgets/base",
      "model_module_version": "1.1.0",
      "model_name": "LayoutModel",
      "state": {}
     },
     "8dd9368952c446c599df32d9c475db12": {
      "model_module": "@jupyter-widgets/controls",
      "model_module_version": "1.4.0",
      "model_name": "AccordionModel",
      "state": {
       "_titles": {
        "0": "Escolha do esquema de cores desejado"
       },
       "children": [
        "IPY_MODEL_dab1d3053fa24266a7efda27f3066f21"
       ],
       "layout": "IPY_MODEL_7ab730932dd04392b8716b525ec1b9f8"
      }
     },
     "8ddadfb4161b43bcb9c0364bc1ad3f8d": {
      "model_module": "@jupyter-widgets/base",
      "model_module_version": "1.1.0",
      "model_name": "LayoutModel",
      "state": {}
     },
     "8e421c0306bb43f399d574c69f549b96": {
      "model_module": "@jupyter-widgets/base",
      "model_module_version": "1.1.0",
      "model_name": "LayoutModel",
      "state": {}
     },
     "8e4d4aa01f0440458e085949f23b6462": {
      "model_module": "@jupyter-widgets/controls",
      "model_module_version": "1.4.0",
      "model_name": "DescriptionStyleModel",
      "state": {
       "description_width": "initial"
      }
     },
     "8e6a867357d54600bfb6a05869cb9dc0": {
      "model_module": "@jupyter-widgets/base",
      "model_module_version": "1.1.0",
      "model_name": "LayoutModel",
      "state": {}
     },
     "8e81e504a5c34d8c9ae5936d7a792719": {
      "model_module": "@jupyter-widgets/controls",
      "model_module_version": "1.4.0",
      "model_name": "ButtonModel",
      "state": {
       "description": "Carregar .shp",
       "layout": "IPY_MODEL_ac07f4acb55843c094a77d78af51c3e2",
       "style": "IPY_MODEL_df3051f5b5614ebab4f3320b595d9de7",
       "tooltip": "Carrega um .shp para processamento"
      }
     },
     "8e8a50eb31f94be19a4dba49c0a25e32": {
      "model_module": "@jupyter-widgets/controls",
      "model_module_version": "1.4.0",
      "model_name": "ButtonStyleModel",
      "state": {}
     },
     "8ebdf3f0731b4deeb95736b3f6f36cd5": {
      "model_module": "@jupyter-widgets/base",
      "model_module_version": "1.1.0",
      "model_name": "LayoutModel",
      "state": {}
     },
     "8ed787d1c5ca4315901134b586ceba4b": {
      "model_module": "@jupyter-widgets/controls",
      "model_module_version": "1.4.0",
      "model_name": "FloatTextModel",
      "state": {
       "description": "Outra direção (°):",
       "layout": "IPY_MODEL_c83c76acfe864e8eba8f87ead25bec9c",
       "step": null,
       "style": "IPY_MODEL_1543c8d8db64441490a8df14ce957c94"
      }
     },
     "8f3ad28ac2624715885f018aa661aeac": {
      "model_module": "@jupyter-widgets/controls",
      "model_module_version": "1.4.0",
      "model_name": "AccordionModel",
      "state": {
       "_titles": {
        "0": "Criar projeto",
        "1": "Carregar projeto"
       },
       "children": [
        "IPY_MODEL_c6723dd663f84119a1aa326210907e5b",
        "IPY_MODEL_059ce139039944d785da3c0e401d262b"
       ],
       "layout": "IPY_MODEL_7f88e9e6734c4ae9940f4525a4f67a58",
       "selected_index": 1
      }
     },
     "8fab4a7856a54dd8ae73e14bdf1c7d53": {
      "model_module": "@jupyter-widgets/controls",
      "model_module_version": "1.4.0",
      "model_name": "TabModel",
      "state": {
       "_titles": {
        "0": "Pistas de Vento",
        "1": "DPI da Imagem",
        "2": "Esquema de Cores"
       },
       "children": [
        "IPY_MODEL_f0f858672276416ab3107b83e1e272c8",
        "IPY_MODEL_46f485a69af543139472e7dc095a9ce5",
        "IPY_MODEL_d666afe1d563471f9d31223e93cbc7c6"
       ],
       "layout": "IPY_MODEL_1d90961de24b4cdaaac385f91d77c07b"
      }
     },
     "90302fb103804995b36db036fd78103b": {
      "model_module": "@jupyter-widgets/base",
      "model_module_version": "1.1.0",
      "model_name": "LayoutModel",
      "state": {
       "width": "400px"
      }
     },
     "908068af7dbc44b6a3710d49c4813907": {
      "model_module": "@jupyter-widgets/controls",
      "model_module_version": "1.4.0",
      "model_name": "DescriptionStyleModel",
      "state": {
       "description_width": "initial"
      }
     },
     "90bcc47e700147f9b16dcfc756a17434": {
      "model_module": "@jupyter-widgets/controls",
      "model_module_version": "1.4.0",
      "model_name": "ButtonModel",
      "state": {
       "description": "Importar pista(s) de vento já processada(s)",
       "layout": "IPY_MODEL_c366f589282d4cfe8503f8f159b833ed",
       "style": "IPY_MODEL_3a9354643b4d4627830791390c6cab80",
       "tooltip": "Importa pista(s) de vento já processada(s)"
      }
     },
     "90e0f3ef82c84db7be5c8e371d992821": {
      "model_module": "@jupyter-widgets/base",
      "model_module_version": "1.1.0",
      "model_name": "LayoutModel",
      "state": {}
     },
     "9101ceba60d24c7f9fe451fcf5f0f020": {
      "model_module": "@jupyter-widgets/controls",
      "model_module_version": "1.4.0",
      "model_name": "AccordionModel",
      "state": {
       "_titles": {
        "0": "Malha (m)"
       },
       "children": [
        "IPY_MODEL_e8bca603d61041eb984abe23ffa33b8e"
       ],
       "layout": "IPY_MODEL_1667ba771b234057ace215f1fe075880"
      }
     },
     "914710e468f54711a5e8e6b719826314": {
      "model_module": "@jupyter-widgets/controls",
      "model_module_version": "1.4.0",
      "model_name": "DescriptionStyleModel",
      "state": {
       "description_width": ""
      }
     },
     "9151af11cbd34dcba6b0b4a14c919ba3": {
      "model_module": "@jupyter-widgets/controls",
      "model_module_version": "1.4.0",
      "model_name": "AccordionModel",
      "state": {
       "_titles": {
        "0": "Métodos para obtenção dos fetchs"
       },
       "children": [
        "IPY_MODEL_d8e3ed27325d4315b70039f0265970b2"
       ],
       "layout": "IPY_MODEL_65c4adcf52be4ee8ac2c990c5cef3f65"
      }
     },
     "916dc871b5cc40c39e2497e8a71ca1e3": {
      "model_module": "@jupyter-widgets/base",
      "model_module_version": "1.1.0",
      "model_name": "LayoutModel",
      "state": {}
     },
     "91c82cfff8dc4639b920cb0066bbbcdc": {
      "model_module": "@jupyter-widgets/base",
      "model_module_version": "1.1.0",
      "model_name": "LayoutModel",
      "state": {}
     },
     "91cec474987341b6ac209c4e7e0771f1": {
      "model_module": "@jupyter-widgets/base",
      "model_module_version": "1.1.0",
      "model_name": "LayoutModel",
      "state": {}
     },
     "91e502d42bf948dca42c5f3d0104253c": {
      "model_module": "@jupyter-widgets/controls",
      "model_module_version": "1.4.0",
      "model_name": "SelectModel",
      "state": {
       "_options_labels": [
        "0.0°",
        "180.0°",
        "337.5°",
        "67.5°"
       ],
       "description": "Direção (°):",
       "index": 2,
       "layout": "IPY_MODEL_95b6fb5fd0ee41f9b279b22dd5c4d697",
       "style": "IPY_MODEL_84e55d90be2b4a558cb81216fbd0f89d"
      }
     },
     "920629af8e104f20b7ab4eadd4bcb4ac": {
      "model_module": "@jupyter-widgets/controls",
      "model_module_version": "1.4.0",
      "model_name": "AccordionModel",
      "state": {
       "_titles": {
        "0": "Malha (m)"
       },
       "children": [
        "IPY_MODEL_66b93d9c54ce4099bd8c96aa6dfc6813"
       ],
       "layout": "IPY_MODEL_bcb2833df3eb43f4af2ae14c33581276"
      }
     },
     "92485d402d06493480ed005407f77cc3": {
      "model_module": "@jupyter-widgets/base",
      "model_module_version": "1.1.0",
      "model_name": "LayoutModel",
      "state": {}
     },
     "92685ccfa2ba4c7d80c9418a3fddaa53": {
      "model_module": "@jupyter-widgets/base",
      "model_module_version": "1.1.0",
      "model_name": "LayoutModel",
      "state": {
       "width": "400px"
      }
     },
     "927d6d2927154fd89247f6c0fabd6905": {
      "model_module": "@jupyter-widgets/controls",
      "model_module_version": "1.4.0",
      "model_name": "ToggleButtonsStyleModel",
      "state": {
       "button_width": ""
      }
     },
     "9298c19ae3844857901e40ac7df7381b": {
      "model_module": "@jupyter-widgets/controls",
      "model_module_version": "1.4.0",
      "model_name": "AccordionModel",
      "state": {
       "_titles": {
        "0": "Malha (m)"
       },
       "children": [
        "IPY_MODEL_1bf31893fdc547e49a706ab3fd22f7be"
       ],
       "layout": "IPY_MODEL_5acdbc3ab58848d087b44bb487e18243"
      }
     },
     "92e29ca6044c4f19bca5c4a9958a9769": {
      "model_module": "@jupyter-widgets/base",
      "model_module_version": "1.1.0",
      "model_name": "LayoutModel",
      "state": {}
     },
     "92f083d58ac949158facade4fbd57330": {
      "model_module": "@jupyter-widgets/base",
      "model_module_version": "1.1.0",
      "model_name": "LayoutModel",
      "state": {}
     },
     "92f9fd02352d40cba208e58adcfdbdea": {
      "model_module": "@jupyter-widgets/controls",
      "model_module_version": "1.4.0",
      "model_name": "ToggleButtonsStyleModel",
      "state": {
       "button_width": "",
       "description_width": ""
      }
     },
     "932e664314384851b78c9e522f6d8dc1": {
      "model_module": "@jupyter-widgets/controls",
      "model_module_version": "1.4.0",
      "model_name": "FloatTextModel",
      "state": {
       "layout": "IPY_MODEL_1ab3d834591f46b39ff2b8f5dc67185d",
       "step": null,
       "style": "IPY_MODEL_668002556fe34204ab48d401835c4727"
      }
     },
     "933988086b9b430e95a91a9c328509d9": {
      "model_module": "@jupyter-widgets/controls",
      "model_module_version": "1.4.0",
      "model_name": "FloatProgressModel",
      "state": {
       "description": "360.0°:",
       "layout": "IPY_MODEL_95f8e8f3a07b4f0c91d9db196069955d",
       "max": 1,
       "style": "IPY_MODEL_a89f8d2bb6334d3382478894bd6fd4a3",
       "value": 1
      }
     },
     "93b028921f574146837732852c7d6852": {
      "model_module": "@jupyter-widgets/controls",
      "model_module_version": "1.4.0",
      "model_name": "AccordionModel",
      "state": {
       "_titles": {
        "0": "Criar projeto",
        "1": "Carregar projeto"
       },
       "children": [
        "IPY_MODEL_7cca65dea36249148866b1dc2bb669be",
        "IPY_MODEL_b998cb7e156a43c182fd22dd1be7af3b"
       ],
       "layout": "IPY_MODEL_517317cdef124e6b97eb4c08302d0541"
      }
     },
     "93c37eee4f0d434ba492b55defe1784a": {
      "model_module": "@jupyter-widgets/base",
      "model_module_version": "1.1.0",
      "model_name": "LayoutModel",
      "state": {}
     },
     "93e698abb2d245d3b3dd7948ba1364e6": {
      "model_module": "@jupyter-widgets/base",
      "model_module_version": "1.1.0",
      "model_name": "LayoutModel",
      "state": {}
     },
     "93e8c11b51244cdd8a00989b3a5d7e81": {
      "model_module": "@jupyter-widgets/controls",
      "model_module_version": "1.4.0",
      "model_name": "TextModel",
      "state": {
       "description": "Outra direção (°):",
       "layout": "IPY_MODEL_883925638e86493c9b8fad398523b3cd",
       "style": "IPY_MODEL_5a7db09f401842a6871e2ab686f26f45"
      }
     },
     "9410829ad474468090d46c2388fee38e": {
      "model_module": "@jupyter-widgets/base",
      "model_module_version": "1.1.0",
      "model_name": "LayoutModel",
      "state": {
       "width": "400px"
      }
     },
     "9421e535518f40699abfd8d899b70c73": {
      "model_module": "@jupyter-widgets/controls",
      "model_module_version": "1.4.0",
      "model_name": "DropdownModel",
      "state": {
       "_options_labels": [
        "Accent",
        "afmhot",
        "autumn",
        "binary",
        "Blues",
        "bone",
        "BrBG",
        "brg",
        "BuGn",
        "BuPu",
        "bwr",
        "CMRmap",
        "cool",
        "coolwarm",
        "copper",
        "cubehelix",
        "Dark2",
        "flag",
        "gist_earth",
        "gist_gray",
        "gist_heat",
        "gist_ncar",
        "gist_rainbow",
        "gist_stern",
        "gist_yarg",
        "GnBu",
        "gnuplot",
        "gnuplot2",
        "gray",
        "Greens",
        "Greys",
        "hot",
        "hsv",
        "inferno",
        "jet",
        "magma",
        "nipy_spectral",
        "ocean",
        "Oranges",
        "OrRd",
        "Paired",
        "Pastel1",
        "Pastel2",
        "pink",
        "PiYG",
        "plasma",
        "PRGn",
        "prism",
        "PuBu",
        "PuBuGn",
        "PuOr",
        "PuRd",
        "Purples",
        "rainbow",
        "RdBu",
        "RdGy",
        "RdPu",
        "RdYlBu",
        "RdYlGn",
        "Reds",
        "seismic",
        "Set1",
        "Set2",
        "Set3",
        "Spectral",
        "spring",
        "summer",
        "tab10",
        "tab20",
        "tab20b",
        "tab20c",
        "terrain",
        "viridis",
        "winter",
        "Wistia",
        "YlGn",
        "YlGnBu",
        "YlOrBr",
        "YlOrRd"
       ],
       "description": "Selecione o esquema de cores desejado para a imagem:",
       "index": 32,
       "layout": "IPY_MODEL_03dcbcf3ea01492daa421b4a4cd6ab92",
       "style": "IPY_MODEL_0644506bc908488b99f1d8d402812494"
      }
     },
     "9472d289cd354634bf7a4997146054bb": {
      "model_module": "@jupyter-widgets/base",
      "model_module_version": "1.1.0",
      "model_name": "LayoutModel",
      "state": {}
     },
     "947c815ae7354f74b726a9b23b531059": {
      "model_module": "@jupyter-widgets/base",
      "model_module_version": "1.1.0",
      "model_name": "LayoutModel",
      "state": {}
     },
     "94b3cd58d123441e85a8ea7a9cf674d0": {
      "model_module": "@jupyter-widgets/base",
      "model_module_version": "1.1.0",
      "model_name": "LayoutModel",
      "state": {}
     },
     "94ea526ed6cb418699a1b0aac947e4cb": {
      "model_module": "@jupyter-widgets/base",
      "model_module_version": "1.1.0",
      "model_name": "LayoutModel",
      "state": {}
     },
     "9513f394792b4c4494818756c89a5193": {
      "model_module": "@jupyter-widgets/base",
      "model_module_version": "1.1.0",
      "model_name": "LayoutModel",
      "state": {}
     },
     "951ca24dfa8945ccb7c75c300a873ed2": {
      "model_module": "@jupyter-widgets/base",
      "model_module_version": "1.1.0",
      "model_name": "LayoutModel",
      "state": {}
     },
     "9525d4df55c84a42ac9cf0e4e5c1d41f": {
      "model_module": "@jupyter-widgets/controls",
      "model_module_version": "1.4.0",
      "model_name": "TextModel",
      "state": {
       "description": "Outra direção (°):",
       "layout": "IPY_MODEL_044f4bd97198403b8e40418a5df02721",
       "style": "IPY_MODEL_71e4abe999ca46adb30cfa85dc988e39"
      }
     },
     "953f2cb475d84201b1f75980cd327b92": {
      "model_module": "@jupyter-widgets/controls",
      "model_module_version": "1.4.0",
      "model_name": "ToggleButtonsModel",
      "state": {
       "_options_labels": [
        "Método SPM",
        "Método de Saville"
       ],
       "button_style": "",
       "icons": [],
       "index": 1,
       "layout": "IPY_MODEL_314d88a674b94621bbfb7e99689df107",
       "style": "IPY_MODEL_6f8d4dd5d8194366b40a40db8cd8e029",
       "tooltips": []
      }
     },
     "9561b8ff74614f65830e90fbf9a92efe": {
      "model_module": "@jupyter-widgets/base",
      "model_module_version": "1.1.0",
      "model_name": "LayoutModel",
      "state": {}
     },
     "956255355be34de288fe3d61cffcb8d0": {
      "model_module": "@jupyter-widgets/base",
      "model_module_version": "1.1.0",
      "model_name": "LayoutModel",
      "state": {}
     },
     "957497d7538f49c18ec6ea534eb0a12b": {
      "model_module": "@jupyter-widgets/controls",
      "model_module_version": "1.4.0",
      "model_name": "ButtonStyleModel",
      "state": {}
     },
     "95767143018044ad96233379d80a04eb": {
      "model_module": "@jupyter-widgets/base",
      "model_module_version": "1.1.0",
      "model_name": "LayoutModel",
      "state": {
       "width": "400px"
      }
     },
     "9585ad82f2b2435f8391c9ab5a075065": {
      "model_module": "@jupyter-widgets/base",
      "model_module_version": "1.1.0",
      "model_name": "LayoutModel",
      "state": {}
     },
     "95956a86b0524ee0bdd92a8fb3dc5734": {
      "model_module": "@jupyter-widgets/base",
      "model_module_version": "1.1.0",
      "model_name": "LayoutModel",
      "state": {}
     },
     "959a7ab74b014c38aed6a5a03d53106e": {
      "model_module": "@jupyter-widgets/controls",
      "model_module_version": "1.4.0",
      "model_name": "ButtonStyleModel",
      "state": {}
     },
     "95b6fb5fd0ee41f9b279b22dd5c4d697": {
      "model_module": "@jupyter-widgets/base",
      "model_module_version": "1.1.0",
      "model_name": "LayoutModel",
      "state": {}
     },
     "95bf1baf85b9414e8bfa8e01f567a6ce": {
      "model_module": "@jupyter-widgets/controls",
      "model_module_version": "1.4.0",
      "model_name": "DescriptionStyleModel",
      "state": {
       "description_width": "initial"
      }
     },
     "95e72b5cf4e24b899e62a4fa9f2f1fd7": {
      "model_module": "@jupyter-widgets/base",
      "model_module_version": "1.1.0",
      "model_name": "LayoutModel",
      "state": {}
     },
     "95f8e8f3a07b4f0c91d9db196069955d": {
      "model_module": "@jupyter-widgets/base",
      "model_module_version": "1.1.0",
      "model_name": "LayoutModel",
      "state": {}
     },
     "95fdf96bccd2481599f90000102c680b": {
      "model_module": "@jupyter-widgets/controls",
      "model_module_version": "1.4.0",
      "model_name": "AccordionModel",
      "state": {
       "_titles": {
        "0": "Métodos para obtenção de pistas de vento"
       },
       "children": [
        "IPY_MODEL_c4bfee0f30274f6a858af1013c6638a1"
       ],
       "layout": "IPY_MODEL_56899c07db5245a2bff03930b7bbb9e3"
      }
     },
     "965fa7945d6744d5b390d4e8f6aaf481": {
      "model_module": "@jupyter-widgets/base",
      "model_module_version": "1.1.0",
      "model_name": "LayoutModel",
      "state": {}
     },
     "9684e48e39df41e49666abaa0546870b": {
      "model_module": "@jupyter-widgets/controls",
      "model_module_version": "1.4.0",
      "model_name": "TabModel",
      "state": {
       "_titles": {
        "0": "Métodos",
        "1": "Direções"
       },
       "children": [
        "IPY_MODEL_4a206df4a56846489d4681a68d6cef00",
        "IPY_MODEL_17e2cf8f4fcf491d91887297c4afaa5d"
       ],
       "layout": "IPY_MODEL_af2aefead44b43ce962c88fcf73e2979"
      }
     },
     "97012f798d144208b5d5198bf10196f3": {
      "model_module": "@jupyter-widgets/controls",
      "model_module_version": "1.4.0",
      "model_name": "TabModel",
      "state": {
       "_titles": {
        "0": "Métodos",
        "1": "Direções"
       },
       "children": [
        "IPY_MODEL_77741cd57dd54d618a534200fd6b741d",
        "IPY_MODEL_ffa5fb9d8ca749e29b02a2595c651e82"
       ],
       "layout": "IPY_MODEL_9472d289cd354634bf7a4997146054bb"
      }
     },
     "974590a28fd64c7db2fde2dae042505c": {
      "model_module": "@jupyter-widgets/controls",
      "model_module_version": "1.4.0",
      "model_name": "AccordionModel",
      "state": {
       "_titles": {
        "0": "Carregar .shp",
        "1": "Carregar .shp de malha processada"
       },
       "children": [
        "IPY_MODEL_fa3cf2dbdf474f23a37cdfec17411407",
        "IPY_MODEL_55650d98189b4b159b18049710a00f8a"
       ],
       "layout": "IPY_MODEL_f395bb5cec7f44fcb550761e9d75aef6"
      }
     },
     "9752b41860254900948caa6bb9f54fba": {
      "model_module": "@jupyter-widgets/controls",
      "model_module_version": "1.4.0",
      "model_name": "ButtonStyleModel",
      "state": {}
     },
     "9760142efd6e4549b9e00ebd13aede51": {
      "model_module": "@jupyter-widgets/base",
      "model_module_version": "1.1.0",
      "model_name": "LayoutModel",
      "state": {}
     },
     "9763d42f559045b38ebd79bfe4d88882": {
      "model_module": "@jupyter-widgets/base",
      "model_module_version": "1.1.0",
      "model_name": "LayoutModel",
      "state": {
       "width": "500px"
      }
     },
     "977b8de6d09c4d82a4d1dcaf69cdf652": {
      "model_module": "@jupyter-widgets/controls",
      "model_module_version": "1.4.0",
      "model_name": "ProgressStyleModel",
      "state": {
       "description_width": ""
      }
     },
     "978aca332c9344dba2cbc5f753f15a1a": {
      "model_module": "@jupyter-widgets/controls",
      "model_module_version": "1.4.0",
      "model_name": "TabModel",
      "state": {
       "_titles": {
        "0": "Malha"
       },
       "children": [
        "IPY_MODEL_c1e1963e836244ba84fc9075eade3457"
       ],
       "layout": "IPY_MODEL_37ddacbdcc82497db24168a073e6d76d"
      }
     },
     "9792dfe9da12405ba69741190eabb553": {
      "model_module": "@jupyter-widgets/controls",
      "model_module_version": "1.4.0",
      "model_name": "ProgressStyleModel",
      "state": {
       "description_width": ""
      }
     },
     "97adfa520ad542f1a36d52315a775596": {
      "model_module": "@jupyter-widgets/controls",
      "model_module_version": "1.4.0",
      "model_name": "AccordionModel",
      "state": {
       "_titles": {
        "0": "Escolha da(s) pista(s) de vento"
       },
       "children": [
        "IPY_MODEL_fa26f83e6d0b4b7db05cd6b5817c5f45"
       ],
       "layout": "IPY_MODEL_6f7393488ed7420db4ae4324bd7e4ca8"
      }
     },
     "97b0c20f543349f1a7561c6a7461014d": {
      "model_module": "@jupyter-widgets/base",
      "model_module_version": "1.1.0",
      "model_name": "LayoutModel",
      "state": {}
     },
     "97eb54e613d44223b0fdc0e46c771226": {
      "model_module": "@jupyter-widgets/base",
      "model_module_version": "1.1.0",
      "model_name": "LayoutModel",
      "state": {}
     },
     "98710126526740a4b5d9194c733f87f3": {
      "model_module": "@jupyter-widgets/controls",
      "model_module_version": "1.4.0",
      "model_name": "ButtonStyleModel",
      "state": {}
     },
     "98819988926948c7a062839b4ed3b8a5": {
      "model_module": "@jupyter-widgets/base",
      "model_module_version": "1.1.0",
      "model_name": "LayoutModel",
      "state": {}
     },
     "98eaa2955de343e68976d542ff853104": {
      "model_module": "@jupyter-widgets/controls",
      "model_module_version": "1.4.0",
      "model_name": "SelectModel",
      "state": {
       "_options_labels": [
        "0.0°",
        "180.0°",
        "337.5°",
        "67.5°"
       ],
       "description": "Direção (°):",
       "index": 0,
       "layout": "IPY_MODEL_f7c3b75727a7411e91b3da868282b346",
       "style": "IPY_MODEL_1e48a511cbab4b19b1815c4c7fff0f7c"
      }
     },
     "99013c5e7a7846ff9309269d98d54df5": {
      "model_module": "@jupyter-widgets/controls",
      "model_module_version": "1.4.0",
      "model_name": "DropdownModel",
      "state": {
       "_options_labels": [
        "Accent",
        "afmhot",
        "autumn",
        "binary",
        "Blues",
        "bone",
        "BrBG",
        "brg",
        "BuGn",
        "BuPu",
        "bwr",
        "CMRmap",
        "cool",
        "coolwarm",
        "copper",
        "cubehelix",
        "Dark2",
        "flag",
        "gist_earth",
        "gist_gray",
        "gist_heat",
        "gist_ncar",
        "gist_rainbow",
        "gist_stern",
        "gist_yarg",
        "GnBu",
        "gnuplot",
        "gnuplot2",
        "gray",
        "Greens",
        "Greys",
        "hot",
        "hsv",
        "inferno",
        "jet",
        "magma",
        "nipy_spectral",
        "ocean",
        "Oranges",
        "OrRd",
        "Paired",
        "Pastel1",
        "Pastel2",
        "pink",
        "PiYG",
        "plasma",
        "PRGn",
        "prism",
        "PuBu",
        "PuBuGn",
        "PuOr",
        "PuRd",
        "Purples",
        "rainbow",
        "RdBu",
        "RdGy",
        "RdPu",
        "RdYlBu",
        "RdYlGn",
        "Reds",
        "seismic",
        "Set1",
        "Set2",
        "Set3",
        "Spectral",
        "spring",
        "summer",
        "tab10",
        "tab20",
        "tab20b",
        "tab20c",
        "terrain",
        "viridis",
        "winter",
        "Wistia",
        "YlGn",
        "YlGnBu",
        "YlOrBr",
        "YlOrRd"
       ],
       "description": "Selecione o esquema de cores desejado para a imagem:",
       "index": 36,
       "layout": "IPY_MODEL_f77c54556bef4b558100db5346a29b30",
       "style": "IPY_MODEL_a44dfc5213464926b68498502625b24a"
      }
     },
     "99779416507e47e0b721d5d9aa1c8c1b": {
      "model_module": "@jupyter-widgets/controls",
      "model_module_version": "1.4.0",
      "model_name": "ButtonModel",
      "state": {
       "description": "Importar .shp",
       "layout": "IPY_MODEL_f516105056f34d2aa190614af6be9084",
       "style": "IPY_MODEL_fa5c11272b0d42d1bed090408366a199",
       "tooltip": "Importa um .shp para processamento"
      }
     },
     "997bf87b06bb47a08c3bb464ff1ae260": {
      "model_module": "@jupyter-widgets/controls",
      "model_module_version": "1.4.0",
      "model_name": "ButtonStyleModel",
      "state": {}
     },
     "99cd9e69e5884a9fbdeb7a4665d25f30": {
      "model_module": "@jupyter-widgets/base",
      "model_module_version": "1.1.0",
      "model_name": "LayoutModel",
      "state": {}
     },
     "99f5e441757a48e898af11d6b2d45d47": {
      "model_module": "@jupyter-widgets/base",
      "model_module_version": "1.1.0",
      "model_name": "LayoutModel",
      "state": {}
     },
     "9a3502f0a52a4054acffc0eb8d406522": {
      "model_module": "@jupyter-widgets/controls",
      "model_module_version": "1.4.0",
      "model_name": "DropdownModel",
      "state": {
       "_options_labels": [
        "Accent",
        "afmhot",
        "autumn",
        "binary",
        "Blues",
        "bone",
        "BrBG",
        "brg",
        "BuGn",
        "BuPu",
        "bwr",
        "cmo.algae",
        "cmo.amp",
        "cmo.balance",
        "cmo.curl",
        "cmo.deep",
        "cmo.delta",
        "cmo.dense",
        "cmo.gray",
        "cmo.haline",
        "cmo.ice",
        "cmo.matter",
        "cmo.oxy",
        "cmo.phase",
        "cmo.solar",
        "cmo.speed",
        "cmo.tempo",
        "cmo.thermal",
        "cmo.turbid",
        "CMRmap",
        "cool",
        "coolwarm",
        "copper",
        "cubehelix",
        "Dark2",
        "flag",
        "gist_earth",
        "gist_gray",
        "gist_heat",
        "gist_ncar",
        "gist_rainbow",
        "gist_stern",
        "gist_yarg",
        "GnBu",
        "gnuplot",
        "gnuplot2",
        "gray",
        "Greens",
        "Greys",
        "hot",
        "hsv",
        "inferno",
        "jet",
        "magma",
        "nipy_spectral",
        "ocean",
        "Oranges",
        "OrRd",
        "Paired",
        "Pastel1",
        "Pastel2",
        "pink",
        "PiYG",
        "plasma",
        "PRGn",
        "prism",
        "PuBu",
        "PuBuGn",
        "PuOr",
        "PuRd",
        "Purples",
        "rainbow",
        "RdBu",
        "RdGy",
        "RdPu",
        "RdYlBu",
        "RdYlGn",
        "Reds",
        "seismic",
        "Set1",
        "Set2",
        "Set3",
        "Spectral",
        "spring",
        "summer",
        "tab10",
        "tab20",
        "tab20b",
        "tab20c",
        "terrain",
        "viridis",
        "winter",
        "Wistia",
        "YlGn",
        "YlGnBu",
        "YlOrBr",
        "YlOrRd"
       ],
       "description": "Selecione o esquema de cores desejado para a imagem:",
       "index": 54,
       "layout": "IPY_MODEL_9763d42f559045b38ebd79bfe4d88882",
       "style": "IPY_MODEL_b3383e22c1174e51ba6c5e12607c793a"
      }
     },
     "9a84dca702b94cef97afd00d28cf5f2d": {
      "model_module": "@jupyter-widgets/base",
      "model_module_version": "1.1.0",
      "model_name": "LayoutModel",
      "state": {}
     },
     "9a994be10e364f8492f51837f785638f": {
      "model_module": "@jupyter-widgets/base",
      "model_module_version": "1.1.0",
      "model_name": "LayoutModel",
      "state": {
       "width": "30%"
      }
     },
     "9aa5e4f47b234d7ea8f727d4ae4b9780": {
      "model_module": "@jupyter-widgets/controls",
      "model_module_version": "1.4.0",
      "model_name": "FloatProgressModel",
      "state": {
       "description": "315.00°:",
       "layout": "IPY_MODEL_c51d863b350d4e5faf211d91f3ff9d98",
       "max": 1,
       "style": "IPY_MODEL_9792dfe9da12405ba69741190eabb553",
       "value": 1
      }
     },
     "9abf897183a94b32a68241fb075723fb": {
      "model_module": "@jupyter-widgets/base",
      "model_module_version": "1.1.0",
      "model_name": "LayoutModel",
      "state": {}
     },
     "9ac7bfa8a604465787616de400f64b30": {
      "model_module": "@jupyter-widgets/base",
      "model_module_version": "1.1.0",
      "model_name": "LayoutModel",
      "state": {}
     },
     "9aec5797a85f4414a546510a5dd4af58": {
      "model_module": "@jupyter-widgets/base",
      "model_module_version": "1.1.0",
      "model_name": "LayoutModel",
      "state": {}
     },
     "9af50d4553214035898681ff6f80de4c": {
      "model_module": "@jupyter-widgets/base",
      "model_module_version": "1.1.0",
      "model_name": "LayoutModel",
      "state": {}
     },
     "9b0ab8548c4a4a8e81780567472280f8": {
      "model_module": "@jupyter-widgets/base",
      "model_module_version": "1.1.0",
      "model_name": "LayoutModel",
      "state": {}
     },
     "9b423b6a487e4f3c98870b4bd1f7f6b2": {
      "model_module": "@jupyter-widgets/controls",
      "model_module_version": "1.4.0",
      "model_name": "ProgressStyleModel",
      "state": {
       "description_width": ""
      }
     },
     "9b46107e783e4d42913041c469fe98d0": {
      "model_module": "@jupyter-widgets/base",
      "model_module_version": "1.1.0",
      "model_name": "LayoutModel",
      "state": {
       "width": "400px"
      }
     },
     "9b6500b1aeaa4b1baaab4168da799a78": {
      "model_module": "@jupyter-widgets/controls",
      "model_module_version": "1.4.0",
      "model_name": "SelectModel",
      "state": {
       "_options_labels": [
        "0.0°"
       ],
       "description": "Direção (°):",
       "index": 0,
       "layout": "IPY_MODEL_617479056e9c4a5e993a4172e0bfcb85",
       "style": "IPY_MODEL_0c78453a1bae48e9aee22a052a38e3d0"
      }
     },
     "9b8a9ee5ad4643f4a3f9342eb713fe4e": {
      "model_module": "@jupyter-widgets/controls",
      "model_module_version": "1.4.0",
      "model_name": "DescriptionStyleModel",
      "state": {
       "description_width": ""
      }
     },
     "9bb263467b524565b46a0014b82fa398": {
      "model_module": "@jupyter-widgets/controls",
      "model_module_version": "1.4.0",
      "model_name": "AccordionModel",
      "state": {
       "_titles": {
        "0": "Criar projeto",
        "1": "Carregar projeto"
       },
       "children": [
        "IPY_MODEL_11f373f235d1450589237d6931637ec9",
        "IPY_MODEL_bb258d74539f43019fb3c3ac33f403cf"
       ],
       "layout": "IPY_MODEL_04943e43136b47fc9bf6afc7a2c09829"
      }
     },
     "9bbe5e09153349e5949324845aa6ca3a": {
      "model_module": "@jupyter-widgets/base",
      "model_module_version": "1.1.0",
      "model_name": "LayoutModel",
      "state": {
       "width": "30%"
      }
     },
     "9c391714e262470b8d589a21731bbb24": {
      "model_module": "@jupyter-widgets/base",
      "model_module_version": "1.1.0",
      "model_name": "LayoutModel",
      "state": {}
     },
     "9c6db58cb9db483d94b8f3ecd45ec482": {
      "model_module": "@jupyter-widgets/controls",
      "model_module_version": "1.4.0",
      "model_name": "ProgressStyleModel",
      "state": {
       "description_width": ""
      }
     },
     "9cb9f0905a4740108a2bd7df9f1ea2b1": {
      "model_module": "@jupyter-widgets/controls",
      "model_module_version": "1.4.0",
      "model_name": "DescriptionStyleModel",
      "state": {
       "description_width": "initial"
      }
     },
     "9cd170443e3c49999cc612c84b88dfee": {
      "model_module": "@jupyter-widgets/controls",
      "model_module_version": "1.4.0",
      "model_name": "TabModel",
      "state": {
       "_titles": {
        "0": "Projetos",
        "1": "Shapefiles"
       },
       "children": [
        "IPY_MODEL_3cabea7a089b43f2b657c3881aeed4d6",
        "IPY_MODEL_c7eee63db4b3445e95737de73dda0c7b"
       ],
       "layout": "IPY_MODEL_b66f2594997943b0a4b3116a602b9ef4"
      }
     },
     "9cdf4767fe88400cba7c83f8df060d12": {
      "model_module": "@jupyter-widgets/controls",
      "model_module_version": "1.4.0",
      "model_name": "TabModel",
      "state": {
       "_titles": {
        "0": "Projetos",
        "1": "Shapefiles"
       },
       "children": [
        "IPY_MODEL_47acb1d0d6f74fba9068b377661e7c30",
        "IPY_MODEL_117dd147687745e48021e8878331c4ba"
       ],
       "layout": "IPY_MODEL_3a7ebb4df9ba4d099289d3d0eb0566df"
      }
     },
     "9cfb74ab36e34df087a9657dc22463b1": {
      "model_module": "@jupyter-widgets/controls",
      "model_module_version": "1.4.0",
      "model_name": "DropdownModel",
      "state": {
       "_options_labels": [
        "Accent",
        "afmhot",
        "autumn",
        "binary",
        "Blues",
        "bone",
        "BrBG",
        "brg",
        "BuGn",
        "BuPu",
        "bwr",
        "CMRmap",
        "cool",
        "coolwarm",
        "copper",
        "cubehelix",
        "Dark2",
        "flag",
        "gist_earth",
        "gist_gray",
        "gist_heat",
        "gist_ncar",
        "gist_rainbow",
        "gist_stern",
        "gist_yarg",
        "GnBu",
        "gnuplot",
        "gnuplot2",
        "gray",
        "Greens",
        "Greys",
        "hot",
        "hsv",
        "inferno",
        "jet",
        "magma",
        "nipy_spectral",
        "ocean",
        "Oranges",
        "OrRd",
        "Paired",
        "Pastel1",
        "Pastel2",
        "pink",
        "PiYG",
        "plasma",
        "PRGn",
        "prism",
        "PuBu",
        "PuBuGn",
        "PuOr",
        "PuRd",
        "Purples",
        "rainbow",
        "RdBu",
        "RdGy",
        "RdPu",
        "RdYlBu",
        "RdYlGn",
        "Reds",
        "seismic",
        "Set1",
        "Set2",
        "Set3",
        "Spectral",
        "spring",
        "summer",
        "tab10",
        "tab20",
        "tab20b",
        "tab20c",
        "terrain",
        "viridis",
        "winter",
        "Wistia",
        "YlGn",
        "YlGnBu",
        "YlOrBr",
        "YlOrRd"
       ],
       "description": "Selecione o esquema de cores desejado para a imagem:",
       "index": 36,
       "layout": "IPY_MODEL_da812ba19de4465686f6846335a4f647",
       "style": "IPY_MODEL_e5ed148f92ef441fb8afb5fb6dcd2712"
      }
     },
     "9d095f5139ed48abbd76d16092316939": {
      "model_module": "@jupyter-widgets/controls",
      "model_module_version": "1.4.0",
      "model_name": "DescriptionStyleModel",
      "state": {
       "description_width": "initial"
      }
     },
     "9d38720fb1174e3aa60f041e0e35aeca": {
      "model_module": "@jupyter-widgets/controls",
      "model_module_version": "1.4.0",
      "model_name": "DescriptionStyleModel",
      "state": {
       "description_width": "initial"
      }
     },
     "9d46cdf2608a466dab5ad404e2449194": {
      "model_module": "@jupyter-widgets/controls",
      "model_module_version": "1.4.0",
      "model_name": "AccordionModel",
      "state": {
       "_titles": {
        "0": "Importar .shp",
        "1": "Importar .shp de malha processada"
       },
       "children": [
        "IPY_MODEL_c6346f75e55949ca9a33f48ab9861141",
        "IPY_MODEL_ac641de7b3ad4b6c9c3a9e1aee542847"
       ],
       "layout": "IPY_MODEL_425418493453451caddb88b4cc4b112b"
      }
     },
     "9d6024c23327420caca4ecb9f0f5d479": {
      "model_module": "@jupyter-widgets/controls",
      "model_module_version": "1.4.0",
      "model_name": "DescriptionStyleModel",
      "state": {
       "description_width": ""
      }
     },
     "9e28f2af2b554dbbac593c8fc7e3a432": {
      "model_module": "@jupyter-widgets/base",
      "model_module_version": "1.1.0",
      "model_name": "LayoutModel",
      "state": {}
     },
     "9e2c5b80d263441d84317e36f707bce6": {
      "model_module": "@jupyter-widgets/base",
      "model_module_version": "1.1.0",
      "model_name": "LayoutModel",
      "state": {}
     },
     "9e740b4c735c47538269decd1b40f84f": {
      "model_module": "@jupyter-widgets/base",
      "model_module_version": "1.1.0",
      "model_name": "LayoutModel",
      "state": {}
     },
     "9e7d15677ff54c4b949053d2bd375152": {
      "model_module": "@jupyter-widgets/controls",
      "model_module_version": "1.4.0",
      "model_name": "DescriptionStyleModel",
      "state": {
       "description_width": ""
      }
     },
     "9e7d3ad21bff4283b7c3d333228d0ddf": {
      "model_module": "@jupyter-widgets/controls",
      "model_module_version": "1.4.0",
      "model_name": "TabModel",
      "state": {
       "_titles": {
        "0": "Projetos",
        "1": "Shapefiles"
       },
       "children": [
        "IPY_MODEL_6131485159ec4fa4bba8e677b11286b5",
        "IPY_MODEL_10f31c3ec1b7482f9788e94e46223517"
       ],
       "layout": "IPY_MODEL_63a8f87c0e7b411a908ff8897318f4ee",
       "selected_index": 1
      }
     },
     "9e8dcc0ab41c41fba1a001a8a8b22f54": {
      "model_module": "@jupyter-widgets/base",
      "model_module_version": "1.1.0",
      "model_name": "LayoutModel",
      "state": {}
     },
     "9e98a68d010a4829ae3333edcd5268a4": {
      "model_module": "@jupyter-widgets/controls",
      "model_module_version": "1.4.0",
      "model_name": "FloatTextModel",
      "state": {
       "description": "Outra direção (°):",
       "layout": "IPY_MODEL_3ba5c4bc504248c59ee86a353a5001d6",
       "step": null,
       "style": "IPY_MODEL_4c96a056445d4f8cb4cc8576c8f34f3f"
      }
     },
     "9eb6d0005b8f409fa26edd7ba694d95a": {
      "model_module": "@jupyter-widgets/controls",
      "model_module_version": "1.4.0",
      "model_name": "TabModel",
      "state": {
       "_titles": {
        "0": "Métodos",
        "1": "Direções"
       },
       "children": [
        "IPY_MODEL_0e144c71c9d142cf859f4d496f3a8986",
        "IPY_MODEL_a9c377cc67d345f8baa0b68340955cd7"
       ],
       "layout": "IPY_MODEL_87ee86a15fd642d893167f361b548350",
       "selected_index": 1
      }
     },
     "9ec7e74d2cff416590af8067aa9d0d42": {
      "model_module": "@jupyter-widgets/base",
      "model_module_version": "1.1.0",
      "model_name": "LayoutModel",
      "state": {}
     },
     "9ee2ead00d1342f7ad5e13bc4be34306": {
      "model_module": "@jupyter-widgets/controls",
      "model_module_version": "1.4.0",
      "model_name": "FloatTextModel",
      "state": {
       "description": "Outra direção (°):",
       "layout": "IPY_MODEL_92f083d58ac949158facade4fbd57330",
       "step": null,
       "style": "IPY_MODEL_428ba4d642d94702b81dff39823bd67f"
      }
     },
     "9ef04e77e89945f7a78256a0fa1c44f5": {
      "model_module": "@jupyter-widgets/base",
      "model_module_version": "1.1.0",
      "model_name": "LayoutModel",
      "state": {}
     },
     "9ef0ecb5a1e64b5db8bd4f58cbef06b7": {
      "model_module": "@jupyter-widgets/controls",
      "model_module_version": "1.4.0",
      "model_name": "FloatProgressModel",
      "state": {
       "description": "0.0°:",
       "layout": "IPY_MODEL_94ea526ed6cb418699a1b0aac947e4cb",
       "max": 1,
       "style": "IPY_MODEL_1b8929b33efa4a96833cb3ed2847a3f2",
       "value": 1
      }
     },
     "9ef30b4cd4374eae8e481774992cbd0c": {
      "model_module": "@jupyter-widgets/base",
      "model_module_version": "1.1.0",
      "model_name": "LayoutModel",
      "state": {}
     },
     "9f4f5e56a07c4c2fb95ed659888eb219": {
      "model_module": "@jupyter-widgets/controls",
      "model_module_version": "1.4.0",
      "model_name": "AccordionModel",
      "state": {
       "_titles": {
        "0": "Modelo para obtenção dos fetchs:",
        "1": "Direções desejadas:"
       },
       "children": [
        "IPY_MODEL_01b0d7acac58438c91cb884927659b82",
        "IPY_MODEL_4887c170b0eb4e49911c3e08fb02d200"
       ],
       "layout": "IPY_MODEL_d3f51a0cf8934c6fae9d669a287253c4",
       "selected_index": 1
      }
     },
     "9f5993926d204d2ca72c34cf9126c199": {
      "model_module": "@jupyter-widgets/controls",
      "model_module_version": "1.4.0",
      "model_name": "ButtonStyleModel",
      "state": {}
     },
     "9f732186aa8b461a9c4cb567e93f5381": {
      "model_module": "@jupyter-widgets/base",
      "model_module_version": "1.1.0",
      "model_name": "LayoutModel",
      "state": {}
     },
     "9f8f1a70ef4c47639a5281013ed217b4": {
      "model_module": "@jupyter-widgets/controls",
      "model_module_version": "1.4.0",
      "model_name": "DropdownModel",
      "state": {
       "_options_labels": [
        "binary",
        "Blues",
        "brg",
        "BuGn",
        "cool",
        "cubehelix",
        "gist_earth",
        "gist_ncar",
        "gist_rainbow",
        "gnuplot",
        "gnuplot2",
        "hsv",
        "jet",
        "magma",
        "nipy_spectral",
        "ocean",
        "plasma",
        "rainbow",
        "Spectral",
        "terrain",
        "winter"
       ],
       "description": "Selecione o esquema de cores desejado:",
       "index": 12,
       "layout": "IPY_MODEL_b027af1bebde464c9b176172d8658d60",
       "style": "IPY_MODEL_bacffb90fdbe43208425c16ab61cb175"
      }
     },
     "9fedefb046104c80aed8f003753e567e": {
      "model_module": "@jupyter-widgets/base",
      "model_module_version": "1.1.0",
      "model_name": "LayoutModel",
      "state": {
       "width": "30%"
      }
     },
     "a00daef98d354001bc269c0b16ffaa09": {
      "model_module": "@jupyter-widgets/base",
      "model_module_version": "1.1.0",
      "model_name": "LayoutModel",
      "state": {
       "width": "30%"
      }
     },
     "a04658dbd654415cae39d2b7c5675851": {
      "model_module": "@jupyter-widgets/controls",
      "model_module_version": "1.4.0",
      "model_name": "DescriptionStyleModel",
      "state": {
       "description_width": "initial"
      }
     },
     "a049ad5fd98d41d9a3091c773b43ac44": {
      "model_module": "@jupyter-widgets/controls",
      "model_module_version": "1.4.0",
      "model_name": "DescriptionStyleModel",
      "state": {
       "description_width": "initial"
      }
     },
     "a07802b64ef24825b1e52d7d2d6dc6b3": {
      "model_module": "@jupyter-widgets/controls",
      "model_module_version": "1.4.0",
      "model_name": "ButtonModel",
      "state": {
       "description": "Importar projeto",
       "layout": "IPY_MODEL_c5fb11d4605f426ca1f32b149bdacad5",
       "style": "IPY_MODEL_49b88e30f04c4f259e8ae27f5d4ddc29",
       "tooltip": "Importa o .csv de um projeto já criado"
      }
     },
     "a0a0752366764d8c9a72f7fcdaa747d0": {
      "model_module": "@jupyter-widgets/controls",
      "model_module_version": "1.4.0",
      "model_name": "FloatProgressModel",
      "state": {
       "description": "180.00°:",
       "layout": "IPY_MODEL_f4a232e728374283816dcb674efcab61",
       "max": 1,
       "style": "IPY_MODEL_b982ee68b98e4f5db369003250e2d535",
       "value": 1
      }
     },
     "a0ddc1f0ec5d49a5a0aaea37fa60c95c": {
      "model_module": "@jupyter-widgets/controls",
      "model_module_version": "1.4.0",
      "model_name": "TextModel",
      "state": {
       "description": "Outra direção (°):",
       "layout": "IPY_MODEL_07e0a0158a754a6fa896da6ddc6caa5a",
       "style": "IPY_MODEL_c9c2b5b9c9f24103bd5d7dbe2e5072ba"
      }
     },
     "a0e29b59380d4ed2a277a82886d0a1b1": {
      "model_module": "@jupyter-widgets/controls",
      "model_module_version": "1.4.0",
      "model_name": "TabModel",
      "state": {
       "_titles": {
        "0": "Pistas de Vento",
        "1": "Esquema de Cores"
       },
       "children": [
        "IPY_MODEL_fb3693e110934a5a99ced93b092ce6ce",
        "IPY_MODEL_4f2ab8cd5576436f8a178be92d68983f"
       ],
       "layout": "IPY_MODEL_2c7cd7aff6094036a5f68ac0da867244",
       "selected_index": 1
      }
     },
     "a101db574b3648a099d39eb5b85b4605": {
      "model_module": "@jupyter-widgets/controls",
      "model_module_version": "1.4.0",
      "model_name": "FloatProgressModel",
      "state": {
       "description": "247.5°:",
       "layout": "IPY_MODEL_6e3a41336f0b4019935fc95b51976943",
       "max": 1,
       "style": "IPY_MODEL_e9de3ba9bd44492ba3b8c79b7f9cc6a4",
       "value": 1
      }
     },
     "a12e9353c12c49eba0f09f2242a78368": {
      "model_module": "@jupyter-widgets/controls",
      "model_module_version": "1.4.0",
      "model_name": "DescriptionStyleModel",
      "state": {
       "description_width": "initial"
      }
     },
     "a136cf117d614a70be8a435bff9bf005": {
      "model_module": "@jupyter-widgets/base",
      "model_module_version": "1.1.0",
      "model_name": "LayoutModel",
      "state": {}
     },
     "a172a1e049c342a8a8ca1dbd3ca4b8f4": {
      "model_module": "@jupyter-widgets/controls",
      "model_module_version": "1.4.0",
      "model_name": "AccordionModel",
      "state": {
       "_titles": {
        "0": "Modelo para obtenção dos fetchs:",
        "1": "Direções desejadas:"
       },
       "children": [
        "IPY_MODEL_58908f04c4a34cea90b9721203acf4d5",
        "IPY_MODEL_b3f7a10d50904495a9aff9077fb826f2"
       ],
       "layout": "IPY_MODEL_1b53df199bc74b22973c5d9d50df4552",
       "selected_index": 1
      }
     },
     "a1a3326bd51049f9aad581d1c4205ac9": {
      "model_module": "@jupyter-widgets/controls",
      "model_module_version": "1.4.0",
      "model_name": "DescriptionStyleModel",
      "state": {
       "description_width": ""
      }
     },
     "a1a6669f65b54575a8c3c0565a308760": {
      "model_module": "@jupyter-widgets/controls",
      "model_module_version": "1.4.0",
      "model_name": "TabModel",
      "state": {
       "_titles": {
        "0": "Pistas de Vento",
        "1": "Esquema de Cores"
       },
       "children": [
        "IPY_MODEL_f397c51259954bc0971443ee4b8f071d",
        "IPY_MODEL_2de44e9daeb440279ff2b23147958756"
       ],
       "layout": "IPY_MODEL_9e28f2af2b554dbbac593c8fc7e3a432"
      }
     },
     "a1c73ba7f56047ffade772724f47c9e9": {
      "model_module": "@jupyter-widgets/controls",
      "model_module_version": "1.4.0",
      "model_name": "DescriptionStyleModel",
      "state": {
       "description_width": "initial"
      }
     },
     "a1f426dff38349859fdb5c83d0441e29": {
      "model_module": "@jupyter-widgets/controls",
      "model_module_version": "1.4.0",
      "model_name": "FloatProgressModel",
      "state": {
       "description": "157.50°:",
       "layout": "IPY_MODEL_ad87770079c24969bf78e962a89f5e15",
       "max": 1,
       "style": "IPY_MODEL_4791146a04b2464bb050e70c5490cca0",
       "value": 1
      }
     },
     "a20d4eed3e8640caa7124d31807d6760": {
      "model_module": "@jupyter-widgets/controls",
      "model_module_version": "1.4.0",
      "model_name": "FloatProgressModel",
      "state": {
       "description": "67.5°:",
       "layout": "IPY_MODEL_d4d026bed8c04c4c8cf4f05929e1b1ec",
       "max": 1,
       "style": "IPY_MODEL_4938c34a336349b8b2dc993c2a790124",
       "value": 1
      }
     },
     "a214204679b249c9b4081d89d079a1a9": {
      "model_module": "@jupyter-widgets/base",
      "model_module_version": "1.1.0",
      "model_name": "LayoutModel",
      "state": {}
     },
     "a2805fa50c1b4002b6577b5c88209da4": {
      "model_module": "@jupyter-widgets/controls",
      "model_module_version": "1.4.0",
      "model_name": "TabModel",
      "state": {
       "_titles": {
        "0": "Pistas de vento",
        "1": "DPI",
        "2": "Esquema de cores"
       },
       "children": [
        "IPY_MODEL_ff3086ed590f4886a7e81adaa669d813",
        "IPY_MODEL_d80ea8a71f204b519a566c5d39603d96",
        "IPY_MODEL_4df837b0f0ec425682a1cb14658153ed"
       ],
       "layout": "IPY_MODEL_8d558a92eeae47dea31458339ca19ef4"
      }
     },
     "a2b4f4cc03b14795881905352371b252": {
      "model_module": "@jupyter-widgets/controls",
      "model_module_version": "1.4.0",
      "model_name": "ButtonStyleModel",
      "state": {}
     },
     "a2b72bc0d0f14303b1ac761510d7845b": {
      "model_module": "@jupyter-widgets/base",
      "model_module_version": "1.1.0",
      "model_name": "LayoutModel",
      "state": {}
     },
     "a2bb99d860dd44c289627740718354d4": {
      "model_module": "@jupyter-widgets/controls",
      "model_module_version": "1.4.0",
      "model_name": "ToggleButtonsStyleModel",
      "state": {
       "button_width": "",
       "description_width": ""
      }
     },
     "a337127eea42407e9ae3e6b82c3dc2d6": {
      "model_module": "@jupyter-widgets/controls",
      "model_module_version": "1.4.0",
      "model_name": "DescriptionStyleModel",
      "state": {
       "description_width": ""
      }
     },
     "a3453cb0e9f24656ac5313a498376585": {
      "model_module": "@jupyter-widgets/base",
      "model_module_version": "1.1.0",
      "model_name": "LayoutModel",
      "state": {}
     },
     "a349824d93b44c44a806df5ff140648c": {
      "model_module": "@jupyter-widgets/base",
      "model_module_version": "1.1.0",
      "model_name": "LayoutModel",
      "state": {}
     },
     "a3ba54edf6594a4f828ea87416df68b2": {
      "model_module": "@jupyter-widgets/controls",
      "model_module_version": "1.4.0",
      "model_name": "ProgressStyleModel",
      "state": {
       "description_width": ""
      }
     },
     "a3e1231f952243bc8aa634df0f26cc15": {
      "model_module": "@jupyter-widgets/base",
      "model_module_version": "1.1.0",
      "model_name": "LayoutModel",
      "state": {
       "width": "30%"
      }
     },
     "a3edc0361e63401aba471275e90ab2ea": {
      "model_module": "@jupyter-widgets/controls",
      "model_module_version": "1.4.0",
      "model_name": "TabModel",
      "state": {
       "_titles": {
        "0": "Pistas de vento",
        "1": "DPI",
        "2": "Esquema de cores"
       },
       "children": [
        "IPY_MODEL_cb67033aeb27462d9cbc125d0cbd95cc",
        "IPY_MODEL_1abeffdc59c141398d5018f88eccceff",
        "IPY_MODEL_67d334a059904e6aa9aa88858c968546"
       ],
       "layout": "IPY_MODEL_b2f2b16c0e414301af58374bbb01f8e6",
       "selected_index": 2
      }
     },
     "a3f6c095380041a3babfe61dc554b9d2": {
      "model_module": "@jupyter-widgets/controls",
      "model_module_version": "1.4.0",
      "model_name": "ButtonStyleModel",
      "state": {}
     },
     "a41e8a0a3ca24c94a64ac99724352bdb": {
      "model_module": "@jupyter-widgets/base",
      "model_module_version": "1.1.0",
      "model_name": "LayoutModel",
      "state": {
       "width": "30%"
      }
     },
     "a422ec6e967649679940ff52e04e6435": {
      "model_module": "@jupyter-widgets/controls",
      "model_module_version": "1.4.0",
      "model_name": "ButtonStyleModel",
      "state": {}
     },
     "a42a113a7c1747f78a7ce9abf4b0830f": {
      "model_module": "@jupyter-widgets/base",
      "model_module_version": "1.1.0",
      "model_name": "LayoutModel",
      "state": {}
     },
     "a4360a5911b04421a1a9b2b0e887d4ce": {
      "model_module": "@jupyter-widgets/base",
      "model_module_version": "1.1.0",
      "model_name": "LayoutModel",
      "state": {}
     },
     "a44dfc5213464926b68498502625b24a": {
      "model_module": "@jupyter-widgets/controls",
      "model_module_version": "1.4.0",
      "model_name": "DescriptionStyleModel",
      "state": {
       "description_width": "initial"
      }
     },
     "a480569932d94cd5a7e17a9df3024f74": {
      "model_module": "@jupyter-widgets/controls",
      "model_module_version": "1.4.0",
      "model_name": "ButtonModel",
      "state": {
       "description": "Importar projeto",
       "layout": "IPY_MODEL_4e999387f4bd4ac58d5051491bda7160",
       "style": "IPY_MODEL_8ccbdc9451fa4cc495f5703fd6fad3d2",
       "tooltip": "Importa o .csv de um projeto criado"
      }
     },
     "a4882c74beac40d69138b8de717962f2": {
      "model_module": "@jupyter-widgets/base",
      "model_module_version": "1.1.0",
      "model_name": "LayoutModel",
      "state": {}
     },
     "a4c77e24acd24a7b800071fd9200338b": {
      "model_module": "@jupyter-widgets/controls",
      "model_module_version": "1.4.0",
      "model_name": "ButtonStyleModel",
      "state": {}
     },
     "a53b23188b01462eae4d9f23fb068fa0": {
      "model_module": "@jupyter-widgets/controls",
      "model_module_version": "1.4.0",
      "model_name": "AccordionModel",
      "state": {
       "_titles": {
        "0": "Criar projeto",
        "1": "Importar projeto"
       },
       "children": [
        "IPY_MODEL_834f19245365405f8e1ce071dd357a50",
        "IPY_MODEL_0d5e4a15345d49e1b48a7cf29753b1c2"
       ],
       "layout": "IPY_MODEL_deccfb69c813464d9739fa8bb2728226",
       "selected_index": 1
      }
     },
     "a59d158b52f84fef92b4d213dbf063d9": {
      "model_module": "@jupyter-widgets/controls",
      "model_module_version": "1.4.0",
      "model_name": "FloatProgressModel",
      "state": {
       "description": "247.50°:",
       "layout": "IPY_MODEL_b159b67c3cbc445881fb8481b271a5a9",
       "max": 1,
       "style": "IPY_MODEL_a6d9e83ea4d64854a20c12ee3e41752b",
       "value": 1
      }
     },
     "a5b4b6bef0bb4a18a1b46329976559d2": {
      "model_module": "@jupyter-widgets/controls",
      "model_module_version": "1.4.0",
      "model_name": "SelectMultipleModel",
      "state": {
       "_options_labels": [
        "0.0°",
        "22.5°",
        "45.0°",
        "67.5°",
        "90.0°",
        "112.5°",
        "135.0°",
        "157.5°",
        "180.0°",
        "202.5°",
        "225.0°",
        "247.5°",
        "270.0°",
        "292.5°",
        "315.0°",
        "337.5°"
       ],
       "index": [
        0
       ],
       "layout": "IPY_MODEL_31f44b37757f4122b6704f140dc1e3a9",
       "rows": 5,
       "style": "IPY_MODEL_0b8affc9da1247bfaf1bb84136e654f4"
      }
     },
     "a5cbc2eb599f4a58ad96abb5a229ca9b": {
      "model_module": "@jupyter-widgets/controls",
      "model_module_version": "1.4.0",
      "model_name": "DescriptionStyleModel",
      "state": {
       "description_width": ""
      }
     },
     "a5ce938b22524c1c8b32089fff3bda0d": {
      "model_module": "@jupyter-widgets/controls",
      "model_module_version": "1.4.0",
      "model_name": "TabModel",
      "state": {
       "_titles": {
        "0": "Projetos",
        "1": "Shapefiles"
       },
       "children": [
        "IPY_MODEL_a53b23188b01462eae4d9f23fb068fa0",
        "IPY_MODEL_4164bfb13368467ebd4044a2ab14c734"
       ],
       "layout": "IPY_MODEL_62cbd249aeeb4dd2841e6f146c7ed5f1",
       "selected_index": 1
      }
     },
     "a5ede3ce853348a5b87d53c26f4350f4": {
      "model_module": "@jupyter-widgets/controls",
      "model_module_version": "1.4.0",
      "model_name": "ButtonStyleModel",
      "state": {}
     },
     "a5fd5033fca1413689a7e8be753aaf37": {
      "model_module": "@jupyter-widgets/base",
      "model_module_version": "1.1.0",
      "model_name": "LayoutModel",
      "state": {}
     },
     "a6062d16908c47cdab53953794957028": {
      "model_module": "@jupyter-widgets/base",
      "model_module_version": "1.1.0",
      "model_name": "LayoutModel",
      "state": {}
     },
     "a6753e6dabf04a41bd613eec4eef52db": {
      "model_module": "@jupyter-widgets/controls",
      "model_module_version": "1.4.0",
      "model_name": "FloatProgressModel",
      "state": {
       "description": "202.5°:",
       "layout": "IPY_MODEL_f09bf835f603464a9179594645d0089f",
       "max": 1,
       "style": "IPY_MODEL_31617cccedfd45c08249a778868b4b75",
       "value": 1
      }
     },
     "a6940df389db4721afb19b07ee5ef970": {
      "model_module": "@jupyter-widgets/controls",
      "model_module_version": "1.4.0",
      "model_name": "FloatProgressModel",
      "state": {
       "description": "135.00°:",
       "layout": "IPY_MODEL_0abdea487a854c738aa78380034b2068",
       "max": 1,
       "style": "IPY_MODEL_f1acd8154412409cad0a52dd7d77f471",
       "value": 1
      }
     },
     "a6945b97e27d456abef9781e5779dc42": {
      "model_module": "@jupyter-widgets/controls",
      "model_module_version": "1.4.0",
      "model_name": "AccordionModel",
      "state": {
       "_titles": {
        "0": "Criar projeto",
        "1": "Importar projeto"
       },
       "children": [
        "IPY_MODEL_6e1b21da31ff42a8a7b66e860a137206",
        "IPY_MODEL_21f1ce7926094a388d1fa839a7675532"
       ],
       "layout": "IPY_MODEL_b0e8eb608a394b2e9b5f73f7a03cb0c0",
       "selected_index": 1
      }
     },
     "a6c62ac8aaae4d0dad9a6883f753dbd3": {
      "model_module": "@jupyter-widgets/base",
      "model_module_version": "1.1.0",
      "model_name": "LayoutModel",
      "state": {}
     },
     "a6c9a91e11b4430f9e5948fcde47e055": {
      "model_module": "@jupyter-widgets/base",
      "model_module_version": "1.1.0",
      "model_name": "LayoutModel",
      "state": {}
     },
     "a6d9e83ea4d64854a20c12ee3e41752b": {
      "model_module": "@jupyter-widgets/controls",
      "model_module_version": "1.4.0",
      "model_name": "ProgressStyleModel",
      "state": {
       "description_width": ""
      }
     },
     "a6f8662bb7114afd97adb100a4535930": {
      "model_module": "@jupyter-widgets/controls",
      "model_module_version": "1.4.0",
      "model_name": "ButtonStyleModel",
      "state": {}
     },
     "a7c8b91628d04b6990d9438b3d18ea1c": {
      "model_module": "@jupyter-widgets/base",
      "model_module_version": "1.1.0",
      "model_name": "LayoutModel",
      "state": {}
     },
     "a817611dbf4649908de818e649d49de7": {
      "model_module": "@jupyter-widgets/controls",
      "model_module_version": "1.4.0",
      "model_name": "DescriptionStyleModel",
      "state": {
       "description_width": "initial"
      }
     },
     "a8839912a7bb4cae9678f720dc45d3f6": {
      "model_module": "@jupyter-widgets/controls",
      "model_module_version": "1.4.0",
      "model_name": "ToggleButtonsModel",
      "state": {
       "_options_labels": [
        "Método SPM",
        "Método de Saville"
       ],
       "button_style": "",
       "icons": [],
       "index": 1,
       "layout": "IPY_MODEL_b8304f7b39944756850c3589f10d5323",
       "style": "IPY_MODEL_1a6e2a0331a44169b7e3a8981efb0642",
       "tooltips": []
      }
     },
     "a89f8d2bb6334d3382478894bd6fd4a3": {
      "model_module": "@jupyter-widgets/controls",
      "model_module_version": "1.4.0",
      "model_name": "ProgressStyleModel",
      "state": {
       "description_width": ""
      }
     },
     "a9493e8618b14d73bfb70d55c9ad17ab": {
      "model_module": "@jupyter-widgets/controls",
      "model_module_version": "1.4.0",
      "model_name": "SelectMultipleModel",
      "state": {
       "_options_labels": [
        "N (0.0°)",
        "NNE (22.5°)",
        "NE (45.0°)",
        "ENE (67.5°)",
        "E (90.0°)",
        "ESE (112.5°)",
        "SE (135.0°)",
        "SSE (157.5°)",
        "S (180.0°)",
        "SSW (202.5°)",
        "SW (225.0°)",
        "WSW (247.5°)",
        "W (270.0°)",
        "WNW (292.5°)",
        "NW (315.0°)",
        "NNW (337.5°)"
       ],
       "description": "Selecione a direção (°) desejada:",
       "index": [
        0
       ],
       "layout": "IPY_MODEL_e7675c5325c7482ea19cf2bc1e822c55",
       "rows": 5,
       "style": "IPY_MODEL_df0c2d4ecc0d4db88a64e17b2019e6f6"
      }
     },
     "a974e7cc4553488d8adf657e7d80b1b0": {
      "model_module": "@jupyter-widgets/controls",
      "model_module_version": "1.4.0",
      "model_name": "ProgressStyleModel",
      "state": {
       "description_width": ""
      }
     },
     "a992acfd942c427a98e7d4f8b3e9e391": {
      "model_module": "@jupyter-widgets/base",
      "model_module_version": "1.1.0",
      "model_name": "LayoutModel",
      "state": {}
     },
     "a9a61e75dbde440e8e67fc54a56a15ba": {
      "model_module": "@jupyter-widgets/controls",
      "model_module_version": "1.4.0",
      "model_name": "AccordionModel",
      "state": {
       "_titles": {
        "0": "Modelo para obtenção dos fetchs:",
        "1": "Direções desejadas:"
       },
       "children": [
        "IPY_MODEL_15632d3492b647b68ab6c355f3cc5dd0",
        "IPY_MODEL_88b26bf371394788a273800bead60ade"
       ],
       "layout": "IPY_MODEL_763018a7c6e146278786a4abee1dc6f5",
       "selected_index": 1
      }
     },
     "a9b25dd56bc94f70a7affb4cec7c6075": {
      "model_module": "@jupyter-widgets/base",
      "model_module_version": "1.1.0",
      "model_name": "LayoutModel",
      "state": {
       "width": "500px"
      }
     },
     "a9c377cc67d345f8baa0b68340955cd7": {
      "model_module": "@jupyter-widgets/controls",
      "model_module_version": "1.4.0",
      "model_name": "AccordionModel",
      "state": {
       "_titles": {
        "0": "Direções convencionais",
        "1": "Direção específica"
       },
       "children": [
        "IPY_MODEL_4502544f866b4835897c78e4e06c129e",
        "IPY_MODEL_dbda1ffee4a94d1aa516a4f89314d78a"
       ],
       "layout": "IPY_MODEL_70793c49079d48be9be273ea91a0bdf5"
      }
     },
     "a9d29f2bcfca42f6a4ecb97ce1bc5aed": {
      "model_module": "@jupyter-widgets/controls",
      "model_module_version": "1.4.0",
      "model_name": "DropdownModel",
      "state": {
       "_options_labels": [
        "binary",
        "Blues",
        "brg",
        "BuGn",
        "cool",
        "cubehelix",
        "gist_earth",
        "gist_ncar",
        "gist_rainbow",
        "gnuplot",
        "gnuplot2",
        "hsv",
        "jet",
        "magma",
        "nipy_spectral",
        "ocean",
        "plasma",
        "rainbow",
        "Spectral",
        "terrain",
        "winter"
       ],
       "description": "Selecione o esquema de cores desejado:",
       "index": 0,
       "layout": "IPY_MODEL_004e2890360e46b79510d3f37bb5ed2a",
       "style": "IPY_MODEL_428d95fc3e42447a8d47107540e1645e"
      }
     },
     "a9e5af6bb992458fb25fb19f4ddd268f": {
      "model_module": "@jupyter-widgets/base",
      "model_module_version": "1.1.0",
      "model_name": "LayoutModel",
      "state": {}
     },
     "aa2f74a076ae42e7bf4ec15e21f70347": {
      "model_module": "@jupyter-widgets/controls",
      "model_module_version": "1.4.0",
      "model_name": "ButtonStyleModel",
      "state": {}
     },
     "aa3f1509dcc84c15b9d1effd2697f56d": {
      "model_module": "@jupyter-widgets/controls",
      "model_module_version": "1.4.0",
      "model_name": "SelectMultipleModel",
      "state": {
       "_options_labels": [
        "N (0.0°)",
        "NNE (22.5°)",
        "NE (45.0°)",
        "ENE (67.5°)",
        "E (90.0°)",
        "ESE (112.5°)",
        "SE (135.0°)",
        "SSE (157.5°)",
        "S (180.0°)",
        "SSW (202.5°)",
        "SW (225.0°)",
        "WSW (247.5°)",
        "W (270.0°)",
        "WNW (292.5°)",
        "NW (315.0°)",
        "NNW (337.5°)"
       ],
       "description": "Selecione a direção (°) desejada:",
       "index": [],
       "layout": "IPY_MODEL_1fde07c9ebee442e818a44eb3f15906a",
       "rows": 5,
       "style": "IPY_MODEL_5c6943bffe9548319dc45211c0dcf766"
      }
     },
     "ab8d59d91ffd4267923aa0005333b024": {
      "model_module": "@jupyter-widgets/controls",
      "model_module_version": "1.4.0",
      "model_name": "DescriptionStyleModel",
      "state": {
       "description_width": "initial"
      }
     },
     "aba83a355021455c9817c3721afc9c11": {
      "model_module": "@jupyter-widgets/base",
      "model_module_version": "1.1.0",
      "model_name": "LayoutModel",
      "state": {}
     },
     "abfe9a0822844f4da90abe7f47f40559": {
      "model_module": "@jupyter-widgets/base",
      "model_module_version": "1.1.0",
      "model_name": "LayoutModel",
      "state": {}
     },
     "abfee1dd20ce43ec8a153845ed61e6e0": {
      "model_module": "@jupyter-widgets/controls",
      "model_module_version": "1.4.0",
      "model_name": "TabModel",
      "state": {
       "_titles": {
        "0": "Projetos",
        "1": "Shapefiles"
       },
       "children": [
        "IPY_MODEL_8f3ad28ac2624715885f018aa661aeac",
        "IPY_MODEL_4272d652e44646c8a0b9525e98aa6f9c"
       ],
       "layout": "IPY_MODEL_94b3cd58d123441e85a8ea7a9cf674d0",
       "selected_index": 1
      }
     },
     "ac07f4acb55843c094a77d78af51c3e2": {
      "model_module": "@jupyter-widgets/base",
      "model_module_version": "1.1.0",
      "model_name": "LayoutModel",
      "state": {}
     },
     "ac087573e9cf4a6b85d03654fb92f08d": {
      "model_module": "@jupyter-widgets/controls",
      "model_module_version": "1.4.0",
      "model_name": "TabModel",
      "state": {
       "_titles": {
        "0": "Pistas de vento",
        "1": "DPI",
        "2": "Esquema de cores"
       },
       "children": [
        "IPY_MODEL_56f28c4554474b3a9215b9377b2c02fb",
        "IPY_MODEL_bcdb37f0fcb642c09733c65bf409ed71",
        "IPY_MODEL_9f8f1a70ef4c47639a5281013ed217b4"
       ],
       "layout": "IPY_MODEL_6f00756bdb224faea2a08fe66ff88d40",
       "selected_index": 2
      }
     },
     "ac626e7919a94df08919803e0f73fc38": {
      "model_module": "@jupyter-widgets/base",
      "model_module_version": "1.1.0",
      "model_name": "LayoutModel",
      "state": {}
     },
     "ac641de7b3ad4b6c9c3a9e1aee542847": {
      "model_module": "@jupyter-widgets/controls",
      "model_module_version": "1.4.0",
      "model_name": "ButtonModel",
      "state": {
       "description": "Importar .shp de malha processada",
       "layout": "IPY_MODEL_2a5f163a74724e47b08be4e1c46946bf",
       "style": "IPY_MODEL_1644682889c94f898396a1dc536033d5",
       "tooltip": "Importa um .shp que já teve sua malha processada"
      }
     },
     "ac9c905a3b344ec19f907cd109450bcf": {
      "model_module": "@jupyter-widgets/controls",
      "model_module_version": "1.4.0",
      "model_name": "ButtonStyleModel",
      "state": {}
     },
     "acd73e2e6964460384fcaeadaf22b198": {
      "model_module": "@jupyter-widgets/controls",
      "model_module_version": "1.4.0",
      "model_name": "DescriptionStyleModel",
      "state": {
       "description_width": "initial"
      }
     },
     "ad01840372e244a0a1252df1c260b64f": {
      "model_module": "@jupyter-widgets/controls",
      "model_module_version": "1.4.0",
      "model_name": "ProgressStyleModel",
      "state": {
       "description_width": ""
      }
     },
     "ad0935cb2c4e4ab8bb9641e9b829ee79": {
      "model_module": "@jupyter-widgets/base",
      "model_module_version": "1.1.0",
      "model_name": "LayoutModel",
      "state": {}
     },
     "ad2a4c54d1a34c3e918a8eb48923c68a": {
      "model_module": "@jupyter-widgets/base",
      "model_module_version": "1.1.0",
      "model_name": "LayoutModel",
      "state": {}
     },
     "ad62d071d2e74d429f3895b91ff5c06d": {
      "model_module": "@jupyter-widgets/base",
      "model_module_version": "1.1.0",
      "model_name": "LayoutModel",
      "state": {}
     },
     "ad77a77e83f043f889023b08d8cfa928": {
      "model_module": "@jupyter-widgets/controls",
      "model_module_version": "1.4.0",
      "model_name": "DescriptionStyleModel",
      "state": {
       "description_width": ""
      }
     },
     "ad868e9470864cb7a55b77fbacfcc900": {
      "model_module": "@jupyter-widgets/base",
      "model_module_version": "1.1.0",
      "model_name": "LayoutModel",
      "state": {}
     },
     "ad87770079c24969bf78e962a89f5e15": {
      "model_module": "@jupyter-widgets/base",
      "model_module_version": "1.1.0",
      "model_name": "LayoutModel",
      "state": {}
     },
     "ade2412b95ed47718a086cbeab9ee75f": {
      "model_module": "@jupyter-widgets/controls",
      "model_module_version": "1.4.0",
      "model_name": "DropdownModel",
      "state": {
       "_options_labels": [
        "binary",
        "Blues",
        "brg",
        "BuGn",
        "cool",
        "cubehelix",
        "gist_earth",
        "gist_ncar",
        "gist_rainbow",
        "gnuplot",
        "gnuplot2",
        "hsv",
        "jet",
        "magma",
        "nipy_spectral",
        "ocean",
        "plasma",
        "rainbow",
        "Spectral",
        "terrain",
        "winter"
       ],
       "description": "Selecione o esquema de cores desejado:",
       "index": 12,
       "layout": "IPY_MODEL_3fab2d93fd074b6a98df5a134c2718b7",
       "style": "IPY_MODEL_a12e9353c12c49eba0f09f2242a78368"
      }
     },
     "ade8bde1878f482f8b9f844cd23fdecc": {
      "model_module": "@jupyter-widgets/base",
      "model_module_version": "1.1.0",
      "model_name": "LayoutModel",
      "state": {}
     },
     "ae29e7f4c65c41aa8a68cafe6c765089": {
      "model_module": "@jupyter-widgets/base",
      "model_module_version": "1.1.0",
      "model_name": "LayoutModel",
      "state": {}
     },
     "ae48025151e8412788c43ea3cb76d3eb": {
      "model_module": "@jupyter-widgets/controls",
      "model_module_version": "1.4.0",
      "model_name": "ButtonModel",
      "state": {
       "description": "Importar .shp de malha processada",
       "layout": "IPY_MODEL_b1b6a2eccb344edc90bac087489fa9cf",
       "style": "IPY_MODEL_b663f6134ae84f73a24478c636a84d00",
       "tooltip": "Importa um .shp que teve sua malha processada"
      }
     },
     "ae61113d9a2d4f29859d6062346655b9": {
      "model_module": "@jupyter-widgets/base",
      "model_module_version": "1.1.0",
      "model_name": "LayoutModel",
      "state": {
       "width": "30%"
      }
     },
     "ae6cc98f82264d7089a6f0181e53e495": {
      "model_module": "@jupyter-widgets/controls",
      "model_module_version": "1.4.0",
      "model_name": "ProgressStyleModel",
      "state": {
       "description_width": ""
      }
     },
     "ae8372b213c44c4f86e2181a5b2c5a04": {
      "model_module": "@jupyter-widgets/controls",
      "model_module_version": "1.4.0",
      "model_name": "FloatProgressModel",
      "state": {
       "description": "90.0°:",
       "layout": "IPY_MODEL_8aef4441424c44f3b453d4f667998c53",
       "max": 1,
       "style": "IPY_MODEL_c0f7ea6b604b438292e67ba08a1665ba",
       "value": 1
      }
     },
     "ae9b423db35945938818ce44ead94a92": {
      "model_module": "@jupyter-widgets/controls",
      "model_module_version": "1.4.0",
      "model_name": "ButtonModel",
      "state": {
       "description": "Carregar .shp de malha processada",
       "layout": "IPY_MODEL_a00daef98d354001bc269c0b16ffaa09",
       "style": "IPY_MODEL_54f504ee0db749258e94c66c45de4702",
       "tooltip": "Carrega um .shp que já teve sua malha processada"
      }
     },
     "aed046e6a782464083b7c6590d09f74d": {
      "model_module": "@jupyter-widgets/base",
      "model_module_version": "1.1.0",
      "model_name": "LayoutModel",
      "state": {}
     },
     "aee02418815e4a95a59f3db071ad423c": {
      "model_module": "@jupyter-widgets/controls",
      "model_module_version": "1.4.0",
      "model_name": "TabModel",
      "state": {
       "_titles": {
        "0": "Métodos",
        "1": "Direções"
       },
       "children": [
        "IPY_MODEL_58935f6f77624d95b1bb7bc19c4a8523",
        "IPY_MODEL_29d5fb5c5e1b425aa71646bf7ba6f63a"
       ],
       "layout": "IPY_MODEL_c37d9d0286114ff480488c79d5a9ef03"
      }
     },
     "aee16dccbb97468e9d0b4e58c5a79daf": {
      "model_module": "@jupyter-widgets/base",
      "model_module_version": "1.1.0",
      "model_name": "LayoutModel",
      "state": {}
     },
     "af240fcd6fcd4ce8b11674467e139520": {
      "model_module": "@jupyter-widgets/controls",
      "model_module_version": "1.4.0",
      "model_name": "ButtonStyleModel",
      "state": {}
     },
     "af2aefead44b43ce962c88fcf73e2979": {
      "model_module": "@jupyter-widgets/base",
      "model_module_version": "1.1.0",
      "model_name": "LayoutModel",
      "state": {}
     },
     "af6c128216a546669e24f5a135006c5b": {
      "model_module": "@jupyter-widgets/controls",
      "model_module_version": "1.4.0",
      "model_name": "DropdownModel",
      "state": {
       "_options_labels": [
        "300",
        "600",
        "1200"
       ],
       "description": "Selecione a DPI desejada:",
       "index": 2,
       "layout": "IPY_MODEL_92685ccfa2ba4c7d80c9418a3fddaa53",
       "style": "IPY_MODEL_a817611dbf4649908de818e649d49de7"
      }
     },
     "af6ecae91b034b3fa11941a00de1c1ad": {
      "model_module": "@jupyter-widgets/base",
      "model_module_version": "1.1.0",
      "model_name": "LayoutModel",
      "state": {}
     },
     "af7c7ac45a9740c2905e090bab789c22": {
      "model_module": "@jupyter-widgets/base",
      "model_module_version": "1.1.0",
      "model_name": "LayoutModel",
      "state": {}
     },
     "aff28d07a91847c0905236c4ed956490": {
      "model_module": "@jupyter-widgets/controls",
      "model_module_version": "1.4.0",
      "model_name": "AccordionModel",
      "state": {
       "_titles": {
        "0": "Carregar .shp",
        "1": "Carregar .shp de malha processada"
       },
       "children": [
        "IPY_MODEL_ff660e68089f45d6bd8781369bd2de6f",
        "IPY_MODEL_2b40a70fe15e4f259aee793fdb533ed9"
       ],
       "layout": "IPY_MODEL_140128a6f2a2428e84ce7bd7c0a85398"
      }
     },
     "b0069f3455144798a35def63f5a38746": {
      "model_module": "@jupyter-widgets/base",
      "model_module_version": "1.1.0",
      "model_name": "LayoutModel",
      "state": {
       "width": "500px"
      }
     },
     "b007593c067947a3a8dd82ebbb24c936": {
      "model_module": "@jupyter-widgets/base",
      "model_module_version": "1.1.0",
      "model_name": "LayoutModel",
      "state": {}
     },
     "b00d86abb06c493b8092e07a55fd0dc8": {
      "model_module": "@jupyter-widgets/controls",
      "model_module_version": "1.4.0",
      "model_name": "AccordionModel",
      "state": {
       "_titles": {
        "0": "Importar .shp",
        "1": "Importar .shp de malha processada"
       },
       "children": [
        "IPY_MODEL_b8e31685e8ea4477b6d57b541efab444",
        "IPY_MODEL_329d93f2bc0a409eb903f18f385c837c"
       ],
       "layout": "IPY_MODEL_469310f738c94db9ac0c87ff5025730b",
       "selected_index": 1
      }
     },
     "b022750c9f3a4ef8b58c6a33e9200cc4": {
      "model_module": "@jupyter-widgets/controls",
      "model_module_version": "1.4.0",
      "model_name": "SelectMultipleModel",
      "state": {
       "_options_labels": [
        "N (0.0°)",
        "NNE (22.5°)",
        "NE (45.0°)",
        "ENE (67.5°)",
        "E (90.0°)",
        "ESE (112.5°)",
        "SE (135.0°)",
        "SSE (157.5°)",
        "S (180.0°)",
        "SSW (202.5°)",
        "SW (225.0°)",
        "WSW (247.5°)",
        "W (270.0°)",
        "WNW (292.5°)",
        "NW (315.0°)",
        "NNW (337.5°)",
        "N (360.0°)"
       ],
       "description": "Selecione a direção (°) desejada:",
       "index": [
        3
       ],
       "layout": "IPY_MODEL_50d4283b84554eb8921c7e378528180b",
       "rows": 5,
       "style": "IPY_MODEL_3836facd2b64407295f3125e9f91c331"
      }
     },
     "b027af1bebde464c9b176172d8658d60": {
      "model_module": "@jupyter-widgets/base",
      "model_module_version": "1.1.0",
      "model_name": "LayoutModel",
      "state": {
       "width": "400px"
      }
     },
     "b052150122ce4d9a905101c23b7f35a9": {
      "model_module": "@jupyter-widgets/base",
      "model_module_version": "1.1.0",
      "model_name": "LayoutModel",
      "state": {}
     },
     "b0775af1f45e4322b97468eb33c1075a": {
      "model_module": "@jupyter-widgets/base",
      "model_module_version": "1.1.0",
      "model_name": "LayoutModel",
      "state": {}
     },
     "b0954038d6424ab78684550b76789541": {
      "model_module": "@jupyter-widgets/base",
      "model_module_version": "1.1.0",
      "model_name": "LayoutModel",
      "state": {
       "width": "30%"
      }
     },
     "b0a2922a8b714bfe9a4ea2893fb9c7e9": {
      "model_module": "@jupyter-widgets/controls",
      "model_module_version": "1.4.0",
      "model_name": "ButtonStyleModel",
      "state": {}
     },
     "b0e8eb608a394b2e9b5f73f7a03cb0c0": {
      "model_module": "@jupyter-widgets/base",
      "model_module_version": "1.1.0",
      "model_name": "LayoutModel",
      "state": {}
     },
     "b100f2b7025b4da5b425036b97e84c3a": {
      "model_module": "@jupyter-widgets/controls",
      "model_module_version": "1.4.0",
      "model_name": "DescriptionStyleModel",
      "state": {
       "description_width": ""
      }
     },
     "b1223402049544ac90e71263d6f44def": {
      "model_module": "@jupyter-widgets/controls",
      "model_module_version": "1.4.0",
      "model_name": "FloatProgressModel",
      "state": {
       "description": "180.0°:",
       "layout": "IPY_MODEL_aba83a355021455c9817c3721afc9c11",
       "max": 1,
       "style": "IPY_MODEL_e0eb2814d84d49ebb55e7e45533d3a52",
       "value": 1
      }
     },
     "b159b67c3cbc445881fb8481b271a5a9": {
      "model_module": "@jupyter-widgets/base",
      "model_module_version": "1.1.0",
      "model_name": "LayoutModel",
      "state": {}
     },
     "b175ae453bf8475bb081e249cabf6b6e": {
      "model_module": "@jupyter-widgets/base",
      "model_module_version": "1.1.0",
      "model_name": "LayoutModel",
      "state": {}
     },
     "b186429dd785422fb3c82f7359116f59": {
      "model_module": "@jupyter-widgets/controls",
      "model_module_version": "1.4.0",
      "model_name": "TabModel",
      "state": {
       "_titles": {
        "0": "Pistas de vento",
        "1": "DPI",
        "2": "Esquema de cores"
       },
       "children": [
        "IPY_MODEL_1a91c77546204b1aad29be3ac55fc066",
        "IPY_MODEL_3e1d02dd2f994f7d865f8e07cd2275a6",
        "IPY_MODEL_0abee896f3a34584ada12aa58726ef51"
       ],
       "layout": "IPY_MODEL_371afa22047641fa969a8ea00bffab46"
      }
     },
     "b1b6a2eccb344edc90bac087489fa9cf": {
      "model_module": "@jupyter-widgets/base",
      "model_module_version": "1.1.0",
      "model_name": "LayoutModel",
      "state": {
       "width": "30%"
      }
     },
     "b1cc4b3bfde7400d980e7af2a00df528": {
      "model_module": "@jupyter-widgets/controls",
      "model_module_version": "1.4.0",
      "model_name": "FloatProgressModel",
      "state": {
       "description": "225.0°:",
       "layout": "IPY_MODEL_3ea27144298540fb8e33d0fbea5576bb",
       "max": 1,
       "style": "IPY_MODEL_9b423b6a487e4f3c98870b4bd1f7f6b2",
       "value": 1
      }
     },
     "b1cd3bb6fc7b43b8acaef028dddee7f7": {
      "model_module": "@jupyter-widgets/controls",
      "model_module_version": "1.4.0",
      "model_name": "ButtonModel",
      "state": {
       "description": "Criar projeto",
       "layout": "IPY_MODEL_a6c62ac8aaae4d0dad9a6883f753dbd3",
       "style": "IPY_MODEL_a4c77e24acd24a7b800071fd9200338b",
       "tooltip": "Cria um novo projeto"
      }
     },
     "b20965cca82b4b08929a10f2b2a7db53": {
      "model_module": "@jupyter-widgets/controls",
      "model_module_version": "1.4.0",
      "model_name": "RadioButtonsModel",
      "state": {
       "_options_labels": [
        "Georreferenciado",
        "Não georreferenciado"
       ],
       "description": "Georreferenciamento:",
       "index": 0,
       "layout": "IPY_MODEL_66217a932c6b4a29957ca3cc8918bb95",
       "style": "IPY_MODEL_4c005cfcdb1a46049c88e15cedeb22e3"
      }
     },
     "b26824d07b1947f0bb5678b6fc42ed12": {
      "model_module": "@jupyter-widgets/base",
      "model_module_version": "1.1.0",
      "model_name": "LayoutModel",
      "state": {}
     },
     "b27739cdfca84c4db238729582a83a82": {
      "model_module": "@jupyter-widgets/controls",
      "model_module_version": "1.4.0",
      "model_name": "ButtonModel",
      "state": {
       "description": "Carregar projeto",
       "layout": "IPY_MODEL_2a9de499e03a4755bc3e44311b44c3b6",
       "style": "IPY_MODEL_815e080332c647dbb314c12d1a56910a",
       "tooltip": "Carrega o .csv de um projeto já criado"
      }
     },
     "b27ec119c6ad4d818c7e2ef6ade2843f": {
      "model_module": "@jupyter-widgets/base",
      "model_module_version": "1.1.0",
      "model_name": "LayoutModel",
      "state": {}
     },
     "b28106f3bca34f169f0086e90dfa09ca": {
      "model_module": "@jupyter-widgets/controls",
      "model_module_version": "1.4.0",
      "model_name": "ButtonStyleModel",
      "state": {}
     },
     "b28388a8448240709c8ca272f99f53f5": {
      "model_module": "@jupyter-widgets/controls",
      "model_module_version": "1.4.0",
      "model_name": "DescriptionStyleModel",
      "state": {
       "description_width": ""
      }
     },
     "b28a9f2dd34b40f096df8bb642fa0c9b": {
      "model_module": "@jupyter-widgets/controls",
      "model_module_version": "1.4.0",
      "model_name": "AccordionModel",
      "state": {
       "_titles": {
        "0": "Escolha da(s) pista(s) de vento"
       },
       "children": [
        "IPY_MODEL_53c80d0b12e6404587d8ea970e98acfc"
       ],
       "layout": "IPY_MODEL_a7c8b91628d04b6990d9438b3d18ea1c"
      }
     },
     "b2924c722dd44c05b70506e57d23ed1f": {
      "model_module": "@jupyter-widgets/controls",
      "model_module_version": "1.4.0",
      "model_name": "ToggleButtonsModel",
      "state": {
       "_options_labels": [
        "Método SPM",
        "Método de Saville"
       ],
       "button_style": "",
       "icons": [],
       "index": 1,
       "layout": "IPY_MODEL_00ff0ac478b043d4b3102638d9e2c4b7",
       "style": "IPY_MODEL_92f9fd02352d40cba208e58adcfdbdea",
       "tooltips": []
      }
     },
     "b2c6fefd1d994a85a69b5527d778c367": {
      "model_module": "@jupyter-widgets/base",
      "model_module_version": "1.1.0",
      "model_name": "LayoutModel",
      "state": {}
     },
     "b2cf8c16926e47d4a3a618f7d2efc91a": {
      "model_module": "@jupyter-widgets/controls",
      "model_module_version": "1.4.0",
      "model_name": "ButtonStyleModel",
      "state": {}
     },
     "b2f2b16c0e414301af58374bbb01f8e6": {
      "model_module": "@jupyter-widgets/base",
      "model_module_version": "1.1.0",
      "model_name": "LayoutModel",
      "state": {}
     },
     "b3383e22c1174e51ba6c5e12607c793a": {
      "model_module": "@jupyter-widgets/controls",
      "model_module_version": "1.4.0",
      "model_name": "DescriptionStyleModel",
      "state": {
       "description_width": "initial"
      }
     },
     "b3853212ced4485f83e76a81473b6b0f": {
      "model_module": "@jupyter-widgets/controls",
      "model_module_version": "1.4.0",
      "model_name": "DropdownModel",
      "state": {
       "_options_labels": [
        "binary",
        "Blues",
        "brg",
        "BuGn",
        "cool",
        "cubehelix",
        "gist_earth",
        "gist_ncar",
        "gist_rainbow",
        "gnuplot",
        "gnuplot2",
        "hsv",
        "jet",
        "magma",
        "nipy_spectral",
        "ocean",
        "plasma",
        "rainbow",
        "Spectral",
        "terrain",
        "winter"
       ],
       "description": "Selecione o esquema de cores desejado:",
       "index": 12,
       "layout": "IPY_MODEL_87e7be2df4b84453af4e008155c8bee3",
       "style": "IPY_MODEL_ce273848bef242e3a2aaefe50452b9ab"
      }
     },
     "b38b77b61ea34c2ba592f39376eeabb1": {
      "model_module": "@jupyter-widgets/base",
      "model_module_version": "1.1.0",
      "model_name": "LayoutModel",
      "state": {}
     },
     "b39b81168489410e9a46aeee063b6ef2": {
      "model_module": "@jupyter-widgets/controls",
      "model_module_version": "1.4.0",
      "model_name": "ButtonStyleModel",
      "state": {}
     },
     "b3f270628267454b9f331717d323d04e": {
      "model_module": "@jupyter-widgets/base",
      "model_module_version": "1.1.0",
      "model_name": "LayoutModel",
      "state": {}
     },
     "b3f7a10d50904495a9aff9077fb826f2": {
      "model_module": "@jupyter-widgets/controls",
      "model_module_version": "1.4.0",
      "model_name": "ToggleButtonsModel",
      "state": {
       "_options_labels": [
        "Uma direção",
        "Todas as direções",
        "Outra direção"
       ],
       "button_style": "",
       "icons": [],
       "index": 0,
       "layout": "IPY_MODEL_f08e9844989e4246b242180220881c64",
       "style": "IPY_MODEL_65f11a3323a049358eb2e5ea0ba963a7",
       "tooltips": []
      }
     },
     "b4004afb6dc04c55b579edc324c4ca20": {
      "model_module": "@jupyter-widgets/base",
      "model_module_version": "1.1.0",
      "model_name": "LayoutModel",
      "state": {}
     },
     "b41bfd651e794c009b02bf74cae02c3c": {
      "model_module": "@jupyter-widgets/controls",
      "model_module_version": "1.4.0",
      "model_name": "DescriptionStyleModel",
      "state": {
       "description_width": ""
      }
     },
     "b448be63ac494aeba73fc198dbea3fc0": {
      "model_module": "@jupyter-widgets/controls",
      "model_module_version": "1.4.0",
      "model_name": "DescriptionStyleModel",
      "state": {
       "description_width": ""
      }
     },
     "b4941b5a3f6f461ea11899430a1d1968": {
      "model_module": "@jupyter-widgets/controls",
      "model_module_version": "1.4.0",
      "model_name": "DropdownModel",
      "state": {
       "_options_labels": [
        "300",
        "600",
        "1200"
       ],
       "description": "Selecione a DPI desejada:",
       "index": 2,
       "layout": "IPY_MODEL_9b46107e783e4d42913041c469fe98d0",
       "style": "IPY_MODEL_fc7f880a76bd480c8c6ea2d8c4b08f32"
      }
     },
     "b4d64f7519824bd4adeec5e96f1a2541": {
      "model_module": "@jupyter-widgets/base",
      "model_module_version": "1.1.0",
      "model_name": "LayoutModel",
      "state": {}
     },
     "b5cff6295e044d1b96ce2b38c38f4020": {
      "model_module": "@jupyter-widgets/controls",
      "model_module_version": "1.4.0",
      "model_name": "FloatProgressModel",
      "state": {
       "description": "112.5°:",
       "layout": "IPY_MODEL_d8982e917c0f4ae2aa19d90064a97be8",
       "max": 1,
       "style": "IPY_MODEL_7aec9bd2101d4bfab8fa3e46a366a5ec",
       "value": 1
      }
     },
     "b5fe6795edf1473d9b9ee8f074a3580a": {
      "model_module": "@jupyter-widgets/controls",
      "model_module_version": "1.4.0",
      "model_name": "ButtonModel",
      "state": {
       "description": "Importar .shp",
       "layout": "IPY_MODEL_becb9745cc5545c193ece984fb4ddbf1",
       "style": "IPY_MODEL_6a8ab5287be14ec6b6d4e175d05d27ba",
       "tooltip": "Importa um .shp para processamento"
      }
     },
     "b608b3cc285a4ca4a72cd9c129ce32dd": {
      "model_module": "@jupyter-widgets/base",
      "model_module_version": "1.1.0",
      "model_name": "LayoutModel",
      "state": {
       "width": "500px"
      }
     },
     "b627613cce5a42b98ebe90d10b0409ce": {
      "model_module": "@jupyter-widgets/base",
      "model_module_version": "1.1.0",
      "model_name": "LayoutModel",
      "state": {}
     },
     "b6547ee7deda4a4ea9948d47a558d8ac": {
      "model_module": "@jupyter-widgets/controls",
      "model_module_version": "1.4.0",
      "model_name": "AccordionModel",
      "state": {
       "_titles": {
        "0": "Importar .shp",
        "1": "Importar .shp de malha processada"
       },
       "children": [
        "IPY_MODEL_10ec8b2d0d9b4ce5a64959e52ad596ad",
        "IPY_MODEL_63625f6673034bef914d41cffcc932e1"
       ],
       "layout": "IPY_MODEL_3f1aa3d258734f4fbd3abefc97131ec2",
       "selected_index": 1
      }
     },
     "b663f6134ae84f73a24478c636a84d00": {
      "model_module": "@jupyter-widgets/controls",
      "model_module_version": "1.4.0",
      "model_name": "ButtonStyleModel",
      "state": {}
     },
     "b66af32819ec434d93691766d1ec4bbf": {
      "model_module": "@jupyter-widgets/base",
      "model_module_version": "1.1.0",
      "model_name": "LayoutModel",
      "state": {
       "width": "500px"
      }
     },
     "b66f2594997943b0a4b3116a602b9ef4": {
      "model_module": "@jupyter-widgets/base",
      "model_module_version": "1.1.0",
      "model_name": "LayoutModel",
      "state": {}
     },
     "b6926e751ceb4117a6663bc666a70760": {
      "model_module": "@jupyter-widgets/controls",
      "model_module_version": "1.4.0",
      "model_name": "TabModel",
      "state": {
       "_titles": {
        "0": "Projetos",
        "1": "Shapefiles"
       },
       "children": [
        "IPY_MODEL_5104a7002df946f8909467a96d6f2de3",
        "IPY_MODEL_66eda3c986f743bf89fb85d4a796b5a4"
       ],
       "layout": "IPY_MODEL_50662986d8454f5c8c5db2f2bed5b4a1"
      }
     },
     "b6a59fbbf17d44658b50b5782fcad8e8": {
      "model_module": "@jupyter-widgets/base",
      "model_module_version": "1.1.0",
      "model_name": "LayoutModel",
      "state": {
       "width": "30%"
      }
     },
     "b6a76f1c41b04f97b79c303957a3040a": {
      "model_module": "@jupyter-widgets/base",
      "model_module_version": "1.1.0",
      "model_name": "LayoutModel",
      "state": {
       "width": "400px"
      }
     },
     "b6c4a53182b74101be567bac86a47d9a": {
      "model_module": "@jupyter-widgets/base",
      "model_module_version": "1.1.0",
      "model_name": "LayoutModel",
      "state": {}
     },
     "b6cd398fa27e43ebb956a12a3c6aa030": {
      "model_module": "@jupyter-widgets/controls",
      "model_module_version": "1.4.0",
      "model_name": "ButtonModel",
      "state": {
       "description": "Importar .shp de malha processada",
       "layout": "IPY_MODEL_bd4f339a48084dad8b08f6dabe691546",
       "style": "IPY_MODEL_5333ea2f7b194e4b89c843327e3fbc4c",
       "tooltip": "Importa um .shp que teve sua malha processada"
      }
     },
     "b6d8f601ad1f4d06914debf14440fb1b": {
      "model_module": "@jupyter-widgets/base",
      "model_module_version": "1.1.0",
      "model_name": "LayoutModel",
      "state": {}
     },
     "b6da72bc2a71483ba40895c0b88f1db5": {
      "model_module": "@jupyter-widgets/controls",
      "model_module_version": "1.4.0",
      "model_name": "DescriptionStyleModel",
      "state": {
       "description_width": "initial"
      }
     },
     "b70b23d5a1944ed6948d623fafbedaba": {
      "model_module": "@jupyter-widgets/controls",
      "model_module_version": "1.4.0",
      "model_name": "ProgressStyleModel",
      "state": {
       "description_width": ""
      }
     },
     "b71dd56c6c8c449c8d5a0c02743be5ba": {
      "model_module": "@jupyter-widgets/controls",
      "model_module_version": "1.4.0",
      "model_name": "ButtonStyleModel",
      "state": {}
     },
     "b73d888855374055aa184b2e8c02a4dd": {
      "model_module": "@jupyter-widgets/base",
      "model_module_version": "1.1.0",
      "model_name": "LayoutModel",
      "state": {}
     },
     "b773701b73f4459493f6cd69ae68f738": {
      "model_module": "@jupyter-widgets/controls",
      "model_module_version": "1.4.0",
      "model_name": "TabModel",
      "state": {
       "_titles": {
        "0": "Métodos",
        "1": "Direções"
       },
       "children": [
        "IPY_MODEL_b99fe2ca20c4416ea57918ef162a79c4",
        "IPY_MODEL_f757b22f9a5b4f76b57d098d640f3b54"
       ],
       "layout": "IPY_MODEL_2d897ab17c054ba2867303dea9be82e4",
       "selected_index": 1
      }
     },
     "b7dc10e160c446d197bd28c8e8c586da": {
      "model_module": "@jupyter-widgets/controls",
      "model_module_version": "1.4.0",
      "model_name": "TabModel",
      "state": {
       "_titles": {
        "0": "Projetos",
        "1": "Shapefiles"
       },
       "children": [
        "IPY_MODEL_50d37d5ea9064750bb4d711ad6a10359",
        "IPY_MODEL_e08e830e5ace4f31bc37785c9a9f1687"
       ],
       "layout": "IPY_MODEL_ee0931c1b34b472da6f6093be62e79b2",
       "selected_index": 1
      }
     },
     "b8304f7b39944756850c3589f10d5323": {
      "model_module": "@jupyter-widgets/base",
      "model_module_version": "1.1.0",
      "model_name": "LayoutModel",
      "state": {}
     },
     "b864b002e96b4d8498953acf8fdac477": {
      "model_module": "@jupyter-widgets/controls",
      "model_module_version": "1.4.0",
      "model_name": "ButtonModel",
      "state": {
       "description": "Carregar pista(s) de vento já processada(s)",
       "layout": "IPY_MODEL_78571a0ae98d4217ad7c78acd410d664",
       "style": "IPY_MODEL_d187ccb5cc654d6a9574093c114817e9",
       "tooltip": "Carrega pista(s) de vento já processada(s)"
      }
     },
     "b86a48b8131747e1b6bdb521c536b586": {
      "model_module": "@jupyter-widgets/base",
      "model_module_version": "1.1.0",
      "model_name": "LayoutModel",
      "state": {
       "width": "400px"
      }
     },
     "b874b069379140529e73d204b1fddffc": {
      "model_module": "@jupyter-widgets/controls",
      "model_module_version": "1.4.0",
      "model_name": "AccordionModel",
      "state": {
       "_titles": {
        "0": "Criar projeto",
        "1": "Importar projeto"
       },
       "children": [
        "IPY_MODEL_48132cec34a446138e0a67803d5a5057",
        "IPY_MODEL_5ecd134bbb0e4a59a40e63cea531ac22"
       ],
       "layout": "IPY_MODEL_d76a7cca228542198347f50b84eb7a24",
       "selected_index": 1
      }
     },
     "b8764bcb44ee4f24baed687d1c9adace": {
      "model_module": "@jupyter-widgets/controls",
      "model_module_version": "1.4.0",
      "model_name": "TabModel",
      "state": {
       "_titles": {
        "0": "Projetos",
        "1": "Shapefiles"
       },
       "children": [
        "IPY_MODEL_6d33cdb96a9c4f03bc02ae0c75d669ad",
        "IPY_MODEL_5106fd41606e4b0499e3d30221cd79fa"
       ],
       "layout": "IPY_MODEL_3ed7ea80a67c4af78f0f04a0c0d03e19",
       "selected_index": 1
      }
     },
     "b889d5022b644f3b8559bda9fa53a52e": {
      "model_module": "@jupyter-widgets/base",
      "model_module_version": "1.1.0",
      "model_name": "LayoutModel",
      "state": {}
     },
     "b8d98a03774e4a9989fab5721971130d": {
      "model_module": "@jupyter-widgets/base",
      "model_module_version": "1.1.0",
      "model_name": "LayoutModel",
      "state": {}
     },
     "b8e31685e8ea4477b6d57b541efab444": {
      "model_module": "@jupyter-widgets/controls",
      "model_module_version": "1.4.0",
      "model_name": "ButtonModel",
      "state": {
       "description": "Importar .shp",
       "layout": "IPY_MODEL_f350fc8ec1174084a46c772282bc7b17",
       "style": "IPY_MODEL_223e47b4c7c94c20a14918c12a7c9409",
       "tooltip": "Importa um .shp para processamento"
      }
     },
     "b8f1f0879d674d6cb106676fa3f7a086": {
      "model_module": "@jupyter-widgets/controls",
      "model_module_version": "1.4.0",
      "model_name": "AccordionModel",
      "state": {
       "_titles": {
        "0": "Escolha do esquema de cores desejado"
       },
       "children": [
        "IPY_MODEL_e7aebf2344f0496fa88e1b4dba277b8b"
       ],
       "layout": "IPY_MODEL_d0c5aeda853d4a279f01356a69522aee"
      }
     },
     "b90be300b140427da2857b6c702bb2d5": {
      "model_module": "@jupyter-widgets/controls",
      "model_module_version": "1.4.0",
      "model_name": "ToggleButtonsModel",
      "state": {
       "_options_labels": [
        "Uma direção",
        "Todas as direções",
        "Outra direção"
       ],
       "button_style": "",
       "icons": [],
       "index": 0,
       "layout": "IPY_MODEL_f5b8eed9150e438fab9a5949fe6aa012",
       "style": "IPY_MODEL_7178f44659d745e2b65fe45a9b92f1be",
       "tooltips": []
      }
     },
     "b982ee68b98e4f5db369003250e2d535": {
      "model_module": "@jupyter-widgets/controls",
      "model_module_version": "1.4.0",
      "model_name": "ProgressStyleModel",
      "state": {
       "description_width": ""
      }
     },
     "b998cb7e156a43c182fd22dd1be7af3b": {
      "model_module": "@jupyter-widgets/controls",
      "model_module_version": "1.4.0",
      "model_name": "ButtonModel",
      "state": {
       "description": "Carregar projeto",
       "layout": "IPY_MODEL_bffc68fdcdda42898f6f7d301dfeb472",
       "style": "IPY_MODEL_89ccf881b62a4d2bb4ed0dad2725abbd",
       "tooltip": "Carrega o .csv de um projeto já criado"
      }
     },
     "b99fe2ca20c4416ea57918ef162a79c4": {
      "model_module": "@jupyter-widgets/controls",
      "model_module_version": "1.4.0",
      "model_name": "AccordionModel",
      "state": {
       "_titles": {
        "0": "Métodos para obtenção de pistas de vento"
       },
       "children": [
        "IPY_MODEL_3cb7eac9489348129e8d0cd3e645bf39"
       ],
       "layout": "IPY_MODEL_6d947d7fa28543c48a3b5e0d7c04061c"
      }
     },
     "b9b954d0686e4c9883097e1181bcddf3": {
      "model_module": "@jupyter-widgets/controls",
      "model_module_version": "1.4.0",
      "model_name": "ButtonModel",
      "state": {
       "description": "Carregar projeto",
       "layout": "IPY_MODEL_d18e2ecc8135425b854251bbe3b62c70",
       "style": "IPY_MODEL_6d833f18c455488cbcdbf26ca7bad1a0",
       "tooltip": "Carrega o .csv de um projeto já criado"
      }
     },
     "b9c6a9a2ac0d4b06ba370592e717f5df": {
      "model_module": "@jupyter-widgets/base",
      "model_module_version": "1.1.0",
      "model_name": "LayoutModel",
      "state": {}
     },
     "b9d08f28f72f4502984d1e1e21e49a21": {
      "model_module": "@jupyter-widgets/controls",
      "model_module_version": "1.4.0",
      "model_name": "ButtonStyleModel",
      "state": {}
     },
     "b9d7298fac764a72a50248155cad7648": {
      "model_module": "@jupyter-widgets/controls",
      "model_module_version": "1.4.0",
      "model_name": "RadioButtonsModel",
      "state": {
       "_options_labels": [
        "Georreferenciado",
        "Não georreferenciado"
       ],
       "description": "Georreferenciamento:",
       "index": 0,
       "layout": "IPY_MODEL_4077d655105e4216bdca0f11c7559281",
       "style": "IPY_MODEL_fe9769538519488fb6e52b2f04f84f73"
      }
     },
     "b9efdfff5ad541a1a2b0233506924658": {
      "model_module": "@jupyter-widgets/controls",
      "model_module_version": "1.4.0",
      "model_name": "ButtonStyleModel",
      "state": {}
     },
     "b9fe700304ff4a52ace80845b87ad8db": {
      "model_module": "@jupyter-widgets/controls",
      "model_module_version": "1.4.0",
      "model_name": "DescriptionStyleModel",
      "state": {
       "description_width": "initial"
      }
     },
     "ba4f05719e12474db8de6235b2331c4c": {
      "model_module": "@jupyter-widgets/controls",
      "model_module_version": "1.4.0",
      "model_name": "ButtonModel",
      "state": {
       "description": "Importar projeto",
       "layout": "IPY_MODEL_e85609f5e35c436cb985cb814d1a49cd",
       "style": "IPY_MODEL_5dfcdccecb05433d978aae0d45d39897",
       "tooltip": "Importa o .csv de um projeto criado"
      }
     },
     "ba79746e1730490490399c7598377016": {
      "model_module": "@jupyter-widgets/base",
      "model_module_version": "1.1.0",
      "model_name": "LayoutModel",
      "state": {
       "width": "30%"
      }
     },
     "ba8a2f7cc7dd416ab850f781ded92d14": {
      "model_module": "@jupyter-widgets/controls",
      "model_module_version": "1.4.0",
      "model_name": "SelectModel",
      "state": {
       "_options_labels": [
        "0.0°",
        "90.0°",
        "180.0°",
        "270.0°"
       ],
       "description": "Direção (°):",
       "index": 3,
       "layout": "IPY_MODEL_2677c5ac6e154d6787d6d588a84bffbc",
       "style": "IPY_MODEL_0bee58b6d0ad4d5c8dadd6a8f76c23fd"
      }
     },
     "bacffb90fdbe43208425c16ab61cb175": {
      "model_module": "@jupyter-widgets/controls",
      "model_module_version": "1.4.0",
      "model_name": "DescriptionStyleModel",
      "state": {
       "description_width": "initial"
      }
     },
     "bad7d7ccf8754437addfe6b62459b304": {
      "model_module": "@jupyter-widgets/controls",
      "model_module_version": "1.4.0",
      "model_name": "ButtonStyleModel",
      "state": {}
     },
     "badc0784a2954fae9e1a3a1ffdacbf5b": {
      "model_module": "@jupyter-widgets/controls",
      "model_module_version": "1.4.0",
      "model_name": "ButtonStyleModel",
      "state": {}
     },
     "bb258d74539f43019fb3c3ac33f403cf": {
      "model_module": "@jupyter-widgets/controls",
      "model_module_version": "1.4.0",
      "model_name": "ButtonModel",
      "state": {
       "description": "Carregar projeto",
       "layout": "IPY_MODEL_ed4d315bf8c24d5f97e4976e7bf67d8f",
       "style": "IPY_MODEL_11791c1bda074931b23eba104731f0bb",
       "tooltip": "Carrega o .csv de um projeto já criado"
      }
     },
     "bb2ec88e753a40f297f9beca63c4dfc9": {
      "model_module": "@jupyter-widgets/controls",
      "model_module_version": "1.4.0",
      "model_name": "FloatProgressModel",
      "state": {
       "description": "337.5°:",
       "layout": "IPY_MODEL_a6c9a91e11b4430f9e5948fcde47e055",
       "max": 1,
       "style": "IPY_MODEL_20db6234119446fa85daf7990382b5b6",
       "value": 1
      }
     },
     "bb3c9cf1480749d892d4251a0b546a37": {
      "model_module": "@jupyter-widgets/base",
      "model_module_version": "1.1.0",
      "model_name": "LayoutModel",
      "state": {}
     },
     "bb78acdf01c845cfa0b97c75b716562e": {
      "model_module": "@jupyter-widgets/base",
      "model_module_version": "1.1.0",
      "model_name": "LayoutModel",
      "state": {}
     },
     "bbf114474f5647f389b319d08aef7e1a": {
      "model_module": "@jupyter-widgets/controls",
      "model_module_version": "1.4.0",
      "model_name": "AccordionModel",
      "state": {
       "_titles": {
        "0": "Pistas de Vento"
       },
       "children": [
        "IPY_MODEL_c2d1f8fc71434de9a9f1c363dccd5c90"
       ],
       "layout": "IPY_MODEL_edeb2b61b1c24f4689062aa0a3bf3237"
      }
     },
     "bbfd0016e4064742bb222b0340c86899": {
      "model_module": "@jupyter-widgets/base",
      "model_module_version": "1.1.0",
      "model_name": "LayoutModel",
      "state": {}
     },
     "bc2251b14408454bbfefa203e0a33364": {
      "model_module": "@jupyter-widgets/controls",
      "model_module_version": "1.4.0",
      "model_name": "FloatProgressModel",
      "state": {
       "description": "270.00°:",
       "layout": "IPY_MODEL_93c37eee4f0d434ba492b55defe1784a",
       "max": 1,
       "style": "IPY_MODEL_05a695d8e765410098d8fcfcf46b4eda",
       "value": 1
      }
     },
     "bcb2833df3eb43f4af2ae14c33581276": {
      "model_module": "@jupyter-widgets/base",
      "model_module_version": "1.1.0",
      "model_name": "LayoutModel",
      "state": {}
     },
     "bcb686535c94434a996c755b498a6a2c": {
      "model_module": "@jupyter-widgets/controls",
      "model_module_version": "1.4.0",
      "model_name": "ButtonStyleModel",
      "state": {}
     },
     "bcc1eb3ee60d46f194803a16121cc307": {
      "model_module": "@jupyter-widgets/base",
      "model_module_version": "1.1.0",
      "model_name": "LayoutModel",
      "state": {
       "width": "500px"
      }
     },
     "bcdb37f0fcb642c09733c65bf409ed71": {
      "model_module": "@jupyter-widgets/controls",
      "model_module_version": "1.4.0",
      "model_name": "DropdownModel",
      "state": {
       "_options_labels": [
        "300",
        "600",
        "1200"
       ],
       "description": "Selecione a DPI desejada:",
       "index": 2,
       "layout": "IPY_MODEL_0925044e51704da2a5edd139e43fdeb2",
       "style": "IPY_MODEL_0c6b09279ed44c58bf3d762b5924bf38"
      }
     },
     "bd1eace7df104288bba7a142869cd4ff": {
      "model_module": "@jupyter-widgets/base",
      "model_module_version": "1.1.0",
      "model_name": "LayoutModel",
      "state": {}
     },
     "bd2a896830e34ebb8515af0e12891e30": {
      "model_module": "@jupyter-widgets/controls",
      "model_module_version": "1.4.0",
      "model_name": "ToggleButtonsStyleModel",
      "state": {
       "button_width": ""
      }
     },
     "bd4f339a48084dad8b08f6dabe691546": {
      "model_module": "@jupyter-widgets/base",
      "model_module_version": "1.1.0",
      "model_name": "LayoutModel",
      "state": {
       "width": "30%"
      }
     },
     "bda959045abf456b908b57314321cbed": {
      "model_module": "@jupyter-widgets/controls",
      "model_module_version": "1.4.0",
      "model_name": "TextModel",
      "state": {
       "layout": "IPY_MODEL_99cd9e69e5884a9fbdeb7a4665d25f30",
       "style": "IPY_MODEL_cf94e9a6d7a1481b8478509f3d32d8d1",
       "value": "Teste"
      }
     },
     "be6a4436532f423ba8c17b202a73999f": {
      "model_module": "@jupyter-widgets/controls",
      "model_module_version": "1.4.0",
      "model_name": "TabModel",
      "state": {
       "_titles": {
        "0": "Malha"
       },
       "children": [
        "IPY_MODEL_920629af8e104f20b7ab4eadd4bcb4ac"
       ],
       "layout": "IPY_MODEL_b889d5022b644f3b8559bda9fa53a52e"
      }
     },
     "beb81740136e4945851e780932fcb470": {
      "model_module": "@jupyter-widgets/controls",
      "model_module_version": "1.4.0",
      "model_name": "ProgressStyleModel",
      "state": {
       "description_width": ""
      }
     },
     "beb91c0f5cea47dea4b86a75e7ed1460": {
      "model_module": "@jupyter-widgets/controls",
      "model_module_version": "1.4.0",
      "model_name": "ButtonModel",
      "state": {
       "description": "Importar projeto",
       "layout": "IPY_MODEL_5061cc556eb844c2854e8a814d78c187",
       "style": "IPY_MODEL_22e3b7c87c9745d3a3efcd86b73b605b",
       "tooltip": "Importa o .csv de um projeto criado"
      }
     },
     "bec06f96212c4f32a255d195f693df40": {
      "model_module": "@jupyter-widgets/controls",
      "model_module_version": "1.4.0",
      "model_name": "SelectMultipleModel",
      "state": {
       "_options_labels": [
        "0.0°",
        "22.5°",
        "45.0°",
        "67.5°",
        "90.0°",
        "112.5°",
        "135.0°",
        "157.5°",
        "180.0°",
        "202.5°",
        "225.0°",
        "247.5°",
        "270.0°",
        "292.5°",
        "315.0°",
        "337.5°"
       ],
       "description": "Selecione a(s) direção(ões) (°) desejada(s):",
       "index": [],
       "layout": "IPY_MODEL_44c2a8a71a6547b2a9065ef13c3d59b1",
       "rows": 5,
       "style": "IPY_MODEL_4edc039694b14cd492da77c484763fd1"
      }
     },
     "becb9745cc5545c193ece984fb4ddbf1": {
      "model_module": "@jupyter-widgets/base",
      "model_module_version": "1.1.0",
      "model_name": "LayoutModel",
      "state": {}
     },
     "beda2bb6c3ad405fb82a29ec2e90471d": {
      "model_module": "@jupyter-widgets/base",
      "model_module_version": "1.1.0",
      "model_name": "LayoutModel",
      "state": {}
     },
     "bef46e95341f4ea1bc1c7709e6dbc0b2": {
      "model_module": "@jupyter-widgets/base",
      "model_module_version": "1.1.0",
      "model_name": "LayoutModel",
      "state": {
       "width": "500px"
      }
     },
     "bfa809fcf78a43e29077d77d4fe38eb0": {
      "model_module": "@jupyter-widgets/controls",
      "model_module_version": "1.4.0",
      "model_name": "ToggleButtonsStyleModel",
      "state": {
       "button_width": "",
       "description_width": ""
      }
     },
     "bfcc738e4e774aa39feb87806fa231ba": {
      "model_module": "@jupyter-widgets/controls",
      "model_module_version": "1.4.0",
      "model_name": "FloatTextModel",
      "state": {
       "layout": "IPY_MODEL_38f936ef211b4286832cf4117f89b4ac",
       "step": null,
       "style": "IPY_MODEL_5efcb97c44544c009a1254daddd355ce",
       "value": 400
      }
     },
     "bffc68fdcdda42898f6f7d301dfeb472": {
      "model_module": "@jupyter-widgets/base",
      "model_module_version": "1.1.0",
      "model_name": "LayoutModel",
      "state": {}
     },
     "c0146e262ce04277a32bf51a53290658": {
      "model_module": "@jupyter-widgets/base",
      "model_module_version": "1.1.0",
      "model_name": "LayoutModel",
      "state": {
       "width": "400px"
      }
     },
     "c05e014393d84fc5b670e97a04c9ee06": {
      "model_module": "@jupyter-widgets/controls",
      "model_module_version": "1.4.0",
      "model_name": "FloatProgressModel",
      "state": {
       "description": "0.00°:",
       "layout": "IPY_MODEL_37804523eeb84f7caad358247cc29110",
       "max": 1,
       "style": "IPY_MODEL_e9462a70a5ac419dafa302ee47c5c823",
       "value": 1
      }
     },
     "c06576aea8724d9d9443a4afde0001c5": {
      "model_module": "@jupyter-widgets/controls",
      "model_module_version": "1.4.0",
      "model_name": "ProgressStyleModel",
      "state": {
       "description_width": ""
      }
     },
     "c0672ccc3dda4ccd956b2fe4bf09332c": {
      "model_module": "@jupyter-widgets/base",
      "model_module_version": "1.1.0",
      "model_name": "LayoutModel",
      "state": {}
     },
     "c095d721828f40e0b16215882587d228": {
      "model_module": "@jupyter-widgets/controls",
      "model_module_version": "1.4.0",
      "model_name": "ProgressStyleModel",
      "state": {
       "description_width": ""
      }
     },
     "c098a11c34b04f6daec388bb9dc18dad": {
      "model_module": "@jupyter-widgets/controls",
      "model_module_version": "1.4.0",
      "model_name": "DescriptionStyleModel",
      "state": {
       "description_width": "initial"
      }
     },
     "c0f7ea6b604b438292e67ba08a1665ba": {
      "model_module": "@jupyter-widgets/controls",
      "model_module_version": "1.4.0",
      "model_name": "ProgressStyleModel",
      "state": {
       "description_width": ""
      }
     },
     "c161f99585c24ff18ea20f6ce8d46cfd": {
      "model_module": "@jupyter-widgets/controls",
      "model_module_version": "1.4.0",
      "model_name": "ButtonStyleModel",
      "state": {}
     },
     "c165edbeee4b405596627ee3fb37543c": {
      "model_module": "@jupyter-widgets/controls",
      "model_module_version": "1.4.0",
      "model_name": "FloatTextModel",
      "state": {
       "description": "Outra direção (°):",
       "layout": "IPY_MODEL_a6062d16908c47cdab53953794957028",
       "step": null,
       "style": "IPY_MODEL_8e4d4aa01f0440458e085949f23b6462"
      }
     },
     "c1774888578545e1a975032c8659aafb": {
      "model_module": "@jupyter-widgets/controls",
      "model_module_version": "1.4.0",
      "model_name": "SelectMultipleModel",
      "state": {
       "_options_labels": [
        "N (0.0°)",
        "NNE (22.5°)",
        "NE (45.0°)",
        "ENE (67.5°)",
        "E (90.0°)",
        "ESE (112.5°)",
        "SE (135.0°)",
        "SSE (157.5°)",
        "S (180.0°)",
        "SSW (202.5°)",
        "SW (225.0°)",
        "WSW (247.5°)",
        "W (270.0°)",
        "WNW (292.5°)",
        "NW (315.0°)",
        "NNW (337.5°)",
        "N (360.0°)"
       ],
       "description": "Selecione a direção (°) desejada:",
       "index": [
        0,
        1,
        2,
        3,
        4,
        5,
        6,
        7,
        8,
        9,
        10,
        11,
        12,
        13,
        14,
        15,
        16
       ],
       "layout": "IPY_MODEL_0c50d892bad34ff6acfc763b22893f3f",
       "rows": 5,
       "style": "IPY_MODEL_334d5b48bfdc44659e486558bf39f9cf"
      }
     },
     "c1b01418406a4d7792dd0ef295e8f1d5": {
      "model_module": "@jupyter-widgets/controls",
      "model_module_version": "1.4.0",
      "model_name": "TabModel",
      "state": {
       "_titles": {
        "0": "Pistas de vento",
        "1": "DPI",
        "2": "Esquema de cores"
       },
       "children": [
        "IPY_MODEL_778e61a99f2a48e69daa9b5620fabeb7",
        "IPY_MODEL_0cff281b802b4265af04f6c0c5c94102",
        "IPY_MODEL_52bf0b8b0e7e455297de24c0a6d7d444"
       ],
       "layout": "IPY_MODEL_1e681ca1ac73473daedb57ac26c10c3a",
       "selected_index": 2
      }
     },
     "c1e0cd0719004129a179b9081107da74": {
      "model_module": "@jupyter-widgets/base",
      "model_module_version": "1.1.0",
      "model_name": "LayoutModel",
      "state": {
       "width": "500px"
      }
     },
     "c1e1963e836244ba84fc9075eade3457": {
      "model_module": "@jupyter-widgets/controls",
      "model_module_version": "1.4.0",
      "model_name": "AccordionModel",
      "state": {
       "_titles": {
        "0": "Malha (m)"
       },
       "children": [
        "IPY_MODEL_55fc6741e06f4c65930505cb5259c0e0"
       ],
       "layout": "IPY_MODEL_8ae5f9ac0d074b9aab3d703f1d6d4bd1"
      }
     },
     "c1ffe4c08a7c4dc3b64bd69a16652f4a": {
      "model_module": "@jupyter-widgets/controls",
      "model_module_version": "1.4.0",
      "model_name": "ButtonStyleModel",
      "state": {}
     },
     "c201123060bf431482185dc18c35889d": {
      "model_module": "@jupyter-widgets/base",
      "model_module_version": "1.1.0",
      "model_name": "LayoutModel",
      "state": {
       "width": "500px"
      }
     },
     "c243373d15a746bab8a0d37b4797315a": {
      "model_module": "@jupyter-widgets/base",
      "model_module_version": "1.1.0",
      "model_name": "LayoutModel",
      "state": {}
     },
     "c246034dd8074ed8894a37d071264d61": {
      "model_module": "@jupyter-widgets/controls",
      "model_module_version": "1.4.0",
      "model_name": "TabModel",
      "state": {
       "_titles": {
        "0": "Malha"
       },
       "children": [
        "IPY_MODEL_0937525b2db540a68812930798259048"
       ],
       "layout": "IPY_MODEL_1c43fe282b6242c5acfe84d0081a52dc"
      }
     },
     "c29d06f0d3ab45b5a4dbe8f4bde3a92b": {
      "model_module": "@jupyter-widgets/controls",
      "model_module_version": "1.4.0",
      "model_name": "AccordionModel",
      "state": {
       "_titles": {
        "0": "Direções convencionais",
        "1": "Direção específica"
       },
       "children": [
        "IPY_MODEL_aa3f1509dcc84c15b9d1effd2697f56d",
        "IPY_MODEL_d718a73001e04bce9a8051c4dc30c374"
       ],
       "layout": "IPY_MODEL_59aecc859abe457eb45e57e24325c243"
      }
     },
     "c2a00cea8c7644fc8485649a2cd36bf2": {
      "model_module": "@jupyter-widgets/base",
      "model_module_version": "1.1.0",
      "model_name": "LayoutModel",
      "state": {}
     },
     "c2aa1e6f6a40472497c2c657118de3f0": {
      "model_module": "@jupyter-widgets/controls",
      "model_module_version": "1.4.0",
      "model_name": "DescriptionStyleModel",
      "state": {
       "description_width": ""
      }
     },
     "c2d1f8fc71434de9a9f1c363dccd5c90": {
      "model_module": "@jupyter-widgets/controls",
      "model_module_version": "1.4.0",
      "model_name": "ButtonModel",
      "state": {
       "description": "Carregar pista(s) de vento já processada(s)",
       "layout": "IPY_MODEL_72eec228a6f74da3bdb4121de9b5f7fb",
       "style": "IPY_MODEL_86dfa823ef2742c3a15beb0b512395e4",
       "tooltip": "Carrega pista(s) de vento já processada(s)"
      }
     },
     "c2f4cd29cf50468ba3d72015720f8299": {
      "model_module": "@jupyter-widgets/controls",
      "model_module_version": "1.4.0",
      "model_name": "ButtonStyleModel",
      "state": {}
     },
     "c32082db076c4698a59789431c4e0917": {
      "model_module": "@jupyter-widgets/controls",
      "model_module_version": "1.4.0",
      "model_name": "ButtonStyleModel",
      "state": {}
     },
     "c3334a3421424e1bbb154801114b2b27": {
      "model_module": "@jupyter-widgets/controls",
      "model_module_version": "1.4.0",
      "model_name": "AccordionModel",
      "state": {
       "_titles": {
        "0": "Criar projeto",
        "1": "Importar projeto"
       },
       "children": [
        "IPY_MODEL_5949216693a841588218d5fd736918cb",
        "IPY_MODEL_112b3f6198744723bef0f6fa73585db4"
       ],
       "layout": "IPY_MODEL_827888ac038f4345ba50276e4698f95a"
      }
     },
     "c33495105785495aaf1613747d84bfdf": {
      "model_module": "@jupyter-widgets/controls",
      "model_module_version": "1.4.0",
      "model_name": "ButtonModel",
      "state": {
       "description": "Criar projeto",
       "layout": "IPY_MODEL_39169079152948ba80395c5c1c31cd01",
       "style": "IPY_MODEL_e764285b0d5745de9edc16d7e6c9e4fa",
       "tooltip": "Cria um novo projeto"
      }
     },
     "c366f589282d4cfe8503f8f159b833ed": {
      "model_module": "@jupyter-widgets/base",
      "model_module_version": "1.1.0",
      "model_name": "LayoutModel",
      "state": {
       "width": "30%"
      }
     },
     "c37d9d0286114ff480488c79d5a9ef03": {
      "model_module": "@jupyter-widgets/base",
      "model_module_version": "1.1.0",
      "model_name": "LayoutModel",
      "state": {}
     },
     "c3c73ac1683947edb617ab7bfd7338b7": {
      "model_module": "@jupyter-widgets/controls",
      "model_module_version": "1.4.0",
      "model_name": "DropdownModel",
      "state": {
       "_options_labels": [
        "binary",
        "Blues",
        "brg",
        "BuGn",
        "cool",
        "cubehelix",
        "gist_earth",
        "gist_ncar",
        "gist_rainbow",
        "gnuplot",
        "gnuplot2",
        "hsv",
        "jet",
        "magma",
        "nipy_spectral",
        "ocean",
        "plasma",
        "rainbow",
        "Spectral",
        "terrain",
        "winter"
       ],
       "description": "Selecione o esquema de cores desejado:",
       "index": 12,
       "layout": "IPY_MODEL_da80fdd5109e4921a6bdd611ea52cac7",
       "style": "IPY_MODEL_50e37edc2f4247dd94a7d9fc0d7ccea2"
      }
     },
     "c3d2454a033d4eb7b129e902899c2088": {
      "model_module": "@jupyter-widgets/base",
      "model_module_version": "1.1.0",
      "model_name": "LayoutModel",
      "state": {}
     },
     "c3dfbf8db06c4bcd80c0fbcb848060e4": {
      "model_module": "@jupyter-widgets/controls",
      "model_module_version": "1.4.0",
      "model_name": "AccordionModel",
      "state": {
       "_titles": {
        "0": "Importar .shp",
        "1": "Importar .shp de malha processada"
       },
       "children": [
        "IPY_MODEL_6a3949d57444414c9bf977abb0d27585",
        "IPY_MODEL_3954aecefc514f1c9a64cb60b9f958c2"
       ],
       "layout": "IPY_MODEL_31d560aeb0bd484380e55b776f31cef0"
      }
     },
     "c3e2ed166cb94e3686e1a9a5a9517488": {
      "model_module": "@jupyter-widgets/controls",
      "model_module_version": "1.4.0",
      "model_name": "FloatProgressModel",
      "state": {
       "description": "157.5°:",
       "layout": "IPY_MODEL_085c4b65480e4b12833cdea2133d4969",
       "max": 1,
       "style": "IPY_MODEL_a3ba54edf6594a4f828ea87416df68b2",
       "value": 1
      }
     },
     "c3eed41a208e4ffd9daaafed74b2b0af": {
      "model_module": "@jupyter-widgets/controls",
      "model_module_version": "1.4.0",
      "model_name": "DescriptionStyleModel",
      "state": {
       "description_width": ""
      }
     },
     "c4385c407cbc41aa950a3a7fb64e29bf": {
      "model_module": "@jupyter-widgets/base",
      "model_module_version": "1.1.0",
      "model_name": "LayoutModel",
      "state": {}
     },
     "c448ac00436c4a8abc419834e68ac7a4": {
      "model_module": "@jupyter-widgets/base",
      "model_module_version": "1.1.0",
      "model_name": "LayoutModel",
      "state": {}
     },
     "c469ae7071194e14b6aefa0b97910eaa": {
      "model_module": "@jupyter-widgets/controls",
      "model_module_version": "1.4.0",
      "model_name": "RadioButtonsModel",
      "state": {
       "_options_labels": [
        "Georreferenciado",
        "Não georreferenciado"
       ],
       "description": "Georreferenciamento:",
       "index": 0,
       "layout": "IPY_MODEL_2ba8ca181ce64cb9b3641a40413c5d8f",
       "style": "IPY_MODEL_7989323a62a144e69a0488e6c90997b1"
      }
     },
     "c4973635980143e2866243587f1aceac": {
      "model_module": "@jupyter-widgets/controls",
      "model_module_version": "1.4.0",
      "model_name": "DescriptionStyleModel",
      "state": {
       "description_width": ""
      }
     },
     "c49dc21efcbf45679c4693c1548e2ebf": {
      "model_module": "@jupyter-widgets/controls",
      "model_module_version": "1.4.0",
      "model_name": "DescriptionStyleModel",
      "state": {
       "description_width": "initial"
      }
     },
     "c4b34a4e4dbe4168b3054258486302e3": {
      "model_module": "@jupyter-widgets/base",
      "model_module_version": "1.1.0",
      "model_name": "LayoutModel",
      "state": {}
     },
     "c4b932f6bb6f4bdb83dc2267d95e46c6": {
      "model_module": "@jupyter-widgets/base",
      "model_module_version": "1.1.0",
      "model_name": "LayoutModel",
      "state": {
       "width": "400px"
      }
     },
     "c4bfee0f30274f6a858af1013c6638a1": {
      "model_module": "@jupyter-widgets/controls",
      "model_module_version": "1.4.0",
      "model_name": "ToggleButtonsModel",
      "state": {
       "_options_labels": [
        "Método SPM",
        "Método de Saville"
       ],
       "button_style": "",
       "icons": [],
       "index": 0,
       "layout": "IPY_MODEL_ade8bde1878f482f8b9f844cd23fdecc",
       "style": "IPY_MODEL_0c721ab526384fcb8f8d7c913e3604ca",
       "tooltips": []
      }
     },
     "c51d863b350d4e5faf211d91f3ff9d98": {
      "model_module": "@jupyter-widgets/base",
      "model_module_version": "1.1.0",
      "model_name": "LayoutModel",
      "state": {}
     },
     "c53d95604c164db4be0e3f57f2dfc8f6": {
      "model_module": "@jupyter-widgets/base",
      "model_module_version": "1.1.0",
      "model_name": "LayoutModel",
      "state": {}
     },
     "c55e2301c88c43429766e629ea95c1c8": {
      "model_module": "@jupyter-widgets/controls",
      "model_module_version": "1.4.0",
      "model_name": "DescriptionStyleModel",
      "state": {
       "description_width": ""
      }
     },
     "c563a9f806cc4c1b8a0ae6eabe5a8cd4": {
      "model_module": "@jupyter-widgets/base",
      "model_module_version": "1.1.0",
      "model_name": "LayoutModel",
      "state": {}
     },
     "c564d8a688f34cefab805fd7d3b092fc": {
      "model_module": "@jupyter-widgets/base",
      "model_module_version": "1.1.0",
      "model_name": "LayoutModel",
      "state": {}
     },
     "c58a23a3f1b44c8cbd3979ff95955349": {
      "model_module": "@jupyter-widgets/controls",
      "model_module_version": "1.4.0",
      "model_name": "FloatProgressModel",
      "state": {
       "description": "90.0°:",
       "layout": "IPY_MODEL_d9a2e68e666546e1a82bc988d7932aaf",
       "max": 1,
       "style": "IPY_MODEL_570d35618f1845ac8a079e8ca40563a2",
       "value": 1
      }
     },
     "c5b05be3f47e4aa5889a9c81ed8e8d31": {
      "model_module": "@jupyter-widgets/controls",
      "model_module_version": "1.4.0",
      "model_name": "ButtonModel",
      "state": {
       "description": "Importar pista(s) de vento processada(s)",
       "layout": "IPY_MODEL_3195caf272074c599aea06094f38850e",
       "style": "IPY_MODEL_656f672333b446838d669a55bda41f60",
       "tooltip": "Importa pista(s) de vento processada(s)"
      }
     },
     "c5e04699562b479eb0483aecde8d12d6": {
      "model_module": "@jupyter-widgets/base",
      "model_module_version": "1.1.0",
      "model_name": "LayoutModel",
      "state": {}
     },
     "c5fb11d4605f426ca1f32b149bdacad5": {
      "model_module": "@jupyter-widgets/base",
      "model_module_version": "1.1.0",
      "model_name": "LayoutModel",
      "state": {}
     },
     "c600ba3cc9334d7a8b02b64397e92a66": {
      "model_module": "@jupyter-widgets/base",
      "model_module_version": "1.1.0",
      "model_name": "LayoutModel",
      "state": {}
     },
     "c6346f75e55949ca9a33f48ab9861141": {
      "model_module": "@jupyter-widgets/controls",
      "model_module_version": "1.4.0",
      "model_name": "ButtonModel",
      "state": {
       "description": "Importar .shp",
       "layout": "IPY_MODEL_17c813a459ef41dfb83063bfd9e51fb7",
       "style": "IPY_MODEL_40be2dfd4f6948dc8ff1c8639607d554",
       "tooltip": "Importa um .shp para processamento"
      }
     },
     "c6723dd663f84119a1aa326210907e5b": {
      "model_module": "@jupyter-widgets/controls",
      "model_module_version": "1.4.0",
      "model_name": "ButtonModel",
      "state": {
       "description": "Criar projeto",
       "layout": "IPY_MODEL_b2c6fefd1d994a85a69b5527d778c367",
       "style": "IPY_MODEL_2486cc0f2b224111ac49aa823ef1db2a",
       "tooltip": "Cria um novo projeto"
      }
     },
     "c68423fbd49c4d3bb0dc9918b8e0804f": {
      "model_module": "@jupyter-widgets/controls",
      "model_module_version": "1.4.0",
      "model_name": "AccordionModel",
      "state": {
       "_titles": {
        "0": "Escolha do esquema de cores desejado"
       },
       "children": [
        "IPY_MODEL_9a3502f0a52a4054acffc0eb8d406522"
       ],
       "layout": "IPY_MODEL_1ddebe7acda5486dbef9af5e153d7fb1"
      }
     },
     "c6ba756c479c42c4b11e25389517c04a": {
      "model_module": "@jupyter-widgets/controls",
      "model_module_version": "1.4.0",
      "model_name": "AccordionModel",
      "state": {
       "_titles": {
        "0": "Escolha do esquema de cores desejado"
       },
       "children": [
        "IPY_MODEL_71c98d9f8bab438a8a333ea01b93739a"
       ],
       "layout": "IPY_MODEL_9c391714e262470b8d589a21731bbb24"
      }
     },
     "c6c47f5ec2104ab5ab9bf0d402eed648": {
      "model_module": "@jupyter-widgets/controls",
      "model_module_version": "1.4.0",
      "model_name": "AccordionModel",
      "state": {
       "_titles": {
        "0": "Criar projeto",
        "1": "Carregar projeto"
       },
       "children": [
        "IPY_MODEL_c33495105785495aaf1613747d84bfdf",
        "IPY_MODEL_7ee30b1d734d43c2a4efe0a196cc52ed"
       ],
       "layout": "IPY_MODEL_ca9c64fe47d44d64ba3660cfbb4f23b7"
      }
     },
     "c71bb6caf94d4bf1946fbe80579dd4fa": {
      "model_module": "@jupyter-widgets/controls",
      "model_module_version": "1.4.0",
      "model_name": "ButtonStyleModel",
      "state": {}
     },
     "c7643889ff0f49b1b47fc33d9d465df3": {
      "model_module": "@jupyter-widgets/controls",
      "model_module_version": "1.4.0",
      "model_name": "ProgressStyleModel",
      "state": {
       "description_width": ""
      }
     },
     "c795a2412a2e453d97f3302fa8676c46": {
      "model_module": "@jupyter-widgets/controls",
      "model_module_version": "1.4.0",
      "model_name": "DescriptionStyleModel",
      "state": {
       "description_width": "initial"
      }
     },
     "c7ce5f87be844876a102e24abaab5c02": {
      "model_module": "@jupyter-widgets/base",
      "model_module_version": "1.1.0",
      "model_name": "LayoutModel",
      "state": {}
     },
     "c7eee63db4b3445e95737de73dda0c7b": {
      "model_module": "@jupyter-widgets/controls",
      "model_module_version": "1.4.0",
      "model_name": "AccordionModel",
      "state": {
       "_titles": {
        "0": "Importar .shp",
        "1": "Importar .shp de malha processada"
       },
       "children": [
        "IPY_MODEL_dda2ed05e6d34b698e9ecb37558e19c8",
        "IPY_MODEL_73e982126a2b4246a46694e3bcee0a52"
       ],
       "layout": "IPY_MODEL_0ff4c04ae47c430ca2fdb1b1386b896d"
      }
     },
     "c83c76acfe864e8eba8f87ead25bec9c": {
      "model_module": "@jupyter-widgets/base",
      "model_module_version": "1.1.0",
      "model_name": "LayoutModel",
      "state": {}
     },
     "c87dae5e358445a982df56b4f755d558": {
      "model_module": "@jupyter-widgets/controls",
      "model_module_version": "1.4.0",
      "model_name": "ButtonStyleModel",
      "state": {}
     },
     "c8d5410aa11d45b4af33055d509587af": {
      "model_module": "@jupyter-widgets/controls",
      "model_module_version": "1.4.0",
      "model_name": "SelectModel",
      "state": {
       "_options_labels": [
        "0.0°",
        "180.0°",
        "337.5°",
        "67.5°"
       ],
       "description": "Direção (°):",
       "index": 2,
       "layout": "IPY_MODEL_2b20c05813bd4d29a96b6c4ea1928855",
       "style": "IPY_MODEL_861d324135714b0d95d11caa77639432"
      }
     },
     "c90958b4f21e4e089b70ed928df73dd1": {
      "model_module": "@jupyter-widgets/base",
      "model_module_version": "1.1.0",
      "model_name": "LayoutModel",
      "state": {}
     },
     "c920ea49b4864982b68ea376f8216a7a": {
      "model_module": "@jupyter-widgets/base",
      "model_module_version": "1.1.0",
      "model_name": "LayoutModel",
      "state": {}
     },
     "c93ad3008c124e8f90f4f6680fc1038d": {
      "model_module": "@jupyter-widgets/controls",
      "model_module_version": "1.4.0",
      "model_name": "ButtonModel",
      "state": {
       "description": "Carregar .shp de malha processada",
       "layout": "IPY_MODEL_a3e1231f952243bc8aa634df0f26cc15",
       "style": "IPY_MODEL_8352eb0ff0d84a66a0d3d139df81ff3a",
       "tooltip": "Carrega um .shp que já teve sua malha processada"
      }
     },
     "c96176e785fb491783829d4a7e3f0449": {
      "model_module": "@jupyter-widgets/controls",
      "model_module_version": "1.4.0",
      "model_name": "DescriptionStyleModel",
      "state": {
       "description_width": "initial"
      }
     },
     "c99bc47b82244eba82b52bbea119fc42": {
      "model_module": "@jupyter-widgets/base",
      "model_module_version": "1.1.0",
      "model_name": "LayoutModel",
      "state": {}
     },
     "c9b0f69cb6e143e4b9c2c81c045588ff": {
      "model_module": "@jupyter-widgets/controls",
      "model_module_version": "1.4.0",
      "model_name": "TabModel",
      "state": {
       "_titles": {
        "0": "Pistas de vento",
        "1": "DPI",
        "2": "Esquema de cores"
       },
       "children": [
        "IPY_MODEL_3c1a091dc4b14b12ab848c0adb515005",
        "IPY_MODEL_3f08713014994e07b7ca9c8b974ea076",
        "IPY_MODEL_58f508a5da064cd880d211b6a968c310"
       ],
       "layout": "IPY_MODEL_13d1f58d0cf349f39834c1160c0ca558"
      }
     },
     "c9b219201c2149f88e9327f7aa9f3fbd": {
      "model_module": "@jupyter-widgets/controls",
      "model_module_version": "1.4.0",
      "model_name": "AccordionModel",
      "state": {
       "_titles": {
        "0": "Escolha do esquema de cores desejado"
       },
       "children": [
        "IPY_MODEL_4189f062456044d6bb2ca9e26fccf427"
       ],
       "layout": "IPY_MODEL_8d727c3509fc4cefb7b11a03c3428524"
      }
     },
     "c9b5a33dccfd4287b3dd45c92f6797bc": {
      "model_module": "@jupyter-widgets/base",
      "model_module_version": "1.1.0",
      "model_name": "LayoutModel",
      "state": {}
     },
     "c9c203e6be104cbebf1bdc96bb96dd8a": {
      "model_module": "@jupyter-widgets/base",
      "model_module_version": "1.1.0",
      "model_name": "LayoutModel",
      "state": {}
     },
     "c9c2b5b9c9f24103bd5d7dbe2e5072ba": {
      "model_module": "@jupyter-widgets/controls",
      "model_module_version": "1.4.0",
      "model_name": "DescriptionStyleModel",
      "state": {
       "description_width": "initial"
      }
     },
     "ca1e34ce962741659748fd9b75eae769": {
      "model_module": "@jupyter-widgets/controls",
      "model_module_version": "1.4.0",
      "model_name": "FloatProgressModel",
      "state": {
       "description": "225.00°:",
       "layout": "IPY_MODEL_7f505198a6454e2492de5d38fc706cd0",
       "max": 1,
       "style": "IPY_MODEL_59a69ce3b67c4a6aafcf14a749d2f800",
       "value": 1
      }
     },
     "ca789394d82b4d0f8b810ca6a133dc32": {
      "model_module": "@jupyter-widgets/controls",
      "model_module_version": "1.4.0",
      "model_name": "ButtonModel",
      "state": {
       "description": "Importar projeto",
       "layout": "IPY_MODEL_916dc871b5cc40c39e2497e8a71ca1e3",
       "style": "IPY_MODEL_6ba97e92e0df4603b1a0a561aa8878bf",
       "tooltip": "Importa o .csv de um projeto já criado"
      }
     },
     "ca8ad37bc3524c69be1bcb6a57e2473f": {
      "model_module": "@jupyter-widgets/controls",
      "model_module_version": "1.4.0",
      "model_name": "AccordionModel",
      "state": {
       "_titles": {
        "0": "Criar projeto",
        "1": "Importar projeto"
       },
       "children": [
        "IPY_MODEL_117aa4d2406d4824b0298865888238da",
        "IPY_MODEL_5ff55007db2e4d03a34783bdc4364e7c"
       ],
       "layout": "IPY_MODEL_e91c4b9dd95d419798a851b02a16b2da",
       "selected_index": 1
      }
     },
     "ca9924530b024b05b334120642f8275c": {
      "model_module": "@jupyter-widgets/base",
      "model_module_version": "1.1.0",
      "model_name": "LayoutModel",
      "state": {}
     },
     "ca9c64fe47d44d64ba3660cfbb4f23b7": {
      "model_module": "@jupyter-widgets/base",
      "model_module_version": "1.1.0",
      "model_name": "LayoutModel",
      "state": {}
     },
     "caa9247815c448fa901a4bfeccff3412": {
      "model_module": "@jupyter-widgets/controls",
      "model_module_version": "1.4.0",
      "model_name": "DropdownModel",
      "state": {
       "_options_labels": [
        "Accent",
        "afmhot",
        "autumn",
        "binary",
        "Blues",
        "bone",
        "BrBG",
        "brg",
        "BuGn",
        "BuPu",
        "bwr",
        "cmo.algae",
        "cmo.amp",
        "cmo.balance",
        "cmo.curl",
        "cmo.deep",
        "cmo.delta",
        "cmo.dense",
        "cmo.gray",
        "cmo.haline",
        "cmo.ice",
        "cmo.matter",
        "cmo.oxy",
        "cmo.phase",
        "cmo.solar",
        "cmo.speed",
        "cmo.tempo",
        "cmo.thermal",
        "cmo.turbid",
        "CMRmap",
        "cool",
        "coolwarm",
        "copper",
        "cubehelix",
        "Dark2",
        "flag",
        "gist_earth",
        "gist_gray",
        "gist_heat",
        "gist_ncar",
        "gist_rainbow",
        "gist_stern",
        "gist_yarg",
        "GnBu",
        "gnuplot",
        "gnuplot2",
        "gray",
        "Greens",
        "Greys",
        "hot",
        "hsv",
        "inferno",
        "jet",
        "magma",
        "nipy_spectral",
        "ocean",
        "Oranges",
        "OrRd",
        "Paired",
        "Pastel1",
        "Pastel2",
        "pink",
        "PiYG",
        "plasma",
        "PRGn",
        "prism",
        "PuBu",
        "PuBuGn",
        "PuOr",
        "PuRd",
        "Purples",
        "rainbow",
        "RdBu",
        "RdGy",
        "RdPu",
        "RdYlBu",
        "RdYlGn",
        "Reds",
        "seismic",
        "Set1",
        "Set2",
        "Set3",
        "Spectral",
        "spring",
        "summer",
        "tab10",
        "tab20",
        "tab20b",
        "tab20c",
        "terrain",
        "viridis",
        "winter",
        "Wistia",
        "YlGn",
        "YlGnBu",
        "YlOrBr",
        "YlOrRd"
       ],
       "description": "Selecione o esquema de cores desejado para a imagem:",
       "index": 54,
       "layout": "IPY_MODEL_e8ea6761a50f4d2b8b0875a7473b3305",
       "style": "IPY_MODEL_c96176e785fb491783829d4a7e3f0449"
      }
     },
     "caab413a99c9447d88ddf44af1442c3c": {
      "model_module": "@jupyter-widgets/base",
      "model_module_version": "1.1.0",
      "model_name": "LayoutModel",
      "state": {}
     },
     "cad59c35ae804bb19e908d732e06cc9c": {
      "model_module": "@jupyter-widgets/controls",
      "model_module_version": "1.4.0",
      "model_name": "TabModel",
      "state": {
       "_titles": {
        "0": "Métodos",
        "1": "Direções"
       },
       "children": [
        "IPY_MODEL_95fdf96bccd2481599f90000102c680b",
        "IPY_MODEL_69e050b5fdae435ebb6ed4427ebf40ed"
       ],
       "layout": "IPY_MODEL_8ebdf3f0731b4deeb95736b3f6f36cd5"
      }
     },
     "caec3ac832374cb2a54177185e50123f": {
      "model_module": "@jupyter-widgets/controls",
      "model_module_version": "1.4.0",
      "model_name": "DropdownModel",
      "state": {
       "_options_labels": [
        "Accent",
        "afmhot",
        "autumn",
        "binary",
        "Blues",
        "bone",
        "BrBG",
        "brg",
        "BuGn",
        "BuPu",
        "bwr",
        "CMRmap",
        "cool",
        "coolwarm",
        "copper",
        "cubehelix",
        "Dark2",
        "flag",
        "gist_earth",
        "gist_gray",
        "gist_heat",
        "gist_ncar",
        "gist_rainbow",
        "gist_stern",
        "gist_yarg",
        "GnBu",
        "gnuplot",
        "gnuplot2",
        "gray",
        "Greens",
        "Greys",
        "hot",
        "hsv",
        "inferno",
        "jet",
        "magma",
        "nipy_spectral",
        "ocean",
        "Oranges",
        "OrRd",
        "Paired",
        "Pastel1",
        "Pastel2",
        "pink",
        "PiYG",
        "plasma",
        "PRGn",
        "prism",
        "PuBu",
        "PuBuGn",
        "PuOr",
        "PuRd",
        "Purples",
        "rainbow",
        "RdBu",
        "RdGy",
        "RdPu",
        "RdYlBu",
        "RdYlGn",
        "Reds",
        "seismic",
        "Set1",
        "Set2",
        "Set3",
        "Spectral",
        "spring",
        "summer",
        "tab10",
        "tab20",
        "tab20b",
        "tab20c",
        "terrain",
        "viridis",
        "winter",
        "Wistia",
        "YlGn",
        "YlGnBu",
        "YlOrBr",
        "YlOrRd"
       ],
       "description": "Selecione o esquema de cores desejado para a imagem:",
       "index": 36,
       "layout": "IPY_MODEL_683d0a7624814bb4b8fb03e09ec9cec3",
       "style": "IPY_MODEL_5939d06e35c7495593b208b1aaab08f5"
      }
     },
     "caecfbd4b1484fe68329b1c938d000c0": {
      "model_module": "@jupyter-widgets/controls",
      "model_module_version": "1.4.0",
      "model_name": "FloatTextModel",
      "state": {
       "layout": "IPY_MODEL_83ca18193c09419b8af192ce342570df",
       "step": null,
       "style": "IPY_MODEL_f0c3a9087043497e804e8235c623a47a"
      }
     },
     "cafc7e7be82f48639c722ed55f75aa20": {
      "model_module": "@jupyter-widgets/base",
      "model_module_version": "1.1.0",
      "model_name": "LayoutModel",
      "state": {}
     },
     "cb14086d296944e3a22d1f71f49ede16": {
      "model_module": "@jupyter-widgets/base",
      "model_module_version": "1.1.0",
      "model_name": "LayoutModel",
      "state": {}
     },
     "cb2e841829d24820839a872a3a51466e": {
      "model_module": "@jupyter-widgets/controls",
      "model_module_version": "1.4.0",
      "model_name": "SelectMultipleModel",
      "state": {
       "_options_labels": [
        "N (0.0°)",
        "NNE (22.5°)",
        "NE (45.0°)",
        "ENE (67.5°)",
        "E (90.0°)",
        "ESE (112.5°)",
        "SE (135.0°)",
        "SSE (157.5°)",
        "S (180.0°)",
        "SSW (202.5°)",
        "SW (225.0°)",
        "WSW (247.5°)",
        "W (270.0°)",
        "WNW (292.5°)",
        "NW (315.0°)",
        "NNW (337.5°)"
       ],
       "description": "Selecione a direção (°) desejada:",
       "index": [
        0,
        4,
        8,
        12
       ],
       "layout": "IPY_MODEL_f80dd998664a487caee7db9f3ded671e",
       "rows": 5,
       "style": "IPY_MODEL_0ef8c2088c8e4979b9f5c809b5590904"
      }
     },
     "cb67033aeb27462d9cbc125d0cbd95cc": {
      "model_module": "@jupyter-widgets/controls",
      "model_module_version": "1.4.0",
      "model_name": "AccordionModel",
      "state": {
       "_titles": {
        "0": "Pistas de Vento"
       },
       "children": [
        "IPY_MODEL_fe16a45ff79446df8b6ec570f0c8ab35"
       ],
       "layout": "IPY_MODEL_947c815ae7354f74b726a9b23b531059"
      }
     },
     "cba2e2a97c6d456b96f362246e5c5a11": {
      "model_module": "@jupyter-widgets/controls",
      "model_module_version": "1.4.0",
      "model_name": "SelectModel",
      "state": {
       "_options_labels": [
        "0.0°"
       ],
       "description": "Direção (°):",
       "index": 0,
       "layout": "IPY_MODEL_2f7da2074d8545088da3795c3bcddf45",
       "style": "IPY_MODEL_a1a3326bd51049f9aad581d1c4205ac9"
      }
     },
     "cbc1ecb3298c43ceb87891da6c632556": {
      "model_module": "@jupyter-widgets/base",
      "model_module_version": "1.1.0",
      "model_name": "LayoutModel",
      "state": {
       "width": "30%"
      }
     },
     "cbcc42d18f774170847fd9fa5db27290": {
      "model_module": "@jupyter-widgets/controls",
      "model_module_version": "1.4.0",
      "model_name": "AccordionModel",
      "state": {
       "_titles": {
        "0": "Criar projeto",
        "1": "Importar projeto"
       },
       "children": [
        "IPY_MODEL_5af948e894804b0cba3150b63f557027",
        "IPY_MODEL_da94b525569e4ca5a4b1c8465d87541b"
       ],
       "layout": "IPY_MODEL_63ecc52c78ad44199ce33e62daca0004",
       "selected_index": 1
      }
     },
     "cc32041600b949deb0344588bafbd132": {
      "model_module": "@jupyter-widgets/base",
      "model_module_version": "1.1.0",
      "model_name": "LayoutModel",
      "state": {}
     },
     "cc75e3d37e7f42a490bbd5e892812f44": {
      "model_module": "@jupyter-widgets/controls",
      "model_module_version": "1.4.0",
      "model_name": "ButtonModel",
      "state": {
       "description": "Criar projeto",
       "layout": "IPY_MODEL_e9684554132746b3b2ebac99ec4c1501",
       "style": "IPY_MODEL_7f24b20c6c994fa0911e5d3f74cdba4d",
       "tooltip": "Cria um novo projeto"
      }
     },
     "cd23866cd28a4d289d8dc0f607532520": {
      "model_module": "@jupyter-widgets/base",
      "model_module_version": "1.1.0",
      "model_name": "LayoutModel",
      "state": {}
     },
     "cd252dbb539e4a10b2e6da25ddbe7f31": {
      "model_module": "@jupyter-widgets/controls",
      "model_module_version": "1.4.0",
      "model_name": "DescriptionStyleModel",
      "state": {
       "description_width": "initial"
      }
     },
     "cd397e902c724b92b5f50b8cbd7b516a": {
      "model_module": "@jupyter-widgets/controls",
      "model_module_version": "1.4.0",
      "model_name": "DescriptionStyleModel",
      "state": {
       "description_width": "initial"
      }
     },
     "cd979cf2d1534b28b69b973513d9dbe0": {
      "model_module": "@jupyter-widgets/controls",
      "model_module_version": "1.4.0",
      "model_name": "ButtonStyleModel",
      "state": {}
     },
     "cdc1c61764bb46b0a07486d032f3fa00": {
      "model_module": "@jupyter-widgets/controls",
      "model_module_version": "1.4.0",
      "model_name": "ButtonModel",
      "state": {
       "description": "Carregar pista(s) de vento já processada(s)",
       "layout": "IPY_MODEL_ff6c1c70f0bd43c68db226d809cf113f",
       "style": "IPY_MODEL_8d16727fa0e94aaebea26b97cbc50890",
       "tooltip": "Carrega pista(s) de vento já processada(s)"
      }
     },
     "cdc8b8d21ed14bb7a5a8fad48657a725": {
      "model_module": "@jupyter-widgets/base",
      "model_module_version": "1.1.0",
      "model_name": "LayoutModel",
      "state": {}
     },
     "cde0aa25f48942a08f01becc59056e5d": {
      "model_module": "@jupyter-widgets/controls",
      "model_module_version": "1.4.0",
      "model_name": "DescriptionStyleModel",
      "state": {
       "description_width": ""
      }
     },
     "ce273848bef242e3a2aaefe50452b9ab": {
      "model_module": "@jupyter-widgets/controls",
      "model_module_version": "1.4.0",
      "model_name": "DescriptionStyleModel",
      "state": {
       "description_width": "initial"
      }
     },
     "ce3eac4ed16540caa7ac934a7c32133e": {
      "model_module": "@jupyter-widgets/base",
      "model_module_version": "1.1.0",
      "model_name": "LayoutModel",
      "state": {}
     },
     "ce460617b2e849549c32c3b200a27ced": {
      "model_module": "@jupyter-widgets/controls",
      "model_module_version": "1.4.0",
      "model_name": "DescriptionStyleModel",
      "state": {
       "description_width": "initial"
      }
     },
     "ce4e53f0631e4c3d8f35af46c6140f67": {
      "model_module": "@jupyter-widgets/controls",
      "model_module_version": "1.4.0",
      "model_name": "TabModel",
      "state": {
       "_titles": {
        "0": "Pistas de Vento",
        "1": "Esquema de Cores"
       },
       "children": [
        "IPY_MODEL_e2ac7d30d95847b2bd27f4c0a1765869",
        "IPY_MODEL_4a7a30f5ed2b461db480f3e660345704"
       ],
       "layout": "IPY_MODEL_d8409baf427246968f884337e9efd43d",
       "selected_index": 1
      }
     },
     "ce524613b0a84d56b971cf9d14594ff6": {
      "model_module": "@jupyter-widgets/base",
      "model_module_version": "1.1.0",
      "model_name": "LayoutModel",
      "state": {}
     },
     "ce5277c6bfef4cc48db6dfd19457c291": {
      "model_module": "@jupyter-widgets/controls",
      "model_module_version": "1.4.0",
      "model_name": "FloatTextModel",
      "state": {
       "layout": "IPY_MODEL_78a80bd38ed74436b55447ebc8aace74",
       "step": null,
       "style": "IPY_MODEL_cde0aa25f48942a08f01becc59056e5d",
       "value": 200
      }
     },
     "ce577764b18a4caea2f3b9f5b710f573": {
      "model_module": "@jupyter-widgets/controls",
      "model_module_version": "1.4.0",
      "model_name": "ToggleButtonsModel",
      "state": {
       "_options_labels": [
        "Uma direção",
        "Todas as direções",
        "Outra direção"
       ],
       "button_style": "",
       "icons": [],
       "index": 0,
       "layout": "IPY_MODEL_a3453cb0e9f24656ac5313a498376585",
       "style": "IPY_MODEL_6ab3ed9036744774a1bc95dc062f0f10",
       "tooltips": []
      }
     },
     "ce639e88065646c8a674d843569aecf7": {
      "model_module": "@jupyter-widgets/base",
      "model_module_version": "1.1.0",
      "model_name": "LayoutModel",
      "state": {}
     },
     "ce706bcd2b0d457c8be0b9220f32c63e": {
      "model_module": "@jupyter-widgets/controls",
      "model_module_version": "1.4.0",
      "model_name": "ToggleButtonsModel",
      "state": {
       "_options_labels": [
        "Método SPM",
        "Método de Saville"
       ],
       "button_style": "",
       "icons": [],
       "index": 1,
       "layout": "IPY_MODEL_11a59b3cf103404084618c62aa79c908",
       "style": "IPY_MODEL_bd2a896830e34ebb8515af0e12891e30",
       "tooltips": []
      }
     },
     "cebf65ae1086410b878a1a5eb1f65b5e": {
      "model_module": "@jupyter-widgets/controls",
      "model_module_version": "1.4.0",
      "model_name": "AccordionModel",
      "state": {
       "_titles": {
        "0": "Carregar .shp",
        "1": "Carregar .shp de malha processada"
       },
       "children": [
        "IPY_MODEL_4965b0674a0a4abea5370bcd4fdc13bc",
        "IPY_MODEL_ee7590e324684560bf7dc24b06fb83a7"
       ],
       "layout": "IPY_MODEL_fc65aa51c63043ef94f6627037b79c88"
      }
     },
     "cecea5ecbcf4427faa0829347267d97e": {
      "model_module": "@jupyter-widgets/controls",
      "model_module_version": "1.4.0",
      "model_name": "AccordionModel",
      "state": {
       "_titles": {
        "0": "Malha (m)"
       },
       "children": [
        "IPY_MODEL_ffe3feb242234ffab002b580bfec796d"
       ],
       "layout": "IPY_MODEL_3e539a1a20224616934b269c3a61ae0f"
      }
     },
     "cf0ef049294b41618f56008b9ac432b4": {
      "model_module": "@jupyter-widgets/base",
      "model_module_version": "1.1.0",
      "model_name": "LayoutModel",
      "state": {}
     },
     "cf49b815953944afb2a6118edf0f4ae0": {
      "model_module": "@jupyter-widgets/controls",
      "model_module_version": "1.4.0",
      "model_name": "TabModel",
      "state": {
       "_titles": {
        "0": "Projetos",
        "1": "Shapefiles"
       },
       "children": [
        "IPY_MODEL_f0747acb5ddd4fa99498d5b18fb0b213",
        "IPY_MODEL_433e8e1db6ad41039d58baa114fcffed"
       ],
       "layout": "IPY_MODEL_7a92f3c286ee4568b16e9211af626a7b"
      }
     },
     "cf5a32c9705849b8b6e36610048e5a4b": {
      "model_module": "@jupyter-widgets/base",
      "model_module_version": "1.1.0",
      "model_name": "LayoutModel",
      "state": {}
     },
     "cf92a9c5cd3c4870bd5cbf4fe4604f10": {
      "model_module": "@jupyter-widgets/base",
      "model_module_version": "1.1.0",
      "model_name": "LayoutModel",
      "state": {}
     },
     "cf94e9a6d7a1481b8478509f3d32d8d1": {
      "model_module": "@jupyter-widgets/controls",
      "model_module_version": "1.4.0",
      "model_name": "DescriptionStyleModel",
      "state": {
       "description_width": ""
      }
     },
     "cfb9ec70458946c394f8df93b72fffe6": {
      "model_module": "@jupyter-widgets/controls",
      "model_module_version": "1.4.0",
      "model_name": "ToggleButtonsModel",
      "state": {
       "_options_labels": [
        "Método SPM",
        "Método de Saville"
       ],
       "button_style": "",
       "icons": [],
       "index": 0,
       "layout": "IPY_MODEL_22cc5c7d65694a22a1346c8ffc218187",
       "style": "IPY_MODEL_bfa809fcf78a43e29077d77d4fe38eb0",
       "tooltips": []
      }
     },
     "cfc32f0eb0d44674912d94401d4e4018": {
      "model_module": "@jupyter-widgets/base",
      "model_module_version": "1.1.0",
      "model_name": "LayoutModel",
      "state": {}
     },
     "d0123418d6594bb7a8696e56ec7d4fbc": {
      "model_module": "@jupyter-widgets/controls",
      "model_module_version": "1.4.0",
      "model_name": "ToggleButtonsModel",
      "state": {
       "_options_labels": [
        "Método SPM",
        "Método de Saville"
       ],
       "button_style": "",
       "icons": [],
       "index": 1,
       "layout": "IPY_MODEL_031a7a2e04a74e28a41768d5009a3bd1",
       "style": "IPY_MODEL_25ae47ab269b4db59942d871c9a50083",
       "tooltips": []
      }
     },
     "d06a3619eae54a5088bc0b90eb503276": {
      "model_module": "@jupyter-widgets/controls",
      "model_module_version": "1.4.0",
      "model_name": "ButtonModel",
      "state": {
       "description": "Carregar pista(s) de vento já processada(s)",
       "layout": "IPY_MODEL_05aa248253474bef98fa427831f51804",
       "style": "IPY_MODEL_6534fddd4f9e402db1e3dc5e8a23edd7",
       "tooltip": "Carrega pista(s) de vento já processada(s)"
      }
     },
     "d0b11bacb0044c9eb72852bb5dd66d62": {
      "model_module": "@jupyter-widgets/controls",
      "model_module_version": "1.4.0",
      "model_name": "ToggleButtonsModel",
      "state": {
       "_options_labels": [
        "Método SPM",
        "Método de Saville"
       ],
       "button_style": "",
       "icons": [],
       "index": 0,
       "layout": "IPY_MODEL_fd00a27e8dd34c198705c005a0a9b258",
       "style": "IPY_MODEL_125a2b2cc81040109823efdf5a17722f",
       "tooltips": []
      }
     },
     "d0c5aeda853d4a279f01356a69522aee": {
      "model_module": "@jupyter-widgets/base",
      "model_module_version": "1.1.0",
      "model_name": "LayoutModel",
      "state": {}
     },
     "d0f2adcf745c427ebddcfaf5ce8dccd0": {
      "model_module": "@jupyter-widgets/controls",
      "model_module_version": "1.4.0",
      "model_name": "ButtonModel",
      "state": {
       "description": "Criar projeto",
       "layout": "IPY_MODEL_bd1eace7df104288bba7a142869cd4ff",
       "style": "IPY_MODEL_b71dd56c6c8c449c8d5a0c02743be5ba",
       "tooltip": "Cria um novo projeto"
      }
     },
     "d15247b3da204a87ba7247ab0d42c79b": {
      "model_module": "@jupyter-widgets/controls",
      "model_module_version": "1.4.0",
      "model_name": "DescriptionStyleModel",
      "state": {
       "description_width": ""
      }
     },
     "d153d8ea03134f54ab40de7617866e74": {
      "model_module": "@jupyter-widgets/base",
      "model_module_version": "1.1.0",
      "model_name": "LayoutModel",
      "state": {
       "width": "30%"
      }
     },
     "d187ccb5cc654d6a9574093c114817e9": {
      "model_module": "@jupyter-widgets/controls",
      "model_module_version": "1.4.0",
      "model_name": "ButtonStyleModel",
      "state": {}
     },
     "d18e2ecc8135425b854251bbe3b62c70": {
      "model_module": "@jupyter-widgets/base",
      "model_module_version": "1.1.0",
      "model_name": "LayoutModel",
      "state": {}
     },
     "d19c70c36df24fbf85d583d755a310cf": {
      "model_module": "@jupyter-widgets/base",
      "model_module_version": "1.1.0",
      "model_name": "LayoutModel",
      "state": {}
     },
     "d1ef945202a3483ba16bf9be1dc573a9": {
      "model_module": "@jupyter-widgets/controls",
      "model_module_version": "1.4.0",
      "model_name": "DescriptionStyleModel",
      "state": {
       "description_width": ""
      }
     },
     "d2059cd5684748c4b10c5d1767495be0": {
      "model_module": "@jupyter-widgets/controls",
      "model_module_version": "1.4.0",
      "model_name": "ButtonModel",
      "state": {
       "description": "Importar .shp",
       "layout": "IPY_MODEL_92485d402d06493480ed005407f77cc3",
       "style": "IPY_MODEL_22e08379c556431abbe13d38ad433d91",
       "tooltip": "Importa um .shp para processamento"
      }
     },
     "d21c87cccaec447e8a291d15955e83ee": {
      "model_module": "@jupyter-widgets/base",
      "model_module_version": "1.1.0",
      "model_name": "LayoutModel",
      "state": {}
     },
     "d22c45a95e2247c1af7dbadb9afd5544": {
      "model_module": "@jupyter-widgets/base",
      "model_module_version": "1.1.0",
      "model_name": "LayoutModel",
      "state": {}
     },
     "d26bae10acc045a8b9583f6e662daabb": {
      "model_module": "@jupyter-widgets/base",
      "model_module_version": "1.1.0",
      "model_name": "LayoutModel",
      "state": {}
     },
     "d3234bccef1d48068c8e2c349660db66": {
      "model_module": "@jupyter-widgets/base",
      "model_module_version": "1.1.0",
      "model_name": "LayoutModel",
      "state": {}
     },
     "d374785520bc41c88f3e1b41c72db7fd": {
      "model_module": "@jupyter-widgets/controls",
      "model_module_version": "1.4.0",
      "model_name": "ToggleButtonsStyleModel",
      "state": {
       "button_width": "",
       "description_width": ""
      }
     },
     "d378645f6cc348abadafc3a9710c9634": {
      "model_module": "@jupyter-widgets/controls",
      "model_module_version": "1.4.0",
      "model_name": "SelectMultipleModel",
      "state": {
       "_options_labels": [
        "N (0.0°)",
        "NNE (22.5°)",
        "NE (45.0°)",
        "ENE (67.5°)",
        "E (90.0°)",
        "ESE (112.5°)",
        "SE (135.0°)",
        "SSE (157.5°)",
        "S (180.0°)",
        "SSW (202.5°)",
        "SW (225.0°)",
        "WSW (247.5°)",
        "W (270.0°)",
        "WNW (292.5°)",
        "NW (315.0°)",
        "NNW (337.5°)",
        "N (360.0°)"
       ],
       "description": "Selecione a direção (°) desejada:",
       "index": [
        7
       ],
       "layout": "IPY_MODEL_fadf34ca4247406ea97239e7dea43fef",
       "rows": 5,
       "style": "IPY_MODEL_c2aa1e6f6a40472497c2c657118de3f0"
      }
     },
     "d38d98b481e042ada458b1251a4b9ad2": {
      "model_module": "@jupyter-widgets/base",
      "model_module_version": "1.1.0",
      "model_name": "LayoutModel",
      "state": {}
     },
     "d3f51a0cf8934c6fae9d669a287253c4": {
      "model_module": "@jupyter-widgets/base",
      "model_module_version": "1.1.0",
      "model_name": "LayoutModel",
      "state": {}
     },
     "d4028a922fd446cdbd5ddef9f4dc3def": {
      "model_module": "@jupyter-widgets/controls",
      "model_module_version": "1.4.0",
      "model_name": "AccordionModel",
      "state": {
       "_titles": {
        "0": "Criar projeto",
        "1": "Importar projeto"
       },
       "children": [
        "IPY_MODEL_65f76c7df8174c11ae40a02893c49696",
        "IPY_MODEL_a480569932d94cd5a7e17a9df3024f74"
       ],
       "layout": "IPY_MODEL_b0775af1f45e4322b97468eb33c1075a",
       "selected_index": 1
      }
     },
     "d40c0353651d44b9b0a2a5383f601911": {
      "model_module": "@jupyter-widgets/controls",
      "model_module_version": "1.4.0",
      "model_name": "AccordionModel",
      "state": {
       "_titles": {
        "0": "Pistas de Vento"
       },
       "children": [
        "IPY_MODEL_744d12ba92154ad3a232f0aae8e3c268"
       ],
       "layout": "IPY_MODEL_766bbfc569a94b3cbdde0667b72fe610"
      }
     },
     "d417adc4269a41bb9c2f59129821f287": {
      "model_module": "@jupyter-widgets/base",
      "model_module_version": "1.1.0",
      "model_name": "LayoutModel",
      "state": {
       "width": "30%"
      }
     },
     "d47636af58ef40319ab5fdfd613bfefa": {
      "model_module": "@jupyter-widgets/controls",
      "model_module_version": "1.4.0",
      "model_name": "ButtonModel",
      "state": {
       "description": "Carregar .shp",
       "layout": "IPY_MODEL_3ec3b4cf4eb74240bd8e8ffae929e41f",
       "style": "IPY_MODEL_9752b41860254900948caa6bb9f54fba",
       "tooltip": "Carrega um .shp para processamento"
      }
     },
     "d4876a1cbff2419fba626cb37e974032": {
      "model_module": "@jupyter-widgets/base",
      "model_module_version": "1.1.0",
      "model_name": "LayoutModel",
      "state": {}
     },
     "d4a9e4788cae4c9f8b9ab9adcacc7a3a": {
      "model_module": "@jupyter-widgets/controls",
      "model_module_version": "1.4.0",
      "model_name": "ToggleButtonsStyleModel",
      "state": {
       "button_width": ""
      }
     },
     "d4d026bed8c04c4c8cf4f05929e1b1ec": {
      "model_module": "@jupyter-widgets/base",
      "model_module_version": "1.1.0",
      "model_name": "LayoutModel",
      "state": {}
     },
     "d4e52401a62b4d2497fbb75c7f14ef60": {
      "model_module": "@jupyter-widgets/base",
      "model_module_version": "1.1.0",
      "model_name": "LayoutModel",
      "state": {}
     },
     "d508f2186ab34df28609c6e69c6e49f1": {
      "model_module": "@jupyter-widgets/controls",
      "model_module_version": "1.4.0",
      "model_name": "AccordionModel",
      "state": {
       "_titles": {
        "0": "Importar .shp",
        "1": "Importar .shp de malha processada"
       },
       "children": [
        "IPY_MODEL_3ee8296134564407a54ca16f125b5e7a",
        "IPY_MODEL_e82a1c030daa4de193ee99c68b012026"
       ],
       "layout": "IPY_MODEL_095b9237e2b046749d1bc4bf0b56508e"
      }
     },
     "d53a2a3ec6df4d189650963eb59ec655": {
      "model_module": "@jupyter-widgets/base",
      "model_module_version": "1.1.0",
      "model_name": "LayoutModel",
      "state": {}
     },
     "d572f8904eff46028d8a5ed500cf90eb": {
      "model_module": "@jupyter-widgets/controls",
      "model_module_version": "1.4.0",
      "model_name": "ToggleButtonsStyleModel",
      "state": {
       "button_width": ""
      }
     },
     "d573eee98bc1427f93f4652a6796b170": {
      "model_module": "@jupyter-widgets/base",
      "model_module_version": "1.1.0",
      "model_name": "LayoutModel",
      "state": {
       "width": "30%"
      }
     },
     "d612f6520ce5415181f4f8e321478fcf": {
      "model_module": "@jupyter-widgets/base",
      "model_module_version": "1.1.0",
      "model_name": "LayoutModel",
      "state": {}
     },
     "d6193f9b2d954e21a7f344d022f48674": {
      "model_module": "@jupyter-widgets/controls",
      "model_module_version": "1.4.0",
      "model_name": "TabModel",
      "state": {
       "_titles": {
        "0": "Pistas de Vento",
        "1": "Esquema de Cores"
       },
       "children": [
        "IPY_MODEL_88cdb27841e54f8887d6ac4d4d497f5b",
        "IPY_MODEL_c6ba756c479c42c4b11e25389517c04a"
       ],
       "layout": "IPY_MODEL_6458bfe66b5f430b91d1cc9beb8b428b"
      }
     },
     "d64141fe0a254f4685008b78528c9ac3": {
      "model_module": "@jupyter-widgets/controls",
      "model_module_version": "1.4.0",
      "model_name": "DescriptionStyleModel",
      "state": {
       "description_width": "initial"
      }
     },
     "d666afe1d563471f9d31223e93cbc7c6": {
      "model_module": "@jupyter-widgets/controls",
      "model_module_version": "1.4.0",
      "model_name": "AccordionModel",
      "state": {
       "_titles": {
        "0": "Escolha do esquema de cores desejado"
       },
       "children": [
        "IPY_MODEL_9cfb74ab36e34df087a9657dc22463b1"
       ],
       "layout": "IPY_MODEL_a349824d93b44c44a806df5ff140648c"
      }
     },
     "d69416e2d05c45a2be824456119ca091": {
      "model_module": "@jupyter-widgets/controls",
      "model_module_version": "1.4.0",
      "model_name": "DescriptionStyleModel",
      "state": {
       "description_width": "initial"
      }
     },
     "d6abfe9079d9418191c5625da0bf9428": {
      "model_module": "@jupyter-widgets/controls",
      "model_module_version": "1.4.0",
      "model_name": "ButtonStyleModel",
      "state": {}
     },
     "d6bc521993234c909ce0fdce15717954": {
      "model_module": "@jupyter-widgets/controls",
      "model_module_version": "1.4.0",
      "model_name": "TabModel",
      "state": {
       "_titles": {
        "0": "Pistas de vento",
        "1": "DPI",
        "2": "Esquema de cores"
       },
       "children": [
        "IPY_MODEL_018b1e5179a7485c88ab9df04d9d73b1",
        "IPY_MODEL_5133983c32544b49a021dd8efa9890d3",
        "IPY_MODEL_72700c4f1b9b4695a7c4bc3481a4f4ac"
       ],
       "layout": "IPY_MODEL_b4d64f7519824bd4adeec5e96f1a2541"
      }
     },
     "d6faa61e67ef457daaf5a42dff848e81": {
      "model_module": "@jupyter-widgets/controls",
      "model_module_version": "1.4.0",
      "model_name": "DescriptionStyleModel",
      "state": {
       "description_width": "initial"
      }
     },
     "d7066c56dd7e4b7a93630078410e796e": {
      "model_module": "@jupyter-widgets/controls",
      "model_module_version": "1.4.0",
      "model_name": "DescriptionStyleModel",
      "state": {
       "description_width": "initial"
      }
     },
     "d718a73001e04bce9a8051c4dc30c374": {
      "model_module": "@jupyter-widgets/controls",
      "model_module_version": "1.4.0",
      "model_name": "TextModel",
      "state": {
       "description": "Outra direção (°):",
       "layout": "IPY_MODEL_6af5a334181a42568eb5f80e6eefe679",
       "style": "IPY_MODEL_12315634cfaa4c30a0860a9ecd81d206"
      }
     },
     "d7394d4737bb47a8856b298c308af1d8": {
      "model_module": "@jupyter-widgets/base",
      "model_module_version": "1.1.0",
      "model_name": "LayoutModel",
      "state": {}
     },
     "d7577d1643db4501b92352cb53119d58": {
      "model_module": "@jupyter-widgets/controls",
      "model_module_version": "1.4.0",
      "model_name": "TabModel",
      "state": {
       "_titles": {
        "0": "Projetos",
        "1": "Shapefiles"
       },
       "children": [
        "IPY_MODEL_fbe9eb42efca46a2b82e039866f37cc6",
        "IPY_MODEL_f19a7e09e080494da5749b6292143329"
       ],
       "layout": "IPY_MODEL_2325ef29f0ea4c3fb4ff3cbf736234cd",
       "selected_index": 1
      }
     },
     "d7598db7f7a0432f9bcc6a59c4c14f0a": {
      "model_module": "@jupyter-widgets/controls",
      "model_module_version": "1.4.0",
      "model_name": "ButtonStyleModel",
      "state": {}
     },
     "d76a7cca228542198347f50b84eb7a24": {
      "model_module": "@jupyter-widgets/base",
      "model_module_version": "1.1.0",
      "model_name": "LayoutModel",
      "state": {}
     },
     "d77392e85d574a79aea6c8676a480c91": {
      "model_module": "@jupyter-widgets/controls",
      "model_module_version": "1.4.0",
      "model_name": "DropdownModel",
      "state": {
       "_options_labels": [
        "binary",
        "Blues",
        "brg",
        "BuGn",
        "cool",
        "cubehelix",
        "gist_earth",
        "gist_ncar",
        "gist_rainbow",
        "gnuplot",
        "gnuplot2",
        "hsv",
        "jet",
        "magma",
        "nipy_spectral",
        "ocean",
        "plasma",
        "rainbow",
        "Spectral",
        "terrain",
        "winter"
       ],
       "description": "Selecione o esquema de cores desejado:",
       "index": 12,
       "layout": "IPY_MODEL_b86a48b8131747e1b6bdb521c536b586",
       "style": "IPY_MODEL_80daa509ec384b879fa676d5dfe05683"
      }
     },
     "d775a269e1bd4654bdfbe4c24a70f122": {
      "model_module": "@jupyter-widgets/base",
      "model_module_version": "1.1.0",
      "model_name": "LayoutModel",
      "state": {}
     },
     "d78d667d1e5f48828b31a1a14c6cd8f5": {
      "model_module": "@jupyter-widgets/controls",
      "model_module_version": "1.4.0",
      "model_name": "ProgressStyleModel",
      "state": {
       "description_width": ""
      }
     },
     "d791e48db67b41cf86f7bd6601361704": {
      "model_module": "@jupyter-widgets/controls",
      "model_module_version": "1.4.0",
      "model_name": "FloatProgressModel",
      "state": {
       "description": "315.0°:",
       "layout": "IPY_MODEL_385afd317e3d48acaa29067cfee8c9cf",
       "max": 1,
       "style": "IPY_MODEL_7590c97529a44bac9933e851627d330c",
       "value": 1
      }
     },
     "d7f11494f88b4403a5c10b905ddee0f2": {
      "model_module": "@jupyter-widgets/base",
      "model_module_version": "1.1.0",
      "model_name": "LayoutModel",
      "state": {}
     },
     "d80ea8a71f204b519a566c5d39603d96": {
      "model_module": "@jupyter-widgets/controls",
      "model_module_version": "1.4.0",
      "model_name": "DropdownModel",
      "state": {
       "_options_labels": [
        "300",
        "600",
        "1200"
       ],
       "description": "Selecione a DPI desejada:",
       "index": 0,
       "layout": "IPY_MODEL_1c8604e10df94d4aa78966fb6e6b3fb6",
       "style": "IPY_MODEL_2915e42d2ef548adbfacd25e1bb61467"
      }
     },
     "d8409baf427246968f884337e9efd43d": {
      "model_module": "@jupyter-widgets/base",
      "model_module_version": "1.1.0",
      "model_name": "LayoutModel",
      "state": {}
     },
     "d8659de4d0bf4b2f89b45ce7f5e6393e": {
      "model_module": "@jupyter-widgets/controls",
      "model_module_version": "1.4.0",
      "model_name": "ToggleButtonsStyleModel",
      "state": {
       "button_width": "",
       "description_width": ""
      }
     },
     "d88dd12451ca4ff78c05d68a0f2df595": {
      "model_module": "@jupyter-widgets/controls",
      "model_module_version": "1.4.0",
      "model_name": "ToggleButtonsStyleModel",
      "state": {
       "button_width": "",
       "description_width": ""
      }
     },
     "d8982e917c0f4ae2aa19d90064a97be8": {
      "model_module": "@jupyter-widgets/base",
      "model_module_version": "1.1.0",
      "model_name": "LayoutModel",
      "state": {}
     },
     "d8cc28c4b10a40d58dd39e33683e4700": {
      "model_module": "@jupyter-widgets/controls",
      "model_module_version": "1.4.0",
      "model_name": "TextModel",
      "state": {
       "description": "Outra direção (°):",
       "layout": "IPY_MODEL_85027c53a7994a969750e8a33893a3e0",
       "style": "IPY_MODEL_d7066c56dd7e4b7a93630078410e796e"
      }
     },
     "d8e3ed27325d4315b70039f0265970b2": {
      "model_module": "@jupyter-widgets/controls",
      "model_module_version": "1.4.0",
      "model_name": "ToggleButtonsModel",
      "state": {
       "_options_labels": [
        "Método SPM",
        "Método de Saville"
       ],
       "button_style": "",
       "icons": [],
       "index": 0,
       "layout": "IPY_MODEL_e1538f2e66674c49a97c69f1356cec75",
       "style": "IPY_MODEL_fd5ffc355a6f4ea19f1909fc8f2f9811",
       "tooltips": []
      }
     },
     "d8f668bd42d1447cb79c4bb0ae67703a": {
      "model_module": "@jupyter-widgets/controls",
      "model_module_version": "1.4.0",
      "model_name": "ButtonStyleModel",
      "state": {}
     },
     "d941a52f9c4740448bf700bdb9661918": {
      "model_module": "@jupyter-widgets/controls",
      "model_module_version": "1.4.0",
      "model_name": "ButtonStyleModel",
      "state": {}
     },
     "d96ee07cb7d7470eb5d0ea59a8a20c7f": {
      "model_module": "@jupyter-widgets/base",
      "model_module_version": "1.1.0",
      "model_name": "LayoutModel",
      "state": {}
     },
     "d9753e6000d14530a65d8f68a5c7143a": {
      "model_module": "@jupyter-widgets/base",
      "model_module_version": "1.1.0",
      "model_name": "LayoutModel",
      "state": {}
     },
     "d982b85445344c1f9fce889375affe6f": {
      "model_module": "@jupyter-widgets/controls",
      "model_module_version": "1.4.0",
      "model_name": "DropdownModel",
      "state": {
       "_options_labels": [
        "300",
        "600",
        "1200"
       ],
       "description": "Selecione a resolução da imagem desejada em DPI:",
       "index": 1,
       "layout": "IPY_MODEL_4ff6a837bbbf4947b6bafc2866da4e94",
       "style": "IPY_MODEL_17423e5987c7444ca8afdcc06c373d1e"
      }
     },
     "d9a2e68e666546e1a82bc988d7932aaf": {
      "model_module": "@jupyter-widgets/base",
      "model_module_version": "1.1.0",
      "model_name": "LayoutModel",
      "state": {}
     },
     "d9c917cc29e44789a374666520f1891a": {
      "model_module": "@jupyter-widgets/base",
      "model_module_version": "1.1.0",
      "model_name": "LayoutModel",
      "state": {}
     },
     "da0eeabfaaa04e77ac21e6b735dba5f6": {
      "model_module": "@jupyter-widgets/controls",
      "model_module_version": "1.4.0",
      "model_name": "SelectModel",
      "state": {
       "_options_labels": [
        "22.5°",
        "67.5°",
        "90.0°"
       ],
       "description": "Direção (°):",
       "index": 1,
       "layout": "IPY_MODEL_e51d81d498af49999d6ff723093cd5f5",
       "style": "IPY_MODEL_41d8e36a08464382a2e1926f7e377f2c"
      }
     },
     "da4d52d3c63a41e3a08b8a65303de7e0": {
      "model_module": "@jupyter-widgets/controls",
      "model_module_version": "1.4.0",
      "model_name": "ButtonModel",
      "state": {
       "description": "Carregar pista(s) de vento já processada(s)",
       "layout": "IPY_MODEL_ba79746e1730490490399c7598377016",
       "style": "IPY_MODEL_36509fb456154e57af51fbd4487f12b4",
       "tooltip": "Carrega pista(s) de vento já processada(s)"
      }
     },
     "da5cb0a97fe74b9a838a6eaf5be05a9b": {
      "model_module": "@jupyter-widgets/base",
      "model_module_version": "1.1.0",
      "model_name": "LayoutModel",
      "state": {}
     },
     "da80fdd5109e4921a6bdd611ea52cac7": {
      "model_module": "@jupyter-widgets/base",
      "model_module_version": "1.1.0",
      "model_name": "LayoutModel",
      "state": {
       "width": "400px"
      }
     },
     "da812ba19de4465686f6846335a4f647": {
      "model_module": "@jupyter-widgets/base",
      "model_module_version": "1.1.0",
      "model_name": "LayoutModel",
      "state": {
       "width": "500px"
      }
     },
     "da94b525569e4ca5a4b1c8465d87541b": {
      "model_module": "@jupyter-widgets/controls",
      "model_module_version": "1.4.0",
      "model_name": "ButtonModel",
      "state": {
       "description": "Importar projeto",
       "layout": "IPY_MODEL_67519b2436894a398e569b0c0c6f2a3f",
       "style": "IPY_MODEL_6e23ed3e7325448ea01dc34a9b5a5377",
       "tooltip": "Importa o .csv de um projeto já criado"
      }
     },
     "dab1d3053fa24266a7efda27f3066f21": {
      "model_module": "@jupyter-widgets/controls",
      "model_module_version": "1.4.0",
      "model_name": "DropdownModel",
      "state": {
       "_options_labels": [
        "Accent",
        "afmhot",
        "autumn",
        "binary",
        "Blues",
        "bone",
        "BrBG",
        "brg",
        "BuGn",
        "BuPu",
        "bwr",
        "cmo.algae",
        "cmo.amp",
        "cmo.balance",
        "cmo.curl",
        "cmo.deep",
        "cmo.delta",
        "cmo.dense",
        "cmo.gray",
        "cmo.haline",
        "cmo.ice",
        "cmo.matter",
        "cmo.oxy",
        "cmo.phase",
        "cmo.solar",
        "cmo.speed",
        "cmo.tempo",
        "cmo.thermal",
        "cmo.turbid",
        "CMRmap",
        "cool",
        "coolwarm",
        "copper",
        "cubehelix",
        "Dark2",
        "flag",
        "gist_earth",
        "gist_gray",
        "gist_heat",
        "gist_ncar",
        "gist_rainbow",
        "gist_stern",
        "gist_yarg",
        "GnBu",
        "gnuplot",
        "gnuplot2",
        "gray",
        "Greens",
        "Greys",
        "hot",
        "hsv",
        "inferno",
        "jet",
        "magma",
        "nipy_spectral",
        "ocean",
        "Oranges",
        "OrRd",
        "Paired",
        "Pastel1",
        "Pastel2",
        "pink",
        "PiYG",
        "plasma",
        "PRGn",
        "prism",
        "PuBu",
        "PuBuGn",
        "PuOr",
        "PuRd",
        "Purples",
        "rainbow",
        "RdBu",
        "RdGy",
        "RdPu",
        "RdYlBu",
        "RdYlGn",
        "Reds",
        "seismic",
        "Set1",
        "Set2",
        "Set3",
        "Spectral",
        "spring",
        "summer",
        "tab10",
        "tab20",
        "tab20b",
        "tab20c",
        "terrain",
        "viridis",
        "winter",
        "Wistia",
        "YlGn",
        "YlGnBu",
        "YlOrBr",
        "YlOrRd"
       ],
       "description": "Selecione o esquema de cores desejado para a imagem:",
       "index": 54,
       "layout": "IPY_MODEL_b0069f3455144798a35def63f5a38746",
       "style": "IPY_MODEL_9cb9f0905a4740108a2bd7df9f1ea2b1"
      }
     },
     "dab32518afa04ba89e69a27584a7ab19": {
      "model_module": "@jupyter-widgets/controls",
      "model_module_version": "1.4.0",
      "model_name": "ButtonStyleModel",
      "state": {}
     },
     "daf28616e1f34e62980918a5281188dc": {
      "model_module": "@jupyter-widgets/controls",
      "model_module_version": "1.4.0",
      "model_name": "DescriptionStyleModel",
      "state": {
       "description_width": "initial"
      }
     },
     "daf61268e2c04942a0398d09155934cd": {
      "model_module": "@jupyter-widgets/controls",
      "model_module_version": "1.4.0",
      "model_name": "SelectMultipleModel",
      "state": {
       "_options_labels": [
        "N (0.0°)",
        "NNE (22.5°)",
        "NE (45.0°)",
        "ENE (67.5°)",
        "E (90.0°)",
        "ESE (112.5°)",
        "SE (135.0°)",
        "SSE (157.5°)",
        "S (180.0°)",
        "SSW (202.5°)",
        "SW (225.0°)",
        "WSW (247.5°)",
        "W (270.0°)",
        "WNW (292.5°)",
        "NW (315.0°)",
        "NNW (337.5°)",
        "N (360.0°)"
       ],
       "description": "Selecione a direção (°) desejada:",
       "index": [],
       "layout": "IPY_MODEL_5f82510e0c1841cb98cb336f62b13a04",
       "rows": 5,
       "style": "IPY_MODEL_d1ef945202a3483ba16bf9be1dc573a9"
      }
     },
     "db8ad3ca4bcd492ba9b971290f68ecb7": {
      "model_module": "@jupyter-widgets/base",
      "model_module_version": "1.1.0",
      "model_name": "LayoutModel",
      "state": {}
     },
     "db8ea60204ae4ba197b18d28ba86cbe5": {
      "model_module": "@jupyter-widgets/base",
      "model_module_version": "1.1.0",
      "model_name": "LayoutModel",
      "state": {
       "width": "400px"
      }
     },
     "dbba79440b9140d7bf256b1a13240184": {
      "model_module": "@jupyter-widgets/controls",
      "model_module_version": "1.4.0",
      "model_name": "AccordionModel",
      "state": {
       "_titles": {
        "0": "Pistas de Vento"
       },
       "children": [
        "IPY_MODEL_385f59f5a2934581bddfb0fe39a27dac"
       ],
       "layout": "IPY_MODEL_b3f270628267454b9f331717d323d04e"
      }
     },
     "dbc1ae497f9341e09d093cde3b0f8d8f": {
      "model_module": "@jupyter-widgets/base",
      "model_module_version": "1.1.0",
      "model_name": "LayoutModel",
      "state": {}
     },
     "dbda1ffee4a94d1aa516a4f89314d78a": {
      "model_module": "@jupyter-widgets/controls",
      "model_module_version": "1.4.0",
      "model_name": "TextModel",
      "state": {
       "description": "Outra direção (°):",
       "layout": "IPY_MODEL_b175ae453bf8475bb081e249cabf6b6e",
       "style": "IPY_MODEL_c098a11c34b04f6daec388bb9dc18dad"
      }
     },
     "dcd9611c5c034e019fb838f34b80d59b": {
      "model_module": "@jupyter-widgets/controls",
      "model_module_version": "1.4.0",
      "model_name": "ToggleButtonsStyleModel",
      "state": {
       "button_width": "",
       "description_width": ""
      }
     },
     "dcf27e42d96d4ceb8d2107ddbd0e3657": {
      "model_module": "@jupyter-widgets/base",
      "model_module_version": "1.1.0",
      "model_name": "LayoutModel",
      "state": {
       "width": "400px"
      }
     },
     "dd4d17ee53d840648d6d9a810637cf16": {
      "model_module": "@jupyter-widgets/controls",
      "model_module_version": "1.4.0",
      "model_name": "ButtonModel",
      "state": {
       "description": "Importar .shp de malha processada",
       "layout": "IPY_MODEL_b0954038d6424ab78684550b76789541",
       "style": "IPY_MODEL_c161f99585c24ff18ea20f6ce8d46cfd",
       "tooltip": "Importa um .shp que teve sua malha processada"
      }
     },
     "dd5300b87cb6424788af22eafa404d32": {
      "model_module": "@jupyter-widgets/base",
      "model_module_version": "1.1.0",
      "model_name": "LayoutModel",
      "state": {}
     },
     "dd9cc898880549fb81a27913c63671df": {
      "model_module": "@jupyter-widgets/base",
      "model_module_version": "1.1.0",
      "model_name": "LayoutModel",
      "state": {}
     },
     "dda2ed05e6d34b698e9ecb37558e19c8": {
      "model_module": "@jupyter-widgets/controls",
      "model_module_version": "1.4.0",
      "model_name": "ButtonModel",
      "state": {
       "description": "Importar .shp",
       "layout": "IPY_MODEL_7fd4ca58bcd641119b39ff69aa8af309",
       "style": "IPY_MODEL_0977badd53d641a698837924c9bfd92c",
       "tooltip": "Importa um .shp para processamento"
      }
     },
     "de833121a88044489fa69d0125246a0c": {
      "model_module": "@jupyter-widgets/base",
      "model_module_version": "1.1.0",
      "model_name": "LayoutModel",
      "state": {}
     },
     "de99d0132fe64ec0b11f05026d2d752b": {
      "model_module": "@jupyter-widgets/base",
      "model_module_version": "1.1.0",
      "model_name": "LayoutModel",
      "state": {
       "width": "500px"
      }
     },
     "deb83fdb4ab64794aa60f114b48b67a3": {
      "model_module": "@jupyter-widgets/base",
      "model_module_version": "1.1.0",
      "model_name": "LayoutModel",
      "state": {}
     },
     "deccfb69c813464d9739fa8bb2728226": {
      "model_module": "@jupyter-widgets/base",
      "model_module_version": "1.1.0",
      "model_name": "LayoutModel",
      "state": {}
     },
     "def74443d9c54669bd334de9b2900d68": {
      "model_module": "@jupyter-widgets/controls",
      "model_module_version": "1.4.0",
      "model_name": "TabModel",
      "state": {
       "_titles": {
        "0": "Projetos",
        "1": "Shapefiles"
       },
       "children": [
        "IPY_MODEL_cbcc42d18f774170847fd9fa5db27290",
        "IPY_MODEL_17e0e6dbfc5345249ead9d0862e183a8"
       ],
       "layout": "IPY_MODEL_d26bae10acc045a8b9583f6e662daabb",
       "selected_index": 1
      }
     },
     "df0c2d4ecc0d4db88a64e17b2019e6f6": {
      "model_module": "@jupyter-widgets/controls",
      "model_module_version": "1.4.0",
      "model_name": "DescriptionStyleModel",
      "state": {
       "description_width": "initial"
      }
     },
     "df1e23802bfd45e9b6f265fbceece0ce": {
      "model_module": "@jupyter-widgets/controls",
      "model_module_version": "1.4.0",
      "model_name": "AccordionModel",
      "state": {
       "_titles": {
        "0": "Carregar .shp",
        "1": "Carregar .shp de malha processada"
       },
       "children": [
        "IPY_MODEL_156f970b28d244e6a417d6d81af2d8f6",
        "IPY_MODEL_1cf3795a1c6844359654ed9b0d8bfcb5"
       ],
       "layout": "IPY_MODEL_c99bc47b82244eba82b52bbea119fc42"
      }
     },
     "df3051f5b5614ebab4f3320b595d9de7": {
      "model_module": "@jupyter-widgets/controls",
      "model_module_version": "1.4.0",
      "model_name": "ButtonStyleModel",
      "state": {}
     },
     "df3dfbbdafad4d81a542eb904d20c901": {
      "model_module": "@jupyter-widgets/controls",
      "model_module_version": "1.4.0",
      "model_name": "TabModel",
      "state": {
       "_titles": {
        "0": "Pistas de Vento",
        "1": "Esquema de Cores"
       },
       "children": [
        "IPY_MODEL_e467d833c89c4c23ba560abeb0338ba6",
        "IPY_MODEL_b8f1f0879d674d6cb106676fa3f7a086"
       ],
       "layout": "IPY_MODEL_cafc7e7be82f48639c722ed55f75aa20"
      }
     },
     "df9389002b5b4b8a9d25d4793e63849d": {
      "model_module": "@jupyter-widgets/base",
      "model_module_version": "1.1.0",
      "model_name": "LayoutModel",
      "state": {
       "width": "500px"
      }
     },
     "dfb43e8acd074f92b2c5d36de3694c12": {
      "model_module": "@jupyter-widgets/controls",
      "model_module_version": "1.4.0",
      "model_name": "AccordionModel",
      "state": {
       "_titles": {
        "0": "Escolha da(s) pista(s) de vento"
       },
       "children": [
        "IPY_MODEL_52c2ff1fbdf246a1acd905b73c2190ad"
       ],
       "layout": "IPY_MODEL_21993ceda51a4d09843225fed2d2f8ef"
      }
     },
     "dfc1da4abe254ad1905e76ebbcadcff5": {
      "model_module": "@jupyter-widgets/base",
      "model_module_version": "1.1.0",
      "model_name": "LayoutModel",
      "state": {}
     },
     "e030c44361074a649d4fbb761aaa0400": {
      "model_module": "@jupyter-widgets/controls",
      "model_module_version": "1.4.0",
      "model_name": "FloatProgressModel",
      "state": {
       "description": "112.5°:",
       "layout": "IPY_MODEL_9513f394792b4c4494818756c89a5193",
       "max": 1,
       "style": "IPY_MODEL_79b4a733fe55494d808f8fca19e44d95",
       "value": 1
      }
     },
     "e038ab6196c9489bb89aa4755ef5c27d": {
      "model_module": "@jupyter-widgets/controls",
      "model_module_version": "1.4.0",
      "model_name": "ButtonStyleModel",
      "state": {}
     },
     "e03ec97bf1f5490492898f9bd710f63c": {
      "model_module": "@jupyter-widgets/controls",
      "model_module_version": "1.4.0",
      "model_name": "ToggleButtonsStyleModel",
      "state": {
       "button_width": ""
      }
     },
     "e03fb50a62b64b7e94d980cb7c0c4e4b": {
      "model_module": "@jupyter-widgets/base",
      "model_module_version": "1.1.0",
      "model_name": "LayoutModel",
      "state": {}
     },
     "e05cbda96acb4015b15206001c35c777": {
      "model_module": "@jupyter-widgets/base",
      "model_module_version": "1.1.0",
      "model_name": "LayoutModel",
      "state": {
       "width": "30%"
      }
     },
     "e0755ac05f464a73a8d0794ef222b2b4": {
      "model_module": "@jupyter-widgets/controls",
      "model_module_version": "1.4.0",
      "model_name": "TabModel",
      "state": {
       "_titles": {
        "0": "Métodos",
        "1": "Direções"
       },
       "children": [
        "IPY_MODEL_21681a9448bf431f83a71079a803c769",
        "IPY_MODEL_14d9bb70d5bf468e82e959ed77ec3c0a"
       ],
       "layout": "IPY_MODEL_2b8c771b4c8c4673990c7211568523b4",
       "selected_index": 1
      }
     },
     "e080bda7b36b45a5a7737b11eee0ea13": {
      "model_module": "@jupyter-widgets/base",
      "model_module_version": "1.1.0",
      "model_name": "LayoutModel",
      "state": {}
     },
     "e08e830e5ace4f31bc37785c9a9f1687": {
      "model_module": "@jupyter-widgets/controls",
      "model_module_version": "1.4.0",
      "model_name": "AccordionModel",
      "state": {
       "_titles": {
        "0": "Carregar .shp",
        "1": "Carregar .shp de malha processada"
       },
       "children": [
        "IPY_MODEL_33ed225ac69745bebe6db6cf9685902c",
        "IPY_MODEL_0343cef5294542aaa26f44ba3422a3ea"
       ],
       "layout": "IPY_MODEL_e080bda7b36b45a5a7737b11eee0ea13",
       "selected_index": 1
      }
     },
     "e0abc89dbba142e696dbe9837f160ade": {
      "model_module": "@jupyter-widgets/controls",
      "model_module_version": "1.4.0",
      "model_name": "DescriptionStyleModel",
      "state": {
       "description_width": "initial"
      }
     },
     "e0eb2814d84d49ebb55e7e45533d3a52": {
      "model_module": "@jupyter-widgets/controls",
      "model_module_version": "1.4.0",
      "model_name": "ProgressStyleModel",
      "state": {
       "description_width": ""
      }
     },
     "e147d66b8a334947bc6cda025e2f21b8": {
      "model_module": "@jupyter-widgets/controls",
      "model_module_version": "1.4.0",
      "model_name": "TextModel",
      "state": {
       "layout": "IPY_MODEL_41754954df9c4afda0395f67cce3c779",
       "style": "IPY_MODEL_00510c06b82e4e25a17fe031d326b72f"
      }
     },
     "e1538f2e66674c49a97c69f1356cec75": {
      "model_module": "@jupyter-widgets/base",
      "model_module_version": "1.1.0",
      "model_name": "LayoutModel",
      "state": {}
     },
     "e156c13a252440a7b129ce7d57ce3804": {
      "model_module": "@jupyter-widgets/controls",
      "model_module_version": "1.4.0",
      "model_name": "ButtonModel",
      "state": {
       "description": "Criar projeto",
       "layout": "IPY_MODEL_ecabffaa763a4f799688058f9e84aa5e",
       "style": "IPY_MODEL_d7598db7f7a0432f9bcc6a59c4c14f0a",
       "tooltip": "Cria um novo projeto"
      }
     },
     "e164a93c05164a0ebce4e7d935bbe42a": {
      "model_module": "@jupyter-widgets/controls",
      "model_module_version": "1.4.0",
      "model_name": "ButtonStyleModel",
      "state": {}
     },
     "e1a51facdc684d34b2bfddf3a8db4937": {
      "model_module": "@jupyter-widgets/base",
      "model_module_version": "1.1.0",
      "model_name": "LayoutModel",
      "state": {}
     },
     "e1a84b6c1c594370bb6e6f4a6fbb5d38": {
      "model_module": "@jupyter-widgets/base",
      "model_module_version": "1.1.0",
      "model_name": "LayoutModel",
      "state": {
       "width": "30%"
      }
     },
     "e1c6f4767e1448f3bad326bf2ca06ea1": {
      "model_module": "@jupyter-widgets/base",
      "model_module_version": "1.1.0",
      "model_name": "LayoutModel",
      "state": {}
     },
     "e1cb2bfa9e25441c9157628f2e2b49cd": {
      "model_module": "@jupyter-widgets/controls",
      "model_module_version": "1.4.0",
      "model_name": "ButtonStyleModel",
      "state": {}
     },
     "e21ccd6da73e444892f4e6336db4cf5d": {
      "model_module": "@jupyter-widgets/controls",
      "model_module_version": "1.4.0",
      "model_name": "AccordionModel",
      "state": {
       "_titles": {
        "0": "Nome desejado para o .shp:",
        "1": "Georreferenciamento:",
        "2": "Malha: (m)"
       },
       "children": [
        "IPY_MODEL_e147d66b8a334947bc6cda025e2f21b8",
        "IPY_MODEL_871e3cb7c2d441aa9b79e9cd1b5791c7",
        "IPY_MODEL_55cf700477334917b683a79970cf45e2"
       ],
       "layout": "IPY_MODEL_7e1de002deaf4d9e96f7dcd91052e041"
      }
     },
     "e260306ddb454373ad58e59edfe0d742": {
      "model_module": "@jupyter-widgets/controls",
      "model_module_version": "1.4.0",
      "model_name": "DropdownModel",
      "state": {
       "_options_labels": [
        "300",
        "600",
        "1200"
       ],
       "description": "Selecione a resolução da imagem desejada em DPI:",
       "index": 1,
       "layout": "IPY_MODEL_2de0c34fd40747ada50725e76f534ba3",
       "style": "IPY_MODEL_63a2d00b56c844c6a5ba5034f5b496c1"
      }
     },
     "e261afc5c04c4d79989a6f83f420cb88": {
      "model_module": "@jupyter-widgets/controls",
      "model_module_version": "1.4.0",
      "model_name": "TextModel",
      "state": {
       "description": "Outra direção (°):",
       "layout": "IPY_MODEL_3a7c5698e05246ddb6a609619da03a65",
       "style": "IPY_MODEL_e0abc89dbba142e696dbe9837f160ade"
      }
     },
     "e2ac7d30d95847b2bd27f4c0a1765869": {
      "model_module": "@jupyter-widgets/controls",
      "model_module_version": "1.4.0",
      "model_name": "AccordionModel",
      "state": {
       "_titles": {
        "0": "Escolha da(s) pista(s) de vento"
       },
       "children": [
        "IPY_MODEL_399ca5cc257945d09179d390d178b2e8"
       ],
       "layout": "IPY_MODEL_3cb4e42ccef14050b9e1f89ccfa27aa4"
      }
     },
     "e2d2cbb2f9114b60815ecc349f3e087d": {
      "model_module": "@jupyter-widgets/base",
      "model_module_version": "1.1.0",
      "model_name": "LayoutModel",
      "state": {}
     },
     "e30805e24f9446b09fe17fba9357b03e": {
      "model_module": "@jupyter-widgets/controls",
      "model_module_version": "1.4.0",
      "model_name": "ToggleButtonsModel",
      "state": {
       "_options_labels": [
        "Método SPM",
        "Método de Saville"
       ],
       "button_style": "",
       "icons": [],
       "index": 1,
       "layout": "IPY_MODEL_6a10b7197c9042a2b46d4994fcf645db",
       "style": "IPY_MODEL_d8659de4d0bf4b2f89b45ce7f5e6393e",
       "tooltips": []
      }
     },
     "e312eaa045bb43cdb18a0040a5fd2666": {
      "model_module": "@jupyter-widgets/controls",
      "model_module_version": "1.4.0",
      "model_name": "FloatProgressModel",
      "state": {
       "description": "202.50°:",
       "layout": "IPY_MODEL_4eb67509ce094de2b1acbffdc841feea",
       "max": 1,
       "style": "IPY_MODEL_59664fe7d5d64540b921adefb51589ef",
       "value": 1
      }
     },
     "e33ffc9575124f8a86a338f31e97eb35": {
      "model_module": "@jupyter-widgets/controls",
      "model_module_version": "1.4.0",
      "model_name": "DropdownModel",
      "state": {
       "_options_labels": [
        "Accent",
        "afmhot",
        "autumn",
        "binary",
        "Blues",
        "bone",
        "BrBG",
        "brg",
        "BuGn",
        "BuPu",
        "bwr",
        "CMRmap",
        "cool",
        "coolwarm",
        "copper",
        "cubehelix",
        "Dark2",
        "flag",
        "gist_earth",
        "gist_gray",
        "gist_heat",
        "gist_ncar",
        "gist_rainbow",
        "gist_stern",
        "gist_yarg",
        "GnBu",
        "gnuplot",
        "gnuplot2",
        "gray",
        "Greens",
        "Greys",
        "hot",
        "hsv",
        "inferno",
        "jet",
        "magma",
        "nipy_spectral",
        "ocean",
        "Oranges",
        "OrRd",
        "Paired",
        "Pastel1",
        "Pastel2",
        "pink",
        "PiYG",
        "plasma",
        "PRGn",
        "prism",
        "PuBu",
        "PuBuGn",
        "PuOr",
        "PuRd",
        "Purples",
        "rainbow",
        "RdBu",
        "RdGy",
        "RdPu",
        "RdYlBu",
        "RdYlGn",
        "Reds",
        "seismic",
        "Set1",
        "Set2",
        "Set3",
        "Spectral",
        "spring",
        "summer",
        "tab10",
        "tab20",
        "tab20b",
        "tab20c",
        "terrain",
        "viridis",
        "winter",
        "Wistia",
        "YlGn",
        "YlGnBu",
        "YlOrBr",
        "YlOrRd"
       ],
       "description": "Selecione o esquema de cores desejado para a imagem:",
       "index": 32,
       "layout": "IPY_MODEL_b66af32819ec434d93691766d1ec4bbf",
       "style": "IPY_MODEL_d69416e2d05c45a2be824456119ca091"
      }
     },
     "e362f311cfeb4878ac994ea61628b0dd": {
      "model_module": "@jupyter-widgets/base",
      "model_module_version": "1.1.0",
      "model_name": "LayoutModel",
      "state": {}
     },
     "e36ae2a2ac954647802749d71eda1f0c": {
      "model_module": "@jupyter-widgets/base",
      "model_module_version": "1.1.0",
      "model_name": "LayoutModel",
      "state": {}
     },
     "e397ddf08a094e5e8f51184cb817e69a": {
      "model_module": "@jupyter-widgets/controls",
      "model_module_version": "1.4.0",
      "model_name": "ButtonModel",
      "state": {
       "description": "Importar projeto",
       "layout": "IPY_MODEL_d3234bccef1d48068c8e2c349660db66",
       "style": "IPY_MODEL_1240c56064ed4516b78c9aeb91d7d07e",
       "tooltip": "Importa o .csv de um projeto criado"
      }
     },
     "e3e645dbf4234f7a873c79c5919c90e0": {
      "model_module": "@jupyter-widgets/base",
      "model_module_version": "1.1.0",
      "model_name": "LayoutModel",
      "state": {}
     },
     "e3f75b69ed3e4a45ab62e2a47c2819e9": {
      "model_module": "@jupyter-widgets/base",
      "model_module_version": "1.1.0",
      "model_name": "LayoutModel",
      "state": {}
     },
     "e41ab57bd95d45309816d28628d618ae": {
      "model_module": "@jupyter-widgets/controls",
      "model_module_version": "1.4.0",
      "model_name": "ToggleButtonsStyleModel",
      "state": {
       "button_width": ""
      }
     },
     "e41c566cd1dd4f9ab90abe6c707699cb": {
      "model_module": "@jupyter-widgets/controls",
      "model_module_version": "1.4.0",
      "model_name": "AccordionModel",
      "state": {
       "_titles": {
        "0": "Escolha da(s) pista(s) de vento"
       },
       "children": [
        "IPY_MODEL_90bcc47e700147f9b16dcfc756a17434"
       ],
       "layout": "IPY_MODEL_82056fae0ab44c11aa229fa9629051f3"
      }
     },
     "e467d833c89c4c23ba560abeb0338ba6": {
      "model_module": "@jupyter-widgets/controls",
      "model_module_version": "1.4.0",
      "model_name": "AccordionModel",
      "state": {
       "_titles": {
        "0": "Escolha da(s) pista(s) de vento"
       },
       "children": [
        "IPY_MODEL_c5b05be3f47e4aa5889a9c81ed8e8d31"
       ],
       "layout": "IPY_MODEL_8ddadfb4161b43bcb9c0364bc1ad3f8d"
      }
     },
     "e4ab8ba473ba4955a48120b1e4b339d3": {
      "model_module": "@jupyter-widgets/controls",
      "model_module_version": "1.4.0",
      "model_name": "ButtonStyleModel",
      "state": {}
     },
     "e4e0fc380798452fab3b68df0a99511d": {
      "model_module": "@jupyter-widgets/base",
      "model_module_version": "1.1.0",
      "model_name": "LayoutModel",
      "state": {}
     },
     "e50b46f2805e4d5bb484cc5560501352": {
      "model_module": "@jupyter-widgets/base",
      "model_module_version": "1.1.0",
      "model_name": "LayoutModel",
      "state": {}
     },
     "e51d81d498af49999d6ff723093cd5f5": {
      "model_module": "@jupyter-widgets/base",
      "model_module_version": "1.1.0",
      "model_name": "LayoutModel",
      "state": {}
     },
     "e56f3b9a35464af9abd4a27930b541b3": {
      "model_module": "@jupyter-widgets/controls",
      "model_module_version": "1.4.0",
      "model_name": "ProgressStyleModel",
      "state": {
       "description_width": ""
      }
     },
     "e5af2dcd41c143a19c02d6179112f916": {
      "model_module": "@jupyter-widgets/base",
      "model_module_version": "1.1.0",
      "model_name": "LayoutModel",
      "state": {}
     },
     "e5cd8cd68ea04eaaabc0d5505d4e4f2f": {
      "model_module": "@jupyter-widgets/base",
      "model_module_version": "1.1.0",
      "model_name": "LayoutModel",
      "state": {}
     },
     "e5e1ed33e0874f3abf7ad6bd63397e4d": {
      "model_module": "@jupyter-widgets/controls",
      "model_module_version": "1.4.0",
      "model_name": "AccordionModel",
      "state": {
       "_titles": {
        "0": "Nome desejado para o .shp:",
        "1": "Georreferenciamento:",
        "2": "Malha: (m)"
       },
       "children": [
        "IPY_MODEL_55040ebe9fab4431925c752ea47a5023",
        "IPY_MODEL_4deb1447eeef426490d2fa5821ff743c",
        "IPY_MODEL_04f298bf2f284eefa6748d1d00160578"
       ],
       "layout": "IPY_MODEL_a4882c74beac40d69138b8de717962f2",
       "selected_index": 2
      }
     },
     "e5ed148f92ef441fb8afb5fb6dcd2712": {
      "model_module": "@jupyter-widgets/controls",
      "model_module_version": "1.4.0",
      "model_name": "DescriptionStyleModel",
      "state": {
       "description_width": "initial"
      }
     },
     "e64391693b0e4b7b958e0d5565406a65": {
      "model_module": "@jupyter-widgets/controls",
      "model_module_version": "1.4.0",
      "model_name": "ButtonStyleModel",
      "state": {}
     },
     "e64ccc37d8c74fca8594d8dd6b20fcfe": {
      "model_module": "@jupyter-widgets/controls",
      "model_module_version": "1.4.0",
      "model_name": "ButtonModel",
      "state": {
       "description": "Importar .shp",
       "layout": "IPY_MODEL_3f8c4e68887e479584b783c3c456c4f0",
       "style": "IPY_MODEL_a3f6c095380041a3babfe61dc554b9d2",
       "tooltip": "Importa um .shp para processamento"
      }
     },
     "e658f391d5ee467da11587346bbf819a": {
      "model_module": "@jupyter-widgets/base",
      "model_module_version": "1.1.0",
      "model_name": "LayoutModel",
      "state": {
       "width": "500px"
      }
     },
     "e6b33f2a95504b19966bb2d7d464dad8": {
      "model_module": "@jupyter-widgets/controls",
      "model_module_version": "1.4.0",
      "model_name": "TextModel",
      "state": {
       "description": "Outra direção (°):",
       "layout": "IPY_MODEL_4af9ec0c49d84bc9a6efa8f2889714a5",
       "style": "IPY_MODEL_289ab4c7baff4cd7956f5dabc606ee3d"
      }
     },
     "e6bd2cc5f68c47ebbc7263da7843a53e": {
      "model_module": "@jupyter-widgets/controls",
      "model_module_version": "1.4.0",
      "model_name": "SelectModel",
      "state": {
       "_options_labels": [
        "0.0°"
       ],
       "description": "Direção (°):",
       "index": 0,
       "layout": "IPY_MODEL_3ac4348063f84683848c21b32421611b",
       "style": "IPY_MODEL_2fbadc4d908b402ea592144513086b4f"
      }
     },
     "e764285b0d5745de9edc16d7e6c9e4fa": {
      "model_module": "@jupyter-widgets/controls",
      "model_module_version": "1.4.0",
      "model_name": "ButtonStyleModel",
      "state": {}
     },
     "e764c69438cf47db90660e24a5a99329": {
      "model_module": "@jupyter-widgets/controls",
      "model_module_version": "1.4.0",
      "model_name": "DescriptionStyleModel",
      "state": {
       "description_width": ""
      }
     },
     "e7675c5325c7482ea19cf2bc1e822c55": {
      "model_module": "@jupyter-widgets/base",
      "model_module_version": "1.1.0",
      "model_name": "LayoutModel",
      "state": {
       "width": "400px"
      }
     },
     "e76d4acc677744d883d439952b12f91b": {
      "model_module": "@jupyter-widgets/controls",
      "model_module_version": "1.4.0",
      "model_name": "ButtonStyleModel",
      "state": {}
     },
     "e783638fe0284ae9a64d55192523f638": {
      "model_module": "@jupyter-widgets/controls",
      "model_module_version": "1.4.0",
      "model_name": "TabModel",
      "state": {
       "_titles": {
        "0": "Projetos",
        "1": "Shapefiles"
       },
       "children": [
        "IPY_MODEL_d4028a922fd446cdbd5ddef9f4dc3def",
        "IPY_MODEL_59ad9127a89b41e290e7510a9b7c8f63"
       ],
       "layout": "IPY_MODEL_58181cf47d06444894df6e611fb2bd44",
       "selected_index": 1
      }
     },
     "e7aebf2344f0496fa88e1b4dba277b8b": {
      "model_module": "@jupyter-widgets/controls",
      "model_module_version": "1.4.0",
      "model_name": "DropdownModel",
      "state": {
       "_options_labels": [
        "Accent",
        "afmhot",
        "autumn",
        "binary",
        "Blues",
        "bone",
        "BrBG",
        "brg",
        "BuGn",
        "BuPu",
        "bwr",
        "cmo.algae",
        "cmo.amp",
        "cmo.balance",
        "cmo.curl",
        "cmo.deep",
        "cmo.delta",
        "cmo.dense",
        "cmo.gray",
        "cmo.haline",
        "cmo.ice",
        "cmo.matter",
        "cmo.oxy",
        "cmo.phase",
        "cmo.solar",
        "cmo.speed",
        "cmo.tempo",
        "cmo.thermal",
        "cmo.turbid",
        "CMRmap",
        "cool",
        "coolwarm",
        "copper",
        "cubehelix",
        "Dark2",
        "flag",
        "gist_earth",
        "gist_gray",
        "gist_heat",
        "gist_ncar",
        "gist_rainbow",
        "gist_stern",
        "gist_yarg",
        "GnBu",
        "gnuplot",
        "gnuplot2",
        "gray",
        "Greens",
        "Greys",
        "hot",
        "hsv",
        "inferno",
        "jet",
        "magma",
        "nipy_spectral",
        "ocean",
        "Oranges",
        "OrRd",
        "Paired",
        "Pastel1",
        "Pastel2",
        "pink",
        "PiYG",
        "plasma",
        "PRGn",
        "prism",
        "PuBu",
        "PuBuGn",
        "PuOr",
        "PuRd",
        "Purples",
        "rainbow",
        "RdBu",
        "RdGy",
        "RdPu",
        "RdYlBu",
        "RdYlGn",
        "Reds",
        "seismic",
        "Set1",
        "Set2",
        "Set3",
        "Spectral",
        "spring",
        "summer",
        "tab10",
        "tab20",
        "tab20b",
        "tab20c",
        "terrain",
        "viridis",
        "winter",
        "Wistia",
        "YlGn",
        "YlGnBu",
        "YlOrBr",
        "YlOrRd"
       ],
       "description": "Selecione o esquema de cores desejado para a imagem:",
       "index": 54,
       "layout": "IPY_MODEL_bef46e95341f4ea1bc1c7709e6dbc0b2",
       "style": "IPY_MODEL_727f47c41bfe41d3bda3f0defe788491"
      }
     },
     "e7e69e6423ee48bb9fa35d8efc53e90e": {
      "model_module": "@jupyter-widgets/controls",
      "model_module_version": "1.4.0",
      "model_name": "DescriptionStyleModel",
      "state": {
       "description_width": "initial"
      }
     },
     "e80e00b95bef498fb8cb3d0e8948b21b": {
      "model_module": "@jupyter-widgets/base",
      "model_module_version": "1.1.0",
      "model_name": "LayoutModel",
      "state": {
       "width": "500px"
      }
     },
     "e82507d5efab4fadb80d6338b933d516": {
      "model_module": "@jupyter-widgets/controls",
      "model_module_version": "1.4.0",
      "model_name": "ButtonStyleModel",
      "state": {}
     },
     "e82a1c030daa4de193ee99c68b012026": {
      "model_module": "@jupyter-widgets/controls",
      "model_module_version": "1.4.0",
      "model_name": "ButtonModel",
      "state": {
       "description": "Importar .shp de malha processada",
       "layout": "IPY_MODEL_0bb7897ba5444acf97d857b6751930e7",
       "style": "IPY_MODEL_2ea443de72b944a3b0f98550a87e5e08",
       "tooltip": "Importa um .shp que já teve sua malha processada"
      }
     },
     "e8472bb82a41402694debced5868d460": {
      "model_module": "@jupyter-widgets/base",
      "model_module_version": "1.1.0",
      "model_name": "LayoutModel",
      "state": {
       "width": "400px"
      }
     },
     "e85609f5e35c436cb985cb814d1a49cd": {
      "model_module": "@jupyter-widgets/base",
      "model_module_version": "1.1.0",
      "model_name": "LayoutModel",
      "state": {}
     },
     "e865072bcc31449f8073852f37cb5184": {
      "model_module": "@jupyter-widgets/controls",
      "model_module_version": "1.4.0",
      "model_name": "ButtonStyleModel",
      "state": {}
     },
     "e88885e5bcc04629a295ead4faa301e7": {
      "model_module": "@jupyter-widgets/controls",
      "model_module_version": "1.4.0",
      "model_name": "AccordionModel",
      "state": {
       "_titles": {
        "0": "Escolha do esquema de cores desejado"
       },
       "children": [
        "IPY_MODEL_6aaf2a0e9d174dc2aa06e6f096f36662"
       ],
       "layout": "IPY_MODEL_2df5856adf0e46569b69d72d65463f55"
      }
     },
     "e8bca603d61041eb984abe23ffa33b8e": {
      "model_module": "@jupyter-widgets/controls",
      "model_module_version": "1.4.0",
      "model_name": "FloatTextModel",
      "state": {
       "layout": "IPY_MODEL_607c90833ae84de9a626d351b964261f",
       "step": null,
       "style": "IPY_MODEL_a337127eea42407e9ae3e6b82c3dc2d6"
      }
     },
     "e8ea6761a50f4d2b8b0875a7473b3305": {
      "model_module": "@jupyter-widgets/base",
      "model_module_version": "1.1.0",
      "model_name": "LayoutModel",
      "state": {
       "width": "500px"
      }
     },
     "e91c4b9dd95d419798a851b02a16b2da": {
      "model_module": "@jupyter-widgets/base",
      "model_module_version": "1.1.0",
      "model_name": "LayoutModel",
      "state": {}
     },
     "e9462a70a5ac419dafa302ee47c5c823": {
      "model_module": "@jupyter-widgets/controls",
      "model_module_version": "1.4.0",
      "model_name": "ProgressStyleModel",
      "state": {
       "description_width": ""
      }
     },
     "e9684554132746b3b2ebac99ec4c1501": {
      "model_module": "@jupyter-widgets/base",
      "model_module_version": "1.1.0",
      "model_name": "LayoutModel",
      "state": {}
     },
     "e97457cbcf6d4d859cd7eba2d98d74ea": {
      "model_module": "@jupyter-widgets/controls",
      "model_module_version": "1.4.0",
      "model_name": "ButtonStyleModel",
      "state": {}
     },
     "e97555cb2ad74ab1aa03eb62f39af5e4": {
      "model_module": "@jupyter-widgets/controls",
      "model_module_version": "1.4.0",
      "model_name": "ButtonModel",
      "state": {
       "description": "Importar projeto",
       "layout": "IPY_MODEL_d19c70c36df24fbf85d583d755a310cf",
       "style": "IPY_MODEL_0def1b8cd9634bffbd409b2b40bde7df",
       "tooltip": "Importa o .csv de um projeto já criado"
      }
     },
     "e976298a300547209c78d0bd203c1d95": {
      "model_module": "@jupyter-widgets/base",
      "model_module_version": "1.1.0",
      "model_name": "LayoutModel",
      "state": {}
     },
     "e9924da4e5ad493b9823370e89b76312": {
      "model_module": "@jupyter-widgets/controls",
      "model_module_version": "1.4.0",
      "model_name": "DescriptionStyleModel",
      "state": {
       "description_width": ""
      }
     },
     "e994e13bf1984ba48477f4d5b687aa5f": {
      "model_module": "@jupyter-widgets/controls",
      "model_module_version": "1.4.0",
      "model_name": "DescriptionStyleModel",
      "state": {
       "description_width": ""
      }
     },
     "e99d0a6cd835469cba1614a243d397c7": {
      "model_module": "@jupyter-widgets/controls",
      "model_module_version": "1.4.0",
      "model_name": "FloatProgressModel",
      "state": {
       "description": "337.5°:",
       "layout": "IPY_MODEL_60b988f61eb24444b6e5019337a79b06",
       "max": 1,
       "style": "IPY_MODEL_ee76206f07e54a1da3f1a2d93eb66e4e",
       "value": 1
      }
     },
     "e9de3ba9bd44492ba3b8c79b7f9cc6a4": {
      "model_module": "@jupyter-widgets/controls",
      "model_module_version": "1.4.0",
      "model_name": "ProgressStyleModel",
      "state": {
       "description_width": ""
      }
     },
     "ea1dfd3168c940dcb0aa450339c4536e": {
      "model_module": "@jupyter-widgets/base",
      "model_module_version": "1.1.0",
      "model_name": "LayoutModel",
      "state": {
       "width": "30%"
      }
     },
     "ea593d65e8e74d1f8fb545613e9f6dfa": {
      "model_module": "@jupyter-widgets/base",
      "model_module_version": "1.1.0",
      "model_name": "LayoutModel",
      "state": {}
     },
     "ea6745e6057244f290c9cd1be4fdc762": {
      "model_module": "@jupyter-widgets/controls",
      "model_module_version": "1.4.0",
      "model_name": "ProgressStyleModel",
      "state": {
       "description_width": ""
      }
     },
     "eac81fbf06aa4839bc3c5f0d913e6cb1": {
      "model_module": "@jupyter-widgets/controls",
      "model_module_version": "1.4.0",
      "model_name": "AccordionModel",
      "state": {
       "_titles": {
        "0": "Criar projeto",
        "1": "Importar projeto"
       },
       "children": [
        "IPY_MODEL_16df73fced1445c7a190cb0ddfcdd34e",
        "IPY_MODEL_beb91c0f5cea47dea4b86a75e7ed1460"
       ],
       "layout": "IPY_MODEL_555f91de4be342199959a070f5e12369",
       "selected_index": 1
      }
     },
     "ead66e3b866b45268b19a955365a5cc1": {
      "model_module": "@jupyter-widgets/controls",
      "model_module_version": "1.4.0",
      "model_name": "ButtonStyleModel",
      "state": {}
     },
     "eb40794a904440b5b19443488007657a": {
      "model_module": "@jupyter-widgets/base",
      "model_module_version": "1.1.0",
      "model_name": "LayoutModel",
      "state": {}
     },
     "eb642dda9bb44d879c274620f3e80ae8": {
      "model_module": "@jupyter-widgets/base",
      "model_module_version": "1.1.0",
      "model_name": "LayoutModel",
      "state": {
       "width": "30%"
      }
     },
     "eb682c0146ce4367aeb407a6fbe65108": {
      "model_module": "@jupyter-widgets/base",
      "model_module_version": "1.1.0",
      "model_name": "LayoutModel",
      "state": {}
     },
     "ebca5dc586a94761ac1a946f00ad8c67": {
      "model_module": "@jupyter-widgets/controls",
      "model_module_version": "1.4.0",
      "model_name": "FloatProgressModel",
      "state": {
       "description": "90.0°:",
       "layout": "IPY_MODEL_9e740b4c735c47538269decd1b40f84f",
       "max": 1,
       "style": "IPY_MODEL_412ee87f9e7d41a389bb90f683c98175",
       "value": 1
      }
     },
     "ebd6bb78595c46b3b20b1b4f195bea2b": {
      "model_module": "@jupyter-widgets/controls",
      "model_module_version": "1.4.0",
      "model_name": "ProgressStyleModel",
      "state": {
       "description_width": ""
      }
     },
     "ebe7a3f2f2884c569a610438f53bc641": {
      "model_module": "@jupyter-widgets/controls",
      "model_module_version": "1.4.0",
      "model_name": "AccordionModel",
      "state": {
       "_titles": {
        "0": "Criar projeto",
        "1": "Importar projeto"
       },
       "children": [
        "IPY_MODEL_801114cb7f054bd8b038edfbef7e682e",
        "IPY_MODEL_a07802b64ef24825b1e52d7d2d6dc6b3"
       ],
       "layout": "IPY_MODEL_4c96ccdcfb0344afb05a4e0d81f9669b",
       "selected_index": 1
      }
     },
     "ec34a89b157e4d59afcc8698dc471a87": {
      "model_module": "@jupyter-widgets/base",
      "model_module_version": "1.1.0",
      "model_name": "LayoutModel",
      "state": {}
     },
     "ec7f78934a3f4669a545f09dc10aa1df": {
      "model_module": "@jupyter-widgets/controls",
      "model_module_version": "1.4.0",
      "model_name": "ToggleButtonsStyleModel",
      "state": {
       "button_width": ""
      }
     },
     "ecabffaa763a4f799688058f9e84aa5e": {
      "model_module": "@jupyter-widgets/base",
      "model_module_version": "1.1.0",
      "model_name": "LayoutModel",
      "state": {}
     },
     "ecc54c81864a4fac83a72e1a3ff5425e": {
      "model_module": "@jupyter-widgets/controls",
      "model_module_version": "1.4.0",
      "model_name": "DescriptionStyleModel",
      "state": {
       "description_width": "initial"
      }
     },
     "ecdcd689bec24fe48c712d09912fa00b": {
      "model_module": "@jupyter-widgets/base",
      "model_module_version": "1.1.0",
      "model_name": "LayoutModel",
      "state": {}
     },
     "ed1bb5685e3a45b7aca0e2e0cabed1d9": {
      "model_module": "@jupyter-widgets/controls",
      "model_module_version": "1.4.0",
      "model_name": "TabModel",
      "state": {
       "_titles": {
        "0": "Projetos",
        "1": "Shapefiles"
       },
       "children": [
        "IPY_MODEL_f99d575436664ddbb46a4f160458178d",
        "IPY_MODEL_cebf65ae1086410b878a1a5eb1f65b5e"
       ],
       "layout": "IPY_MODEL_12f33dbc6447450dadbe3cadb57b94c8",
       "selected_index": 1
      }
     },
     "ed4d315bf8c24d5f97e4976e7bf67d8f": {
      "model_module": "@jupyter-widgets/base",
      "model_module_version": "1.1.0",
      "model_name": "LayoutModel",
      "state": {}
     },
     "ed5c13e65698442792011f72f43746f0": {
      "model_module": "@jupyter-widgets/base",
      "model_module_version": "1.1.0",
      "model_name": "LayoutModel",
      "state": {
       "width": "30%"
      }
     },
     "edd41f86fdd74f4d9590a719c9af186d": {
      "model_module": "@jupyter-widgets/controls",
      "model_module_version": "1.4.0",
      "model_name": "ButtonModel",
      "state": {
       "description": "Importar pista(s) de vento processada(s)",
       "layout": "IPY_MODEL_6957f34063fb4cfebc028dcb754763f0",
       "style": "IPY_MODEL_66e856251f2146abacfc0c31fe263761",
       "tooltip": "Importa pista(s) de vento processada(s)"
      }
     },
     "edeb2b61b1c24f4689062aa0a3bf3237": {
      "model_module": "@jupyter-widgets/base",
      "model_module_version": "1.1.0",
      "model_name": "LayoutModel",
      "state": {}
     },
     "ee0931c1b34b472da6f6093be62e79b2": {
      "model_module": "@jupyter-widgets/base",
      "model_module_version": "1.1.0",
      "model_name": "LayoutModel",
      "state": {}
     },
     "ee41e7ca7522401da3656352f5cac3f6": {
      "model_module": "@jupyter-widgets/controls",
      "model_module_version": "1.4.0",
      "model_name": "FloatProgressModel",
      "state": {
       "description": "0.0°:",
       "layout": "IPY_MODEL_8e6a867357d54600bfb6a05869cb9dc0",
       "max": 1,
       "style": "IPY_MODEL_c7643889ff0f49b1b47fc33d9d465df3",
       "value": 1
      }
     },
     "ee583efd980f4dee80d7660738302e32": {
      "model_module": "@jupyter-widgets/controls",
      "model_module_version": "1.4.0",
      "model_name": "SelectModel",
      "state": {
       "_options_labels": [
        "157.5°"
       ],
       "description": "Direção (°):",
       "index": 0,
       "layout": "IPY_MODEL_53884d5dd4474604b7209dade2a1b9ae",
       "style": "IPY_MODEL_ad77a77e83f043f889023b08d8cfa928"
      }
     },
     "ee6f01828599447cac2fe33666517502": {
      "model_module": "@jupyter-widgets/controls",
      "model_module_version": "1.4.0",
      "model_name": "ButtonStyleModel",
      "state": {}
     },
     "ee7590e324684560bf7dc24b06fb83a7": {
      "model_module": "@jupyter-widgets/controls",
      "model_module_version": "1.4.0",
      "model_name": "ButtonModel",
      "state": {
       "description": "Carregar .shp de malha processada",
       "layout": "IPY_MODEL_601a0c623b614f64aec5e4ab512cbdd5",
       "style": "IPY_MODEL_f15c3dfd84b64751b709955fd5491e84",
       "tooltip": "Carrega um .shp que já teve sua malha processada"
      }
     },
     "ee76206f07e54a1da3f1a2d93eb66e4e": {
      "model_module": "@jupyter-widgets/controls",
      "model_module_version": "1.4.0",
      "model_name": "ProgressStyleModel",
      "state": {
       "description_width": ""
      }
     },
     "ee76d0c62a244d78869d9880d315e485": {
      "model_module": "@jupyter-widgets/controls",
      "model_module_version": "1.4.0",
      "model_name": "AccordionModel",
      "state": {
       "_titles": {
        "0": "Importar .shp",
        "1": "Importar .shp de malha processada"
       },
       "children": [
        "IPY_MODEL_99779416507e47e0b721d5d9aa1c8c1b",
        "IPY_MODEL_1dc66c4c49a24fd982961679b04c31eb"
       ],
       "layout": "IPY_MODEL_97eb54e613d44223b0fdc0e46c771226",
       "selected_index": 1
      }
     },
     "eeb832110a874669a620d3cacba288e7": {
      "model_module": "@jupyter-widgets/base",
      "model_module_version": "1.1.0",
      "model_name": "LayoutModel",
      "state": {
       "width": "30%"
      }
     },
     "ef03474e86cc47c9b7cc6b2d592d054d": {
      "model_module": "@jupyter-widgets/base",
      "model_module_version": "1.1.0",
      "model_name": "LayoutModel",
      "state": {}
     },
     "ef267b59d8c6472a888c9d1c99e20e39": {
      "model_module": "@jupyter-widgets/controls",
      "model_module_version": "1.4.0",
      "model_name": "ButtonModel",
      "state": {
       "description": "Criar projeto",
       "layout": "IPY_MODEL_28df588a361f4b00a789c3c4dc9ec193",
       "style": "IPY_MODEL_ee6f01828599447cac2fe33666517502",
       "tooltip": "Cria um novo projeto"
      }
     },
     "ef458d353c7247ce89143d735f2a09bf": {
      "model_module": "@jupyter-widgets/controls",
      "model_module_version": "1.4.0",
      "model_name": "ProgressStyleModel",
      "state": {
       "description_width": ""
      }
     },
     "ef896181bcfd4c7fb8edc7efd8676321": {
      "model_module": "@jupyter-widgets/controls",
      "model_module_version": "1.4.0",
      "model_name": "DescriptionStyleModel",
      "state": {
       "description_width": ""
      }
     },
     "efddb5c782294ed6af50c7723d7f76da": {
      "model_module": "@jupyter-widgets/controls",
      "model_module_version": "1.4.0",
      "model_name": "FloatTextModel",
      "state": {
       "layout": "IPY_MODEL_1605faa3bf5f450391d5849334af70ab",
       "step": null,
       "style": "IPY_MODEL_9b8a9ee5ad4643f4a3f9342eb713fe4e",
       "value": 500
      }
     },
     "f054edca757942f1a6955d3c7a24ae82": {
      "model_module": "@jupyter-widgets/base",
      "model_module_version": "1.1.0",
      "model_name": "LayoutModel",
      "state": {}
     },
     "f0747acb5ddd4fa99498d5b18fb0b213": {
      "model_module": "@jupyter-widgets/controls",
      "model_module_version": "1.4.0",
      "model_name": "AccordionModel",
      "state": {
       "_titles": {
        "0": "Criar projeto",
        "1": "Importar projeto"
       },
       "children": [
        "IPY_MODEL_06821f0efe8f4b20a7fa9e9f228c074e",
        "IPY_MODEL_265415d4c63345909363b0ed74467fdb"
       ],
       "layout": "IPY_MODEL_3a92c07efa8a4b32beb206905bdeccbe"
      }
     },
     "f0844d92e887486890d0bdd51ad593c2": {
      "model_module": "@jupyter-widgets/controls",
      "model_module_version": "1.4.0",
      "model_name": "ToggleButtonsStyleModel",
      "state": {
       "button_width": ""
      }
     },
     "f08e9844989e4246b242180220881c64": {
      "model_module": "@jupyter-widgets/base",
      "model_module_version": "1.1.0",
      "model_name": "LayoutModel",
      "state": {}
     },
     "f09bf835f603464a9179594645d0089f": {
      "model_module": "@jupyter-widgets/base",
      "model_module_version": "1.1.0",
      "model_name": "LayoutModel",
      "state": {}
     },
     "f0c3a9087043497e804e8235c623a47a": {
      "model_module": "@jupyter-widgets/controls",
      "model_module_version": "1.4.0",
      "model_name": "DescriptionStyleModel",
      "state": {
       "description_width": ""
      }
     },
     "f0f858672276416ab3107b83e1e272c8": {
      "model_module": "@jupyter-widgets/controls",
      "model_module_version": "1.4.0",
      "model_name": "AccordionModel",
      "state": {
       "_titles": {
        "0": "Escolha da(s) pista(s) de vento"
       },
       "children": [
        "IPY_MODEL_3e66b265fdd64cd4993b19e2d85ee985"
       ],
       "layout": "IPY_MODEL_ce524613b0a84d56b971cf9d14594ff6"
      }
     },
     "f15c3dfd84b64751b709955fd5491e84": {
      "model_module": "@jupyter-widgets/controls",
      "model_module_version": "1.4.0",
      "model_name": "ButtonStyleModel",
      "state": {}
     },
     "f176577139904696a00ab704d6d94796": {
      "model_module": "@jupyter-widgets/controls",
      "model_module_version": "1.4.0",
      "model_name": "ButtonModel",
      "state": {
       "description": "Importar .shp de malha processada",
       "layout": "IPY_MODEL_b6a59fbbf17d44658b50b5782fcad8e8",
       "style": "IPY_MODEL_d941a52f9c4740448bf700bdb9661918",
       "tooltip": "Importa um .shp que teve sua malha processada"
      }
     },
     "f19201072a0c41a0a1ed5f4be9a646e9": {
      "model_module": "@jupyter-widgets/controls",
      "model_module_version": "1.4.0",
      "model_name": "DescriptionStyleModel",
      "state": {
       "description_width": "initial"
      }
     },
     "f19a7e09e080494da5749b6292143329": {
      "model_module": "@jupyter-widgets/controls",
      "model_module_version": "1.4.0",
      "model_name": "AccordionModel",
      "state": {
       "_titles": {
        "0": "Importar .shp",
        "1": "Importar .shp de malha processada"
       },
       "children": [
        "IPY_MODEL_85ffaff8dead40078798773a6ec72979",
        "IPY_MODEL_6d946d2cc86443deab5655bdf2e1b88e"
       ],
       "layout": "IPY_MODEL_b052150122ce4d9a905101c23b7f35a9",
       "selected_index": 1
      }
     },
     "f1acd8154412409cad0a52dd7d77f471": {
      "model_module": "@jupyter-widgets/controls",
      "model_module_version": "1.4.0",
      "model_name": "ProgressStyleModel",
      "state": {
       "description_width": ""
      }
     },
     "f1d58f6cfefa4fb1a218968322f86d98": {
      "model_module": "@jupyter-widgets/controls",
      "model_module_version": "1.4.0",
      "model_name": "ButtonStyleModel",
      "state": {}
     },
     "f1ffe565b2f54676ab0bf85d417ad4ad": {
      "model_module": "@jupyter-widgets/controls",
      "model_module_version": "1.4.0",
      "model_name": "AccordionModel",
      "state": {
       "_titles": {
        "0": "Nome desejado para o .shp:",
        "1": "Georreferenciamento:",
        "2": "Malha: (m)"
       },
       "children": [
        "IPY_MODEL_08fdab8b015f4217b486323cae15e495",
        "IPY_MODEL_3bcb2a5d9e374490a292b2cc2f0eb27e",
        "IPY_MODEL_f97b036b1895443598682a528355b717"
       ],
       "layout": "IPY_MODEL_cf92a9c5cd3c4870bd5cbf4fe4604f10",
       "selected_index": 2
      }
     },
     "f211f29c2cc9402f95bc210d8c866603": {
      "model_module": "@jupyter-widgets/base",
      "model_module_version": "1.1.0",
      "model_name": "LayoutModel",
      "state": {}
     },
     "f27502eff89840238d394c7c8dd4984d": {
      "model_module": "@jupyter-widgets/controls",
      "model_module_version": "1.4.0",
      "model_name": "ProgressStyleModel",
      "state": {
       "description_width": ""
      }
     },
     "f276e789ca1648009fd93e7eff05f25f": {
      "model_module": "@jupyter-widgets/controls",
      "model_module_version": "1.4.0",
      "model_name": "DescriptionStyleModel",
      "state": {
       "description_width": ""
      }
     },
     "f290e73eb30e4f1f8c3da25812aa2956": {
      "model_module": "@jupyter-widgets/controls",
      "model_module_version": "1.4.0",
      "model_name": "ProgressStyleModel",
      "state": {
       "description_width": ""
      }
     },
     "f2c33fdc8ad7479e9d1b821d92be8525": {
      "model_module": "@jupyter-widgets/controls",
      "model_module_version": "1.4.0",
      "model_name": "ButtonModel",
      "state": {
       "description": "Carregar pista(s) de vento já processada(s)",
       "layout": "IPY_MODEL_ea1dfd3168c940dcb0aa450339c4536e",
       "style": "IPY_MODEL_0bce2c34c03f4ab3b99288f486fce0fd",
       "tooltip": "Carrega pista(s) de vento já processada(s)"
      }
     },
     "f30efca6c93a4625aa38cd3db9bd2c9f": {
      "model_module": "@jupyter-widgets/controls",
      "model_module_version": "1.4.0",
      "model_name": "ButtonStyleModel",
      "state": {}
     },
     "f32e57ab1e844fceb79f13507f27a7e7": {
      "model_module": "@jupyter-widgets/base",
      "model_module_version": "1.1.0",
      "model_name": "LayoutModel",
      "state": {}
     },
     "f344bbe2464c47039988fd775b35be9d": {
      "model_module": "@jupyter-widgets/base",
      "model_module_version": "1.1.0",
      "model_name": "LayoutModel",
      "state": {}
     },
     "f350fc8ec1174084a46c772282bc7b17": {
      "model_module": "@jupyter-widgets/base",
      "model_module_version": "1.1.0",
      "model_name": "LayoutModel",
      "state": {}
     },
     "f395bb5cec7f44fcb550761e9d75aef6": {
      "model_module": "@jupyter-widgets/base",
      "model_module_version": "1.1.0",
      "model_name": "LayoutModel",
      "state": {}
     },
     "f397c51259954bc0971443ee4b8f071d": {
      "model_module": "@jupyter-widgets/controls",
      "model_module_version": "1.4.0",
      "model_name": "AccordionModel",
      "state": {
       "_titles": {
        "0": "Escolha da(s) pista(s) de vento"
       },
       "children": [
        "IPY_MODEL_5f1f96daf4c247a5bf495925d4c97985"
       ],
       "layout": "IPY_MODEL_5280cd13d62b4272b17eac22237b3822"
      }
     },
     "f3b763c512bd4069990f805285fa7ebd": {
      "model_module": "@jupyter-widgets/controls",
      "model_module_version": "1.4.0",
      "model_name": "SelectMultipleModel",
      "state": {
       "_options_labels": [
        "N (0.0°)",
        "NNE (22.5°)",
        "NE (45.0°)",
        "ENE (67.5°)",
        "E (90.0°)",
        "ESE (112.5°)",
        "SE (135.0°)",
        "SSE (157.5°)",
        "S (180.0°)",
        "SSW (202.5°)",
        "SW (225.0°)",
        "WSW (247.5°)",
        "W (270.0°)",
        "WNW (292.5°)",
        "NW (315.0°)",
        "NNW (337.5°)"
       ],
       "description": "Selecione a direção (°) desejada:",
       "index": [],
       "layout": "IPY_MODEL_b6a76f1c41b04f97b79c303957a3040a",
       "rows": 5,
       "style": "IPY_MODEL_cd397e902c724b92b5f50b8cbd7b516a"
      }
     },
     "f3bcee0baf234e1b813d89afc26aaff0": {
      "model_module": "@jupyter-widgets/controls",
      "model_module_version": "1.4.0",
      "model_name": "TextModel",
      "state": {
       "description": "Outra direção (°):",
       "layout": "IPY_MODEL_3f38d1460c7a4806aabf568f36d31f85",
       "style": "IPY_MODEL_69c07e866ea14a6d9057dacea1b0c9bb"
      }
     },
     "f3cade1c90cd4b0c9afa78733f0573a4": {
      "model_module": "@jupyter-widgets/controls",
      "model_module_version": "1.4.0",
      "model_name": "DescriptionStyleModel",
      "state": {
       "description_width": "initial"
      }
     },
     "f3da755d412c40908741c42df29e090c": {
      "model_module": "@jupyter-widgets/base",
      "model_module_version": "1.1.0",
      "model_name": "LayoutModel",
      "state": {}
     },
     "f3fe579584fa4f61a0ff881bfa13521c": {
      "model_module": "@jupyter-widgets/base",
      "model_module_version": "1.1.0",
      "model_name": "LayoutModel",
      "state": {
       "width": "30%"
      }
     },
     "f48060d9f05c4a7ebaf06dc0116190e1": {
      "model_module": "@jupyter-widgets/base",
      "model_module_version": "1.1.0",
      "model_name": "LayoutModel",
      "state": {}
     },
     "f4a232e728374283816dcb674efcab61": {
      "model_module": "@jupyter-widgets/base",
      "model_module_version": "1.1.0",
      "model_name": "LayoutModel",
      "state": {}
     },
     "f4a913a15c2e40e08d43df04137a7383": {
      "model_module": "@jupyter-widgets/controls",
      "model_module_version": "1.4.0",
      "model_name": "FloatTextModel",
      "state": {
       "layout": "IPY_MODEL_6c98617fa63e44f0af463aa3f48845d2",
       "step": null,
       "style": "IPY_MODEL_148888eb465f43bd97499966a6928d6b"
      }
     },
     "f510e23fcdca4ac9abaf95dcaaf9da9b": {
      "model_module": "@jupyter-widgets/controls",
      "model_module_version": "1.4.0",
      "model_name": "FloatProgressModel",
      "state": {
       "description": "45.0°:",
       "layout": "IPY_MODEL_89643481798c491689f11322968d0ab9",
       "max": 1,
       "style": "IPY_MODEL_ae6cc98f82264d7089a6f0181e53e495",
       "value": 1
      }
     },
     "f516105056f34d2aa190614af6be9084": {
      "model_module": "@jupyter-widgets/base",
      "model_module_version": "1.1.0",
      "model_name": "LayoutModel",
      "state": {}
     },
     "f52720d658fa458581e266e912638809": {
      "model_module": "@jupyter-widgets/base",
      "model_module_version": "1.1.0",
      "model_name": "LayoutModel",
      "state": {}
     },
     "f53607d858334b4aab7e6dc23ef5dfa3": {
      "model_module": "@jupyter-widgets/base",
      "model_module_version": "1.1.0",
      "model_name": "LayoutModel",
      "state": {}
     },
     "f5622766fad448afb7e13e59c0e962e4": {
      "model_module": "@jupyter-widgets/controls",
      "model_module_version": "1.4.0",
      "model_name": "ButtonModel",
      "state": {
       "description": "Carregar pista(s) de vento já processada(s)",
       "layout": "IPY_MODEL_51fead09b1fa41afa9dcc34ca9067277",
       "style": "IPY_MODEL_b9d08f28f72f4502984d1e1e21e49a21",
       "tooltip": "Carrega pista(s) de vento já processada(s)"
      }
     },
     "f5a4c3952ff0476a8048e5ba93576aa6": {
      "model_module": "@jupyter-widgets/controls",
      "model_module_version": "1.4.0",
      "model_name": "ToggleButtonsModel",
      "state": {
       "_options_labels": [
        "Uma direção",
        "Todas as direções",
        "Outra direção"
       ],
       "button_style": "",
       "icons": [],
       "index": 0,
       "layout": "IPY_MODEL_aee16dccbb97468e9d0b4e58c5a79daf",
       "style": "IPY_MODEL_414c68e89fe9473e8a93921121520624",
       "tooltips": []
      }
     },
     "f5b8eed9150e438fab9a5949fe6aa012": {
      "model_module": "@jupyter-widgets/base",
      "model_module_version": "1.1.0",
      "model_name": "LayoutModel",
      "state": {}
     },
     "f5f868b296284fcebe5ac086d6e92780": {
      "model_module": "@jupyter-widgets/controls",
      "model_module_version": "1.4.0",
      "model_name": "ProgressStyleModel",
      "state": {
       "description_width": ""
      }
     },
     "f61c45af556f4c3e805223500bd5e127": {
      "model_module": "@jupyter-widgets/controls",
      "model_module_version": "1.4.0",
      "model_name": "DescriptionStyleModel",
      "state": {
       "description_width": ""
      }
     },
     "f61c7a93a68c48b89166b9ddde645969": {
      "model_module": "@jupyter-widgets/controls",
      "model_module_version": "1.4.0",
      "model_name": "TabModel",
      "state": {
       "_titles": {
        "0": "Malha",
        "1": "DPI da Imagem"
       },
       "children": [
        "IPY_MODEL_666330072b504d5ca5ee4f465d25dfd5",
        "IPY_MODEL_6d82044a444e4059a124464f253af768"
       ],
       "layout": "IPY_MODEL_48e6e1b877244dc68b79e78107998137"
      }
     },
     "f63ed593485841e2b82e6ac983a627a4": {
      "model_module": "@jupyter-widgets/controls",
      "model_module_version": "1.4.0",
      "model_name": "SelectMultipleModel",
      "state": {
       "_options_labels": [
        "0.0°",
        "22.5°",
        "45.0°",
        "67.5°",
        "90.0°",
        "112.5°",
        "135.0°"
       ],
       "index": [
        0,
        2,
        4,
        6
       ],
       "layout": "IPY_MODEL_ef03474e86cc47c9b7cc6b2d592d054d",
       "rows": 5,
       "style": "IPY_MODEL_21cd9afae3d84806934b2804f89c86ba"
      }
     },
     "f67e6e21c9c64f3da0528159582d5861": {
      "model_module": "@jupyter-widgets/controls",
      "model_module_version": "1.4.0",
      "model_name": "TextModel",
      "state": {
       "layout": "IPY_MODEL_9af50d4553214035898681ff6f80de4c",
       "style": "IPY_MODEL_05e3e28378d04028a1198854e0413cf6",
       "value": "Teste"
      }
     },
     "f68637287f23457eacac18e1a9acfe03": {
      "model_module": "@jupyter-widgets/controls",
      "model_module_version": "1.4.0",
      "model_name": "AccordionModel",
      "state": {
       "_titles": {
        "0": "Escolha do esquema de cores desejado"
       },
       "children": [
        "IPY_MODEL_51c55514d68345a584bac645b5b47f52"
       ],
       "layout": "IPY_MODEL_0108f15dd22d47f5a9a921685aa92fcd"
      }
     },
     "f6c3a0e658b9489f81f52e8cc5d0b174": {
      "model_module": "@jupyter-widgets/base",
      "model_module_version": "1.1.0",
      "model_name": "LayoutModel",
      "state": {}
     },
     "f6d957700fed4221a15d4b1d16391462": {
      "model_module": "@jupyter-widgets/base",
      "model_module_version": "1.1.0",
      "model_name": "LayoutModel",
      "state": {}
     },
     "f7176b299be646dea6069506a46b712c": {
      "model_module": "@jupyter-widgets/base",
      "model_module_version": "1.1.0",
      "model_name": "LayoutModel",
      "state": {
       "width": "500px"
      }
     },
     "f755d40b5c9746f0aff20af769a95dc3": {
      "model_module": "@jupyter-widgets/controls",
      "model_module_version": "1.4.0",
      "model_name": "ButtonModel",
      "state": {
       "description": "Importar pista(s) de vento já processada(s)",
       "layout": "IPY_MODEL_8a44d60c30f7406993a44edb1553a4bb",
       "style": "IPY_MODEL_3386105766d142d9bc8fb5065295c448",
       "tooltip": "Importa pista(s) de vento já processada(s)"
      }
     },
     "f757b22f9a5b4f76b57d098d640f3b54": {
      "model_module": "@jupyter-widgets/controls",
      "model_module_version": "1.4.0",
      "model_name": "AccordionModel",
      "state": {
       "_titles": {
        "0": "Direções convencionais",
        "1": "Direção específica"
       },
       "children": [
        "IPY_MODEL_82ad0054923a4b39b15233e0b87a93cb",
        "IPY_MODEL_4ce38622b0d943daaf108dc0b30f477d"
       ],
       "layout": "IPY_MODEL_221dd97e7e4c4ad7b848e04e85d04391"
      }
     },
     "f7676757cbfe4a7abef8a925146b557b": {
      "model_module": "@jupyter-widgets/controls",
      "model_module_version": "1.4.0",
      "model_name": "DropdownModel",
      "state": {
       "_options_labels": [
        "Accent",
        "afmhot",
        "autumn",
        "binary",
        "Blues",
        "bone",
        "BrBG",
        "brg",
        "BuGn",
        "BuPu",
        "bwr",
        "CMRmap",
        "cool",
        "coolwarm",
        "copper",
        "cubehelix",
        "Dark2",
        "flag",
        "gist_earth",
        "gist_gray",
        "gist_heat",
        "gist_ncar",
        "gist_rainbow",
        "gist_stern",
        "gist_yarg",
        "GnBu",
        "gnuplot",
        "gnuplot2",
        "gray",
        "Greens",
        "Greys",
        "hot",
        "hsv",
        "inferno",
        "jet",
        "magma",
        "nipy_spectral",
        "ocean",
        "Oranges",
        "OrRd",
        "Paired",
        "Pastel1",
        "Pastel2",
        "pink",
        "PiYG",
        "plasma",
        "PRGn",
        "prism",
        "PuBu",
        "PuBuGn",
        "PuOr",
        "PuRd",
        "Purples",
        "rainbow",
        "RdBu",
        "RdGy",
        "RdPu",
        "RdYlBu",
        "RdYlGn",
        "Reds",
        "seismic",
        "Set1",
        "Set2",
        "Set3",
        "Spectral",
        "spring",
        "summer",
        "tab10",
        "tab20",
        "tab20b",
        "tab20c",
        "terrain",
        "viridis",
        "winter",
        "Wistia",
        "YlGn",
        "YlGnBu",
        "YlOrBr",
        "YlOrRd"
       ],
       "description": "Selecione o esquema de cores desejado para a imagem:",
       "index": 32,
       "layout": "IPY_MODEL_c1e0cd0719004129a179b9081107da74",
       "style": "IPY_MODEL_4533ea5add794c09bde7d9731c9cae2f"
      }
     },
     "f77c54556bef4b558100db5346a29b30": {
      "model_module": "@jupyter-widgets/base",
      "model_module_version": "1.1.0",
      "model_name": "LayoutModel",
      "state": {
       "width": "500px"
      }
     },
     "f77de213145d42c09f5441998ba97353": {
      "model_module": "@jupyter-widgets/base",
      "model_module_version": "1.1.0",
      "model_name": "LayoutModel",
      "state": {}
     },
     "f790f775a53745628a25a4bb3ef6c97e": {
      "model_module": "@jupyter-widgets/controls",
      "model_module_version": "1.4.0",
      "model_name": "DescriptionStyleModel",
      "state": {
       "description_width": "initial"
      }
     },
     "f79264919c054eddb564ea706730596b": {
      "model_module": "@jupyter-widgets/controls",
      "model_module_version": "1.4.0",
      "model_name": "SelectMultipleModel",
      "state": {
       "_options_labels": [
        "0.0°",
        "22.5°",
        "45.0°",
        "67.5°",
        "90.0°",
        "112.5°",
        "135.0°",
        "157.5°",
        "180.0°",
        "202.5°",
        "225.0°",
        "247.5°",
        "270.0°",
        "292.5°",
        "315.0°",
        "337.5°"
       ],
       "description": "Selecione a(s) direção(ões) (°) desejada(s):",
       "index": [
        6
       ],
       "layout": "IPY_MODEL_bcc1eb3ee60d46f194803a16121cc307",
       "rows": 5,
       "style": "IPY_MODEL_0f3b931f09e34393945a4ac3670db5f9"
      }
     },
     "f7c3b75727a7411e91b3da868282b346": {
      "model_module": "@jupyter-widgets/base",
      "model_module_version": "1.1.0",
      "model_name": "LayoutModel",
      "state": {}
     },
     "f7d95bb6a7f24f1e856e56fa10096449": {
      "model_module": "@jupyter-widgets/controls",
      "model_module_version": "1.4.0",
      "model_name": "FloatProgressModel",
      "state": {
       "description": "0.00°:",
       "layout": "IPY_MODEL_9f732186aa8b461a9c4cb567e93f5381",
       "max": 1,
       "style": "IPY_MODEL_a974e7cc4553488d8adf657e7d80b1b0",
       "value": 1
      }
     },
     "f809c92345e141c1b2d782c6f646811e": {
      "model_module": "@jupyter-widgets/base",
      "model_module_version": "1.1.0",
      "model_name": "LayoutModel",
      "state": {
       "width": "400px"
      }
     },
     "f80dd998664a487caee7db9f3ded671e": {
      "model_module": "@jupyter-widgets/base",
      "model_module_version": "1.1.0",
      "model_name": "LayoutModel",
      "state": {
       "width": "500px"
      }
     },
     "f81618eb0e55475587148e3d8a22c06b": {
      "model_module": "@jupyter-widgets/base",
      "model_module_version": "1.1.0",
      "model_name": "LayoutModel",
      "state": {}
     },
     "f876ea1bfd7b4fb3864c39ab3a3d37ba": {
      "model_module": "@jupyter-widgets/base",
      "model_module_version": "1.1.0",
      "model_name": "LayoutModel",
      "state": {}
     },
     "f887c5d475724a8e98e76f734ee823d5": {
      "model_module": "@jupyter-widgets/controls",
      "model_module_version": "1.4.0",
      "model_name": "SelectMultipleModel",
      "state": {
       "_options_labels": [
        "N (0.0°)",
        "NNE (22.5°)",
        "NE (45.0°)",
        "ENE (67.5°)",
        "E (90.0°)",
        "ESE (112.5°)",
        "SE (135.0°)",
        "SSE (157.5°)",
        "S (180.0°)",
        "SSW (202.5°)",
        "SW (225.0°)",
        "WSW (247.5°)",
        "W (270.0°)",
        "WNW (292.5°)",
        "NW (315.0°)",
        "NNW (337.5°)",
        "N (360.0°)"
       ],
       "description": "Selecione a direção (°) desejada:",
       "index": [
        0,
        2,
        4,
        6,
        8,
        10,
        12,
        14,
        16
       ],
       "layout": "IPY_MODEL_43d56a1783894e75bc29ca7817c32821",
       "rows": 5,
       "style": "IPY_MODEL_b100f2b7025b4da5b425036b97e84c3a"
      }
     },
     "f8a363a16b6446658fd02783f586c781": {
      "model_module": "@jupyter-widgets/base",
      "model_module_version": "1.1.0",
      "model_name": "LayoutModel",
      "state": {}
     },
     "f8cf580ea13543d38453d3eb1edc766a": {
      "model_module": "@jupyter-widgets/base",
      "model_module_version": "1.1.0",
      "model_name": "LayoutModel",
      "state": {}
     },
     "f94991b5106e43ad92dd74d04e41708f": {
      "model_module": "@jupyter-widgets/controls",
      "model_module_version": "1.4.0",
      "model_name": "AccordionModel",
      "state": {
       "_titles": {
        "0": "Malha (m)"
       },
       "children": [
        "IPY_MODEL_2a52f90970ff47f2b718d1803e4af0fc"
       ],
       "layout": "IPY_MODEL_c3d2454a033d4eb7b129e902899c2088"
      }
     },
     "f97b036b1895443598682a528355b717": {
      "model_module": "@jupyter-widgets/controls",
      "model_module_version": "1.4.0",
      "model_name": "FloatTextModel",
      "state": {
       "layout": "IPY_MODEL_e3e645dbf4234f7a873c79c5919c90e0",
       "step": null,
       "style": "IPY_MODEL_0edc58a03d54490798a76488b0c05cb4",
       "value": 200
      }
     },
     "f99ab5c80a424f03b487b3a404496f4a": {
      "model_module": "@jupyter-widgets/base",
      "model_module_version": "1.1.0",
      "model_name": "LayoutModel",
      "state": {}
     },
     "f99d575436664ddbb46a4f160458178d": {
      "model_module": "@jupyter-widgets/controls",
      "model_module_version": "1.4.0",
      "model_name": "AccordionModel",
      "state": {
       "_titles": {
        "0": "Criar projeto",
        "1": "Carregar projeto"
       },
       "children": [
        "IPY_MODEL_22faac17d986444588860a4a869982c2",
        "IPY_MODEL_401e1ea6311b412e8d12bb507ce96020"
       ],
       "layout": "IPY_MODEL_b9c6a9a2ac0d4b06ba370592e717f5df"
      }
     },
     "f9ae9c2cfdf2472b97f29f90df362114": {
      "model_module": "@jupyter-widgets/base",
      "model_module_version": "1.1.0",
      "model_name": "LayoutModel",
      "state": {}
     },
     "f9d638d15e3b42fd94b042e8e82c0ffa": {
      "model_module": "@jupyter-widgets/base",
      "model_module_version": "1.1.0",
      "model_name": "LayoutModel",
      "state": {}
     },
     "fa234837da41498bb23afe716230171e": {
      "model_module": "@jupyter-widgets/base",
      "model_module_version": "1.1.0",
      "model_name": "LayoutModel",
      "state": {}
     },
     "fa26f83e6d0b4b7db05cd6b5817c5f45": {
      "model_module": "@jupyter-widgets/controls",
      "model_module_version": "1.4.0",
      "model_name": "ButtonModel",
      "state": {
       "description": "Importar pista(s) de vento processada(s)",
       "layout": "IPY_MODEL_eeb832110a874669a620d3cacba288e7",
       "style": "IPY_MODEL_e164a93c05164a0ebce4e7d935bbe42a",
       "tooltip": "Importa pista(s) de vento processada(s)"
      }
     },
     "fa3cf2dbdf474f23a37cdfec17411407": {
      "model_module": "@jupyter-widgets/controls",
      "model_module_version": "1.4.0",
      "model_name": "ButtonModel",
      "state": {
       "description": "Carregar .shp",
       "layout": "IPY_MODEL_0ef33369f0254382b7985171e8d5deb2",
       "style": "IPY_MODEL_5909ede514094af9aba71c1c62d54508",
       "tooltip": "Carrega um .shp para processamento"
      }
     },
     "fa5c11272b0d42d1bed090408366a199": {
      "model_module": "@jupyter-widgets/controls",
      "model_module_version": "1.4.0",
      "model_name": "ButtonStyleModel",
      "state": {}
     },
     "fa608bac6d2242ea81b5f923df9f3196": {
      "model_module": "@jupyter-widgets/controls",
      "model_module_version": "1.4.0",
      "model_name": "AccordionModel",
      "state": {
       "_titles": {
        "0": "Escolha do esquema de cores desejado"
       },
       "children": [
        "IPY_MODEL_caa9247815c448fa901a4bfeccff3412"
       ],
       "layout": "IPY_MODEL_12654f0bbf1143d2928b7d5a84c0bd74"
      }
     },
     "fa786d81cc0a4080a26d20b054d7b763": {
      "model_module": "@jupyter-widgets/base",
      "model_module_version": "1.1.0",
      "model_name": "LayoutModel",
      "state": {}
     },
     "fac028adcb34444bb4b6fe1f73eb9db4": {
      "model_module": "@jupyter-widgets/base",
      "model_module_version": "1.1.0",
      "model_name": "LayoutModel",
      "state": {
       "width": "400px"
      }
     },
     "fad1e8a28f6745429738ea7387e6dd6c": {
      "model_module": "@jupyter-widgets/controls",
      "model_module_version": "1.4.0",
      "model_name": "TabModel",
      "state": {
       "_titles": {
        "0": "Pistas de vento",
        "1": "DPI",
        "2": "Esquema de cores"
       },
       "children": [
        "IPY_MODEL_01984b26009c4d999e8f96888e7702cb",
        "IPY_MODEL_637dda8569264c1299d530c92cc046cf",
        "IPY_MODEL_d77392e85d574a79aea6c8676a480c91"
       ],
       "layout": "IPY_MODEL_f9d638d15e3b42fd94b042e8e82c0ffa",
       "selected_index": 2
      }
     },
     "faddddeba30b40d28f8739157f280506": {
      "model_module": "@jupyter-widgets/base",
      "model_module_version": "1.1.0",
      "model_name": "LayoutModel",
      "state": {}
     },
     "fadf34ca4247406ea97239e7dea43fef": {
      "model_module": "@jupyter-widgets/base",
      "model_module_version": "1.1.0",
      "model_name": "LayoutModel",
      "state": {}
     },
     "fafc33b1d2d34acfaeb14fa886470b8d": {
      "model_module": "@jupyter-widgets/controls",
      "model_module_version": "1.4.0",
      "model_name": "TabModel",
      "state": {
       "_titles": {
        "0": "Malha"
       },
       "children": [
        "IPY_MODEL_cecea5ecbcf4427faa0829347267d97e"
       ],
       "layout": "IPY_MODEL_9e2c5b80d263441d84317e36f707bce6"
      }
     },
     "fb3693e110934a5a99ced93b092ce6ce": {
      "model_module": "@jupyter-widgets/controls",
      "model_module_version": "1.4.0",
      "model_name": "AccordionModel",
      "state": {
       "_titles": {
        "0": "Escolha da(s) pista(s) de vento"
       },
       "children": [
        "IPY_MODEL_7e246f2aeec146d68bfe4e08765eb940"
       ],
       "layout": "IPY_MODEL_f77de213145d42c09f5441998ba97353"
      }
     },
     "fba3fa15c3f44ff395763231007287c2": {
      "model_module": "@jupyter-widgets/base",
      "model_module_version": "1.1.0",
      "model_name": "LayoutModel",
      "state": {}
     },
     "fbc233a629b34fcd96e047f9a09f0496": {
      "model_module": "@jupyter-widgets/controls",
      "model_module_version": "1.4.0",
      "model_name": "TabModel",
      "state": {
       "_titles": {
        "0": "Pistas de Vento",
        "1": "Esquema de Cores"
       },
       "children": [
        "IPY_MODEL_97adfa520ad542f1a36d52315a775596",
        "IPY_MODEL_fa608bac6d2242ea81b5f923df9f3196"
       ],
       "layout": "IPY_MODEL_ad868e9470864cb7a55b77fbacfcc900"
      }
     },
     "fbd620f77fb84e459a05d70df8bec098": {
      "model_module": "@jupyter-widgets/base",
      "model_module_version": "1.1.0",
      "model_name": "LayoutModel",
      "state": {
       "width": "30%"
      }
     },
     "fbe9eb42efca46a2b82e039866f37cc6": {
      "model_module": "@jupyter-widgets/controls",
      "model_module_version": "1.4.0",
      "model_name": "AccordionModel",
      "state": {
       "_titles": {
        "0": "Criar projeto",
        "1": "Importar projeto"
       },
       "children": [
        "IPY_MODEL_b1cd3bb6fc7b43b8acaef028dddee7f7",
        "IPY_MODEL_2963a38eeb5b4c729bb892ae4cf2a544"
       ],
       "layout": "IPY_MODEL_9760142efd6e4549b9e00ebd13aede51",
       "selected_index": 1
      }
     },
     "fc2f8cabb4c4440c8f32c6e427bb8cf6": {
      "model_module": "@jupyter-widgets/controls",
      "model_module_version": "1.4.0",
      "model_name": "FloatTextModel",
      "state": {
       "description": "Outra direção (°):",
       "layout": "IPY_MODEL_da5cb0a97fe74b9a838a6eaf5be05a9b",
       "step": null,
       "style": "IPY_MODEL_20993877872940918eeb082e5202b93b"
      }
     },
     "fc5b254720f04d2e9f3f1df1f7ff5ba2": {
      "model_module": "@jupyter-widgets/controls",
      "model_module_version": "1.4.0",
      "model_name": "FloatProgressModel",
      "state": {
       "description": "0.00°:",
       "layout": "IPY_MODEL_e2d2cbb2f9114b60815ecc349f3e087d",
       "max": 1,
       "style": "IPY_MODEL_f290e73eb30e4f1f8c3da25812aa2956",
       "value": 1
      }
     },
     "fc65aa51c63043ef94f6627037b79c88": {
      "model_module": "@jupyter-widgets/base",
      "model_module_version": "1.1.0",
      "model_name": "LayoutModel",
      "state": {}
     },
     "fc7f880a76bd480c8c6ea2d8c4b08f32": {
      "model_module": "@jupyter-widgets/controls",
      "model_module_version": "1.4.0",
      "model_name": "DescriptionStyleModel",
      "state": {
       "description_width": "initial"
      }
     },
     "fccd505733a34369a03ee26b4d4c26a7": {
      "model_module": "@jupyter-widgets/controls",
      "model_module_version": "1.4.0",
      "model_name": "ButtonStyleModel",
      "state": {}
     },
     "fd00a27e8dd34c198705c005a0a9b258": {
      "model_module": "@jupyter-widgets/base",
      "model_module_version": "1.1.0",
      "model_name": "LayoutModel",
      "state": {}
     },
     "fd1a2503bd9147a6aea9b95aa980f073": {
      "model_module": "@jupyter-widgets/base",
      "model_module_version": "1.1.0",
      "model_name": "LayoutModel",
      "state": {
       "width": "500px"
      }
     },
     "fd5ffc355a6f4ea19f1909fc8f2f9811": {
      "model_module": "@jupyter-widgets/controls",
      "model_module_version": "1.4.0",
      "model_name": "ToggleButtonsStyleModel",
      "state": {
       "button_width": "",
       "description_width": ""
      }
     },
     "fd6f3304173847f791715262d5eec9d3": {
      "model_module": "@jupyter-widgets/base",
      "model_module_version": "1.1.0",
      "model_name": "LayoutModel",
      "state": {}
     },
     "fd9ac1ebc7754b93b49294ddac0298c3": {
      "model_module": "@jupyter-widgets/controls",
      "model_module_version": "1.4.0",
      "model_name": "ButtonModel",
      "state": {
       "description": "Criar projeto",
       "layout": "IPY_MODEL_f32e57ab1e844fceb79f13507f27a7e7",
       "style": "IPY_MODEL_11ba29e645594a14886981cc6e9e998b",
       "tooltip": "Cria um novo projeto"
      }
     },
     "fd9e602bbbf8476189121101842b9ade": {
      "model_module": "@jupyter-widgets/controls",
      "model_module_version": "1.4.0",
      "model_name": "AccordionModel",
      "state": {
       "_titles": {
        "0": "Métodos para obtenção dos fetchs"
       },
       "children": [
        "IPY_MODEL_7184bf75f693466a82441c592d4dddee"
       ],
       "layout": "IPY_MODEL_06b8ffdb7edc496a8561519e6d3d4d10"
      }
     },
     "fdbbec5aee6d4784b917a32722298b2b": {
      "model_module": "@jupyter-widgets/base",
      "model_module_version": "1.1.0",
      "model_name": "LayoutModel",
      "state": {
       "width": "30%"
      }
     },
     "fdbe351d0e38445386ee4c93fdbf706a": {
      "model_module": "@jupyter-widgets/controls",
      "model_module_version": "1.4.0",
      "model_name": "AccordionModel",
      "state": {
       "_titles": {
        "0": "Modelo para obtenção dos fetchs:",
        "1": "Direções desejadas:"
       },
       "children": [
        "IPY_MODEL_ce706bcd2b0d457c8be0b9220f32c63e",
        "IPY_MODEL_ce577764b18a4caea2f3b9f5b710f573"
       ],
       "layout": "IPY_MODEL_1c9b561ba81a465388c574a675c3ddba",
       "selected_index": 1
      }
     },
     "fdcbe3a8873c48febe78cf28cb386424": {
      "model_module": "@jupyter-widgets/base",
      "model_module_version": "1.1.0",
      "model_name": "LayoutModel",
      "state": {}
     },
     "fe16a45ff79446df8b6ec570f0c8ab35": {
      "model_module": "@jupyter-widgets/controls",
      "model_module_version": "1.4.0",
      "model_name": "ButtonModel",
      "state": {
       "description": "Carregar pista(s) de vento já processada(s)",
       "layout": "IPY_MODEL_3459dd8e4a66494e8e1dc8b11ae855d4",
       "style": "IPY_MODEL_cd979cf2d1534b28b69b973513d9dbe0",
       "tooltip": "Carrega pista(s) de vento já processada(s)"
      }
     },
     "fe494fc64b664f0f88e34402734b4004": {
      "model_module": "@jupyter-widgets/controls",
      "model_module_version": "1.4.0",
      "model_name": "ButtonStyleModel",
      "state": {}
     },
     "fe56ffb75bce48e39acd842b13d47566": {
      "model_module": "@jupyter-widgets/base",
      "model_module_version": "1.1.0",
      "model_name": "LayoutModel",
      "state": {}
     },
     "fe6361f101bb429880f857b186f30609": {
      "model_module": "@jupyter-widgets/controls",
      "model_module_version": "1.4.0",
      "model_name": "AccordionModel",
      "state": {
       "_titles": {
        "0": "Modelo para obtenção dos fetchs:",
        "1": "Direções desejadas:"
       },
       "children": [
        "IPY_MODEL_6ec36baede004149ad0a73f1d9512e87",
        "IPY_MODEL_b90be300b140427da2857b6c702bb2d5"
       ],
       "layout": "IPY_MODEL_ad2a4c54d1a34c3e918a8eb48923c68a",
       "selected_index": 1
      }
     },
     "fe7620a6b063420687b3a4589f2a6798": {
      "model_module": "@jupyter-widgets/base",
      "model_module_version": "1.1.0",
      "model_name": "LayoutModel",
      "state": {}
     },
     "fe9769538519488fb6e52b2f04f84f73": {
      "model_module": "@jupyter-widgets/controls",
      "model_module_version": "1.4.0",
      "model_name": "DescriptionStyleModel",
      "state": {
       "description_width": "initial"
      }
     },
     "feaf13d5f1c8485b8e67ab275c55a1e4": {
      "model_module": "@jupyter-widgets/base",
      "model_module_version": "1.1.0",
      "model_name": "LayoutModel",
      "state": {}
     },
     "fee2612cd2c740a0ae1813d2c2a27f92": {
      "model_module": "@jupyter-widgets/base",
      "model_module_version": "1.1.0",
      "model_name": "LayoutModel",
      "state": {}
     },
     "fee81d9454e44249b4bd19999c919a17": {
      "model_module": "@jupyter-widgets/controls",
      "model_module_version": "1.4.0",
      "model_name": "ProgressStyleModel",
      "state": {
       "description_width": ""
      }
     },
     "feeae5196c56463a95dd2a4e54b7fb49": {
      "model_module": "@jupyter-widgets/controls",
      "model_module_version": "1.4.0",
      "model_name": "FloatProgressModel",
      "state": {
       "description": "0.0°:",
       "layout": "IPY_MODEL_2cc2d889a31a488da1c09eacb4a2d16b",
       "max": 1,
       "style": "IPY_MODEL_66f6e06da0c3459e8869f2c781a47513",
       "value": 0.9999999999999862
      }
     },
     "ff285539c7cb4e0a976b218cff71f17f": {
      "model_module": "@jupyter-widgets/controls",
      "model_module_version": "1.4.0",
      "model_name": "SelectMultipleModel",
      "state": {
       "_options_labels": [
        "0.0°",
        "22.5°",
        "45.0°",
        "67.5°",
        "90.0°",
        "112.5°",
        "135.0°",
        "157.5°",
        "180.0°",
        "202.5°",
        "225.0°",
        "247.5°",
        "270.0°",
        "292.5°",
        "315.0°",
        "337.5°"
       ],
       "description": "Selecione a(s) direção(ões) (°) desejada(s):",
       "index": [
        0
       ],
       "layout": "IPY_MODEL_55b3b7aa94594f0882cdab38a9dd66ba",
       "rows": 5,
       "style": "IPY_MODEL_ecc54c81864a4fac83a72e1a3ff5425e"
      }
     },
     "ff3086ed590f4886a7e81adaa669d813": {
      "model_module": "@jupyter-widgets/controls",
      "model_module_version": "1.4.0",
      "model_name": "AccordionModel",
      "state": {
       "_titles": {
        "0": "Pistas de Vento"
       },
       "children": [
        "IPY_MODEL_da4d52d3c63a41e3a08b8a65303de7e0"
       ],
       "layout": "IPY_MODEL_fa786d81cc0a4080a26d20b054d7b763"
      }
     },
     "ff660e68089f45d6bd8781369bd2de6f": {
      "model_module": "@jupyter-widgets/controls",
      "model_module_version": "1.4.0",
      "model_name": "ButtonModel",
      "state": {
       "description": "Carregar .shp",
       "layout": "IPY_MODEL_73f8762c66904da7a9280206c6c56a18",
       "style": "IPY_MODEL_8e8a50eb31f94be19a4dba49c0a25e32",
       "tooltip": "Carrega um .shp para processamento"
      }
     },
     "ff6c1c70f0bd43c68db226d809cf113f": {
      "model_module": "@jupyter-widgets/base",
      "model_module_version": "1.1.0",
      "model_name": "LayoutModel",
      "state": {
       "width": "30%"
      }
     },
     "ff9b54bf717e4ef6b963f7d3df324d21": {
      "model_module": "@jupyter-widgets/base",
      "model_module_version": "1.1.0",
      "model_name": "LayoutModel",
      "state": {}
     },
     "ffa5fb9d8ca749e29b02a2595c651e82": {
      "model_module": "@jupyter-widgets/controls",
      "model_module_version": "1.4.0",
      "model_name": "AccordionModel",
      "state": {
       "_titles": {
        "0": "Direções convencionais",
        "1": "Direção específica"
       },
       "children": [
        "IPY_MODEL_1985aba183ca40489f8e7b93ad13344e",
        "IPY_MODEL_e261afc5c04c4d79989a6f83f420cb88"
       ],
       "layout": "IPY_MODEL_294b04fb1fc140068d884bf4c20122a6"
      }
     },
     "ffac02aa93c44309a05f59db680383b3": {
      "model_module": "@jupyter-widgets/controls",
      "model_module_version": "1.4.0",
      "model_name": "DescriptionStyleModel",
      "state": {
       "description_width": ""
      }
     },
     "ffe3feb242234ffab002b580bfec796d": {
      "model_module": "@jupyter-widgets/controls",
      "model_module_version": "1.4.0",
      "model_name": "FloatTextModel",
      "state": {
       "layout": "IPY_MODEL_2dae5e98320745d19d91a1850fe45c58",
       "step": null,
       "style": "IPY_MODEL_3f8903e213254f23bf7b3ce358c44d7a"
      }
     }
    },
    "version_major": 2,
    "version_minor": 0
   }
  }
 },
 "nbformat": 4,
 "nbformat_minor": 2
}
